{
 "cells": [
  {
   "cell_type": "code",
   "execution_count": 1,
   "metadata": {},
   "outputs": [
    {
     "name": "stderr",
     "output_type": "stream",
     "text": [
      "/home/tsou/.conda/envs/pyg/lib/python3.10/site-packages/tqdm/auto.py:21: TqdmWarning: IProgress not found. Please update jupyter and ipywidgets. See https://ipywidgets.readthedocs.io/en/stable/user_install.html\n",
      "  from .autonotebook import tqdm as notebook_tqdm\n"
     ]
    },
    {
     "name": "stdout",
     "output_type": "stream",
     "text": [
      "=================[dataset is set to compas ]=================\n",
      "[Tensorflow] Set seed failed,details are: No module named 'tensorflow'\n",
      "[Pytorch] Seed set successfully\n",
      "[Pytorch Geometric] Seed set successfully\n",
      "[Sklearn] Seed set successfully\n",
      "=================[run config is loaded]=================\n"
     ]
    }
   ],
   "source": [
    "from trainer import *"
   ]
  },
  {
   "cell_type": "code",
   "execution_count": 2,
   "metadata": {},
   "outputs": [
    {
     "name": "stdout",
     "output_type": "stream",
     "text": [
      "epoch 0 -----------------------------------------\n",
      "epoch 1 -----------------------------------------\n",
      "epoch 2 -----------------------------------------\n",
      "epoch 3 -----------------------------------------\n",
      "epoch 4 -----------------------------------------\n",
      "done\n"
     ]
    }
   ],
   "source": [
    "test_run()"
   ]
  },
  {
   "cell_type": "code",
   "execution_count": 3,
   "metadata": {},
   "outputs": [
    {
     "data": {
      "text/plain": [
       "tensor([ 0.3754,  0.1806,  0.4032,  0.0362, -0.0314,  0.4220, -0.5714, -0.0105,\n",
       "        -0.6574, -0.4489,  0.3022], device='cuda:0', grad_fn=<DivBackward0>)"
      ]
     },
     "execution_count": 3,
     "metadata": {},
     "output_type": "execute_result"
    }
   ],
   "source": [
    "extractor = get_feature_importance_extractor()\n",
    "extractor.get()"
   ]
  },
  {
   "cell_type": "code",
   "execution_count": 4,
   "metadata": {},
   "outputs": [
    {
     "name": "stdout",
     "output_type": "stream",
     "text": [
      "=================[ 1 Fold ]=================\n",
      "train_data: torch.Size([3575, 11])\n",
      "train_label: torch.Size([3575])\n",
      "validation_data: torch.Size([397, 11])\n",
      "validation_label: torch.Size([397])\n",
      "test_data: torch.Size([994, 11])\n",
      "test_label: torch.Size([994])\n",
      "-----------------------------------------\n"
     ]
    },
    {
     "name": "stderr",
     "output_type": "stream",
     "text": [
      "Epoch 1: 100%|██████████| 4/4 [00:00<00:00, 10.62it/s, loss=43, acc=0.523, AUC=0.55, val_acc=0.63, val_AUC=0.679]\n",
      "Epoch 2: 100%|██████████| 4/4 [00:00<00:00, 39.61it/s, loss=28.1, acc=0.631, AUC=0.685, val_acc=0.63, val_AUC=0.726]\n",
      "Epoch 3: 100%|██████████| 4/4 [00:00<00:00, 174.39it/s, loss=27.8, acc=0.633, AUC=0.696, val_acc=0.637, val_AUC=0.737]\n",
      "Epoch 4: 100%|██████████| 4/4 [00:00<00:00, 166.56it/s, loss=27.5, acc=0.641, AUC=0.704, val_acc=0.652, val_AUC=0.741]\n",
      "Epoch 5: 100%|██████████| 4/4 [00:00<00:00, 174.59it/s, loss=27.4, acc=0.649, AUC=0.71, val_acc=0.673, val_AUC=0.744]\n",
      "Epoch 6: 100%|██████████| 4/4 [00:00<00:00, 167.69it/s, loss=27.2, acc=0.65, AUC=0.714, val_acc=0.675, val_AUC=0.745]\n",
      "Epoch 7: 100%|██████████| 4/4 [00:00<00:00, 172.75it/s, loss=27.2, acc=0.651, AUC=0.716, val_acc=0.675, val_AUC=0.746]\n",
      "Epoch 8: 100%|██████████| 4/4 [00:00<00:00, 156.36it/s, loss=27.1, acc=0.656, AUC=0.718, val_acc=0.69, val_AUC=0.746]\n",
      "Epoch 9: 100%|██████████| 4/4 [00:00<00:00, 178.17it/s, loss=27, acc=0.66, AUC=0.721, val_acc=0.685, val_AUC=0.746]\n",
      "Epoch 10: 100%|██████████| 4/4 [00:00<00:00, 178.32it/s, loss=26.9, acc=0.663, AUC=0.723, val_acc=0.685, val_AUC=0.746]\n",
      "Epoch 11: 100%|██████████| 4/4 [00:00<00:00, 177.94it/s, loss=26.9, acc=0.665, AUC=0.725, val_acc=0.685, val_AUC=0.746]\n",
      "Epoch 12: 100%|██████████| 4/4 [00:00<00:00, 189.24it/s, loss=26.8, acc=0.665, AUC=0.726, val_acc=0.685, val_AUC=0.746]\n",
      "Epoch 13: 100%|██████████| 4/4 [00:00<00:00, 170.62it/s, loss=26.8, acc=0.667, AUC=0.727, val_acc=0.685, val_AUC=0.746]\n",
      "Epoch 14: 100%|██████████| 4/4 [00:00<00:00, 162.36it/s, loss=26.8, acc=0.669, AUC=0.727, val_acc=0.685, val_AUC=0.746]\n",
      "Epoch 15: 100%|██████████| 4/4 [00:00<00:00, 165.39it/s, loss=26.7, acc=0.67, AUC=0.728, val_acc=0.685, val_AUC=0.745]\n",
      "Epoch 16: 100%|██████████| 4/4 [00:00<00:00, 188.77it/s, loss=26.7, acc=0.671, AUC=0.729, val_acc=0.685, val_AUC=0.745]\n",
      "Epoch 17: 100%|██████████| 4/4 [00:00<00:00, 197.70it/s, loss=26.7, acc=0.672, AUC=0.73, val_acc=0.683, val_AUC=0.745]\n",
      "Epoch 18: 100%|██████████| 4/4 [00:00<00:00, 196.03it/s, loss=26.7, acc=0.672, AUC=0.73, val_acc=0.683, val_AUC=0.745]\n",
      "Epoch 19: 100%|██████████| 4/4 [00:00<00:00, 171.36it/s, loss=26.6, acc=0.671, AUC=0.731, val_acc=0.683, val_AUC=0.745]\n",
      "Epoch 20: 100%|██████████| 4/4 [00:00<00:00, 145.26it/s, loss=26.6, acc=0.671, AUC=0.731, val_acc=0.688, val_AUC=0.745]\n",
      "Epoch 21: 100%|██████████| 4/4 [00:00<00:00, 182.37it/s, loss=26.6, acc=0.671, AUC=0.732, val_acc=0.688, val_AUC=0.745]\n",
      "Epoch 22: 100%|██████████| 4/4 [00:00<00:00, 165.69it/s, loss=26.6, acc=0.671, AUC=0.732, val_acc=0.688, val_AUC=0.745]\n",
      "Epoch 23: 100%|██████████| 4/4 [00:00<00:00, 180.23it/s, loss=26.6, acc=0.672, AUC=0.733, val_acc=0.685, val_AUC=0.745]\n",
      "Epoch 24: 100%|██████████| 4/4 [00:00<00:00, 190.85it/s, loss=26.6, acc=0.674, AUC=0.733, val_acc=0.683, val_AUC=0.745]\n",
      "Epoch 25: 100%|██████████| 4/4 [00:00<00:00, 196.75it/s, loss=26.5, acc=0.674, AUC=0.734, val_acc=0.683, val_AUC=0.746]\n",
      "Epoch 26: 100%|██████████| 4/4 [00:00<00:00, 194.12it/s, loss=26.5, acc=0.674, AUC=0.734, val_acc=0.68, val_AUC=0.745]\n",
      "Epoch 27: 100%|██████████| 4/4 [00:00<00:00, 196.92it/s, loss=26.5, acc=0.674, AUC=0.734, val_acc=0.68, val_AUC=0.745]\n",
      "Epoch 28: 100%|██████████| 4/4 [00:00<00:00, 195.10it/s, loss=26.5, acc=0.675, AUC=0.735, val_acc=0.68, val_AUC=0.745]\n",
      "Epoch 29: 100%|██████████| 4/4 [00:00<00:00, 196.38it/s, loss=26.5, acc=0.676, AUC=0.735, val_acc=0.68, val_AUC=0.745]\n",
      "Epoch 30: 100%|██████████| 4/4 [00:00<00:00, 196.54it/s, loss=26.5, acc=0.676, AUC=0.735, val_acc=0.68, val_AUC=0.745]\n",
      "Epoch 31: 100%|██████████| 4/4 [00:00<00:00, 195.38it/s, loss=26.5, acc=0.675, AUC=0.736, val_acc=0.68, val_AUC=0.745]\n",
      "Epoch 32: 100%|██████████| 4/4 [00:00<00:00, 196.14it/s, loss=26.4, acc=0.676, AUC=0.736, val_acc=0.68, val_AUC=0.745]\n",
      "Epoch 33: 100%|██████████| 4/4 [00:00<00:00, 195.93it/s, loss=26.4, acc=0.675, AUC=0.736, val_acc=0.68, val_AUC=0.745]\n",
      "Epoch 34: 100%|██████████| 4/4 [00:00<00:00, 195.46it/s, loss=26.4, acc=0.677, AUC=0.737, val_acc=0.68, val_AUC=0.745]\n",
      "Epoch 35: 100%|██████████| 4/4 [00:00<00:00, 196.55it/s, loss=26.4, acc=0.676, AUC=0.737, val_acc=0.683, val_AUC=0.745]\n",
      "Epoch 36: 100%|██████████| 4/4 [00:00<00:00, 194.17it/s, loss=26.4, acc=0.676, AUC=0.737, val_acc=0.683, val_AUC=0.745]\n",
      "Epoch 37: 100%|██████████| 4/4 [00:00<00:00, 195.16it/s, loss=26.4, acc=0.676, AUC=0.738, val_acc=0.685, val_AUC=0.744]\n",
      "Epoch 38: 100%|██████████| 4/4 [00:00<00:00, 195.06it/s, loss=26.4, acc=0.676, AUC=0.738, val_acc=0.685, val_AUC=0.744]\n",
      "Epoch 39: 100%|██████████| 4/4 [00:00<00:00, 197.15it/s, loss=26.4, acc=0.676, AUC=0.738, val_acc=0.685, val_AUC=0.744]\n",
      "Epoch 40: 100%|██████████| 4/4 [00:00<00:00, 196.65it/s, loss=26.4, acc=0.675, AUC=0.738, val_acc=0.683, val_AUC=0.744]\n",
      "Epoch 41: 100%|██████████| 4/4 [00:00<00:00, 194.29it/s, loss=26.3, acc=0.675, AUC=0.738, val_acc=0.68, val_AUC=0.744]\n",
      "Epoch 42: 100%|██████████| 4/4 [00:00<00:00, 178.69it/s, loss=26.3, acc=0.675, AUC=0.739, val_acc=0.683, val_AUC=0.744]\n",
      "Epoch 43: 100%|██████████| 4/4 [00:00<00:00, 155.95it/s, loss=26.3, acc=0.676, AUC=0.739, val_acc=0.683, val_AUC=0.744]\n",
      "Epoch 44: 100%|██████████| 4/4 [00:00<00:00, 168.46it/s, loss=26.3, acc=0.676, AUC=0.739, val_acc=0.683, val_AUC=0.744]\n",
      "Epoch 45: 100%|██████████| 4/4 [00:00<00:00, 181.70it/s, loss=26.3, acc=0.676, AUC=0.739, val_acc=0.683, val_AUC=0.744]\n",
      "Epoch 46: 100%|██████████| 4/4 [00:00<00:00, 191.37it/s, loss=26.3, acc=0.676, AUC=0.739, val_acc=0.685, val_AUC=0.745]\n",
      "Epoch 47: 100%|██████████| 4/4 [00:00<00:00, 196.36it/s, loss=26.3, acc=0.676, AUC=0.739, val_acc=0.685, val_AUC=0.745]\n",
      "Epoch 48: 100%|██████████| 4/4 [00:00<00:00, 198.18it/s, loss=26.3, acc=0.676, AUC=0.74, val_acc=0.685, val_AUC=0.745]\n",
      "Epoch 49: 100%|██████████| 4/4 [00:00<00:00, 197.23it/s, loss=26.3, acc=0.676, AUC=0.74, val_acc=0.685, val_AUC=0.745]\n",
      "Epoch 50: 100%|██████████| 4/4 [00:00<00:00, 198.42it/s, loss=26.3, acc=0.676, AUC=0.74, val_acc=0.685, val_AUC=0.745]\n"
     ]
    },
    {
     "name": "stdout",
     "output_type": "stream",
     "text": [
      "test_acc: 0.6670020222663879\n",
      "test_auc: 0.7302821235383669\n",
      "-----------------------------------------\n"
     ]
    },
    {
     "name": "stderr",
     "output_type": "stream",
     "text": [
      "wandb: WARNING Source type is set to 'repo' but some required information is missing from the environment. A job will not be created from this run. See https://docs.wandb.ai/guides/launch/create-job\n"
     ]
    },
    {
     "name": "stdout",
     "output_type": "stream",
     "text": [
      "=================[ 2 Fold ]=================\n",
      "train_data: torch.Size([3576, 11])\n",
      "train_label: torch.Size([3576])\n",
      "validation_data: torch.Size([397, 11])\n",
      "validation_label: torch.Size([397])\n",
      "test_data: torch.Size([993, 11])\n",
      "test_label: torch.Size([993])\n",
      "-----------------------------------------\n"
     ]
    },
    {
     "name": "stderr",
     "output_type": "stream",
     "text": [
      "Epoch 1: 100%|██████████| 4/4 [00:00<00:00, 23.40it/s, loss=45.9, acc=0.531, AUC=0.554, val_acc=0.592, val_AUC=0.654]\n",
      "Epoch 2: 100%|██████████| 4/4 [00:00<00:00, 183.53it/s, loss=28.2, acc=0.64, AUC=0.691, val_acc=0.615, val_AUC=0.696]\n",
      "Epoch 3: 100%|██████████| 4/4 [00:00<00:00, 187.31it/s, loss=27.6, acc=0.649, AUC=0.705, val_acc=0.577, val_AUC=0.705]\n",
      "Epoch 4: 100%|██████████| 4/4 [00:00<00:00, 186.76it/s, loss=28.6, acc=0.618, AUC=0.676, val_acc=0.549, val_AUC=0.705]\n",
      "Epoch 5: 100%|██████████| 4/4 [00:00<00:00, 181.22it/s, loss=28.5, acc=0.623, AUC=0.68, val_acc=0.574, val_AUC=0.708]\n",
      "Epoch 6: 100%|██████████| 4/4 [00:00<00:00, 183.77it/s, loss=27.8, acc=0.644, AUC=0.699, val_acc=0.592, val_AUC=0.711]\n",
      "Epoch 7: 100%|██████████| 4/4 [00:00<00:00, 184.92it/s, loss=27.5, acc=0.651, AUC=0.708, val_acc=0.607, val_AUC=0.712]\n",
      "Epoch 8: 100%|██████████| 4/4 [00:00<00:00, 184.66it/s, loss=27.4, acc=0.654, AUC=0.712, val_acc=0.607, val_AUC=0.714]\n",
      "Epoch 9: 100%|██████████| 4/4 [00:00<00:00, 182.16it/s, loss=27.3, acc=0.657, AUC=0.715, val_acc=0.605, val_AUC=0.714]\n",
      "Epoch 10: 100%|██████████| 4/4 [00:00<00:00, 182.17it/s, loss=27.3, acc=0.66, AUC=0.717, val_acc=0.61, val_AUC=0.715]\n",
      "Epoch 11: 100%|██████████| 4/4 [00:00<00:00, 184.38it/s, loss=27.2, acc=0.661, AUC=0.719, val_acc=0.61, val_AUC=0.716]\n",
      "Epoch 12: 100%|██████████| 4/4 [00:00<00:00, 196.79it/s, loss=27.2, acc=0.662, AUC=0.72, val_acc=0.61, val_AUC=0.716]\n",
      "Epoch 13: 100%|██████████| 4/4 [00:00<00:00, 197.68it/s, loss=27.1, acc=0.663, AUC=0.721, val_acc=0.61, val_AUC=0.717]\n",
      "Epoch 14: 100%|██████████| 4/4 [00:00<00:00, 196.78it/s, loss=27.1, acc=0.665, AUC=0.722, val_acc=0.612, val_AUC=0.717]\n",
      "Epoch 15: 100%|██████████| 4/4 [00:00<00:00, 197.98it/s, loss=27, acc=0.667, AUC=0.723, val_acc=0.61, val_AUC=0.717]\n",
      "Epoch 16: 100%|██████████| 4/4 [00:00<00:00, 197.58it/s, loss=27, acc=0.669, AUC=0.724, val_acc=0.607, val_AUC=0.717]\n",
      "Epoch 17: 100%|██████████| 4/4 [00:00<00:00, 197.19it/s, loss=27, acc=0.671, AUC=0.725, val_acc=0.61, val_AUC=0.717]\n",
      "Epoch 18: 100%|██████████| 4/4 [00:00<00:00, 197.51it/s, loss=27, acc=0.67, AUC=0.726, val_acc=0.61, val_AUC=0.716]\n",
      "Epoch 19: 100%|██████████| 4/4 [00:00<00:00, 196.51it/s, loss=26.9, acc=0.671, AUC=0.727, val_acc=0.617, val_AUC=0.716]\n",
      "Epoch 20: 100%|██████████| 4/4 [00:00<00:00, 197.79it/s, loss=26.9, acc=0.672, AUC=0.727, val_acc=0.617, val_AUC=0.716]\n",
      "Epoch 21: 100%|██████████| 4/4 [00:00<00:00, 196.92it/s, loss=26.9, acc=0.673, AUC=0.728, val_acc=0.622, val_AUC=0.717]\n",
      "Epoch 22: 100%|██████████| 4/4 [00:00<00:00, 195.98it/s, loss=26.9, acc=0.673, AUC=0.728, val_acc=0.622, val_AUC=0.716]\n",
      "Epoch 23: 100%|██████████| 4/4 [00:00<00:00, 188.37it/s, loss=26.9, acc=0.673, AUC=0.729, val_acc=0.625, val_AUC=0.716]\n",
      "Epoch 24: 100%|██████████| 4/4 [00:00<00:00, 196.08it/s, loss=26.9, acc=0.674, AUC=0.729, val_acc=0.627, val_AUC=0.716]\n",
      "Epoch 25: 100%|██████████| 4/4 [00:00<00:00, 196.04it/s, loss=26.8, acc=0.675, AUC=0.73, val_acc=0.632, val_AUC=0.717]\n",
      "Epoch 26: 100%|██████████| 4/4 [00:00<00:00, 196.58it/s, loss=26.8, acc=0.676, AUC=0.73, val_acc=0.632, val_AUC=0.716]\n",
      "Epoch 27: 100%|██████████| 4/4 [00:00<00:00, 196.46it/s, loss=26.8, acc=0.676, AUC=0.731, val_acc=0.63, val_AUC=0.717]\n",
      "Epoch 28: 100%|██████████| 4/4 [00:00<00:00, 198.85it/s, loss=26.8, acc=0.678, AUC=0.731, val_acc=0.63, val_AUC=0.716]\n",
      "Epoch 29: 100%|██████████| 4/4 [00:00<00:00, 196.56it/s, loss=26.8, acc=0.678, AUC=0.731, val_acc=0.63, val_AUC=0.716]\n",
      "Epoch 30: 100%|██████████| 4/4 [00:00<00:00, 197.64it/s, loss=26.8, acc=0.678, AUC=0.732, val_acc=0.63, val_AUC=0.716]\n",
      "Epoch 31: 100%|██████████| 4/4 [00:00<00:00, 197.58it/s, loss=26.8, acc=0.678, AUC=0.732, val_acc=0.627, val_AUC=0.716]\n",
      "Epoch 32: 100%|██████████| 4/4 [00:00<00:00, 189.65it/s, loss=26.8, acc=0.678, AUC=0.732, val_acc=0.627, val_AUC=0.716]\n",
      "Epoch 33: 100%|██████████| 4/4 [00:00<00:00, 180.37it/s, loss=26.7, acc=0.679, AUC=0.733, val_acc=0.625, val_AUC=0.716]\n",
      "Epoch 34: 100%|██████████| 4/4 [00:00<00:00, 194.20it/s, loss=26.7, acc=0.678, AUC=0.733, val_acc=0.625, val_AUC=0.716]\n",
      "Epoch 35: 100%|██████████| 4/4 [00:00<00:00, 197.80it/s, loss=26.7, acc=0.678, AUC=0.733, val_acc=0.625, val_AUC=0.716]\n",
      "Epoch 36: 100%|██████████| 4/4 [00:00<00:00, 196.09it/s, loss=26.7, acc=0.68, AUC=0.733, val_acc=0.625, val_AUC=0.716]\n",
      "Epoch 37: 100%|██████████| 4/4 [00:00<00:00, 196.11it/s, loss=26.7, acc=0.68, AUC=0.734, val_acc=0.625, val_AUC=0.716]\n",
      "Epoch 38: 100%|██████████| 4/4 [00:00<00:00, 196.60it/s, loss=26.7, acc=0.68, AUC=0.734, val_acc=0.625, val_AUC=0.716]\n",
      "Epoch 39: 100%|██████████| 4/4 [00:00<00:00, 196.33it/s, loss=26.7, acc=0.682, AUC=0.734, val_acc=0.625, val_AUC=0.717]\n",
      "Epoch 40: 100%|██████████| 4/4 [00:00<00:00, 197.01it/s, loss=26.7, acc=0.682, AUC=0.734, val_acc=0.625, val_AUC=0.717]\n",
      "Epoch 41: 100%|██████████| 4/4 [00:00<00:00, 194.52it/s, loss=26.7, acc=0.681, AUC=0.735, val_acc=0.625, val_AUC=0.717]\n",
      "Epoch 42: 100%|██████████| 4/4 [00:00<00:00, 196.01it/s, loss=26.7, acc=0.682, AUC=0.735, val_acc=0.627, val_AUC=0.717]\n",
      "Epoch 43: 100%|██████████| 4/4 [00:00<00:00, 153.75it/s, loss=26.7, acc=0.682, AUC=0.735, val_acc=0.627, val_AUC=0.717]\n",
      "Epoch 44: 100%|██████████| 4/4 [00:00<00:00, 187.29it/s, loss=26.6, acc=0.681, AUC=0.735, val_acc=0.627, val_AUC=0.717]\n",
      "Epoch 45: 100%|██████████| 4/4 [00:00<00:00, 191.37it/s, loss=26.6, acc=0.683, AUC=0.735, val_acc=0.627, val_AUC=0.717]\n",
      "Epoch 46: 100%|██████████| 4/4 [00:00<00:00, 196.27it/s, loss=26.6, acc=0.683, AUC=0.735, val_acc=0.627, val_AUC=0.717]\n",
      "Epoch 47: 100%|██████████| 4/4 [00:00<00:00, 195.22it/s, loss=26.6, acc=0.682, AUC=0.736, val_acc=0.627, val_AUC=0.717]\n",
      "Epoch 48: 100%|██████████| 4/4 [00:00<00:00, 193.44it/s, loss=26.6, acc=0.682, AUC=0.736, val_acc=0.625, val_AUC=0.717]\n",
      "Epoch 49: 100%|██████████| 4/4 [00:00<00:00, 178.75it/s, loss=26.6, acc=0.682, AUC=0.736, val_acc=0.625, val_AUC=0.717]\n",
      "Epoch 50: 100%|██████████| 4/4 [00:00<00:00, 192.47it/s, loss=26.6, acc=0.682, AUC=0.736, val_acc=0.625, val_AUC=0.717]\n"
     ]
    },
    {
     "name": "stdout",
     "output_type": "stream",
     "text": [
      "test_acc: 0.6535750031471252\n",
      "test_auc: 0.7295901772645959\n",
      "-----------------------------------------\n"
     ]
    },
    {
     "name": "stderr",
     "output_type": "stream",
     "text": [
      "wandb: WARNING Source type is set to 'repo' but some required information is missing from the environment. A job will not be created from this run. See https://docs.wandb.ai/guides/launch/create-job\n"
     ]
    },
    {
     "name": "stdout",
     "output_type": "stream",
     "text": [
      "=================[ 3 Fold ]=================\n",
      "train_data: torch.Size([3576, 11])\n",
      "train_label: torch.Size([3576])\n",
      "validation_data: torch.Size([397, 11])\n",
      "validation_label: torch.Size([397])\n",
      "test_data: torch.Size([993, 11])\n",
      "test_label: torch.Size([993])\n",
      "-----------------------------------------\n"
     ]
    },
    {
     "name": "stderr",
     "output_type": "stream",
     "text": [
      "Epoch 1: 100%|██████████| 4/4 [00:00<00:00, 176.57it/s, loss=36, acc=0.521, AUC=0.551, val_acc=0.625, val_AUC=0.692]\n",
      "Epoch 2: 100%|██████████| 4/4 [00:00<00:00, 182.05it/s, loss=27.9, acc=0.637, AUC=0.695, val_acc=0.652, val_AUC=0.712]\n",
      "Epoch 3: 100%|██████████| 4/4 [00:00<00:00, 178.94it/s, loss=27.2, acc=0.665, AUC=0.722, val_acc=0.65, val_AUC=0.723]\n",
      "Epoch 4: 100%|██████████| 4/4 [00:00<00:00, 185.13it/s, loss=27.1, acc=0.668, AUC=0.723, val_acc=0.647, val_AUC=0.728]\n",
      "Epoch 5: 100%|██████████| 4/4 [00:00<00:00, 186.21it/s, loss=27, acc=0.666, AUC=0.722, val_acc=0.65, val_AUC=0.731]\n",
      "Epoch 6: 100%|██████████| 4/4 [00:00<00:00, 185.84it/s, loss=27, acc=0.663, AUC=0.721, val_acc=0.647, val_AUC=0.734]\n",
      "Epoch 7: 100%|██████████| 4/4 [00:00<00:00, 186.35it/s, loss=27, acc=0.666, AUC=0.723, val_acc=0.647, val_AUC=0.735]\n",
      "Epoch 8: 100%|██████████| 4/4 [00:00<00:00, 185.16it/s, loss=26.9, acc=0.668, AUC=0.726, val_acc=0.65, val_AUC=0.736]\n",
      "Epoch 9: 100%|██████████| 4/4 [00:00<00:00, 186.07it/s, loss=26.8, acc=0.671, AUC=0.728, val_acc=0.652, val_AUC=0.737]\n",
      "Epoch 10: 100%|██████████| 4/4 [00:00<00:00, 187.03it/s, loss=26.7, acc=0.673, AUC=0.73, val_acc=0.655, val_AUC=0.738]\n",
      "Epoch 11: 100%|██████████| 4/4 [00:00<00:00, 185.71it/s, loss=26.7, acc=0.675, AUC=0.732, val_acc=0.657, val_AUC=0.739]\n",
      "Epoch 12: 100%|██████████| 4/4 [00:00<00:00, 187.74it/s, loss=26.6, acc=0.677, AUC=0.733, val_acc=0.66, val_AUC=0.738]\n",
      "Epoch 13: 100%|██████████| 4/4 [00:00<00:00, 186.33it/s, loss=26.6, acc=0.678, AUC=0.734, val_acc=0.657, val_AUC=0.738]\n",
      "Epoch 14: 100%|██████████| 4/4 [00:00<00:00, 180.71it/s, loss=26.6, acc=0.678, AUC=0.735, val_acc=0.652, val_AUC=0.739]\n",
      "Epoch 15: 100%|██████████| 4/4 [00:00<00:00, 191.20it/s, loss=26.6, acc=0.679, AUC=0.736, val_acc=0.65, val_AUC=0.739]\n",
      "Epoch 16: 100%|██████████| 4/4 [00:00<00:00, 196.61it/s, loss=26.5, acc=0.68, AUC=0.736, val_acc=0.652, val_AUC=0.739]\n",
      "Epoch 17: 100%|██████████| 4/4 [00:00<00:00, 196.70it/s, loss=26.5, acc=0.682, AUC=0.737, val_acc=0.652, val_AUC=0.739]\n",
      "Epoch 18: 100%|██████████| 4/4 [00:00<00:00, 177.22it/s, loss=26.5, acc=0.681, AUC=0.737, val_acc=0.652, val_AUC=0.739]\n",
      "Epoch 19: 100%|██████████| 4/4 [00:00<00:00, 187.59it/s, loss=26.5, acc=0.681, AUC=0.738, val_acc=0.657, val_AUC=0.739]\n",
      "Epoch 20: 100%|██████████| 4/4 [00:00<00:00, 193.81it/s, loss=26.4, acc=0.683, AUC=0.739, val_acc=0.657, val_AUC=0.739]\n",
      "Epoch 21: 100%|██████████| 4/4 [00:00<00:00, 194.26it/s, loss=26.4, acc=0.682, AUC=0.739, val_acc=0.66, val_AUC=0.739]\n",
      "Epoch 22: 100%|██████████| 4/4 [00:00<00:00, 197.18it/s, loss=26.4, acc=0.682, AUC=0.74, val_acc=0.66, val_AUC=0.739]\n",
      "Epoch 23: 100%|██████████| 4/4 [00:00<00:00, 198.15it/s, loss=26.4, acc=0.683, AUC=0.74, val_acc=0.657, val_AUC=0.739]\n",
      "Epoch 24: 100%|██████████| 4/4 [00:00<00:00, 194.53it/s, loss=26.4, acc=0.683, AUC=0.74, val_acc=0.657, val_AUC=0.739]\n",
      "Epoch 25: 100%|██████████| 4/4 [00:00<00:00, 172.54it/s, loss=26.4, acc=0.683, AUC=0.741, val_acc=0.657, val_AUC=0.739]\n",
      "Epoch 26: 100%|██████████| 4/4 [00:00<00:00, 170.15it/s, loss=26.4, acc=0.682, AUC=0.741, val_acc=0.657, val_AUC=0.739]\n",
      "Epoch 27: 100%|██████████| 4/4 [00:00<00:00, 153.26it/s, loss=26.3, acc=0.683, AUC=0.741, val_acc=0.66, val_AUC=0.739]\n",
      "Epoch 28: 100%|██████████| 4/4 [00:00<00:00, 165.22it/s, loss=26.3, acc=0.683, AUC=0.742, val_acc=0.66, val_AUC=0.739]\n",
      "Epoch 29: 100%|██████████| 4/4 [00:00<00:00, 180.11it/s, loss=26.3, acc=0.683, AUC=0.742, val_acc=0.66, val_AUC=0.739]\n",
      "Epoch 30: 100%|██████████| 4/4 [00:00<00:00, 168.39it/s, loss=26.3, acc=0.684, AUC=0.742, val_acc=0.66, val_AUC=0.74]\n",
      "Epoch 31: 100%|██████████| 4/4 [00:00<00:00, 164.85it/s, loss=26.3, acc=0.685, AUC=0.742, val_acc=0.662, val_AUC=0.74]\n",
      "Epoch 32: 100%|██████████| 4/4 [00:00<00:00, 165.17it/s, loss=26.3, acc=0.685, AUC=0.743, val_acc=0.662, val_AUC=0.739]\n",
      "Epoch 33: 100%|██████████| 4/4 [00:00<00:00, 171.81it/s, loss=26.3, acc=0.686, AUC=0.743, val_acc=0.662, val_AUC=0.74]\n",
      "Epoch 34: 100%|██████████| 4/4 [00:00<00:00, 165.90it/s, loss=26.3, acc=0.686, AUC=0.743, val_acc=0.665, val_AUC=0.74]\n",
      "Epoch 35: 100%|██████████| 4/4 [00:00<00:00, 178.57it/s, loss=26.3, acc=0.687, AUC=0.743, val_acc=0.665, val_AUC=0.74]\n",
      "Epoch 36: 100%|██████████| 4/4 [00:00<00:00, 179.18it/s, loss=26.3, acc=0.687, AUC=0.743, val_acc=0.665, val_AUC=0.74]\n",
      "Epoch 37: 100%|██████████| 4/4 [00:00<00:00, 187.33it/s, loss=26.2, acc=0.687, AUC=0.744, val_acc=0.665, val_AUC=0.739]\n",
      "Epoch 38: 100%|██████████| 4/4 [00:00<00:00, 197.46it/s, loss=26.2, acc=0.688, AUC=0.744, val_acc=0.665, val_AUC=0.739]\n",
      "Epoch 39: 100%|██████████| 4/4 [00:00<00:00, 198.80it/s, loss=26.2, acc=0.688, AUC=0.744, val_acc=0.665, val_AUC=0.739]\n",
      "Epoch 40: 100%|██████████| 4/4 [00:00<00:00, 195.71it/s, loss=26.2, acc=0.688, AUC=0.744, val_acc=0.668, val_AUC=0.739]\n",
      "Epoch 41: 100%|██████████| 4/4 [00:00<00:00, 197.47it/s, loss=26.2, acc=0.688, AUC=0.744, val_acc=0.668, val_AUC=0.739]\n",
      "Epoch 42: 100%|██████████| 4/4 [00:00<00:00, 197.86it/s, loss=26.2, acc=0.688, AUC=0.745, val_acc=0.668, val_AUC=0.739]\n",
      "Epoch 43: 100%|██████████| 4/4 [00:00<00:00, 192.64it/s, loss=26.2, acc=0.688, AUC=0.745, val_acc=0.665, val_AUC=0.739]\n",
      "Epoch 44: 100%|██████████| 4/4 [00:00<00:00, 193.35it/s, loss=26.2, acc=0.688, AUC=0.745, val_acc=0.665, val_AUC=0.739]\n",
      "Epoch 45: 100%|██████████| 4/4 [00:00<00:00, 187.12it/s, loss=26.2, acc=0.688, AUC=0.745, val_acc=0.665, val_AUC=0.739]\n",
      "Epoch 46: 100%|██████████| 4/4 [00:00<00:00, 195.13it/s, loss=26.2, acc=0.688, AUC=0.745, val_acc=0.665, val_AUC=0.739]\n",
      "Epoch 47: 100%|██████████| 4/4 [00:00<00:00, 197.80it/s, loss=26.2, acc=0.689, AUC=0.745, val_acc=0.665, val_AUC=0.739]\n",
      "Epoch 48: 100%|██████████| 4/4 [00:00<00:00, 182.06it/s, loss=26.2, acc=0.688, AUC=0.745, val_acc=0.665, val_AUC=0.739]\n",
      "Epoch 49: 100%|██████████| 4/4 [00:00<00:00, 181.40it/s, loss=26.2, acc=0.688, AUC=0.745, val_acc=0.665, val_AUC=0.739]\n",
      "Epoch 50: 100%|██████████| 4/4 [00:00<00:00, 193.59it/s, loss=26.2, acc=0.688, AUC=0.746, val_acc=0.665, val_AUC=0.739]\n"
     ]
    },
    {
     "name": "stdout",
     "output_type": "stream",
     "text": [
      "test_acc: 0.6505538821220398\n",
      "test_auc: 0.7149684371095208\n",
      "-----------------------------------------\n"
     ]
    },
    {
     "name": "stderr",
     "output_type": "stream",
     "text": [
      "wandb: WARNING Source type is set to 'repo' but some required information is missing from the environment. A job will not be created from this run. See https://docs.wandb.ai/guides/launch/create-job\n"
     ]
    },
    {
     "name": "stdout",
     "output_type": "stream",
     "text": [
      "=================[ 4 Fold ]=================\n",
      "train_data: torch.Size([3576, 11])\n",
      "train_label: torch.Size([3576])\n",
      "validation_data: torch.Size([397, 11])\n",
      "validation_label: torch.Size([397])\n",
      "test_data: torch.Size([993, 11])\n",
      "test_label: torch.Size([993])\n",
      "-----------------------------------------\n"
     ]
    },
    {
     "name": "stderr",
     "output_type": "stream",
     "text": [
      "Epoch 1: 100%|██████████| 4/4 [00:00<00:00, 175.17it/s, loss=33.8, acc=0.521, AUC=0.538, val_acc=0.514, val_AUC=0.667]\n",
      "Epoch 2: 100%|██████████| 4/4 [00:00<00:00, 180.74it/s, loss=32.6, acc=0.585, AUC=0.605, val_acc=0.597, val_AUC=0.688]\n",
      "Epoch 3: 100%|██████████| 4/4 [00:00<00:00, 180.55it/s, loss=27.6, acc=0.646, AUC=0.705, val_acc=0.625, val_AUC=0.698]\n",
      "Epoch 4: 100%|██████████| 4/4 [00:00<00:00, 182.76it/s, loss=27.3, acc=0.657, AUC=0.713, val_acc=0.632, val_AUC=0.703]\n",
      "Epoch 5: 100%|██████████| 4/4 [00:00<00:00, 183.64it/s, loss=27.2, acc=0.662, AUC=0.716, val_acc=0.635, val_AUC=0.704]\n",
      "Epoch 6: 100%|██████████| 4/4 [00:00<00:00, 181.94it/s, loss=27.1, acc=0.667, AUC=0.718, val_acc=0.64, val_AUC=0.706]\n",
      "Epoch 7: 100%|██████████| 4/4 [00:00<00:00, 183.50it/s, loss=27.1, acc=0.666, AUC=0.719, val_acc=0.635, val_AUC=0.707]\n",
      "Epoch 8: 100%|██████████| 4/4 [00:00<00:00, 183.11it/s, loss=27.1, acc=0.667, AUC=0.72, val_acc=0.637, val_AUC=0.707]\n",
      "Epoch 9: 100%|██████████| 4/4 [00:00<00:00, 185.29it/s, loss=27, acc=0.668, AUC=0.721, val_acc=0.637, val_AUC=0.707]\n",
      "Epoch 10: 100%|██████████| 4/4 [00:00<00:00, 185.10it/s, loss=27, acc=0.667, AUC=0.722, val_acc=0.645, val_AUC=0.707]\n",
      "Epoch 11: 100%|██████████| 4/4 [00:00<00:00, 184.31it/s, loss=27, acc=0.666, AUC=0.722, val_acc=0.642, val_AUC=0.707]\n",
      "Epoch 12: 100%|██████████| 4/4 [00:00<00:00, 193.03it/s, loss=26.9, acc=0.664, AUC=0.723, val_acc=0.645, val_AUC=0.707]\n",
      "Epoch 13: 100%|██████████| 4/4 [00:00<00:00, 185.26it/s, loss=26.9, acc=0.664, AUC=0.724, val_acc=0.65, val_AUC=0.707]\n",
      "Epoch 14: 100%|██████████| 4/4 [00:00<00:00, 181.14it/s, loss=26.9, acc=0.665, AUC=0.725, val_acc=0.647, val_AUC=0.706]\n",
      "Epoch 15: 100%|██████████| 4/4 [00:00<00:00, 182.49it/s, loss=26.9, acc=0.666, AUC=0.725, val_acc=0.647, val_AUC=0.706]\n",
      "Epoch 16: 100%|██████████| 4/4 [00:00<00:00, 169.34it/s, loss=26.8, acc=0.666, AUC=0.726, val_acc=0.647, val_AUC=0.706]\n",
      "Epoch 17: 100%|██████████| 4/4 [00:00<00:00, 187.89it/s, loss=26.8, acc=0.666, AUC=0.726, val_acc=0.647, val_AUC=0.706]\n",
      "Epoch 18: 100%|██████████| 4/4 [00:00<00:00, 195.62it/s, loss=26.8, acc=0.666, AUC=0.727, val_acc=0.647, val_AUC=0.706]\n",
      "Epoch 19: 100%|██████████| 4/4 [00:00<00:00, 194.10it/s, loss=26.8, acc=0.666, AUC=0.727, val_acc=0.647, val_AUC=0.705]\n",
      "Epoch 20: 100%|██████████| 4/4 [00:00<00:00, 196.28it/s, loss=26.8, acc=0.666, AUC=0.728, val_acc=0.645, val_AUC=0.705]\n",
      "Epoch 21: 100%|██████████| 4/4 [00:00<00:00, 196.97it/s, loss=26.8, acc=0.666, AUC=0.728, val_acc=0.647, val_AUC=0.706]\n",
      "Epoch 22: 100%|██████████| 4/4 [00:00<00:00, 196.12it/s, loss=26.8, acc=0.667, AUC=0.729, val_acc=0.647, val_AUC=0.705]\n",
      "Epoch 23: 100%|██████████| 4/4 [00:00<00:00, 197.22it/s, loss=26.7, acc=0.669, AUC=0.729, val_acc=0.645, val_AUC=0.705]\n",
      "Epoch 24: 100%|██████████| 4/4 [00:00<00:00, 196.27it/s, loss=26.7, acc=0.67, AUC=0.729, val_acc=0.645, val_AUC=0.705]\n",
      "Epoch 25: 100%|██████████| 4/4 [00:00<00:00, 195.97it/s, loss=26.7, acc=0.67, AUC=0.73, val_acc=0.645, val_AUC=0.705]\n",
      "Epoch 26: 100%|██████████| 4/4 [00:00<00:00, 196.76it/s, loss=26.7, acc=0.669, AUC=0.73, val_acc=0.647, val_AUC=0.705]\n",
      "Epoch 27: 100%|██████████| 4/4 [00:00<00:00, 196.10it/s, loss=26.7, acc=0.67, AUC=0.731, val_acc=0.647, val_AUC=0.705]\n",
      "Epoch 28: 100%|██████████| 4/4 [00:00<00:00, 196.74it/s, loss=26.7, acc=0.67, AUC=0.731, val_acc=0.647, val_AUC=0.704]\n",
      "Epoch 29: 100%|██████████| 4/4 [00:00<00:00, 197.91it/s, loss=26.7, acc=0.67, AUC=0.731, val_acc=0.645, val_AUC=0.704]\n",
      "Epoch 30: 100%|██████████| 4/4 [00:00<00:00, 196.44it/s, loss=26.6, acc=0.67, AUC=0.732, val_acc=0.645, val_AUC=0.704]\n",
      "Epoch 31: 100%|██████████| 4/4 [00:00<00:00, 196.17it/s, loss=26.6, acc=0.669, AUC=0.732, val_acc=0.642, val_AUC=0.704]\n",
      "Epoch 32: 100%|██████████| 4/4 [00:00<00:00, 197.99it/s, loss=26.6, acc=0.669, AUC=0.732, val_acc=0.645, val_AUC=0.704]\n",
      "Epoch 33: 100%|██████████| 4/4 [00:00<00:00, 196.66it/s, loss=26.6, acc=0.669, AUC=0.732, val_acc=0.642, val_AUC=0.704]\n",
      "Epoch 34: 100%|██████████| 4/4 [00:00<00:00, 196.79it/s, loss=26.6, acc=0.669, AUC=0.733, val_acc=0.64, val_AUC=0.704]\n",
      "Epoch 35: 100%|██████████| 4/4 [00:00<00:00, 197.09it/s, loss=26.6, acc=0.67, AUC=0.733, val_acc=0.64, val_AUC=0.704]\n",
      "Epoch 36: 100%|██████████| 4/4 [00:00<00:00, 190.17it/s, loss=26.6, acc=0.67, AUC=0.733, val_acc=0.637, val_AUC=0.704]\n",
      "Epoch 37: 100%|██████████| 4/4 [00:00<00:00, 194.52it/s, loss=26.6, acc=0.671, AUC=0.733, val_acc=0.637, val_AUC=0.704]\n",
      "Epoch 38: 100%|██████████| 4/4 [00:00<00:00, 192.04it/s, loss=26.6, acc=0.67, AUC=0.734, val_acc=0.637, val_AUC=0.704]\n",
      "Epoch 39: 100%|██████████| 4/4 [00:00<00:00, 196.97it/s, loss=26.6, acc=0.67, AUC=0.734, val_acc=0.637, val_AUC=0.704]\n",
      "Epoch 40: 100%|██████████| 4/4 [00:00<00:00, 187.65it/s, loss=26.6, acc=0.671, AUC=0.734, val_acc=0.637, val_AUC=0.704]\n",
      "Epoch 41: 100%|██████████| 4/4 [00:00<00:00, 178.08it/s, loss=26.5, acc=0.671, AUC=0.734, val_acc=0.637, val_AUC=0.704]\n",
      "Epoch 42: 100%|██████████| 4/4 [00:00<00:00, 153.93it/s, loss=26.5, acc=0.671, AUC=0.734, val_acc=0.635, val_AUC=0.703]\n",
      "Epoch 43: 100%|██████████| 4/4 [00:00<00:00, 157.49it/s, loss=26.5, acc=0.671, AUC=0.735, val_acc=0.637, val_AUC=0.703]\n",
      "Epoch 44: 100%|██████████| 4/4 [00:00<00:00, 177.31it/s, loss=26.5, acc=0.672, AUC=0.735, val_acc=0.635, val_AUC=0.704]\n",
      "Epoch 45: 100%|██████████| 4/4 [00:00<00:00, 190.53it/s, loss=26.5, acc=0.671, AUC=0.735, val_acc=0.637, val_AUC=0.703]\n",
      "Epoch 46: 100%|██████████| 4/4 [00:00<00:00, 197.77it/s, loss=26.5, acc=0.672, AUC=0.735, val_acc=0.637, val_AUC=0.704]\n",
      "Epoch 47: 100%|██████████| 4/4 [00:00<00:00, 197.49it/s, loss=26.5, acc=0.673, AUC=0.735, val_acc=0.637, val_AUC=0.703]\n",
      "Epoch 48: 100%|██████████| 4/4 [00:00<00:00, 197.77it/s, loss=26.5, acc=0.673, AUC=0.736, val_acc=0.637, val_AUC=0.703]\n",
      "Epoch 49: 100%|██████████| 4/4 [00:00<00:00, 197.54it/s, loss=26.5, acc=0.672, AUC=0.736, val_acc=0.637, val_AUC=0.703]\n",
      "Epoch 50: 100%|██████████| 4/4 [00:00<00:00, 197.75it/s, loss=26.5, acc=0.671, AUC=0.736, val_acc=0.637, val_AUC=0.703]\n"
     ]
    },
    {
     "name": "stdout",
     "output_type": "stream",
     "text": [
      "test_acc: 0.6928499341011047\n",
      "test_auc: 0.7519512234698513\n",
      "-----------------------------------------\n"
     ]
    },
    {
     "name": "stderr",
     "output_type": "stream",
     "text": [
      "wandb: WARNING Source type is set to 'repo' but some required information is missing from the environment. A job will not be created from this run. See https://docs.wandb.ai/guides/launch/create-job\n"
     ]
    },
    {
     "name": "stdout",
     "output_type": "stream",
     "text": [
      "=================[ 5 Fold ]=================\n",
      "train_data: torch.Size([3576, 11])\n",
      "train_label: torch.Size([3576])\n",
      "validation_data: torch.Size([397, 11])\n",
      "validation_label: torch.Size([397])\n",
      "test_data: torch.Size([993, 11])\n",
      "test_label: torch.Size([993])\n",
      "-----------------------------------------\n"
     ]
    },
    {
     "name": "stderr",
     "output_type": "stream",
     "text": [
      "Epoch 1: 100%|██████████| 4/4 [00:00<00:00, 176.15it/s, loss=43.2, acc=0.513, AUC=0.529, val_acc=0.584, val_AUC=0.644]\n",
      "Epoch 2: 100%|██████████| 4/4 [00:00<00:00, 165.61it/s, loss=28.1, acc=0.629, AUC=0.69, val_acc=0.625, val_AUC=0.666]\n",
      "Epoch 3: 100%|██████████| 4/4 [00:00<00:00, 178.53it/s, loss=27.5, acc=0.65, AUC=0.711, val_acc=0.627, val_AUC=0.679]\n",
      "Epoch 4: 100%|██████████| 4/4 [00:00<00:00, 183.70it/s, loss=27.3, acc=0.661, AUC=0.72, val_acc=0.635, val_AUC=0.685]\n",
      "Epoch 5: 100%|██████████| 4/4 [00:00<00:00, 167.74it/s, loss=27.1, acc=0.666, AUC=0.725, val_acc=0.645, val_AUC=0.691]\n",
      "Epoch 6: 100%|██████████| 4/4 [00:00<00:00, 172.04it/s, loss=27, acc=0.67, AUC=0.727, val_acc=0.642, val_AUC=0.693]\n",
      "Epoch 7: 100%|██████████| 4/4 [00:00<00:00, 181.38it/s, loss=26.9, acc=0.669, AUC=0.729, val_acc=0.642, val_AUC=0.695]\n",
      "Epoch 8: 100%|██████████| 4/4 [00:00<00:00, 182.03it/s, loss=26.9, acc=0.671, AUC=0.731, val_acc=0.642, val_AUC=0.696]\n",
      "Epoch 9: 100%|██████████| 4/4 [00:00<00:00, 183.01it/s, loss=26.8, acc=0.671, AUC=0.732, val_acc=0.642, val_AUC=0.697]\n",
      "Epoch 10: 100%|██████████| 4/4 [00:00<00:00, 183.54it/s, loss=26.8, acc=0.672, AUC=0.733, val_acc=0.64, val_AUC=0.698]\n",
      "Epoch 11: 100%|██████████| 4/4 [00:00<00:00, 178.15it/s, loss=26.7, acc=0.673, AUC=0.733, val_acc=0.64, val_AUC=0.699]\n",
      "Epoch 12: 100%|██████████| 4/4 [00:00<00:00, 181.65it/s, loss=26.7, acc=0.672, AUC=0.734, val_acc=0.637, val_AUC=0.7]\n",
      "Epoch 13: 100%|██████████| 4/4 [00:00<00:00, 181.68it/s, loss=26.7, acc=0.672, AUC=0.734, val_acc=0.642, val_AUC=0.7]\n",
      "Epoch 14: 100%|██████████| 4/4 [00:00<00:00, 194.30it/s, loss=26.7, acc=0.672, AUC=0.733, val_acc=0.642, val_AUC=0.7]\n",
      "Epoch 15: 100%|██████████| 4/4 [00:00<00:00, 195.16it/s, loss=26.7, acc=0.67, AUC=0.732, val_acc=0.645, val_AUC=0.7]\n",
      "Epoch 16: 100%|██████████| 4/4 [00:00<00:00, 193.28it/s, loss=26.8, acc=0.668, AUC=0.73, val_acc=0.65, val_AUC=0.7]\n",
      "Epoch 17: 100%|██████████| 4/4 [00:00<00:00, 192.14it/s, loss=26.8, acc=0.668, AUC=0.729, val_acc=0.652, val_AUC=0.7]\n",
      "Epoch 18: 100%|██████████| 4/4 [00:00<00:00, 197.78it/s, loss=26.9, acc=0.669, AUC=0.728, val_acc=0.652, val_AUC=0.7]\n",
      "Epoch 19: 100%|██████████| 4/4 [00:00<00:00, 196.83it/s, loss=26.8, acc=0.669, AUC=0.729, val_acc=0.652, val_AUC=0.7]\n",
      "Epoch 20: 100%|██████████| 4/4 [00:00<00:00, 198.42it/s, loss=26.8, acc=0.67, AUC=0.73, val_acc=0.652, val_AUC=0.7]\n",
      "Epoch 21: 100%|██████████| 4/4 [00:00<00:00, 198.20it/s, loss=26.7, acc=0.671, AUC=0.732, val_acc=0.645, val_AUC=0.7]\n",
      "Epoch 22: 100%|██████████| 4/4 [00:00<00:00, 197.70it/s, loss=26.7, acc=0.668, AUC=0.733, val_acc=0.645, val_AUC=0.7]\n",
      "Epoch 23: 100%|██████████| 4/4 [00:00<00:00, 196.68it/s, loss=26.6, acc=0.67, AUC=0.734, val_acc=0.65, val_AUC=0.7]\n",
      "Epoch 24: 100%|██████████| 4/4 [00:00<00:00, 195.17it/s, loss=26.6, acc=0.672, AUC=0.735, val_acc=0.65, val_AUC=0.7]\n",
      "Epoch 25: 100%|██████████| 4/4 [00:00<00:00, 184.68it/s, loss=26.6, acc=0.673, AUC=0.735, val_acc=0.65, val_AUC=0.7]\n",
      "Epoch 26: 100%|██████████| 4/4 [00:00<00:00, 195.87it/s, loss=26.6, acc=0.673, AUC=0.735, val_acc=0.65, val_AUC=0.7]\n",
      "Epoch 27: 100%|██████████| 4/4 [00:00<00:00, 197.80it/s, loss=26.6, acc=0.672, AUC=0.735, val_acc=0.647, val_AUC=0.7]\n",
      "Epoch 28: 100%|██████████| 4/4 [00:00<00:00, 197.79it/s, loss=26.6, acc=0.674, AUC=0.735, val_acc=0.647, val_AUC=0.701]\n",
      "Epoch 29: 100%|██████████| 4/4 [00:00<00:00, 197.99it/s, loss=26.6, acc=0.675, AUC=0.735, val_acc=0.647, val_AUC=0.701]\n",
      "Epoch 30: 100%|██████████| 4/4 [00:00<00:00, 197.56it/s, loss=26.6, acc=0.675, AUC=0.735, val_acc=0.647, val_AUC=0.7]\n",
      "Epoch 31: 100%|██████████| 4/4 [00:00<00:00, 199.16it/s, loss=26.6, acc=0.674, AUC=0.735, val_acc=0.645, val_AUC=0.7]\n",
      "Epoch 32: 100%|██████████| 4/4 [00:00<00:00, 198.86it/s, loss=26.6, acc=0.674, AUC=0.736, val_acc=0.645, val_AUC=0.7]\n",
      "Epoch 33: 100%|██████████| 4/4 [00:00<00:00, 196.92it/s, loss=26.6, acc=0.675, AUC=0.736, val_acc=0.647, val_AUC=0.701]\n",
      "Epoch 34: 100%|██████████| 4/4 [00:00<00:00, 195.71it/s, loss=26.5, acc=0.676, AUC=0.736, val_acc=0.647, val_AUC=0.7]\n",
      "Epoch 35: 100%|██████████| 4/4 [00:00<00:00, 197.83it/s, loss=26.5, acc=0.677, AUC=0.737, val_acc=0.647, val_AUC=0.701]\n",
      "Epoch 36: 100%|██████████| 4/4 [00:00<00:00, 198.11it/s, loss=26.5, acc=0.677, AUC=0.737, val_acc=0.647, val_AUC=0.701]\n",
      "Epoch 37: 100%|██████████| 4/4 [00:00<00:00, 198.12it/s, loss=26.5, acc=0.677, AUC=0.737, val_acc=0.647, val_AUC=0.701]\n",
      "Epoch 38: 100%|██████████| 4/4 [00:00<00:00, 198.70it/s, loss=26.5, acc=0.677, AUC=0.738, val_acc=0.645, val_AUC=0.701]\n",
      "Epoch 39: 100%|██████████| 4/4 [00:00<00:00, 199.25it/s, loss=26.5, acc=0.678, AUC=0.738, val_acc=0.642, val_AUC=0.701]\n",
      "Epoch 40: 100%|██████████| 4/4 [00:00<00:00, 200.06it/s, loss=26.5, acc=0.678, AUC=0.739, val_acc=0.64, val_AUC=0.701]\n",
      "Epoch 41: 100%|██████████| 4/4 [00:00<00:00, 198.98it/s, loss=26.5, acc=0.679, AUC=0.739, val_acc=0.64, val_AUC=0.701]\n",
      "Epoch 42: 100%|██████████| 4/4 [00:00<00:00, 199.34it/s, loss=26.5, acc=0.679, AUC=0.739, val_acc=0.64, val_AUC=0.701]\n",
      "Epoch 43: 100%|██████████| 4/4 [00:00<00:00, 199.46it/s, loss=26.5, acc=0.68, AUC=0.739, val_acc=0.64, val_AUC=0.701]\n",
      "Epoch 44: 100%|██████████| 4/4 [00:00<00:00, 198.07it/s, loss=26.4, acc=0.68, AUC=0.739, val_acc=0.64, val_AUC=0.701]\n",
      "Epoch 45: 100%|██████████| 4/4 [00:00<00:00, 197.11it/s, loss=26.4, acc=0.679, AUC=0.739, val_acc=0.64, val_AUC=0.701]\n",
      "Epoch 46: 100%|██████████| 4/4 [00:00<00:00, 197.58it/s, loss=26.4, acc=0.68, AUC=0.739, val_acc=0.637, val_AUC=0.701]\n",
      "Epoch 47: 100%|██████████| 4/4 [00:00<00:00, 197.84it/s, loss=26.4, acc=0.68, AUC=0.739, val_acc=0.635, val_AUC=0.701]\n",
      "Epoch 48: 100%|██████████| 4/4 [00:00<00:00, 199.62it/s, loss=26.4, acc=0.68, AUC=0.739, val_acc=0.635, val_AUC=0.701]\n",
      "Epoch 49: 100%|██████████| 4/4 [00:00<00:00, 194.39it/s, loss=26.4, acc=0.68, AUC=0.739, val_acc=0.635, val_AUC=0.701]\n",
      "Epoch 50: 100%|██████████| 4/4 [00:00<00:00, 192.54it/s, loss=26.4, acc=0.68, AUC=0.739, val_acc=0.635, val_AUC=0.701]\n"
     ]
    },
    {
     "name": "stdout",
     "output_type": "stream",
     "text": [
      "test_acc: 0.6888217329978943\n",
      "test_auc: 0.7420657830541552\n",
      "-----------------------------------------\n"
     ]
    },
    {
     "name": "stderr",
     "output_type": "stream",
     "text": [
      "wandb: WARNING Source type is set to 'repo' but some required information is missing from the environment. A job will not be created from this run. See https://docs.wandb.ai/guides/launch/create-job\n"
     ]
    },
    {
     "name": "stdout",
     "output_type": "stream",
     "text": [
      "==================[done]==================\n"
     ]
    }
   ],
   "source": [
    "train_K_fold(get_run_config())"
   ]
  }
 ],
 "metadata": {
  "kernelspec": {
   "display_name": "pyg",
   "language": "python",
   "name": "python3"
  },
  "language_info": {
   "codemirror_mode": {
    "name": "ipython",
    "version": 3
   },
   "file_extension": ".py",
   "mimetype": "text/x-python",
   "name": "python",
   "nbconvert_exporter": "python",
   "pygments_lexer": "ipython3",
   "version": "3.10.12"
  }
 },
 "nbformat": 4,
 "nbformat_minor": 2
}
