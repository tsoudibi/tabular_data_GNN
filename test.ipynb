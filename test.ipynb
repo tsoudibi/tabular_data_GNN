{
 "cells": [
  {
   "cell_type": "code",
   "execution_count": 1,
   "metadata": {},
   "outputs": [
    {
     "name": "stderr",
     "output_type": "stream",
     "text": [
      "/home/tsou/.conda/envs/pyg/lib/python3.10/site-packages/tqdm/auto.py:21: TqdmWarning: IProgress not found. Please update jupyter and ipywidgets. See https://ipywidgets.readthedocs.io/en/stable/user_install.html\n",
      "  from .autonotebook import tqdm as notebook_tqdm\n"
     ]
    },
    {
     "name": "stdout",
     "output_type": "stream",
     "text": [
      "=================[dataset is set to compass_old ]=================\n",
      "[Tensorflow] Set seed failed,details are: No module named 'tensorflow'\n",
      "[Pytorch] Seed set successfully\n",
      "=================[run config is loaded]=================\n"
     ]
    }
   ],
   "source": [
    "from trainer import *"
   ]
  },
  {
   "cell_type": "code",
   "execution_count": 2,
   "metadata": {},
   "outputs": [
    {
     "name": "stdout",
     "output_type": "stream",
     "text": [
      "-----------------------------------------\n",
      "-----------------------------------------\n",
      "-----------------------------------------\n",
      "-----------------------------------------\n",
      "-----------------------------------------\n"
     ]
    }
   ],
   "source": [
    "test_run()"
   ]
  },
  {
   "cell_type": "code",
   "execution_count": 3,
   "metadata": {},
   "outputs": [
    {
     "data": {
      "text/plain": [
       "tensor([ 0.1809, -0.1055, -0.5184, -0.4479,  0.5038,  1.4827,  0.2645, -0.3874,\n",
       "         0.2010, -0.2380, -1.0015, -0.3546,  0.5417, -0.4192,  0.3919,  0.0844,\n",
       "        -0.1786], device='cuda:0', grad_fn=<DivBackward0>)"
      ]
     },
     "execution_count": 3,
     "metadata": {},
     "output_type": "execute_result"
    }
   ],
   "source": [
    "extractor = get_feature_importance_extractor()\n",
    "extractor.get()"
   ]
  },
  {
   "cell_type": "code",
   "execution_count": 4,
   "metadata": {},
   "outputs": [
    {
     "name": "stderr",
     "output_type": "stream",
     "text": [
      "Epoch 1:   0%|          | 0/12 [00:00<?, ?it/s]"
     ]
    },
    {
     "name": "stderr",
     "output_type": "stream",
     "text": [
      "Epoch 1: 100%|██████████| 12/12 [00:02<00:00,  5.37it/s, loss=73.9, acc=0.579, AUC=0.6, val_acc=0.607, val_AUC=0.641]\n"
     ]
    },
    {
     "name": "stdout",
     "output_type": "stream",
     "text": [
      "tensor([ 0.2863, -0.2377, -0.1572, -0.1432, -0.4316,  0.1233, -0.1527,  0.1396,\n",
      "         0.0707, -0.2834, -0.0925,  0.0790,  0.3342,  0.2317,  0.1608,  0.2183,\n",
      "        -0.1455], device='cuda:0', grad_fn=<DivBackward0>)\n"
     ]
    },
    {
     "name": "stderr",
     "output_type": "stream",
     "text": [
      "Epoch 2: 100%|██████████| 12/12 [00:01<00:00,  6.34it/s, loss=66.4, acc=0.623, AUC=0.667, val_acc=0.628, val_AUC=0.659]\n"
     ]
    },
    {
     "name": "stdout",
     "output_type": "stream",
     "text": [
      "tensor([ 0.3259, -0.2383, -0.1048, -0.0070, -1.0463, -0.4091, -0.3456,  0.4733,\n",
      "         0.0291, -0.2792,  0.3778,  0.1295,  0.3624,  0.5319,  0.0727,  0.2439,\n",
      "        -0.1162], device='cuda:0', grad_fn=<DivBackward0>)\n"
     ]
    },
    {
     "name": "stderr",
     "output_type": "stream",
     "text": [
      "Epoch 3: 100%|██████████| 12/12 [00:01<00:00,  6.78it/s, loss=66, acc=0.627, AUC=0.673, val_acc=0.625, val_AUC=0.679]\n"
     ]
    },
    {
     "name": "stdout",
     "output_type": "stream",
     "text": [
      "tensor([ 0.4309, -0.2465, -0.1866, -0.0674, -1.2268, -0.4400, -0.3914,  0.5363,\n",
      "         0.0220, -0.2702,  0.3785,  0.1294,  0.5037,  0.5420,  0.1073,  0.2984,\n",
      "        -0.1196], device='cuda:0', grad_fn=<DivBackward0>)\n"
     ]
    },
    {
     "name": "stderr",
     "output_type": "stream",
     "text": [
      "Epoch 4: 100%|██████████| 12/12 [00:01<00:00,  6.74it/s, loss=65.6, acc=0.629, AUC=0.68, val_acc=0.626, val_AUC=0.672]\n"
     ]
    },
    {
     "name": "stdout",
     "output_type": "stream",
     "text": [
      "tensor([ 0.5151, -0.2593, -0.2044, -0.0818, -1.2928, -0.4344, -0.3674,  0.5481,\n",
      "         0.0021, -0.2944,  0.3702,  0.0729,  0.6148,  0.5351,  0.0906,  0.3127,\n",
      "        -0.1270], device='cuda:0', grad_fn=<DivBackward0>)\n"
     ]
    },
    {
     "name": "stderr",
     "output_type": "stream",
     "text": [
      "Epoch 5: 100%|██████████| 12/12 [00:01<00:00,  6.71it/s, loss=65.1, acc=0.634, AUC=0.686, val_acc=0.629, val_AUC=0.674]\n"
     ]
    },
    {
     "name": "stdout",
     "output_type": "stream",
     "text": [
      "tensor([ 0.5393, -0.2683, -0.2050, -0.0899, -1.3845, -0.4581, -0.3194,  0.5434,\n",
      "         0.0308, -0.2805,  0.3636,  0.1058,  0.6457,  0.5204,  0.0586,  0.3387,\n",
      "        -0.1405], device='cuda:0', grad_fn=<DivBackward0>)\n"
     ]
    },
    {
     "name": "stderr",
     "output_type": "stream",
     "text": [
      "Epoch 6: 100%|██████████| 12/12 [00:01<00:00,  6.52it/s, loss=64.8, acc=0.639, AUC=0.689, val_acc=0.636, val_AUC=0.684]\n"
     ]
    },
    {
     "name": "stdout",
     "output_type": "stream",
     "text": [
      "tensor([ 0.5153, -0.2767, -0.2462, -0.1042, -1.4517, -0.4402, -0.2558,  0.5538,\n",
      "         0.0458, -0.2907,  0.3301,  0.1314,  0.6815,  0.5164,  0.0587,  0.3796,\n",
      "        -0.1471], device='cuda:0', grad_fn=<DivBackward0>)\n"
     ]
    },
    {
     "name": "stderr",
     "output_type": "stream",
     "text": [
      "Epoch 7: 100%|██████████| 12/12 [00:01<00:00,  6.61it/s, loss=64.3, acc=0.642, AUC=0.698, val_acc=0.634, val_AUC=0.689]\n"
     ]
    },
    {
     "name": "stdout",
     "output_type": "stream",
     "text": [
      "tensor([ 0.5141, -0.2856, -0.2523, -0.1029, -1.4493, -0.4283, -0.2423,  0.5817,\n",
      "         0.0218, -0.2941,  0.2972,  0.1600,  0.6356,  0.5223,  0.0492,  0.4240,\n",
      "        -0.1510], device='cuda:0', grad_fn=<DivBackward0>)\n"
     ]
    },
    {
     "name": "stderr",
     "output_type": "stream",
     "text": [
      "Epoch 8: 100%|██████████| 12/12 [00:02<00:00,  5.71it/s, loss=64.3, acc=0.644, AUC=0.699, val_acc=0.634, val_AUC=0.685]\n"
     ]
    },
    {
     "name": "stdout",
     "output_type": "stream",
     "text": [
      "tensor([ 5.2118e-01, -2.8996e-01, -2.3748e-01, -1.0598e-01, -1.4717e+00,\n",
      "        -4.3095e-01, -1.9048e-01,  5.8212e-01, -4.6159e-04, -3.0960e-01,\n",
      "         3.2679e-01,  1.1682e-01,  6.7103e-01,  5.0240e-01,  2.1444e-02,\n",
      "         4.5377e-01, -1.5890e-01], device='cuda:0', grad_fn=<DivBackward0>)\n"
     ]
    },
    {
     "name": "stderr",
     "output_type": "stream",
     "text": [
      "Epoch 9: 100%|██████████| 12/12 [00:01<00:00,  6.53it/s, loss=64.2, acc=0.648, AUC=0.699, val_acc=0.643, val_AUC=0.69]\n"
     ]
    },
    {
     "name": "stdout",
     "output_type": "stream",
     "text": [
      "tensor([ 4.9219e-01, -3.0769e-01, -2.3734e-01, -1.0862e-01, -1.4788e+00,\n",
      "        -4.3942e-01, -1.8358e-01,  5.6290e-01,  1.2507e-02, -3.1049e-01,\n",
      "         3.3692e-01,  1.5657e-01,  6.7028e-01,  4.9406e-01, -1.6513e-04,\n",
      "         5.0668e-01, -1.6603e-01], device='cuda:0', grad_fn=<DivBackward0>)\n"
     ]
    },
    {
     "name": "stderr",
     "output_type": "stream",
     "text": [
      "Epoch 10: 100%|██████████| 12/12 [00:01<00:00,  6.66it/s, loss=63.9, acc=0.652, AUC=0.702, val_acc=0.65, val_AUC=0.694]\n"
     ]
    },
    {
     "name": "stdout",
     "output_type": "stream",
     "text": [
      "tensor([ 0.4964, -0.3217, -0.2173, -0.1125, -1.4757, -0.4460, -0.1786,  0.5849,\n",
      "        -0.0076, -0.3191,  0.3205,  0.1576,  0.6637,  0.4812, -0.0077,  0.5481,\n",
      "        -0.1662], device='cuda:0', grad_fn=<DivBackward0>)\n"
     ]
    },
    {
     "name": "stderr",
     "output_type": "stream",
     "text": [
      "Epoch 11: 100%|██████████| 12/12 [00:01<00:00,  6.32it/s, loss=63.8, acc=0.65, AUC=0.704, val_acc=0.643, val_AUC=0.695]\n"
     ]
    },
    {
     "name": "stdout",
     "output_type": "stream",
     "text": [
      "tensor([ 0.5371, -0.3158, -0.2102, -0.1092, -1.4585, -0.4387, -0.1682,  0.5933,\n",
      "        -0.0586, -0.3276,  0.3021,  0.1392,  0.6983,  0.4451, -0.0082,  0.5630,\n",
      "        -0.1831], device='cuda:0', grad_fn=<DivBackward0>)\n"
     ]
    },
    {
     "name": "stderr",
     "output_type": "stream",
     "text": [
      "Epoch 12: 100%|██████████| 12/12 [00:01<00:00,  6.31it/s, loss=63.7, acc=0.652, AUC=0.707, val_acc=0.649, val_AUC=0.695]\n"
     ]
    },
    {
     "name": "stdout",
     "output_type": "stream",
     "text": [
      "tensor([ 0.5306, -0.3046, -0.2342, -0.1239, -1.4489, -0.4305, -0.1258,  0.5892,\n",
      "        -0.0556, -0.3431,  0.2928,  0.1569,  0.7330,  0.4393, -0.0348,  0.5468,\n",
      "        -0.1871], device='cuda:0', grad_fn=<DivBackward0>)\n"
     ]
    },
    {
     "name": "stderr",
     "output_type": "stream",
     "text": [
      "Epoch 13: 100%|██████████| 12/12 [00:01<00:00,  6.27it/s, loss=63.7, acc=0.655, AUC=0.708, val_acc=0.647, val_AUC=0.693]\n"
     ]
    },
    {
     "name": "stdout",
     "output_type": "stream",
     "text": [
      "tensor([ 0.5189, -0.3084, -0.2464, -0.1255, -1.4425, -0.4156, -0.1114,  0.6156,\n",
      "        -0.0704, -0.3360,  0.2695,  0.1588,  0.7146,  0.4399, -0.0509,  0.5768,\n",
      "        -0.1870], device='cuda:0', grad_fn=<DivBackward0>)\n"
     ]
    },
    {
     "name": "stderr",
     "output_type": "stream",
     "text": [
      "Epoch 14: 100%|██████████| 12/12 [00:01<00:00,  6.60it/s, loss=63.4, acc=0.655, AUC=0.71, val_acc=0.652, val_AUC=0.692]\n"
     ]
    },
    {
     "name": "stdout",
     "output_type": "stream",
     "text": [
      "tensor([ 0.5311, -0.3034, -0.2348, -0.1241, -1.4579, -0.4264, -0.0890,  0.6345,\n",
      "        -0.0837, -0.3374,  0.2548,  0.1657,  0.6683,  0.4394, -0.0506,  0.6051,\n",
      "        -0.1918], device='cuda:0', grad_fn=<DivBackward0>)\n"
     ]
    },
    {
     "name": "stderr",
     "output_type": "stream",
     "text": [
      "Epoch 15: 100%|██████████| 12/12 [00:01<00:00,  6.65it/s, loss=63.4, acc=0.651, AUC=0.709, val_acc=0.64, val_AUC=0.693]\n"
     ]
    },
    {
     "name": "stdout",
     "output_type": "stream",
     "text": [
      "tensor([ 0.5154, -0.3083, -0.2112, -0.1244, -1.4259, -0.3996, -0.0814,  0.6434,\n",
      "        -0.0884, -0.3327,  0.2332,  0.1350,  0.6416,  0.4467, -0.0851,  0.6295,\n",
      "        -0.1878], device='cuda:0', grad_fn=<DivBackward0>)\n"
     ]
    },
    {
     "name": "stderr",
     "output_type": "stream",
     "text": [
      "Epoch 16: 100%|██████████| 12/12 [00:01<00:00,  6.58it/s, loss=63.6, acc=0.652, AUC=0.707, val_acc=0.643, val_AUC=0.702]\n"
     ]
    },
    {
     "name": "stdout",
     "output_type": "stream",
     "text": [
      "tensor([ 0.5111, -0.3138, -0.2086, -0.1363, -1.4262, -0.3918, -0.0690,  0.6598,\n",
      "        -0.0843, -0.3482,  0.2107,  0.1324,  0.6786,  0.4284, -0.0804,  0.6342,\n",
      "        -0.1966], device='cuda:0', grad_fn=<DivBackward0>)\n"
     ]
    },
    {
     "name": "stderr",
     "output_type": "stream",
     "text": [
      "Epoch 17: 100%|██████████| 12/12 [00:01<00:00,  6.65it/s, loss=63, acc=0.657, AUC=0.715, val_acc=0.647, val_AUC=0.7]\n"
     ]
    },
    {
     "name": "stdout",
     "output_type": "stream",
     "text": [
      "tensor([ 0.4800, -0.3314, -0.2051, -0.1399, -1.4175, -0.3872, -0.0363,  0.6492,\n",
      "        -0.0817, -0.3425,  0.2008,  0.1652,  0.6424,  0.4166, -0.0817,  0.6641,\n",
      "        -0.1950], device='cuda:0', grad_fn=<DivBackward0>)\n"
     ]
    },
    {
     "name": "stderr",
     "output_type": "stream",
     "text": [
      "Epoch 18: 100%|██████████| 12/12 [00:01<00:00,  6.34it/s, loss=63.2, acc=0.656, AUC=0.713, val_acc=0.652, val_AUC=0.696]\n"
     ]
    },
    {
     "name": "stdout",
     "output_type": "stream",
     "text": [
      "tensor([ 0.4451, -0.3504, -0.1539, -0.1292, -1.4319, -0.3963, -0.0061,  0.6360,\n",
      "        -0.0472, -0.3468,  0.2102,  0.1448,  0.5826,  0.4248, -0.0793,  0.6981,\n",
      "        -0.2004], device='cuda:0', grad_fn=<DivBackward0>)\n"
     ]
    },
    {
     "name": "stderr",
     "output_type": "stream",
     "text": [
      "Epoch 19: 100%|██████████| 12/12 [00:01<00:00,  6.43it/s, loss=63.1, acc=0.659, AUC=0.715, val_acc=0.642, val_AUC=0.694]\n"
     ]
    },
    {
     "name": "stdout",
     "output_type": "stream",
     "text": [
      "tensor([ 0.4453, -0.3569, -0.1652, -0.1368, -1.4268, -0.3981,  0.0074,  0.6362,\n",
      "        -0.0367, -0.3534,  0.2178,  0.1504,  0.5712,  0.4093, -0.0727,  0.7180,\n",
      "        -0.2089], device='cuda:0', grad_fn=<DivBackward0>)\n"
     ]
    },
    {
     "name": "stderr",
     "output_type": "stream",
     "text": [
      "Epoch 20: 100%|██████████| 12/12 [00:01<00:00,  6.54it/s, loss=62.9, acc=0.661, AUC=0.717, val_acc=0.633, val_AUC=0.693]\n"
     ]
    },
    {
     "name": "stdout",
     "output_type": "stream",
     "text": [
      "tensor([ 0.4147, -0.3601, -0.1760, -0.1353, -1.4020, -0.3996, -0.0137,  0.6124,\n",
      "        -0.0409, -0.3543,  0.2421,  0.1384,  0.6047,  0.4044, -0.0581,  0.7323,\n",
      "        -0.2091], device='cuda:0', grad_fn=<DivBackward0>)\n"
     ]
    },
    {
     "name": "stderr",
     "output_type": "stream",
     "text": [
      "Epoch 21: 100%|██████████| 12/12 [00:01<00:00,  6.43it/s, loss=62.8, acc=0.66, AUC=0.72, val_acc=0.651, val_AUC=0.701]\n"
     ]
    },
    {
     "name": "stdout",
     "output_type": "stream",
     "text": [
      "tensor([ 0.4340, -0.3814, -0.1708, -0.1343, -1.3830, -0.4002,  0.0277,  0.5907,\n",
      "        -0.0541, -0.3642,  0.2412,  0.1413,  0.6267,  0.3871, -0.0555,  0.7165,\n",
      "        -0.2217], device='cuda:0', grad_fn=<DivBackward0>)\n"
     ]
    },
    {
     "name": "stderr",
     "output_type": "stream",
     "text": [
      "Epoch 22: 100%|██████████| 12/12 [00:01<00:00,  6.67it/s, loss=62.7, acc=0.664, AUC=0.719, val_acc=0.644, val_AUC=0.7]\n"
     ]
    },
    {
     "name": "stdout",
     "output_type": "stream",
     "text": [
      "tensor([ 0.4121, -0.3894, -0.1696, -0.1402, -1.3715, -0.4036,  0.0660,  0.5821,\n",
      "        -0.0645, -0.3702,  0.2850,  0.1596,  0.5963,  0.3876, -0.0472,  0.7038,\n",
      "        -0.2364], device='cuda:0', grad_fn=<DivBackward0>)\n"
     ]
    },
    {
     "name": "stderr",
     "output_type": "stream",
     "text": [
      "Epoch 23: 100%|██████████| 12/12 [00:01<00:00,  6.58it/s, loss=62.8, acc=0.661, AUC=0.718, val_acc=0.65, val_AUC=0.697]\n"
     ]
    },
    {
     "name": "stdout",
     "output_type": "stream",
     "text": [
      "tensor([ 0.4134, -0.4014, -0.1411, -0.1620, -1.3454, -0.3940,  0.0712,  0.5885,\n",
      "        -0.0605, -0.3807,  0.3070,  0.1536,  0.5840,  0.3709, -0.0638,  0.7003,\n",
      "        -0.2399], device='cuda:0', grad_fn=<DivBackward0>)\n"
     ]
    },
    {
     "name": "stderr",
     "output_type": "stream",
     "text": [
      "Epoch 24: 100%|██████████| 12/12 [00:01<00:00,  6.66it/s, loss=62.6, acc=0.666, AUC=0.722, val_acc=0.643, val_AUC=0.694]\n"
     ]
    },
    {
     "name": "stdout",
     "output_type": "stream",
     "text": [
      "tensor([ 0.3729, -0.4101, -0.1274, -0.1700, -1.3598, -0.3913,  0.0886,  0.6013,\n",
      "        -0.0367, -0.3763,  0.3122,  0.1467,  0.5686,  0.3703, -0.0609,  0.7090,\n",
      "        -0.2371], device='cuda:0', grad_fn=<DivBackward0>)\n"
     ]
    },
    {
     "name": "stderr",
     "output_type": "stream",
     "text": [
      "Epoch 25: 100%|██████████| 12/12 [00:01<00:00,  6.60it/s, loss=62.6, acc=0.664, AUC=0.722, val_acc=0.649, val_AUC=0.703]\n"
     ]
    },
    {
     "name": "stdout",
     "output_type": "stream",
     "text": [
      "tensor([ 0.3658, -0.4161, -0.1270, -0.1626, -1.3405, -0.3867,  0.1040,  0.5875,\n",
      "        -0.0297, -0.3831,  0.2975,  0.1480,  0.5639,  0.3618, -0.0407,  0.7020,\n",
      "        -0.2441], device='cuda:0', grad_fn=<DivBackward0>)\n"
     ]
    },
    {
     "name": "stderr",
     "output_type": "stream",
     "text": [
      "Epoch 26: 100%|██████████| 12/12 [00:01<00:00,  6.64it/s, loss=62.3, acc=0.665, AUC=0.725, val_acc=0.661, val_AUC=0.708]\n"
     ]
    },
    {
     "name": "stdout",
     "output_type": "stream",
     "text": [
      "tensor([ 0.3291, -0.4019, -0.1163, -0.1636, -1.3293, -0.3953,  0.1026,  0.5807,\n",
      "        -0.0268, -0.3735,  0.2965,  0.1631,  0.5419,  0.3522, -0.0375,  0.7170,\n",
      "        -0.2389], device='cuda:0', grad_fn=<DivBackward0>)\n"
     ]
    },
    {
     "name": "stderr",
     "output_type": "stream",
     "text": [
      "Epoch 27: 100%|██████████| 12/12 [00:01<00:00,  6.68it/s, loss=62.2, acc=0.671, AUC=0.727, val_acc=0.65, val_AUC=0.701]\n"
     ]
    },
    {
     "name": "stdout",
     "output_type": "stream",
     "text": [
      "tensor([ 0.2807, -0.4130, -0.1348, -0.1605, -1.3252, -0.3969,  0.1397,  0.5925,\n",
      "        -0.0133, -0.3887,  0.2912,  0.2113,  0.5159,  0.3503, -0.0219,  0.7220,\n",
      "        -0.2492], device='cuda:0', grad_fn=<DivBackward0>)\n"
     ]
    },
    {
     "name": "stderr",
     "output_type": "stream",
     "text": [
      "Epoch 28:  75%|███████▌  | 9/12 [00:01<00:00,  6.71it/s]"
     ]
    }
   ],
   "source": [
    "train_one_run(get_run_config())"
   ]
  },
  {
   "cell_type": "code",
   "execution_count": null,
   "metadata": {},
   "outputs": [],
   "source": []
  },
  {
   "cell_type": "code",
   "execution_count": null,
   "metadata": {},
   "outputs": [],
   "source": []
  },
  {
   "cell_type": "markdown",
   "metadata": {},
   "source": []
  }
 ],
 "metadata": {
  "kernelspec": {
   "display_name": "GNN",
   "language": "python",
   "name": "python3"
  },
  "language_info": {
   "codemirror_mode": {
    "name": "ipython",
    "version": 3
   },
   "file_extension": ".py",
   "mimetype": "text/x-python",
   "name": "python",
   "nbconvert_exporter": "python",
   "pygments_lexer": "ipython3",
   "version": "3.10.12"
  },
  "orig_nbformat": 4
 },
 "nbformat": 4,
 "nbformat_minor": 2
}
