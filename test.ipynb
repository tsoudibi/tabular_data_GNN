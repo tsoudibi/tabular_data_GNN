{
 "cells": [
  {
   "cell_type": "code",
   "execution_count": 1,
   "metadata": {},
   "outputs": [
    {
     "name": "stderr",
     "output_type": "stream",
     "text": [
      "/home/tsou/.conda/envs/pyg/lib/python3.10/site-packages/tqdm/auto.py:21: TqdmWarning: IProgress not found. Please update jupyter and ipywidgets. See https://ipywidgets.readthedocs.io/en/stable/user_install.html\n",
      "  from .autonotebook import tqdm as notebook_tqdm\n"
     ]
    },
    {
     "name": "stdout",
     "output_type": "stream",
     "text": [
      "=================[dataset is set to compass_old ]=================\n",
      "[Tensorflow] Set seed failed,details are: No module named 'tensorflow'\n",
      "[Pytorch] Seed set successfully\n",
      "[Pytorch Geometric] Seed set successfully\n",
      "[Sklearn] Seed set successfully\n",
      "=================[run config is loaded]=================\n"
     ]
    }
   ],
   "source": [
    "from trainer import *"
   ]
  },
  {
   "cell_type": "code",
   "execution_count": 2,
   "metadata": {},
   "outputs": [
    {
     "name": "stdout",
     "output_type": "stream",
     "text": [
      "-----------------------------------------\n",
      "-----------------------------------------\n",
      "-----------------------------------------\n",
      "-----------------------------------------\n",
      "-----------------------------------------\n"
     ]
    }
   ],
   "source": [
    "test_run()"
   ]
  },
  {
   "cell_type": "code",
   "execution_count": 3,
   "metadata": {},
   "outputs": [
    {
     "data": {
      "text/plain": [
       "tensor([-0.3540, -0.2897, -0.7217,  0.0406, -0.6508,  0.3281,  1.3705, -0.2578,\n",
       "         0.0726,  0.7587,  0.5944, -1.1558, -0.4648, -0.2391,  0.6011, -0.2777,\n",
       "         0.6455], device='cuda:0', grad_fn=<DivBackward0>)"
      ]
     },
     "execution_count": 3,
     "metadata": {},
     "output_type": "execute_result"
    }
   ],
   "source": [
    "extractor = get_feature_importance_extractor()\n",
    "extractor.get()"
   ]
  },
  {
   "cell_type": "code",
   "execution_count": 4,
   "metadata": {},
   "outputs": [
    {
     "name": "stderr",
     "output_type": "stream",
     "text": [
      "Epoch 1: 100%|██████████| 12/12 [00:01<00:00,  8.49it/s, loss=71.6, acc=0.587, AUC=0.617, val_acc=0.624, val_AUC=0.66]\n"
     ]
    },
    {
     "name": "stdout",
     "output_type": "stream",
     "text": [
      "tensor([-0.0613, -0.3284, -0.2715,  0.0941, -0.1687, -0.5478,  0.3719,  0.0078,\n",
      "         0.4519,  0.2547,  0.1216, -0.3804, -0.4975,  0.4153,  0.3805, -0.0315,\n",
      "         0.1893], device='cuda:0', grad_fn=<DivBackward0>)\n"
     ]
    },
    {
     "name": "stderr",
     "output_type": "stream",
     "text": [
      "Epoch 2: 100%|██████████| 12/12 [00:01<00:00, 10.04it/s, loss=66.8, acc=0.622, AUC=0.666, val_acc=0.632, val_AUC=0.671]\n"
     ]
    },
    {
     "name": "stdout",
     "output_type": "stream",
     "text": [
      "tensor([ 0.0361, -0.3941, -0.1682,  0.1244, -0.0971, -0.9149, -0.0448,  0.1949,\n",
      "         0.4566,  0.0769,  0.1067, -0.2057, -0.3706,  0.7240,  0.3898,  0.0370,\n",
      "         0.0491], device='cuda:0', grad_fn=<DivBackward0>)\n"
     ]
    },
    {
     "name": "stderr",
     "output_type": "stream",
     "text": [
      "Epoch 3: 100%|██████████| 12/12 [00:01<00:00, 11.43it/s, loss=66, acc=0.634, AUC=0.677, val_acc=0.64, val_AUC=0.676]\n"
     ]
    },
    {
     "name": "stdout",
     "output_type": "stream",
     "text": [
      "tensor([ 0.0857, -0.3585, -0.1482,  0.1473, -0.1435, -0.9133, -0.0957,  0.2712,\n",
      "         0.4335,  0.0861,  0.1034, -0.2635, -0.4518,  0.7818,  0.3912,  0.0229,\n",
      "         0.0514], device='cuda:0', grad_fn=<DivBackward0>)\n"
     ]
    },
    {
     "name": "stderr",
     "output_type": "stream",
     "text": [
      "Epoch 4: 100%|██████████| 12/12 [00:01<00:00, 10.75it/s, loss=65.3, acc=0.636, AUC=0.686, val_acc=0.638, val_AUC=0.679]\n"
     ]
    },
    {
     "name": "stdout",
     "output_type": "stream",
     "text": [
      "tensor([ 0.1158, -0.3564, -0.0831,  0.1843, -0.2021, -0.9540, -0.1429,  0.3420,\n",
      "         0.4105,  0.1046,  0.0392, -0.2973, -0.5118,  0.8138,  0.3893,  0.0936,\n",
      "         0.0547], device='cuda:0', grad_fn=<DivBackward0>)\n"
     ]
    },
    {
     "name": "stderr",
     "output_type": "stream",
     "text": [
      "Epoch 5: 100%|██████████| 12/12 [00:01<00:00, 11.25it/s, loss=64.8, acc=0.644, AUC=0.694, val_acc=0.635, val_AUC=0.69]\n"
     ]
    },
    {
     "name": "stdout",
     "output_type": "stream",
     "text": [
      "tensor([ 0.1330, -0.3834, -0.0608,  0.2309, -0.2288, -0.9567, -0.1423,  0.3424,\n",
      "         0.4241,  0.1053,  0.0193, -0.2777, -0.5785,  0.8531,  0.3914,  0.0742,\n",
      "         0.0545], device='cuda:0', grad_fn=<DivBackward0>)\n"
     ]
    },
    {
     "name": "stderr",
     "output_type": "stream",
     "text": [
      "Epoch 6: 100%|██████████| 12/12 [00:01<00:00, 11.20it/s, loss=64.8, acc=0.645, AUC=0.695, val_acc=0.649, val_AUC=0.698]\n"
     ]
    },
    {
     "name": "stdout",
     "output_type": "stream",
     "text": [
      "tensor([ 0.1573, -0.4069, -0.0470,  0.2413, -0.2451, -0.9555, -0.0959,  0.3590,\n",
      "         0.4311,  0.1217,  0.0281, -0.3224, -0.6111,  0.8661,  0.4060,  0.0170,\n",
      "         0.0564], device='cuda:0', grad_fn=<DivBackward0>)\n"
     ]
    },
    {
     "name": "stderr",
     "output_type": "stream",
     "text": [
      "Epoch 7: 100%|██████████| 12/12 [00:01<00:00, 11.20it/s, loss=64.6, acc=0.648, AUC=0.696, val_acc=0.65, val_AUC=0.703]\n"
     ]
    },
    {
     "name": "stdout",
     "output_type": "stream",
     "text": [
      "tensor([ 0.1716, -0.4202, -0.0596,  0.2666, -0.2607, -0.9206, -0.0799,  0.3472,\n",
      "         0.4534,  0.1253,  0.0276, -0.3702, -0.6222,  0.8878,  0.4132, -0.0318,\n",
      "         0.0725], device='cuda:0', grad_fn=<DivBackward0>)\n"
     ]
    },
    {
     "name": "stderr",
     "output_type": "stream",
     "text": [
      "Epoch 8: 100%|██████████| 12/12 [00:01<00:00, 11.18it/s, loss=64.1, acc=0.652, AUC=0.703, val_acc=0.634, val_AUC=0.692]\n"
     ]
    },
    {
     "name": "stdout",
     "output_type": "stream",
     "text": [
      "tensor([ 0.1996, -0.4124, -0.0642,  0.2914, -0.2650, -0.9089, -0.0763,  0.3382,\n",
      "         0.4709,  0.1268,  0.0177, -0.3689, -0.6694,  0.9070,  0.3910, -0.0472,\n",
      "         0.0697], device='cuda:0', grad_fn=<DivBackward0>)\n"
     ]
    },
    {
     "name": "stderr",
     "output_type": "stream",
     "text": [
      "Epoch 9: 100%|██████████| 12/12 [00:01<00:00, 11.11it/s, loss=63.6, acc=0.654, AUC=0.71, val_acc=0.649, val_AUC=0.691]\n"
     ]
    },
    {
     "name": "stdout",
     "output_type": "stream",
     "text": [
      "tensor([ 0.2129, -0.4326, -0.0604,  0.2485, -0.2852, -0.8963, -0.0832,  0.3464,\n",
      "         0.5008,  0.1289,  0.0152, -0.3524, -0.6588,  0.9167,  0.3863, -0.0498,\n",
      "         0.0631], device='cuda:0', grad_fn=<DivBackward0>)\n"
     ]
    },
    {
     "name": "stderr",
     "output_type": "stream",
     "text": [
      "Epoch 10: 100%|██████████| 12/12 [00:01<00:00, 11.17it/s, loss=63.9, acc=0.653, AUC=0.706, val_acc=0.643, val_AUC=0.692]\n"
     ]
    },
    {
     "name": "stdout",
     "output_type": "stream",
     "text": [
      "tensor([ 0.1888, -0.4517, -0.0467,  0.2648, -0.2979, -0.8943, -0.0979,  0.3393,\n",
      "         0.4990,  0.1291, -0.0132, -0.3050, -0.6331,  0.9359,  0.3995, -0.0917,\n",
      "         0.0751], device='cuda:0', grad_fn=<DivBackward0>)\n"
     ]
    },
    {
     "name": "stderr",
     "output_type": "stream",
     "text": [
      "Epoch 11: 100%|██████████| 12/12 [00:01<00:00, 10.87it/s, loss=63.7, acc=0.656, AUC=0.709, val_acc=0.648, val_AUC=0.694]\n"
     ]
    },
    {
     "name": "stdout",
     "output_type": "stream",
     "text": [
      "tensor([ 0.1914, -0.4646, -0.0256,  0.2962, -0.3246, -0.9107, -0.0965,  0.3531,\n",
      "         0.4621,  0.1345, -0.0033, -0.3067, -0.6394,  0.9616,  0.4053, -0.1114,\n",
      "         0.0787], device='cuda:0', grad_fn=<DivBackward0>)\n"
     ]
    },
    {
     "name": "stderr",
     "output_type": "stream",
     "text": [
      "Epoch 12: 100%|██████████| 12/12 [00:01<00:00, 11.08it/s, loss=63.5, acc=0.657, AUC=0.71, val_acc=0.65, val_AUC=0.701]\n"
     ]
    },
    {
     "name": "stdout",
     "output_type": "stream",
     "text": [
      "tensor([ 0.2319, -0.4759, -0.0252,  0.3290, -0.3328, -0.9020, -0.0652,  0.3512,\n",
      "         0.4347,  0.1353,  0.0011, -0.3477, -0.6758,  0.9642,  0.4211, -0.1319,\n",
      "         0.0879], device='cuda:0', grad_fn=<DivBackward0>)\n"
     ]
    },
    {
     "name": "stderr",
     "output_type": "stream",
     "text": [
      "Epoch 13: 100%|██████████| 12/12 [00:01<00:00, 11.06it/s, loss=63.2, acc=0.659, AUC=0.716, val_acc=0.651, val_AUC=0.706]\n"
     ]
    },
    {
     "name": "stdout",
     "output_type": "stream",
     "text": [
      "tensor([ 0.2219, -0.4798, -0.0014,  0.3231, -0.3441, -0.8833, -0.0500,  0.3503,\n",
      "         0.4364,  0.1352,  0.0063, -0.3377, -0.6896,  0.9730,  0.4297, -0.1752,\n",
      "         0.0854], device='cuda:0', grad_fn=<DivBackward0>)\n"
     ]
    },
    {
     "name": "stderr",
     "output_type": "stream",
     "text": [
      "Epoch 14: 100%|██████████| 12/12 [00:01<00:00, 11.11it/s, loss=63.5, acc=0.656, AUC=0.712, val_acc=0.668, val_AUC=0.711]\n"
     ]
    },
    {
     "name": "stdout",
     "output_type": "stream",
     "text": [
      "tensor([ 0.1989, -0.4762,  0.0192,  0.3115, -0.3648, -0.8863, -0.0209,  0.3479,\n",
      "         0.4196,  0.1357,  0.0289, -0.3395, -0.6950,  0.9989,  0.4378, -0.2012,\n",
      "         0.0855], device='cuda:0', grad_fn=<DivBackward0>)\n"
     ]
    },
    {
     "name": "stderr",
     "output_type": "stream",
     "text": [
      "Epoch 15: 100%|██████████| 12/12 [00:01<00:00, 11.18it/s, loss=63, acc=0.663, AUC=0.719, val_acc=0.656, val_AUC=0.713]\n"
     ]
    },
    {
     "name": "stdout",
     "output_type": "stream",
     "text": [
      "tensor([ 0.1970, -0.4887, -0.0027,  0.2974, -0.3498, -0.8738, -0.0265,  0.3032,\n",
      "         0.4200,  0.1526,  0.0276, -0.3209, -0.6605,  1.0041,  0.4571, -0.2309,\n",
      "         0.0949], device='cuda:0', grad_fn=<DivBackward0>)\n"
     ]
    },
    {
     "name": "stderr",
     "output_type": "stream",
     "text": [
      "Epoch 16: 100%|██████████| 12/12 [00:01<00:00, 11.05it/s, loss=62.8, acc=0.661, AUC=0.72, val_acc=0.656, val_AUC=0.707]\n"
     ]
    },
    {
     "name": "stdout",
     "output_type": "stream",
     "text": [
      "tensor([ 0.1815, -0.4858,  0.0137,  0.3076, -0.3325, -0.8477, -0.0765,  0.3100,\n",
      "         0.4206,  0.1640, -0.0162, -0.3116, -0.6420,  1.0066,  0.4626, -0.2589,\n",
      "         0.1047], device='cuda:0', grad_fn=<DivBackward0>)\n"
     ]
    },
    {
     "name": "stderr",
     "output_type": "stream",
     "text": [
      "Epoch 17: 100%|██████████| 12/12 [00:01<00:00, 11.07it/s, loss=63, acc=0.663, AUC=0.719, val_acc=0.656, val_AUC=0.707]\n"
     ]
    },
    {
     "name": "stdout",
     "output_type": "stream",
     "text": [
      "tensor([ 0.1662, -0.4849,  0.0259,  0.3254, -0.3225, -0.8482, -0.0650,  0.3046,\n",
      "         0.3957,  0.1555, -0.0399, -0.3026, -0.6319,  1.0290,  0.4757, -0.2811,\n",
      "         0.0983], device='cuda:0', grad_fn=<DivBackward0>)\n"
     ]
    },
    {
     "name": "stderr",
     "output_type": "stream",
     "text": [
      "Epoch 18: 100%|██████████| 12/12 [00:01<00:00, 10.98it/s, loss=62.7, acc=0.663, AUC=0.721, val_acc=0.661, val_AUC=0.706]\n"
     ]
    },
    {
     "name": "stdout",
     "output_type": "stream",
     "text": [
      "tensor([ 0.1660, -0.4755,  0.0226,  0.3543, -0.3165, -0.8338, -0.0833,  0.2725,\n",
      "         0.3817,  0.1626, -0.0482, -0.3031, -0.6197,  1.0441,  0.4874, -0.3139,\n",
      "         0.1029], device='cuda:0', grad_fn=<DivBackward0>)\n"
     ]
    },
    {
     "name": "stderr",
     "output_type": "stream",
     "text": [
      "Epoch 19: 100%|██████████| 12/12 [00:01<00:00, 11.06it/s, loss=62.8, acc=0.667, AUC=0.722, val_acc=0.66, val_AUC=0.711]\n"
     ]
    },
    {
     "name": "stdout",
     "output_type": "stream",
     "text": [
      "tensor([ 0.1572, -0.4701,  0.0244,  0.3617, -0.3083, -0.8342, -0.0891,  0.2946,\n",
      "         0.3624,  0.1643, -0.0642, -0.3069, -0.5928,  1.0506,  0.4728, -0.3279,\n",
      "         0.1053], device='cuda:0', grad_fn=<DivBackward0>)\n"
     ]
    },
    {
     "name": "stderr",
     "output_type": "stream",
     "text": [
      "Epoch 20: 100%|██████████| 12/12 [00:01<00:00, 11.03it/s, loss=62.6, acc=0.666, AUC=0.724, val_acc=0.665, val_AUC=0.717]\n"
     ]
    },
    {
     "name": "stdout",
     "output_type": "stream",
     "text": [
      "tensor([ 0.1624, -0.4825,  0.0036,  0.3812, -0.3065, -0.8367, -0.1026,  0.3065,\n",
      "         0.3397,  0.1733, -0.0402, -0.2910, -0.5878,  1.0531,  0.4826, -0.3669,\n",
      "         0.1117], device='cuda:0', grad_fn=<DivBackward0>)\n"
     ]
    },
    {
     "name": "stderr",
     "output_type": "stream",
     "text": [
      "Epoch 21: 100%|██████████| 12/12 [00:01<00:00, 10.95it/s, loss=62.5, acc=0.664, AUC=0.725, val_acc=0.658, val_AUC=0.714]\n"
     ]
    },
    {
     "name": "stdout",
     "output_type": "stream",
     "text": [
      "tensor([ 0.1755, -0.4774, -0.0088,  0.3929, -0.3077, -0.8375, -0.0832,  0.3096,\n",
      "         0.3434,  0.1778, -0.0301, -0.3036, -0.6051,  1.0468,  0.4811, -0.3891,\n",
      "         0.1155], device='cuda:0', grad_fn=<DivBackward0>)\n"
     ]
    },
    {
     "name": "stderr",
     "output_type": "stream",
     "text": [
      "Epoch 22: 100%|██████████| 12/12 [00:01<00:00, 11.00it/s, loss=62.2, acc=0.671, AUC=0.73, val_acc=0.661, val_AUC=0.709]\n"
     ]
    },
    {
     "name": "stdout",
     "output_type": "stream",
     "text": [
      "tensor([ 0.1569, -0.4852,  0.0102,  0.3788, -0.3114, -0.8172, -0.1134,  0.3217,\n",
      "         0.3218,  0.1773, -0.0229, -0.2842, -0.6057,  1.0563,  0.4898, -0.3966,\n",
      "         0.1236], device='cuda:0', grad_fn=<DivBackward0>)\n"
     ]
    },
    {
     "name": "stderr",
     "output_type": "stream",
     "text": [
      "Epoch 23: 100%|██████████| 12/12 [00:01<00:00, 10.92it/s, loss=62.1, acc=0.668, AUC=0.729, val_acc=0.676, val_AUC=0.728]\n"
     ]
    },
    {
     "name": "stdout",
     "output_type": "stream",
     "text": [
      "tensor([ 0.1442, -0.4940,  0.0102,  0.4195, -0.3097, -0.7971, -0.1250,  0.3103,\n",
      "         0.2956,  0.1843, -0.0455, -0.2842, -0.5921,  1.0856,  0.4838, -0.4040,\n",
      "         0.1182], device='cuda:0', grad_fn=<DivBackward0>)\n"
     ]
    },
    {
     "name": "stderr",
     "output_type": "stream",
     "text": [
      "Epoch 24: 100%|██████████| 12/12 [00:01<00:00, 10.97it/s, loss=62, acc=0.672, AUC=0.732, val_acc=0.662, val_AUC=0.719]\n"
     ]
    },
    {
     "name": "stdout",
     "output_type": "stream",
     "text": [
      "tensor([ 0.1280, -0.4756,  0.0138,  0.4211, -0.2824, -0.7955, -0.1263,  0.2844,\n",
      "         0.3002,  0.1926, -0.0521, -0.2752, -0.5878,  1.0799,  0.4855, -0.4408,\n",
      "         0.1301], device='cuda:0', grad_fn=<DivBackward0>)\n"
     ]
    },
    {
     "name": "stderr",
     "output_type": "stream",
     "text": [
      "Epoch 25: 100%|██████████| 12/12 [00:01<00:00, 10.73it/s, loss=62.2, acc=0.671, AUC=0.728, val_acc=0.653, val_AUC=0.716]\n"
     ]
    },
    {
     "name": "stdout",
     "output_type": "stream",
     "text": [
      "tensor([ 1.2048e-01, -4.8915e-01, -9.7150e-04,  4.5679e-01, -2.9909e-01,\n",
      "        -7.8171e-01, -1.2893e-01,  2.8734e-01,  2.8317e-01,  1.9808e-01,\n",
      "        -5.3811e-02, -2.7059e-01, -5.7685e-01,  1.0849e+00,  4.9510e-01,\n",
      "        -4.5161e-01,  1.2690e-01], device='cuda:0', grad_fn=<DivBackward0>)\n"
     ]
    },
    {
     "name": "stderr",
     "output_type": "stream",
     "text": [
      "Epoch 26: 100%|██████████| 12/12 [00:01<00:00, 10.94it/s, loss=61.8, acc=0.672, AUC=0.733, val_acc=0.656, val_AUC=0.72]\n"
     ]
    },
    {
     "name": "stdout",
     "output_type": "stream",
     "text": [
      "tensor([ 0.1016, -0.4845,  0.0189,  0.4768, -0.3038, -0.7611, -0.1416,  0.2830,\n",
      "         0.2474,  0.1906, -0.0766, -0.2635, -0.5365,  1.0909,  0.4894, -0.4574,\n",
      "         0.1264], device='cuda:0', grad_fn=<DivBackward0>)\n"
     ]
    },
    {
     "name": "stderr",
     "output_type": "stream",
     "text": [
      "Epoch 27: 100%|██████████| 12/12 [00:01<00:00, 10.93it/s, loss=61.7, acc=0.675, AUC=0.734, val_acc=0.664, val_AUC=0.722]\n"
     ]
    },
    {
     "name": "stdout",
     "output_type": "stream",
     "text": [
      "tensor([ 0.0764, -0.4996,  0.0301,  0.4716, -0.3078, -0.7600, -0.1693,  0.3027,\n",
      "         0.2409,  0.2031, -0.0765, -0.2792, -0.4977,  1.0938,  0.4879, -0.4527,\n",
      "         0.1361], device='cuda:0', grad_fn=<DivBackward0>)\n"
     ]
    },
    {
     "name": "stderr",
     "output_type": "stream",
     "text": [
      "Epoch 28: 100%|██████████| 12/12 [00:01<00:00, 10.85it/s, loss=61.7, acc=0.676, AUC=0.735, val_acc=0.67, val_AUC=0.724]\n"
     ]
    },
    {
     "name": "stdout",
     "output_type": "stream",
     "text": [
      "tensor([ 0.0680, -0.5048,  0.0020,  0.4878, -0.3129, -0.7776, -0.1663,  0.3094,\n",
      "         0.2284,  0.2041, -0.0821, -0.2493, -0.4762,  1.0986,  0.4947, -0.4645,\n",
      "         0.1408], device='cuda:0', grad_fn=<DivBackward0>)\n"
     ]
    },
    {
     "name": "stderr",
     "output_type": "stream",
     "text": [
      "Epoch 29: 100%|██████████| 12/12 [00:01<00:00, 10.87it/s, loss=61.5, acc=0.676, AUC=0.737, val_acc=0.675, val_AUC=0.727]\n"
     ]
    },
    {
     "name": "stdout",
     "output_type": "stream",
     "text": [
      "tensor([ 0.0747, -0.5156,  0.0037,  0.5027, -0.3249, -0.7561, -0.1816,  0.3202,\n",
      "         0.2123,  0.2042, -0.0952, -0.2622, -0.4826,  1.1038,  0.5109, -0.4579,\n",
      "         0.1435], device='cuda:0', grad_fn=<DivBackward0>)\n"
     ]
    },
    {
     "name": "stderr",
     "output_type": "stream",
     "text": [
      "Epoch 30: 100%|██████████| 12/12 [00:01<00:00, 10.84it/s, loss=61.5, acc=0.679, AUC=0.737, val_acc=0.667, val_AUC=0.726]\n"
     ]
    },
    {
     "name": "stdout",
     "output_type": "stream",
     "text": [
      "tensor([ 0.0556, -0.5269,  0.0019,  0.4927, -0.3188, -0.7446, -0.1730,  0.3255,\n",
      "         0.2101,  0.2106, -0.1005, -0.2625, -0.4950,  1.1193,  0.5090, -0.4629,\n",
      "         0.1596], device='cuda:0', grad_fn=<DivBackward0>)\n"
     ]
    },
    {
     "name": "stderr",
     "output_type": "stream",
     "text": [
      "Epoch 31: 100%|██████████| 12/12 [00:01<00:00, 10.88it/s, loss=61.2, acc=0.681, AUC=0.741, val_acc=0.672, val_AUC=0.73]\n"
     ]
    },
    {
     "name": "stdout",
     "output_type": "stream",
     "text": [
      "tensor([ 0.0450, -0.5326,  0.0022,  0.4789, -0.3156, -0.7472, -0.1542,  0.3343,\n",
      "         0.2050,  0.2179, -0.0883, -0.2725, -0.4636,  1.1197,  0.5032, -0.4912,\n",
      "         0.1591], device='cuda:0', grad_fn=<DivBackward0>)\n"
     ]
    },
    {
     "name": "stderr",
     "output_type": "stream",
     "text": [
      "Epoch 32: 100%|██████████| 12/12 [00:01<00:00, 10.82it/s, loss=61.1, acc=0.677, AUC=0.743, val_acc=0.658, val_AUC=0.719]\n"
     ]
    },
    {
     "name": "stdout",
     "output_type": "stream",
     "text": [
      "tensor([ 0.0146, -0.5296,  0.0040,  0.5039, -0.3153, -0.7502, -0.1565,  0.3072,\n",
      "         0.1849,  0.2291, -0.1011, -0.2644, -0.4413,  1.1286,  0.5125, -0.4875,\n",
      "         0.1611], device='cuda:0', grad_fn=<DivBackward0>)\n"
     ]
    },
    {
     "name": "stderr",
     "output_type": "stream",
     "text": [
      "Epoch 33: 100%|██████████| 12/12 [00:01<00:00, 10.84it/s, loss=61, acc=0.677, AUC=0.743, val_acc=0.669, val_AUC=0.724]\n"
     ]
    },
    {
     "name": "stdout",
     "output_type": "stream",
     "text": [
      "tensor([ 0.0037, -0.5296, -0.0083,  0.5269, -0.3153, -0.7345, -0.1515,  0.2796,\n",
      "         0.1845,  0.2331, -0.1089, -0.2476, -0.4394,  1.1226,  0.5106, -0.4865,\n",
      "         0.1605], device='cuda:0', grad_fn=<DivBackward0>)\n"
     ]
    },
    {
     "name": "stderr",
     "output_type": "stream",
     "text": [
      "Epoch 34: 100%|██████████| 12/12 [00:01<00:00, 10.83it/s, loss=60.8, acc=0.68, AUC=0.745, val_acc=0.667, val_AUC=0.727]\n"
     ]
    },
    {
     "name": "stdout",
     "output_type": "stream",
     "text": [
      "tensor([-0.0115, -0.5258,  0.0074,  0.5411, -0.3082, -0.7346, -0.1514,  0.2596,\n",
      "         0.1526,  0.2350, -0.1261, -0.2596, -0.4039,  1.1318,  0.5223, -0.4903,\n",
      "         0.1617], device='cuda:0', grad_fn=<DivBackward0>)\n"
     ]
    },
    {
     "name": "stderr",
     "output_type": "stream",
     "text": [
      "Epoch 35: 100%|██████████| 12/12 [00:01<00:00, 10.67it/s, loss=60.8, acc=0.679, AUC=0.745, val_acc=0.673, val_AUC=0.727]\n"
     ]
    },
    {
     "name": "stdout",
     "output_type": "stream",
     "text": [
      "tensor([-0.0274, -0.5112, -0.0043,  0.5594, -0.2842, -0.7014, -0.1662,  0.2309,\n",
      "         0.1476,  0.2453, -0.1457, -0.2676, -0.4066,  1.1362,  0.5205, -0.4963,\n",
      "         0.1709], device='cuda:0', grad_fn=<DivBackward0>)\n"
     ]
    },
    {
     "name": "stderr",
     "output_type": "stream",
     "text": [
      "Epoch 36: 100%|██████████| 12/12 [00:01<00:00, 10.77it/s, loss=60.6, acc=0.682, AUC=0.749, val_acc=0.672, val_AUC=0.728]\n"
     ]
    },
    {
     "name": "stdout",
     "output_type": "stream",
     "text": [
      "tensor([-0.0367, -0.5166, -0.0125,  0.5428, -0.2936, -0.7112, -0.1700,  0.2335,\n",
      "         0.1568,  0.2481, -0.1392, -0.2620, -0.3849,  1.1426,  0.5181, -0.4920,\n",
      "         0.1768], device='cuda:0', grad_fn=<DivBackward0>)\n"
     ]
    },
    {
     "name": "stderr",
     "output_type": "stream",
     "text": [
      "Epoch 37: 100%|██████████| 12/12 [00:01<00:00, 10.22it/s, loss=60.6, acc=0.681, AUC=0.748, val_acc=0.666, val_AUC=0.72]\n"
     ]
    },
    {
     "name": "stdout",
     "output_type": "stream",
     "text": [
      "tensor([-0.0593, -0.5181, -0.0246,  0.5395, -0.3032, -0.7238, -0.1538,  0.2327,\n",
      "         0.1560,  0.2584, -0.1278, -0.2874, -0.3325,  1.1382,  0.5144, -0.4920,\n",
      "         0.1833], device='cuda:0', grad_fn=<DivBackward0>)\n"
     ]
    },
    {
     "name": "stderr",
     "output_type": "stream",
     "text": [
      "Epoch 38: 100%|██████████| 12/12 [00:01<00:00, 10.72it/s, loss=60.3, acc=0.685, AUC=0.752, val_acc=0.68, val_AUC=0.73]\n"
     ]
    },
    {
     "name": "stdout",
     "output_type": "stream",
     "text": [
      "tensor([-0.0647, -0.5245, -0.0232,  0.5360, -0.2967, -0.7301, -0.1474,  0.2426,\n",
      "         0.1326,  0.2561, -0.1298, -0.2680, -0.3244,  1.1451,  0.5046, -0.4981,\n",
      "         0.1898], device='cuda:0', grad_fn=<DivBackward0>)\n"
     ]
    },
    {
     "name": "stderr",
     "output_type": "stream",
     "text": [
      "Epoch 39: 100%|██████████| 12/12 [00:01<00:00, 10.70it/s, loss=60.3, acc=0.686, AUC=0.751, val_acc=0.673, val_AUC=0.738]\n"
     ]
    },
    {
     "name": "stdout",
     "output_type": "stream",
     "text": [
      "tensor([-0.0754, -0.5336, -0.0203,  0.5364, -0.3011, -0.7289, -0.1229,  0.2329,\n",
      "         0.1201,  0.2652, -0.1324, -0.2504, -0.3070,  1.1568,  0.4923, -0.5193,\n",
      "         0.1875], device='cuda:0', grad_fn=<DivBackward0>)\n"
     ]
    },
    {
     "name": "stderr",
     "output_type": "stream",
     "text": [
      "Epoch 40: 100%|██████████| 12/12 [00:01<00:00, 10.70it/s, loss=60.1, acc=0.688, AUC=0.753, val_acc=0.669, val_AUC=0.732]\n"
     ]
    },
    {
     "name": "stdout",
     "output_type": "stream",
     "text": [
      "tensor([-0.0939, -0.5330, -0.0091,  0.5657, -0.2902, -0.7193, -0.1263,  0.2151,\n",
      "         0.1092,  0.2656, -0.1323, -0.2623, -0.3034,  1.1479,  0.4940, -0.5174,\n",
      "         0.1897], device='cuda:0', grad_fn=<DivBackward0>)\n"
     ]
    },
    {
     "name": "stderr",
     "output_type": "stream",
     "text": [
      "Epoch 41: 100%|██████████| 12/12 [00:01<00:00, 10.61it/s, loss=60.2, acc=0.688, AUC=0.753, val_acc=0.677, val_AUC=0.738]\n"
     ]
    },
    {
     "name": "stdout",
     "output_type": "stream",
     "text": [
      "tensor([-0.1169, -0.5322, -0.0125,  0.5736, -0.2945, -0.7276, -0.1413,  0.2154,\n",
      "         0.0894,  0.2642, -0.1189, -0.2383, -0.2784,  1.1467,  0.4908, -0.5178,\n",
      "         0.1984], device='cuda:0', grad_fn=<DivBackward0>)\n"
     ]
    },
    {
     "name": "stderr",
     "output_type": "stream",
     "text": [
      "Epoch 42: 100%|██████████| 12/12 [00:01<00:00, 10.61it/s, loss=59.6, acc=0.696, AUC=0.759, val_acc=0.665, val_AUC=0.729]\n"
     ]
    },
    {
     "name": "stdout",
     "output_type": "stream",
     "text": [
      "tensor([-0.1417, -0.5322, -0.0095,  0.5702, -0.2934, -0.7153, -0.1574,  0.1968,\n",
      "         0.0796,  0.2714, -0.1180, -0.2473, -0.2629,  1.1663,  0.4996, -0.5094,\n",
      "         0.2034], device='cuda:0', grad_fn=<DivBackward0>)\n"
     ]
    },
    {
     "name": "stderr",
     "output_type": "stream",
     "text": [
      "Epoch 43: 100%|██████████| 12/12 [00:01<00:00, 10.64it/s, loss=59.7, acc=0.691, AUC=0.758, val_acc=0.674, val_AUC=0.732]\n"
     ]
    },
    {
     "name": "stdout",
     "output_type": "stream",
     "text": [
      "tensor([-0.1442, -0.5402, -0.0173,  0.5738, -0.3055, -0.7210, -0.1566,  0.2167,\n",
      "         0.0850,  0.2763, -0.1248, -0.2603, -0.2406,  1.1625,  0.4909, -0.5067,\n",
      "         0.2120], device='cuda:0', grad_fn=<DivBackward0>)\n"
     ]
    },
    {
     "name": "stderr",
     "output_type": "stream",
     "text": [
      "Epoch 44: 100%|██████████| 12/12 [00:01<00:00, 10.63it/s, loss=59.6, acc=0.688, AUC=0.759, val_acc=0.678, val_AUC=0.739]\n"
     ]
    },
    {
     "name": "stdout",
     "output_type": "stream",
     "text": [
      "tensor([-0.1418, -0.5222, -0.0196,  0.5407, -0.3062, -0.7195, -0.1601,  0.2308,\n",
      "         0.0774,  0.2871, -0.1145, -0.2515, -0.2331,  1.1695,  0.4726, -0.5171,\n",
      "         0.2077], device='cuda:0', grad_fn=<DivBackward0>)\n"
     ]
    },
    {
     "name": "stderr",
     "output_type": "stream",
     "text": [
      "Epoch 45: 100%|██████████| 12/12 [00:01<00:00, 10.66it/s, loss=59.6, acc=0.691, AUC=0.758, val_acc=0.669, val_AUC=0.73]\n"
     ]
    },
    {
     "name": "stdout",
     "output_type": "stream",
     "text": [
      "tensor([-0.1525, -0.5275, -0.0171,  0.5313, -0.3096, -0.7303, -0.1615,  0.2511,\n",
      "         0.0708,  0.2956, -0.1124, -0.2353, -0.2452,  1.1730,  0.4713, -0.5139,\n",
      "         0.2121], device='cuda:0', grad_fn=<DivBackward0>)\n"
     ]
    },
    {
     "name": "stderr",
     "output_type": "stream",
     "text": [
      "Epoch 46: 100%|██████████| 12/12 [00:01<00:00, 10.60it/s, loss=59.3, acc=0.693, AUC=0.762, val_acc=0.665, val_AUC=0.736]\n"
     ]
    },
    {
     "name": "stdout",
     "output_type": "stream",
     "text": [
      "tensor([-0.1692, -0.5309, -0.0150,  0.5251, -0.3147, -0.7438, -0.1672,  0.2588,\n",
      "         0.0506,  0.2950, -0.1167, -0.2161, -0.2286,  1.1862,  0.4714, -0.4976,\n",
      "         0.2127], device='cuda:0', grad_fn=<DivBackward0>)\n"
     ]
    },
    {
     "name": "stderr",
     "output_type": "stream",
     "text": [
      "Epoch 47: 100%|██████████| 12/12 [00:01<00:00, 10.61it/s, loss=59.3, acc=0.696, AUC=0.762, val_acc=0.678, val_AUC=0.741]\n"
     ]
    },
    {
     "name": "stdout",
     "output_type": "stream",
     "text": [
      "tensor([-0.1848, -0.5385, -0.0221,  0.5317, -0.3182, -0.7416, -0.1667,  0.2670,\n",
      "         0.0265,  0.2965, -0.1222, -0.2211, -0.2076,  1.1869,  0.4689, -0.4799,\n",
      "         0.2250], device='cuda:0', grad_fn=<DivBackward0>)\n"
     ]
    },
    {
     "name": "stderr",
     "output_type": "stream",
     "text": [
      "Epoch 48: 100%|██████████| 12/12 [00:01<00:00, 10.52it/s, loss=58.8, acc=0.696, AUC=0.768, val_acc=0.688, val_AUC=0.751]\n"
     ]
    },
    {
     "name": "stdout",
     "output_type": "stream",
     "text": [
      "tensor([-1.9239e-01, -5.4922e-01, -1.0716e-03,  5.4010e-01, -3.1384e-01,\n",
      "        -7.2671e-01, -1.6397e-01,  2.5978e-01,  1.0093e-03,  2.9633e-01,\n",
      "        -1.4599e-01, -2.1547e-01, -1.9246e-01,  1.2052e+00,  4.5473e-01,\n",
      "        -4.8624e-01,  2.3019e-01], device='cuda:0', grad_fn=<DivBackward0>)\n"
     ]
    },
    {
     "name": "stderr",
     "output_type": "stream",
     "text": [
      "Epoch 49: 100%|██████████| 12/12 [00:01<00:00, 10.63it/s, loss=58.6, acc=0.699, AUC=0.77, val_acc=0.674, val_AUC=0.742]\n"
     ]
    },
    {
     "name": "stdout",
     "output_type": "stream",
     "text": [
      "tensor([-0.1882, -0.5641, -0.0096,  0.5317, -0.3131, -0.7097, -0.1590,  0.2584,\n",
      "        -0.0140,  0.2999, -0.1429, -0.2130, -0.1854,  1.1974,  0.4583, -0.4818,\n",
      "         0.2350], device='cuda:0', grad_fn=<DivBackward0>)\n"
     ]
    },
    {
     "name": "stderr",
     "output_type": "stream",
     "text": [
      "Epoch 50: 100%|██████████| 12/12 [00:01<00:00, 10.60it/s, loss=58.7, acc=0.698, AUC=0.768, val_acc=0.673, val_AUC=0.734]\n"
     ]
    },
    {
     "name": "stdout",
     "output_type": "stream",
     "text": [
      "tensor([-0.1834, -0.5536, -0.0119,  0.5098, -0.3116, -0.7100, -0.1499,  0.2479,\n",
      "        -0.0137,  0.3111, -0.1287, -0.2148, -0.1946,  1.2148,  0.4474, -0.4979,\n",
      "         0.2391], device='cuda:0', grad_fn=<DivBackward0>)\n",
      "test_acc: 0.6504559516906738\n",
      "test_auc: 0.7220414201183432\n",
      "-----------------------------------------\n"
     ]
    },
    {
     "name": "stderr",
     "output_type": "stream",
     "text": [
      "wandb: WARNING Source type is set to 'repo' but some required information is missing from the environment. A job will not be created from this run. See https://docs.wandb.ai/guides/launch/create-job\n"
     ]
    }
   ],
   "source": [
    "train_one_run(get_run_config())"
   ]
  },
  {
   "cell_type": "code",
   "execution_count": null,
   "metadata": {},
   "outputs": [],
   "source": []
  },
  {
   "cell_type": "code",
   "execution_count": null,
   "metadata": {},
   "outputs": [],
   "source": []
  },
  {
   "cell_type": "markdown",
   "metadata": {},
   "source": []
  }
 ],
 "metadata": {
  "kernelspec": {
   "display_name": "GNN",
   "language": "python",
   "name": "python3"
  },
  "language_info": {
   "codemirror_mode": {
    "name": "ipython",
    "version": 3
   },
   "file_extension": ".py",
   "mimetype": "text/x-python",
   "name": "python",
   "nbconvert_exporter": "python",
   "pygments_lexer": "ipython3",
   "version": "3.10.12"
  },
  "orig_nbformat": 4
 },
 "nbformat": 4,
 "nbformat_minor": 2
}
