{
 "cells": [
  {
   "cell_type": "code",
   "execution_count": 1,
   "metadata": {},
   "outputs": [
    {
     "name": "stderr",
     "output_type": "stream",
     "text": [
      "/home/tsou/.conda/envs/pyg/lib/python3.10/site-packages/tqdm/auto.py:21: TqdmWarning: IProgress not found. Please update jupyter and ipywidgets. See https://ipywidgets.readthedocs.io/en/stable/user_install.html\n",
      "  from .autonotebook import tqdm as notebook_tqdm\n"
     ]
    },
    {
     "name": "stdout",
     "output_type": "stream",
     "text": [
      "=================[dataset is set to compass_old ]=================\n",
      "[Tensorflow] Set seed failed,details are: No module named 'tensorflow'\n",
      "[Pytorch] Seed set successfully\n",
      "[Pytorch Geometric] Seed set successfully\n",
      "[Sklearn] Seed set successfully\n",
      "=================[run config is loaded]=================\n"
     ]
    }
   ],
   "source": [
    "from trainer import *"
   ]
  },
  {
   "cell_type": "code",
   "execution_count": 2,
   "metadata": {},
   "outputs": [
    {
     "name": "stdout",
     "output_type": "stream",
     "text": [
      "[Tensorflow] Set seed failed,details are: No module named 'tensorflow'\n",
      "[Pytorch] Seed set successfully\n",
      "[Pytorch Geometric] Seed set successfully\n",
      "[Sklearn] Seed set successfully\n",
      "tensor([1.4892], device='cuda:0')\n",
      "epoch 0 -----------------------------------------\n",
      "tensor([0.5968], device='cuda:0')\n",
      "epoch 1 -----------------------------------------\n",
      "tensor([1.8357], device='cuda:0')\n",
      "epoch 2 -----------------------------------------\n",
      "tensor([0.7267], device='cuda:0')\n",
      "epoch 3 -----------------------------------------\n",
      "tensor([0.3375], device='cuda:0')\n",
      "epoch 4 -----------------------------------------\n",
      "done\n"
     ]
    }
   ],
   "source": [
    "test_run()"
   ]
  },
  {
   "cell_type": "code",
   "execution_count": 3,
   "metadata": {},
   "outputs": [
    {
     "name": "stdout",
     "output_type": "stream",
     "text": [
      "[Tensorflow] Set seed failed,details are: No module named 'tensorflow'\n",
      "[Pytorch] Seed set successfully\n",
      "[Pytorch Geometric] Seed set successfully\n",
      "[Sklearn] Seed set successfully\n",
      "tensor([1.4892], device='cuda:0')\n",
      "epoch 0 -----------------------------------------\n",
      "tensor([0.5968], device='cuda:0')\n",
      "epoch 1 -----------------------------------------\n",
      "tensor([1.8357], device='cuda:0')\n",
      "epoch 2 -----------------------------------------\n",
      "tensor([0.7267], device='cuda:0')\n",
      "epoch 3 -----------------------------------------\n",
      "tensor([0.3375], device='cuda:0')\n",
      "epoch 4 -----------------------------------------\n",
      "done\n"
     ]
    }
   ],
   "source": [
    "test_run()"
   ]
  },
  {
   "cell_type": "code",
   "execution_count": 4,
   "metadata": {},
   "outputs": [
    {
     "data": {
      "text/plain": [
       "tensor([-0.1458,  0.4549,  0.1905,  0.0704,  0.3586,  0.0170, -1.0929,  0.4527,\n",
       "        -0.6248, -0.3704,  0.9061,  0.3016, -0.5078, -0.9355, -0.0796,  0.2092,\n",
       "         0.7959], device='cuda:0', grad_fn=<DivBackward0>)"
      ]
     },
     "execution_count": 4,
     "metadata": {},
     "output_type": "execute_result"
    }
   ],
   "source": [
    "extractor = get_feature_importance_extractor()\n",
    "extractor.get()"
   ]
  },
  {
   "cell_type": "code",
   "execution_count": 5,
   "metadata": {},
   "outputs": [
    {
     "name": "stdout",
     "output_type": "stream",
     "text": [
      "[Tensorflow] Set seed failed,details are: No module named 'tensorflow'\n",
      "[Pytorch] Seed set successfully\n",
      "[Pytorch Geometric] Seed set successfully\n",
      "[Sklearn] Seed set successfully\n",
      "=================[ 1 Fold ]=================\n",
      "[Tensorflow] Set seed failed,details are: No module named 'tensorflow'\n",
      "[Pytorch] Seed set successfully\n",
      "[Pytorch Geometric] Seed set successfully\n",
      "[Sklearn] Seed set successfully\n",
      "train_data: torch.Size([9987, 17])\n",
      "train_label: torch.Size([9987])\n",
      "validation_data: torch.Size([1109, 17])\n",
      "validation_label: torch.Size([1109])\n",
      "test_data: torch.Size([5548, 17])\n",
      "test_label: torch.Size([5548])\n",
      "-----------------------------------------\n"
     ]
    },
    {
     "name": "stderr",
     "output_type": "stream",
     "text": [
      "Epoch 1:  90%|█████████ | 9/10 [00:10<00:01,  1.24s/it]/home/tsou/.conda/envs/pyg/lib/python3.10/site-packages/torcheval/metrics/functional/classification/auroc.py:175: UserWarning: cumsum_cuda_kernel does not have a deterministic implementation, but you set 'torch.use_deterministic_algorithms(True, warn_only=True)'. You can file an issue at https://github.com/pytorch/pytorch/issues to help us prioritize adding deterministic support for this operation. (Triggered internally at ../aten/src/ATen/Context.cpp:82.)\n",
      "  return _binary_auroc_compute_jit(input, target, weight)\n",
      "Epoch 1: 100%|██████████| 10/10 [00:13<00:00,  1.34s/it, loss=22.5, acc=0.529, AUC=0.52, val_loss=0.13, val_acc=0.623, val_AUC=0.67]\n",
      "Epoch 2: 100%|██████████| 10/10 [00:14<00:00,  1.49s/it, loss=10.9, acc=0.645, AUC=0.688, val_loss=0.123, val_acc=0.66, val_AUC=0.716]\n",
      "Epoch 3: 100%|██████████| 10/10 [00:14<00:00,  1.45s/it, loss=10.6, acc=0.658, AUC=0.713, val_loss=0.116, val_acc=0.693, val_AUC=0.752]\n",
      "Epoch 4: 100%|██████████| 10/10 [00:14<00:00,  1.43s/it, loss=10.5, acc=0.668, AUC=0.722, val_loss=0.117, val_acc=0.679, val_AUC=0.743]\n",
      "Epoch 5: 100%|██████████| 10/10 [00:13<00:00,  1.40s/it, loss=10.4, acc=0.668, AUC=0.727, val_loss=0.118, val_acc=0.693, val_AUC=0.758]\n",
      "Epoch 6: 100%|██████████| 10/10 [00:14<00:00,  1.40s/it, loss=10.3, acc=0.676, AUC=0.736, val_loss=0.118, val_acc=0.687, val_AUC=0.756]\n",
      "Epoch 7: 100%|██████████| 10/10 [00:14<00:00,  1.46s/it, loss=10.3, acc=0.677, AUC=0.738, val_loss=0.113, val_acc=0.701, val_AUC=0.767]\n",
      "Epoch 8: 100%|██████████| 10/10 [00:14<00:00,  1.43s/it, loss=10.2, acc=0.683, AUC=0.741, val_loss=0.114, val_acc=0.708, val_AUC=0.768]\n",
      "Epoch 9:  30%|███       | 3/10 [00:03<00:08,  1.28s/it]"
     ]
    }
   ],
   "source": [
    "train_K_fold(get_run_config())"
   ]
  },
  {
   "cell_type": "markdown",
   "metadata": {},
   "source": []
  },
  {
   "cell_type": "markdown",
   "metadata": {},
   "source": []
  },
  {
   "cell_type": "code",
   "execution_count": null,
   "metadata": {},
   "outputs": [
    {
     "name": "stdout",
     "output_type": "stream",
     "text": [
      "tensor([-0.7399, -0.1923, -0.2681, -0.1117, -0.3579,  0.1397,  0.4311, -0.1128,\n",
      "        -0.7798, -0.0558, -0.5276,  0.0354, -0.3773,  0.2948,  0.0248, -0.1520,\n",
      "        -0.6011], grad_fn=<ToCopyBackward0>)\n"
     ]
    },
    {
     "data": {
      "image/png": "[encoded data removed]",
      "text/plain": [
       "<Figure size 800x600 with 1 Axes>"
      ]
     },
     "metadata": {},
     "output_type": "display_data"
    }
   ],
   "source": [
    "\n",
    "importance = get_feature_importance_extractor().get().cpu()\n",
    "print(importance)\n",
    "importance = importance.softmax(dim=0).detach().numpy()\n",
    "import matplotlib.pyplot as plt\n",
    "# 可视化特征重要性\n",
    "plt.figure(figsize=(8, 6))\n",
    "plt.barh(range(len(importance)), importance, align='center')\n",
    "plt.yticks(range(len(importance)))\n",
    "plt.xlabel('Feature Importance')\n",
    "plt.ylabel('Features')\n",
    "plt.show()"
   ]
  }
 ],
 "metadata": {
  "kernelspec": {
   "display_name": "GNN",
   "language": "python",
   "name": "python3"
  },
  "language_info": {
   "codemirror_mode": {
    "name": "ipython",
    "version": 3
   },
   "file_extension": ".py",
   "mimetype": "text/x-python",
   "name": "python",
   "nbconvert_exporter": "python",
   "pygments_lexer": "ipython3",
   "version": "3.10.12"
  },
  "orig_nbformat": 4
 },
 "nbformat": 4,
 "nbformat_minor": 2
}
