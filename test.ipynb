{
 "cells": [
  {
   "cell_type": "code",
   "execution_count": 1,
   "metadata": {},
   "outputs": [
    {
     "name": "stderr",
     "output_type": "stream",
     "text": [
      "/home/tsou/.conda/envs/pyg/lib/python3.10/site-packages/tqdm/auto.py:21: TqdmWarning: IProgress not found. Please update jupyter and ipywidgets. See https://ipywidgets.readthedocs.io/en/stable/user_install.html\n",
      "  from .autonotebook import tqdm as notebook_tqdm\n"
     ]
    },
    {
     "name": "stdout",
     "output_type": "stream",
     "text": [
      "=================[dataset is set to compass_old ]=================\n",
      "[Tensorflow] Set seed failed,details are: No module named 'tensorflow'\n",
      "[Pytorch] Seed set successfully\n",
      "[Pytorch Geometric] Seed set successfully\n",
      "[Sklearn] Seed set successfully\n",
      "=================[run config is loaded]=================\n"
     ]
    }
   ],
   "source": [
    "from trainer import *"
   ]
  },
  {
   "cell_type": "code",
   "execution_count": 2,
   "metadata": {},
   "outputs": [
    {
     "name": "stdout",
     "output_type": "stream",
     "text": [
      "[Tensorflow] Set seed failed,details are: No module named 'tensorflow'\n",
      "[Pytorch] Seed set successfully\n",
      "[Pytorch Geometric] Seed set successfully\n",
      "[Sklearn] Seed set successfully\n",
      "tensor([1.0423], device='cuda:0')\n",
      "epoch 0 -----------------------------------------\n",
      "tensor([0.7911], device='cuda:0')\n",
      "epoch 1 -----------------------------------------\n",
      "tensor([1.4917], device='cuda:0')\n",
      "epoch 2 -----------------------------------------\n",
      "tensor([1.0815], device='cuda:0')\n",
      "epoch 3 -----------------------------------------\n",
      "tensor([0.7950], device='cuda:0')\n",
      "epoch 4 -----------------------------------------\n",
      "done\n"
     ]
    }
   ],
   "source": [
    "test_run()"
   ]
  },
  {
   "cell_type": "code",
   "execution_count": 3,
   "metadata": {},
   "outputs": [
    {
     "name": "stdout",
     "output_type": "stream",
     "text": [
      "[Tensorflow] Set seed failed,details are: No module named 'tensorflow'\n",
      "[Pytorch] Seed set successfully\n",
      "[Pytorch Geometric] Seed set successfully\n",
      "[Sklearn] Seed set successfully\n",
      "tensor([1.0423], device='cuda:0')\n",
      "epoch 0 -----------------------------------------\n",
      "tensor([0.7911], device='cuda:0')\n",
      "epoch 1 -----------------------------------------\n",
      "tensor([1.4917], device='cuda:0')\n",
      "epoch 2 -----------------------------------------\n",
      "tensor([1.0815], device='cuda:0')\n",
      "epoch 3 -----------------------------------------\n",
      "tensor([0.7950], device='cuda:0')\n",
      "epoch 4 -----------------------------------------\n",
      "done\n"
     ]
    }
   ],
   "source": [
    "test_run()"
   ]
  },
  {
   "cell_type": "code",
   "execution_count": 4,
   "metadata": {},
   "outputs": [
    {
     "data": {
      "text/plain": [
       "tensor([-0.4574, -0.2981,  0.0419,  1.2621,  0.1928, -1.0790,  0.3031, -0.1941,\n",
       "        -0.1312,  0.5047,  0.1103,  0.5023, -0.0951,  0.0975, -0.8854,  0.2838,\n",
       "        -0.1583], device='cuda:0', grad_fn=<DivBackward0>)"
      ]
     },
     "execution_count": 4,
     "metadata": {},
     "output_type": "execute_result"
    }
   ],
   "source": [
    "extractor = get_feature_importance_extractor()\n",
    "extractor.get()"
   ]
  },
  {
   "cell_type": "code",
   "execution_count": 5,
   "metadata": {},
   "outputs": [
    {
     "name": "stdout",
     "output_type": "stream",
     "text": [
      "[Tensorflow] Set seed failed,details are: No module named 'tensorflow'\n",
      "[Pytorch] Seed set successfully\n",
      "[Pytorch Geometric] Seed set successfully\n",
      "[Sklearn] Seed set successfully\n",
      "=================[ 1 Fold ]=================\n",
      "train_data: torch.Size([9987, 17])\n",
      "train_label: torch.Size([9987])\n",
      "validation_data: torch.Size([1109, 17])\n",
      "validation_label: torch.Size([1109])\n",
      "test_data: torch.Size([5548, 17])\n",
      "test_label: torch.Size([5548])\n",
      "-----------------------------------------\n"
     ]
    },
    {
     "name": "stderr",
     "output_type": "stream",
     "text": [
      "Epoch 1:  95%|█████████▌| 19/20 [00:08<00:00,  2.20it/s]/home/tsou/.conda/envs/pyg/lib/python3.10/site-packages/torcheval/metrics/functional/classification/auroc.py:175: UserWarning: cumsum_cuda_kernel does not have a deterministic implementation, but you set 'torch.use_deterministic_algorithms(True, warn_only=True)'. You can file an issue at https://github.com/pytorch/pytorch/issues to help us prioritize adding deterministic support for this operation. (Triggered internally at ../aten/src/ATen/Context.cpp:82.)\n",
      "  return _binary_auroc_compute_jit(input, target, weight)\n",
      "Epoch 1: 100%|██████████| 20/20 [00:10<00:00,  1.96it/s, loss=80.2, acc=0.619, AUC=0.646, val_acc=0.638, val_AUC=0.691]\n"
     ]
    },
    {
     "name": "stdout",
     "output_type": "stream",
     "text": [
      "tensor([ 0.1315, -0.4293,  0.2434,  0.2694,  0.1614,  0.0775, -0.1289,  0.6564,\n",
      "        -0.2074, -0.4227,  0.2461, -0.1294, -0.0312,  0.2566, -0.8449,  0.0013,\n",
      "         0.1500], device='cuda:0', grad_fn=<DivBackward0>)\n"
     ]
    },
    {
     "name": "stderr",
     "output_type": "stream",
     "text": [
      "Epoch 2: 100%|██████████| 20/20 [00:10<00:00,  1.98it/s, loss=68.7, acc=0.676, AUC=0.733, val_acc=0.667, val_AUC=0.713]\n"
     ]
    },
    {
     "name": "stdout",
     "output_type": "stream",
     "text": [
      "tensor([ 0.1369, -0.4254,  0.2308,  0.1812,  0.2695,  0.2722, -0.1332,  0.8211,\n",
      "        -0.2037, -0.4826,  0.2679, -0.2053, -0.0172,  0.4135, -1.1736, -0.0358,\n",
      "         0.0835], device='cuda:0', grad_fn=<DivBackward0>)\n"
     ]
    },
    {
     "name": "stderr",
     "output_type": "stream",
     "text": [
      "Epoch 3: 100%|██████████| 20/20 [00:10<00:00,  1.96it/s, loss=68.1, acc=0.685, AUC=0.739, val_acc=0.671, val_AUC=0.719]\n"
     ]
    },
    {
     "name": "stdout",
     "output_type": "stream",
     "text": [
      "tensor([ 0.1057, -0.4860,  0.1565,  0.1849,  0.3136,  0.3019, -0.1167,  0.8522,\n",
      "        -0.2106, -0.5349,  0.2632, -0.2499, -0.0415,  0.4146, -0.9160, -0.0779,\n",
      "         0.0408], device='cuda:0', grad_fn=<DivBackward0>)\n"
     ]
    },
    {
     "name": "stderr",
     "output_type": "stream",
     "text": [
      "Epoch 4: 100%|██████████| 20/20 [00:10<00:00,  1.96it/s, loss=67.8, acc=0.688, AUC=0.744, val_acc=0.682, val_AUC=0.726]\n"
     ]
    },
    {
     "name": "stdout",
     "output_type": "stream",
     "text": [
      "tensor([ 0.1293, -0.4903,  0.1461,  0.1748,  0.3517,  0.2817, -0.0131,  0.8122,\n",
      "        -0.2589, -0.5470,  0.2482, -0.2376, -0.0496,  0.3676, -0.8685, -0.0878,\n",
      "         0.0413], device='cuda:0', grad_fn=<DivBackward0>)\n"
     ]
    },
    {
     "name": "stderr",
     "output_type": "stream",
     "text": [
      "Epoch 5: 100%|██████████| 20/20 [00:10<00:00,  1.92it/s, loss=67.2, acc=0.694, AUC=0.749, val_acc=0.658, val_AUC=0.712]\n"
     ]
    },
    {
     "name": "stdout",
     "output_type": "stream",
     "text": [
      "tensor([ 0.1318, -0.4936,  0.1274,  0.1308,  0.4601,  0.2408,  0.0476,  0.7699,\n",
      "        -0.2800, -0.5315,  0.2714, -0.2464, -0.0770,  0.3159, -0.7412, -0.1229,\n",
      "        -0.0033], device='cuda:0', grad_fn=<DivBackward0>)\n"
     ]
    },
    {
     "name": "stderr",
     "output_type": "stream",
     "text": [
      "Epoch 6: 100%|██████████| 20/20 [00:10<00:00,  1.89it/s, loss=66.9, acc=0.695, AUC=0.751, val_acc=0.666, val_AUC=0.719]\n"
     ]
    },
    {
     "name": "stdout",
     "output_type": "stream",
     "text": [
      "tensor([ 0.1785, -0.4682,  0.1029,  0.1161,  0.5099,  0.2427,  0.0253,  0.7654,\n",
      "        -0.3095, -0.5269,  0.2702, -0.2420, -0.0858,  0.3364, -0.7286, -0.1359,\n",
      "        -0.0506], device='cuda:0', grad_fn=<DivBackward0>)\n"
     ]
    },
    {
     "name": "stderr",
     "output_type": "stream",
     "text": [
      "Epoch 7: 100%|██████████| 20/20 [00:10<00:00,  1.87it/s, loss=66.8, acc=0.693, AUC=0.752, val_acc=0.67, val_AUC=0.728]\n"
     ]
    },
    {
     "name": "stdout",
     "output_type": "stream",
     "text": [
      "tensor([ 0.1791, -0.4672,  0.1017,  0.0439,  0.5758,  0.2388,  0.0628,  0.7644,\n",
      "        -0.2998, -0.5719,  0.2658, -0.2538, -0.0842,  0.3815, -0.7644, -0.1212,\n",
      "        -0.0513], device='cuda:0', grad_fn=<DivBackward0>)\n"
     ]
    },
    {
     "name": "stderr",
     "output_type": "stream",
     "text": [
      "Epoch 8: 100%|██████████| 20/20 [00:10<00:00,  1.85it/s, loss=66.5, acc=0.699, AUC=0.755, val_acc=0.676, val_AUC=0.726]\n"
     ]
    },
    {
     "name": "stdout",
     "output_type": "stream",
     "text": [
      "tensor([ 0.1498, -0.4452,  0.0981,  0.0181,  0.6210,  0.2431,  0.0405,  0.7574,\n",
      "        -0.3265, -0.6070,  0.2690, -0.2709, -0.0659,  0.4016, -0.7334, -0.1174,\n",
      "        -0.0323], device='cuda:0', grad_fn=<DivBackward0>)\n"
     ]
    },
    {
     "name": "stderr",
     "output_type": "stream",
     "text": [
      "Epoch 9: 100%|██████████| 20/20 [00:10<00:00,  1.84it/s, loss=66.3, acc=0.702, AUC=0.756, val_acc=0.672, val_AUC=0.728]\n"
     ]
    },
    {
     "name": "stdout",
     "output_type": "stream",
     "text": [
      "tensor([ 0.0977, -0.4503,  0.1207,  0.0354,  0.6666,  0.2684, -0.0111,  0.7679,\n",
      "        -0.3387, -0.6352,  0.2451, -0.2399, -0.0743,  0.3838, -0.6803, -0.1357,\n",
      "        -0.0201], device='cuda:0', grad_fn=<DivBackward0>)\n"
     ]
    },
    {
     "name": "stderr",
     "output_type": "stream",
     "text": [
      "Epoch 10: 100%|██████████| 20/20 [00:10<00:00,  1.82it/s, loss=66.3, acc=0.7, AUC=0.757, val_acc=0.674, val_AUC=0.725]\n"
     ]
    },
    {
     "name": "stdout",
     "output_type": "stream",
     "text": [
      "tensor([ 0.0889, -0.4656,  0.0968,  0.0566,  0.7008,  0.2756, -0.0162,  0.7636,\n",
      "        -0.3482, -0.6819,  0.2382, -0.2305, -0.0790,  0.3812, -0.5882, -0.1501,\n",
      "        -0.0419], device='cuda:0', grad_fn=<DivBackward0>)\n"
     ]
    },
    {
     "name": "stderr",
     "output_type": "stream",
     "text": [
      "Epoch 11: 100%|██████████| 20/20 [00:11<00:00,  1.82it/s, loss=66, acc=0.7, AUC=0.76, val_acc=0.685, val_AUC=0.732]\n"
     ]
    },
    {
     "name": "stdout",
     "output_type": "stream",
     "text": [
      "tensor([ 0.0991, -0.4891,  0.0948,  0.0634,  0.7594,  0.2499, -0.0054,  0.7445,\n",
      "        -0.3418, -0.6854,  0.2345, -0.2388, -0.0859,  0.3780, -0.5588, -0.1625,\n",
      "        -0.0557], device='cuda:0', grad_fn=<DivBackward0>)\n"
     ]
    },
    {
     "name": "stderr",
     "output_type": "stream",
     "text": [
      "Epoch 12: 100%|██████████| 20/20 [00:11<00:00,  1.79it/s, loss=65.8, acc=0.704, AUC=0.762, val_acc=0.679, val_AUC=0.724]\n"
     ]
    },
    {
     "name": "stdout",
     "output_type": "stream",
     "text": [
      "tensor([ 0.2072, -0.5041,  0.0977,  0.0360,  0.7856,  0.2333, -0.0208,  0.7208,\n",
      "        -0.3453, -0.7095,  0.2368, -0.2358, -0.1074,  0.3802, -0.5406, -0.1768,\n",
      "        -0.0571], device='cuda:0', grad_fn=<DivBackward0>)\n"
     ]
    },
    {
     "name": "stderr",
     "output_type": "stream",
     "text": [
      "Epoch 13: 100%|██████████| 20/20 [00:11<00:00,  1.80it/s, loss=65.8, acc=0.7, AUC=0.762, val_acc=0.683, val_AUC=0.732]\n"
     ]
    },
    {
     "name": "stdout",
     "output_type": "stream",
     "text": [
      "tensor([ 0.2301, -0.5051,  0.1558,  0.0472,  0.8218,  0.1703, -0.0072,  0.6737,\n",
      "        -0.3442, -0.6964,  0.2462, -0.2328, -0.1141,  0.3748, -0.5799, -0.1682,\n",
      "        -0.0720], device='cuda:0', grad_fn=<DivBackward0>)\n"
     ]
    },
    {
     "name": "stderr",
     "output_type": "stream",
     "text": [
      "Epoch 14: 100%|██████████| 20/20 [00:11<00:00,  1.78it/s, loss=65.6, acc=0.701, AUC=0.764, val_acc=0.677, val_AUC=0.731]\n"
     ]
    },
    {
     "name": "stdout",
     "output_type": "stream",
     "text": [
      "tensor([ 0.2093, -0.4985,  0.1802,  0.0583,  0.8343,  0.1459, -0.0178,  0.6833,\n",
      "        -0.3631, -0.7129,  0.2604, -0.2418, -0.1203,  0.3884, -0.5429, -0.1828,\n",
      "        -0.0801], device='cuda:0', grad_fn=<DivBackward0>)\n"
     ]
    },
    {
     "name": "stderr",
     "output_type": "stream",
     "text": [
      "Epoch 15: 100%|██████████| 20/20 [00:11<00:00,  1.77it/s, loss=65.8, acc=0.701, AUC=0.762, val_acc=0.681, val_AUC=0.731]\n"
     ]
    },
    {
     "name": "stdout",
     "output_type": "stream",
     "text": [
      "tensor([ 0.1981, -0.5078,  0.1732,  0.0597,  0.8605,  0.1831,  0.0012,  0.6735,\n",
      "        -0.3740, -0.7346,  0.2783, -0.2577, -0.1219,  0.3534, -0.5239, -0.1718,\n",
      "        -0.0893], device='cuda:0', grad_fn=<DivBackward0>)\n"
     ]
    },
    {
     "name": "stderr",
     "output_type": "stream",
     "text": [
      "Epoch 16: 100%|██████████| 20/20 [00:11<00:00,  1.77it/s, loss=65.7, acc=0.699, AUC=0.763, val_acc=0.683, val_AUC=0.73]\n"
     ]
    },
    {
     "name": "stdout",
     "output_type": "stream",
     "text": [
      "tensor([ 0.2310, -0.5146,  0.1631,  0.0358,  0.8623,  0.2081,  0.0174,  0.6662,\n",
      "        -0.3907, -0.7156,  0.2784, -0.2556, -0.1338,  0.3354, -0.5196, -0.1774,\n",
      "        -0.0905], device='cuda:0', grad_fn=<DivBackward0>)\n"
     ]
    },
    {
     "name": "stderr",
     "output_type": "stream",
     "text": [
      "Epoch 17: 100%|██████████| 20/20 [00:11<00:00,  1.77it/s, loss=65.4, acc=0.705, AUC=0.765, val_acc=0.688, val_AUC=0.729]\n"
     ]
    },
    {
     "name": "stdout",
     "output_type": "stream",
     "text": [
      "tensor([ 0.2592, -0.4911,  0.1892,  0.0022,  0.8430,  0.1677,  0.0151,  0.6676,\n",
      "        -0.3993, -0.7255,  0.2799, -0.2467, -0.1242,  0.3427, -0.5284, -0.1623,\n",
      "        -0.0892], device='cuda:0', grad_fn=<DivBackward0>)\n"
     ]
    },
    {
     "name": "stderr",
     "output_type": "stream",
     "text": [
      "Epoch 18: 100%|██████████| 20/20 [00:11<00:00,  1.77it/s, loss=65.1, acc=0.703, AUC=0.768, val_acc=0.678, val_AUC=0.729]\n"
     ]
    },
    {
     "name": "stdout",
     "output_type": "stream",
     "text": [
      "tensor([ 0.2743, -0.5014,  0.1829,  0.0036,  0.8512,  0.1898, -0.0013,  0.6605,\n",
      "        -0.4197, -0.7351,  0.2951, -0.2353, -0.1137,  0.3366, -0.5356, -0.1708,\n",
      "        -0.0810], device='cuda:0', grad_fn=<DivBackward0>)\n"
     ]
    },
    {
     "name": "stderr",
     "output_type": "stream",
     "text": [
      "Epoch 19: 100%|██████████| 20/20 [00:11<00:00,  1.76it/s, loss=65.4, acc=0.703, AUC=0.766, val_acc=0.685, val_AUC=0.734]\n"
     ]
    },
    {
     "name": "stdout",
     "output_type": "stream",
     "text": [
      "tensor([ 0.2976, -0.5242,  0.1961, -0.0160,  0.8677,  0.1980,  0.0269,  0.6401,\n",
      "        -0.4214, -0.7098,  0.3047, -0.2210, -0.1268,  0.2786, -0.5211, -0.1771,\n",
      "        -0.0923], device='cuda:0', grad_fn=<DivBackward0>)\n"
     ]
    },
    {
     "name": "stderr",
     "output_type": "stream",
     "text": [
      "Epoch 20: 100%|██████████| 20/20 [00:11<00:00,  1.75it/s, loss=65.2, acc=0.705, AUC=0.767, val_acc=0.685, val_AUC=0.733]\n"
     ]
    },
    {
     "name": "stdout",
     "output_type": "stream",
     "text": [
      "tensor([ 0.2804, -0.5286,  0.1903, -0.0199,  0.8614,  0.2000,  0.0417,  0.6438,\n",
      "        -0.4284, -0.7174,  0.2915, -0.2255, -0.1349,  0.3020, -0.4849, -0.1779,\n",
      "        -0.0934], device='cuda:0', grad_fn=<DivBackward0>)\n"
     ]
    },
    {
     "name": "stderr",
     "output_type": "stream",
     "text": [
      "Epoch 21: 100%|██████████| 20/20 [00:11<00:00,  1.76it/s, loss=65, acc=0.703, AUC=0.769, val_acc=0.688, val_AUC=0.731]\n"
     ]
    },
    {
     "name": "stdout",
     "output_type": "stream",
     "text": [
      "tensor([ 0.2747, -0.5235,  0.2107, -0.0058,  0.8649,  0.1703,  0.0587,  0.6576,\n",
      "        -0.4388, -0.7245,  0.2819, -0.2196, -0.1304,  0.2991, -0.5169, -0.1709,\n",
      "        -0.0875], device='cuda:0', grad_fn=<DivBackward0>)\n"
     ]
    },
    {
     "name": "stderr",
     "output_type": "stream",
     "text": [
      "Epoch 22: 100%|██████████| 20/20 [00:11<00:00,  1.75it/s, loss=65, acc=0.704, AUC=0.769, val_acc=0.679, val_AUC=0.731]\n"
     ]
    },
    {
     "name": "stdout",
     "output_type": "stream",
     "text": [
      "tensor([ 0.3145, -0.5292,  0.1863,  0.0307,  0.8524,  0.2012,  0.0467,  0.6805,\n",
      "        -0.4455, -0.7208,  0.2722, -0.2570, -0.1282,  0.3077, -0.5534, -0.1685,\n",
      "        -0.0897], device='cuda:0', grad_fn=<DivBackward0>)\n"
     ]
    },
    {
     "name": "stderr",
     "output_type": "stream",
     "text": [
      "Epoch 23: 100%|██████████| 20/20 [00:11<00:00,  1.73it/s, loss=65, acc=0.704, AUC=0.769, val_acc=0.683, val_AUC=0.734]\n"
     ]
    },
    {
     "name": "stdout",
     "output_type": "stream",
     "text": [
      "tensor([ 0.3346, -0.5146,  0.1958,  0.0445,  0.8762,  0.1612,  0.0306,  0.6736,\n",
      "        -0.4686, -0.7302,  0.2629, -0.2578, -0.1255,  0.3385, -0.5681, -0.1650,\n",
      "        -0.0881], device='cuda:0', grad_fn=<DivBackward0>)\n"
     ]
    },
    {
     "name": "stderr",
     "output_type": "stream",
     "text": [
      "Epoch 24: 100%|██████████| 20/20 [00:11<00:00,  1.73it/s, loss=65, acc=0.704, AUC=0.769, val_acc=0.686, val_AUC=0.736]\n"
     ]
    },
    {
     "name": "stdout",
     "output_type": "stream",
     "text": [
      "tensor([ 3.8866e-01, -4.9673e-01,  2.0328e-01,  4.2644e-02,  8.7319e-01,\n",
      "         1.9315e-01,  1.7648e-04,  6.6892e-01, -4.8516e-01, -7.2801e-01,\n",
      "         2.7228e-01, -2.5699e-01, -1.3152e-01,  3.1558e-01, -5.8506e-01,\n",
      "        -1.7795e-01, -9.6463e-02], device='cuda:0', grad_fn=<DivBackward0>)\n"
     ]
    },
    {
     "name": "stderr",
     "output_type": "stream",
     "text": [
      "Epoch 25: 100%|██████████| 20/20 [00:11<00:00,  1.72it/s, loss=64.7, acc=0.704, AUC=0.772, val_acc=0.679, val_AUC=0.732]\n"
     ]
    },
    {
     "name": "stdout",
     "output_type": "stream",
     "text": [
      "tensor([ 0.4205, -0.4921,  0.2128,  0.0379,  0.8717,  0.1347,  0.0251,  0.6782,\n",
      "        -0.4919, -0.7334,  0.2764, -0.2464, -0.1265,  0.3227, -0.6223, -0.1668,\n",
      "        -0.1005], device='cuda:0', grad_fn=<DivBackward0>)\n"
     ]
    },
    {
     "name": "stderr",
     "output_type": "stream",
     "text": [
      "Epoch 26: 100%|██████████| 20/20 [00:11<00:00,  1.71it/s, loss=64.7, acc=0.707, AUC=0.772, val_acc=0.683, val_AUC=0.733]\n"
     ]
    },
    {
     "name": "stdout",
     "output_type": "stream",
     "text": [
      "tensor([ 0.4295, -0.4910,  0.1956,  0.0350,  0.8925,  0.1005,  0.0276,  0.6809,\n",
      "        -0.5076, -0.7004,  0.2763, -0.2350, -0.1270,  0.3481, -0.6420, -0.1672,\n",
      "        -0.1159], device='cuda:0', grad_fn=<DivBackward0>)\n"
     ]
    },
    {
     "name": "stderr",
     "output_type": "stream",
     "text": [
      "Epoch 27: 100%|██████████| 20/20 [00:11<00:00,  1.70it/s, loss=64.6, acc=0.706, AUC=0.772, val_acc=0.681, val_AUC=0.741]\n"
     ]
    },
    {
     "name": "stdout",
     "output_type": "stream",
     "text": [
      "tensor([ 0.4498, -0.4957,  0.1892,  0.0288,  0.9032,  0.1057, -0.0031,  0.6724,\n",
      "        -0.5034, -0.6971,  0.2856, -0.2372, -0.1150,  0.3340, -0.6368, -0.1692,\n",
      "        -0.1112], device='cuda:0', grad_fn=<DivBackward0>)\n"
     ]
    },
    {
     "name": "stderr",
     "output_type": "stream",
     "text": [
      "Epoch 28: 100%|██████████| 20/20 [00:11<00:00,  1.71it/s, loss=64.6, acc=0.706, AUC=0.773, val_acc=0.676, val_AUC=0.737]\n"
     ]
    },
    {
     "name": "stdout",
     "output_type": "stream",
     "text": [
      "tensor([ 0.4529, -0.4875,  0.1895,  0.0175,  0.9051,  0.1285, -0.0016,  0.6454,\n",
      "        -0.5146, -0.6990,  0.2901, -0.2370, -0.1138,  0.3388, -0.6277, -0.1740,\n",
      "        -0.1126], device='cuda:0', grad_fn=<DivBackward0>)\n"
     ]
    },
    {
     "name": "stderr",
     "output_type": "stream",
     "text": [
      "Epoch 29: 100%|██████████| 20/20 [00:11<00:00,  1.71it/s, loss=64.6, acc=0.707, AUC=0.773, val_acc=0.685, val_AUC=0.737]\n"
     ]
    },
    {
     "name": "stdout",
     "output_type": "stream",
     "text": [
      "tensor([ 0.4822, -0.4854,  0.2013, -0.0090,  0.9064,  0.1594, -0.0232,  0.6393,\n",
      "        -0.5125, -0.7004,  0.2948, -0.2341, -0.1191,  0.2857, -0.6183, -0.1666,\n",
      "        -0.1005], device='cuda:0', grad_fn=<DivBackward0>)\n"
     ]
    },
    {
     "name": "stderr",
     "output_type": "stream",
     "text": [
      "Epoch 30: 100%|██████████| 20/20 [00:11<00:00,  1.71it/s, loss=64.7, acc=0.707, AUC=0.772, val_acc=0.686, val_AUC=0.732]\n"
     ]
    },
    {
     "name": "stdout",
     "output_type": "stream",
     "text": [
      "tensor([ 0.4994, -0.4870,  0.2002, -0.0145,  0.8908,  0.2059, -0.0408,  0.6274,\n",
      "        -0.5266, -0.7015,  0.2969, -0.2433, -0.1112,  0.2800, -0.5872, -0.1727,\n",
      "        -0.1156], device='cuda:0', grad_fn=<DivBackward0>)\n"
     ]
    },
    {
     "name": "stderr",
     "output_type": "stream",
     "text": [
      "Epoch 31: 100%|██████████| 20/20 [00:11<00:00,  1.68it/s, loss=64.3, acc=0.707, AUC=0.775, val_acc=0.673, val_AUC=0.737]\n"
     ]
    },
    {
     "name": "stdout",
     "output_type": "stream",
     "text": [
      "tensor([ 0.5242, -0.4930,  0.1816, -0.0279,  0.8921,  0.2181, -0.0702,  0.6460,\n",
      "        -0.5470, -0.6855,  0.2921, -0.2425, -0.1092,  0.3077, -0.5982, -0.1710,\n",
      "        -0.1172], device='cuda:0', grad_fn=<DivBackward0>)\n"
     ]
    },
    {
     "name": "stderr",
     "output_type": "stream",
     "text": [
      "Epoch 32: 100%|██████████| 20/20 [00:11<00:00,  1.69it/s, loss=64.5, acc=0.708, AUC=0.774, val_acc=0.684, val_AUC=0.739]\n"
     ]
    },
    {
     "name": "stdout",
     "output_type": "stream",
     "text": [
      "tensor([ 0.5191, -0.4871,  0.1955, -0.0136,  0.9020,  0.1889, -0.0608,  0.6279,\n",
      "        -0.5642, -0.6959,  0.3198, -0.2442, -0.1174,  0.2970, -0.5747, -0.1711,\n",
      "        -0.1211], device='cuda:0', grad_fn=<DivBackward0>)\n"
     ]
    },
    {
     "name": "stderr",
     "output_type": "stream",
     "text": [
      "Epoch 33: 100%|██████████| 20/20 [00:11<00:00,  1.67it/s, loss=64.3, acc=0.703, AUC=0.775, val_acc=0.68, val_AUC=0.729]\n"
     ]
    },
    {
     "name": "stdout",
     "output_type": "stream",
     "text": [
      "tensor([ 0.5340, -0.4787,  0.1919, -0.0311,  0.8886,  0.1907, -0.0848,  0.6223,\n",
      "        -0.5743, -0.6834,  0.3386, -0.2488, -0.1034,  0.3271, -0.5931, -0.1704,\n",
      "        -0.1251], device='cuda:0', grad_fn=<DivBackward0>)\n"
     ]
    },
    {
     "name": "stderr",
     "output_type": "stream",
     "text": [
      "Epoch 34: 100%|██████████| 20/20 [00:12<00:00,  1.66it/s, loss=64.1, acc=0.71, AUC=0.778, val_acc=0.677, val_AUC=0.735]\n"
     ]
    },
    {
     "name": "stdout",
     "output_type": "stream",
     "text": [
      "tensor([ 0.5627, -0.4584,  0.1760, -0.0519,  0.8904,  0.1903, -0.1195,  0.6325,\n",
      "        -0.5691, -0.6853,  0.3444, -0.2442, -0.1025,  0.3560, -0.6264, -0.1654,\n",
      "        -0.1295], device='cuda:0', grad_fn=<DivBackward0>)\n"
     ]
    },
    {
     "name": "stderr",
     "output_type": "stream",
     "text": [
      "Epoch 35: 100%|██████████| 20/20 [00:12<00:00,  1.65it/s, loss=64.1, acc=0.708, AUC=0.778, val_acc=0.688, val_AUC=0.74]\n"
     ]
    },
    {
     "name": "stdout",
     "output_type": "stream",
     "text": [
      "tensor([ 0.5500, -0.4683,  0.1344, -0.0368,  0.9158,  0.1745, -0.0932,  0.6341,\n",
      "        -0.5795, -0.6783,  0.3452, -0.2318, -0.0999,  0.3472, -0.6343, -0.1627,\n",
      "        -0.1166], device='cuda:0', grad_fn=<DivBackward0>)\n"
     ]
    },
    {
     "name": "stderr",
     "output_type": "stream",
     "text": [
      "Epoch 36: 100%|██████████| 20/20 [00:12<00:00,  1.66it/s, loss=64.1, acc=0.71, AUC=0.777, val_acc=0.672, val_AUC=0.734]\n"
     ]
    },
    {
     "name": "stdout",
     "output_type": "stream",
     "text": [
      "tensor([ 0.5537, -0.4727,  0.1276, -0.0425,  0.9156,  0.1283, -0.0725,  0.6283,\n",
      "        -0.5857, -0.6729,  0.3423, -0.2311, -0.0889,  0.3730, -0.6269, -0.1595,\n",
      "        -0.1161], device='cuda:0', grad_fn=<DivBackward0>)\n"
     ]
    },
    {
     "name": "stderr",
     "output_type": "stream",
     "text": [
      "Epoch 37: 100%|██████████| 20/20 [00:12<00:00,  1.66it/s, loss=64.2, acc=0.71, AUC=0.776, val_acc=0.691, val_AUC=0.735]\n"
     ]
    },
    {
     "name": "stdout",
     "output_type": "stream",
     "text": [
      "tensor([ 0.5261, -0.4633,  0.1104, -0.0559,  0.9222,  0.1629, -0.0615,  0.6469,\n",
      "        -0.5956, -0.6710,  0.3505, -0.2521, -0.0923,  0.3704, -0.6193, -0.1614,\n",
      "        -0.1170], device='cuda:0', grad_fn=<DivBackward0>)\n"
     ]
    },
    {
     "name": "stderr",
     "output_type": "stream",
     "text": [
      "Epoch 38: 100%|██████████| 20/20 [00:12<00:00,  1.66it/s, loss=63.9, acc=0.716, AUC=0.779, val_acc=0.683, val_AUC=0.736]\n"
     ]
    },
    {
     "name": "stdout",
     "output_type": "stream",
     "text": [
      "tensor([ 0.5102, -0.4585,  0.1161, -0.0698,  0.9356,  0.1597, -0.0510,  0.6557,\n",
      "        -0.5975, -0.6689,  0.3517, -0.2480, -0.0968,  0.3692, -0.6280, -0.1605,\n",
      "        -0.1192], device='cuda:0', grad_fn=<DivBackward0>)\n"
     ]
    },
    {
     "name": "stderr",
     "output_type": "stream",
     "text": [
      "Epoch 39: 100%|██████████| 20/20 [00:12<00:00,  1.64it/s, loss=63.9, acc=0.709, AUC=0.779, val_acc=0.676, val_AUC=0.736]\n"
     ]
    },
    {
     "name": "stdout",
     "output_type": "stream",
     "text": [
      "tensor([ 0.5419, -0.4687,  0.1018, -0.0896,  0.9366,  0.1545, -0.0379,  0.6377,\n",
      "        -0.6138, -0.6577,  0.3409, -0.2494, -0.0859,  0.3860, -0.6247, -0.1594,\n",
      "        -0.1123], device='cuda:0', grad_fn=<DivBackward0>)\n"
     ]
    },
    {
     "name": "stderr",
     "output_type": "stream",
     "text": [
      "Epoch 40: 100%|██████████| 20/20 [00:12<00:00,  1.64it/s, loss=63.8, acc=0.713, AUC=0.78, val_acc=0.674, val_AUC=0.738]\n"
     ]
    },
    {
     "name": "stdout",
     "output_type": "stream",
     "text": [
      "tensor([ 0.5746, -0.4617,  0.0881, -0.1236,  0.9333,  0.1441, -0.0239,  0.6321,\n",
      "        -0.6118, -0.6722,  0.3395, -0.2273, -0.0698,  0.3855, -0.6406, -0.1544,\n",
      "        -0.1119], device='cuda:0', grad_fn=<DivBackward0>)\n"
     ]
    },
    {
     "name": "stderr",
     "output_type": "stream",
     "text": [
      "Epoch 41: 100%|██████████| 20/20 [00:12<00:00,  1.63it/s, loss=63.9, acc=0.713, AUC=0.779, val_acc=0.688, val_AUC=0.744]\n"
     ]
    },
    {
     "name": "stdout",
     "output_type": "stream",
     "text": [
      "tensor([ 0.5939, -0.4628,  0.0759, -0.1187,  0.9318,  0.1364, -0.0444,  0.6472,\n",
      "        -0.6169, -0.6739,  0.3402, -0.2175, -0.0739,  0.4045, -0.6592, -0.1446,\n",
      "        -0.1182], device='cuda:0', grad_fn=<DivBackward0>)\n"
     ]
    },
    {
     "name": "stderr",
     "output_type": "stream",
     "text": [
      "Epoch 42: 100%|██████████| 20/20 [00:12<00:00,  1.61it/s, loss=63.7, acc=0.708, AUC=0.78, val_acc=0.682, val_AUC=0.738]\n"
     ]
    },
    {
     "name": "stdout",
     "output_type": "stream",
     "text": [
      "tensor([ 0.6127, -0.4524,  0.0799, -0.1243,  0.9368,  0.1105, -0.0695,  0.6465,\n",
      "        -0.6137, -0.6936,  0.3584, -0.2246, -0.0592,  0.4140, -0.6686, -0.1331,\n",
      "        -0.1196], device='cuda:0', grad_fn=<DivBackward0>)\n"
     ]
    },
    {
     "name": "stderr",
     "output_type": "stream",
     "text": [
      "Epoch 43: 100%|██████████| 20/20 [00:12<00:00,  1.62it/s, loss=63.7, acc=0.711, AUC=0.781, val_acc=0.685, val_AUC=0.74]\n"
     ]
    },
    {
     "name": "stdout",
     "output_type": "stream",
     "text": [
      "tensor([ 0.6206, -0.4562,  0.0791, -0.0961,  0.9433,  0.0871, -0.0778,  0.6316,\n",
      "        -0.6198, -0.6843,  0.3638, -0.2160, -0.0647,  0.4304, -0.6802, -0.1375,\n",
      "        -0.1233], device='cuda:0', grad_fn=<DivBackward0>)\n"
     ]
    },
    {
     "name": "stderr",
     "output_type": "stream",
     "text": [
      "Epoch 44: 100%|██████████| 20/20 [00:12<00:00,  1.62it/s, loss=63.7, acc=0.713, AUC=0.781, val_acc=0.685, val_AUC=0.739]\n"
     ]
    },
    {
     "name": "stdout",
     "output_type": "stream",
     "text": [
      "tensor([ 0.6017, -0.4510,  0.0711, -0.0873,  0.9423,  0.1064, -0.0628,  0.6362,\n",
      "        -0.6267, -0.6806,  0.3560, -0.2288, -0.0620,  0.4395, -0.6928, -0.1428,\n",
      "        -0.1184], device='cuda:0', grad_fn=<DivBackward0>)\n"
     ]
    },
    {
     "name": "stderr",
     "output_type": "stream",
     "text": [
      "Epoch 45: 100%|██████████| 20/20 [00:12<00:00,  1.62it/s, loss=63.8, acc=0.712, AUC=0.78, val_acc=0.689, val_AUC=0.737]\n"
     ]
    },
    {
     "name": "stdout",
     "output_type": "stream",
     "text": [
      "tensor([ 0.6264, -0.4427,  0.0855, -0.0846,  0.9481,  0.0889, -0.0702,  0.6024,\n",
      "        -0.6291, -0.6857,  0.3640, -0.2135, -0.0599,  0.4192, -0.6943, -0.1376,\n",
      "        -0.1168], device='cuda:0', grad_fn=<DivBackward0>)\n"
     ]
    },
    {
     "name": "stderr",
     "output_type": "stream",
     "text": [
      "Epoch 46: 100%|██████████| 20/20 [00:12<00:00,  1.63it/s, loss=63.8, acc=0.709, AUC=0.78, val_acc=0.683, val_AUC=0.742]\n"
     ]
    },
    {
     "name": "stdout",
     "output_type": "stream",
     "text": [
      "tensor([ 0.6363, -0.4565,  0.0878, -0.0757,  0.9466,  0.0960, -0.0674,  0.5878,\n",
      "        -0.6337, -0.6830,  0.3572, -0.2134, -0.0480,  0.4084, -0.6771, -0.1393,\n",
      "        -0.1259], device='cuda:0', grad_fn=<DivBackward0>)\n"
     ]
    },
    {
     "name": "stderr",
     "output_type": "stream",
     "text": [
      "Epoch 47: 100%|██████████| 20/20 [00:12<00:00,  1.62it/s, loss=63.8, acc=0.711, AUC=0.779, val_acc=0.69, val_AUC=0.745]\n"
     ]
    },
    {
     "name": "stdout",
     "output_type": "stream",
     "text": [
      "tensor([ 0.6677, -0.4509,  0.0869, -0.0670,  0.9456,  0.0449, -0.0708,  0.5991,\n",
      "        -0.6335, -0.6784,  0.3635, -0.2187, -0.0494,  0.4238, -0.6949, -0.1361,\n",
      "        -0.1317], device='cuda:0', grad_fn=<DivBackward0>)\n"
     ]
    },
    {
     "name": "stderr",
     "output_type": "stream",
     "text": [
      "Epoch 48: 100%|██████████| 20/20 [00:12<00:00,  1.61it/s, loss=63.4, acc=0.716, AUC=0.783, val_acc=0.688, val_AUC=0.75]\n"
     ]
    },
    {
     "name": "stdout",
     "output_type": "stream",
     "text": [
      "tensor([ 0.6533, -0.4572,  0.0581, -0.0783,  0.9494,  0.0489, -0.0245,  0.5890,\n",
      "        -0.6374, -0.6718,  0.3809, -0.2345, -0.0551,  0.4265, -0.6676, -0.1380,\n",
      "        -0.1417], device='cuda:0', grad_fn=<DivBackward0>)\n"
     ]
    },
    {
     "name": "stderr",
     "output_type": "stream",
     "text": [
      "Epoch 49: 100%|██████████| 20/20 [00:12<00:00,  1.61it/s, loss=63.6, acc=0.71, AUC=0.782, val_acc=0.685, val_AUC=0.74]\n"
     ]
    },
    {
     "name": "stdout",
     "output_type": "stream",
     "text": [
      "tensor([ 0.6519, -0.4606,  0.0570, -0.0732,  0.9511,  0.0503, -0.0013,  0.5855,\n",
      "        -0.6474, -0.6748,  0.3706, -0.2334, -0.0567,  0.4332, -0.6598, -0.1456,\n",
      "        -0.1469], device='cuda:0', grad_fn=<DivBackward0>)\n"
     ]
    },
    {
     "name": "stderr",
     "output_type": "stream",
     "text": [
      "Epoch 50: 100%|██████████| 20/20 [00:12<00:00,  1.60it/s, loss=63.4, acc=0.714, AUC=0.783, val_acc=0.682, val_AUC=0.745]\n"
     ]
    },
    {
     "name": "stdout",
     "output_type": "stream",
     "text": [
      "tensor([ 0.6575, -0.4601,  0.0644, -0.0688,  0.9262,  0.0495, -0.0028,  0.5992,\n",
      "        -0.6543, -0.6820,  0.3847, -0.2407, -0.0548,  0.4402, -0.6586, -0.1517,\n",
      "        -0.1480], device='cuda:0', grad_fn=<DivBackward0>)\n"
     ]
    },
    {
     "name": "stderr",
     "output_type": "stream",
     "text": [
      "Epoch 51: 100%|██████████| 20/20 [00:12<00:00,  1.60it/s, loss=63.5, acc=0.713, AUC=0.782, val_acc=0.689, val_AUC=0.74]\n"
     ]
    },
    {
     "name": "stdout",
     "output_type": "stream",
     "text": [
      "tensor([ 0.6147, -0.4551,  0.0679, -0.0936,  0.9362,  0.0624, -0.0128,  0.5895,\n",
      "        -0.6508, -0.6666,  0.4198, -0.2508, -0.0475,  0.4295, -0.6558, -0.1396,\n",
      "        -0.1472], device='cuda:0', grad_fn=<DivBackward0>)\n"
     ]
    },
    {
     "name": "stderr",
     "output_type": "stream",
     "text": [
      "Epoch 52: 100%|██████████| 20/20 [00:12<00:00,  1.61it/s, loss=63.3, acc=0.714, AUC=0.784, val_acc=0.686, val_AUC=0.741]\n"
     ]
    },
    {
     "name": "stdout",
     "output_type": "stream",
     "text": [
      "tensor([ 0.6085, -0.4534,  0.0771, -0.1136,  0.9444,  0.0377, -0.0503,  0.5817,\n",
      "        -0.6513, -0.6531,  0.4271, -0.2478, -0.0426,  0.4253, -0.6297, -0.1222,\n",
      "        -0.1378], device='cuda:0', grad_fn=<DivBackward0>)\n"
     ]
    },
    {
     "name": "stderr",
     "output_type": "stream",
     "text": [
      "Epoch 53: 100%|██████████| 20/20 [00:12<00:00,  1.61it/s, loss=63.5, acc=0.713, AUC=0.782, val_acc=0.682, val_AUC=0.739]\n"
     ]
    },
    {
     "name": "stdout",
     "output_type": "stream",
     "text": [
      "tensor([ 0.6330, -0.4490,  0.0785, -0.1140,  0.9363,  0.0210, -0.0799,  0.5936,\n",
      "        -0.6571, -0.6590,  0.4180, -0.2415, -0.0332,  0.4412, -0.6402, -0.1138,\n",
      "        -0.1341], device='cuda:0', grad_fn=<DivBackward0>)\n"
     ]
    },
    {
     "name": "stderr",
     "output_type": "stream",
     "text": [
      "Epoch 54: 100%|██████████| 20/20 [00:12<00:00,  1.60it/s, loss=63.6, acc=0.71, AUC=0.782, val_acc=0.683, val_AUC=0.747]\n"
     ]
    },
    {
     "name": "stdout",
     "output_type": "stream",
     "text": [
      "tensor([ 0.6398, -0.4547,  0.0739, -0.1188,  0.9364,  0.0226, -0.0896,  0.5868,\n",
      "        -0.6615, -0.6545,  0.4167, -0.2371, -0.0299,  0.4507, -0.6234, -0.1147,\n",
      "        -0.1430], device='cuda:0', grad_fn=<DivBackward0>)\n"
     ]
    },
    {
     "name": "stderr",
     "output_type": "stream",
     "text": [
      "Epoch 55: 100%|██████████| 20/20 [00:12<00:00,  1.60it/s, loss=63.2, acc=0.717, AUC=0.786, val_acc=0.688, val_AUC=0.743]\n"
     ]
    },
    {
     "name": "stdout",
     "output_type": "stream",
     "text": [
      "tensor([ 0.6498, -0.4523,  0.0698, -0.1263,  0.9378,  0.0288, -0.1084,  0.5860,\n",
      "        -0.6726, -0.6507,  0.4160, -0.2365, -0.0232,  0.4573, -0.6147, -0.1154,\n",
      "        -0.1456], device='cuda:0', grad_fn=<DivBackward0>)\n"
     ]
    },
    {
     "name": "stderr",
     "output_type": "stream",
     "text": [
      "Epoch 56: 100%|██████████| 20/20 [00:12<00:00,  1.60it/s, loss=63.2, acc=0.711, AUC=0.785, val_acc=0.677, val_AUC=0.738]\n"
     ]
    },
    {
     "name": "stdout",
     "output_type": "stream",
     "text": [
      "tensor([ 0.6523, -0.4505,  0.0662, -0.1298,  0.9305,  0.0426, -0.1138,  0.5961,\n",
      "        -0.6706, -0.6435,  0.4038, -0.2233, -0.0185,  0.4616, -0.6452, -0.1123,\n",
      "        -0.1455], device='cuda:0', grad_fn=<DivBackward0>)\n"
     ]
    },
    {
     "name": "stderr",
     "output_type": "stream",
     "text": [
      "Epoch 57: 100%|██████████| 20/20 [00:12<00:00,  1.60it/s, loss=63.2, acc=0.715, AUC=0.785, val_acc=0.693, val_AUC=0.745]\n"
     ]
    },
    {
     "name": "stdout",
     "output_type": "stream",
     "text": [
      "tensor([ 0.6630, -0.4453,  0.0508, -0.1419,  0.9393,  0.0303, -0.1321,  0.5923,\n",
      "        -0.6782, -0.6415,  0.4126, -0.2027, -0.0094,  0.4556, -0.6478, -0.1091,\n",
      "        -0.1358], device='cuda:0', grad_fn=<DivBackward0>)\n"
     ]
    },
    {
     "name": "stderr",
     "output_type": "stream",
     "text": [
      "Epoch 58: 100%|██████████| 20/20 [00:12<00:00,  1.59it/s, loss=63.1, acc=0.716, AUC=0.786, val_acc=0.675, val_AUC=0.744]\n"
     ]
    },
    {
     "name": "stdout",
     "output_type": "stream",
     "text": [
      "tensor([ 6.5564e-01, -4.4122e-01,  2.2004e-02, -1.4678e-01,  9.5009e-01,\n",
      "         3.7181e-02, -1.3057e-01,  6.0015e-01, -6.7624e-01, -6.3783e-01,\n",
      "         4.2468e-01, -2.1467e-01,  2.5911e-04,  4.5302e-01, -6.5181e-01,\n",
      "        -1.0772e-01, -1.3618e-01], device='cuda:0', grad_fn=<DivBackward0>)\n"
     ]
    },
    {
     "name": "stderr",
     "output_type": "stream",
     "text": [
      "Epoch 59: 100%|██████████| 20/20 [00:12<00:00,  1.59it/s, loss=62.8, acc=0.715, AUC=0.788, val_acc=0.678, val_AUC=0.743]\n"
     ]
    },
    {
     "name": "stdout",
     "output_type": "stream",
     "text": [
      "tensor([ 0.6505, -0.4433,  0.0277, -0.1303,  0.9563,  0.0265, -0.1292,  0.5933,\n",
      "        -0.6830, -0.6440,  0.4202, -0.2250, -0.0042,  0.4684, -0.6552, -0.0961,\n",
      "        -0.1326], device='cuda:0', grad_fn=<DivBackward0>)\n"
     ]
    },
    {
     "name": "stderr",
     "output_type": "stream",
     "text": [
      "Epoch 60: 100%|██████████| 20/20 [00:12<00:00,  1.59it/s, loss=63, acc=0.714, AUC=0.787, val_acc=0.697, val_AUC=0.747]\n"
     ]
    },
    {
     "name": "stdout",
     "output_type": "stream",
     "text": [
      "tensor([ 0.6455, -0.4484,  0.0305, -0.1128,  0.9561,  0.0441, -0.1313,  0.5670,\n",
      "        -0.6854, -0.6435,  0.4207, -0.2338,  0.0032,  0.4697, -0.6531, -0.0943,\n",
      "        -0.1342], device='cuda:0', grad_fn=<DivBackward0>)\n"
     ]
    },
    {
     "name": "stderr",
     "output_type": "stream",
     "text": [
      "Epoch 61: 100%|██████████| 20/20 [00:12<00:00,  1.59it/s, loss=63.1, acc=0.715, AUC=0.786, val_acc=0.683, val_AUC=0.745]\n"
     ]
    },
    {
     "name": "stdout",
     "output_type": "stream",
     "text": [
      "tensor([ 0.6485, -0.4438,  0.0018, -0.1418,  0.9577,  0.0716, -0.1610,  0.5775,\n",
      "        -0.6821, -0.6442,  0.4352, -0.2080,  0.0097,  0.4728, -0.6560, -0.1020,\n",
      "        -0.1359], device='cuda:0', grad_fn=<DivBackward0>)\n"
     ]
    },
    {
     "name": "stderr",
     "output_type": "stream",
     "text": [
      "Epoch 62: 100%|██████████| 20/20 [00:12<00:00,  1.58it/s, loss=62.8, acc=0.717, AUC=0.788, val_acc=0.687, val_AUC=0.749]\n"
     ]
    },
    {
     "name": "stdout",
     "output_type": "stream",
     "text": [
      "tensor([ 0.6603, -0.4399, -0.0143, -0.1574,  0.9436,  0.0548, -0.1726,  0.6055,\n",
      "        -0.6841, -0.6472,  0.4413, -0.1972,  0.0135,  0.4764, -0.6623, -0.0842,\n",
      "        -0.1363], device='cuda:0', grad_fn=<DivBackward0>)\n"
     ]
    },
    {
     "name": "stderr",
     "output_type": "stream",
     "text": [
      "Epoch 63: 100%|██████████| 20/20 [00:12<00:00,  1.58it/s, loss=62.8, acc=0.717, AUC=0.789, val_acc=0.69, val_AUC=0.746]\n"
     ]
    },
    {
     "name": "stdout",
     "output_type": "stream",
     "text": [
      "tensor([ 0.6596, -0.4337, -0.0084, -0.1886,  0.9472,  0.0743, -0.1777,  0.5819,\n",
      "        -0.6892, -0.6465,  0.4503, -0.1962,  0.0116,  0.4756, -0.6438, -0.0810,\n",
      "        -0.1354], device='cuda:0', grad_fn=<DivBackward0>)\n"
     ]
    },
    {
     "name": "stderr",
     "output_type": "stream",
     "text": [
      "Epoch 64: 100%|██████████| 20/20 [00:12<00:00,  1.58it/s, loss=62.8, acc=0.715, AUC=0.788, val_acc=0.7, val_AUC=0.749]\n"
     ]
    },
    {
     "name": "stdout",
     "output_type": "stream",
     "text": [
      "tensor([ 0.6950, -0.4260,  0.0208, -0.2029,  0.9454,  0.0284, -0.1648,  0.5567,\n",
      "        -0.6873, -0.6523,  0.4424, -0.1897,  0.0188,  0.4724, -0.6544, -0.0702,\n",
      "        -0.1326], device='cuda:0', grad_fn=<DivBackward0>)\n"
     ]
    },
    {
     "name": "stderr",
     "output_type": "stream",
     "text": [
      "Epoch 65: 100%|██████████| 20/20 [00:12<00:00,  1.59it/s, loss=62.8, acc=0.716, AUC=0.788, val_acc=0.68, val_AUC=0.744]\n"
     ]
    },
    {
     "name": "stdout",
     "output_type": "stream",
     "text": [
      "tensor([ 0.7021, -0.4372,  0.0253, -0.1855,  0.9371, -0.0354, -0.1601,  0.5542,\n",
      "        -0.6887, -0.6549,  0.4486, -0.1781,  0.0217,  0.4752, -0.6311, -0.0619,\n",
      "        -0.1311], device='cuda:0', grad_fn=<DivBackward0>)\n"
     ]
    },
    {
     "name": "stderr",
     "output_type": "stream",
     "text": [
      "Epoch 66: 100%|██████████| 20/20 [00:12<00:00,  1.59it/s, loss=62.6, acc=0.716, AUC=0.79, val_acc=0.689, val_AUC=0.752]\n"
     ]
    },
    {
     "name": "stdout",
     "output_type": "stream",
     "text": [
      "tensor([ 0.6790, -0.4378,  0.0277, -0.1914,  0.9399, -0.0321, -0.1793,  0.5586,\n",
      "        -0.6943, -0.6533,  0.4472, -0.1724,  0.0251,  0.4783, -0.6114, -0.0588,\n",
      "        -0.1250], device='cuda:0', grad_fn=<DivBackward0>)\n"
     ]
    },
    {
     "name": "stderr",
     "output_type": "stream",
     "text": [
      "Epoch 67: 100%|██████████| 20/20 [00:12<00:00,  1.58it/s, loss=62.6, acc=0.715, AUC=0.789, val_acc=0.684, val_AUC=0.744]\n"
     ]
    },
    {
     "name": "stdout",
     "output_type": "stream",
     "text": [
      "tensor([ 0.6838, -0.4326,  0.0336, -0.1945,  0.9412, -0.0457, -0.1843,  0.5469,\n",
      "        -0.6942, -0.6443,  0.4624, -0.1774,  0.0243,  0.4767, -0.6092, -0.0597,\n",
      "        -0.1269], device='cuda:0', grad_fn=<DivBackward0>)\n"
     ]
    },
    {
     "name": "stderr",
     "output_type": "stream",
     "text": [
      "Epoch 68: 100%|██████████| 20/20 [00:12<00:00,  1.57it/s, loss=62.5, acc=0.718, AUC=0.791, val_acc=0.702, val_AUC=0.748]\n"
     ]
    },
    {
     "name": "stdout",
     "output_type": "stream",
     "text": [
      "tensor([ 0.6779, -0.4388,  0.0472, -0.1702,  0.9355, -0.0312, -0.1987,  0.5497,\n",
      "        -0.7003, -0.6462,  0.4539, -0.1789,  0.0267,  0.4786, -0.6179, -0.0558,\n",
      "        -0.1316], device='cuda:0', grad_fn=<DivBackward0>)\n"
     ]
    },
    {
     "name": "stderr",
     "output_type": "stream",
     "text": [
      "Epoch 69: 100%|██████████| 20/20 [00:12<00:00,  1.58it/s, loss=62.5, acc=0.721, AUC=0.791, val_acc=0.683, val_AUC=0.744]\n"
     ]
    },
    {
     "name": "stdout",
     "output_type": "stream",
     "text": [
      "tensor([ 0.7070, -0.4432,  0.0681, -0.1641,  0.9283, -0.0665, -0.2369,  0.5491,\n",
      "        -0.7042, -0.6417,  0.4478, -0.1554,  0.0284,  0.4833, -0.6260, -0.0377,\n",
      "        -0.1363], device='cuda:0', grad_fn=<DivBackward0>)\n"
     ]
    },
    {
     "name": "stderr",
     "output_type": "stream",
     "text": [
      "Epoch 70: 100%|██████████| 20/20 [00:12<00:00,  1.58it/s, loss=62.5, acc=0.719, AUC=0.79, val_acc=0.684, val_AUC=0.746]\n"
     ]
    },
    {
     "name": "stdout",
     "output_type": "stream",
     "text": [
      "tensor([ 0.6997, -0.4505,  0.0425, -0.1505,  0.9265, -0.0667, -0.2298,  0.5476,\n",
      "        -0.6964, -0.6337,  0.4543, -0.1544,  0.0346,  0.4901, -0.6222, -0.0467,\n",
      "        -0.1443], device='cuda:0', grad_fn=<DivBackward0>)\n"
     ]
    },
    {
     "name": "stderr",
     "output_type": "stream",
     "text": [
      "Epoch 71: 100%|██████████| 20/20 [00:12<00:00,  1.57it/s, loss=62.4, acc=0.719, AUC=0.792, val_acc=0.688, val_AUC=0.747]\n"
     ]
    },
    {
     "name": "stdout",
     "output_type": "stream",
     "text": [
      "tensor([ 0.6905, -0.4519,  0.0512, -0.1314,  0.9247, -0.0643, -0.2397,  0.5639,\n",
      "        -0.7012, -0.6256,  0.4655, -0.1591,  0.0282,  0.4873, -0.6197, -0.0538,\n",
      "        -0.1647], device='cuda:0', grad_fn=<DivBackward0>)\n"
     ]
    },
    {
     "name": "stderr",
     "output_type": "stream",
     "text": [
      "Epoch 72: 100%|██████████| 20/20 [00:12<00:00,  1.57it/s, loss=62.1, acc=0.722, AUC=0.794, val_acc=0.689, val_AUC=0.747]\n"
     ]
    },
    {
     "name": "stdout",
     "output_type": "stream",
     "text": [
      "tensor([ 0.7021, -0.4521,  0.0389, -0.1429,  0.9188, -0.0593, -0.2275,  0.5555,\n",
      "        -0.7044, -0.6244,  0.4761, -0.1550,  0.0328,  0.4743, -0.6271, -0.0467,\n",
      "        -0.1591], device='cuda:0', grad_fn=<DivBackward0>)\n"
     ]
    },
    {
     "name": "stderr",
     "output_type": "stream",
     "text": [
      "Epoch 73: 100%|██████████| 20/20 [00:12<00:00,  1.57it/s, loss=62.6, acc=0.716, AUC=0.791, val_acc=0.69, val_AUC=0.742]\n"
     ]
    },
    {
     "name": "stdout",
     "output_type": "stream",
     "text": [
      "tensor([ 0.6780, -0.4567,  0.0296, -0.1792,  0.9281, -0.0465, -0.2356,  0.5470,\n",
      "        -0.6994, -0.6214,  0.4952, -0.1729,  0.0535,  0.4802, -0.6051, -0.0357,\n",
      "        -0.1589], device='cuda:0', grad_fn=<DivBackward0>)\n"
     ]
    },
    {
     "name": "stderr",
     "output_type": "stream",
     "text": [
      "Epoch 74: 100%|██████████| 20/20 [00:12<00:00,  1.57it/s, loss=62.6, acc=0.718, AUC=0.791, val_acc=0.691, val_AUC=0.744]\n"
     ]
    },
    {
     "name": "stdout",
     "output_type": "stream",
     "text": [
      "tensor([ 0.6728, -0.4580,  0.0154, -0.1910,  0.9411, -0.0719, -0.2542,  0.5488,\n",
      "        -0.6891, -0.6053,  0.5091, -0.1668,  0.0582,  0.4778, -0.6029, -0.0203,\n",
      "        -0.1637], device='cuda:0', grad_fn=<DivBackward0>)\n"
     ]
    },
    {
     "name": "stderr",
     "output_type": "stream",
     "text": [
      "Epoch 75: 100%|██████████| 20/20 [00:12<00:00,  1.57it/s, loss=62.2, acc=0.722, AUC=0.794, val_acc=0.68, val_AUC=0.742]\n"
     ]
    },
    {
     "name": "stdout",
     "output_type": "stream",
     "text": [
      "tensor([ 0.6671, -0.4581,  0.0220, -0.1864,  0.9326, -0.0201, -0.2766,  0.5386,\n",
      "        -0.6927, -0.6075,  0.4902, -0.1612,  0.0635,  0.4785, -0.6109, -0.0156,\n",
      "        -0.1633], device='cuda:0', grad_fn=<DivBackward0>)\n"
     ]
    },
    {
     "name": "stderr",
     "output_type": "stream",
     "text": [
      "Epoch 76: 100%|██████████| 20/20 [00:12<00:00,  1.57it/s, loss=62.1, acc=0.724, AUC=0.794, val_acc=0.689, val_AUC=0.745]\n"
     ]
    },
    {
     "name": "stdout",
     "output_type": "stream",
     "text": [
      "tensor([ 6.9454e-01, -4.5649e-01,  5.9352e-03, -2.0010e-01,  9.1881e-01,\n",
      "        -7.6540e-04, -2.9148e-01,  5.4714e-01, -7.0093e-01, -6.0178e-01,\n",
      "         4.6991e-01, -1.6231e-01,  6.4686e-02,  4.9631e-01, -6.0838e-01,\n",
      "        -1.3767e-02, -1.6133e-01], device='cuda:0', grad_fn=<DivBackward0>)\n"
     ]
    },
    {
     "name": "stderr",
     "output_type": "stream",
     "text": [
      "Epoch 77: 100%|██████████| 20/20 [00:12<00:00,  1.58it/s, loss=62, acc=0.723, AUC=0.796, val_acc=0.689, val_AUC=0.743]\n"
     ]
    },
    {
     "name": "stdout",
     "output_type": "stream",
     "text": [
      "tensor([ 0.6996, -0.4546, -0.0186, -0.2021,  0.9184,  0.0111, -0.2996,  0.5500,\n",
      "        -0.7041, -0.6033,  0.4636, -0.1567,  0.0785,  0.4988, -0.6082, -0.0070,\n",
      "        -0.1657], device='cuda:0', grad_fn=<DivBackward0>)\n"
     ]
    },
    {
     "name": "stderr",
     "output_type": "stream",
     "text": [
      "Epoch 78: 100%|██████████| 20/20 [00:12<00:00,  1.57it/s, loss=61.8, acc=0.722, AUC=0.796, val_acc=0.686, val_AUC=0.748]\n"
     ]
    },
    {
     "name": "stdout",
     "output_type": "stream",
     "text": [
      "tensor([ 0.6969, -0.4501, -0.0331, -0.2190,  0.9285, -0.0181, -0.2920,  0.5461,\n",
      "        -0.7000, -0.5976,  0.4727, -0.1490,  0.0867,  0.4894, -0.5947,  0.0073,\n",
      "        -0.1740], device='cuda:0', grad_fn=<DivBackward0>)\n"
     ]
    },
    {
     "name": "stderr",
     "output_type": "stream",
     "text": [
      "Epoch 79: 100%|██████████| 20/20 [00:12<00:00,  1.56it/s, loss=61.9, acc=0.722, AUC=0.796, val_acc=0.686, val_AUC=0.75]\n"
     ]
    },
    {
     "name": "stdout",
     "output_type": "stream",
     "text": [
      "tensor([ 0.7069, -0.4449, -0.0386, -0.2247,  0.9293, -0.0485, -0.2947,  0.5459,\n",
      "        -0.6945, -0.5907,  0.4873, -0.1182,  0.0854,  0.4873, -0.6312,  0.0119,\n",
      "        -0.1681], device='cuda:0', grad_fn=<DivBackward0>)\n"
     ]
    },
    {
     "name": "stderr",
     "output_type": "stream",
     "text": [
      "Epoch 80: 100%|██████████| 20/20 [00:12<00:00,  1.57it/s, loss=62.2, acc=0.721, AUC=0.794, val_acc=0.688, val_AUC=0.749]\n"
     ]
    },
    {
     "name": "stdout",
     "output_type": "stream",
     "text": [
      "tensor([ 0.6903, -0.4532, -0.0490, -0.2194,  0.9350, -0.0515, -0.2897,  0.5379,\n",
      "        -0.6966, -0.5836,  0.4905, -0.1075,  0.0894,  0.4987, -0.6265,  0.0113,\n",
      "        -0.1762], device='cuda:0', grad_fn=<DivBackward0>)\n"
     ]
    },
    {
     "name": "stderr",
     "output_type": "stream",
     "text": [
      "Epoch 81: 100%|██████████| 20/20 [00:12<00:00,  1.57it/s, loss=62, acc=0.72, AUC=0.795, val_acc=0.679, val_AUC=0.746]\n"
     ]
    },
    {
     "name": "stdout",
     "output_type": "stream",
     "text": [
      "tensor([ 0.6964, -0.4503, -0.0467, -0.2227,  0.9259, -0.0316, -0.2912,  0.5275,\n",
      "        -0.6960, -0.5845,  0.4967, -0.0998,  0.0850,  0.4859, -0.6355,  0.0116,\n",
      "        -0.1707], device='cuda:0', grad_fn=<DivBackward0>)\n"
     ]
    },
    {
     "name": "stderr",
     "output_type": "stream",
     "text": [
      "Epoch 82: 100%|██████████| 20/20 [00:12<00:00,  1.57it/s, loss=61.7, acc=0.726, AUC=0.798, val_acc=0.681, val_AUC=0.741]\n"
     ]
    },
    {
     "name": "stdout",
     "output_type": "stream",
     "text": [
      "tensor([ 0.6902, -0.4531, -0.0602, -0.2387,  0.9147, -0.0095, -0.3142,  0.5352,\n",
      "        -0.6933, -0.5795,  0.4998, -0.0859,  0.1017,  0.4946, -0.6414,  0.0156,\n",
      "        -0.1761], device='cuda:0', grad_fn=<DivBackward0>)\n"
     ]
    },
    {
     "name": "stderr",
     "output_type": "stream",
     "text": [
      "Epoch 83: 100%|██████████| 20/20 [00:12<00:00,  1.56it/s, loss=61.9, acc=0.719, AUC=0.795, val_acc=0.703, val_AUC=0.748]\n"
     ]
    },
    {
     "name": "stdout",
     "output_type": "stream",
     "text": [
      "tensor([ 0.6998, -0.4507, -0.0533, -0.2452,  0.9152, -0.0273, -0.3183,  0.5264,\n",
      "        -0.6921, -0.5805,  0.4874, -0.0764,  0.0998,  0.4963, -0.6290,  0.0263,\n",
      "        -0.1785], device='cuda:0', grad_fn=<DivBackward0>)\n"
     ]
    },
    {
     "name": "stderr",
     "output_type": "stream",
     "text": [
      "Epoch 84: 100%|██████████| 20/20 [00:12<00:00,  1.56it/s, loss=61.5, acc=0.725, AUC=0.799, val_acc=0.693, val_AUC=0.746]\n"
     ]
    },
    {
     "name": "stdout",
     "output_type": "stream",
     "text": [
      "tensor([ 0.7167, -0.4518, -0.0609, -0.2671,  0.9162, -0.0746, -0.3233,  0.5387,\n",
      "        -0.6984, -0.5682,  0.5058, -0.0701,  0.1027,  0.5002, -0.6135,  0.0307,\n",
      "        -0.1830], device='cuda:0', grad_fn=<DivBackward0>)\n"
     ]
    },
    {
     "name": "stderr",
     "output_type": "stream",
     "text": [
      "Epoch 85: 100%|██████████| 20/20 [00:12<00:00,  1.56it/s, loss=61.4, acc=0.724, AUC=0.8, val_acc=0.679, val_AUC=0.743]\n"
     ]
    },
    {
     "name": "stdout",
     "output_type": "stream",
     "text": [
      "tensor([ 0.7355, -0.4523, -0.0638, -0.2585,  0.9105, -0.0975, -0.3076,  0.5197,\n",
      "        -0.6970, -0.5681,  0.5019, -0.0556,  0.0983,  0.4953, -0.6191,  0.0355,\n",
      "        -0.1774], device='cuda:0', grad_fn=<DivBackward0>)\n"
     ]
    },
    {
     "name": "stderr",
     "output_type": "stream",
     "text": [
      "Epoch 86: 100%|██████████| 20/20 [00:12<00:00,  1.56it/s, loss=61.7, acc=0.719, AUC=0.797, val_acc=0.689, val_AUC=0.747]\n"
     ]
    },
    {
     "name": "stdout",
     "output_type": "stream",
     "text": [
      "tensor([ 0.7513, -0.4558, -0.0455, -0.2533,  0.8974, -0.1059, -0.3108,  0.5214,\n",
      "        -0.6953, -0.5722,  0.4959, -0.0422,  0.0981,  0.4965, -0.6382,  0.0405,\n",
      "        -0.1820], device='cuda:0', grad_fn=<DivBackward0>)\n"
     ]
    },
    {
     "name": "stderr",
     "output_type": "stream",
     "text": [
      "Epoch 87: 100%|██████████| 20/20 [00:12<00:00,  1.56it/s, loss=61.6, acc=0.724, AUC=0.798, val_acc=0.685, val_AUC=0.748]\n"
     ]
    },
    {
     "name": "stdout",
     "output_type": "stream",
     "text": [
      "tensor([ 0.7489, -0.4547, -0.0668, -0.2678,  0.9095, -0.1071, -0.3113,  0.5045,\n",
      "        -0.6865, -0.5747,  0.5032, -0.0456,  0.0958,  0.5084, -0.6292,  0.0569,\n",
      "        -0.1833], device='cuda:0', grad_fn=<DivBackward0>)\n"
     ]
    },
    {
     "name": "stderr",
     "output_type": "stream",
     "text": [
      "Epoch 88: 100%|██████████| 20/20 [00:12<00:00,  1.56it/s, loss=61.4, acc=0.724, AUC=0.799, val_acc=0.7, val_AUC=0.75]\n"
     ]
    },
    {
     "name": "stdout",
     "output_type": "stream",
     "text": [
      "tensor([ 0.7337, -0.4564, -0.0753, -0.2590,  0.9040, -0.1368, -0.3007,  0.5218,\n",
      "        -0.6953, -0.5788,  0.5058, -0.0432,  0.1026,  0.5085, -0.6152,  0.0633,\n",
      "        -0.1789], device='cuda:0', grad_fn=<DivBackward0>)\n"
     ]
    },
    {
     "name": "stderr",
     "output_type": "stream",
     "text": [
      "Epoch 89: 100%|██████████| 20/20 [00:12<00:00,  1.56it/s, loss=61.5, acc=0.723, AUC=0.799, val_acc=0.7, val_AUC=0.744]\n"
     ]
    },
    {
     "name": "stdout",
     "output_type": "stream",
     "text": [
      "tensor([ 0.7403, -0.4582, -0.0598, -0.2480,  0.8990, -0.1448, -0.3049,  0.5107,\n",
      "        -0.6993, -0.5756,  0.4970, -0.0366,  0.1014,  0.5053, -0.6245,  0.0752,\n",
      "        -0.1773], device='cuda:0', grad_fn=<DivBackward0>)\n"
     ]
    },
    {
     "name": "stderr",
     "output_type": "stream",
     "text": [
      "Epoch 90: 100%|██████████| 20/20 [00:12<00:00,  1.56it/s, loss=61.3, acc=0.728, AUC=0.8, val_acc=0.686, val_AUC=0.748]\n"
     ]
    },
    {
     "name": "stdout",
     "output_type": "stream",
     "text": [
      "tensor([ 0.7538, -0.4617, -0.0544, -0.2569,  0.8966, -0.1452, -0.3196,  0.5236,\n",
      "        -0.6996, -0.5687,  0.4945, -0.0259,  0.0983,  0.4945, -0.6225,  0.0711,\n",
      "        -0.1779], device='cuda:0', grad_fn=<DivBackward0>)\n"
     ]
    },
    {
     "name": "stderr",
     "output_type": "stream",
     "text": [
      "Epoch 91: 100%|██████████| 20/20 [00:12<00:00,  1.55it/s, loss=61.2, acc=0.727, AUC=0.802, val_acc=0.684, val_AUC=0.745]\n"
     ]
    },
    {
     "name": "stdout",
     "output_type": "stream",
     "text": [
      "tensor([ 0.7528, -0.4598, -0.0480, -0.2779,  0.9026, -0.1611, -0.3205,  0.5182,\n",
      "        -0.6982, -0.5659,  0.4938, -0.0279,  0.1070,  0.5059, -0.6221,  0.0826,\n",
      "        -0.1815], device='cuda:0', grad_fn=<DivBackward0>)\n"
     ]
    },
    {
     "name": "stderr",
     "output_type": "stream",
     "text": [
      "Epoch 92: 100%|██████████| 20/20 [00:12<00:00,  1.56it/s, loss=61.2, acc=0.729, AUC=0.802, val_acc=0.687, val_AUC=0.746]\n"
     ]
    },
    {
     "name": "stdout",
     "output_type": "stream",
     "text": [
      "tensor([ 0.7584, -0.4581, -0.0548, -0.3015,  0.8962, -0.1656, -0.3281,  0.5217,\n",
      "        -0.6960, -0.5631,  0.4923, -0.0220,  0.1176,  0.5192, -0.6215,  0.0848,\n",
      "        -0.1795], device='cuda:0', grad_fn=<DivBackward0>)\n"
     ]
    },
    {
     "name": "stderr",
     "output_type": "stream",
     "text": [
      "Epoch 93: 100%|██████████| 20/20 [00:12<00:00,  1.55it/s, loss=61.2, acc=0.729, AUC=0.801, val_acc=0.683, val_AUC=0.742]\n"
     ]
    },
    {
     "name": "stdout",
     "output_type": "stream",
     "text": [
      "tensor([ 0.7640, -0.4539, -0.0628, -0.3125,  0.8835, -0.1681, -0.3377,  0.5277,\n",
      "        -0.6929, -0.5671,  0.4839, -0.0190,  0.1322,  0.5248, -0.6215,  0.0985,\n",
      "        -0.1789], device='cuda:0', grad_fn=<DivBackward0>)\n"
     ]
    },
    {
     "name": "stderr",
     "output_type": "stream",
     "text": [
      "Epoch 94: 100%|██████████| 20/20 [00:12<00:00,  1.56it/s, loss=60.9, acc=0.73, AUC=0.804, val_acc=0.679, val_AUC=0.743]\n"
     ]
    },
    {
     "name": "stdout",
     "output_type": "stream",
     "text": [
      "tensor([ 0.7699, -0.4517, -0.0427, -0.3085,  0.8738, -0.1775, -0.3457,  0.5202,\n",
      "        -0.6917, -0.5694,  0.4777, -0.0213,  0.1415,  0.5222, -0.6387,  0.1144,\n",
      "        -0.1725], device='cuda:0', grad_fn=<DivBackward0>)\n"
     ]
    },
    {
     "name": "stderr",
     "output_type": "stream",
     "text": [
      "Epoch 95: 100%|██████████| 20/20 [00:12<00:00,  1.55it/s, loss=61.1, acc=0.724, AUC=0.802, val_acc=0.683, val_AUC=0.742]\n"
     ]
    },
    {
     "name": "stdout",
     "output_type": "stream",
     "text": [
      "tensor([ 0.7930, -0.4529, -0.0540, -0.2999,  0.8707, -0.1667, -0.3666,  0.5216,\n",
      "        -0.6900, -0.5601,  0.4673, -0.0254,  0.1455,  0.5239, -0.6362,  0.1104,\n",
      "        -0.1806], device='cuda:0', grad_fn=<DivBackward0>)\n"
     ]
    },
    {
     "name": "stderr",
     "output_type": "stream",
     "text": [
      "Epoch 96: 100%|██████████| 20/20 [00:12<00:00,  1.55it/s, loss=61, acc=0.728, AUC=0.803, val_acc=0.686, val_AUC=0.738]\n"
     ]
    },
    {
     "name": "stdout",
     "output_type": "stream",
     "text": [
      "tensor([ 0.7852, -0.4551, -0.0490, -0.3007,  0.8688, -0.1800, -0.3626,  0.5131,\n",
      "        -0.6870, -0.5604,  0.4807, -0.0095,  0.1422,  0.5104, -0.6198,  0.1111,\n",
      "        -0.1874], device='cuda:0', grad_fn=<DivBackward0>)\n"
     ]
    },
    {
     "name": "stderr",
     "output_type": "stream",
     "text": [
      "Epoch 97: 100%|██████████| 20/20 [00:12<00:00,  1.54it/s, loss=61, acc=0.727, AUC=0.803, val_acc=0.696, val_AUC=0.755]\n"
     ]
    },
    {
     "name": "stdout",
     "output_type": "stream",
     "text": [
      "tensor([ 0.7655, -0.4575, -0.0232, -0.3112,  0.8708, -0.1783, -0.3836,  0.5007,\n",
      "        -0.6889, -0.5585,  0.4872,  0.0155,  0.1431,  0.5123, -0.6120,  0.1135,\n",
      "        -0.1951], device='cuda:0', grad_fn=<DivBackward0>)\n"
     ]
    },
    {
     "name": "stderr",
     "output_type": "stream",
     "text": [
      "Epoch 98: 100%|██████████| 20/20 [00:12<00:00,  1.55it/s, loss=60.9, acc=0.728, AUC=0.804, val_acc=0.683, val_AUC=0.752]\n"
     ]
    },
    {
     "name": "stdout",
     "output_type": "stream",
     "text": [
      "tensor([ 0.7771, -0.4526, -0.0261, -0.3317,  0.8700, -0.2096, -0.3983,  0.4877,\n",
      "        -0.6825, -0.5445,  0.4981,  0.0304,  0.1420,  0.5343, -0.6173,  0.1199,\n",
      "        -0.1968], device='cuda:0', grad_fn=<DivBackward0>)\n"
     ]
    },
    {
     "name": "stderr",
     "output_type": "stream",
     "text": [
      "Epoch 99: 100%|██████████| 20/20 [00:12<00:00,  1.54it/s, loss=60.9, acc=0.73, AUC=0.803, val_acc=0.688, val_AUC=0.748]\n"
     ]
    },
    {
     "name": "stdout",
     "output_type": "stream",
     "text": [
      "tensor([ 0.7664, -0.4527, -0.0436, -0.3339,  0.8649, -0.2068, -0.3982,  0.5024,\n",
      "        -0.6792, -0.5398,  0.5038,  0.0103,  0.1542,  0.5426, -0.6225,  0.1273,\n",
      "        -0.1951], device='cuda:0', grad_fn=<DivBackward0>)\n"
     ]
    },
    {
     "name": "stderr",
     "output_type": "stream",
     "text": [
      "Epoch 100: 100%|██████████| 20/20 [00:12<00:00,  1.54it/s, loss=60.8, acc=0.73, AUC=0.804, val_acc=0.685, val_AUC=0.749]\n"
     ]
    },
    {
     "name": "stdout",
     "output_type": "stream",
     "text": [
      "tensor([ 7.5995e-01, -4.5081e-01, -2.9766e-02, -3.4767e-01,  8.6816e-01,\n",
      "        -2.0573e-01, -3.9718e-01,  4.8643e-01, -6.8096e-01, -5.4235e-01,\n",
      "         5.0973e-01,  3.6550e-05,  1.6122e-01,  5.4137e-01, -6.2039e-01,\n",
      "         1.3530e-01, -1.8733e-01], device='cuda:0', grad_fn=<DivBackward0>)\n",
      "test_acc: 0.6985981464385986\n",
      "test_auc: 0.7599388379204893\n",
      "-----------------------------------------\n"
     ]
    },
    {
     "name": "stderr",
     "output_type": "stream",
     "text": [
      "wandb: WARNING Source type is set to 'repo' but some required information is missing from the environment. A job will not be created from this run. See https://docs.wandb.ai/guides/launch/create-job\n"
     ]
    },
    {
     "name": "stdout",
     "output_type": "stream",
     "text": [
      "=================[ 2 Fold ]=================\n",
      "train_data: torch.Size([9987, 17])\n",
      "train_label: torch.Size([9987])\n",
      "validation_data: torch.Size([1109, 17])\n",
      "validation_label: torch.Size([1109])\n",
      "test_data: torch.Size([5548, 17])\n",
      "test_label: torch.Size([5548])\n",
      "-----------------------------------------\n"
     ]
    },
    {
     "name": "stderr",
     "output_type": "stream",
     "text": [
      "Epoch 1:  95%|█████████▌| 19/20 [00:07<00:00,  2.36it/s]/home/tsou/.conda/envs/pyg/lib/python3.10/site-packages/torcheval/metrics/functional/classification/auroc.py:175: UserWarning: cumsum_cuda_kernel does not have a deterministic implementation, but you set 'torch.use_deterministic_algorithms(True, warn_only=True)'. You can file an issue at https://github.com/pytorch/pytorch/issues to help us prioritize adding deterministic support for this operation. (Triggered internally at ../aten/src/ATen/Context.cpp:82.)\n",
      "  return _binary_auroc_compute_jit(input, target, weight)\n",
      "Epoch 1: 100%|██████████| 20/20 [00:08<00:00,  2.26it/s, loss=73.7, acc=0.618, AUC=0.667, val_acc=0.637, val_AUC=0.681]\n"
     ]
    },
    {
     "name": "stdout",
     "output_type": "stream",
     "text": [
      "tensor([ 0.1447, -0.0307,  0.0789, -0.2795,  0.5024, -0.2312, -0.1751,  0.2136,\n",
      "        -0.3903, -0.2348,  0.2322, -0.2060,  0.1861,  0.2931, -0.2952,  0.2399,\n",
      "        -0.0482], device='cuda:0', grad_fn=<DivBackward0>)\n"
     ]
    },
    {
     "name": "stderr",
     "output_type": "stream",
     "text": [
      "Epoch 2: 100%|██████████| 20/20 [00:08<00:00,  2.23it/s, loss=71.4, acc=0.654, AUC=0.702, val_acc=0.642, val_AUC=0.695]\n"
     ]
    },
    {
     "name": "stdout",
     "output_type": "stream",
     "text": [
      "tensor([-0.2344,  0.1750,  0.0856, -0.2537,  0.3909, -0.2770, -0.0191,  0.0501,\n",
      "        -0.2706, -0.0896,  0.1182, -0.2984,  0.1613,  0.3078, -0.1010,  0.2428,\n",
      "         0.0119], device='cuda:0', grad_fn=<DivBackward0>)\n"
     ]
    },
    {
     "name": "stderr",
     "output_type": "stream",
     "text": [
      "Epoch 3: 100%|██████████| 20/20 [00:09<00:00,  2.19it/s, loss=70.7, acc=0.662, AUC=0.711, val_acc=0.663, val_AUC=0.708]\n"
     ]
    },
    {
     "name": "stdout",
     "output_type": "stream",
     "text": [
      "tensor([-0.2832,  0.1892,  0.0540, -0.2687,  0.4424, -0.3297,  0.0568,  0.0808,\n",
      "        -0.2740, -0.1158,  0.1414, -0.3131,  0.1793,  0.3564, -0.1189,  0.2045,\n",
      "        -0.0016], device='cuda:0', grad_fn=<DivBackward0>)\n"
     ]
    },
    {
     "name": "stderr",
     "output_type": "stream",
     "text": [
      "Epoch 4: 100%|██████████| 20/20 [00:09<00:00,  2.18it/s, loss=69.9, acc=0.668, AUC=0.72, val_acc=0.656, val_AUC=0.712]\n"
     ]
    },
    {
     "name": "stdout",
     "output_type": "stream",
     "text": [
      "tensor([-0.3274,  0.2196,  0.0359, -0.1681,  0.4823, -0.3394,  0.1136, -0.2151,\n",
      "        -0.3072, -0.1261,  0.1743, -0.2293,  0.1795,  0.3487, -0.0355,  0.1889,\n",
      "         0.0054], device='cuda:0', grad_fn=<DivBackward0>)\n"
     ]
    },
    {
     "name": "stderr",
     "output_type": "stream",
     "text": [
      "Epoch 5: 100%|██████████| 20/20 [00:09<00:00,  2.16it/s, loss=69.2, acc=0.67, AUC=0.728, val_acc=0.676, val_AUC=0.725]\n"
     ]
    },
    {
     "name": "stdout",
     "output_type": "stream",
     "text": [
      "tensor([-0.3571,  0.2933,  0.0930, -0.0958,  0.4815, -0.3315,  0.1135, -0.4507,\n",
      "        -0.2780, -0.1251,  0.2092, -0.2585,  0.1804,  0.2608,  0.0922,  0.1713,\n",
      "         0.0013], device='cuda:0', grad_fn=<DivBackward0>)\n"
     ]
    },
    {
     "name": "stderr",
     "output_type": "stream",
     "text": [
      "Epoch 6: 100%|██████████| 20/20 [00:09<00:00,  2.14it/s, loss=68.6, acc=0.681, AUC=0.735, val_acc=0.675, val_AUC=0.722]\n"
     ]
    },
    {
     "name": "stdout",
     "output_type": "stream",
     "text": [
      "tensor([-0.3985,  0.2956,  0.1621, -0.0172,  0.4765, -0.3228,  0.1127, -0.6626,\n",
      "        -0.1666, -0.1314,  0.2176, -0.2153,  0.1625,  0.3326,  0.0668,  0.1285,\n",
      "        -0.0404], device='cuda:0', grad_fn=<DivBackward0>)\n"
     ]
    },
    {
     "name": "stderr",
     "output_type": "stream",
     "text": [
      "Epoch 7: 100%|██████████| 20/20 [00:09<00:00,  2.12it/s, loss=68.1, acc=0.681, AUC=0.74, val_acc=0.677, val_AUC=0.736]\n"
     ]
    },
    {
     "name": "stdout",
     "output_type": "stream",
     "text": [
      "tensor([-0.3854,  0.2986,  0.1749,  0.0088,  0.5188, -0.3656,  0.1012, -0.8078,\n",
      "        -0.0608, -0.1567,  0.2262, -0.2035,  0.1661,  0.3314,  0.1177,  0.0948,\n",
      "        -0.0587], device='cuda:0', grad_fn=<DivBackward0>)\n"
     ]
    },
    {
     "name": "stderr",
     "output_type": "stream",
     "text": [
      "Epoch 8: 100%|██████████| 20/20 [00:09<00:00,  2.14it/s, loss=68.1, acc=0.684, AUC=0.74, val_acc=0.688, val_AUC=0.745]\n"
     ]
    },
    {
     "name": "stdout",
     "output_type": "stream",
     "text": [
      "tensor([-0.3762,  0.2881,  0.2238, -0.0393,  0.5516, -0.3151,  0.1016, -0.7762,\n",
      "        -0.0966, -0.1604,  0.2407, -0.2116,  0.1811,  0.3132,  0.0556,  0.0857,\n",
      "        -0.0660], device='cuda:0', grad_fn=<DivBackward0>)\n"
     ]
    },
    {
     "name": "stderr",
     "output_type": "stream",
     "text": [
      "Epoch 9: 100%|██████████| 20/20 [00:09<00:00,  2.09it/s, loss=68, acc=0.682, AUC=0.741, val_acc=0.669, val_AUC=0.732]\n"
     ]
    },
    {
     "name": "stdout",
     "output_type": "stream",
     "text": [
      "tensor([-0.3546,  0.2799,  0.2267, -0.1638,  0.6099, -0.3044,  0.1019, -0.7989,\n",
      "        -0.1284, -0.1611,  0.2093, -0.2295,  0.1728,  0.3759,  0.1416,  0.0713,\n",
      "        -0.0486], device='cuda:0', grad_fn=<DivBackward0>)\n"
     ]
    },
    {
     "name": "stderr",
     "output_type": "stream",
     "text": [
      "Epoch 10: 100%|██████████| 20/20 [00:09<00:00,  2.03it/s, loss=67.5, acc=0.689, AUC=0.746, val_acc=0.689, val_AUC=0.742]\n"
     ]
    },
    {
     "name": "stdout",
     "output_type": "stream",
     "text": [
      "tensor([-0.3837,  0.2691,  0.2045, -0.1532,  0.6814, -0.3061,  0.0658, -0.9431,\n",
      "        -0.0711, -0.1760,  0.2060, -0.2136,  0.1876,  0.4680,  0.1860,  0.0357,\n",
      "        -0.0573], device='cuda:0', grad_fn=<DivBackward0>)\n"
     ]
    },
    {
     "name": "stderr",
     "output_type": "stream",
     "text": [
      "Epoch 11: 100%|██████████| 20/20 [00:09<00:00,  2.03it/s, loss=67.5, acc=0.688, AUC=0.746, val_acc=0.674, val_AUC=0.747]\n"
     ]
    },
    {
     "name": "stdout",
     "output_type": "stream",
     "text": [
      "tensor([-0.3884,  0.2284,  0.1972, -0.1137,  0.6981, -0.3918,  0.0759, -0.9704,\n",
      "        -0.0473, -0.1175,  0.1690, -0.1467,  0.1775,  0.4782,  0.1697,  0.0254,\n",
      "        -0.0436], device='cuda:0', grad_fn=<DivBackward0>)\n"
     ]
    },
    {
     "name": "stderr",
     "output_type": "stream",
     "text": [
      "Epoch 12: 100%|██████████| 20/20 [00:09<00:00,  2.02it/s, loss=67.2, acc=0.688, AUC=0.75, val_acc=0.689, val_AUC=0.754]\n"
     ]
    },
    {
     "name": "stdout",
     "output_type": "stream",
     "text": [
      "tensor([-0.3697,  0.2140,  0.2126, -0.0720,  0.7350, -0.4273,  0.0803, -0.9513,\n",
      "        -0.0553, -0.1092,  0.1818, -0.1359,  0.1535,  0.4514,  0.1637,  0.0071,\n",
      "        -0.0787], device='cuda:0', grad_fn=<DivBackward0>)\n"
     ]
    },
    {
     "name": "stderr",
     "output_type": "stream",
     "text": [
      "Epoch 13: 100%|██████████| 20/20 [00:10<00:00,  1.99it/s, loss=67.4, acc=0.688, AUC=0.747, val_acc=0.683, val_AUC=0.743]\n"
     ]
    },
    {
     "name": "stdout",
     "output_type": "stream",
     "text": [
      "tensor([-0.3492,  0.1805,  0.1956, -0.0944,  0.7933, -0.3878,  0.0442, -0.9938,\n",
      "        -0.0365, -0.1080,  0.1979, -0.1308,  0.1432,  0.5193,  0.1324, -0.0105,\n",
      "        -0.0953], device='cuda:0', grad_fn=<DivBackward0>)\n"
     ]
    },
    {
     "name": "stderr",
     "output_type": "stream",
     "text": [
      "Epoch 14: 100%|██████████| 20/20 [00:10<00:00,  1.99it/s, loss=66.8, acc=0.69, AUC=0.753, val_acc=0.696, val_AUC=0.752]\n"
     ]
    },
    {
     "name": "stdout",
     "output_type": "stream",
     "text": [
      "tensor([-0.3937,  0.1982,  0.1970, -0.0419,  0.7759, -0.3576,  0.0396, -1.0142,\n",
      "        -0.0512, -0.1143,  0.1914, -0.1307,  0.1391,  0.5265,  0.1275, -0.0217,\n",
      "        -0.0699], device='cuda:0', grad_fn=<DivBackward0>)\n"
     ]
    },
    {
     "name": "stderr",
     "output_type": "stream",
     "text": [
      "Epoch 15: 100%|██████████| 20/20 [00:09<00:00,  2.00it/s, loss=67.1, acc=0.688, AUC=0.75, val_acc=0.682, val_AUC=0.757]\n"
     ]
    },
    {
     "name": "stdout",
     "output_type": "stream",
     "text": [
      "tensor([-0.4383,  0.2510,  0.1788, -0.0031,  0.7906, -0.3193,  0.0312, -1.0114,\n",
      "        -0.0551, -0.1089,  0.1839, -0.1504,  0.1381,  0.4897,  0.1234, -0.0264,\n",
      "        -0.0736], device='cuda:0', grad_fn=<DivBackward0>)\n"
     ]
    },
    {
     "name": "stderr",
     "output_type": "stream",
     "text": [
      "Epoch 16: 100%|██████████| 20/20 [00:09<00:00,  2.00it/s, loss=66.8, acc=0.693, AUC=0.754, val_acc=0.695, val_AUC=0.749]\n"
     ]
    },
    {
     "name": "stdout",
     "output_type": "stream",
     "text": [
      "tensor([-0.4580,  0.3105,  0.1743,  0.0270,  0.7951, -0.3239,  0.0442, -1.0582,\n",
      "        -0.0636, -0.0939,  0.1829, -0.1669,  0.1365,  0.4317,  0.1742, -0.0315,\n",
      "        -0.0805], device='cuda:0', grad_fn=<DivBackward0>)\n"
     ]
    },
    {
     "name": "stderr",
     "output_type": "stream",
     "text": [
      "Epoch 17: 100%|██████████| 20/20 [00:09<00:00,  2.00it/s, loss=66.8, acc=0.689, AUC=0.753, val_acc=0.687, val_AUC=0.752]\n"
     ]
    },
    {
     "name": "stdout",
     "output_type": "stream",
     "text": [
      "tensor([-0.4541,  0.2997,  0.1900, -0.0443,  0.7976, -0.3432,  0.0398, -1.0340,\n",
      "         0.0117, -0.1110,  0.1755, -0.1653,  0.1464,  0.4067,  0.1618, -0.0205,\n",
      "        -0.0567], device='cuda:0', grad_fn=<DivBackward0>)\n"
     ]
    },
    {
     "name": "stderr",
     "output_type": "stream",
     "text": [
      "Epoch 18: 100%|██████████| 20/20 [00:10<00:00,  1.99it/s, loss=66.9, acc=0.687, AUC=0.752, val_acc=0.681, val_AUC=0.749]\n"
     ]
    },
    {
     "name": "stdout",
     "output_type": "stream",
     "text": [
      "tensor([-0.4801,  0.3032,  0.1736, -0.0727,  0.7815, -0.3113,  0.0219, -1.0208,\n",
      "         0.0538, -0.0879,  0.1553, -0.1886,  0.1544,  0.4213,  0.1829, -0.0202,\n",
      "        -0.0663], device='cuda:0', grad_fn=<DivBackward0>)\n"
     ]
    },
    {
     "name": "stderr",
     "output_type": "stream",
     "text": [
      "Epoch 19: 100%|██████████| 20/20 [00:10<00:00,  1.98it/s, loss=66.7, acc=0.694, AUC=0.755, val_acc=0.679, val_AUC=0.74]\n"
     ]
    },
    {
     "name": "stdout",
     "output_type": "stream",
     "text": [
      "tensor([-0.4732,  0.2676,  0.1517, -0.0779,  0.8228, -0.3534,  0.0085, -0.9867,\n",
      "         0.0506, -0.1011,  0.1642, -0.2018,  0.1642,  0.4645,  0.1955, -0.0167,\n",
      "        -0.0789], device='cuda:0', grad_fn=<DivBackward0>)\n"
     ]
    },
    {
     "name": "stderr",
     "output_type": "stream",
     "text": [
      "Epoch 20: 100%|██████████| 20/20 [00:10<00:00,  1.98it/s, loss=66.7, acc=0.693, AUC=0.755, val_acc=0.691, val_AUC=0.751]\n"
     ]
    },
    {
     "name": "stdout",
     "output_type": "stream",
     "text": [
      "tensor([-0.4078,  0.2674,  0.1325, -0.1161,  0.8363, -0.3990,  0.0164, -0.9750,\n",
      "         0.0624, -0.0952,  0.1645, -0.2101,  0.1681,  0.5012,  0.1611, -0.0105,\n",
      "        -0.0961], device='cuda:0', grad_fn=<DivBackward0>)\n"
     ]
    },
    {
     "name": "stderr",
     "output_type": "stream",
     "text": [
      "Epoch 21: 100%|██████████| 20/20 [00:10<00:00,  1.98it/s, loss=66.1, acc=0.699, AUC=0.76, val_acc=0.699, val_AUC=0.753]\n"
     ]
    },
    {
     "name": "stdout",
     "output_type": "stream",
     "text": [
      "tensor([-0.4014,  0.2673,  0.1238, -0.1425,  0.8167, -0.4237,  0.0149, -0.9411,\n",
      "         0.0973, -0.0889,  0.1765, -0.2154,  0.1852,  0.4799,  0.1585, -0.0065,\n",
      "        -0.1005], device='cuda:0', grad_fn=<DivBackward0>)\n"
     ]
    },
    {
     "name": "stderr",
     "output_type": "stream",
     "text": [
      "Epoch 22: 100%|██████████| 20/20 [00:10<00:00,  1.99it/s, loss=66.5, acc=0.698, AUC=0.756, val_acc=0.693, val_AUC=0.753]\n"
     ]
    },
    {
     "name": "stdout",
     "output_type": "stream",
     "text": [
      "tensor([-0.4344,  0.2609,  0.1231, -0.1384,  0.8619, -0.4702,  0.0076, -0.8993,\n",
      "         0.0910, -0.0804,  0.1684, -0.2057,  0.2038,  0.4630,  0.1660, -0.0081,\n",
      "        -0.1091], device='cuda:0', grad_fn=<DivBackward0>)\n"
     ]
    },
    {
     "name": "stderr",
     "output_type": "stream",
     "text": [
      "Epoch 23: 100%|██████████| 20/20 [00:10<00:00,  1.99it/s, loss=66.2, acc=0.694, AUC=0.759, val_acc=0.693, val_AUC=0.748]\n"
     ]
    },
    {
     "name": "stdout",
     "output_type": "stream",
     "text": [
      "tensor([-0.4248,  0.2589,  0.1291, -0.1476,  0.8819, -0.4540, -0.0129, -0.9013,\n",
      "         0.1011, -0.0842,  0.1712, -0.2216,  0.1938,  0.4680,  0.1654, -0.0139,\n",
      "        -0.1094], device='cuda:0', grad_fn=<DivBackward0>)\n"
     ]
    },
    {
     "name": "stderr",
     "output_type": "stream",
     "text": [
      "Epoch 24: 100%|██████████| 20/20 [00:10<00:00,  1.98it/s, loss=66.2, acc=0.695, AUC=0.759, val_acc=0.683, val_AUC=0.753]\n"
     ]
    },
    {
     "name": "stdout",
     "output_type": "stream",
     "text": [
      "tensor([-0.3628,  0.2316,  0.1017, -0.1768,  0.8638, -0.4735, -0.0099, -0.8892,\n",
      "         0.1248, -0.0796,  0.1764, -0.2432,  0.2166,  0.4895,  0.1689, -0.0282,\n",
      "        -0.1101], device='cuda:0', grad_fn=<DivBackward0>)\n"
     ]
    },
    {
     "name": "stderr",
     "output_type": "stream",
     "text": [
      "Epoch 25: 100%|██████████| 20/20 [00:10<00:00,  1.98it/s, loss=66.3, acc=0.698, AUC=0.758, val_acc=0.686, val_AUC=0.75]\n"
     ]
    },
    {
     "name": "stdout",
     "output_type": "stream",
     "text": [
      "tensor([-0.3925,  0.2199,  0.1072, -0.2049,  0.8929, -0.4519,  0.0026, -0.8825,\n",
      "         0.1043, -0.0882,  0.1834, -0.2517,  0.2221,  0.4986,  0.1763, -0.0236,\n",
      "        -0.1121], device='cuda:0', grad_fn=<DivBackward0>)\n"
     ]
    },
    {
     "name": "stderr",
     "output_type": "stream",
     "text": [
      "Epoch 26: 100%|██████████| 20/20 [00:10<00:00,  1.94it/s, loss=66.3, acc=0.693, AUC=0.757, val_acc=0.693, val_AUC=0.751]\n"
     ]
    },
    {
     "name": "stdout",
     "output_type": "stream",
     "text": [
      "tensor([-0.4486,  0.1857,  0.1103, -0.2665,  0.9201, -0.4334, -0.0078, -0.9158,\n",
      "         0.1470, -0.0782,  0.2052, -0.2600,  0.2385,  0.5350,  0.1987, -0.0245,\n",
      "        -0.1056], device='cuda:0', grad_fn=<DivBackward0>)\n"
     ]
    },
    {
     "name": "stderr",
     "output_type": "stream",
     "text": [
      "Epoch 27: 100%|██████████| 20/20 [00:10<00:00,  1.95it/s, loss=66.3, acc=0.696, AUC=0.758, val_acc=0.687, val_AUC=0.749]\n"
     ]
    },
    {
     "name": "stdout",
     "output_type": "stream",
     "text": [
      "tensor([-0.4530,  0.2021,  0.0971, -0.2420,  0.9226, -0.4826,  0.0105, -0.9128,\n",
      "         0.1362, -0.0768,  0.2253, -0.2716,  0.2443,  0.5477,  0.1773, -0.0226,\n",
      "        -0.1017], device='cuda:0', grad_fn=<DivBackward0>)\n"
     ]
    },
    {
     "name": "stderr",
     "output_type": "stream",
     "text": [
      "Epoch 28: 100%|██████████| 20/20 [00:10<00:00,  1.96it/s, loss=66.1, acc=0.697, AUC=0.76, val_acc=0.689, val_AUC=0.761]\n"
     ]
    },
    {
     "name": "stdout",
     "output_type": "stream",
     "text": [
      "tensor([-0.4671,  0.2319,  0.1141, -0.2268,  0.8865, -0.4953,  0.0310, -0.8768,\n",
      "         0.1289, -0.0894,  0.2155, -0.2901,  0.2217,  0.5488,  0.1797, -0.0270,\n",
      "        -0.0858], device='cuda:0', grad_fn=<DivBackward0>)\n"
     ]
    },
    {
     "name": "stderr",
     "output_type": "stream",
     "text": [
      "Epoch 29: 100%|██████████| 20/20 [00:10<00:00,  1.97it/s, loss=65.9, acc=0.699, AUC=0.761, val_acc=0.697, val_AUC=0.751]\n"
     ]
    },
    {
     "name": "stdout",
     "output_type": "stream",
     "text": [
      "tensor([-0.4267,  0.1959,  0.1277, -0.2138,  0.8470, -0.4807,  0.0378, -0.8900,\n",
      "         0.1464, -0.0938,  0.2025, -0.3129,  0.2326,  0.5325,  0.1956, -0.0205,\n",
      "        -0.0794], device='cuda:0', grad_fn=<DivBackward0>)\n"
     ]
    },
    {
     "name": "stderr",
     "output_type": "stream",
     "text": [
      "Epoch 30: 100%|██████████| 20/20 [00:10<00:00,  1.95it/s, loss=66.1, acc=0.696, AUC=0.76, val_acc=0.702, val_AUC=0.765]\n"
     ]
    },
    {
     "name": "stdout",
     "output_type": "stream",
     "text": [
      "tensor([-0.4252,  0.1696,  0.1154, -0.1943,  0.8442, -0.4830,  0.0403, -0.9244,\n",
      "         0.2055, -0.0960,  0.2022, -0.3335,  0.2365,  0.5670,  0.1905, -0.0230,\n",
      "        -0.0917], device='cuda:0', grad_fn=<DivBackward0>)\n"
     ]
    },
    {
     "name": "stderr",
     "output_type": "stream",
     "text": [
      "Epoch 31: 100%|██████████| 20/20 [00:10<00:00,  1.95it/s, loss=66, acc=0.699, AUC=0.76, val_acc=0.698, val_AUC=0.756]\n"
     ]
    },
    {
     "name": "stdout",
     "output_type": "stream",
     "text": [
      "tensor([-0.4466,  0.1873,  0.1256, -0.1894,  0.8272, -0.4881,  0.0578, -0.9514,\n",
      "         0.2351, -0.0784,  0.2279, -0.3473,  0.2113,  0.5643,  0.1865, -0.0225,\n",
      "        -0.0994], device='cuda:0', grad_fn=<DivBackward0>)\n"
     ]
    },
    {
     "name": "stderr",
     "output_type": "stream",
     "text": [
      "Epoch 32: 100%|██████████| 20/20 [00:10<00:00,  1.95it/s, loss=65.8, acc=0.695, AUC=0.763, val_acc=0.687, val_AUC=0.756]\n"
     ]
    },
    {
     "name": "stdout",
     "output_type": "stream",
     "text": [
      "tensor([-0.4554,  0.2032,  0.1244, -0.1735,  0.8410, -0.5052,  0.0508, -0.9624,\n",
      "         0.2133, -0.0487,  0.2301, -0.3465,  0.2180,  0.5508,  0.2002, -0.0305,\n",
      "        -0.1095], device='cuda:0', grad_fn=<DivBackward0>)\n"
     ]
    },
    {
     "name": "stderr",
     "output_type": "stream",
     "text": [
      "Epoch 33: 100%|██████████| 20/20 [00:10<00:00,  1.95it/s, loss=65.9, acc=0.698, AUC=0.761, val_acc=0.694, val_AUC=0.758]\n"
     ]
    },
    {
     "name": "stdout",
     "output_type": "stream",
     "text": [
      "tensor([-0.4446,  0.2018,  0.1291, -0.1548,  0.8044, -0.4789,  0.0538, -0.9671,\n",
      "         0.1981, -0.0510,  0.2406, -0.3575,  0.2158,  0.5556,  0.2011, -0.0312,\n",
      "        -0.1152], device='cuda:0', grad_fn=<DivBackward0>)\n"
     ]
    },
    {
     "name": "stderr",
     "output_type": "stream",
     "text": [
      "Epoch 34: 100%|██████████| 20/20 [00:10<00:00,  1.95it/s, loss=65.6, acc=0.698, AUC=0.765, val_acc=0.701, val_AUC=0.759]\n"
     ]
    },
    {
     "name": "stdout",
     "output_type": "stream",
     "text": [
      "tensor([-0.3733,  0.2306,  0.1251, -0.1563,  0.8181, -0.4480,  0.0626, -0.9594,\n",
      "         0.1632, -0.0782,  0.2350, -0.3856,  0.2072,  0.5495,  0.1846, -0.0443,\n",
      "        -0.1306], device='cuda:0', grad_fn=<DivBackward0>)\n"
     ]
    },
    {
     "name": "stderr",
     "output_type": "stream",
     "text": [
      "Epoch 35: 100%|██████████| 20/20 [00:10<00:00,  1.93it/s, loss=65.9, acc=0.695, AUC=0.762, val_acc=0.691, val_AUC=0.754]\n"
     ]
    },
    {
     "name": "stdout",
     "output_type": "stream",
     "text": [
      "tensor([-0.3429,  0.2312,  0.1146, -0.1538,  0.8349, -0.4658,  0.0457, -0.9634,\n",
      "         0.1547, -0.0660,  0.2242, -0.3891,  0.2105,  0.5433,  0.1822, -0.0315,\n",
      "        -0.1289], device='cuda:0', grad_fn=<DivBackward0>)\n"
     ]
    },
    {
     "name": "stderr",
     "output_type": "stream",
     "text": [
      "Epoch 36: 100%|██████████| 20/20 [00:10<00:00,  1.94it/s, loss=65.8, acc=0.697, AUC=0.763, val_acc=0.702, val_AUC=0.762]\n"
     ]
    },
    {
     "name": "stdout",
     "output_type": "stream",
     "text": [
      "tensor([-0.3041,  0.1850,  0.1211, -0.1723,  0.8384, -0.4752,  0.0501, -0.9638,\n",
      "         0.2188, -0.0851,  0.2419, -0.3996,  0.2061,  0.5328,  0.1864, -0.0445,\n",
      "        -0.1358], device='cuda:0', grad_fn=<DivBackward0>)\n"
     ]
    },
    {
     "name": "stderr",
     "output_type": "stream",
     "text": [
      "Epoch 37: 100%|██████████| 20/20 [00:10<00:00,  1.93it/s, loss=65.7, acc=0.699, AUC=0.763, val_acc=0.699, val_AUC=0.761]\n"
     ]
    },
    {
     "name": "stdout",
     "output_type": "stream",
     "text": [
      "tensor([-0.3072,  0.1951,  0.1133, -0.1765,  0.8486, -0.4866,  0.0585, -0.9685,\n",
      "         0.2263, -0.0903,  0.2513, -0.4185,  0.2297,  0.5343,  0.1707, -0.0402,\n",
      "        -0.1399], device='cuda:0', grad_fn=<DivBackward0>)\n"
     ]
    },
    {
     "name": "stderr",
     "output_type": "stream",
     "text": [
      "Epoch 38: 100%|██████████| 20/20 [00:10<00:00,  1.94it/s, loss=65.8, acc=0.697, AUC=0.762, val_acc=0.696, val_AUC=0.76]\n"
     ]
    },
    {
     "name": "stdout",
     "output_type": "stream",
     "text": [
      "tensor([-0.3410,  0.1691,  0.1192, -0.1482,  0.8147, -0.4640,  0.0532, -0.9833,\n",
      "         0.2635, -0.0854,  0.2578, -0.4373,  0.2439,  0.5422,  0.1788, -0.0462,\n",
      "        -0.1369], device='cuda:0', grad_fn=<DivBackward0>)\n"
     ]
    },
    {
     "name": "stderr",
     "output_type": "stream",
     "text": [
      "Epoch 39: 100%|██████████| 20/20 [00:10<00:00,  1.94it/s, loss=65.5, acc=0.701, AUC=0.765, val_acc=0.702, val_AUC=0.76]\n"
     ]
    },
    {
     "name": "stdout",
     "output_type": "stream",
     "text": [
      "tensor([-0.3218,  0.1409,  0.1096, -0.1410,  0.7890, -0.4357,  0.0392, -0.9371,\n",
      "         0.2089, -0.0735,  0.2745, -0.4468,  0.2391,  0.5620,  0.1814, -0.0583,\n",
      "        -0.1303], device='cuda:0', grad_fn=<DivBackward0>)\n"
     ]
    },
    {
     "name": "stderr",
     "output_type": "stream",
     "text": [
      "Epoch 40: 100%|██████████| 20/20 [00:10<00:00,  1.94it/s, loss=65.6, acc=0.696, AUC=0.764, val_acc=0.693, val_AUC=0.753]\n"
     ]
    },
    {
     "name": "stdout",
     "output_type": "stream",
     "text": [
      "tensor([-0.3473,  0.1355,  0.1019, -0.1359,  0.7935, -0.4056,  0.0263, -0.8876,\n",
      "         0.2027, -0.0720,  0.2931, -0.4439,  0.2391,  0.5328,  0.1694, -0.0492,\n",
      "        -0.1525], device='cuda:0', grad_fn=<DivBackward0>)\n"
     ]
    },
    {
     "name": "stderr",
     "output_type": "stream",
     "text": [
      "Epoch 41: 100%|██████████| 20/20 [00:10<00:00,  1.94it/s, loss=65.6, acc=0.699, AUC=0.765, val_acc=0.697, val_AUC=0.752]\n"
     ]
    },
    {
     "name": "stdout",
     "output_type": "stream",
     "text": [
      "tensor([-0.3339,  0.1204,  0.1038, -0.1408,  0.8217, -0.4184,  0.0340, -0.8999,\n",
      "         0.2315, -0.0959,  0.2861, -0.4441,  0.2445,  0.5375,  0.1586, -0.0565,\n",
      "        -0.1485], device='cuda:0', grad_fn=<DivBackward0>)\n"
     ]
    },
    {
     "name": "stderr",
     "output_type": "stream",
     "text": [
      "Epoch 42: 100%|██████████| 20/20 [00:10<00:00,  1.96it/s, loss=65.4, acc=0.701, AUC=0.767, val_acc=0.684, val_AUC=0.75]\n"
     ]
    },
    {
     "name": "stdout",
     "output_type": "stream",
     "text": [
      "tensor([-0.3480,  0.1176,  0.1167, -0.1239,  0.7910, -0.4355,  0.0359, -0.9083,\n",
      "         0.2553, -0.0942,  0.2872, -0.4368,  0.2556,  0.5207,  0.1748, -0.0585,\n",
      "        -0.1494], device='cuda:0', grad_fn=<DivBackward0>)\n"
     ]
    },
    {
     "name": "stderr",
     "output_type": "stream",
     "text": [
      "Epoch 43: 100%|██████████| 20/20 [00:10<00:00,  1.94it/s, loss=65.4, acc=0.698, AUC=0.766, val_acc=0.687, val_AUC=0.759]\n"
     ]
    },
    {
     "name": "stdout",
     "output_type": "stream",
     "text": [
      "tensor([-0.3516,  0.1028,  0.1277, -0.1120,  0.7910, -0.4227,  0.0241, -0.9349,\n",
      "         0.2602, -0.0853,  0.3074, -0.4331,  0.2526,  0.5239,  0.1769, -0.0723,\n",
      "        -0.1549], device='cuda:0', grad_fn=<DivBackward0>)\n"
     ]
    },
    {
     "name": "stderr",
     "output_type": "stream",
     "text": [
      "Epoch 44: 100%|██████████| 20/20 [00:10<00:00,  1.95it/s, loss=65.3, acc=0.698, AUC=0.767, val_acc=0.694, val_AUC=0.758]\n"
     ]
    },
    {
     "name": "stdout",
     "output_type": "stream",
     "text": [
      "tensor([-0.3266,  0.0968,  0.1271, -0.1361,  0.8049, -0.4286,  0.0171, -0.9322,\n",
      "         0.2664, -0.0945,  0.3021, -0.4293,  0.2586,  0.5420,  0.1675, -0.0803,\n",
      "        -0.1548], device='cuda:0', grad_fn=<DivBackward0>)\n"
     ]
    },
    {
     "name": "stderr",
     "output_type": "stream",
     "text": [
      "Epoch 45: 100%|██████████| 20/20 [00:10<00:00,  1.94it/s, loss=65, acc=0.703, AUC=0.77, val_acc=0.688, val_AUC=0.754]\n"
     ]
    },
    {
     "name": "stdout",
     "output_type": "stream",
     "text": [
      "tensor([-0.3011,  0.1092,  0.1155, -0.1453,  0.8042, -0.4231,  0.0089, -0.8945,\n",
      "         0.2310, -0.0957,  0.3160, -0.4567,  0.2496,  0.5338,  0.1762, -0.0747,\n",
      "        -0.1534], device='cuda:0', grad_fn=<DivBackward0>)\n"
     ]
    },
    {
     "name": "stderr",
     "output_type": "stream",
     "text": [
      "Epoch 46: 100%|██████████| 20/20 [00:10<00:00,  1.92it/s, loss=65.5, acc=0.702, AUC=0.765, val_acc=0.691, val_AUC=0.761]\n"
     ]
    },
    {
     "name": "stdout",
     "output_type": "stream",
     "text": [
      "tensor([-0.2755,  0.0908,  0.1067, -0.1559,  0.8263, -0.4338,  0.0072, -0.9042,\n",
      "         0.2075, -0.0966,  0.3448, -0.4542,  0.2447,  0.5374,  0.1886, -0.0736,\n",
      "        -0.1601], device='cuda:0', grad_fn=<DivBackward0>)\n"
     ]
    },
    {
     "name": "stderr",
     "output_type": "stream",
     "text": [
      "Epoch 47: 100%|██████████| 20/20 [00:10<00:00,  1.91it/s, loss=65.2, acc=0.702, AUC=0.768, val_acc=0.703, val_AUC=0.764]\n"
     ]
    },
    {
     "name": "stdout",
     "output_type": "stream",
     "text": [
      "tensor([-0.2709,  0.0861,  0.0944, -0.1532,  0.8570, -0.4397,  0.0042, -0.8948,\n",
      "         0.2069, -0.1049,  0.3448, -0.4478,  0.2608,  0.5361,  0.1800, -0.0782,\n",
      "        -0.1808], device='cuda:0', grad_fn=<DivBackward0>)\n"
     ]
    },
    {
     "name": "stderr",
     "output_type": "stream",
     "text": [
      "Epoch 48: 100%|██████████| 20/20 [00:10<00:00,  1.90it/s, loss=65.1, acc=0.702, AUC=0.769, val_acc=0.701, val_AUC=0.758]\n"
     ]
    },
    {
     "name": "stdout",
     "output_type": "stream",
     "text": [
      "tensor([-0.2282,  0.0702,  0.0724, -0.1722,  0.8582, -0.4409,  0.0063, -0.8783,\n",
      "         0.2097, -0.1112,  0.3409, -0.4530,  0.2659,  0.5471,  0.1768, -0.0852,\n",
      "        -0.1789], device='cuda:0', grad_fn=<DivBackward0>)\n"
     ]
    },
    {
     "name": "stderr",
     "output_type": "stream",
     "text": [
      "Epoch 49: 100%|██████████| 20/20 [00:10<00:00,  1.88it/s, loss=65, acc=0.703, AUC=0.77, val_acc=0.698, val_AUC=0.76]\n"
     ]
    },
    {
     "name": "stdout",
     "output_type": "stream",
     "text": [
      "tensor([-0.1933,  0.0392,  0.0578, -0.2008,  0.8642, -0.4304, -0.0036, -0.8992,\n",
      "         0.2428, -0.1046,  0.3501, -0.4561,  0.2685,  0.5807,  0.1645, -0.0908,\n",
      "        -0.1889], device='cuda:0', grad_fn=<DivBackward0>)\n"
     ]
    },
    {
     "name": "stderr",
     "output_type": "stream",
     "text": [
      "Epoch 50: 100%|██████████| 20/20 [00:10<00:00,  1.87it/s, loss=65, acc=0.702, AUC=0.77, val_acc=0.702, val_AUC=0.761]\n"
     ]
    },
    {
     "name": "stdout",
     "output_type": "stream",
     "text": [
      "tensor([-0.1894,  0.0144,  0.0489, -0.1982,  0.8500, -0.3831, -0.0125, -0.8699,\n",
      "         0.2370, -0.1137,  0.3665, -0.4786,  0.2787,  0.5704,  0.1629, -0.0822,\n",
      "        -0.2013], device='cuda:0', grad_fn=<DivBackward0>)\n"
     ]
    },
    {
     "name": "stderr",
     "output_type": "stream",
     "text": [
      "Epoch 51: 100%|██████████| 20/20 [00:10<00:00,  1.89it/s, loss=65, acc=0.706, AUC=0.77, val_acc=0.685, val_AUC=0.757]\n"
     ]
    },
    {
     "name": "stdout",
     "output_type": "stream",
     "text": [
      "tensor([-0.1644,  0.0187,  0.0475, -0.2042,  0.8292, -0.3807, -0.0130, -0.8716,\n",
      "         0.2388, -0.0883,  0.3622, -0.4761,  0.2819,  0.5657,  0.1342, -0.0775,\n",
      "        -0.2024], device='cuda:0', grad_fn=<DivBackward0>)\n"
     ]
    },
    {
     "name": "stderr",
     "output_type": "stream",
     "text": [
      "Epoch 52: 100%|██████████| 20/20 [00:10<00:00,  1.88it/s, loss=64.9, acc=0.701, AUC=0.771, val_acc=0.698, val_AUC=0.76]\n"
     ]
    },
    {
     "name": "stdout",
     "output_type": "stream",
     "text": [
      "tensor([-0.1454,  0.0161,  0.0356, -0.2102,  0.8195, -0.3542, -0.0129, -0.8781,\n",
      "         0.2258, -0.0920,  0.3725, -0.4765,  0.2751,  0.5913,  0.1264, -0.0838,\n",
      "        -0.2091], device='cuda:0', grad_fn=<DivBackward0>)\n"
     ]
    },
    {
     "name": "stderr",
     "output_type": "stream",
     "text": [
      "Epoch 53: 100%|██████████| 20/20 [00:10<00:00,  1.88it/s, loss=64.9, acc=0.704, AUC=0.77, val_acc=0.698, val_AUC=0.759]\n"
     ]
    },
    {
     "name": "stdout",
     "output_type": "stream",
     "text": [
      "tensor([-0.1304,  0.0056,  0.0339, -0.2301,  0.8090, -0.3099, -0.0150, -0.8949,\n",
      "         0.2262, -0.1049,  0.3838, -0.4852,  0.2785,  0.6114,  0.1047, -0.0761,\n",
      "        -0.2066], device='cuda:0', grad_fn=<DivBackward0>)\n"
     ]
    },
    {
     "name": "stderr",
     "output_type": "stream",
     "text": [
      "Epoch 54: 100%|██████████| 20/20 [00:10<00:00,  1.86it/s, loss=64.9, acc=0.704, AUC=0.772, val_acc=0.693, val_AUC=0.761]\n"
     ]
    },
    {
     "name": "stdout",
     "output_type": "stream",
     "text": [
      "tensor([-0.1466,  0.0308,  0.0111, -0.2288,  0.8315, -0.2946, -0.0206, -0.8912,\n",
      "         0.2175, -0.1095,  0.4145, -0.4969,  0.2813,  0.6150,  0.1011, -0.0897,\n",
      "        -0.2251], device='cuda:0', grad_fn=<DivBackward0>)\n"
     ]
    },
    {
     "name": "stderr",
     "output_type": "stream",
     "text": [
      "Epoch 55: 100%|██████████| 20/20 [00:10<00:00,  1.85it/s, loss=65, acc=0.704, AUC=0.769, val_acc=0.706, val_AUC=0.759]\n"
     ]
    },
    {
     "name": "stdout",
     "output_type": "stream",
     "text": [
      "tensor([-0.1707,  0.0268,  0.0156, -0.2460,  0.8287, -0.2555, -0.0115, -0.8961,\n",
      "         0.2408, -0.1180,  0.4179, -0.4930,  0.2747,  0.6126,  0.0984, -0.1020,\n",
      "        -0.2227], device='cuda:0', grad_fn=<DivBackward0>)\n"
     ]
    },
    {
     "name": "stderr",
     "output_type": "stream",
     "text": [
      "Epoch 56: 100%|██████████| 20/20 [00:10<00:00,  1.86it/s, loss=64.9, acc=0.703, AUC=0.771, val_acc=0.697, val_AUC=0.757]\n"
     ]
    },
    {
     "name": "stdout",
     "output_type": "stream",
     "text": [
      "tensor([-0.2139,  0.0350,  0.0149, -0.2391,  0.8219, -0.2470, -0.0219, -0.9079,\n",
      "         0.2676, -0.1172,  0.4161, -0.4902,  0.2883,  0.6211,  0.1127, -0.1106,\n",
      "        -0.2298], device='cuda:0', grad_fn=<DivBackward0>)\n"
     ]
    },
    {
     "name": "stderr",
     "output_type": "stream",
     "text": [
      "Epoch 57: 100%|██████████| 20/20 [00:10<00:00,  1.86it/s, loss=64.7, acc=0.706, AUC=0.773, val_acc=0.695, val_AUC=0.765]\n"
     ]
    },
    {
     "name": "stdout",
     "output_type": "stream",
     "text": [
      "tensor([-0.2335,  0.0484,  0.0108, -0.2315,  0.8336, -0.2995, -0.0106, -0.9303,\n",
      "         0.2537, -0.1066,  0.4208, -0.4893,  0.2983,  0.6423,  0.1157, -0.1027,\n",
      "        -0.2194], device='cuda:0', grad_fn=<DivBackward0>)\n"
     ]
    },
    {
     "name": "stderr",
     "output_type": "stream",
     "text": [
      "Epoch 58: 100%|██████████| 20/20 [00:10<00:00,  1.84it/s, loss=64.7, acc=0.7, AUC=0.772, val_acc=0.693, val_AUC=0.753]\n"
     ]
    },
    {
     "name": "stdout",
     "output_type": "stream",
     "text": [
      "tensor([-1.9712e-01,  2.8502e-02,  5.0593e-04, -2.3606e-01,  8.4376e-01,\n",
      "        -3.1111e-01, -2.1573e-02, -9.2651e-01,  2.4531e-01, -1.1759e-01,\n",
      "         4.1906e-01, -4.8250e-01,  3.0579e-01,  6.5334e-01,  1.1400e-01,\n",
      "        -9.8805e-02, -2.1901e-01], device='cuda:0', grad_fn=<DivBackward0>)\n"
     ]
    },
    {
     "name": "stderr",
     "output_type": "stream",
     "text": [
      "Epoch 59: 100%|██████████| 20/20 [00:10<00:00,  1.83it/s, loss=64.7, acc=0.706, AUC=0.773, val_acc=0.7, val_AUC=0.759]\n"
     ]
    },
    {
     "name": "stdout",
     "output_type": "stream",
     "text": [
      "tensor([-0.1600,  0.0257, -0.0148, -0.2347,  0.8540, -0.3432, -0.0239, -0.8966,\n",
      "         0.2499, -0.1145,  0.4014, -0.4937,  0.3069,  0.6513,  0.1168, -0.1037,\n",
      "        -0.2209], device='cuda:0', grad_fn=<DivBackward0>)\n"
     ]
    },
    {
     "name": "stderr",
     "output_type": "stream",
     "text": [
      "Epoch 60: 100%|██████████| 20/20 [00:10<00:00,  1.84it/s, loss=64.7, acc=0.705, AUC=0.773, val_acc=0.711, val_AUC=0.766]\n"
     ]
    },
    {
     "name": "stdout",
     "output_type": "stream",
     "text": [
      "tensor([-0.1682,  0.0391, -0.0154, -0.2203,  0.8916, -0.3572, -0.0159, -0.9243,\n",
      "         0.2286, -0.1125,  0.4045, -0.4778,  0.2936,  0.6361,  0.1160, -0.1062,\n",
      "        -0.2117], device='cuda:0', grad_fn=<DivBackward0>)\n"
     ]
    },
    {
     "name": "stderr",
     "output_type": "stream",
     "text": [
      "Epoch 61: 100%|██████████| 20/20 [00:10<00:00,  1.84it/s, loss=64.6, acc=0.707, AUC=0.774, val_acc=0.701, val_AUC=0.759]\n"
     ]
    },
    {
     "name": "stdout",
     "output_type": "stream",
     "text": [
      "tensor([-0.1914,  0.0758, -0.0011, -0.2078,  0.8761, -0.3396, -0.0036, -0.9533,\n",
      "         0.2185, -0.1122,  0.3859, -0.4628,  0.3028,  0.6331,  0.1043, -0.1099,\n",
      "        -0.2147], device='cuda:0', grad_fn=<DivBackward0>)\n"
     ]
    },
    {
     "name": "stderr",
     "output_type": "stream",
     "text": [
      "Epoch 62: 100%|██████████| 20/20 [00:10<00:00,  1.84it/s, loss=64.7, acc=0.702, AUC=0.772, val_acc=0.688, val_AUC=0.755]\n"
     ]
    },
    {
     "name": "stdout",
     "output_type": "stream",
     "text": [
      "tensor([-0.1831,  0.0776, -0.0140, -0.2154,  0.8729, -0.3030, -0.0021, -0.9409,\n",
      "         0.2135, -0.1095,  0.3845, -0.4793,  0.2998,  0.6305,  0.1128, -0.1158,\n",
      "        -0.2286], device='cuda:0', grad_fn=<DivBackward0>)\n"
     ]
    },
    {
     "name": "stderr",
     "output_type": "stream",
     "text": [
      "Epoch 63: 100%|██████████| 20/20 [00:10<00:00,  1.85it/s, loss=64.6, acc=0.706, AUC=0.773, val_acc=0.699, val_AUC=0.755]\n"
     ]
    },
    {
     "name": "stdout",
     "output_type": "stream",
     "text": [
      "tensor([-0.1825,  0.0696, -0.0177, -0.2139,  0.8594, -0.3109, -0.0070, -0.9171,\n",
      "         0.2269, -0.1027,  0.4057, -0.4944,  0.3072,  0.6237,  0.1088, -0.1295,\n",
      "        -0.2256], device='cuda:0', grad_fn=<DivBackward0>)\n"
     ]
    },
    {
     "name": "stderr",
     "output_type": "stream",
     "text": [
      "Epoch 64: 100%|██████████| 20/20 [00:10<00:00,  1.82it/s, loss=64.4, acc=0.707, AUC=0.775, val_acc=0.704, val_AUC=0.759]\n"
     ]
    },
    {
     "name": "stdout",
     "output_type": "stream",
     "text": [
      "tensor([-0.1480,  0.0507, -0.0315, -0.2290,  0.8795, -0.3199, -0.0147, -0.9077,\n",
      "         0.2345, -0.1224,  0.4268, -0.5023,  0.3044,  0.6568,  0.0848, -0.1267,\n",
      "        -0.2354], device='cuda:0', grad_fn=<DivBackward0>)\n"
     ]
    },
    {
     "name": "stderr",
     "output_type": "stream",
     "text": [
      "Epoch 65: 100%|██████████| 20/20 [00:11<00:00,  1.81it/s, loss=64.6, acc=0.702, AUC=0.773, val_acc=0.698, val_AUC=0.758]\n"
     ]
    },
    {
     "name": "stdout",
     "output_type": "stream",
     "text": [
      "tensor([-0.1268,  0.0490, -0.0403, -0.2325,  0.8764, -0.3240, -0.0225, -0.8830,\n",
      "         0.2370, -0.1167,  0.4295, -0.5062,  0.3047,  0.6586,  0.0612, -0.1268,\n",
      "        -0.2376], device='cuda:0', grad_fn=<DivBackward0>)\n"
     ]
    },
    {
     "name": "stderr",
     "output_type": "stream",
     "text": [
      "Epoch 66: 100%|██████████| 20/20 [00:10<00:00,  1.83it/s, loss=64.3, acc=0.708, AUC=0.776, val_acc=0.689, val_AUC=0.754]\n"
     ]
    },
    {
     "name": "stdout",
     "output_type": "stream",
     "text": [
      "tensor([-0.1436,  0.0557, -0.0388, -0.2262,  0.8700, -0.3469, -0.0120, -0.8797,\n",
      "         0.2399, -0.1062,  0.4093, -0.5003,  0.3022,  0.6762,  0.0496, -0.1158,\n",
      "        -0.2336], device='cuda:0', grad_fn=<DivBackward0>)\n"
     ]
    },
    {
     "name": "stderr",
     "output_type": "stream",
     "text": [
      "Epoch 67: 100%|██████████| 20/20 [00:10<00:00,  1.82it/s, loss=64.5, acc=0.705, AUC=0.774, val_acc=0.703, val_AUC=0.757]\n"
     ]
    },
    {
     "name": "stdout",
     "output_type": "stream",
     "text": [
      "tensor([-0.1724,  0.0672, -0.0438, -0.2447,  0.8593, -0.3504, -0.0192, -0.8920,\n",
      "         0.2492, -0.0945,  0.4296, -0.4876,  0.3250,  0.6718,  0.0479, -0.1203,\n",
      "        -0.2250], device='cuda:0', grad_fn=<DivBackward0>)\n"
     ]
    },
    {
     "name": "stderr",
     "output_type": "stream",
     "text": [
      "Epoch 68: 100%|██████████| 20/20 [00:11<00:00,  1.81it/s, loss=64.2, acc=0.705, AUC=0.776, val_acc=0.699, val_AUC=0.758]\n"
     ]
    },
    {
     "name": "stdout",
     "output_type": "stream",
     "text": [
      "tensor([-0.1516,  0.0711, -0.0663, -0.2518,  0.8664, -0.3583, -0.0308, -0.8649,\n",
      "         0.2339, -0.0917,  0.4301, -0.4864,  0.3231,  0.6837,  0.0492, -0.1204,\n",
      "        -0.2351], device='cuda:0', grad_fn=<DivBackward0>)\n"
     ]
    },
    {
     "name": "stderr",
     "output_type": "stream",
     "text": [
      "Epoch 69: 100%|██████████| 20/20 [00:11<00:00,  1.81it/s, loss=64.1, acc=0.71, AUC=0.778, val_acc=0.699, val_AUC=0.757]\n"
     ]
    },
    {
     "name": "stdout",
     "output_type": "stream",
     "text": [
      "tensor([-0.1258,  0.0512, -0.0723, -0.2560,  0.8322, -0.3672, -0.0149, -0.8345,\n",
      "         0.2118, -0.0899,  0.4489, -0.4914,  0.3280,  0.7087,  0.0368, -0.1326,\n",
      "        -0.2330], device='cuda:0', grad_fn=<DivBackward0>)\n"
     ]
    },
    {
     "name": "stderr",
     "output_type": "stream",
     "text": [
      "Epoch 70: 100%|██████████| 20/20 [00:11<00:00,  1.81it/s, loss=64.4, acc=0.703, AUC=0.775, val_acc=0.702, val_AUC=0.757]\n"
     ]
    },
    {
     "name": "stdout",
     "output_type": "stream",
     "text": [
      "tensor([-0.1387,  0.0522, -0.0726, -0.2629,  0.8237, -0.3633, -0.0227, -0.8150,\n",
      "         0.2132, -0.0888,  0.4554, -0.4878,  0.3313,  0.7017,  0.0302, -0.1225,\n",
      "        -0.2335], device='cuda:0', grad_fn=<DivBackward0>)\n"
     ]
    },
    {
     "name": "stderr",
     "output_type": "stream",
     "text": [
      "Epoch 71: 100%|██████████| 20/20 [00:11<00:00,  1.81it/s, loss=64.3, acc=0.707, AUC=0.776, val_acc=0.696, val_AUC=0.758]\n"
     ]
    },
    {
     "name": "stdout",
     "output_type": "stream",
     "text": [
      "tensor([-0.1119,  0.0504, -0.0635, -0.2587,  0.8153, -0.3925, -0.0152, -0.8291,\n",
      "         0.2309, -0.1018,  0.4357, -0.4900,  0.3273,  0.7235,  0.0200, -0.1231,\n",
      "        -0.2173], device='cuda:0', grad_fn=<DivBackward0>)\n"
     ]
    },
    {
     "name": "stderr",
     "output_type": "stream",
     "text": [
      "Epoch 72: 100%|██████████| 20/20 [00:11<00:00,  1.79it/s, loss=64.1, acc=0.707, AUC=0.777, val_acc=0.695, val_AUC=0.757]\n"
     ]
    },
    {
     "name": "stdout",
     "output_type": "stream",
     "text": [
      "tensor([-0.0598,  0.0328, -0.0766, -0.2488,  0.8150, -0.4082, -0.0096, -0.8087,\n",
      "         0.2258, -0.1050,  0.4383, -0.5006,  0.3266,  0.7330,  0.0011, -0.1260,\n",
      "        -0.2292], device='cuda:0', grad_fn=<DivBackward0>)\n"
     ]
    },
    {
     "name": "stderr",
     "output_type": "stream",
     "text": [
      "Epoch 73: 100%|██████████| 20/20 [00:11<00:00,  1.79it/s, loss=64.3, acc=0.707, AUC=0.776, val_acc=0.693, val_AUC=0.759]\n"
     ]
    },
    {
     "name": "stdout",
     "output_type": "stream",
     "text": [
      "tensor([-0.0226,  0.0229, -0.0886, -0.2507,  0.8166, -0.4312, -0.0027, -0.7852,\n",
      "         0.2255, -0.1047,  0.4390, -0.4886,  0.3307,  0.7110, -0.0121, -0.1263,\n",
      "        -0.2331], device='cuda:0', grad_fn=<DivBackward0>)\n"
     ]
    },
    {
     "name": "stderr",
     "output_type": "stream",
     "text": [
      "Epoch 74: 100%|██████████| 20/20 [00:11<00:00,  1.77it/s, loss=63.9, acc=0.713, AUC=0.779, val_acc=0.692, val_AUC=0.756]\n"
     ]
    },
    {
     "name": "stdout",
     "output_type": "stream",
     "text": [
      "tensor([-0.0094,  0.0150, -0.0996, -0.2609,  0.8358, -0.4447, -0.0103, -0.7799,\n",
      "         0.2371, -0.0951,  0.4545, -0.4969,  0.3356,  0.7000, -0.0263, -0.1166,\n",
      "        -0.2383], device='cuda:0', grad_fn=<DivBackward0>)\n"
     ]
    },
    {
     "name": "stderr",
     "output_type": "stream",
     "text": [
      "Epoch 75: 100%|██████████| 20/20 [00:11<00:00,  1.79it/s, loss=63.9, acc=0.711, AUC=0.779, val_acc=0.696, val_AUC=0.759]\n"
     ]
    },
    {
     "name": "stdout",
     "output_type": "stream",
     "text": [
      "tensor([-0.0057,  0.0308, -0.1010, -0.2600,  0.8054, -0.4288, -0.0099, -0.7721,\n",
      "         0.2531, -0.0929,  0.4492, -0.5056,  0.3369,  0.6832, -0.0365, -0.1226,\n",
      "        -0.2234], device='cuda:0', grad_fn=<DivBackward0>)\n"
     ]
    },
    {
     "name": "stderr",
     "output_type": "stream",
     "text": [
      "Epoch 76: 100%|██████████| 20/20 [00:11<00:00,  1.79it/s, loss=63.8, acc=0.71, AUC=0.78, val_acc=0.702, val_AUC=0.757]\n"
     ]
    },
    {
     "name": "stdout",
     "output_type": "stream",
     "text": [
      "tensor([-0.0125,  0.0419, -0.1018, -0.2626,  0.7875, -0.3887, -0.0016, -0.7839,\n",
      "         0.2315, -0.0988,  0.4403, -0.5098,  0.3345,  0.7008, -0.0384, -0.1182,\n",
      "        -0.2203], device='cuda:0', grad_fn=<DivBackward0>)\n"
     ]
    },
    {
     "name": "stderr",
     "output_type": "stream",
     "text": [
      "Epoch 77: 100%|██████████| 20/20 [00:11<00:00,  1.81it/s, loss=64.1, acc=0.709, AUC=0.777, val_acc=0.693, val_AUC=0.757]\n"
     ]
    },
    {
     "name": "stdout",
     "output_type": "stream",
     "text": [
      "tensor([-0.0082,  0.0550, -0.0978, -0.2517,  0.7706, -0.3517,  0.0075, -0.8045,\n",
      "         0.2228, -0.0843,  0.4258, -0.5188,  0.3276,  0.6754, -0.0251, -0.1124,\n",
      "        -0.2303], device='cuda:0', grad_fn=<DivBackward0>)\n"
     ]
    },
    {
     "name": "stderr",
     "output_type": "stream",
     "text": [
      "Epoch 78: 100%|██████████| 20/20 [00:11<00:00,  1.79it/s, loss=63.7, acc=0.71, AUC=0.78, val_acc=0.694, val_AUC=0.759]\n"
     ]
    },
    {
     "name": "stdout",
     "output_type": "stream",
     "text": [
      "tensor([-0.0033,  0.0335, -0.1006, -0.2624,  0.8063, -0.3517, -0.0032, -0.7831,\n",
      "         0.2152, -0.0928,  0.4118, -0.5102,  0.3447,  0.6703, -0.0421, -0.1036,\n",
      "        -0.2288], device='cuda:0', grad_fn=<DivBackward0>)\n"
     ]
    },
    {
     "name": "stderr",
     "output_type": "stream",
     "text": [
      "Epoch 79: 100%|██████████| 20/20 [00:11<00:00,  1.80it/s, loss=63.7, acc=0.712, AUC=0.781, val_acc=0.701, val_AUC=0.758]\n"
     ]
    },
    {
     "name": "stdout",
     "output_type": "stream",
     "text": [
      "tensor([-0.0195,  0.0010, -0.1009, -0.2698,  0.8169, -0.3423, -0.0104, -0.7583,\n",
      "         0.2163, -0.1079,  0.4087, -0.5076,  0.3470,  0.7010, -0.0418, -0.1030,\n",
      "        -0.2294], device='cuda:0', grad_fn=<DivBackward0>)\n"
     ]
    },
    {
     "name": "stderr",
     "output_type": "stream",
     "text": [
      "Epoch 80: 100%|██████████| 20/20 [00:11<00:00,  1.78it/s, loss=63.7, acc=0.711, AUC=0.781, val_acc=0.693, val_AUC=0.756]\n"
     ]
    },
    {
     "name": "stdout",
     "output_type": "stream",
     "text": [
      "tensor([ 0.0290, -0.0188, -0.1247, -0.2865,  0.8247, -0.3523, -0.0224, -0.7413,\n",
      "         0.2147, -0.1086,  0.4169, -0.5011,  0.3574,  0.6988, -0.0477, -0.1026,\n",
      "        -0.2354], device='cuda:0', grad_fn=<DivBackward0>)\n"
     ]
    },
    {
     "name": "stderr",
     "output_type": "stream",
     "text": [
      "Epoch 81: 100%|██████████| 20/20 [00:11<00:00,  1.76it/s, loss=63.9, acc=0.71, AUC=0.78, val_acc=0.693, val_AUC=0.756]\n"
     ]
    },
    {
     "name": "stdout",
     "output_type": "stream",
     "text": [
      "tensor([ 0.0475, -0.0242, -0.1430, -0.2900,  0.8338, -0.3407, -0.0411, -0.7126,\n",
      "         0.2129, -0.1075,  0.4195, -0.5224,  0.3600,  0.7155, -0.0654, -0.1076,\n",
      "        -0.2349], device='cuda:0', grad_fn=<DivBackward0>)\n"
     ]
    },
    {
     "name": "stderr",
     "output_type": "stream",
     "text": [
      "Epoch 82: 100%|██████████| 20/20 [00:11<00:00,  1.77it/s, loss=63.5, acc=0.716, AUC=0.783, val_acc=0.696, val_AUC=0.753]\n"
     ]
    },
    {
     "name": "stdout",
     "output_type": "stream",
     "text": [
      "tensor([ 0.0551, -0.0156, -0.1486, -0.2813,  0.8220, -0.3209, -0.0511, -0.7208,\n",
      "         0.2184, -0.0999,  0.4125, -0.5245,  0.3648,  0.7111, -0.0611, -0.1171,\n",
      "        -0.2430], device='cuda:0', grad_fn=<DivBackward0>)\n"
     ]
    },
    {
     "name": "stderr",
     "output_type": "stream",
     "text": [
      "Epoch 83: 100%|██████████| 20/20 [00:11<00:00,  1.76it/s, loss=63.8, acc=0.713, AUC=0.78, val_acc=0.697, val_AUC=0.757]\n"
     ]
    },
    {
     "name": "stdout",
     "output_type": "stream",
     "text": [
      "tensor([ 0.0811, -0.0136, -0.1675, -0.2921,  0.8245, -0.3082, -0.0551, -0.7279,\n",
      "         0.2114, -0.0827,  0.4131, -0.5307,  0.3619,  0.7102, -0.0634, -0.1155,\n",
      "        -0.2455], device='cuda:0', grad_fn=<DivBackward0>)\n"
     ]
    },
    {
     "name": "stderr",
     "output_type": "stream",
     "text": [
      "Epoch 84: 100%|██████████| 20/20 [00:11<00:00,  1.76it/s, loss=63.7, acc=0.713, AUC=0.781, val_acc=0.687, val_AUC=0.753]\n"
     ]
    },
    {
     "name": "stdout",
     "output_type": "stream",
     "text": [
      "tensor([ 0.1019, -0.0242, -0.1571, -0.3038,  0.8175, -0.2755, -0.0488, -0.7355,\n",
      "         0.2151, -0.0776,  0.3891, -0.5265,  0.3582,  0.6914, -0.0541, -0.1208,\n",
      "        -0.2495], device='cuda:0', grad_fn=<DivBackward0>)\n"
     ]
    },
    {
     "name": "stderr",
     "output_type": "stream",
     "text": [
      "Epoch 85: 100%|██████████| 20/20 [00:11<00:00,  1.76it/s, loss=63.5, acc=0.709, AUC=0.783, val_acc=0.684, val_AUC=0.754]\n"
     ]
    },
    {
     "name": "stdout",
     "output_type": "stream",
     "text": [
      "tensor([ 0.0899, -0.0181, -0.1420, -0.3051,  0.8117, -0.2713, -0.0323, -0.7396,\n",
      "         0.1985, -0.0839,  0.3884, -0.5321,  0.3525,  0.7087, -0.0479, -0.1239,\n",
      "        -0.2535], device='cuda:0', grad_fn=<DivBackward0>)\n"
     ]
    },
    {
     "name": "stderr",
     "output_type": "stream",
     "text": [
      "Epoch 86: 100%|██████████| 20/20 [00:11<00:00,  1.77it/s, loss=63.4, acc=0.713, AUC=0.783, val_acc=0.696, val_AUC=0.757]\n"
     ]
    },
    {
     "name": "stdout",
     "output_type": "stream",
     "text": [
      "tensor([ 0.0718, -0.0297, -0.1358, -0.3121,  0.8183, -0.2648, -0.0423, -0.7520,\n",
      "         0.2003, -0.0846,  0.3832, -0.5191,  0.3609,  0.7149, -0.0449, -0.1235,\n",
      "        -0.2407], device='cuda:0', grad_fn=<DivBackward0>)\n"
     ]
    },
    {
     "name": "stderr",
     "output_type": "stream",
     "text": [
      "Epoch 87: 100%|██████████| 20/20 [00:11<00:00,  1.76it/s, loss=63.2, acc=0.714, AUC=0.785, val_acc=0.69, val_AUC=0.749]\n"
     ]
    },
    {
     "name": "stdout",
     "output_type": "stream",
     "text": [
      "tensor([ 0.0825, -0.0361, -0.1576, -0.3254,  0.8499, -0.2473, -0.0497, -0.7367,\n",
      "         0.1791, -0.0884,  0.3799, -0.5108,  0.3770,  0.7305, -0.0662, -0.1202,\n",
      "        -0.2605], device='cuda:0', grad_fn=<DivBackward0>)\n"
     ]
    },
    {
     "name": "stderr",
     "output_type": "stream",
     "text": [
      "Epoch 88: 100%|██████████| 20/20 [00:11<00:00,  1.75it/s, loss=63.7, acc=0.712, AUC=0.782, val_acc=0.709, val_AUC=0.763]\n"
     ]
    },
    {
     "name": "stdout",
     "output_type": "stream",
     "text": [
      "tensor([ 0.0706, -0.0219, -0.1633, -0.3275,  0.8331, -0.2050, -0.0466, -0.7468,\n",
      "         0.1815, -0.0886,  0.3853, -0.5139,  0.3809,  0.7261, -0.0666, -0.1255,\n",
      "        -0.2718], device='cuda:0', grad_fn=<DivBackward0>)\n"
     ]
    },
    {
     "name": "stderr",
     "output_type": "stream",
     "text": [
      "Epoch 89: 100%|██████████| 20/20 [00:11<00:00,  1.76it/s, loss=63.2, acc=0.713, AUC=0.785, val_acc=0.709, val_AUC=0.762]\n"
     ]
    },
    {
     "name": "stdout",
     "output_type": "stream",
     "text": [
      "tensor([ 0.0635, -0.0056, -0.1498, -0.3257,  0.8121, -0.1867, -0.0321, -0.7562,\n",
      "         0.1803, -0.0823,  0.3868, -0.5317,  0.3713,  0.7024, -0.0618, -0.1242,\n",
      "        -0.2602], device='cuda:0', grad_fn=<DivBackward0>)\n"
     ]
    },
    {
     "name": "stderr",
     "output_type": "stream",
     "text": [
      "Epoch 90: 100%|██████████| 20/20 [00:11<00:00,  1.75it/s, loss=63.3, acc=0.708, AUC=0.784, val_acc=0.695, val_AUC=0.759]\n"
     ]
    },
    {
     "name": "stdout",
     "output_type": "stream",
     "text": [
      "tensor([ 0.1151, -0.0165, -0.1649, -0.3252,  0.8036, -0.1818, -0.0302, -0.7564,\n",
      "         0.1780, -0.0889,  0.4016, -0.5369,  0.3747,  0.7076, -0.0853, -0.1252,\n",
      "        -0.2692], device='cuda:0', grad_fn=<DivBackward0>)\n"
     ]
    },
    {
     "name": "stderr",
     "output_type": "stream",
     "text": [
      "Epoch 91: 100%|██████████| 20/20 [00:11<00:00,  1.75it/s, loss=63.2, acc=0.716, AUC=0.786, val_acc=0.689, val_AUC=0.755]\n"
     ]
    },
    {
     "name": "stdout",
     "output_type": "stream",
     "text": [
      "tensor([ 0.1119, -0.0080, -0.1549, -0.3191,  0.8091, -0.1692, -0.0337, -0.7739,\n",
      "         0.1694, -0.0953,  0.3969, -0.5403,  0.3780,  0.7160, -0.0784, -0.1329,\n",
      "        -0.2755], device='cuda:0', grad_fn=<DivBackward0>)\n"
     ]
    },
    {
     "name": "stderr",
     "output_type": "stream",
     "text": [
      "Epoch 92: 100%|██████████| 20/20 [00:11<00:00,  1.75it/s, loss=63.1, acc=0.715, AUC=0.786, val_acc=0.697, val_AUC=0.76]\n"
     ]
    },
    {
     "name": "stdout",
     "output_type": "stream",
     "text": [
      "tensor([ 0.0938, -0.0058, -0.1569, -0.3207,  0.8207, -0.1470, -0.0398, -0.7759,\n",
      "         0.1708, -0.0959,  0.3867, -0.5239,  0.3793,  0.7135, -0.0832, -0.1274,\n",
      "        -0.2883], device='cuda:0', grad_fn=<DivBackward0>)\n"
     ]
    },
    {
     "name": "stderr",
     "output_type": "stream",
     "text": [
      "Epoch 93: 100%|██████████| 20/20 [00:11<00:00,  1.75it/s, loss=62.9, acc=0.717, AUC=0.788, val_acc=0.696, val_AUC=0.761]\n"
     ]
    },
    {
     "name": "stdout",
     "output_type": "stream",
     "text": [
      "tensor([ 0.1048, -0.0264, -0.1676, -0.3123,  0.8139, -0.1484, -0.0418, -0.7611,\n",
      "         0.1686, -0.0977,  0.3849, -0.5250,  0.3837,  0.7276, -0.1010, -0.1163,\n",
      "        -0.2858], device='cuda:0', grad_fn=<DivBackward0>)\n"
     ]
    },
    {
     "name": "stderr",
     "output_type": "stream",
     "text": [
      "Epoch 94: 100%|██████████| 20/20 [00:11<00:00,  1.74it/s, loss=63.1, acc=0.713, AUC=0.786, val_acc=0.695, val_AUC=0.759]\n"
     ]
    },
    {
     "name": "stdout",
     "output_type": "stream",
     "text": [
      "tensor([ 0.1258, -0.0458, -0.1740, -0.3123,  0.8114, -0.1242, -0.0388, -0.7602,\n",
      "         0.1701, -0.1084,  0.3937, -0.5219,  0.3950,  0.7164, -0.1199, -0.1170,\n",
      "        -0.2898], device='cuda:0', grad_fn=<DivBackward0>)\n"
     ]
    },
    {
     "name": "stderr",
     "output_type": "stream",
     "text": [
      "Epoch 95: 100%|██████████| 20/20 [00:11<00:00,  1.74it/s, loss=62.9, acc=0.716, AUC=0.787, val_acc=0.693, val_AUC=0.754]\n"
     ]
    },
    {
     "name": "stdout",
     "output_type": "stream",
     "text": [
      "tensor([ 0.1413, -0.0674, -0.1835, -0.3281,  0.8162, -0.1417, -0.0432, -0.7279,\n",
      "         0.1669, -0.1112,  0.3831, -0.5193,  0.4135,  0.7155, -0.1282, -0.1055,\n",
      "        -0.2807], device='cuda:0', grad_fn=<DivBackward0>)\n"
     ]
    },
    {
     "name": "stderr",
     "output_type": "stream",
     "text": [
      "Epoch 96: 100%|██████████| 20/20 [00:11<00:00,  1.74it/s, loss=62.7, acc=0.717, AUC=0.789, val_acc=0.703, val_AUC=0.762]\n"
     ]
    },
    {
     "name": "stdout",
     "output_type": "stream",
     "text": [
      "tensor([ 0.1618, -0.0650, -0.1873, -0.3207,  0.8015, -0.1499, -0.0339, -0.7422,\n",
      "         0.1705, -0.0958,  0.3850, -0.5162,  0.4179,  0.7012, -0.1398, -0.1100,\n",
      "        -0.2771], device='cuda:0', grad_fn=<DivBackward0>)\n"
     ]
    },
    {
     "name": "stderr",
     "output_type": "stream",
     "text": [
      "Epoch 97: 100%|██████████| 20/20 [00:11<00:00,  1.76it/s, loss=63, acc=0.716, AUC=0.787, val_acc=0.698, val_AUC=0.761]\n"
     ]
    },
    {
     "name": "stdout",
     "output_type": "stream",
     "text": [
      "tensor([ 0.1479, -0.0423, -0.1921, -0.3199,  0.7938, -0.1496, -0.0339, -0.7323,\n",
      "         0.1785, -0.0941,  0.3822, -0.5030,  0.4125,  0.6893, -0.1350, -0.1232,\n",
      "        -0.2787], device='cuda:0', grad_fn=<DivBackward0>)\n"
     ]
    },
    {
     "name": "stderr",
     "output_type": "stream",
     "text": [
      "Epoch 98: 100%|██████████| 20/20 [00:11<00:00,  1.76it/s, loss=62.9, acc=0.715, AUC=0.787, val_acc=0.688, val_AUC=0.753]\n"
     ]
    },
    {
     "name": "stdout",
     "output_type": "stream",
     "text": [
      "tensor([ 0.1243, -0.0328, -0.2021, -0.3196,  0.7953, -0.1442, -0.0324, -0.7392,\n",
      "         0.1734, -0.0920,  0.3889, -0.4887,  0.4042,  0.6972, -0.1265, -0.1207,\n",
      "        -0.2850], device='cuda:0', grad_fn=<DivBackward0>)\n"
     ]
    },
    {
     "name": "stderr",
     "output_type": "stream",
     "text": [
      "Epoch 99: 100%|██████████| 20/20 [00:11<00:00,  1.75it/s, loss=62.9, acc=0.714, AUC=0.788, val_acc=0.689, val_AUC=0.756]\n"
     ]
    },
    {
     "name": "stdout",
     "output_type": "stream",
     "text": [
      "tensor([ 0.1035, -0.0365, -0.1957, -0.3135,  0.8085, -0.1340, -0.0274, -0.7622,\n",
      "         0.1733, -0.0867,  0.3846, -0.4868,  0.4004,  0.7008, -0.1281, -0.1137,\n",
      "        -0.2863], device='cuda:0', grad_fn=<DivBackward0>)\n"
     ]
    },
    {
     "name": "stderr",
     "output_type": "stream",
     "text": [
      "Epoch 100: 100%|██████████| 20/20 [00:11<00:00,  1.74it/s, loss=62.9, acc=0.715, AUC=0.788, val_acc=0.682, val_AUC=0.758]\n"
     ]
    },
    {
     "name": "stdout",
     "output_type": "stream",
     "text": [
      "tensor([ 0.0941, -0.0495, -0.1995, -0.3148,  0.7787, -0.1360, -0.0312, -0.7650,\n",
      "         0.1870, -0.0802,  0.3998, -0.4885,  0.4085,  0.7215, -0.1381, -0.1062,\n",
      "        -0.2805], device='cuda:0', grad_fn=<DivBackward0>)\n",
      "test_acc: 0.7266355156898499\n",
      "test_auc: 0.7876842450049132\n",
      "-----------------------------------------\n"
     ]
    },
    {
     "name": "stderr",
     "output_type": "stream",
     "text": [
      "wandb: WARNING Source type is set to 'repo' but some required information is missing from the environment. A job will not be created from this run. See https://docs.wandb.ai/guides/launch/create-job\n"
     ]
    },
    {
     "name": "stdout",
     "output_type": "stream",
     "text": [
      "=================[ 3 Fold ]=================\n",
      "train_data: torch.Size([9987, 17])\n",
      "train_label: torch.Size([9987])\n",
      "validation_data: torch.Size([1109, 17])\n",
      "validation_label: torch.Size([1109])\n",
      "test_data: torch.Size([5548, 17])\n",
      "test_label: torch.Size([5548])\n",
      "-----------------------------------------\n"
     ]
    },
    {
     "name": "stderr",
     "output_type": "stream",
     "text": [
      "Epoch 1:  95%|█████████▌| 19/20 [00:08<00:00,  2.10it/s]/home/tsou/.conda/envs/pyg/lib/python3.10/site-packages/torcheval/metrics/functional/classification/auroc.py:175: UserWarning: cumsum_cuda_kernel does not have a deterministic implementation, but you set 'torch.use_deterministic_algorithms(True, warn_only=True)'. You can file an issue at https://github.com/pytorch/pytorch/issues to help us prioritize adding deterministic support for this operation. (Triggered internally at ../aten/src/ATen/Context.cpp:82.)\n",
      "  return _binary_auroc_compute_jit(input, target, weight)\n",
      "Epoch 1: 100%|██████████| 20/20 [00:09<00:00,  2.00it/s, loss=78.7, acc=0.603, AUC=0.631, val_acc=0.661, val_AUC=0.719]\n"
     ]
    },
    {
     "name": "stdout",
     "output_type": "stream",
     "text": [
      "tensor([-0.2690, -0.0651,  0.2433, -0.3557,  0.0460, -0.2205, -0.1655,  0.1659,\n",
      "         0.0282, -0.0319,  0.1491,  0.1937,  0.1795,  0.4178, -0.2938,  0.0665,\n",
      "        -0.0886], device='cuda:0', grad_fn=<DivBackward0>)\n"
     ]
    },
    {
     "name": "stderr",
     "output_type": "stream",
     "text": [
      "Epoch 2: 100%|██████████| 20/20 [00:09<00:00,  2.02it/s, loss=71, acc=0.661, AUC=0.711, val_acc=0.674, val_AUC=0.739]\n"
     ]
    },
    {
     "name": "stdout",
     "output_type": "stream",
     "text": [
      "tensor([-0.4117, -0.2253,  0.4333, -0.4247, -0.3169, -0.2809, -0.2024,  0.8361,\n",
      "        -0.0880, -0.0172, -0.0156,  0.4458,  0.1241,  0.4015, -0.4077,  0.1509,\n",
      "        -0.0012], device='cuda:0', grad_fn=<DivBackward0>)\n"
     ]
    },
    {
     "name": "stderr",
     "output_type": "stream",
     "text": [
      "Epoch 3: 100%|██████████| 20/20 [00:09<00:00,  2.02it/s, loss=69.3, acc=0.671, AUC=0.727, val_acc=0.664, val_AUC=0.734]\n"
     ]
    },
    {
     "name": "stdout",
     "output_type": "stream",
     "text": [
      "tensor([-0.3850, -0.3229,  0.3433, -0.4038, -0.2455, -0.2871, -0.1751,  0.8723,\n",
      "        -0.1038,  0.0161, -0.0480,  0.3748,  0.1420,  0.4838, -0.3821,  0.1052,\n",
      "         0.0158], device='cuda:0', grad_fn=<DivBackward0>)\n"
     ]
    },
    {
     "name": "stderr",
     "output_type": "stream",
     "text": [
      "Epoch 4: 100%|██████████| 20/20 [00:10<00:00,  1.94it/s, loss=68.2, acc=0.683, AUC=0.739, val_acc=0.687, val_AUC=0.75]\n"
     ]
    },
    {
     "name": "stdout",
     "output_type": "stream",
     "text": [
      "tensor([-0.3360, -0.3900,  0.2818, -0.3599, -0.1126, -0.2982, -0.2399,  0.9127,\n",
      "        -0.1329, -0.0131, -0.0500,  0.3672,  0.1406,  0.5782, -0.3973,  0.0720,\n",
      "        -0.0225], device='cuda:0', grad_fn=<DivBackward0>)\n"
     ]
    },
    {
     "name": "stderr",
     "output_type": "stream",
     "text": [
      "Epoch 5: 100%|██████████| 20/20 [00:10<00:00,  1.93it/s, loss=67.8, acc=0.687, AUC=0.743, val_acc=0.697, val_AUC=0.765]\n"
     ]
    },
    {
     "name": "stdout",
     "output_type": "stream",
     "text": [
      "tensor([-0.3042, -0.4075,  0.2366, -0.3329, -0.0270, -0.3178, -0.2476,  0.9562,\n",
      "        -0.1389, -0.0472, -0.0616,  0.3078,  0.1220,  0.5625, -0.3571,  0.0486,\n",
      "         0.0082], device='cuda:0', grad_fn=<DivBackward0>)\n"
     ]
    },
    {
     "name": "stderr",
     "output_type": "stream",
     "text": [
      "Epoch 6: 100%|██████████| 20/20 [00:10<00:00,  1.90it/s, loss=67.4, acc=0.687, AUC=0.747, val_acc=0.698, val_AUC=0.755]\n"
     ]
    },
    {
     "name": "stdout",
     "output_type": "stream",
     "text": [
      "tensor([-0.3028, -0.4428,  0.2107, -0.3725,  0.0411, -0.3203, -0.2704,  0.9807,\n",
      "        -0.1358, -0.0654, -0.0440,  0.2607,  0.1254,  0.5713, -0.3736,  0.0581,\n",
      "         0.0795], device='cuda:0', grad_fn=<DivBackward0>)\n"
     ]
    },
    {
     "name": "stderr",
     "output_type": "stream",
     "text": [
      "Epoch 7: 100%|██████████| 20/20 [00:10<00:00,  1.90it/s, loss=67.3, acc=0.691, AUC=0.747, val_acc=0.701, val_AUC=0.778]\n"
     ]
    },
    {
     "name": "stdout",
     "output_type": "stream",
     "text": [
      "tensor([-0.3019, -0.4389,  0.1526, -0.3574,  0.1097, -0.3043, -0.2734,  0.9597,\n",
      "        -0.1598, -0.0697, -0.0281,  0.2796,  0.1292,  0.5573, -0.4071,  0.0631,\n",
      "         0.0892], device='cuda:0', grad_fn=<DivBackward0>)\n"
     ]
    },
    {
     "name": "stderr",
     "output_type": "stream",
     "text": [
      "Epoch 8: 100%|██████████| 20/20 [00:10<00:00,  1.89it/s, loss=66.9, acc=0.693, AUC=0.752, val_acc=0.711, val_AUC=0.769]\n"
     ]
    },
    {
     "name": "stdout",
     "output_type": "stream",
     "text": [
      "tensor([-0.2922, -0.4343,  0.1423, -0.3540,  0.1898, -0.3072, -0.2848,  0.9175,\n",
      "        -0.1374, -0.0978, -0.0040,  0.2730,  0.1088,  0.5815, -0.4048,  0.0477,\n",
      "         0.0559], device='cuda:0', grad_fn=<DivBackward0>)\n"
     ]
    },
    {
     "name": "stderr",
     "output_type": "stream",
     "text": [
      "Epoch 9: 100%|██████████| 20/20 [00:10<00:00,  1.85it/s, loss=66.7, acc=0.692, AUC=0.754, val_acc=0.707, val_AUC=0.768]\n"
     ]
    },
    {
     "name": "stdout",
     "output_type": "stream",
     "text": [
      "tensor([-0.2947, -0.4908,  0.0948, -0.3433,  0.3567, -0.2924, -0.3082,  0.8885,\n",
      "        -0.1463, -0.0764,  0.0054,  0.2749,  0.1177,  0.5538, -0.4166,  0.0540,\n",
      "         0.0229], device='cuda:0', grad_fn=<DivBackward0>)\n"
     ]
    },
    {
     "name": "stderr",
     "output_type": "stream",
     "text": [
      "Epoch 10: 100%|██████████| 20/20 [00:10<00:00,  1.82it/s, loss=66.3, acc=0.69, AUC=0.757, val_acc=0.699, val_AUC=0.763]\n"
     ]
    },
    {
     "name": "stdout",
     "output_type": "stream",
     "text": [
      "tensor([-0.2909, -0.4769,  0.0493, -0.3376,  0.4460, -0.2739, -0.3176,  0.8057,\n",
      "        -0.1577, -0.0871, -0.0087,  0.3016,  0.1316,  0.5766, -0.3990,  0.0444,\n",
      "        -0.0058], device='cuda:0', grad_fn=<DivBackward0>)\n"
     ]
    },
    {
     "name": "stderr",
     "output_type": "stream",
     "text": [
      "Epoch 11: 100%|██████████| 20/20 [00:10<00:00,  1.83it/s, loss=66.4, acc=0.695, AUC=0.756, val_acc=0.704, val_AUC=0.774]\n"
     ]
    },
    {
     "name": "stdout",
     "output_type": "stream",
     "text": [
      "tensor([-0.2762, -0.4921,  0.0460, -0.3544,  0.4427, -0.2600, -0.3317,  0.7720,\n",
      "        -0.1554, -0.0898, -0.0143,  0.2802,  0.1260,  0.6334, -0.3600,  0.0473,\n",
      "        -0.0138], device='cuda:0', grad_fn=<DivBackward0>)\n"
     ]
    },
    {
     "name": "stderr",
     "output_type": "stream",
     "text": [
      "Epoch 12: 100%|██████████| 20/20 [00:11<00:00,  1.82it/s, loss=65.9, acc=0.696, AUC=0.761, val_acc=0.705, val_AUC=0.772]\n"
     ]
    },
    {
     "name": "stdout",
     "output_type": "stream",
     "text": [
      "tensor([-0.2435, -0.5201,  0.0133, -0.3372,  0.4459, -0.2511, -0.3180,  0.7772,\n",
      "        -0.1596, -0.1158, -0.0377,  0.2832,  0.1213,  0.6704, -0.3350,  0.0416,\n",
      "        -0.0347], device='cuda:0', grad_fn=<DivBackward0>)\n"
     ]
    },
    {
     "name": "stderr",
     "output_type": "stream",
     "text": [
      "Epoch 13: 100%|██████████| 20/20 [00:11<00:00,  1.81it/s, loss=65.8, acc=0.702, AUC=0.762, val_acc=0.702, val_AUC=0.771]\n"
     ]
    },
    {
     "name": "stdout",
     "output_type": "stream",
     "text": [
      "tensor([-0.2456, -0.5057, -0.0165, -0.3112,  0.4604, -0.2426, -0.3215,  0.7816,\n",
      "        -0.1625, -0.1225, -0.0229,  0.2900,  0.1340,  0.6530, -0.3599,  0.0472,\n",
      "        -0.0553], device='cuda:0', grad_fn=<DivBackward0>)\n"
     ]
    },
    {
     "name": "stderr",
     "output_type": "stream",
     "text": [
      "Epoch 14: 100%|██████████| 20/20 [00:11<00:00,  1.78it/s, loss=65.9, acc=0.699, AUC=0.761, val_acc=0.707, val_AUC=0.773]\n"
     ]
    },
    {
     "name": "stdout",
     "output_type": "stream",
     "text": [
      "tensor([-0.2452, -0.5304, -0.0390, -0.3127,  0.5295, -0.2314, -0.3326,  0.7504,\n",
      "        -0.1652, -0.1102, -0.0206,  0.2911,  0.1396,  0.6609, -0.3861,  0.0482,\n",
      "        -0.0463], device='cuda:0', grad_fn=<DivBackward0>)\n"
     ]
    },
    {
     "name": "stderr",
     "output_type": "stream",
     "text": [
      "Epoch 15: 100%|██████████| 20/20 [00:11<00:00,  1.78it/s, loss=65.7, acc=0.698, AUC=0.764, val_acc=0.721, val_AUC=0.774]\n"
     ]
    },
    {
     "name": "stdout",
     "output_type": "stream",
     "text": [
      "tensor([-0.2267, -0.5499, -0.0543, -0.3011,  0.5554, -0.2074, -0.3266,  0.7163,\n",
      "        -0.1773, -0.0815, -0.0286,  0.2974,  0.1638,  0.6309, -0.3951,  0.0387,\n",
      "        -0.0539], device='cuda:0', grad_fn=<DivBackward0>)\n"
     ]
    },
    {
     "name": "stderr",
     "output_type": "stream",
     "text": [
      "Epoch 16: 100%|██████████| 20/20 [00:11<00:00,  1.76it/s, loss=65.4, acc=0.697, AUC=0.765, val_acc=0.702, val_AUC=0.767]\n"
     ]
    },
    {
     "name": "stdout",
     "output_type": "stream",
     "text": [
      "tensor([-0.2147, -0.5270, -0.0734, -0.3104,  0.5515, -0.1985, -0.3398,  0.7337,\n",
      "        -0.1897, -0.0852, -0.0328,  0.3142,  0.1637,  0.6779, -0.4172,  0.0270,\n",
      "        -0.0792], device='cuda:0', grad_fn=<DivBackward0>)\n"
     ]
    },
    {
     "name": "stderr",
     "output_type": "stream",
     "text": [
      "Epoch 17: 100%|██████████| 20/20 [00:11<00:00,  1.77it/s, loss=65.6, acc=0.698, AUC=0.764, val_acc=0.717, val_AUC=0.777]\n"
     ]
    },
    {
     "name": "stdout",
     "output_type": "stream",
     "text": [
      "tensor([-0.1925, -0.5405, -0.0836, -0.3247,  0.5507, -0.1803, -0.3342,  0.7263,\n",
      "        -0.1852, -0.0764, -0.0162,  0.3148,  0.1716,  0.6549, -0.4223,  0.0235,\n",
      "        -0.0860], device='cuda:0', grad_fn=<DivBackward0>)\n"
     ]
    },
    {
     "name": "stderr",
     "output_type": "stream",
     "text": [
      "Epoch 18: 100%|██████████| 20/20 [00:11<00:00,  1.77it/s, loss=65.3, acc=0.699, AUC=0.767, val_acc=0.71, val_AUC=0.777]\n"
     ]
    },
    {
     "name": "stdout",
     "output_type": "stream",
     "text": [
      "tensor([-0.1889, -0.5572, -0.0902, -0.3336,  0.5347, -0.1663, -0.3363,  0.7132,\n",
      "        -0.1836, -0.0660,  0.0062,  0.3213,  0.1871,  0.6356, -0.4245,  0.0200,\n",
      "        -0.0715], device='cuda:0', grad_fn=<DivBackward0>)\n"
     ]
    },
    {
     "name": "stderr",
     "output_type": "stream",
     "text": [
      "Epoch 19: 100%|██████████| 20/20 [00:11<00:00,  1.77it/s, loss=65.1, acc=0.703, AUC=0.768, val_acc=0.71, val_AUC=0.776]\n"
     ]
    },
    {
     "name": "stdout",
     "output_type": "stream",
     "text": [
      "tensor([-0.1774, -0.5546, -0.0925, -0.3403,  0.5271, -0.1654, -0.3542,  0.7086,\n",
      "        -0.1807, -0.0711,  0.0089,  0.3279,  0.1881,  0.6564, -0.4373,  0.0382,\n",
      "        -0.0817], device='cuda:0', grad_fn=<DivBackward0>)\n"
     ]
    },
    {
     "name": "stderr",
     "output_type": "stream",
     "text": [
      "Epoch 20: 100%|██████████| 20/20 [00:11<00:00,  1.75it/s, loss=65, acc=0.699, AUC=0.769, val_acc=0.72, val_AUC=0.785]\n"
     ]
    },
    {
     "name": "stdout",
     "output_type": "stream",
     "text": [
      "tensor([-0.1361, -0.5512, -0.1050, -0.3397,  0.5794, -0.1622, -0.3667,  0.6983,\n",
      "        -0.1852, -0.0655,  0.0038,  0.3081,  0.1963,  0.6441, -0.4344,  0.0410,\n",
      "        -0.1249], device='cuda:0', grad_fn=<DivBackward0>)\n"
     ]
    },
    {
     "name": "stderr",
     "output_type": "stream",
     "text": [
      "Epoch 21: 100%|██████████| 20/20 [00:11<00:00,  1.75it/s, loss=64.8, acc=0.708, AUC=0.771, val_acc=0.708, val_AUC=0.775]\n"
     ]
    },
    {
     "name": "stdout",
     "output_type": "stream",
     "text": [
      "tensor([-0.0729, -0.5531, -0.1245, -0.3425,  0.5831, -0.1692, -0.3767,  0.6907,\n",
      "        -0.1951, -0.0684,  0.0007,  0.3088,  0.2000,  0.6403, -0.4289,  0.0421,\n",
      "        -0.1346], device='cuda:0', grad_fn=<DivBackward0>)\n"
     ]
    },
    {
     "name": "stderr",
     "output_type": "stream",
     "text": [
      "Epoch 22: 100%|██████████| 20/20 [00:11<00:00,  1.74it/s, loss=64.7, acc=0.703, AUC=0.772, val_acc=0.703, val_AUC=0.775]\n"
     ]
    },
    {
     "name": "stdout",
     "output_type": "stream",
     "text": [
      "tensor([-0.0493, -0.5415, -0.1381, -0.3399,  0.5756, -0.1859, -0.3849,  0.6515,\n",
      "        -0.1904, -0.0768,  0.0180,  0.2995,  0.2149,  0.6511, -0.4127,  0.0524,\n",
      "        -0.1436], device='cuda:0', grad_fn=<DivBackward0>)\n"
     ]
    },
    {
     "name": "stderr",
     "output_type": "stream",
     "text": [
      "Epoch 23: 100%|██████████| 20/20 [00:11<00:00,  1.75it/s, loss=64.7, acc=0.707, AUC=0.772, val_acc=0.703, val_AUC=0.778]\n"
     ]
    },
    {
     "name": "stdout",
     "output_type": "stream",
     "text": [
      "tensor([-0.0419, -0.5382, -0.1451, -0.3374,  0.5978, -0.1714, -0.3865,  0.6504,\n",
      "        -0.1893, -0.0576,  0.0046,  0.3103,  0.2358,  0.6163, -0.4326,  0.0433,\n",
      "        -0.1585], device='cuda:0', grad_fn=<DivBackward0>)\n"
     ]
    },
    {
     "name": "stderr",
     "output_type": "stream",
     "text": [
      "Epoch 24: 100%|██████████| 20/20 [00:11<00:00,  1.73it/s, loss=64.7, acc=0.703, AUC=0.772, val_acc=0.714, val_AUC=0.781]\n"
     ]
    },
    {
     "name": "stdout",
     "output_type": "stream",
     "text": [
      "tensor([-0.0217, -0.5386, -0.1664, -0.3415,  0.5942, -0.1777, -0.4086,  0.6754,\n",
      "        -0.1906, -0.0590,  0.0063,  0.3228,  0.2340,  0.6249, -0.4401,  0.0569,\n",
      "        -0.1703], device='cuda:0', grad_fn=<DivBackward0>)\n"
     ]
    },
    {
     "name": "stderr",
     "output_type": "stream",
     "text": [
      "Epoch 25: 100%|██████████| 20/20 [00:11<00:00,  1.72it/s, loss=64.6, acc=0.703, AUC=0.773, val_acc=0.711, val_AUC=0.783]\n"
     ]
    },
    {
     "name": "stdout",
     "output_type": "stream",
     "text": [
      "tensor([-0.0009, -0.5432, -0.1810, -0.3191,  0.5889, -0.1711, -0.4136,  0.6785,\n",
      "        -0.1861, -0.0574, -0.0027,  0.3183,  0.2390,  0.6074, -0.4488,  0.0643,\n",
      "        -0.1724], device='cuda:0', grad_fn=<DivBackward0>)\n"
     ]
    },
    {
     "name": "stderr",
     "output_type": "stream",
     "text": [
      "Epoch 26: 100%|██████████| 20/20 [00:11<00:00,  1.71it/s, loss=64.4, acc=0.706, AUC=0.775, val_acc=0.713, val_AUC=0.778]\n"
     ]
    },
    {
     "name": "stdout",
     "output_type": "stream",
     "text": [
      "tensor([ 0.0026, -0.5368, -0.1903, -0.3141,  0.5936, -0.1692, -0.4234,  0.6726,\n",
      "        -0.1902, -0.0633, -0.0177,  0.3111,  0.2481,  0.6172, -0.4480,  0.0801,\n",
      "        -0.1722], device='cuda:0', grad_fn=<DivBackward0>)\n"
     ]
    },
    {
     "name": "stderr",
     "output_type": "stream",
     "text": [
      "Epoch 27: 100%|██████████| 20/20 [00:11<00:00,  1.72it/s, loss=64.4, acc=0.707, AUC=0.775, val_acc=0.709, val_AUC=0.777]\n"
     ]
    },
    {
     "name": "stdout",
     "output_type": "stream",
     "text": [
      "tensor([-0.0066, -0.5385, -0.1903, -0.3194,  0.5840, -0.1735, -0.4301,  0.6745,\n",
      "        -0.1859, -0.0613, -0.0250,  0.3313,  0.2527,  0.6287, -0.4558,  0.0868,\n",
      "        -0.1717], device='cuda:0', grad_fn=<DivBackward0>)\n"
     ]
    },
    {
     "name": "stderr",
     "output_type": "stream",
     "text": [
      "Epoch 28: 100%|██████████| 20/20 [00:11<00:00,  1.72it/s, loss=64.1, acc=0.709, AUC=0.777, val_acc=0.715, val_AUC=0.777]\n"
     ]
    },
    {
     "name": "stdout",
     "output_type": "stream",
     "text": [
      "tensor([ 0.0122, -0.5393, -0.2028, -0.3008,  0.5841, -0.1804, -0.4214,  0.6676,\n",
      "        -0.1807, -0.0500, -0.0229,  0.3137,  0.2455,  0.6201, -0.4589,  0.0895,\n",
      "        -0.1754], device='cuda:0', grad_fn=<DivBackward0>)\n"
     ]
    },
    {
     "name": "stderr",
     "output_type": "stream",
     "text": [
      "Epoch 29: 100%|██████████| 20/20 [00:11<00:00,  1.71it/s, loss=64.1, acc=0.71, AUC=0.777, val_acc=0.722, val_AUC=0.786]\n"
     ]
    },
    {
     "name": "stdout",
     "output_type": "stream",
     "text": [
      "tensor([ 0.0500, -0.5392, -0.2110, -0.2947,  0.5897, -0.1892, -0.4336,  0.6546,\n",
      "        -0.1936, -0.0480, -0.0302,  0.3030,  0.2480,  0.6097, -0.4403,  0.0992,\n",
      "        -0.1744], device='cuda:0', grad_fn=<DivBackward0>)\n"
     ]
    },
    {
     "name": "stderr",
     "output_type": "stream",
     "text": [
      "Epoch 30: 100%|██████████| 20/20 [00:11<00:00,  1.72it/s, loss=63.8, acc=0.71, AUC=0.779, val_acc=0.722, val_AUC=0.785]\n"
     ]
    },
    {
     "name": "stdout",
     "output_type": "stream",
     "text": [
      "tensor([ 0.0611, -0.5406, -0.2196, -0.3145,  0.5813, -0.1774, -0.4331,  0.6452,\n",
      "        -0.1964, -0.0469, -0.0306,  0.2998,  0.2497,  0.6212, -0.4419,  0.1128,\n",
      "        -0.1701], device='cuda:0', grad_fn=<DivBackward0>)\n"
     ]
    },
    {
     "name": "stderr",
     "output_type": "stream",
     "text": [
      "Epoch 31: 100%|██████████| 20/20 [00:11<00:00,  1.72it/s, loss=63.9, acc=0.708, AUC=0.779, val_acc=0.709, val_AUC=0.783]\n"
     ]
    },
    {
     "name": "stdout",
     "output_type": "stream",
     "text": [
      "tensor([ 0.0789, -0.5339, -0.2229, -0.3208,  0.5814, -0.1705, -0.4337,  0.6309,\n",
      "        -0.1956, -0.0328, -0.0318,  0.2918,  0.2592,  0.5994, -0.4513,  0.1147,\n",
      "        -0.1629], device='cuda:0', grad_fn=<DivBackward0>)\n"
     ]
    },
    {
     "name": "stderr",
     "output_type": "stream",
     "text": [
      "Epoch 32: 100%|██████████| 20/20 [00:11<00:00,  1.73it/s, loss=63.9, acc=0.711, AUC=0.779, val_acc=0.724, val_AUC=0.783]\n"
     ]
    },
    {
     "name": "stdout",
     "output_type": "stream",
     "text": [
      "tensor([ 0.0742, -0.5237, -0.2219, -0.3141,  0.5653, -0.1813, -0.4376,  0.6413,\n",
      "        -0.1921, -0.0460, -0.0367,  0.2990,  0.2702,  0.5878, -0.4433,  0.1303,\n",
      "        -0.1714], device='cuda:0', grad_fn=<DivBackward0>)\n"
     ]
    },
    {
     "name": "stderr",
     "output_type": "stream",
     "text": [
      "Epoch 33: 100%|██████████| 20/20 [00:11<00:00,  1.72it/s, loss=63.8, acc=0.71, AUC=0.779, val_acc=0.724, val_AUC=0.787]\n"
     ]
    },
    {
     "name": "stdout",
     "output_type": "stream",
     "text": [
      "tensor([ 0.0836, -0.5210, -0.2279, -0.3218,  0.5516, -0.1744, -0.4381,  0.6386,\n",
      "        -0.1977, -0.0414, -0.0419,  0.3134,  0.2746,  0.5855, -0.4420,  0.1277,\n",
      "        -0.1687], device='cuda:0', grad_fn=<DivBackward0>)\n"
     ]
    },
    {
     "name": "stderr",
     "output_type": "stream",
     "text": [
      "Epoch 34: 100%|██████████| 20/20 [00:11<00:00,  1.73it/s, loss=63.6, acc=0.711, AUC=0.781, val_acc=0.705, val_AUC=0.775]\n"
     ]
    },
    {
     "name": "stdout",
     "output_type": "stream",
     "text": [
      "tensor([ 0.0806, -0.5209, -0.2514, -0.3241,  0.5584, -0.1722, -0.4409,  0.6244,\n",
      "        -0.2016, -0.0161, -0.0244,  0.3150,  0.2715,  0.5784, -0.4511,  0.1296,\n",
      "        -0.1552], device='cuda:0', grad_fn=<DivBackward0>)\n"
     ]
    },
    {
     "name": "stderr",
     "output_type": "stream",
     "text": [
      "Epoch 35: 100%|██████████| 20/20 [00:11<00:00,  1.73it/s, loss=63.5, acc=0.712, AUC=0.781, val_acc=0.71, val_AUC=0.781]\n"
     ]
    },
    {
     "name": "stdout",
     "output_type": "stream",
     "text": [
      "tensor([ 0.0696, -0.5155, -0.2461, -0.3188,  0.5622, -0.1746, -0.4499,  0.6113,\n",
      "        -0.2027, -0.0250, -0.0260,  0.3293,  0.2755,  0.5680, -0.4540,  0.1363,\n",
      "        -0.1396], device='cuda:0', grad_fn=<DivBackward0>)\n"
     ]
    },
    {
     "name": "stderr",
     "output_type": "stream",
     "text": [
      "Epoch 36: 100%|██████████| 20/20 [00:11<00:00,  1.72it/s, loss=63.5, acc=0.71, AUC=0.782, val_acc=0.715, val_AUC=0.779]\n"
     ]
    },
    {
     "name": "stdout",
     "output_type": "stream",
     "text": [
      "tensor([ 0.0845, -0.5178, -0.2546, -0.3299,  0.5636, -0.1817, -0.4540,  0.6089,\n",
      "        -0.2050, -0.0244, -0.0205,  0.3231,  0.2682,  0.5959, -0.4502,  0.1336,\n",
      "        -0.1395], device='cuda:0', grad_fn=<DivBackward0>)\n"
     ]
    },
    {
     "name": "stderr",
     "output_type": "stream",
     "text": [
      "Epoch 37: 100%|██████████| 20/20 [00:11<00:00,  1.71it/s, loss=63.5, acc=0.712, AUC=0.782, val_acc=0.708, val_AUC=0.781]\n"
     ]
    },
    {
     "name": "stdout",
     "output_type": "stream",
     "text": [
      "tensor([ 0.0898, -0.5208, -0.2635, -0.3388,  0.5615, -0.1811, -0.4545,  0.6373,\n",
      "        -0.2093, -0.0216, -0.0204,  0.3262,  0.2719,  0.5973, -0.4596,  0.1399,\n",
      "        -0.1541], device='cuda:0', grad_fn=<DivBackward0>)\n"
     ]
    },
    {
     "name": "stderr",
     "output_type": "stream",
     "text": [
      "Epoch 38: 100%|██████████| 20/20 [00:11<00:00,  1.72it/s, loss=63.3, acc=0.714, AUC=0.784, val_acc=0.721, val_AUC=0.785]\n"
     ]
    },
    {
     "name": "stdout",
     "output_type": "stream",
     "text": [
      "tensor([ 0.0787, -0.5193, -0.2648, -0.3380,  0.5619, -0.1636, -0.4527,  0.6382,\n",
      "        -0.2022, -0.0265, -0.0182,  0.3084,  0.2699,  0.5941, -0.4604,  0.1501,\n",
      "        -0.1555], device='cuda:0', grad_fn=<DivBackward0>)\n"
     ]
    },
    {
     "name": "stderr",
     "output_type": "stream",
     "text": [
      "Epoch 39: 100%|██████████| 20/20 [00:11<00:00,  1.72it/s, loss=63.1, acc=0.715, AUC=0.785, val_acc=0.724, val_AUC=0.784]\n"
     ]
    },
    {
     "name": "stdout",
     "output_type": "stream",
     "text": [
      "tensor([ 0.0838, -0.5127, -0.2726, -0.3362,  0.5527, -0.1500, -0.4540,  0.6442,\n",
      "        -0.2038, -0.0203, -0.0167,  0.2975,  0.2842,  0.5899, -0.4679,  0.1473,\n",
      "        -0.1653], device='cuda:0', grad_fn=<DivBackward0>)\n"
     ]
    },
    {
     "name": "stderr",
     "output_type": "stream",
     "text": [
      "Epoch 40: 100%|██████████| 20/20 [00:11<00:00,  1.71it/s, loss=63, acc=0.713, AUC=0.786, val_acc=0.711, val_AUC=0.777]\n"
     ]
    },
    {
     "name": "stdout",
     "output_type": "stream",
     "text": [
      "tensor([ 0.0982, -0.5176, -0.2863, -0.3405,  0.5559, -0.1503, -0.4544,  0.6359,\n",
      "        -0.2085, -0.0170, -0.0243,  0.2992,  0.2845,  0.5891, -0.4639,  0.1637,\n",
      "        -0.1637], device='cuda:0', grad_fn=<DivBackward0>)\n"
     ]
    },
    {
     "name": "stderr",
     "output_type": "stream",
     "text": [
      "Epoch 41: 100%|██████████| 20/20 [00:11<00:00,  1.71it/s, loss=63, acc=0.715, AUC=0.787, val_acc=0.717, val_AUC=0.785]\n"
     ]
    },
    {
     "name": "stdout",
     "output_type": "stream",
     "text": [
      "tensor([ 0.1066, -0.5068, -0.2827, -0.3451,  0.5516, -0.1487, -0.4711,  0.6359,\n",
      "        -0.2201, -0.0142, -0.0294,  0.2922,  0.2956,  0.5896, -0.4541,  0.1621,\n",
      "        -0.1614], device='cuda:0', grad_fn=<DivBackward0>)\n"
     ]
    },
    {
     "name": "stderr",
     "output_type": "stream",
     "text": [
      "Epoch 42: 100%|██████████| 20/20 [00:11<00:00,  1.72it/s, loss=62.9, acc=0.716, AUC=0.787, val_acc=0.717, val_AUC=0.79]\n"
     ]
    },
    {
     "name": "stdout",
     "output_type": "stream",
     "text": [
      "tensor([ 0.1039, -0.5067, -0.2925, -0.3585,  0.5466, -0.1546, -0.4781,  0.6352,\n",
      "        -0.2209, -0.0047, -0.0200,  0.2904,  0.2982,  0.5986, -0.4561,  0.1702,\n",
      "        -0.1511], device='cuda:0', grad_fn=<DivBackward0>)\n"
     ]
    },
    {
     "name": "stderr",
     "output_type": "stream",
     "text": [
      "Epoch 43: 100%|██████████| 20/20 [00:11<00:00,  1.71it/s, loss=62.8, acc=0.715, AUC=0.789, val_acc=0.71, val_AUC=0.785]\n"
     ]
    },
    {
     "name": "stdout",
     "output_type": "stream",
     "text": [
      "tensor([ 0.1131, -0.5019, -0.2893, -0.3585,  0.5513, -0.1840, -0.4772,  0.6373,\n",
      "        -0.2250,  0.0111, -0.0232,  0.2935,  0.2949,  0.5987, -0.4534,  0.1646,\n",
      "        -0.1519], device='cuda:0', grad_fn=<DivBackward0>)\n"
     ]
    },
    {
     "name": "stderr",
     "output_type": "stream",
     "text": [
      "Epoch 44: 100%|██████████| 20/20 [00:11<00:00,  1.71it/s, loss=62.9, acc=0.715, AUC=0.787, val_acc=0.7, val_AUC=0.779]\n"
     ]
    },
    {
     "name": "stdout",
     "output_type": "stream",
     "text": [
      "tensor([ 0.1263, -0.5040, -0.3078, -0.3542,  0.5434, -0.1921, -0.4815,  0.6408,\n",
      "        -0.2257,  0.0128, -0.0073,  0.2990,  0.2971,  0.5758, -0.4542,  0.1780,\n",
      "        -0.1464], device='cuda:0', grad_fn=<DivBackward0>)\n"
     ]
    },
    {
     "name": "stderr",
     "output_type": "stream",
     "text": [
      "Epoch 45: 100%|██████████| 20/20 [00:11<00:00,  1.71it/s, loss=62.6, acc=0.719, AUC=0.79, val_acc=0.72, val_AUC=0.786]\n"
     ]
    },
    {
     "name": "stdout",
     "output_type": "stream",
     "text": [
      "tensor([ 0.1158, -0.4994, -0.3076, -0.3521,  0.5373, -0.2013, -0.4803,  0.6434,\n",
      "        -0.2238,  0.0062, -0.0088,  0.3065,  0.2996,  0.5806, -0.4519,  0.1786,\n",
      "        -0.1428], device='cuda:0', grad_fn=<DivBackward0>)\n"
     ]
    },
    {
     "name": "stderr",
     "output_type": "stream",
     "text": [
      "Epoch 46: 100%|██████████| 20/20 [00:11<00:00,  1.71it/s, loss=62.8, acc=0.717, AUC=0.788, val_acc=0.704, val_AUC=0.782]\n"
     ]
    },
    {
     "name": "stdout",
     "output_type": "stream",
     "text": [
      "tensor([ 0.1345, -0.4952, -0.3160, -0.3547,  0.5325, -0.2047, -0.4856,  0.6400,\n",
      "        -0.2282,  0.0200, -0.0157,  0.3055,  0.3085,  0.5963, -0.4654,  0.1786,\n",
      "        -0.1503], device='cuda:0', grad_fn=<DivBackward0>)\n"
     ]
    },
    {
     "name": "stderr",
     "output_type": "stream",
     "text": [
      "Epoch 47: 100%|██████████| 20/20 [00:11<00:00,  1.71it/s, loss=62.4, acc=0.716, AUC=0.791, val_acc=0.71, val_AUC=0.781]\n"
     ]
    },
    {
     "name": "stdout",
     "output_type": "stream",
     "text": [
      "tensor([ 0.1558, -0.4968, -0.3186, -0.3528,  0.5273, -0.2159, -0.4907,  0.6379,\n",
      "        -0.2335,  0.0329, -0.0071,  0.2990,  0.3146,  0.5816, -0.4691,  0.1859,\n",
      "        -0.1504], device='cuda:0', grad_fn=<DivBackward0>)\n"
     ]
    },
    {
     "name": "stderr",
     "output_type": "stream",
     "text": [
      "Epoch 48: 100%|██████████| 20/20 [00:11<00:00,  1.72it/s, loss=62.4, acc=0.715, AUC=0.791, val_acc=0.716, val_AUC=0.783]\n"
     ]
    },
    {
     "name": "stdout",
     "output_type": "stream",
     "text": [
      "tensor([ 0.1631, -0.4935, -0.3260, -0.3501,  0.5312, -0.2242, -0.4827,  0.6266,\n",
      "        -0.2295,  0.0531, -0.0044,  0.2868,  0.3099,  0.5692, -0.4657,  0.1909,\n",
      "        -0.1547], device='cuda:0', grad_fn=<DivBackward0>)\n"
     ]
    },
    {
     "name": "stderr",
     "output_type": "stream",
     "text": [
      "Epoch 49: 100%|██████████| 20/20 [00:11<00:00,  1.71it/s, loss=62.5, acc=0.72, AUC=0.791, val_acc=0.706, val_AUC=0.784]\n"
     ]
    },
    {
     "name": "stdout",
     "output_type": "stream",
     "text": [
      "tensor([ 0.1819, -0.4961, -0.3298, -0.3641,  0.5246, -0.2288, -0.4872,  0.6284,\n",
      "        -0.2320,  0.0578,  0.0082,  0.2844,  0.3072,  0.5821, -0.4615,  0.1867,\n",
      "        -0.1616], device='cuda:0', grad_fn=<DivBackward0>)\n"
     ]
    },
    {
     "name": "stderr",
     "output_type": "stream",
     "text": [
      "Epoch 50: 100%|██████████| 20/20 [00:11<00:00,  1.71it/s, loss=62.4, acc=0.722, AUC=0.792, val_acc=0.709, val_AUC=0.783]\n"
     ]
    },
    {
     "name": "stdout",
     "output_type": "stream",
     "text": [
      "tensor([ 0.1899, -0.4947, -0.3301, -0.3718,  0.5210, -0.2381, -0.4910,  0.6357,\n",
      "        -0.2383,  0.0495,  0.0191,  0.2802,  0.3112,  0.5950, -0.4708,  0.1988,\n",
      "        -0.1654], device='cuda:0', grad_fn=<DivBackward0>)\n"
     ]
    },
    {
     "name": "stderr",
     "output_type": "stream",
     "text": [
      "Epoch 51: 100%|██████████| 20/20 [00:11<00:00,  1.71it/s, loss=62.3, acc=0.717, AUC=0.792, val_acc=0.708, val_AUC=0.778]\n"
     ]
    },
    {
     "name": "stdout",
     "output_type": "stream",
     "text": [
      "tensor([ 0.1936, -0.4958, -0.3442, -0.3740,  0.5227, -0.2339, -0.4884,  0.6214,\n",
      "        -0.2391,  0.0479,  0.0264,  0.2837,  0.3039,  0.6018, -0.4611,  0.2042,\n",
      "        -0.1690], device='cuda:0', grad_fn=<DivBackward0>)\n"
     ]
    },
    {
     "name": "stderr",
     "output_type": "stream",
     "text": [
      "Epoch 52: 100%|██████████| 20/20 [00:11<00:00,  1.70it/s, loss=62.1, acc=0.723, AUC=0.793, val_acc=0.721, val_AUC=0.79]\n"
     ]
    },
    {
     "name": "stdout",
     "output_type": "stream",
     "text": [
      "tensor([ 0.2195, -0.4983, -0.3421, -0.3746,  0.5282, -0.2397, -0.4988,  0.6165,\n",
      "        -0.2475,  0.0434,  0.0315,  0.2791,  0.3089,  0.5967, -0.4667,  0.2129,\n",
      "        -0.1692], device='cuda:0', grad_fn=<DivBackward0>)\n"
     ]
    },
    {
     "name": "stderr",
     "output_type": "stream",
     "text": [
      "Epoch 53: 100%|██████████| 20/20 [00:11<00:00,  1.70it/s, loss=62.2, acc=0.722, AUC=0.793, val_acc=0.71, val_AUC=0.785]\n"
     ]
    },
    {
     "name": "stdout",
     "output_type": "stream",
     "text": [
      "tensor([ 0.2509, -0.5078, -0.3452, -0.3745,  0.5252, -0.2389, -0.4976,  0.6239,\n",
      "        -0.2455,  0.0588,  0.0351,  0.2865,  0.3096,  0.5699, -0.4739,  0.1994,\n",
      "        -0.1761], device='cuda:0', grad_fn=<DivBackward0>)\n"
     ]
    },
    {
     "name": "stderr",
     "output_type": "stream",
     "text": [
      "Epoch 54: 100%|██████████| 20/20 [00:11<00:00,  1.71it/s, loss=62, acc=0.719, AUC=0.794, val_acc=0.715, val_AUC=0.782]\n"
     ]
    },
    {
     "name": "stdout",
     "output_type": "stream",
     "text": [
      "tensor([ 0.2641, -0.5063, -0.3504, -0.3736,  0.5150, -0.2409, -0.4947,  0.6243,\n",
      "        -0.2524,  0.0660,  0.0334,  0.2763,  0.3088,  0.5650, -0.4819,  0.2129,\n",
      "        -0.1656], device='cuda:0', grad_fn=<DivBackward0>)\n"
     ]
    },
    {
     "name": "stderr",
     "output_type": "stream",
     "text": [
      "Epoch 55: 100%|██████████| 20/20 [00:11<00:00,  1.71it/s, loss=61.9, acc=0.724, AUC=0.796, val_acc=0.72, val_AUC=0.787]\n"
     ]
    },
    {
     "name": "stdout",
     "output_type": "stream",
     "text": [
      "tensor([ 0.2697, -0.5017, -0.3523, -0.3714,  0.5034, -0.2447, -0.5003,  0.6296,\n",
      "        -0.2507,  0.0699,  0.0370,  0.2619,  0.3084,  0.5539, -0.4799,  0.2301,\n",
      "        -0.1628], device='cuda:0', grad_fn=<DivBackward0>)\n"
     ]
    },
    {
     "name": "stderr",
     "output_type": "stream",
     "text": [
      "Epoch 56: 100%|██████████| 20/20 [00:11<00:00,  1.71it/s, loss=61.8, acc=0.724, AUC=0.796, val_acc=0.698, val_AUC=0.778]\n"
     ]
    },
    {
     "name": "stdout",
     "output_type": "stream",
     "text": [
      "tensor([ 0.2819, -0.4991, -0.3583, -0.3706,  0.5007, -0.2496, -0.4959,  0.6193,\n",
      "        -0.2496,  0.0710,  0.0317,  0.2676,  0.3125,  0.5535, -0.4733,  0.2226,\n",
      "        -0.1644], device='cuda:0', grad_fn=<DivBackward0>)\n"
     ]
    },
    {
     "name": "stderr",
     "output_type": "stream",
     "text": [
      "Epoch 57: 100%|██████████| 20/20 [00:11<00:00,  1.72it/s, loss=61.5, acc=0.725, AUC=0.798, val_acc=0.72, val_AUC=0.792]\n"
     ]
    },
    {
     "name": "stdout",
     "output_type": "stream",
     "text": [
      "tensor([ 0.3068, -0.4990, -0.3515, -0.3714,  0.5040, -0.2476, -0.5029,  0.6045,\n",
      "        -0.2505,  0.0696,  0.0515,  0.2546,  0.3109,  0.5195, -0.4640,  0.2268,\n",
      "        -0.1613], device='cuda:0', grad_fn=<DivBackward0>)\n"
     ]
    },
    {
     "name": "stderr",
     "output_type": "stream",
     "text": [
      "Epoch 58: 100%|██████████| 20/20 [00:11<00:00,  1.72it/s, loss=61.6, acc=0.725, AUC=0.798, val_acc=0.721, val_AUC=0.788]\n"
     ]
    },
    {
     "name": "stdout",
     "output_type": "stream",
     "text": [
      "tensor([ 0.3153, -0.4921, -0.3624, -0.3862,  0.5044, -0.2589, -0.4982,  0.6016,\n",
      "        -0.2494,  0.0797,  0.0530,  0.2493,  0.3174,  0.5278, -0.4682,  0.2355,\n",
      "        -0.1685], device='cuda:0', grad_fn=<DivBackward0>)\n"
     ]
    },
    {
     "name": "stderr",
     "output_type": "stream",
     "text": [
      "Epoch 59: 100%|██████████| 20/20 [00:11<00:00,  1.71it/s, loss=61.4, acc=0.724, AUC=0.799, val_acc=0.707, val_AUC=0.776]\n"
     ]
    },
    {
     "name": "stdout",
     "output_type": "stream",
     "text": [
      "tensor([ 0.2904, -0.4871, -0.3694, -0.3832,  0.5021, -0.2547, -0.4925,  0.5975,\n",
      "        -0.2502,  0.0765,  0.0719,  0.2528,  0.3133,  0.5267, -0.4705,  0.2472,\n",
      "        -0.1708], device='cuda:0', grad_fn=<DivBackward0>)\n"
     ]
    },
    {
     "name": "stderr",
     "output_type": "stream",
     "text": [
      "Epoch 60: 100%|██████████| 20/20 [00:11<00:00,  1.73it/s, loss=61.3, acc=0.725, AUC=0.8, val_acc=0.702, val_AUC=0.779]\n"
     ]
    },
    {
     "name": "stdout",
     "output_type": "stream",
     "text": [
      "tensor([ 0.3039, -0.4753, -0.3726, -0.3879,  0.4969, -0.2549, -0.4993,  0.5879,\n",
      "        -0.2474,  0.0880,  0.0876,  0.2420,  0.3166,  0.5158, -0.4717,  0.2436,\n",
      "        -0.1730], device='cuda:0', grad_fn=<DivBackward0>)\n"
     ]
    },
    {
     "name": "stderr",
     "output_type": "stream",
     "text": [
      "Epoch 61: 100%|██████████| 20/20 [00:11<00:00,  1.73it/s, loss=61.4, acc=0.727, AUC=0.8, val_acc=0.709, val_AUC=0.782]\n"
     ]
    },
    {
     "name": "stdout",
     "output_type": "stream",
     "text": [
      "tensor([ 0.2993, -0.4779, -0.3753, -0.3818,  0.4958, -0.2656, -0.4956,  0.5893,\n",
      "        -0.2502,  0.0936,  0.1043,  0.2359,  0.3175,  0.5133, -0.4709,  0.2474,\n",
      "        -0.1789], device='cuda:0', grad_fn=<DivBackward0>)\n"
     ]
    },
    {
     "name": "stderr",
     "output_type": "stream",
     "text": [
      "Epoch 62: 100%|██████████| 20/20 [00:11<00:00,  1.72it/s, loss=61.3, acc=0.727, AUC=0.8, val_acc=0.704, val_AUC=0.782]\n"
     ]
    },
    {
     "name": "stdout",
     "output_type": "stream",
     "text": [
      "tensor([ 0.3289, -0.4790, -0.3752, -0.3895,  0.5003, -0.2683, -0.4944,  0.5880,\n",
      "        -0.2536,  0.0983,  0.1068,  0.2263,  0.3145,  0.5043, -0.4784,  0.2588,\n",
      "        -0.1878], device='cuda:0', grad_fn=<DivBackward0>)\n"
     ]
    },
    {
     "name": "stderr",
     "output_type": "stream",
     "text": [
      "Epoch 63: 100%|██████████| 20/20 [00:11<00:00,  1.72it/s, loss=61.1, acc=0.726, AUC=0.802, val_acc=0.71, val_AUC=0.783]\n"
     ]
    },
    {
     "name": "stdout",
     "output_type": "stream",
     "text": [
      "tensor([ 0.3262, -0.4823, -0.3857, -0.3925,  0.5042, -0.2681, -0.5035,  0.5766,\n",
      "        -0.2528,  0.0998,  0.1254,  0.2271,  0.3153,  0.5015, -0.4794,  0.2603,\n",
      "        -0.1721], device='cuda:0', grad_fn=<DivBackward0>)\n"
     ]
    },
    {
     "name": "stderr",
     "output_type": "stream",
     "text": [
      "Epoch 64: 100%|██████████| 20/20 [00:11<00:00,  1.73it/s, loss=61.2, acc=0.726, AUC=0.801, val_acc=0.72, val_AUC=0.784]\n"
     ]
    },
    {
     "name": "stdout",
     "output_type": "stream",
     "text": [
      "tensor([ 0.3289, -0.4770, -0.3929, -0.3960,  0.4959, -0.2721, -0.5009,  0.5762,\n",
      "        -0.2526,  0.1061,  0.1412,  0.2126,  0.3139,  0.4932, -0.4751,  0.2655,\n",
      "        -0.1669], device='cuda:0', grad_fn=<DivBackward0>)\n"
     ]
    },
    {
     "name": "stderr",
     "output_type": "stream",
     "text": [
      "Epoch 65: 100%|██████████| 20/20 [00:11<00:00,  1.72it/s, loss=60.8, acc=0.731, AUC=0.804, val_acc=0.72, val_AUC=0.79]\n"
     ]
    },
    {
     "name": "stdout",
     "output_type": "stream",
     "text": [
      "tensor([ 0.3489, -0.4703, -0.3916, -0.4015,  0.4928, -0.2724, -0.5066,  0.5777,\n",
      "        -0.2586,  0.1148,  0.1466,  0.1890,  0.3134,  0.4976, -0.4872,  0.2713,\n",
      "        -0.1637], device='cuda:0', grad_fn=<DivBackward0>)\n"
     ]
    },
    {
     "name": "stderr",
     "output_type": "stream",
     "text": [
      "Epoch 66: 100%|██████████| 20/20 [00:11<00:00,  1.73it/s, loss=60.7, acc=0.731, AUC=0.805, val_acc=0.716, val_AUC=0.786]\n"
     ]
    },
    {
     "name": "stdout",
     "output_type": "stream",
     "text": [
      "tensor([ 0.3562, -0.4771, -0.3950, -0.4018,  0.4900, -0.2681, -0.5014,  0.5731,\n",
      "        -0.2603,  0.1307,  0.1554,  0.1876,  0.3115,  0.4856, -0.4849,  0.2679,\n",
      "        -0.1696], device='cuda:0', grad_fn=<DivBackward0>)\n"
     ]
    },
    {
     "name": "stderr",
     "output_type": "stream",
     "text": [
      "Epoch 67: 100%|██████████| 20/20 [00:11<00:00,  1.73it/s, loss=60.5, acc=0.73, AUC=0.807, val_acc=0.711, val_AUC=0.783]\n"
     ]
    },
    {
     "name": "stdout",
     "output_type": "stream",
     "text": [
      "tensor([ 0.3735, -0.4733, -0.3999, -0.4090,  0.4798, -0.2675, -0.5114,  0.5802,\n",
      "        -0.2501,  0.1286,  0.1571,  0.2014,  0.3038,  0.4841, -0.4949,  0.2786,\n",
      "        -0.1811], device='cuda:0', grad_fn=<DivBackward0>)\n"
     ]
    },
    {
     "name": "stderr",
     "output_type": "stream",
     "text": [
      "Epoch 68: 100%|██████████| 20/20 [00:11<00:00,  1.73it/s, loss=60.6, acc=0.73, AUC=0.806, val_acc=0.702, val_AUC=0.778]\n"
     ]
    },
    {
     "name": "stdout",
     "output_type": "stream",
     "text": [
      "tensor([ 0.3716, -0.4781, -0.4034, -0.3984,  0.4738, -0.2746, -0.5120,  0.5768,\n",
      "        -0.2560,  0.1425,  0.1612,  0.2090,  0.3054,  0.4752, -0.4927,  0.2833,\n",
      "        -0.1837], device='cuda:0', grad_fn=<DivBackward0>)\n"
     ]
    },
    {
     "name": "stderr",
     "output_type": "stream",
     "text": [
      "Epoch 69: 100%|██████████| 20/20 [00:11<00:00,  1.74it/s, loss=60.4, acc=0.733, AUC=0.808, val_acc=0.711, val_AUC=0.781]\n"
     ]
    },
    {
     "name": "stdout",
     "output_type": "stream",
     "text": [
      "tensor([ 0.3808, -0.4758, -0.4069, -0.4047,  0.4691, -0.2770, -0.5110,  0.5614,\n",
      "        -0.2670,  0.1561,  0.1771,  0.2042,  0.3020,  0.4685, -0.4850,  0.2884,\n",
      "        -0.1802], device='cuda:0', grad_fn=<DivBackward0>)\n"
     ]
    },
    {
     "name": "stderr",
     "output_type": "stream",
     "text": [
      "Epoch 70: 100%|██████████| 20/20 [00:11<00:00,  1.74it/s, loss=60.3, acc=0.732, AUC=0.808, val_acc=0.718, val_AUC=0.789]\n"
     ]
    },
    {
     "name": "stdout",
     "output_type": "stream",
     "text": [
      "tensor([ 0.3778, -0.4826, -0.4109, -0.4119,  0.4652, -0.2757, -0.5096,  0.5584,\n",
      "        -0.2681,  0.1719,  0.1996,  0.1895,  0.3003,  0.4714, -0.4859,  0.2930,\n",
      "        -0.1825], device='cuda:0', grad_fn=<DivBackward0>)\n"
     ]
    },
    {
     "name": "stderr",
     "output_type": "stream",
     "text": [
      "Epoch 71: 100%|██████████| 20/20 [00:11<00:00,  1.75it/s, loss=60.1, acc=0.733, AUC=0.81, val_acc=0.719, val_AUC=0.785]\n"
     ]
    },
    {
     "name": "stdout",
     "output_type": "stream",
     "text": [
      "tensor([ 0.3928, -0.4793, -0.4238, -0.4056,  0.4702, -0.2842, -0.5159,  0.5548,\n",
      "        -0.2765,  0.1742,  0.2095,  0.1897,  0.2975,  0.4743, -0.4741,  0.2803,\n",
      "        -0.1839], device='cuda:0', grad_fn=<DivBackward0>)\n"
     ]
    },
    {
     "name": "stderr",
     "output_type": "stream",
     "text": [
      "Epoch 72: 100%|██████████| 20/20 [00:11<00:00,  1.74it/s, loss=60, acc=0.737, AUC=0.81, val_acc=0.707, val_AUC=0.786]\n"
     ]
    },
    {
     "name": "stdout",
     "output_type": "stream",
     "text": [
      "tensor([ 0.3973, -0.4816, -0.4213, -0.4147,  0.4801, -0.2812, -0.5225,  0.5447,\n",
      "        -0.2752,  0.1933,  0.2035,  0.1821,  0.2993,  0.4666, -0.4746,  0.2921,\n",
      "        -0.1878], device='cuda:0', grad_fn=<DivBackward0>)\n"
     ]
    },
    {
     "name": "stderr",
     "output_type": "stream",
     "text": [
      "Epoch 73: 100%|██████████| 20/20 [00:11<00:00,  1.75it/s, loss=60, acc=0.735, AUC=0.81, val_acc=0.714, val_AUC=0.782]\n"
     ]
    },
    {
     "name": "stdout",
     "output_type": "stream",
     "text": [
      "tensor([ 0.3840, -0.4786, -0.4213, -0.4114,  0.4815, -0.2777, -0.5240,  0.5454,\n",
      "        -0.2657,  0.1868,  0.2025,  0.1697,  0.2965,  0.4728, -0.4820,  0.3003,\n",
      "        -0.1788], device='cuda:0', grad_fn=<DivBackward0>)\n"
     ]
    },
    {
     "name": "stderr",
     "output_type": "stream",
     "text": [
      "Epoch 74: 100%|██████████| 20/20 [00:11<00:00,  1.73it/s, loss=59.9, acc=0.735, AUC=0.811, val_acc=0.713, val_AUC=0.784]\n"
     ]
    },
    {
     "name": "stdout",
     "output_type": "stream",
     "text": [
      "tensor([ 0.4073, -0.4808, -0.4288, -0.4161,  0.4868, -0.2826, -0.5215,  0.5388,\n",
      "        -0.2658,  0.2018,  0.2023,  0.1663,  0.2932,  0.4719, -0.4864,  0.2976,\n",
      "        -0.1840], device='cuda:0', grad_fn=<DivBackward0>)\n"
     ]
    },
    {
     "name": "stderr",
     "output_type": "stream",
     "text": [
      "Epoch 75: 100%|██████████| 20/20 [00:11<00:00,  1.75it/s, loss=59.7, acc=0.738, AUC=0.812, val_acc=0.713, val_AUC=0.777]\n"
     ]
    },
    {
     "name": "stdout",
     "output_type": "stream",
     "text": [
      "tensor([ 0.3911, -0.4867, -0.4311, -0.4147,  0.4777, -0.2930, -0.5230,  0.5462,\n",
      "        -0.2666,  0.2202,  0.2061,  0.1787,  0.2918,  0.4681, -0.4907,  0.3126,\n",
      "        -0.1868], device='cuda:0', grad_fn=<DivBackward0>)\n"
     ]
    },
    {
     "name": "stderr",
     "output_type": "stream",
     "text": [
      "Epoch 76: 100%|██████████| 20/20 [00:11<00:00,  1.75it/s, loss=59.9, acc=0.735, AUC=0.81, val_acc=0.709, val_AUC=0.784]\n"
     ]
    },
    {
     "name": "stdout",
     "output_type": "stream",
     "text": [
      "tensor([ 0.3903, -0.4837, -0.4338, -0.4102,  0.4774, -0.2893, -0.5270,  0.5420,\n",
      "        -0.2657,  0.2319,  0.2163,  0.1872,  0.2911,  0.4512, -0.4922,  0.3087,\n",
      "        -0.1943], device='cuda:0', grad_fn=<DivBackward0>)\n"
     ]
    },
    {
     "name": "stderr",
     "output_type": "stream",
     "text": [
      "Epoch 77: 100%|██████████| 20/20 [00:11<00:00,  1.74it/s, loss=59.1, acc=0.744, AUC=0.817, val_acc=0.72, val_AUC=0.785]\n"
     ]
    },
    {
     "name": "stdout",
     "output_type": "stream",
     "text": [
      "tensor([ 0.4076, -0.4820, -0.4350, -0.4168,  0.4757, -0.2996, -0.5207,  0.5296,\n",
      "        -0.2673,  0.2326,  0.2172,  0.1926,  0.2939,  0.4494, -0.4934,  0.3129,\n",
      "        -0.1967], device='cuda:0', grad_fn=<DivBackward0>)\n"
     ]
    },
    {
     "name": "stderr",
     "output_type": "stream",
     "text": [
      "Epoch 78: 100%|██████████| 20/20 [00:11<00:00,  1.75it/s, loss=59.2, acc=0.74, AUC=0.816, val_acc=0.719, val_AUC=0.786]\n"
     ]
    },
    {
     "name": "stdout",
     "output_type": "stream",
     "text": [
      "tensor([ 0.4082, -0.4784, -0.4396, -0.4183,  0.4783, -0.3010, -0.5229,  0.5446,\n",
      "        -0.2725,  0.2208,  0.2319,  0.1844,  0.2888,  0.4587, -0.4925,  0.3156,\n",
      "        -0.2063], device='cuda:0', grad_fn=<DivBackward0>)\n"
     ]
    },
    {
     "name": "stderr",
     "output_type": "stream",
     "text": [
      "Epoch 79: 100%|██████████| 20/20 [00:11<00:00,  1.75it/s, loss=59.3, acc=0.741, AUC=0.816, val_acc=0.708, val_AUC=0.78]\n"
     ]
    },
    {
     "name": "stdout",
     "output_type": "stream",
     "text": [
      "tensor([ 0.4071, -0.4788, -0.4382, -0.4128,  0.4822, -0.2957, -0.5175,  0.5451,\n",
      "        -0.2740,  0.2357,  0.2422,  0.1745,  0.2855,  0.4304, -0.4989,  0.3157,\n",
      "        -0.2022], device='cuda:0', grad_fn=<DivBackward0>)\n"
     ]
    },
    {
     "name": "stderr",
     "output_type": "stream",
     "text": [
      "Epoch 80: 100%|██████████| 20/20 [00:11<00:00,  1.75it/s, loss=58.9, acc=0.739, AUC=0.818, val_acc=0.705, val_AUC=0.773]\n"
     ]
    },
    {
     "name": "stdout",
     "output_type": "stream",
     "text": [
      "tensor([ 0.4255, -0.4793, -0.4402, -0.4163,  0.4837, -0.3059, -0.5250,  0.5342,\n",
      "        -0.2824,  0.2368,  0.2503,  0.1786,  0.2867,  0.4321, -0.4991,  0.3227,\n",
      "        -0.2025], device='cuda:0', grad_fn=<DivBackward0>)\n"
     ]
    },
    {
     "name": "stderr",
     "output_type": "stream",
     "text": [
      "Epoch 81: 100%|██████████| 20/20 [00:11<00:00,  1.74it/s, loss=59.2, acc=0.739, AUC=0.815, val_acc=0.704, val_AUC=0.784]\n"
     ]
    },
    {
     "name": "stdout",
     "output_type": "stream",
     "text": [
      "tensor([ 0.4435, -0.4722, -0.4503, -0.4140,  0.4747, -0.3084, -0.5259,  0.5367,\n",
      "        -0.2768,  0.2286,  0.2433,  0.1686,  0.2880,  0.4316, -0.4869,  0.3232,\n",
      "        -0.2037], device='cuda:0', grad_fn=<DivBackward0>)\n"
     ]
    },
    {
     "name": "stderr",
     "output_type": "stream",
     "text": [
      "Epoch 82: 100%|██████████| 20/20 [00:11<00:00,  1.75it/s, loss=59, acc=0.74, AUC=0.818, val_acc=0.715, val_AUC=0.779]\n"
     ]
    },
    {
     "name": "stdout",
     "output_type": "stream",
     "text": [
      "tensor([ 0.4333, -0.4732, -0.4483, -0.4108,  0.4757, -0.3089, -0.5205,  0.5398,\n",
      "        -0.2814,  0.2272,  0.2494,  0.1678,  0.2849,  0.4327, -0.4951,  0.3296,\n",
      "        -0.2020], device='cuda:0', grad_fn=<DivBackward0>)\n"
     ]
    },
    {
     "name": "stderr",
     "output_type": "stream",
     "text": [
      "Epoch 83: 100%|██████████| 20/20 [00:11<00:00,  1.75it/s, loss=58.8, acc=0.745, AUC=0.819, val_acc=0.71, val_AUC=0.783]\n"
     ]
    },
    {
     "name": "stdout",
     "output_type": "stream",
     "text": [
      "tensor([ 0.4286, -0.4748, -0.4519, -0.4155,  0.4700, -0.3166, -0.5216,  0.5401,\n",
      "        -0.2789,  0.2307,  0.2478,  0.1639,  0.2852,  0.4482, -0.4942,  0.3400,\n",
      "        -0.2009], device='cuda:0', grad_fn=<DivBackward0>)\n"
     ]
    },
    {
     "name": "stderr",
     "output_type": "stream",
     "text": [
      "Epoch 84: 100%|██████████| 20/20 [00:11<00:00,  1.76it/s, loss=58.9, acc=0.74, AUC=0.818, val_acc=0.705, val_AUC=0.779]\n"
     ]
    },
    {
     "name": "stdout",
     "output_type": "stream",
     "text": [
      "tensor([ 0.4331, -0.4756, -0.4547, -0.4126,  0.4705, -0.3161, -0.5226,  0.5380,\n",
      "        -0.2864,  0.2342,  0.2486,  0.1548,  0.2866,  0.4480, -0.4924,  0.3417,\n",
      "        -0.1951], device='cuda:0', grad_fn=<DivBackward0>)\n"
     ]
    },
    {
     "name": "stderr",
     "output_type": "stream",
     "text": [
      "Epoch 85: 100%|██████████| 20/20 [00:11<00:00,  1.75it/s, loss=58.7, acc=0.74, AUC=0.82, val_acc=0.714, val_AUC=0.779]\n"
     ]
    },
    {
     "name": "stdout",
     "output_type": "stream",
     "text": [
      "tensor([ 0.4184, -0.4747, -0.4509, -0.4077,  0.4744, -0.3183, -0.5240,  0.5344,\n",
      "        -0.2865,  0.2381,  0.2520,  0.1573,  0.2873,  0.4289, -0.4835,  0.3496,\n",
      "        -0.1948], device='cuda:0', grad_fn=<DivBackward0>)\n"
     ]
    },
    {
     "name": "stderr",
     "output_type": "stream",
     "text": [
      "Epoch 86: 100%|██████████| 20/20 [00:11<00:00,  1.75it/s, loss=58.4, acc=0.743, AUC=0.822, val_acc=0.714, val_AUC=0.783]\n"
     ]
    },
    {
     "name": "stdout",
     "output_type": "stream",
     "text": [
      "tensor([ 0.4482, -0.4748, -0.4570, -0.4092,  0.4775, -0.3157, -0.5269,  0.5277,\n",
      "        -0.2886,  0.2410,  0.2535,  0.1496,  0.2859,  0.4180, -0.4886,  0.3561,\n",
      "        -0.1967], device='cuda:0', grad_fn=<DivBackward0>)\n"
     ]
    },
    {
     "name": "stderr",
     "output_type": "stream",
     "text": [
      "Epoch 87: 100%|██████████| 20/20 [00:11<00:00,  1.76it/s, loss=58.4, acc=0.747, AUC=0.822, val_acc=0.712, val_AUC=0.778]\n"
     ]
    },
    {
     "name": "stdout",
     "output_type": "stream",
     "text": [
      "tensor([ 0.4556, -0.4705, -0.4586, -0.4090,  0.4685, -0.3079, -0.5282,  0.5290,\n",
      "        -0.2898,  0.2456,  0.2571,  0.1441,  0.2850,  0.4096, -0.4885,  0.3509,\n",
      "        -0.1928], device='cuda:0', grad_fn=<DivBackward0>)\n"
     ]
    },
    {
     "name": "stderr",
     "output_type": "stream",
     "text": [
      "Epoch 88: 100%|██████████| 20/20 [00:11<00:00,  1.76it/s, loss=58.1, acc=0.746, AUC=0.824, val_acc=0.706, val_AUC=0.787]\n"
     ]
    },
    {
     "name": "stdout",
     "output_type": "stream",
     "text": [
      "tensor([ 0.4531, -0.4668, -0.4565, -0.4051,  0.4743, -0.3140, -0.5300,  0.5347,\n",
      "        -0.2890,  0.2562,  0.2516,  0.1385,  0.2867,  0.4100, -0.4987,  0.3600,\n",
      "        -0.2051], device='cuda:0', grad_fn=<DivBackward0>)\n"
     ]
    },
    {
     "name": "stderr",
     "output_type": "stream",
     "text": [
      "Epoch 89: 100%|██████████| 20/20 [00:11<00:00,  1.75it/s, loss=58.1, acc=0.748, AUC=0.824, val_acc=0.708, val_AUC=0.783]\n"
     ]
    },
    {
     "name": "stdout",
     "output_type": "stream",
     "text": [
      "tensor([ 0.4559, -0.4679, -0.4566, -0.4063,  0.4692, -0.3146, -0.5259,  0.5459,\n",
      "        -0.2950,  0.2486,  0.2597,  0.1386,  0.2925,  0.4077, -0.5030,  0.3564,\n",
      "        -0.2052], device='cuda:0', grad_fn=<DivBackward0>)\n"
     ]
    },
    {
     "name": "stderr",
     "output_type": "stream",
     "text": [
      "Epoch 90: 100%|██████████| 20/20 [00:11<00:00,  1.75it/s, loss=58.1, acc=0.748, AUC=0.824, val_acc=0.72, val_AUC=0.788]\n"
     ]
    },
    {
     "name": "stdout",
     "output_type": "stream",
     "text": [
      "tensor([ 0.4718, -0.4646, -0.4604, -0.4047,  0.4742, -0.3155, -0.5364,  0.5405,\n",
      "        -0.2993,  0.2449,  0.2605,  0.1304,  0.2881,  0.4131, -0.4990,  0.3601,\n",
      "        -0.2036], device='cuda:0', grad_fn=<DivBackward0>)\n"
     ]
    },
    {
     "name": "stderr",
     "output_type": "stream",
     "text": [
      "Epoch 91: 100%|██████████| 20/20 [00:11<00:00,  1.76it/s, loss=57.9, acc=0.744, AUC=0.826, val_acc=0.714, val_AUC=0.79]\n"
     ]
    },
    {
     "name": "stdout",
     "output_type": "stream",
     "text": [
      "tensor([ 0.4708, -0.4589, -0.4628, -0.4156,  0.4702, -0.3155, -0.5368,  0.5398,\n",
      "        -0.2996,  0.2470,  0.2652,  0.1255,  0.2936,  0.4104, -0.4948,  0.3623,\n",
      "        -0.2010], device='cuda:0', grad_fn=<DivBackward0>)\n"
     ]
    },
    {
     "name": "stderr",
     "output_type": "stream",
     "text": [
      "Epoch 92: 100%|██████████| 20/20 [00:11<00:00,  1.76it/s, loss=57.8, acc=0.748, AUC=0.826, val_acc=0.707, val_AUC=0.782]\n"
     ]
    },
    {
     "name": "stdout",
     "output_type": "stream",
     "text": [
      "tensor([ 0.4756, -0.4591, -0.4675, -0.4116,  0.4706, -0.3180, -0.5310,  0.5410,\n",
      "        -0.2977,  0.2498,  0.2595,  0.1206,  0.2882,  0.4209, -0.4955,  0.3628,\n",
      "        -0.2087], device='cuda:0', grad_fn=<DivBackward0>)\n"
     ]
    },
    {
     "name": "stderr",
     "output_type": "stream",
     "text": [
      "Epoch 93: 100%|██████████| 20/20 [00:11<00:00,  1.75it/s, loss=57.7, acc=0.749, AUC=0.827, val_acc=0.704, val_AUC=0.785]\n"
     ]
    },
    {
     "name": "stdout",
     "output_type": "stream",
     "text": [
      "tensor([ 0.4713, -0.4644, -0.4598, -0.4109,  0.4732, -0.3133, -0.5335,  0.5339,\n",
      "        -0.2991,  0.2517,  0.2638,  0.1181,  0.2929,  0.4045, -0.4941,  0.3654,\n",
      "        -0.1996], device='cuda:0', grad_fn=<DivBackward0>)\n"
     ]
    },
    {
     "name": "stderr",
     "output_type": "stream",
     "text": [
      "Epoch 94: 100%|██████████| 20/20 [00:11<00:00,  1.76it/s, loss=57.4, acc=0.753, AUC=0.829, val_acc=0.714, val_AUC=0.784]\n"
     ]
    },
    {
     "name": "stdout",
     "output_type": "stream",
     "text": [
      "tensor([ 0.4731, -0.4565, -0.4598, -0.4094,  0.4768, -0.3174, -0.5326,  0.5263,\n",
      "        -0.3044,  0.2540,  0.2658,  0.1195,  0.2928,  0.3993, -0.4982,  0.3767,\n",
      "        -0.2058], device='cuda:0', grad_fn=<DivBackward0>)\n"
     ]
    },
    {
     "name": "stderr",
     "output_type": "stream",
     "text": [
      "Epoch 95: 100%|██████████| 20/20 [00:11<00:00,  1.77it/s, loss=57.4, acc=0.75, AUC=0.829, val_acc=0.711, val_AUC=0.786]\n"
     ]
    },
    {
     "name": "stdout",
     "output_type": "stream",
     "text": [
      "tensor([ 0.4715, -0.4597, -0.4648, -0.4135,  0.4722, -0.3153, -0.5262,  0.5230,\n",
      "        -0.3011,  0.2574,  0.2691,  0.1141,  0.2896,  0.4033, -0.4974,  0.3903,\n",
      "        -0.2126], device='cuda:0', grad_fn=<DivBackward0>)\n"
     ]
    },
    {
     "name": "stderr",
     "output_type": "stream",
     "text": [
      "Epoch 96: 100%|██████████| 20/20 [00:11<00:00,  1.75it/s, loss=57.4, acc=0.75, AUC=0.829, val_acc=0.715, val_AUC=0.783]\n"
     ]
    },
    {
     "name": "stdout",
     "output_type": "stream",
     "text": [
      "tensor([ 0.4718, -0.4537, -0.4714, -0.4152,  0.4772, -0.3135, -0.5265,  0.5278,\n",
      "        -0.3012,  0.2594,  0.2599,  0.1072,  0.2904,  0.4109, -0.5022,  0.3866,\n",
      "        -0.2074], device='cuda:0', grad_fn=<DivBackward0>)\n"
     ]
    },
    {
     "name": "stderr",
     "output_type": "stream",
     "text": [
      "Epoch 97: 100%|██████████| 20/20 [00:11<00:00,  1.76it/s, loss=57.1, acc=0.755, AUC=0.831, val_acc=0.723, val_AUC=0.789]\n"
     ]
    },
    {
     "name": "stdout",
     "output_type": "stream",
     "text": [
      "tensor([ 0.4753, -0.4595, -0.4664, -0.4140,  0.4783, -0.3231, -0.5293,  0.5380,\n",
      "        -0.3036,  0.2635,  0.2617,  0.1042,  0.2919,  0.3997, -0.5030,  0.3951,\n",
      "        -0.2090], device='cuda:0', grad_fn=<DivBackward0>)\n"
     ]
    },
    {
     "name": "stderr",
     "output_type": "stream",
     "text": [
      "Epoch 98: 100%|██████████| 20/20 [00:11<00:00,  1.76it/s, loss=57.1, acc=0.752, AUC=0.831, val_acc=0.72, val_AUC=0.787]\n"
     ]
    },
    {
     "name": "stdout",
     "output_type": "stream",
     "text": [
      "tensor([ 0.4814, -0.4497, -0.4674, -0.4215,  0.4775, -0.3178, -0.5310,  0.5393,\n",
      "        -0.3055,  0.2589,  0.2679,  0.1092,  0.2832,  0.3872, -0.5061,  0.4062,\n",
      "        -0.2120], device='cuda:0', grad_fn=<DivBackward0>)\n"
     ]
    },
    {
     "name": "stderr",
     "output_type": "stream",
     "text": [
      "Epoch 99: 100%|██████████| 20/20 [00:11<00:00,  1.75it/s, loss=56.8, acc=0.754, AUC=0.833, val_acc=0.711, val_AUC=0.782]\n"
     ]
    },
    {
     "name": "stdout",
     "output_type": "stream",
     "text": [
      "tensor([ 0.4869, -0.4539, -0.4757, -0.4174,  0.4752, -0.3228, -0.5348,  0.5276,\n",
      "        -0.3065,  0.2655,  0.2721,  0.1100,  0.2839,  0.3789, -0.4998,  0.4214,\n",
      "        -0.2107], device='cuda:0', grad_fn=<DivBackward0>)\n"
     ]
    },
    {
     "name": "stderr",
     "output_type": "stream",
     "text": [
      "Epoch 100: 100%|██████████| 20/20 [00:11<00:00,  1.77it/s, loss=56.6, acc=0.754, AUC=0.834, val_acc=0.73, val_AUC=0.794]\n"
     ]
    },
    {
     "name": "stdout",
     "output_type": "stream",
     "text": [
      "tensor([ 0.4815, -0.4476, -0.4750, -0.4174,  0.4759, -0.3160, -0.5389,  0.5312,\n",
      "        -0.2996,  0.2571,  0.2746,  0.1014,  0.2899,  0.3847, -0.5086,  0.4156,\n",
      "        -0.2089], device='cuda:0', grad_fn=<DivBackward0>)\n",
      "test_acc: 0.65887850522995\n",
      "test_auc: 0.742532098873264\n",
      "-----------------------------------------\n"
     ]
    },
    {
     "name": "stderr",
     "output_type": "stream",
     "text": [
      "wandb: WARNING Source type is set to 'repo' but some required information is missing from the environment. A job will not be created from this run. See https://docs.wandb.ai/guides/launch/create-job\n"
     ]
    },
    {
     "name": "stdout",
     "output_type": "stream",
     "text": [
      "==================[done]==================\n"
     ]
    }
   ],
   "source": [
    "train_K_fold(get_run_config())"
   ]
  },
  {
   "cell_type": "markdown",
   "metadata": {},
   "source": []
  },
  {
   "cell_type": "markdown",
   "metadata": {},
   "source": []
  },
  {
   "cell_type": "code",
   "execution_count": 6,
   "metadata": {},
   "outputs": [
    {
     "name": "stdout",
     "output_type": "stream",
     "text": [
      "tensor([ 0.4731, -0.4510, -0.4774, -0.4249,  0.4800, -0.3104, -0.5329,  0.5479,\n",
      "        -0.2958,  0.2668,  0.2461,  0.0866,  0.3026,  0.3833, -0.5030,  0.4347,\n",
      "        -0.2254])\n"
     ]
    },
    {
     "data": {
      "image/png": "[encoded data removed]",
      "text/plain": [
       "<Figure size 800x600 with 1 Axes>"
      ]
     },
     "metadata": {},
     "output_type": "display_data"
    }
   ],
   "source": [
    "\n",
    "importance = get_feature_importance_extractor().get().cpu()\n",
    "print(importance)\n",
    "importance = importance.softmax(dim=0).detach().numpy()\n",
    "import matplotlib.pyplot as plt\n",
    "# 可视化特征重要性\n",
    "plt.figure(figsize=(8, 6))\n",
    "plt.barh(range(len(importance)), importance, align='center')\n",
    "plt.yticks(range(len(importance)))\n",
    "plt.xlabel('Feature Importance')\n",
    "plt.ylabel('Features')\n",
    "plt.show()"
   ]
  }
 ],
 "metadata": {
  "kernelspec": {
   "display_name": "GNN",
   "language": "python",
   "name": "python3"
  },
  "language_info": {
   "codemirror_mode": {
    "name": "ipython",
    "version": 3
   },
   "file_extension": ".py",
   "mimetype": "text/x-python",
   "name": "python",
   "nbconvert_exporter": "python",
   "pygments_lexer": "ipython3",
   "version": "3.10.12"
  },
  "orig_nbformat": 4
 },
 "nbformat": 4,
 "nbformat_minor": 2
}
