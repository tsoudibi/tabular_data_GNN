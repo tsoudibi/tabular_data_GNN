{
 "cells": [
  {
   "cell_type": "code",
   "execution_count": 1,
   "metadata": {},
   "outputs": [
    {
     "name": "stderr",
     "output_type": "stream",
     "text": [
      "/home/tsou/.conda/envs/pyg/lib/python3.10/site-packages/tqdm/auto.py:21: TqdmWarning: IProgress not found. Please update jupyter and ipywidgets. See https://ipywidgets.readthedocs.io/en/stable/user_install.html\n",
      "  from .autonotebook import tqdm as notebook_tqdm\n"
     ]
    },
    {
     "name": "stdout",
     "output_type": "stream",
     "text": [
      "=================[dataset is set to compass_old ]=================\n",
      "[Tensorflow] Set seed failed,details are: No module named 'tensorflow'\n",
      "[Pytorch] Seed set successfully\n",
      "[Pytorch Geometric] Seed set successfully\n",
      "[Sklearn] Seed set successfully\n",
      "=================[run config is loaded]=================\n"
     ]
    }
   ],
   "source": [
    "from trainer import *"
   ]
  },
  {
   "cell_type": "code",
   "execution_count": 3,
   "metadata": {},
   "outputs": [
    {
     "name": "stdout",
     "output_type": "stream",
     "text": [
      "epoch 0 -----------------------------------------\n",
      "epoch 1 -----------------------------------------\n",
      "epoch 2 -----------------------------------------\n",
      "epoch 3 -----------------------------------------\n",
      "epoch 4 -----------------------------------------\n",
      "done\n"
     ]
    }
   ],
   "source": [
    "test_run()"
   ]
  },
  {
   "cell_type": "code",
   "execution_count": 4,
   "metadata": {},
   "outputs": [
    {
     "data": {
      "text/plain": [
       "tensor([-0.3540, -0.2897, -0.7217,  0.0406, -0.6508,  0.3281,  1.3705, -0.2578,\n",
       "         0.0726,  0.7587,  0.5944, -1.1558, -0.4648, -0.2391,  0.6011, -0.2777,\n",
       "         0.6455], device='cuda:0', grad_fn=<DivBackward0>)"
      ]
     },
     "execution_count": 4,
     "metadata": {},
     "output_type": "execute_result"
    }
   ],
   "source": [
    "extractor = get_feature_importance_extractor()\n",
    "extractor.get()"
   ]
  },
  {
   "cell_type": "code",
   "execution_count": 2,
   "metadata": {},
   "outputs": [
    {
     "name": "stdout",
     "output_type": "stream",
     "text": [
      "=================[ 1 Fold ]=================\n",
      "train_data: torch.Size([11983, 17])\n",
      "train_label: torch.Size([11983])\n",
      "validation_data: torch.Size([1332, 17])\n",
      "validation_label: torch.Size([1332])\n",
      "test_data: torch.Size([3329, 17])\n",
      "test_label: torch.Size([3329])\n",
      "-----------------------------------------\n"
     ]
    },
    {
     "name": "stderr",
     "output_type": "stream",
     "text": [
      "Epoch 1: 100%|██████████| 6/6 [00:01<00:00,  3.10it/s, loss=40.4, acc=0.54, AUC=0.561, val_acc=0.6, val_AUC=0.631]\n",
      "Epoch 2: 100%|██████████| 6/6 [00:01<00:00,  4.93it/s, loss=34.6, acc=0.599, AUC=0.632, val_acc=0.606, val_AUC=0.64]\n",
      "Epoch 3: 100%|██████████| 6/6 [00:01<00:00,  5.48it/s, loss=33.9, acc=0.608, AUC=0.65, val_acc=0.617, val_AUC=0.661]\n",
      "Epoch 4: 100%|██████████| 6/6 [00:01<00:00,  5.43it/s, loss=33.7, acc=0.617, AUC=0.657, val_acc=0.631, val_AUC=0.663]\n",
      "Epoch 5: 100%|██████████| 6/6 [00:01<00:00,  5.27it/s, loss=33.2, acc=0.63, AUC=0.671, val_acc=0.62, val_AUC=0.67]\n",
      "Epoch 6: 100%|██████████| 6/6 [00:01<00:00,  5.20it/s, loss=33, acc=0.634, AUC=0.678, val_acc=0.623, val_AUC=0.671]\n",
      "Epoch 7: 100%|██████████| 6/6 [00:01<00:00,  5.05it/s, loss=32.9, acc=0.635, AUC=0.68, val_acc=0.626, val_AUC=0.668]\n",
      "Epoch 8: 100%|██████████| 6/6 [00:01<00:00,  4.97it/s, loss=32.8, acc=0.639, AUC=0.682, val_acc=0.629, val_AUC=0.679]\n",
      "Epoch 9: 100%|██████████| 6/6 [00:01<00:00,  4.89it/s, loss=32.6, acc=0.639, AUC=0.689, val_acc=0.642, val_AUC=0.685]\n",
      "Epoch 10: 100%|██████████| 6/6 [00:01<00:00,  4.86it/s, loss=32.5, acc=0.638, AUC=0.69, val_acc=0.627, val_AUC=0.684]\n",
      "Epoch 11: 100%|██████████| 6/6 [00:01<00:00,  4.77it/s, loss=32.3, acc=0.649, AUC=0.697, val_acc=0.63, val_AUC=0.678]\n",
      "Epoch 12: 100%|██████████| 6/6 [00:01<00:00,  4.73it/s, loss=32.2, acc=0.647, AUC=0.699, val_acc=0.639, val_AUC=0.688]\n",
      "Epoch 13: 100%|██████████| 6/6 [00:01<00:00,  4.66it/s, loss=32.2, acc=0.645, AUC=0.698, val_acc=0.652, val_AUC=0.698]\n",
      "Epoch 14: 100%|██████████| 6/6 [00:01<00:00,  4.49it/s, loss=32.1, acc=0.647, AUC=0.702, val_acc=0.644, val_AUC=0.693]\n",
      "Epoch 15: 100%|██████████| 6/6 [00:01<00:00,  4.56it/s, loss=32.2, acc=0.648, AUC=0.7, val_acc=0.643, val_AUC=0.696]\n",
      "Epoch 16: 100%|██████████| 6/6 [00:01<00:00,  4.02it/s, loss=32, acc=0.653, AUC=0.705, val_acc=0.641, val_AUC=0.697]\n",
      "Epoch 17: 100%|██████████| 6/6 [00:01<00:00,  4.50it/s, loss=32, acc=0.654, AUC=0.705, val_acc=0.649, val_AUC=0.698]\n",
      "Epoch 18: 100%|██████████| 6/6 [00:01<00:00,  4.47it/s, loss=31.9, acc=0.653, AUC=0.707, val_acc=0.646, val_AUC=0.703]\n",
      "Epoch 19: 100%|██████████| 6/6 [00:01<00:00,  4.41it/s, loss=31.8, acc=0.657, AUC=0.711, val_acc=0.646, val_AUC=0.698]\n",
      "Epoch 20: 100%|██████████| 6/6 [00:01<00:00,  4.40it/s, loss=31.7, acc=0.659, AUC=0.711, val_acc=0.651, val_AUC=0.702]\n",
      "Epoch 21: 100%|██████████| 6/6 [00:01<00:00,  3.91it/s, loss=31.6, acc=0.659, AUC=0.714, val_acc=0.647, val_AUC=0.7]\n",
      "Epoch 22: 100%|██████████| 6/6 [00:01<00:00,  4.33it/s, loss=31.6, acc=0.659, AUC=0.716, val_acc=0.653, val_AUC=0.704]\n",
      "Epoch 23: 100%|██████████| 6/6 [00:01<00:00,  3.93it/s, loss=31.5, acc=0.661, AUC=0.717, val_acc=0.647, val_AUC=0.701]\n",
      "Epoch 24: 100%|██████████| 6/6 [00:01<00:00,  4.11it/s, loss=31.6, acc=0.662, AUC=0.714, val_acc=0.643, val_AUC=0.701]\n",
      "Epoch 25: 100%|██████████| 6/6 [00:01<00:00,  4.27it/s, loss=31.6, acc=0.659, AUC=0.714, val_acc=0.659, val_AUC=0.703]\n",
      "Epoch 26: 100%|██████████| 6/6 [00:01<00:00,  4.26it/s, loss=31.4, acc=0.661, AUC=0.721, val_acc=0.655, val_AUC=0.707]\n",
      "Epoch 27: 100%|██████████| 6/6 [00:01<00:00,  4.23it/s, loss=31.3, acc=0.662, AUC=0.724, val_acc=0.651, val_AUC=0.706]\n",
      "Epoch 28: 100%|██████████| 6/6 [00:01<00:00,  4.22it/s, loss=31.4, acc=0.661, AUC=0.72, val_acc=0.647, val_AUC=0.7]\n",
      "Epoch 29: 100%|██████████| 6/6 [00:01<00:00,  4.21it/s, loss=31.3, acc=0.663, AUC=0.723, val_acc=0.653, val_AUC=0.704]\n",
      "Epoch 30: 100%|██████████| 6/6 [00:01<00:00,  4.15it/s, loss=31.3, acc=0.662, AUC=0.722, val_acc=0.649, val_AUC=0.702]\n",
      "Epoch 31: 100%|██████████| 6/6 [00:01<00:00,  4.18it/s, loss=31.3, acc=0.665, AUC=0.721, val_acc=0.651, val_AUC=0.707]\n",
      "Epoch 32: 100%|██████████| 6/6 [00:01<00:00,  4.06it/s, loss=31.5, acc=0.661, AUC=0.717, val_acc=0.656, val_AUC=0.71]\n",
      "Epoch 33: 100%|██████████| 6/6 [00:01<00:00,  4.18it/s, loss=31.7, acc=0.658, AUC=0.713, val_acc=0.646, val_AUC=0.703]\n",
      "Epoch 34: 100%|██████████| 6/6 [00:01<00:00,  4.20it/s, loss=31.2, acc=0.665, AUC=0.727, val_acc=0.652, val_AUC=0.711]\n",
      "Epoch 35: 100%|██████████| 6/6 [00:01<00:00,  4.20it/s, loss=31.2, acc=0.669, AUC=0.725, val_acc=0.655, val_AUC=0.707]\n",
      "Epoch 36: 100%|██████████| 6/6 [00:01<00:00,  4.17it/s, loss=31.2, acc=0.667, AUC=0.725, val_acc=0.655, val_AUC=0.709]\n",
      "Epoch 37: 100%|██████████| 6/6 [00:01<00:00,  3.87it/s, loss=31.1, acc=0.669, AUC=0.727, val_acc=0.65, val_AUC=0.707]\n",
      "Epoch 38: 100%|██████████| 6/6 [00:01<00:00,  4.17it/s, loss=31, acc=0.669, AUC=0.73, val_acc=0.65, val_AUC=0.71]\n",
      "Epoch 39: 100%|██████████| 6/6 [00:01<00:00,  4.16it/s, loss=31, acc=0.671, AUC=0.731, val_acc=0.657, val_AUC=0.709]\n",
      "Epoch 40: 100%|██████████| 6/6 [00:01<00:00,  4.16it/s, loss=31, acc=0.671, AUC=0.73, val_acc=0.647, val_AUC=0.709]\n",
      "Epoch 41: 100%|██████████| 6/6 [00:01<00:00,  4.13it/s, loss=31.1, acc=0.669, AUC=0.729, val_acc=0.654, val_AUC=0.709]\n",
      "Epoch 42: 100%|██████████| 6/6 [00:01<00:00,  4.15it/s, loss=31, acc=0.668, AUC=0.73, val_acc=0.647, val_AUC=0.71]\n",
      "Epoch 43: 100%|██████████| 6/6 [00:01<00:00,  3.83it/s, loss=30.9, acc=0.669, AUC=0.733, val_acc=0.655, val_AUC=0.711]\n",
      "Epoch 44: 100%|██████████| 6/6 [00:01<00:00,  4.12it/s, loss=30.8, acc=0.671, AUC=0.735, val_acc=0.653, val_AUC=0.712]\n",
      "Epoch 45: 100%|██████████| 6/6 [00:01<00:00,  4.08it/s, loss=30.8, acc=0.671, AUC=0.734, val_acc=0.644, val_AUC=0.709]\n",
      "Epoch 46: 100%|██████████| 6/6 [00:01<00:00,  4.09it/s, loss=30.9, acc=0.673, AUC=0.734, val_acc=0.658, val_AUC=0.719]\n",
      "Epoch 47: 100%|██████████| 6/6 [00:01<00:00,  4.10it/s, loss=30.9, acc=0.669, AUC=0.732, val_acc=0.655, val_AUC=0.716]\n",
      "Epoch 48: 100%|██████████| 6/6 [00:01<00:00,  4.10it/s, loss=31, acc=0.672, AUC=0.73, val_acc=0.651, val_AUC=0.713]\n",
      "Epoch 49: 100%|██████████| 6/6 [00:01<00:00,  4.01it/s, loss=30.7, acc=0.669, AUC=0.738, val_acc=0.652, val_AUC=0.714]\n",
      "Epoch 50: 100%|██████████| 6/6 [00:01<00:00,  4.09it/s, loss=30.9, acc=0.674, AUC=0.733, val_acc=0.659, val_AUC=0.716]\n"
     ]
    },
    {
     "name": "stdout",
     "output_type": "stream",
     "text": [
      "test_acc: 0.6335590481758118\n",
      "test_auc: 0.5\n",
      "-----------------------------------------\n",
      "=================[ 2 Fold ]=================\n",
      "train_data: torch.Size([11983, 17])\n",
      "train_label: torch.Size([11983])\n",
      "validation_data: torch.Size([1332, 17])\n",
      "validation_label: torch.Size([1332])\n",
      "test_data: torch.Size([3329, 17])\n",
      "test_label: torch.Size([3329])\n",
      "-----------------------------------------\n"
     ]
    },
    {
     "name": "stderr",
     "output_type": "stream",
     "text": [
      "Epoch 1: 100%|██████████| 6/6 [00:01<00:00,  4.91it/s, loss=41.5, acc=0.541, AUC=0.564, val_acc=0.609, val_AUC=0.651]\n",
      "Epoch 2: 100%|██████████| 6/6 [00:01<00:00,  5.09it/s, loss=33.8, acc=0.613, AUC=0.65, val_acc=0.623, val_AUC=0.657]\n",
      "Epoch 3:  17%|█▋        | 1/6 [00:00<00:01,  2.76it/s]\n"
     ]
    },
    {
     "ename": "KeyboardInterrupt",
     "evalue": "",
     "output_type": "error",
     "traceback": [
      "\u001b[0;31m---------------------------------------------------------------------------\u001b[0m",
      "\u001b[0;31mKeyboardInterrupt\u001b[0m                         Traceback (most recent call last)",
      "\u001b[1;32m/home/tsou/Desktop/tabular_data_GNN/test.ipynb 儲存格 4\u001b[0m line \u001b[0;36m1\n\u001b[0;32m----> <a href='vscode-notebook-cell://ssh-remote%2Bmarshmellow/home/tsou/Desktop/tabular_data_GNN/test.ipynb#X16sdnNjb2RlLXJlbW90ZQ%3D%3D?line=0'>1</a>\u001b[0m train_K_fold(get_run_config())\n",
      "File \u001b[0;32m~/Desktop/tabular_data_GNN/trainer/trainer.py:228\u001b[0m, in \u001b[0;36mtrain_K_fold\u001b[0;34m(config)\u001b[0m\n\u001b[1;32m    225\u001b[0m     \u001b[39mprint\u001b[39m(\u001b[39m'\u001b[39m\u001b[39mtest_label:\u001b[39m\u001b[39m'\u001b[39m, (test_label)\u001b[39m.\u001b[39mshape)\n\u001b[1;32m    226\u001b[0m     \u001b[39mprint\u001b[39m(\u001b[39m'\u001b[39m\u001b[39m-----------------------------------------\u001b[39m\u001b[39m'\u001b[39m)  \n\u001b[0;32m--> 228\u001b[0m     data_package \u001b[39m=\u001b[39m (train_data, train_label, validation_data, validation_label, test_data, test_label, NUM, CAT, LABEL, cat_num)\n\u001b[1;32m    229\u001b[0m     train_one_run(config, data_package)\n\u001b[1;32m    230\u001b[0m \u001b[39mprint\u001b[39m(\u001b[39m'\u001b[39m\u001b[39m==================[done]==================\u001b[39m\u001b[39m'\u001b[39m)\n",
      "File \u001b[0;32m~/Desktop/tabular_data_GNN/trainer/trainer.py:172\u001b[0m, in \u001b[0;36mtrain_one_run\u001b[0;34m(configs, data_package)\u001b[0m\n\u001b[1;32m    170\u001b[0m datas \u001b[39m=\u001b[39m (train_data, train_label, validation_data, validation_label)\n\u001b[1;32m    171\u001b[0m datas \u001b[39m=\u001b[39m (train_data, train_label, test_data, test_label)\n\u001b[0;32m--> 172\u001b[0m \u001b[39mfor\u001b[39;00m i \u001b[39min\u001b[39;00m \u001b[39mrange\u001b[39m(max_epoch):\n\u001b[1;32m    173\u001b[0m     train_one_epoch(the_model, optimizer, datas, batch_size, epoch\u001b[39m=\u001b[39mi\u001b[39m+\u001b[39m\u001b[39m1\u001b[39m)\n\u001b[1;32m    174\u001b[0m     \u001b[39m# print(extractor.get())\u001b[39;00m\n",
      "File \u001b[0;32m~/Desktop/tabular_data_GNN/trainer/trainer.py:59\u001b[0m, in \u001b[0;36mtrain_one_epoch\u001b[0;34m(model, optimizer, datas, batch_size, epoch)\u001b[0m\n\u001b[1;32m     57\u001b[0m output \u001b[39m=\u001b[39m model(train_data[i], epoch\u001b[39m=\u001b[39mepoch)\n\u001b[1;32m     58\u001b[0m loss \u001b[39m=\u001b[39m torch\u001b[39m.\u001b[39mnn\u001b[39m.\u001b[39mfunctional\u001b[39m.\u001b[39mcross_entropy(output, train_label[i]) \u001b[39m*\u001b[39m model\u001b[39m.\u001b[39mnumber_of_columns\n\u001b[0;32m---> 59\u001b[0m loss\u001b[39m.\u001b[39;49mbackward()\n\u001b[1;32m     60\u001b[0m optimizer\u001b[39m.\u001b[39mstep()\n\u001b[1;32m     61\u001b[0m batch_loss \u001b[39m+\u001b[39m\u001b[39m=\u001b[39m loss\u001b[39m.\u001b[39mitem()\n",
      "File \u001b[0;32m~/.local/lib/python3.10/site-packages/torch/_tensor.py:488\u001b[0m, in \u001b[0;36mTensor.backward\u001b[0;34m(self, gradient, retain_graph, create_graph, inputs)\u001b[0m\n\u001b[1;32m    478\u001b[0m \u001b[39mif\u001b[39;00m has_torch_function_unary(\u001b[39mself\u001b[39m):\n\u001b[1;32m    479\u001b[0m     \u001b[39mreturn\u001b[39;00m handle_torch_function(\n\u001b[1;32m    480\u001b[0m         Tensor\u001b[39m.\u001b[39mbackward,\n\u001b[1;32m    481\u001b[0m         (\u001b[39mself\u001b[39m,),\n\u001b[0;32m   (...)\u001b[0m\n\u001b[1;32m    486\u001b[0m         inputs\u001b[39m=\u001b[39minputs,\n\u001b[1;32m    487\u001b[0m     )\n\u001b[0;32m--> 488\u001b[0m torch\u001b[39m.\u001b[39;49mautograd\u001b[39m.\u001b[39;49mbackward(\n\u001b[1;32m    489\u001b[0m     \u001b[39mself\u001b[39;49m, gradient, retain_graph, create_graph, inputs\u001b[39m=\u001b[39;49minputs\n\u001b[1;32m    490\u001b[0m )\n",
      "File \u001b[0;32m~/.local/lib/python3.10/site-packages/torch/autograd/__init__.py:197\u001b[0m, in \u001b[0;36mbackward\u001b[0;34m(tensors, grad_tensors, retain_graph, create_graph, grad_variables, inputs)\u001b[0m\n\u001b[1;32m    192\u001b[0m     retain_graph \u001b[39m=\u001b[39m create_graph\n\u001b[1;32m    194\u001b[0m \u001b[39m# The reason we repeat same the comment below is that\u001b[39;00m\n\u001b[1;32m    195\u001b[0m \u001b[39m# some Python versions print out the first line of a multi-line function\u001b[39;00m\n\u001b[1;32m    196\u001b[0m \u001b[39m# calls in the traceback and some print out the last line\u001b[39;00m\n\u001b[0;32m--> 197\u001b[0m Variable\u001b[39m.\u001b[39;49m_execution_engine\u001b[39m.\u001b[39;49mrun_backward(  \u001b[39m# Calls into the C++ engine to run the backward pass\u001b[39;49;00m\n\u001b[1;32m    198\u001b[0m     tensors, grad_tensors_, retain_graph, create_graph, inputs,\n\u001b[1;32m    199\u001b[0m     allow_unreachable\u001b[39m=\u001b[39;49m\u001b[39mTrue\u001b[39;49;00m, accumulate_grad\u001b[39m=\u001b[39;49m\u001b[39mTrue\u001b[39;49;00m)\n",
      "\u001b[0;31mKeyboardInterrupt\u001b[0m: "
     ]
    }
   ],
   "source": [
    "train_K_fold(get_run_config())"
   ]
  },
  {
   "cell_type": "code",
   "execution_count": 2,
   "metadata": {},
   "outputs": [
    {
     "name": "stdout",
     "output_type": "stream",
     "text": [
      "train_data: torch.Size([11650, 17])\n",
      "train_label: torch.Size([11650])\n",
      "validation_data: torch.Size([1665, 17])\n",
      "validation_label: torch.Size([1665])\n",
      "test_data: torch.Size([3329, 17])\n",
      "test_label: torch.Size([3329])\n",
      "-----------------------------------------\n"
     ]
    },
    {
     "name": "stderr",
     "output_type": "stream",
     "text": [
      "Epoch 1: 100%|██████████| 6/6 [00:01<00:00,  3.13it/s, loss=79.3, acc=0.545, AUC=0.556, val_acc=0.592, val_AUC=0.636]\n"
     ]
    },
    {
     "name": "stdout",
     "output_type": "stream",
     "text": [
      "tensor([ 0.1175,  0.7747, -0.3146,  0.1337, -0.0123, -0.4884,  0.7253, -0.2011,\n",
      "        -0.1245, -0.1835,  0.1300,  0.1859,  0.0071, -0.2763, -0.1847, -0.2476,\n",
      "        -0.0411], device='cuda:0', grad_fn=<DivBackward0>)\n"
     ]
    },
    {
     "name": "stderr",
     "output_type": "stream",
     "text": [
      "Epoch 2: 100%|██████████| 6/6 [00:01<00:00,  5.12it/s, loss=68.1, acc=0.612, AUC=0.645, val_acc=0.616, val_AUC=0.659]\n"
     ]
    },
    {
     "name": "stdout",
     "output_type": "stream",
     "text": [
      "tensor([-0.0194,  0.6881, -0.1462,  0.3032,  0.2560, -0.4188,  0.5151, -0.3496,\n",
      "        -0.0620, -0.1977, -0.2769,  0.2261,  0.2047, -0.3918, -0.1403, -0.1449,\n",
      "        -0.0456], device='cuda:0', grad_fn=<DivBackward0>)\n"
     ]
    },
    {
     "name": "stderr",
     "output_type": "stream",
     "text": [
      "Epoch 3: 100%|██████████| 6/6 [00:01<00:00,  5.70it/s, loss=67.5, acc=0.611, AUC=0.654, val_acc=0.615, val_AUC=0.665]\n"
     ]
    },
    {
     "name": "stdout",
     "output_type": "stream",
     "text": [
      "tensor([ 0.0229,  0.7438, -0.1503,  0.2662,  0.3361, -0.5130,  0.5968, -0.5028,\n",
      "        -0.0695, -0.1938, -0.2424,  0.2747,  0.2391, -0.4850, -0.1251, -0.1507,\n",
      "        -0.0469], device='cuda:0', grad_fn=<DivBackward0>)\n"
     ]
    },
    {
     "name": "stderr",
     "output_type": "stream",
     "text": [
      "Epoch 4: 100%|██████████| 6/6 [00:01<00:00,  5.52it/s, loss=66.1, acc=0.637, AUC=0.674, val_acc=0.632, val_AUC=0.671]\n"
     ]
    },
    {
     "name": "stdout",
     "output_type": "stream",
     "text": [
      "tensor([ 0.0260,  0.7881, -0.1736,  0.2428,  0.3965, -0.5535,  0.6550, -0.6161,\n",
      "        -0.1017, -0.1948, -0.2026,  0.3308,  0.3164, -0.5542, -0.1482, -0.1606,\n",
      "        -0.0503], device='cuda:0', grad_fn=<DivBackward0>)\n"
     ]
    },
    {
     "name": "stderr",
     "output_type": "stream",
     "text": [
      "Epoch 5: 100%|██████████| 6/6 [00:01<00:00,  5.37it/s, loss=66.1, acc=0.631, AUC=0.675, val_acc=0.628, val_AUC=0.675]\n"
     ]
    },
    {
     "name": "stdout",
     "output_type": "stream",
     "text": [
      "tensor([ 0.0645,  0.8389, -0.1741,  0.2612,  0.4464, -0.5974,  0.7151, -0.6977,\n",
      "        -0.0797, -0.1966, -0.1925,  0.3122,  0.2712, -0.5946, -0.1540, -0.1666,\n",
      "        -0.0562], device='cuda:0', grad_fn=<DivBackward0>)\n"
     ]
    },
    {
     "name": "stderr",
     "output_type": "stream",
     "text": [
      "Epoch 6: 100%|██████████| 6/6 [00:01<00:00,  5.32it/s, loss=65.7, acc=0.636, AUC=0.68, val_acc=0.642, val_AUC=0.68]\n"
     ]
    },
    {
     "name": "stdout",
     "output_type": "stream",
     "text": [
      "tensor([ 0.0878,  0.8574, -0.1968,  0.2507,  0.4944, -0.6222,  0.7295, -0.7635,\n",
      "        -0.0717, -0.1942, -0.1787,  0.3461,  0.2653, -0.6290, -0.1337, -0.1850,\n",
      "        -0.0562], device='cuda:0', grad_fn=<DivBackward0>)\n"
     ]
    },
    {
     "name": "stderr",
     "output_type": "stream",
     "text": [
      "Epoch 7: 100%|██████████| 6/6 [00:01<00:00,  5.27it/s, loss=64.9, acc=0.642, AUC=0.691, val_acc=0.636, val_AUC=0.682]\n"
     ]
    },
    {
     "name": "stdout",
     "output_type": "stream",
     "text": [
      "tensor([ 0.0951,  0.8778, -0.1834,  0.2467,  0.5484, -0.6347,  0.7256, -0.8137,\n",
      "        -0.0587, -0.2004, -0.2166,  0.3697,  0.2902, -0.6521, -0.1321, -0.1934,\n",
      "        -0.0685], device='cuda:0', grad_fn=<DivBackward0>)\n"
     ]
    },
    {
     "name": "stderr",
     "output_type": "stream",
     "text": [
      "Epoch 8: 100%|██████████| 6/6 [00:01<00:00,  5.18it/s, loss=64.9, acc=0.641, AUC=0.692, val_acc=0.645, val_AUC=0.692]\n"
     ]
    },
    {
     "name": "stdout",
     "output_type": "stream",
     "text": [
      "tensor([ 0.0902,  0.8988, -0.1754,  0.2604,  0.5967, -0.6468,  0.7551, -0.8564,\n",
      "        -0.0611, -0.2054, -0.2245,  0.3711,  0.2753, -0.6663, -0.1388, -0.2217,\n",
      "        -0.0512], device='cuda:0', grad_fn=<DivBackward0>)\n"
     ]
    },
    {
     "name": "stderr",
     "output_type": "stream",
     "text": [
      "Epoch 9: 100%|██████████| 6/6 [00:01<00:00,  5.13it/s, loss=64.8, acc=0.642, AUC=0.693, val_acc=0.649, val_AUC=0.701]\n"
     ]
    },
    {
     "name": "stdout",
     "output_type": "stream",
     "text": [
      "tensor([ 0.0723,  0.9261, -0.1947,  0.2957,  0.6122, -0.6465,  0.7327, -0.8758,\n",
      "        -0.0530, -0.1848, -0.2257,  0.4006,  0.2528, -0.6717, -0.1450, -0.2410,\n",
      "        -0.0542], device='cuda:0', grad_fn=<DivBackward0>)\n"
     ]
    },
    {
     "name": "stderr",
     "output_type": "stream",
     "text": [
      "Epoch 10: 100%|██████████| 6/6 [00:01<00:00,  5.14it/s, loss=64.4, acc=0.648, AUC=0.699, val_acc=0.643, val_AUC=0.686]\n"
     ]
    },
    {
     "name": "stdout",
     "output_type": "stream",
     "text": [
      "tensor([ 0.0895,  0.9322, -0.1850,  0.2938,  0.6233, -0.6426,  0.7523, -0.9075,\n",
      "        -0.0463, -0.1990, -0.2035,  0.4073,  0.2554, -0.6843, -0.1414, -0.2920,\n",
      "        -0.0522], device='cuda:0', grad_fn=<DivBackward0>)\n"
     ]
    },
    {
     "name": "stderr",
     "output_type": "stream",
     "text": [
      "Epoch 11: 100%|██████████| 6/6 [00:01<00:00,  5.10it/s, loss=64.4, acc=0.65, AUC=0.699, val_acc=0.65, val_AUC=0.693]\n"
     ]
    },
    {
     "name": "stdout",
     "output_type": "stream",
     "text": [
      "tensor([ 0.0693,  0.9443, -0.1782,  0.3169,  0.6361, -0.6565,  0.7492, -0.9470,\n",
      "        -0.0550, -0.1972, -0.1808,  0.4185,  0.2702, -0.7076, -0.1313, -0.2933,\n",
      "        -0.0575], device='cuda:0', grad_fn=<DivBackward0>)\n"
     ]
    },
    {
     "name": "stderr",
     "output_type": "stream",
     "text": [
      "Epoch 12: 100%|██████████| 6/6 [00:01<00:00,  5.06it/s, loss=64.2, acc=0.646, AUC=0.701, val_acc=0.652, val_AUC=0.703]\n"
     ]
    },
    {
     "name": "stdout",
     "output_type": "stream",
     "text": [
      "tensor([ 0.0514,  0.9663, -0.1753,  0.3147,  0.6440, -0.6466,  0.7663, -0.9689,\n",
      "        -0.0492, -0.1955, -0.1776,  0.4203,  0.2710, -0.7102, -0.1439, -0.3145,\n",
      "        -0.0524], device='cuda:0', grad_fn=<DivBackward0>)\n"
     ]
    },
    {
     "name": "stderr",
     "output_type": "stream",
     "text": [
      "Epoch 13: 100%|██████████| 6/6 [00:01<00:00,  5.00it/s, loss=64.2, acc=0.651, AUC=0.702, val_acc=0.654, val_AUC=0.708]\n"
     ]
    },
    {
     "name": "stdout",
     "output_type": "stream",
     "text": [
      "tensor([ 0.0403,  0.9778, -0.1626,  0.3164,  0.6600, -0.6626,  0.7595, -1.0048,\n",
      "        -0.0435, -0.2058, -0.1696,  0.4416,  0.2788, -0.7188, -0.1281, -0.3286,\n",
      "        -0.0502], device='cuda:0', grad_fn=<DivBackward0>)\n"
     ]
    },
    {
     "name": "stderr",
     "output_type": "stream",
     "text": [
      "Epoch 14: 100%|██████████| 6/6 [00:01<00:00,  4.97it/s, loss=64.2, acc=0.648, AUC=0.702, val_acc=0.657, val_AUC=0.704]\n"
     ]
    },
    {
     "name": "stdout",
     "output_type": "stream",
     "text": [
      "tensor([ 0.0403,  0.9719, -0.1455,  0.3220,  0.6940, -0.6570,  0.7713, -1.0258,\n",
      "        -0.0461, -0.2083, -0.1630,  0.4612,  0.2904, -0.7339, -0.1574, -0.3494,\n",
      "        -0.0647], device='cuda:0', grad_fn=<DivBackward0>)\n"
     ]
    },
    {
     "name": "stderr",
     "output_type": "stream",
     "text": [
      "Epoch 15: 100%|██████████| 6/6 [00:01<00:00,  4.90it/s, loss=64.2, acc=0.648, AUC=0.702, val_acc=0.649, val_AUC=0.706]\n"
     ]
    },
    {
     "name": "stdout",
     "output_type": "stream",
     "text": [
      "tensor([ 0.0132,  0.9802, -0.1280,  0.3185,  0.7240, -0.6634,  0.7803, -1.0491,\n",
      "        -0.0462, -0.2072, -0.1867,  0.4859,  0.2921, -0.7280, -0.1628, -0.3718,\n",
      "        -0.0510], device='cuda:0', grad_fn=<DivBackward0>)\n"
     ]
    },
    {
     "name": "stderr",
     "output_type": "stream",
     "text": [
      "Epoch 16: 100%|██████████| 6/6 [00:01<00:00,  4.74it/s, loss=63.7, acc=0.658, AUC=0.709, val_acc=0.638, val_AUC=0.698]\n"
     ]
    },
    {
     "name": "stdout",
     "output_type": "stream",
     "text": [
      "tensor([ 0.0191,  0.9676, -0.1136,  0.3124,  0.7600, -0.6610,  0.7761, -1.0566,\n",
      "        -0.0543, -0.2026, -0.1769,  0.4849,  0.2984, -0.7402, -0.1547, -0.4021,\n",
      "        -0.0565], device='cuda:0', grad_fn=<DivBackward0>)\n"
     ]
    },
    {
     "name": "stderr",
     "output_type": "stream",
     "text": [
      "Epoch 17: 100%|██████████| 6/6 [00:01<00:00,  4.86it/s, loss=64, acc=0.653, AUC=0.705, val_acc=0.656, val_AUC=0.706]\n"
     ]
    },
    {
     "name": "stdout",
     "output_type": "stream",
     "text": [
      "tensor([ 0.0216,  0.9673, -0.1271,  0.3088,  0.7675, -0.6705,  0.7824, -1.0732,\n",
      "        -0.0598, -0.2088, -0.1624,  0.4920,  0.3280, -0.7496, -0.1531, -0.3904,\n",
      "        -0.0728], device='cuda:0', grad_fn=<DivBackward0>)\n"
     ]
    },
    {
     "name": "stderr",
     "output_type": "stream",
     "text": [
      "Epoch 18: 100%|██████████| 6/6 [00:01<00:00,  4.87it/s, loss=63.6, acc=0.653, AUC=0.709, val_acc=0.669, val_AUC=0.707]\n"
     ]
    },
    {
     "name": "stdout",
     "output_type": "stream",
     "text": [
      "tensor([ 0.0213,  0.9725, -0.1171,  0.3358,  0.7713, -0.6707,  0.7855, -1.0933,\n",
      "        -0.0610, -0.2181, -0.1476,  0.4636,  0.3566, -0.7554, -0.1469, -0.4245,\n",
      "        -0.0719], device='cuda:0', grad_fn=<DivBackward0>)\n"
     ]
    },
    {
     "name": "stderr",
     "output_type": "stream",
     "text": [
      "Epoch 19: 100%|██████████| 6/6 [00:01<00:00,  4.85it/s, loss=63.9, acc=0.651, AUC=0.706, val_acc=0.657, val_AUC=0.702]\n"
     ]
    },
    {
     "name": "stdout",
     "output_type": "stream",
     "text": [
      "tensor([ 0.0102,  0.9740, -0.1154,  0.3499,  0.7940, -0.6667,  0.7842, -1.1141,\n",
      "        -0.0797, -0.2110, -0.1550,  0.4889,  0.3574, -0.7507, -0.1403, -0.4541,\n",
      "        -0.0718], device='cuda:0', grad_fn=<DivBackward0>)\n"
     ]
    },
    {
     "name": "stderr",
     "output_type": "stream",
     "text": [
      "Epoch 20: 100%|██████████| 6/6 [00:01<00:00,  4.81it/s, loss=63.4, acc=0.656, AUC=0.712, val_acc=0.653, val_AUC=0.706]\n"
     ]
    },
    {
     "name": "stdout",
     "output_type": "stream",
     "text": [
      "tensor([-0.0090,  0.9795, -0.1217,  0.3507,  0.8149, -0.6583,  0.7601, -1.1226,\n",
      "        -0.0822, -0.2130, -0.1444,  0.5008,  0.3665, -0.7597, -0.1427, -0.4548,\n",
      "        -0.0642], device='cuda:0', grad_fn=<DivBackward0>)\n"
     ]
    },
    {
     "name": "stderr",
     "output_type": "stream",
     "text": [
      "Epoch 21: 100%|██████████| 6/6 [00:01<00:00,  4.82it/s, loss=63.5, acc=0.656, AUC=0.711, val_acc=0.649, val_AUC=0.703]\n"
     ]
    },
    {
     "name": "stdout",
     "output_type": "stream",
     "text": [
      "tensor([-0.0116,  0.9755, -0.1177,  0.3503,  0.8199, -0.6692,  0.7847, -1.1282,\n",
      "        -0.0799, -0.2249, -0.1363,  0.5238,  0.3588, -0.7632, -0.1513, -0.4661,\n",
      "        -0.0646], device='cuda:0', grad_fn=<DivBackward0>)\n"
     ]
    },
    {
     "name": "stderr",
     "output_type": "stream",
     "text": [
      "Epoch 22: 100%|██████████| 6/6 [00:01<00:00,  4.75it/s, loss=63.3, acc=0.657, AUC=0.713, val_acc=0.652, val_AUC=0.704]\n"
     ]
    },
    {
     "name": "stdout",
     "output_type": "stream",
     "text": [
      "tensor([-0.0143,  0.9904, -0.1307,  0.3481,  0.8142, -0.6631,  0.8070, -1.1372,\n",
      "        -0.0876, -0.2212, -0.1256,  0.5190,  0.3538, -0.7493, -0.1489, -0.4922,\n",
      "        -0.0622], device='cuda:0', grad_fn=<DivBackward0>)\n"
     ]
    },
    {
     "name": "stderr",
     "output_type": "stream",
     "text": [
      "Epoch 23: 100%|██████████| 6/6 [00:01<00:00,  4.74it/s, loss=63.3, acc=0.659, AUC=0.714, val_acc=0.65, val_AUC=0.707]\n"
     ]
    },
    {
     "name": "stdout",
     "output_type": "stream",
     "text": [
      "tensor([-0.0246,  0.9916, -0.1348,  0.3768,  0.8331, -0.6545,  0.8108, -1.1419,\n",
      "        -0.1050, -0.2289, -0.1151,  0.5355,  0.3618, -0.7495, -0.1551, -0.5274,\n",
      "        -0.0728], device='cuda:0', grad_fn=<DivBackward0>)\n"
     ]
    },
    {
     "name": "stderr",
     "output_type": "stream",
     "text": [
      "Epoch 24: 100%|██████████| 6/6 [00:01<00:00,  4.69it/s, loss=63, acc=0.661, AUC=0.717, val_acc=0.661, val_AUC=0.71]\n"
     ]
    },
    {
     "name": "stdout",
     "output_type": "stream",
     "text": [
      "tensor([-0.0486,  1.0019, -0.1480,  0.3936,  0.8233, -0.6516,  0.8200, -1.1361,\n",
      "        -0.1113, -0.2364, -0.0985,  0.5429,  0.3690, -0.7573, -0.1602, -0.5249,\n",
      "        -0.0779], device='cuda:0', grad_fn=<DivBackward0>)\n"
     ]
    },
    {
     "name": "stderr",
     "output_type": "stream",
     "text": [
      "Epoch 25: 100%|██████████| 6/6 [00:01<00:00,  4.68it/s, loss=63, acc=0.663, AUC=0.717, val_acc=0.647, val_AUC=0.703]\n"
     ]
    },
    {
     "name": "stdout",
     "output_type": "stream",
     "text": [
      "tensor([-0.0698,  1.0128, -0.1435,  0.3946,  0.8134, -0.6519,  0.8323, -1.1540,\n",
      "        -0.0980, -0.2315, -0.1063,  0.5463,  0.3891, -0.7553, -0.1705, -0.5316,\n",
      "        -0.0764], device='cuda:0', grad_fn=<DivBackward0>)\n"
     ]
    },
    {
     "name": "stderr",
     "output_type": "stream",
     "text": [
      "Epoch 26: 100%|██████████| 6/6 [00:01<00:00,  4.66it/s, loss=62.9, acc=0.661, AUC=0.719, val_acc=0.661, val_AUC=0.708]\n"
     ]
    },
    {
     "name": "stdout",
     "output_type": "stream",
     "text": [
      "tensor([-0.0751,  1.0120, -0.1289,  0.4099,  0.8352, -0.6453,  0.8155, -1.1668,\n",
      "        -0.0871, -0.2343, -0.1006,  0.5419,  0.3851, -0.7618, -0.1847, -0.5305,\n",
      "        -0.0846], device='cuda:0', grad_fn=<DivBackward0>)\n"
     ]
    },
    {
     "name": "stderr",
     "output_type": "stream",
     "text": [
      "Epoch 27: 100%|██████████| 6/6 [00:01<00:00,  4.68it/s, loss=62.9, acc=0.66, AUC=0.719, val_acc=0.655, val_AUC=0.714]\n"
     ]
    },
    {
     "name": "stdout",
     "output_type": "stream",
     "text": [
      "tensor([-0.0879,  1.0143, -0.1342,  0.4074,  0.8452, -0.6454,  0.8130, -1.1651,\n",
      "        -0.0775, -0.2424, -0.0890,  0.5512,  0.3852, -0.7549, -0.1749, -0.5589,\n",
      "        -0.0863], device='cuda:0', grad_fn=<DivBackward0>)\n"
     ]
    },
    {
     "name": "stderr",
     "output_type": "stream",
     "text": [
      "Epoch 28: 100%|██████████| 6/6 [00:01<00:00,  4.64it/s, loss=62.9, acc=0.663, AUC=0.72, val_acc=0.662, val_AUC=0.715]\n"
     ]
    },
    {
     "name": "stdout",
     "output_type": "stream",
     "text": [
      "tensor([-0.1201,  0.9924, -0.1400,  0.4239,  0.8683, -0.6555,  0.7935, -1.1647,\n",
      "        -0.0775, -0.2370, -0.0769,  0.5776,  0.4120, -0.7605, -0.1750, -0.5709,\n",
      "        -0.0897], device='cuda:0', grad_fn=<DivBackward0>)\n"
     ]
    },
    {
     "name": "stderr",
     "output_type": "stream",
     "text": [
      "Epoch 29: 100%|██████████| 6/6 [00:01<00:00,  4.64it/s, loss=62.9, acc=0.661, AUC=0.719, val_acc=0.647, val_AUC=0.709]\n"
     ]
    },
    {
     "name": "stdout",
     "output_type": "stream",
     "text": [
      "tensor([-0.1314,  0.9940, -0.1246,  0.4225,  0.8578, -0.6620,  0.7984, -1.1731,\n",
      "        -0.0736, -0.2429, -0.0731,  0.5834,  0.4196, -0.7505, -0.1871, -0.5740,\n",
      "        -0.0833], device='cuda:0', grad_fn=<DivBackward0>)\n"
     ]
    },
    {
     "name": "stderr",
     "output_type": "stream",
     "text": [
      "Epoch 30: 100%|██████████| 6/6 [00:01<00:00,  4.60it/s, loss=62.7, acc=0.666, AUC=0.723, val_acc=0.666, val_AUC=0.713]\n"
     ]
    },
    {
     "name": "stdout",
     "output_type": "stream",
     "text": [
      "tensor([-0.1465,  0.9850, -0.1027,  0.4292,  0.8756, -0.6721,  0.8084, -1.1721,\n",
      "        -0.0666, -0.2348, -0.0716,  0.6002,  0.3874, -0.7481, -0.2029, -0.5834,\n",
      "        -0.0851], device='cuda:0', grad_fn=<DivBackward0>)\n"
     ]
    },
    {
     "name": "stderr",
     "output_type": "stream",
     "text": [
      "Epoch 31: 100%|██████████| 6/6 [00:01<00:00,  4.64it/s, loss=62.8, acc=0.664, AUC=0.721, val_acc=0.664, val_AUC=0.714]\n"
     ]
    },
    {
     "name": "stdout",
     "output_type": "stream",
     "text": [
      "tensor([-0.1450,  0.9981, -0.0949,  0.4339,  0.8720, -0.6511,  0.8002, -1.1720,\n",
      "        -0.0658, -0.2411, -0.0630,  0.5834,  0.4018, -0.7503, -0.2073, -0.6042,\n",
      "        -0.0947], device='cuda:0', grad_fn=<DivBackward0>)\n"
     ]
    },
    {
     "name": "stderr",
     "output_type": "stream",
     "text": [
      "Epoch 32: 100%|██████████| 6/6 [00:01<00:00,  4.60it/s, loss=62.5, acc=0.665, AUC=0.724, val_acc=0.673, val_AUC=0.718]\n"
     ]
    },
    {
     "name": "stdout",
     "output_type": "stream",
     "text": [
      "tensor([-0.1596,  0.9893, -0.1011,  0.4428,  0.8717, -0.6507,  0.7959, -1.1646,\n",
      "        -0.0631, -0.2437, -0.0568,  0.6045,  0.4007, -0.7529, -0.2011, -0.6172,\n",
      "        -0.0940], device='cuda:0', grad_fn=<DivBackward0>)\n"
     ]
    },
    {
     "name": "stderr",
     "output_type": "stream",
     "text": [
      "Epoch 33: 100%|██████████| 6/6 [00:01<00:00,  4.61it/s, loss=62.5, acc=0.669, AUC=0.725, val_acc=0.657, val_AUC=0.717]\n"
     ]
    },
    {
     "name": "stdout",
     "output_type": "stream",
     "text": [
      "tensor([-0.1815,  0.9958, -0.0960,  0.4378,  0.8735, -0.6381,  0.8044, -1.1590,\n",
      "        -0.0702, -0.2404, -0.0453,  0.6048,  0.3895, -0.7636, -0.2020, -0.6243,\n",
      "        -0.0854], device='cuda:0', grad_fn=<DivBackward0>)\n"
     ]
    },
    {
     "name": "stderr",
     "output_type": "stream",
     "text": [
      "Epoch 34: 100%|██████████| 6/6 [00:01<00:00,  4.44it/s, loss=62.4, acc=0.666, AUC=0.725, val_acc=0.67, val_AUC=0.712]\n"
     ]
    },
    {
     "name": "stdout",
     "output_type": "stream",
     "text": [
      "tensor([-0.2097,  1.0075, -0.0702,  0.4664,  0.8814, -0.6229,  0.7876, -1.1602,\n",
      "        -0.0698, -0.2434, -0.0558,  0.6105,  0.3734, -0.7542, -0.2186, -0.6333,\n",
      "        -0.0888], device='cuda:0', grad_fn=<DivBackward0>)\n"
     ]
    },
    {
     "name": "stderr",
     "output_type": "stream",
     "text": [
      "Epoch 35: 100%|██████████| 6/6 [00:01<00:00,  4.59it/s, loss=62.3, acc=0.667, AUC=0.726, val_acc=0.665, val_AUC=0.721]\n"
     ]
    },
    {
     "name": "stdout",
     "output_type": "stream",
     "text": [
      "tensor([-0.2261,  1.0018, -0.0849,  0.4686,  0.8803, -0.6230,  0.7833, -1.1559,\n",
      "        -0.0538, -0.2422, -0.0609,  0.6156,  0.3896, -0.7616, -0.2074, -0.6321,\n",
      "        -0.0911], device='cuda:0', grad_fn=<DivBackward0>)\n"
     ]
    },
    {
     "name": "stderr",
     "output_type": "stream",
     "text": [
      "Epoch 36: 100%|██████████| 6/6 [00:01<00:00,  4.57it/s, loss=62.3, acc=0.667, AUC=0.726, val_acc=0.659, val_AUC=0.712]\n"
     ]
    },
    {
     "name": "stdout",
     "output_type": "stream",
     "text": [
      "tensor([-0.2180,  1.0026, -0.0847,  0.4836,  0.8979, -0.6266,  0.7722, -1.1501,\n",
      "        -0.0578, -0.2455, -0.0557,  0.6067,  0.3859, -0.7538, -0.2040, -0.6536,\n",
      "        -0.0992], device='cuda:0', grad_fn=<DivBackward0>)\n"
     ]
    },
    {
     "name": "stderr",
     "output_type": "stream",
     "text": [
      "Epoch 37: 100%|██████████| 6/6 [00:01<00:00,  4.58it/s, loss=62.4, acc=0.668, AUC=0.725, val_acc=0.657, val_AUC=0.717]\n"
     ]
    },
    {
     "name": "stdout",
     "output_type": "stream",
     "text": [
      "tensor([-0.2371,  0.9978, -0.0782,  0.4911,  0.9079, -0.6078,  0.7605, -1.1552,\n",
      "        -0.0609, -0.2429, -0.0570,  0.5998,  0.3959, -0.7570, -0.2088, -0.6585,\n",
      "        -0.0895], device='cuda:0', grad_fn=<DivBackward0>)\n"
     ]
    },
    {
     "name": "stderr",
     "output_type": "stream",
     "text": [
      "Epoch 38: 100%|██████████| 6/6 [00:01<00:00,  4.55it/s, loss=62.4, acc=0.667, AUC=0.727, val_acc=0.667, val_AUC=0.715]\n"
     ]
    },
    {
     "name": "stdout",
     "output_type": "stream",
     "text": [
      "tensor([-0.2406,  0.9888, -0.0813,  0.4986,  0.8968, -0.6237,  0.7874, -1.1595,\n",
      "        -0.0613, -0.2492, -0.0593,  0.5939,  0.4233, -0.7506, -0.2237, -0.6491,\n",
      "        -0.0906], device='cuda:0', grad_fn=<DivBackward0>)\n"
     ]
    },
    {
     "name": "stderr",
     "output_type": "stream",
     "text": [
      "Epoch 39: 100%|██████████| 6/6 [00:01<00:00,  4.57it/s, loss=62, acc=0.667, AUC=0.73, val_acc=0.661, val_AUC=0.725]\n"
     ]
    },
    {
     "name": "stdout",
     "output_type": "stream",
     "text": [
      "tensor([-0.2434,  1.0039, -0.0868,  0.5034,  0.8897, -0.6322,  0.7930, -1.1428,\n",
      "        -0.0800, -0.2565, -0.0511,  0.5777,  0.4280, -0.7480, -0.2209, -0.6435,\n",
      "        -0.0905], device='cuda:0', grad_fn=<DivBackward0>)\n"
     ]
    },
    {
     "name": "stderr",
     "output_type": "stream",
     "text": [
      "Epoch 40: 100%|██████████| 6/6 [00:01<00:00,  4.55it/s, loss=62, acc=0.67, AUC=0.732, val_acc=0.664, val_AUC=0.718]\n"
     ]
    },
    {
     "name": "stdout",
     "output_type": "stream",
     "text": [
      "tensor([-0.2510,  1.0025, -0.0849,  0.5130,  0.8827, -0.6236,  0.7832, -1.1431,\n",
      "        -0.0545, -0.2556, -0.0453,  0.5960,  0.4184, -0.7506, -0.2310, -0.6615,\n",
      "        -0.0945], device='cuda:0', grad_fn=<DivBackward0>)\n"
     ]
    },
    {
     "name": "stderr",
     "output_type": "stream",
     "text": [
      "Epoch 41: 100%|██████████| 6/6 [00:01<00:00,  4.57it/s, loss=62, acc=0.67, AUC=0.73, val_acc=0.659, val_AUC=0.722]\n"
     ]
    },
    {
     "name": "stdout",
     "output_type": "stream",
     "text": [
      "tensor([-0.2707,  1.0097, -0.0725,  0.5170,  0.8748, -0.6301,  0.7775, -1.1389,\n",
      "        -0.0527, -0.2529, -0.0502,  0.5956,  0.4274, -0.7510, -0.2158, -0.6763,\n",
      "        -0.0908], device='cuda:0', grad_fn=<DivBackward0>)\n"
     ]
    },
    {
     "name": "stderr",
     "output_type": "stream",
     "text": [
      "Epoch 42: 100%|██████████| 6/6 [00:01<00:00,  3.95it/s, loss=62, acc=0.67, AUC=0.731, val_acc=0.662, val_AUC=0.723]\n"
     ]
    },
    {
     "name": "stdout",
     "output_type": "stream",
     "text": [
      "tensor([-0.2861,  1.0137, -0.0753,  0.5147,  0.8708, -0.6222,  0.7803, -1.1331,\n",
      "        -0.0585, -0.2524, -0.0491,  0.5919,  0.4393, -0.7464, -0.2151, -0.6775,\n",
      "        -0.0951], device='cuda:0', grad_fn=<DivBackward0>)\n"
     ]
    },
    {
     "name": "stderr",
     "output_type": "stream",
     "text": [
      "Epoch 43: 100%|██████████| 6/6 [00:01<00:00,  4.54it/s, loss=62, acc=0.668, AUC=0.731, val_acc=0.663, val_AUC=0.72]\n"
     ]
    },
    {
     "name": "stdout",
     "output_type": "stream",
     "text": [
      "tensor([-0.2927,  1.0147, -0.0561,  0.5336,  0.8745, -0.6254,  0.7802, -1.1360,\n",
      "        -0.0567, -0.2654, -0.0610,  0.5917,  0.4387, -0.7353, -0.2269, -0.6822,\n",
      "        -0.0956], device='cuda:0', grad_fn=<DivBackward0>)\n"
     ]
    },
    {
     "name": "stderr",
     "output_type": "stream",
     "text": [
      "Epoch 44: 100%|██████████| 6/6 [00:01<00:00,  3.96it/s, loss=61.7, acc=0.669, AUC=0.735, val_acc=0.668, val_AUC=0.724]\n"
     ]
    },
    {
     "name": "stdout",
     "output_type": "stream",
     "text": [
      "tensor([-0.2940,  1.0003, -0.0561,  0.5299,  0.8839, -0.6292,  0.7580, -1.1319,\n",
      "        -0.0488, -0.2490, -0.0425,  0.5836,  0.4427, -0.7484, -0.2322, -0.6748,\n",
      "        -0.0914], device='cuda:0', grad_fn=<DivBackward0>)\n"
     ]
    },
    {
     "name": "stderr",
     "output_type": "stream",
     "text": [
      "Epoch 45: 100%|██████████| 6/6 [00:01<00:00,  4.57it/s, loss=61.8, acc=0.673, AUC=0.733, val_acc=0.658, val_AUC=0.722]\n"
     ]
    },
    {
     "name": "stdout",
     "output_type": "stream",
     "text": [
      "tensor([-0.2851,  0.9971, -0.0454,  0.5437,  0.8912, -0.6319,  0.7416, -1.1254,\n",
      "        -0.0430, -0.2543, -0.0353,  0.5910,  0.4255, -0.7453, -0.2192, -0.7023,\n",
      "        -0.1029], device='cuda:0', grad_fn=<DivBackward0>)\n"
     ]
    },
    {
     "name": "stderr",
     "output_type": "stream",
     "text": [
      "Epoch 46: 100%|██████████| 6/6 [00:01<00:00,  4.02it/s, loss=61.6, acc=0.672, AUC=0.735, val_acc=0.672, val_AUC=0.722]\n"
     ]
    },
    {
     "name": "stdout",
     "output_type": "stream",
     "text": [
      "tensor([-0.3150,  1.0095, -0.0487,  0.5379,  0.9156, -0.6213,  0.7520, -1.1146,\n",
      "        -0.0450, -0.2701, -0.0291,  0.5947,  0.4134, -0.7451, -0.2215, -0.7074,\n",
      "        -0.1053], device='cuda:0', grad_fn=<DivBackward0>)\n"
     ]
    },
    {
     "name": "stderr",
     "output_type": "stream",
     "text": [
      "Epoch 47: 100%|██████████| 6/6 [00:01<00:00,  4.55it/s, loss=61.8, acc=0.671, AUC=0.733, val_acc=0.667, val_AUC=0.721]\n"
     ]
    },
    {
     "name": "stdout",
     "output_type": "stream",
     "text": [
      "tensor([-0.3069,  0.9942, -0.0493,  0.5519,  0.9036, -0.6157,  0.7452, -1.1130,\n",
      "        -0.0467, -0.2645, -0.0170,  0.5933,  0.4160, -0.7537, -0.2241, -0.7071,\n",
      "        -0.1061], device='cuda:0', grad_fn=<DivBackward0>)\n"
     ]
    },
    {
     "name": "stderr",
     "output_type": "stream",
     "text": [
      "Epoch 48: 100%|██████████| 6/6 [00:01<00:00,  4.58it/s, loss=61.8, acc=0.672, AUC=0.734, val_acc=0.661, val_AUC=0.718]\n"
     ]
    },
    {
     "name": "stdout",
     "output_type": "stream",
     "text": [
      "tensor([-0.3094,  0.9881, -0.0387,  0.5402,  0.8915, -0.6086,  0.7341, -1.1163,\n",
      "        -0.0367, -0.2738, -0.0117,  0.5907,  0.4399, -0.7576, -0.2192, -0.7106,\n",
      "        -0.1018], device='cuda:0', grad_fn=<DivBackward0>)\n"
     ]
    },
    {
     "name": "stderr",
     "output_type": "stream",
     "text": [
      "Epoch 49: 100%|██████████| 6/6 [00:01<00:00,  4.58it/s, loss=61.6, acc=0.673, AUC=0.736, val_acc=0.674, val_AUC=0.73]\n"
     ]
    },
    {
     "name": "stdout",
     "output_type": "stream",
     "text": [
      "tensor([-0.3111,  0.9870, -0.0510,  0.5682,  0.9061, -0.5935,  0.7086, -1.1068,\n",
      "        -0.0393, -0.2755, -0.0118,  0.6190,  0.4190, -0.7601, -0.2272, -0.7202,\n",
      "        -0.1115], device='cuda:0', grad_fn=<DivBackward0>)\n"
     ]
    },
    {
     "name": "stderr",
     "output_type": "stream",
     "text": [
      "Epoch 50: 100%|██████████| 6/6 [00:01<00:00,  4.56it/s, loss=61.2, acc=0.678, AUC=0.74, val_acc=0.648, val_AUC=0.719]"
     ]
    },
    {
     "name": "stdout",
     "output_type": "stream",
     "text": [
      "tensor([-0.3043,  0.9796, -0.0453,  0.5596,  0.9112, -0.5757,  0.7004, -1.1088,\n",
      "        -0.0493, -0.2667, -0.0271,  0.6322,  0.4087, -0.7553, -0.2240, -0.7297,\n",
      "        -0.1054], device='cuda:0', grad_fn=<DivBackward0>)\n",
      "test_acc: 0.6621519923210144\n",
      "test_auc: 0.714853347839884\n",
      "-----------------------------------------\n"
     ]
    },
    {
     "name": "stderr",
     "output_type": "stream",
     "text": [
      "\n"
     ]
    }
   ],
   "source": [
    "train_one_run_(get_run_config())"
   ]
  },
  {
   "cell_type": "code",
   "execution_count": null,
   "metadata": {},
   "outputs": [],
   "source": []
  },
  {
   "cell_type": "markdown",
   "metadata": {},
   "source": []
  }
 ],
 "metadata": {
  "kernelspec": {
   "display_name": "GNN",
   "language": "python",
   "name": "python3"
  },
  "language_info": {
   "codemirror_mode": {
    "name": "ipython",
    "version": 3
   },
   "file_extension": ".py",
   "mimetype": "text/x-python",
   "name": "python",
   "nbconvert_exporter": "python",
   "pygments_lexer": "ipython3",
   "version": "3.10.12"
  },
  "orig_nbformat": 4
 },
 "nbformat": 4,
 "nbformat_minor": 2
}
