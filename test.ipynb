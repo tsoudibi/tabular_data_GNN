{
 "cells": [
  {
   "cell_type": "code",
   "execution_count": 1,
   "metadata": {},
   "outputs": [
    {
     "name": "stderr",
     "output_type": "stream",
     "text": [
      "/home/tsou/.conda/envs/pyg/lib/python3.10/site-packages/tqdm/auto.py:21: TqdmWarning: IProgress not found. Please update jupyter and ipywidgets. See https://ipywidgets.readthedocs.io/en/stable/user_install.html\n",
      "  from .autonotebook import tqdm as notebook_tqdm\n"
     ]
    },
    {
     "name": "stdout",
     "output_type": "stream",
     "text": [
      "=================[dataset is set to adult ]=================\n",
      "[Tensorflow] Set seed failed,details are: No module named 'tensorflow'\n",
      "[Pytorch] Seed set successfully\n",
      "[Pytorch Geometric] Seed set successfully\n",
      "[Sklearn] Seed set successfully\n",
      "=================[run config is loaded]=================\n"
     ]
    }
   ],
   "source": [
    "from trainer import *"
   ]
  },
  {
   "cell_type": "code",
   "execution_count": 2,
   "metadata": {},
   "outputs": [
    {
     "name": "stdout",
     "output_type": "stream",
     "text": [
      "epoch 0 -----------------------------------------\n",
      "epoch 1 -----------------------------------------\n",
      "epoch 2 -----------------------------------------\n",
      "epoch 3 -----------------------------------------\n",
      "epoch 4 -----------------------------------------\n",
      "done\n"
     ]
    }
   ],
   "source": [
    "test_run()"
   ]
  },
  {
   "cell_type": "code",
   "execution_count": 3,
   "metadata": {},
   "outputs": [
    {
     "data": {
      "text/plain": [
       "tensor([ 0.1550, -0.8710, -0.0069,  0.3865,  0.9530,  0.5466, -0.5152, -0.5235,\n",
       "        -0.3083,  0.5064,  0.0573, -0.7715,  0.3267,  0.0650], device='cuda:0',\n",
       "       grad_fn=<DivBackward0>)"
      ]
     },
     "execution_count": 3,
     "metadata": {},
     "output_type": "execute_result"
    }
   ],
   "source": [
    "extractor = get_feature_importance_extractor()\n",
    "extractor.get()"
   ]
  },
  {
   "cell_type": "code",
   "execution_count": 4,
   "metadata": {},
   "outputs": [
    {
     "name": "stdout",
     "output_type": "stream",
     "text": [
      "=================[ 1 Fold ]=================\n",
      "train_data: torch.Size([35166, 14])\n",
      "train_label: torch.Size([35166])\n",
      "validation_data: torch.Size([3907, 14])\n",
      "validation_label: torch.Size([3907])\n",
      "test_data: torch.Size([9769, 14])\n",
      "test_label: torch.Size([9769])\n",
      "-----------------------------------------\n"
     ]
    },
    {
     "name": "stderr",
     "output_type": "stream",
     "text": [
      "Epoch 1: 100%|██████████| 282/282 [00:11<00:00, 23.84it/s, loss=43, acc=0.833, AUC=0.884, val_acc=0.853, val_AUC=0.904]\n"
     ]
    },
    {
     "name": "stdout",
     "output_type": "stream",
     "text": [
      "tensor([-0.2816, -0.2759,  0.5072, -0.4978, -0.9631, -0.1545, -0.2100,  0.1410,\n",
      "         0.7695,  0.3868,  0.6920, -0.5621,  0.3446,  0.1039], device='cuda:0',\n",
      "       grad_fn=<DivBackward0>)\n"
     ]
    },
    {
     "name": "stderr",
     "output_type": "stream",
     "text": [
      "Epoch 2: 100%|██████████| 282/282 [00:11<00:00, 24.03it/s, loss=39.6, acc=0.848, AUC=0.903, val_acc=0.857, val_AUC=0.911]\n"
     ]
    },
    {
     "name": "stdout",
     "output_type": "stream",
     "text": [
      "tensor([-0.4010, -0.3571,  0.7917, -0.6751, -0.8778, -0.1474, -0.1268,  0.1665,\n",
      "         0.9236,  0.4332,  0.6026, -0.5656,  0.3326, -0.0995], device='cuda:0',\n",
      "       grad_fn=<DivBackward0>)\n"
     ]
    },
    {
     "name": "stderr",
     "output_type": "stream",
     "text": [
      "Epoch 3: 100%|██████████| 282/282 [00:11<00:00, 24.33it/s, loss=39, acc=0.85, AUC=0.906, val_acc=0.857, val_AUC=0.914]\n"
     ]
    },
    {
     "name": "stdout",
     "output_type": "stream",
     "text": [
      "tensor([-0.3686, -0.4842,  0.9107, -0.7312, -0.7533, -0.2122, -0.1753,  0.1567,\n",
      "         0.9529,  0.4544,  0.5211, -0.4793,  0.3723, -0.1643], device='cuda:0',\n",
      "       grad_fn=<DivBackward0>)\n"
     ]
    },
    {
     "name": "stderr",
     "output_type": "stream",
     "text": [
      "Epoch 4: 100%|██████████| 282/282 [00:11<00:00, 24.53it/s, loss=38.5, acc=0.852, AUC=0.909, val_acc=0.85, val_AUC=0.914]\n"
     ]
    },
    {
     "name": "stdout",
     "output_type": "stream",
     "text": [
      "tensor([-0.3584, -0.5497,  0.9553, -0.7764, -0.6140, -0.2108, -0.2235,  0.1568,\n",
      "         0.9958,  0.4601,  0.4393, -0.4890,  0.3745, -0.1600], device='cuda:0',\n",
      "       grad_fn=<DivBackward0>)\n"
     ]
    },
    {
     "name": "stderr",
     "output_type": "stream",
     "text": [
      "Epoch 5: 100%|██████████| 282/282 [00:11<00:00, 24.43it/s, loss=38.1, acc=0.855, AUC=0.911, val_acc=0.855, val_AUC=0.914]\n"
     ]
    },
    {
     "name": "stdout",
     "output_type": "stream",
     "text": [
      "tensor([-0.3543, -0.5306,  0.9496, -0.7863, -0.6688, -0.1549, -0.2303,  0.1830,\n",
      "         0.9773,  0.4526,  0.4375, -0.4966,  0.3867, -0.1649], device='cuda:0',\n",
      "       grad_fn=<DivBackward0>)\n"
     ]
    },
    {
     "name": "stderr",
     "output_type": "stream",
     "text": [
      "Epoch 6: 100%|██████████| 282/282 [00:11<00:00, 24.69it/s, loss=38, acc=0.854, AUC=0.911, val_acc=0.854, val_AUC=0.913]\n"
     ]
    },
    {
     "name": "stdout",
     "output_type": "stream",
     "text": [
      "tensor([-0.3745, -0.4831,  0.9517, -0.7980, -0.6939, -0.1206, -0.2004,  0.2144,\n",
      "         0.9348,  0.4719,  0.4289, -0.5087,  0.3536, -0.1761], device='cuda:0',\n",
      "       grad_fn=<DivBackward0>)\n"
     ]
    },
    {
     "name": "stderr",
     "output_type": "stream",
     "text": [
      "Epoch 7: 100%|██████████| 282/282 [00:11<00:00, 24.58it/s, loss=37.7, acc=0.855, AUC=0.913, val_acc=0.852, val_AUC=0.915]\n"
     ]
    },
    {
     "name": "stdout",
     "output_type": "stream",
     "text": [
      "tensor([-0.4173, -0.5224,  0.9694, -0.7735, -0.5883, -0.1566, -0.1454,  0.2120,\n",
      "         0.9304,  0.4605,  0.3790, -0.4475,  0.2763, -0.1766], device='cuda:0',\n",
      "       grad_fn=<DivBackward0>)\n"
     ]
    },
    {
     "name": "stderr",
     "output_type": "stream",
     "text": [
      "Epoch 8: 100%|██████████| 282/282 [00:11<00:00, 24.59it/s, loss=37.5, acc=0.857, AUC=0.914, val_acc=0.856, val_AUC=0.914]\n"
     ]
    },
    {
     "name": "stdout",
     "output_type": "stream",
     "text": [
      "tensor([-0.4132, -0.5134,  0.9913, -0.7792, -0.5689, -0.1481, -0.1605,  0.2207,\n",
      "         0.9290,  0.4779,  0.3836, -0.4753,  0.2756, -0.2195], device='cuda:0',\n",
      "       grad_fn=<DivBackward0>)\n"
     ]
    },
    {
     "name": "stderr",
     "output_type": "stream",
     "text": [
      "Epoch 9: 100%|██████████| 282/282 [00:11<00:00, 24.47it/s, loss=37.4, acc=0.857, AUC=0.914, val_acc=0.855, val_AUC=0.914]\n"
     ]
    },
    {
     "name": "stdout",
     "output_type": "stream",
     "text": [
      "tensor([-0.4117, -0.5255,  0.9991, -0.7692, -0.5530, -0.1272, -0.1731,  0.2204,\n",
      "         0.9289,  0.4968,  0.3957, -0.4859,  0.2426, -0.2379], device='cuda:0',\n",
      "       grad_fn=<DivBackward0>)\n"
     ]
    },
    {
     "name": "stderr",
     "output_type": "stream",
     "text": [
      "Epoch 10: 100%|██████████| 282/282 [00:11<00:00, 24.55it/s, loss=37.3, acc=0.857, AUC=0.915, val_acc=0.858, val_AUC=0.914]\n"
     ]
    },
    {
     "name": "stdout",
     "output_type": "stream",
     "text": [
      "tensor([-0.4092, -0.5326,  1.0116, -0.7725, -0.4972, -0.1284, -0.1805,  0.2201,\n",
      "         0.9235,  0.5039,  0.3793, -0.5068,  0.2322, -0.2434], device='cuda:0',\n",
      "       grad_fn=<DivBackward0>)\n"
     ]
    },
    {
     "name": "stderr",
     "output_type": "stream",
     "text": [
      "Epoch 11: 100%|██████████| 282/282 [00:11<00:00, 24.74it/s, loss=37.1, acc=0.858, AUC=0.916, val_acc=0.854, val_AUC=0.913]\n"
     ]
    },
    {
     "name": "stdout",
     "output_type": "stream",
     "text": [
      "tensor([-0.3907, -0.5875,  0.9963, -0.7534, -0.4846, -0.1165, -0.1719,  0.1998,\n",
      "         0.9175,  0.5024,  0.3637, -0.5255,  0.2958, -0.2452], device='cuda:0',\n",
      "       grad_fn=<DivBackward0>)\n"
     ]
    },
    {
     "name": "stderr",
     "output_type": "stream",
     "text": [
      "Epoch 12: 100%|██████████| 282/282 [00:11<00:00, 24.49it/s, loss=37.2, acc=0.859, AUC=0.916, val_acc=0.86, val_AUC=0.915]\n"
     ]
    },
    {
     "name": "stdout",
     "output_type": "stream",
     "text": [
      "tensor([-0.3456, -0.6088,  1.0079, -0.7245, -0.5179, -0.1203, -0.1861,  0.2003,\n",
      "         0.8726,  0.5050,  0.3540, -0.5158,  0.3240, -0.2448], device='cuda:0',\n",
      "       grad_fn=<DivBackward0>)\n"
     ]
    },
    {
     "name": "stderr",
     "output_type": "stream",
     "text": [
      "Epoch 13: 100%|██████████| 282/282 [00:11<00:00, 24.79it/s, loss=36.9, acc=0.86, AUC=0.917, val_acc=0.853, val_AUC=0.913]\n"
     ]
    },
    {
     "name": "stdout",
     "output_type": "stream",
     "text": [
      "tensor([-0.3667, -0.6441,  1.0098, -0.7029, -0.5058, -0.0925, -0.2084,  0.2042,\n",
      "         0.8674,  0.5018,  0.3593, -0.4851,  0.3412, -0.2781], device='cuda:0',\n",
      "       grad_fn=<DivBackward0>)\n"
     ]
    },
    {
     "name": "stderr",
     "output_type": "stream",
     "text": [
      "Epoch 14: 100%|██████████| 282/282 [00:11<00:00, 24.76it/s, loss=36.9, acc=0.859, AUC=0.917, val_acc=0.857, val_AUC=0.915]\n"
     ]
    },
    {
     "name": "stdout",
     "output_type": "stream",
     "text": [
      "tensor([-0.4017, -0.6360,  1.0184, -0.7014, -0.4467, -0.0570, -0.1931,  0.2154,\n",
      "         0.8620,  0.5033,  0.3557, -0.5102,  0.2840, -0.2926], device='cuda:0',\n",
      "       grad_fn=<DivBackward0>)\n"
     ]
    },
    {
     "name": "stderr",
     "output_type": "stream",
     "text": [
      "Epoch 15: 100%|██████████| 282/282 [00:11<00:00, 24.67it/s, loss=36.8, acc=0.859, AUC=0.917, val_acc=0.859, val_AUC=0.915]\n"
     ]
    },
    {
     "name": "stdout",
     "output_type": "stream",
     "text": [
      "tensor([-0.4222, -0.6217,  1.0073, -0.7090, -0.3917, -0.0682, -0.2422,  0.2380,\n",
      "         0.8645,  0.5188,  0.3559, -0.4907,  0.2511, -0.2899], device='cuda:0',\n",
      "       grad_fn=<DivBackward0>)\n"
     ]
    },
    {
     "name": "stderr",
     "output_type": "stream",
     "text": [
      "Epoch 16: 100%|██████████| 282/282 [00:11<00:00, 24.55it/s, loss=36.5, acc=0.86, AUC=0.918, val_acc=0.856, val_AUC=0.914]\n"
     ]
    },
    {
     "name": "stdout",
     "output_type": "stream",
     "text": [
      "tensor([-0.4096, -0.6420,  1.0020, -0.7214, -0.3491, -0.0371, -0.2560,  0.2356,\n",
      "         0.8562,  0.5144,  0.3219, -0.4740,  0.2510, -0.2917], device='cuda:0',\n",
      "       grad_fn=<DivBackward0>)\n"
     ]
    },
    {
     "name": "stderr",
     "output_type": "stream",
     "text": [
      "Epoch 17: 100%|██████████| 282/282 [00:11<00:00, 24.61it/s, loss=36.6, acc=0.86, AUC=0.918, val_acc=0.862, val_AUC=0.916]\n"
     ]
    },
    {
     "name": "stdout",
     "output_type": "stream",
     "text": [
      "tensor([-0.3854, -0.6607,  0.9894, -0.7082, -0.3164, -0.0203, -0.2565,  0.2462,\n",
      "         0.8644,  0.5198,  0.3027, -0.5091,  0.2415, -0.3074], device='cuda:0',\n",
      "       grad_fn=<DivBackward0>)\n"
     ]
    },
    {
     "name": "stderr",
     "output_type": "stream",
     "text": [
      "Epoch 18: 100%|██████████| 282/282 [00:11<00:00, 24.73it/s, loss=36.4, acc=0.86, AUC=0.919, val_acc=0.862, val_AUC=0.915]\n"
     ]
    },
    {
     "name": "stdout",
     "output_type": "stream",
     "text": [
      "tensor([-0.4089, -0.6536,  0.9871, -0.6809, -0.3241, -0.0155, -0.2241,  0.2677,\n",
      "         0.8343,  0.5284,  0.2877, -0.5042,  0.2375, -0.3313], device='cuda:0',\n",
      "       grad_fn=<DivBackward0>)\n"
     ]
    },
    {
     "name": "stderr",
     "output_type": "stream",
     "text": [
      "Epoch 19: 100%|██████████| 282/282 [00:11<00:00, 24.62it/s, loss=36.4, acc=0.861, AUC=0.919, val_acc=0.861, val_AUC=0.916]\n"
     ]
    },
    {
     "name": "stdout",
     "output_type": "stream",
     "text": [
      "tensor([-0.4042, -0.6520,  0.9898, -0.6815, -0.3454, -0.0224, -0.1916,  0.2684,\n",
      "         0.8294,  0.5126,  0.2854, -0.5146,  0.2272, -0.3011], device='cuda:0',\n",
      "       grad_fn=<DivBackward0>)\n"
     ]
    },
    {
     "name": "stderr",
     "output_type": "stream",
     "text": [
      "Epoch 20: 100%|██████████| 282/282 [00:11<00:00, 24.52it/s, loss=36.3, acc=0.862, AUC=0.92, val_acc=0.854, val_AUC=0.912]\n"
     ]
    },
    {
     "name": "stdout",
     "output_type": "stream",
     "text": [
      "tensor([-0.3864, -0.6595,  0.9755, -0.6709, -0.3344, -0.0547, -0.2118,  0.2743,\n",
      "         0.8279,  0.5136,  0.2822, -0.5188,  0.2431, -0.2799], device='cuda:0',\n",
      "       grad_fn=<DivBackward0>)\n"
     ]
    },
    {
     "name": "stderr",
     "output_type": "stream",
     "text": [
      "Epoch 21: 100%|██████████| 282/282 [00:11<00:00, 24.60it/s, loss=36.1, acc=0.862, AUC=0.92, val_acc=0.856, val_AUC=0.915]\n"
     ]
    },
    {
     "name": "stdout",
     "output_type": "stream",
     "text": [
      "tensor([-0.4024, -0.6772,  0.9639, -0.6707, -0.3051, -0.0482, -0.2001,  0.2546,\n",
      "         0.8356,  0.5033,  0.2663, -0.5227,  0.2479, -0.2453], device='cuda:0',\n",
      "       grad_fn=<DivBackward0>)\n"
     ]
    },
    {
     "name": "stderr",
     "output_type": "stream",
     "text": [
      "Epoch 22: 100%|██████████| 282/282 [00:11<00:00, 24.75it/s, loss=36.1, acc=0.862, AUC=0.92, val_acc=0.863, val_AUC=0.916]\n"
     ]
    },
    {
     "name": "stdout",
     "output_type": "stream",
     "text": [
      "tensor([-0.4134, -0.6882,  0.9446, -0.6381, -0.3212, -0.0433, -0.2018,  0.2718,\n",
      "         0.8295,  0.5135,  0.2452, -0.5340,  0.2265, -0.1911], device='cuda:0',\n",
      "       grad_fn=<DivBackward0>)\n"
     ]
    },
    {
     "name": "stderr",
     "output_type": "stream",
     "text": [
      "Epoch 23: 100%|██████████| 282/282 [00:11<00:00, 24.68it/s, loss=36, acc=0.862, AUC=0.921, val_acc=0.858, val_AUC=0.915]\n"
     ]
    },
    {
     "name": "stdout",
     "output_type": "stream",
     "text": [
      "tensor([-0.4007, -0.6978,  0.9498, -0.6432, -0.2787, -0.0592, -0.2355,  0.2828,\n",
      "         0.8317,  0.5091,  0.2396, -0.5341,  0.2502, -0.2141], device='cuda:0',\n",
      "       grad_fn=<DivBackward0>)\n"
     ]
    },
    {
     "name": "stderr",
     "output_type": "stream",
     "text": [
      "Epoch 24: 100%|██████████| 282/282 [00:11<00:00, 24.46it/s, loss=35.9, acc=0.864, AUC=0.922, val_acc=0.858, val_AUC=0.916]\n"
     ]
    },
    {
     "name": "stdout",
     "output_type": "stream",
     "text": [
      "tensor([-0.3919, -0.7006,  0.9653, -0.6406, -0.2871, -0.0561, -0.2205,  0.2652,\n",
      "         0.8258,  0.5084,  0.2415, -0.5207,  0.2164, -0.2049], device='cuda:0',\n",
      "       grad_fn=<DivBackward0>)\n"
     ]
    },
    {
     "name": "stderr",
     "output_type": "stream",
     "text": [
      "Epoch 25: 100%|██████████| 282/282 [00:11<00:00, 24.73it/s, loss=35.8, acc=0.863, AUC=0.922, val_acc=0.861, val_AUC=0.915]\n"
     ]
    },
    {
     "name": "stdout",
     "output_type": "stream",
     "text": [
      "tensor([-0.3758, -0.6862,  0.9376, -0.6073, -0.3181, -0.0561, -0.2238,  0.2694,\n",
      "         0.8139,  0.5252,  0.2627, -0.5350,  0.2289, -0.2354], device='cuda:0',\n",
      "       grad_fn=<DivBackward0>)\n"
     ]
    },
    {
     "name": "stderr",
     "output_type": "stream",
     "text": [
      "Epoch 26: 100%|██████████| 282/282 [00:11<00:00, 24.73it/s, loss=35.6, acc=0.864, AUC=0.923, val_acc=0.857, val_AUC=0.914]\n"
     ]
    },
    {
     "name": "stdout",
     "output_type": "stream",
     "text": [
      "tensor([-0.3957, -0.6652,  0.9225, -0.6191, -0.3065, -0.0644, -0.1989,  0.2761,\n",
      "         0.8129,  0.5299,  0.2518, -0.5611,  0.2534, -0.2358], device='cuda:0',\n",
      "       grad_fn=<DivBackward0>)\n"
     ]
    },
    {
     "name": "stderr",
     "output_type": "stream",
     "text": [
      "Epoch 27: 100%|██████████| 282/282 [00:11<00:00, 24.71it/s, loss=35.5, acc=0.864, AUC=0.923, val_acc=0.857, val_AUC=0.913]\n"
     ]
    },
    {
     "name": "stdout",
     "output_type": "stream",
     "text": [
      "tensor([-0.3979, -0.6671,  0.9023, -0.6260, -0.2964, -0.0563, -0.1807,  0.2980,\n",
      "         0.8041,  0.5328,  0.2471, -0.5385,  0.2426, -0.2641], device='cuda:0',\n",
      "       grad_fn=<DivBackward0>)\n"
     ]
    },
    {
     "name": "stderr",
     "output_type": "stream",
     "text": [
      "Epoch 28: 100%|██████████| 282/282 [00:11<00:00, 24.66it/s, loss=35.6, acc=0.864, AUC=0.923, val_acc=0.858, val_AUC=0.914]\n"
     ]
    },
    {
     "name": "stdout",
     "output_type": "stream",
     "text": [
      "tensor([-0.4041, -0.6561,  0.9002, -0.6575, -0.2808, -0.0164, -0.1757,  0.2914,\n",
      "         0.7963,  0.5323,  0.2466, -0.5670,  0.2292, -0.2384], device='cuda:0',\n",
      "       grad_fn=<DivBackward0>)\n"
     ]
    },
    {
     "name": "stderr",
     "output_type": "stream",
     "text": [
      "Epoch 29: 100%|██████████| 282/282 [00:11<00:00, 24.83it/s, loss=35.5, acc=0.864, AUC=0.924, val_acc=0.858, val_AUC=0.915]\n"
     ]
    },
    {
     "name": "stdout",
     "output_type": "stream",
     "text": [
      "tensor([-0.4054, -0.6726,  0.8979, -0.6601, -0.2571, -0.0135, -0.1800,  0.2978,\n",
      "         0.8020,  0.5349,  0.2504, -0.5812,  0.2487, -0.2618], device='cuda:0',\n",
      "       grad_fn=<DivBackward0>)\n"
     ]
    },
    {
     "name": "stderr",
     "output_type": "stream",
     "text": [
      "Epoch 30: 100%|██████████| 282/282 [00:11<00:00, 24.80it/s, loss=35.4, acc=0.865, AUC=0.924, val_acc=0.857, val_AUC=0.913]\n"
     ]
    },
    {
     "name": "stdout",
     "output_type": "stream",
     "text": [
      "tensor([-0.4039, -0.6999,  0.9016, -0.6341, -0.2703, -0.0316, -0.1915,  0.2958,\n",
      "         0.7981,  0.5275,  0.2354, -0.5548,  0.2885, -0.2610], device='cuda:0',\n",
      "       grad_fn=<DivBackward0>)\n"
     ]
    },
    {
     "name": "stderr",
     "output_type": "stream",
     "text": [
      "Epoch 31: 100%|██████████| 282/282 [00:11<00:00, 24.71it/s, loss=35.3, acc=0.866, AUC=0.924, val_acc=0.862, val_AUC=0.914]\n"
     ]
    },
    {
     "name": "stdout",
     "output_type": "stream",
     "text": [
      "tensor([-0.4089, -0.7326,  0.9125, -0.6108, -0.2512, -0.0083, -0.1773,  0.2915,\n",
      "         0.7949,  0.5315,  0.2226, -0.5466,  0.2734, -0.2907], device='cuda:0',\n",
      "       grad_fn=<DivBackward0>)\n"
     ]
    },
    {
     "name": "stderr",
     "output_type": "stream",
     "text": [
      "Epoch 32: 100%|██████████| 282/282 [00:11<00:00, 24.65it/s, loss=35.3, acc=0.865, AUC=0.924, val_acc=0.857, val_AUC=0.915]\n"
     ]
    },
    {
     "name": "stdout",
     "output_type": "stream",
     "text": [
      "tensor([-0.4113, -0.7530,  0.9025, -0.6111, -0.2152, -0.0221, -0.1569,  0.2820,\n",
      "         0.7982,  0.5411,  0.2347, -0.5601,  0.2723, -0.3010], device='cuda:0',\n",
      "       grad_fn=<DivBackward0>)\n"
     ]
    },
    {
     "name": "stderr",
     "output_type": "stream",
     "text": [
      "Epoch 33: 100%|██████████| 282/282 [00:11<00:00, 24.81it/s, loss=35, acc=0.866, AUC=0.926, val_acc=0.861, val_AUC=0.915]\n"
     ]
    },
    {
     "name": "stdout",
     "output_type": "stream",
     "text": [
      "tensor([-0.4181, -0.7027,  0.9000, -0.6071, -0.2665, -0.0281, -0.1671,  0.2948,\n",
      "         0.7868,  0.5547,  0.2322, -0.5757,  0.2841, -0.2873], device='cuda:0',\n",
      "       grad_fn=<DivBackward0>)\n"
     ]
    },
    {
     "name": "stderr",
     "output_type": "stream",
     "text": [
      "Epoch 34: 100%|██████████| 282/282 [00:11<00:00, 24.83it/s, loss=34.9, acc=0.867, AUC=0.926, val_acc=0.861, val_AUC=0.913]\n"
     ]
    },
    {
     "name": "stdout",
     "output_type": "stream",
     "text": [
      "tensor([-0.3992, -0.6917,  0.8628, -0.5980, -0.2972, -0.0048, -0.1784,  0.3053,\n",
      "         0.7810,  0.5630,  0.2267, -0.5612,  0.2583, -0.2668], device='cuda:0',\n",
      "       grad_fn=<DivBackward0>)\n"
     ]
    },
    {
     "name": "stderr",
     "output_type": "stream",
     "text": [
      "Epoch 35: 100%|██████████| 282/282 [00:11<00:00, 24.85it/s, loss=34.8, acc=0.867, AUC=0.927, val_acc=0.862, val_AUC=0.915]\n"
     ]
    },
    {
     "name": "stdout",
     "output_type": "stream",
     "text": [
      "tensor([-0.4108, -0.7144,  0.8301, -0.6255, -0.3111,  0.0236, -0.1519,  0.3101,\n",
      "         0.7804,  0.5592,  0.2348, -0.5549,  0.2736, -0.2433], device='cuda:0',\n",
      "       grad_fn=<DivBackward0>)\n"
     ]
    },
    {
     "name": "stderr",
     "output_type": "stream",
     "text": [
      "Epoch 36: 100%|██████████| 282/282 [00:11<00:00, 24.68it/s, loss=34.7, acc=0.867, AUC=0.927, val_acc=0.857, val_AUC=0.912]\n"
     ]
    },
    {
     "name": "stdout",
     "output_type": "stream",
     "text": [
      "tensor([-0.4197, -0.7179,  0.8544, -0.6089, -0.3185,  0.0573, -0.1139,  0.3033,\n",
      "         0.7900,  0.5598,  0.2216, -0.6102,  0.2601, -0.2574], device='cuda:0',\n",
      "       grad_fn=<DivBackward0>)\n"
     ]
    },
    {
     "name": "stderr",
     "output_type": "stream",
     "text": [
      "Epoch 37: 100%|██████████| 282/282 [00:11<00:00, 24.92it/s, loss=34.7, acc=0.867, AUC=0.927, val_acc=0.857, val_AUC=0.916]\n"
     ]
    },
    {
     "name": "stdout",
     "output_type": "stream",
     "text": [
      "tensor([-0.3945, -0.7098,  0.8377, -0.5806, -0.3255,  0.0537, -0.1267,  0.3004,\n",
      "         0.7812,  0.5590,  0.2082, -0.6080,  0.2603, -0.2554], device='cuda:0',\n",
      "       grad_fn=<DivBackward0>)\n"
     ]
    },
    {
     "name": "stderr",
     "output_type": "stream",
     "text": [
      "Epoch 38: 100%|██████████| 282/282 [00:11<00:00, 24.80it/s, loss=34.6, acc=0.869, AUC=0.928, val_acc=0.857, val_AUC=0.913]\n"
     ]
    },
    {
     "name": "stdout",
     "output_type": "stream",
     "text": [
      "tensor([-0.3740, -0.7043,  0.8386, -0.6108, -0.2921,  0.0280, -0.1323,  0.3022,\n",
      "         0.7803,  0.5640,  0.1993, -0.5819,  0.2479, -0.2649], device='cuda:0',\n",
      "       grad_fn=<DivBackward0>)\n"
     ]
    },
    {
     "name": "stderr",
     "output_type": "stream",
     "text": [
      "Epoch 39: 100%|██████████| 282/282 [00:11<00:00, 24.84it/s, loss=34.5, acc=0.867, AUC=0.928, val_acc=0.857, val_AUC=0.914]\n"
     ]
    },
    {
     "name": "stdout",
     "output_type": "stream",
     "text": [
      "tensor([-0.3960, -0.6907,  0.8453, -0.5947, -0.3306,  0.0665, -0.1198,  0.3245,\n",
      "         0.7542,  0.5864,  0.2174, -0.5822,  0.2242, -0.3046], device='cuda:0',\n",
      "       grad_fn=<DivBackward0>)\n"
     ]
    },
    {
     "name": "stderr",
     "output_type": "stream",
     "text": [
      "Epoch 40: 100%|██████████| 282/282 [00:11<00:00, 24.75it/s, loss=34.4, acc=0.869, AUC=0.929, val_acc=0.852, val_AUC=0.914]\n"
     ]
    },
    {
     "name": "stdout",
     "output_type": "stream",
     "text": [
      "tensor([-0.3993, -0.6968,  0.8349, -0.6083, -0.3091,  0.0711, -0.1388,  0.3215,\n",
      "         0.7514,  0.5689,  0.2200, -0.5795,  0.2281, -0.2641], device='cuda:0',\n",
      "       grad_fn=<DivBackward0>)\n"
     ]
    },
    {
     "name": "stderr",
     "output_type": "stream",
     "text": [
      "Epoch 41: 100%|██████████| 282/282 [00:11<00:00, 24.91it/s, loss=34.2, acc=0.868, AUC=0.929, val_acc=0.857, val_AUC=0.911]\n"
     ]
    },
    {
     "name": "stdout",
     "output_type": "stream",
     "text": [
      "tensor([-0.3973, -0.7013,  0.8205, -0.5985, -0.3229,  0.0876, -0.1507,  0.3234,\n",
      "         0.7613,  0.5680,  0.2273, -0.5836,  0.2491, -0.2829], device='cuda:0',\n",
      "       grad_fn=<DivBackward0>)\n"
     ]
    },
    {
     "name": "stderr",
     "output_type": "stream",
     "text": [
      "Epoch 42: 100%|██████████| 282/282 [00:11<00:00, 24.85it/s, loss=34.2, acc=0.87, AUC=0.929, val_acc=0.85, val_AUC=0.912]\n"
     ]
    },
    {
     "name": "stdout",
     "output_type": "stream",
     "text": [
      "tensor([-0.3760, -0.7270,  0.8424, -0.5975, -0.3140,  0.0946, -0.1300,  0.3120,\n",
      "         0.7487,  0.5590,  0.2140, -0.5879,  0.2605, -0.2989], device='cuda:0',\n",
      "       grad_fn=<DivBackward0>)\n"
     ]
    },
    {
     "name": "stderr",
     "output_type": "stream",
     "text": [
      "Epoch 43: 100%|██████████| 282/282 [00:11<00:00, 24.74it/s, loss=34.2, acc=0.869, AUC=0.929, val_acc=0.861, val_AUC=0.912]\n"
     ]
    },
    {
     "name": "stdout",
     "output_type": "stream",
     "text": [
      "tensor([-0.3973, -0.7132,  0.8365, -0.6089, -0.3155,  0.0800, -0.1193,  0.3096,\n",
      "         0.7380,  0.5747,  0.2085, -0.5624,  0.2640, -0.2948], device='cuda:0',\n",
      "       grad_fn=<DivBackward0>)\n"
     ]
    },
    {
     "name": "stderr",
     "output_type": "stream",
     "text": [
      "Epoch 44: 100%|██████████| 282/282 [00:11<00:00, 24.67it/s, loss=34, acc=0.871, AUC=0.93, val_acc=0.855, val_AUC=0.912]\n"
     ]
    },
    {
     "name": "stdout",
     "output_type": "stream",
     "text": [
      "tensor([-0.3891, -0.7153,  0.8109, -0.5995, -0.2724,  0.0456, -0.1230,  0.2988,\n",
      "         0.7549,  0.5635,  0.1984, -0.5544,  0.2668, -0.2853], device='cuda:0',\n",
      "       grad_fn=<DivBackward0>)\n"
     ]
    },
    {
     "name": "stderr",
     "output_type": "stream",
     "text": [
      "Epoch 45: 100%|██████████| 282/282 [00:11<00:00, 24.62it/s, loss=34, acc=0.871, AUC=0.93, val_acc=0.854, val_AUC=0.912]\n"
     ]
    },
    {
     "name": "stdout",
     "output_type": "stream",
     "text": [
      "tensor([-0.4050, -0.7163,  0.8178, -0.5889, -0.2853,  0.0486, -0.1038,  0.3095,\n",
      "         0.7658,  0.5637,  0.1916, -0.5642,  0.2659, -0.2992], device='cuda:0',\n",
      "       grad_fn=<DivBackward0>)\n"
     ]
    },
    {
     "name": "stderr",
     "output_type": "stream",
     "text": [
      "Epoch 46: 100%|██████████| 282/282 [00:11<00:00, 24.86it/s, loss=33.8, acc=0.87, AUC=0.931, val_acc=0.852, val_AUC=0.911]\n"
     ]
    },
    {
     "name": "stdout",
     "output_type": "stream",
     "text": [
      "tensor([-0.3963, -0.7156,  0.8105, -0.5542, -0.3354,  0.0721, -0.1021,  0.3161,\n",
      "         0.7629,  0.5606,  0.1918, -0.5658,  0.2586, -0.3032], device='cuda:0',\n",
      "       grad_fn=<DivBackward0>)\n"
     ]
    },
    {
     "name": "stderr",
     "output_type": "stream",
     "text": [
      "Epoch 47: 100%|██████████| 282/282 [00:11<00:00, 24.82it/s, loss=33.8, acc=0.871, AUC=0.931, val_acc=0.855, val_AUC=0.912]\n"
     ]
    },
    {
     "name": "stdout",
     "output_type": "stream",
     "text": [
      "tensor([-0.3981, -0.7144,  0.8189, -0.5751, -0.3477,  0.0702, -0.0875,  0.3204,\n",
      "         0.7547,  0.5672,  0.1903, -0.5569,  0.2738, -0.3159], device='cuda:0',\n",
      "       grad_fn=<DivBackward0>)\n"
     ]
    },
    {
     "name": "stderr",
     "output_type": "stream",
     "text": [
      "Epoch 48: 100%|██████████| 282/282 [00:11<00:00, 24.74it/s, loss=33.7, acc=0.871, AUC=0.932, val_acc=0.854, val_AUC=0.91]\n"
     ]
    },
    {
     "name": "stdout",
     "output_type": "stream",
     "text": [
      "tensor([-0.3773, -0.7296,  0.7810, -0.5767, -0.3174,  0.0561, -0.1148,  0.3198,\n",
      "         0.7662,  0.5754,  0.1933, -0.5580,  0.2572, -0.2754], device='cuda:0',\n",
      "       grad_fn=<DivBackward0>)\n"
     ]
    },
    {
     "name": "stderr",
     "output_type": "stream",
     "text": [
      "Epoch 49: 100%|██████████| 282/282 [00:11<00:00, 24.82it/s, loss=33.5, acc=0.873, AUC=0.933, val_acc=0.856, val_AUC=0.911]\n"
     ]
    },
    {
     "name": "stdout",
     "output_type": "stream",
     "text": [
      "tensor([-0.3753, -0.7338,  0.7861, -0.5632, -0.3610,  0.0630, -0.0815,  0.3246,\n",
      "         0.7564,  0.5873,  0.1953, -0.5555,  0.2515, -0.2939], device='cuda:0',\n",
      "       grad_fn=<DivBackward0>)\n"
     ]
    },
    {
     "name": "stderr",
     "output_type": "stream",
     "text": [
      "Epoch 50: 100%|██████████| 282/282 [00:11<00:00, 24.72it/s, loss=33.5, acc=0.871, AUC=0.933, val_acc=0.853, val_AUC=0.91]\n"
     ]
    },
    {
     "name": "stdout",
     "output_type": "stream",
     "text": [
      "tensor([-0.3834, -0.7106,  0.7990, -0.5751, -0.3954,  0.0833, -0.0524,  0.3195,\n",
      "         0.7376,  0.5909,  0.2069, -0.5633,  0.2515, -0.3086], device='cuda:0',\n",
      "       grad_fn=<DivBackward0>)\n",
      "test_acc: 0.8947368264198303\n",
      "test_auc: 0.7916666666666666\n",
      "-----------------------------------------\n"
     ]
    },
    {
     "name": "stderr",
     "output_type": "stream",
     "text": [
      "wandb: WARNING Source type is set to 'repo' but some required information is missing from the environment. A job will not be created from this run. See https://docs.wandb.ai/guides/launch/create-job\n"
     ]
    },
    {
     "name": "stdout",
     "output_type": "stream",
     "text": [
      "=================[ 2 Fold ]=================\n",
      "train_data: torch.Size([35166, 14])\n",
      "train_label: torch.Size([35166])\n",
      "validation_data: torch.Size([3907, 14])\n",
      "validation_label: torch.Size([3907])\n",
      "test_data: torch.Size([9769, 14])\n",
      "test_label: torch.Size([9769])\n",
      "-----------------------------------------\n"
     ]
    },
    {
     "name": "stderr",
     "output_type": "stream",
     "text": [
      "Epoch 1: 100%|██████████| 282/282 [00:11<00:00, 25.16it/s, loss=42.5, acc=0.836, AUC=0.887, val_acc=0.838, val_AUC=0.905]\n"
     ]
    },
    {
     "name": "stdout",
     "output_type": "stream",
     "text": [
      "tensor([-0.9168, -0.1358, -0.7397, -0.1863,  0.2390,  0.9918,  0.0301,  0.0798,\n",
      "         0.4585,  0.0405,  0.4121, -0.2054,  0.0081, -0.0761], device='cuda:0',\n",
      "       grad_fn=<DivBackward0>)\n"
     ]
    },
    {
     "name": "stderr",
     "output_type": "stream",
     "text": [
      "Epoch 2: 100%|██████████| 282/282 [00:10<00:00, 26.05it/s, loss=39.2, acc=0.852, AUC=0.906, val_acc=0.852, val_AUC=0.912]\n"
     ]
    },
    {
     "name": "stdout",
     "output_type": "stream",
     "text": [
      "tensor([-1.1870, -0.0249, -1.3374,  0.0689,  0.1961,  1.4022,  0.0111, -0.0666,\n",
      "         0.5138, -0.0804,  0.5410,  0.0056,  0.0414, -0.0838], device='cuda:0',\n",
      "       grad_fn=<DivBackward0>)\n"
     ]
    },
    {
     "name": "stderr",
     "output_type": "stream",
     "text": [
      "Epoch 3: 100%|██████████| 282/282 [00:10<00:00, 26.77it/s, loss=38.6, acc=0.852, AUC=0.909, val_acc=0.854, val_AUC=0.91]\n"
     ]
    },
    {
     "name": "stdout",
     "output_type": "stream",
     "text": [
      "tensor([-1.2611, -0.0089, -1.3078,  0.2625,  0.1686,  1.3832, -0.1325, -0.0514,\n",
      "         0.4951, -0.0887,  0.5480, -0.0180, -0.0348,  0.0457], device='cuda:0',\n",
      "       grad_fn=<DivBackward0>)\n"
     ]
    },
    {
     "name": "stderr",
     "output_type": "stream",
     "text": [
      "Epoch 4: 100%|██████████| 282/282 [00:10<00:00, 26.84it/s, loss=38.2, acc=0.855, AUC=0.911, val_acc=0.856, val_AUC=0.913]\n"
     ]
    },
    {
     "name": "stdout",
     "output_type": "stream",
     "text": [
      "tensor([-1.3387,  0.0018, -1.3185,  0.3634,  0.1239,  1.3420, -0.1319, -0.0223,\n",
      "         0.4821, -0.1040,  0.5586,  0.0595, -0.0442,  0.0283], device='cuda:0',\n",
      "       grad_fn=<DivBackward0>)\n"
     ]
    },
    {
     "name": "stderr",
     "output_type": "stream",
     "text": [
      "Epoch 5: 100%|██████████| 282/282 [00:10<00:00, 26.95it/s, loss=38, acc=0.856, AUC=0.912, val_acc=0.858, val_AUC=0.914]\n"
     ]
    },
    {
     "name": "stdout",
     "output_type": "stream",
     "text": [
      "tensor([-1.3419e+00,  3.2594e-02, -1.2646e+00,  3.7504e-01,  5.7823e-02,\n",
      "         1.3767e+00, -1.4936e-01,  5.3102e-03,  4.6428e-01, -1.1325e-01,\n",
      "         5.4111e-01,  6.9800e-02, -5.2373e-02, -1.2315e-03], device='cuda:0',\n",
      "       grad_fn=<DivBackward0>)\n"
     ]
    },
    {
     "name": "stderr",
     "output_type": "stream",
     "text": [
      "Epoch 6: 100%|██████████| 282/282 [00:10<00:00, 26.76it/s, loss=37.7, acc=0.859, AUC=0.913, val_acc=0.86, val_AUC=0.914]\n"
     ]
    },
    {
     "name": "stdout",
     "output_type": "stream",
     "text": [
      "tensor([-1.3305,  0.0281, -1.2652,  0.4049,  0.0601,  1.3820, -0.1969,  0.0235,\n",
      "         0.4880, -0.1171,  0.5206,  0.0416, -0.0653,  0.0262], device='cuda:0',\n",
      "       grad_fn=<DivBackward0>)\n"
     ]
    },
    {
     "name": "stderr",
     "output_type": "stream",
     "text": [
      "Epoch 7: 100%|██████████| 282/282 [00:10<00:00, 26.86it/s, loss=37.7, acc=0.857, AUC=0.913, val_acc=0.866, val_AUC=0.916]\n"
     ]
    },
    {
     "name": "stdout",
     "output_type": "stream",
     "text": [
      "tensor([-1.3744,  0.0234, -1.2713,  0.4219,  0.0823,  1.3910, -0.1503,  0.0245,\n",
      "         0.4480, -0.1236,  0.5126,  0.1123, -0.0951, -0.0015], device='cuda:0',\n",
      "       grad_fn=<DivBackward0>)\n"
     ]
    },
    {
     "name": "stderr",
     "output_type": "stream",
     "text": [
      "Epoch 8: 100%|██████████| 282/282 [00:10<00:00, 26.83it/s, loss=37.5, acc=0.859, AUC=0.914, val_acc=0.861, val_AUC=0.914]\n"
     ]
    },
    {
     "name": "stdout",
     "output_type": "stream",
     "text": [
      "tensor([-1.3831,  0.0207, -1.2563,  0.5003,  0.1001,  1.3643, -0.1299, -0.0044,\n",
      "         0.4125, -0.1164,  0.5203,  0.1422, -0.1359, -0.0345], device='cuda:0',\n",
      "       grad_fn=<DivBackward0>)\n"
     ]
    },
    {
     "name": "stderr",
     "output_type": "stream",
     "text": [
      "Epoch 9: 100%|██████████| 282/282 [00:10<00:00, 26.71it/s, loss=37.2, acc=0.859, AUC=0.915, val_acc=0.858, val_AUC=0.916]\n"
     ]
    },
    {
     "name": "stdout",
     "output_type": "stream",
     "text": [
      "tensor([-1.3775,  0.0134, -1.2171,  0.5584,  0.1374,  1.3733, -0.1235, -0.0137,\n",
      "         0.3659, -0.1264,  0.5028,  0.1259, -0.1460, -0.0730], device='cuda:0',\n",
      "       grad_fn=<DivBackward0>)\n"
     ]
    },
    {
     "name": "stderr",
     "output_type": "stream",
     "text": [
      "Epoch 10: 100%|██████████| 282/282 [00:10<00:00, 26.79it/s, loss=37.1, acc=0.86, AUC=0.916, val_acc=0.864, val_AUC=0.915]\n"
     ]
    },
    {
     "name": "stdout",
     "output_type": "stream",
     "text": [
      "tensor([-1.3741,  0.0330, -1.1977,  0.5763,  0.1344,  1.3590, -0.1281, -0.0043,\n",
      "         0.3576, -0.1179,  0.4962,  0.1173, -0.1847, -0.0671], device='cuda:0',\n",
      "       grad_fn=<DivBackward0>)\n"
     ]
    },
    {
     "name": "stderr",
     "output_type": "stream",
     "text": [
      "Epoch 11: 100%|██████████| 282/282 [00:10<00:00, 26.88it/s, loss=37.1, acc=0.86, AUC=0.916, val_acc=0.865, val_AUC=0.915]\n"
     ]
    },
    {
     "name": "stdout",
     "output_type": "stream",
     "text": [
      "tensor([-1.3772,  0.0518, -1.1985,  0.5583,  0.1056,  1.3583, -0.1102, -0.0095,\n",
      "         0.3441, -0.1059,  0.4923,  0.1250, -0.1743, -0.0598], device='cuda:0',\n",
      "       grad_fn=<DivBackward0>)\n"
     ]
    },
    {
     "name": "stderr",
     "output_type": "stream",
     "text": [
      "Epoch 12: 100%|██████████| 282/282 [00:10<00:00, 26.90it/s, loss=37, acc=0.859, AUC=0.917, val_acc=0.859, val_AUC=0.913]\n"
     ]
    },
    {
     "name": "stdout",
     "output_type": "stream",
     "text": [
      "tensor([-1.3952,  0.0364, -1.1677,  0.5876,  0.1133,  1.3529, -0.1072,  0.0130,\n",
      "         0.3122, -0.1090,  0.4797,  0.1228, -0.1943, -0.0445], device='cuda:0',\n",
      "       grad_fn=<DivBackward0>)\n"
     ]
    },
    {
     "name": "stderr",
     "output_type": "stream",
     "text": [
      "Epoch 13: 100%|██████████| 282/282 [00:10<00:00, 26.80it/s, loss=37, acc=0.86, AUC=0.917, val_acc=0.863, val_AUC=0.916]\n"
     ]
    },
    {
     "name": "stdout",
     "output_type": "stream",
     "text": [
      "tensor([-1.4050e+00,  1.9303e-02, -1.1524e+00,  5.7181e-01,  1.3311e-01,\n",
      "         1.3529e+00, -1.1852e-01,  8.7545e-03,  3.0680e-01, -9.8603e-02,\n",
      "         5.0228e-01,  9.1946e-02, -2.1294e-01,  5.6517e-04], device='cuda:0',\n",
      "       grad_fn=<DivBackward0>)\n"
     ]
    },
    {
     "name": "stderr",
     "output_type": "stream",
     "text": [
      "Epoch 14: 100%|██████████| 282/282 [00:10<00:00, 26.77it/s, loss=36.9, acc=0.86, AUC=0.917, val_acc=0.866, val_AUC=0.916]\n"
     ]
    },
    {
     "name": "stdout",
     "output_type": "stream",
     "text": [
      "tensor([-1.3944,  0.0308, -1.1501,  0.5614,  0.1346,  1.3569, -0.1104,  0.0200,\n",
      "         0.2855, -0.1021,  0.5079,  0.0960, -0.2249, -0.0111], device='cuda:0',\n",
      "       grad_fn=<DivBackward0>)\n"
     ]
    },
    {
     "name": "stderr",
     "output_type": "stream",
     "text": [
      "Epoch 15: 100%|██████████| 282/282 [00:10<00:00, 26.90it/s, loss=36.6, acc=0.861, AUC=0.918, val_acc=0.864, val_AUC=0.916]\n"
     ]
    },
    {
     "name": "stdout",
     "output_type": "stream",
     "text": [
      "tensor([-1.3900,  0.0268, -1.1088,  0.5844,  0.1026,  1.3349, -0.1012,  0.0247,\n",
      "         0.3045, -0.1045,  0.5056,  0.0820, -0.2687,  0.0076], device='cuda:0',\n",
      "       grad_fn=<DivBackward0>)\n"
     ]
    },
    {
     "name": "stderr",
     "output_type": "stream",
     "text": [
      "Epoch 16: 100%|██████████| 282/282 [00:10<00:00, 26.86it/s, loss=36.5, acc=0.862, AUC=0.919, val_acc=0.864, val_AUC=0.917]\n"
     ]
    },
    {
     "name": "stdout",
     "output_type": "stream",
     "text": [
      "tensor([-1.3925,  0.0351, -1.0861,  0.5496,  0.0520,  1.3608, -0.1028,  0.0301,\n",
      "         0.2963, -0.0937,  0.5002,  0.1171, -0.2699,  0.0039], device='cuda:0',\n",
      "       grad_fn=<DivBackward0>)\n"
     ]
    },
    {
     "name": "stderr",
     "output_type": "stream",
     "text": [
      "Epoch 17: 100%|██████████| 282/282 [00:10<00:00, 26.94it/s, loss=36.5, acc=0.861, AUC=0.919, val_acc=0.862, val_AUC=0.915]\n"
     ]
    },
    {
     "name": "stdout",
     "output_type": "stream",
     "text": [
      "tensor([-1.4051,  0.0308, -1.0980,  0.5184,  0.0241,  1.3699, -0.0863,  0.0319,\n",
      "         0.2920, -0.0870,  0.5109,  0.1477, -0.2580,  0.0086], device='cuda:0',\n",
      "       grad_fn=<DivBackward0>)\n"
     ]
    },
    {
     "name": "stderr",
     "output_type": "stream",
     "text": [
      "Epoch 18: 100%|██████████| 282/282 [00:10<00:00, 26.73it/s, loss=36.4, acc=0.862, AUC=0.92, val_acc=0.865, val_AUC=0.917]\n"
     ]
    },
    {
     "name": "stdout",
     "output_type": "stream",
     "text": [
      "tensor([-1.4183,  0.0360, -1.0877,  0.5301,  0.0629,  1.3512, -0.0861,  0.0253,\n",
      "         0.2729, -0.0918,  0.4850,  0.1809, -0.2720,  0.0117], device='cuda:0',\n",
      "       grad_fn=<DivBackward0>)\n"
     ]
    },
    {
     "name": "stderr",
     "output_type": "stream",
     "text": [
      "Epoch 19: 100%|██████████| 282/282 [00:10<00:00, 26.98it/s, loss=36.2, acc=0.862, AUC=0.92, val_acc=0.862, val_AUC=0.917]\n"
     ]
    },
    {
     "name": "stdout",
     "output_type": "stream",
     "text": [
      "tensor([-1.4235,  0.0482, -1.0977,  0.5399,  0.0543,  1.3423, -0.0682,  0.0352,\n",
      "         0.2643, -0.0771,  0.4834,  0.1658, -0.2828,  0.0159], device='cuda:0',\n",
      "       grad_fn=<DivBackward0>)\n"
     ]
    },
    {
     "name": "stderr",
     "output_type": "stream",
     "text": [
      "Epoch 20: 100%|██████████| 282/282 [00:10<00:00, 27.01it/s, loss=36.3, acc=0.863, AUC=0.92, val_acc=0.864, val_AUC=0.916]\n"
     ]
    },
    {
     "name": "stdout",
     "output_type": "stream",
     "text": [
      "tensor([-1.4175,  0.0664, -1.0807,  0.5177,  0.0057,  1.3390, -0.0513,  0.0433,\n",
      "         0.2568, -0.0730,  0.5145,  0.1586, -0.2622, -0.0173], device='cuda:0',\n",
      "       grad_fn=<DivBackward0>)\n"
     ]
    },
    {
     "name": "stderr",
     "output_type": "stream",
     "text": [
      "Epoch 21: 100%|██████████| 282/282 [00:10<00:00, 27.02it/s, loss=36.2, acc=0.863, AUC=0.92, val_acc=0.86, val_AUC=0.915]\n"
     ]
    },
    {
     "name": "stdout",
     "output_type": "stream",
     "text": [
      "tensor([-1.4017,  0.0454, -1.0732,  0.5453, -0.0096,  1.3465, -0.0478,  0.0443,\n",
      "         0.2603, -0.0806,  0.5055,  0.1670, -0.2650, -0.0364], device='cuda:0',\n",
      "       grad_fn=<DivBackward0>)\n"
     ]
    },
    {
     "name": "stderr",
     "output_type": "stream",
     "text": [
      "Epoch 22: 100%|██████████| 282/282 [00:10<00:00, 26.85it/s, loss=36, acc=0.864, AUC=0.921, val_acc=0.861, val_AUC=0.916]\n"
     ]
    },
    {
     "name": "stdout",
     "output_type": "stream",
     "text": [
      "tensor([-1.3891,  0.0570, -1.0508,  0.5287,  0.0270,  1.3519, -0.0413,  0.0475,\n",
      "         0.2439, -0.0740,  0.5047,  0.1131, -0.2648, -0.0537], device='cuda:0',\n",
      "       grad_fn=<DivBackward0>)\n"
     ]
    },
    {
     "name": "stderr",
     "output_type": "stream",
     "text": [
      "Epoch 23: 100%|██████████| 282/282 [00:10<00:00, 26.93it/s, loss=35.9, acc=0.864, AUC=0.922, val_acc=0.867, val_AUC=0.919]\n"
     ]
    },
    {
     "name": "stdout",
     "output_type": "stream",
     "text": [
      "tensor([-1.3732,  0.0598, -1.0718,  0.5550,  0.0501,  1.3353, -0.0675,  0.0361,\n",
      "         0.2481, -0.0768,  0.5064,  0.1280, -0.2851, -0.0445], device='cuda:0',\n",
      "       grad_fn=<DivBackward0>)\n"
     ]
    },
    {
     "name": "stderr",
     "output_type": "stream",
     "text": [
      "Epoch 24: 100%|██████████| 282/282 [00:10<00:00, 26.99it/s, loss=35.9, acc=0.864, AUC=0.922, val_acc=0.858, val_AUC=0.915]\n"
     ]
    },
    {
     "name": "stdout",
     "output_type": "stream",
     "text": [
      "tensor([-1.3792,  0.0549, -1.0877,  0.5319,  0.0550,  1.3469, -0.0608,  0.0292,\n",
      "         0.2515, -0.0649,  0.5137,  0.1602, -0.2911, -0.0597], device='cuda:0',\n",
      "       grad_fn=<DivBackward0>)\n"
     ]
    },
    {
     "name": "stderr",
     "output_type": "stream",
     "text": [
      "Epoch 25: 100%|██████████| 282/282 [00:10<00:00, 26.96it/s, loss=35.8, acc=0.864, AUC=0.922, val_acc=0.861, val_AUC=0.915]\n"
     ]
    },
    {
     "name": "stdout",
     "output_type": "stream",
     "text": [
      "tensor([-1.4002,  0.0679, -1.0402,  0.5491,  0.0577,  1.3272, -0.0969,  0.0279,\n",
      "         0.2497, -0.0658,  0.4931,  0.1881, -0.2950, -0.0624], device='cuda:0',\n",
      "       grad_fn=<DivBackward0>)\n"
     ]
    },
    {
     "name": "stderr",
     "output_type": "stream",
     "text": [
      "Epoch 26: 100%|██████████| 282/282 [00:10<00:00, 26.83it/s, loss=35.7, acc=0.866, AUC=0.923, val_acc=0.862, val_AUC=0.914]\n"
     ]
    },
    {
     "name": "stdout",
     "output_type": "stream",
     "text": [
      "tensor([-1.4113,  0.0739, -1.0658,  0.5129,  0.0365,  1.3304, -0.1328,  0.0262,\n",
      "         0.2503, -0.0619,  0.4975,  0.1934, -0.2532,  0.0040], device='cuda:0',\n",
      "       grad_fn=<DivBackward0>)\n"
     ]
    },
    {
     "name": "stderr",
     "output_type": "stream",
     "text": [
      "Epoch 27: 100%|██████████| 282/282 [00:10<00:00, 26.89it/s, loss=35.7, acc=0.865, AUC=0.923, val_acc=0.867, val_AUC=0.914]\n"
     ]
    },
    {
     "name": "stdout",
     "output_type": "stream",
     "text": [
      "tensor([-1.3875,  0.0548, -1.0396,  0.4977,  0.0211,  1.3364, -0.1420,  0.0146,\n",
      "         0.2315, -0.0604,  0.5254,  0.1838, -0.2587,  0.0230], device='cuda:0',\n",
      "       grad_fn=<DivBackward0>)\n"
     ]
    },
    {
     "name": "stderr",
     "output_type": "stream",
     "text": [
      "Epoch 28: 100%|██████████| 282/282 [00:10<00:00, 26.81it/s, loss=35.8, acc=0.864, AUC=0.922, val_acc=0.863, val_AUC=0.916]\n"
     ]
    },
    {
     "name": "stdout",
     "output_type": "stream",
     "text": [
      "tensor([-1.4044,  0.0446, -1.0218,  0.5052,  0.0278,  1.3118, -0.1356,  0.0071,\n",
      "         0.2260, -0.0687,  0.5117,  0.1975, -0.2733,  0.0720], device='cuda:0',\n",
      "       grad_fn=<DivBackward0>)\n"
     ]
    },
    {
     "name": "stderr",
     "output_type": "stream",
     "text": [
      "Epoch 29: 100%|██████████| 282/282 [00:10<00:00, 26.98it/s, loss=35.4, acc=0.866, AUC=0.924, val_acc=0.864, val_AUC=0.914]\n"
     ]
    },
    {
     "name": "stdout",
     "output_type": "stream",
     "text": [
      "tensor([-1.4128,  0.0423, -1.0015,  0.4941,  0.0153,  1.3092, -0.1156, -0.0027,\n",
      "         0.1922, -0.0630,  0.5151,  0.2227, -0.2659,  0.0706], device='cuda:0',\n",
      "       grad_fn=<DivBackward0>)\n"
     ]
    },
    {
     "name": "stderr",
     "output_type": "stream",
     "text": [
      "Epoch 30: 100%|██████████| 282/282 [00:10<00:00, 26.78it/s, loss=35.4, acc=0.866, AUC=0.924, val_acc=0.863, val_AUC=0.915]\n"
     ]
    },
    {
     "name": "stdout",
     "output_type": "stream",
     "text": [
      "tensor([-1.4079,  0.0311, -1.0007,  0.5192, -0.0147,  1.3271, -0.1016, -0.0071,\n",
      "         0.2015, -0.0686,  0.5133,  0.2184, -0.2534,  0.0435], device='cuda:0',\n",
      "       grad_fn=<DivBackward0>)\n"
     ]
    },
    {
     "name": "stderr",
     "output_type": "stream",
     "text": [
      "Epoch 31: 100%|██████████| 282/282 [00:10<00:00, 27.04it/s, loss=35.4, acc=0.867, AUC=0.924, val_acc=0.864, val_AUC=0.915]\n"
     ]
    },
    {
     "name": "stdout",
     "output_type": "stream",
     "text": [
      "tensor([-1.3878,  0.0206, -0.9804,  0.5245, -0.0260,  1.3292, -0.1076, -0.0026,\n",
      "         0.2083, -0.0855,  0.5059,  0.2478, -0.2735,  0.0271], device='cuda:0',\n",
      "       grad_fn=<DivBackward0>)\n"
     ]
    },
    {
     "name": "stderr",
     "output_type": "stream",
     "text": [
      "Epoch 32: 100%|██████████| 282/282 [00:10<00:00, 26.93it/s, loss=35.3, acc=0.866, AUC=0.925, val_acc=0.865, val_AUC=0.915]\n"
     ]
    },
    {
     "name": "stdout",
     "output_type": "stream",
     "text": [
      "tensor([-1.3970,  0.0346, -0.9665,  0.5062, -0.0395,  1.3323, -0.1165,  0.0157,\n",
      "         0.2413, -0.0726,  0.5275,  0.2013, -0.2957,  0.0287], device='cuda:0',\n",
      "       grad_fn=<DivBackward0>)\n"
     ]
    },
    {
     "name": "stderr",
     "output_type": "stream",
     "text": [
      "Epoch 33: 100%|██████████| 282/282 [00:10<00:00, 27.03it/s, loss=35.1, acc=0.866, AUC=0.925, val_acc=0.863, val_AUC=0.914]\n"
     ]
    },
    {
     "name": "stdout",
     "output_type": "stream",
     "text": [
      "tensor([-1.4119e+00,  3.6301e-02, -9.8170e-01,  4.7972e-01, -1.5030e-02,\n",
      "         1.3386e+00, -7.9732e-02,  1.0896e-02,  2.1045e-01, -6.5498e-02,\n",
      "         5.2653e-01,  2.0151e-01, -2.5005e-01, -1.2881e-04], device='cuda:0',\n",
      "       grad_fn=<DivBackward0>)\n"
     ]
    },
    {
     "name": "stderr",
     "output_type": "stream",
     "text": [
      "Epoch 34: 100%|██████████| 282/282 [00:10<00:00, 26.92it/s, loss=35.2, acc=0.867, AUC=0.925, val_acc=0.861, val_AUC=0.914]\n"
     ]
    },
    {
     "name": "stdout",
     "output_type": "stream",
     "text": [
      "tensor([-1.3942,  0.0527, -0.9988,  0.4674,  0.0158,  1.3307, -0.0546,  0.0138,\n",
      "         0.2122, -0.0562,  0.5173,  0.1840, -0.2634, -0.0266], device='cuda:0',\n",
      "       grad_fn=<DivBackward0>)\n"
     ]
    },
    {
     "name": "stderr",
     "output_type": "stream",
     "text": [
      "Epoch 35: 100%|██████████| 282/282 [00:10<00:00, 26.88it/s, loss=34.9, acc=0.868, AUC=0.926, val_acc=0.859, val_AUC=0.912]\n"
     ]
    },
    {
     "name": "stdout",
     "output_type": "stream",
     "text": [
      "tensor([-1.3789,  0.0669, -0.9640,  0.4766,  0.0209,  1.3349, -0.0721,  0.0290,\n",
      "         0.1796, -0.0435,  0.5036,  0.1295, -0.2847,  0.0019], device='cuda:0',\n",
      "       grad_fn=<DivBackward0>)\n"
     ]
    },
    {
     "name": "stderr",
     "output_type": "stream",
     "text": [
      "Epoch 36: 100%|██████████| 282/282 [00:10<00:00, 27.04it/s, loss=35, acc=0.868, AUC=0.926, val_acc=0.862, val_AUC=0.915]\n"
     ]
    },
    {
     "name": "stdout",
     "output_type": "stream",
     "text": [
      "tensor([-1.3636,  0.0906, -0.9533,  0.4856, -0.0206,  1.3286, -0.0705,  0.0292,\n",
      "         0.1546, -0.0399,  0.5274,  0.1347, -0.2744, -0.0284], device='cuda:0',\n",
      "       grad_fn=<DivBackward0>)\n"
     ]
    },
    {
     "name": "stderr",
     "output_type": "stream",
     "text": [
      "Epoch 37: 100%|██████████| 282/282 [00:10<00:00, 26.94it/s, loss=34.9, acc=0.868, AUC=0.926, val_acc=0.865, val_AUC=0.913]\n"
     ]
    },
    {
     "name": "stdout",
     "output_type": "stream",
     "text": [
      "tensor([-1.3729,  0.1257, -0.9209,  0.4757, -0.0166,  1.3143, -0.0874,  0.0135,\n",
      "         0.1596, -0.0539,  0.5288,  0.1182, -0.2551, -0.0290], device='cuda:0',\n",
      "       grad_fn=<DivBackward0>)\n"
     ]
    },
    {
     "name": "stderr",
     "output_type": "stream",
     "text": [
      "Epoch 38: 100%|██████████| 282/282 [00:10<00:00, 26.89it/s, loss=34.8, acc=0.868, AUC=0.927, val_acc=0.862, val_AUC=0.914]\n"
     ]
    },
    {
     "name": "stdout",
     "output_type": "stream",
     "text": [
      "tensor([-1.3827,  0.1113, -0.9426,  0.4595,  0.0127,  1.3208, -0.0617, -0.0038,\n",
      "         0.1509, -0.0558,  0.5220,  0.1098, -0.2324, -0.0079], device='cuda:0',\n",
      "       grad_fn=<DivBackward0>)\n"
     ]
    },
    {
     "name": "stderr",
     "output_type": "stream",
     "text": [
      "Epoch 39: 100%|██████████| 282/282 [00:10<00:00, 27.02it/s, loss=34.5, acc=0.868, AUC=0.928, val_acc=0.864, val_AUC=0.913]\n"
     ]
    },
    {
     "name": "stdout",
     "output_type": "stream",
     "text": [
      "tensor([-1.3793e+00,  1.2026e-01, -9.2992e-01,  4.3538e-01, -2.0708e-04,\n",
      "         1.3129e+00, -5.1109e-02, -7.6506e-03,  1.3480e-01, -5.3896e-02,\n",
      "         5.2003e-01,  1.8087e-01, -2.6427e-01, -1.7862e-02], device='cuda:0',\n",
      "       grad_fn=<DivBackward0>)\n"
     ]
    },
    {
     "name": "stderr",
     "output_type": "stream",
     "text": [
      "Epoch 40: 100%|██████████| 282/282 [00:10<00:00, 27.03it/s, loss=34.6, acc=0.868, AUC=0.928, val_acc=0.862, val_AUC=0.915]\n"
     ]
    },
    {
     "name": "stdout",
     "output_type": "stream",
     "text": [
      "tensor([-1.3758,  0.1190, -0.9216,  0.4066, -0.0281,  1.3253, -0.0404,  0.0041,\n",
      "         0.1482, -0.0490,  0.5477,  0.1699, -0.2733, -0.0325], device='cuda:0',\n",
      "       grad_fn=<DivBackward0>)\n"
     ]
    },
    {
     "name": "stderr",
     "output_type": "stream",
     "text": [
      "Epoch 41: 100%|██████████| 282/282 [00:10<00:00, 27.07it/s, loss=34.5, acc=0.87, AUC=0.928, val_acc=0.865, val_AUC=0.915]\n"
     ]
    },
    {
     "name": "stdout",
     "output_type": "stream",
     "text": [
      "tensor([-1.3781,  0.0930, -0.9027,  0.4403, -0.0301,  1.3135, -0.0492, -0.0036,\n",
      "         0.1461, -0.0555,  0.5362,  0.1717, -0.2683, -0.0133], device='cuda:0',\n",
      "       grad_fn=<DivBackward0>)\n"
     ]
    },
    {
     "name": "stderr",
     "output_type": "stream",
     "text": [
      "Epoch 42: 100%|██████████| 282/282 [00:10<00:00, 26.83it/s, loss=34.4, acc=0.869, AUC=0.929, val_acc=0.863, val_AUC=0.915]\n"
     ]
    },
    {
     "name": "stdout",
     "output_type": "stream",
     "text": [
      "tensor([-1.3841,  0.0764, -0.8723,  0.4748, -0.0186,  1.2922, -0.0213, -0.0308,\n",
      "         0.1088, -0.0577,  0.5198,  0.1788, -0.2499, -0.0162], device='cuda:0',\n",
      "       grad_fn=<DivBackward0>)\n"
     ]
    },
    {
     "name": "stderr",
     "output_type": "stream",
     "text": [
      "Epoch 43: 100%|██████████| 282/282 [00:10<00:00, 27.06it/s, loss=34.3, acc=0.87, AUC=0.929, val_acc=0.858, val_AUC=0.912]\n"
     ]
    },
    {
     "name": "stdout",
     "output_type": "stream",
     "text": [
      "tensor([-1.3571,  0.0906, -0.8599,  0.4804, -0.0063,  1.3058, -0.0558, -0.0362,\n",
      "         0.1224, -0.0591,  0.5372,  0.1577, -0.2524, -0.0672], device='cuda:0',\n",
      "       grad_fn=<DivBackward0>)\n"
     ]
    },
    {
     "name": "stderr",
     "output_type": "stream",
     "text": [
      "Epoch 44: 100%|██████████| 282/282 [00:10<00:00, 26.88it/s, loss=34.2, acc=0.871, AUC=0.93, val_acc=0.865, val_AUC=0.916]\n"
     ]
    },
    {
     "name": "stdout",
     "output_type": "stream",
     "text": [
      "tensor([-1.3681,  0.1327, -0.8686,  0.4695,  0.0308,  1.3089, -0.0769, -0.0358,\n",
      "         0.1180, -0.0619,  0.5120,  0.1544, -0.2606, -0.0545], device='cuda:0',\n",
      "       grad_fn=<DivBackward0>)\n"
     ]
    },
    {
     "name": "stderr",
     "output_type": "stream",
     "text": [
      "Epoch 45: 100%|██████████| 282/282 [00:10<00:00, 27.07it/s, loss=34.2, acc=0.869, AUC=0.929, val_acc=0.863, val_AUC=0.912]\n"
     ]
    },
    {
     "name": "stdout",
     "output_type": "stream",
     "text": [
      "tensor([-1.3703,  0.1122, -0.8908,  0.4705,  0.0470,  1.3107, -0.0492, -0.0416,\n",
      "         0.1092, -0.0781,  0.5140,  0.1709, -0.2679, -0.0366], device='cuda:0',\n",
      "       grad_fn=<DivBackward0>)\n"
     ]
    },
    {
     "name": "stderr",
     "output_type": "stream",
     "text": [
      "Epoch 46: 100%|██████████| 282/282 [00:10<00:00, 26.85it/s, loss=34.1, acc=0.87, AUC=0.93, val_acc=0.861, val_AUC=0.913]\n"
     ]
    },
    {
     "name": "stdout",
     "output_type": "stream",
     "text": [
      "tensor([-1.3622,  0.1270, -0.8899,  0.4834,  0.0290,  1.3208, -0.0749, -0.0417,\n",
      "         0.1115, -0.1000,  0.5236,  0.1720, -0.2697, -0.0287], device='cuda:0',\n",
      "       grad_fn=<DivBackward0>)\n"
     ]
    },
    {
     "name": "stderr",
     "output_type": "stream",
     "text": [
      "Epoch 47: 100%|██████████| 282/282 [00:10<00:00, 26.99it/s, loss=33.9, acc=0.87, AUC=0.931, val_acc=0.862, val_AUC=0.914]\n"
     ]
    },
    {
     "name": "stdout",
     "output_type": "stream",
     "text": [
      "tensor([-1.3314,  0.1387, -0.8925,  0.4857,  0.0141,  1.3208, -0.0696, -0.0504,\n",
      "         0.1182, -0.0907,  0.5256,  0.1631, -0.2827, -0.0489], device='cuda:0',\n",
      "       grad_fn=<DivBackward0>)\n"
     ]
    },
    {
     "name": "stderr",
     "output_type": "stream",
     "text": [
      "Epoch 48: 100%|██████████| 282/282 [00:10<00:00, 27.07it/s, loss=33.8, acc=0.872, AUC=0.931, val_acc=0.86, val_AUC=0.912]\n"
     ]
    },
    {
     "name": "stdout",
     "output_type": "stream",
     "text": [
      "tensor([-1.3183,  0.1702, -0.8924,  0.4708, -0.0362,  1.3270, -0.0748, -0.0517,\n",
      "         0.1181, -0.0740,  0.5060,  0.1514, -0.2676, -0.0286], device='cuda:0',\n",
      "       grad_fn=<DivBackward0>)\n"
     ]
    },
    {
     "name": "stderr",
     "output_type": "stream",
     "text": [
      "Epoch 49: 100%|██████████| 282/282 [00:10<00:00, 26.96it/s, loss=33.8, acc=0.871, AUC=0.932, val_acc=0.86, val_AUC=0.913]\n"
     ]
    },
    {
     "name": "stdout",
     "output_type": "stream",
     "text": [
      "tensor([-1.3359,  0.1489, -0.8857,  0.4649, -0.0237,  1.3115, -0.0536, -0.0574,\n",
      "         0.1040, -0.0754,  0.5024,  0.1722, -0.2520, -0.0203], device='cuda:0',\n",
      "       grad_fn=<DivBackward0>)\n"
     ]
    },
    {
     "name": "stderr",
     "output_type": "stream",
     "text": [
      "Epoch 50: 100%|██████████| 282/282 [00:10<00:00, 27.00it/s, loss=33.7, acc=0.87, AUC=0.932, val_acc=0.861, val_AUC=0.913]\n"
     ]
    },
    {
     "name": "stdout",
     "output_type": "stream",
     "text": [
      "tensor([-1.3428,  0.1597, -0.8796,  0.4678, -0.0498,  1.2972, -0.0591, -0.0376,\n",
      "         0.1152, -0.0696,  0.5100,  0.1724, -0.2665, -0.0175], device='cuda:0',\n",
      "       grad_fn=<DivBackward0>)\n",
      "test_acc: 0.7894737124443054\n",
      "test_auc: 0.8833333333333333\n",
      "-----------------------------------------\n"
     ]
    },
    {
     "name": "stderr",
     "output_type": "stream",
     "text": [
      "wandb: WARNING Source type is set to 'repo' but some required information is missing from the environment. A job will not be created from this run. See https://docs.wandb.ai/guides/launch/create-job\n"
     ]
    },
    {
     "name": "stdout",
     "output_type": "stream",
     "text": [
      "=================[ 3 Fold ]=================\n",
      "train_data: torch.Size([35167, 14])\n",
      "train_label: torch.Size([35167])\n",
      "validation_data: torch.Size([3907, 14])\n",
      "validation_label: torch.Size([3907])\n",
      "test_data: torch.Size([9768, 14])\n",
      "test_label: torch.Size([9768])\n",
      "-----------------------------------------\n"
     ]
    },
    {
     "name": "stderr",
     "output_type": "stream",
     "text": [
      "Epoch 1: 100%|██████████| 282/282 [00:11<00:00, 23.77it/s, loss=41.9, acc=0.841, AUC=0.89, val_acc=0.844, val_AUC=0.899]\n"
     ]
    },
    {
     "name": "stdout",
     "output_type": "stream",
     "text": [
      "tensor([ 0.3244, -0.3354,  0.7188, -0.5465, -0.3049,  0.7330, -0.1775,  0.1446,\n",
      "        -0.1595,  0.1825, -0.0143,  0.1613, -0.4568, -0.2696], device='cuda:0',\n",
      "       grad_fn=<DivBackward0>)\n"
     ]
    },
    {
     "name": "stderr",
     "output_type": "stream",
     "text": [
      "Epoch 2: 100%|██████████| 282/282 [00:11<00:00, 24.26it/s, loss=39, acc=0.852, AUC=0.906, val_acc=0.852, val_AUC=0.903]\n"
     ]
    },
    {
     "name": "stdout",
     "output_type": "stream",
     "text": [
      "tensor([ 0.8967, -0.3900,  1.1558, -1.0263, -0.5306,  0.7443, -0.1506,  0.0771,\n",
      "        -0.3623,  0.3474, -0.1167, -0.0291, -0.4560, -0.1599], device='cuda:0',\n",
      "       grad_fn=<DivBackward0>)\n"
     ]
    },
    {
     "name": "stderr",
     "output_type": "stream",
     "text": [
      "Epoch 3: 100%|██████████| 282/282 [00:11<00:00, 24.18it/s, loss=38.4, acc=0.854, AUC=0.909, val_acc=0.853, val_AUC=0.902]\n"
     ]
    },
    {
     "name": "stdout",
     "output_type": "stream",
     "text": [
      "tensor([ 0.9823, -0.3658,  1.2050, -1.0567, -0.5289,  0.7708, -0.1946,  0.0439,\n",
      "        -0.3455,  0.3818, -0.1122, -0.0750, -0.4977, -0.2075], device='cuda:0',\n",
      "       grad_fn=<DivBackward0>)\n"
     ]
    },
    {
     "name": "stderr",
     "output_type": "stream",
     "text": [
      "Epoch 4: 100%|██████████| 282/282 [00:11<00:00, 24.24it/s, loss=38, acc=0.855, AUC=0.911, val_acc=0.85, val_AUC=0.906]\n"
     ]
    },
    {
     "name": "stdout",
     "output_type": "stream",
     "text": [
      "tensor([ 1.0601, -0.5163,  1.2168, -1.0764, -0.4537,  0.8104, -0.1877,  0.0040,\n",
      "        -0.3208,  0.3992, -0.1273, -0.0724, -0.5079, -0.2279], device='cuda:0',\n",
      "       grad_fn=<DivBackward0>)\n"
     ]
    },
    {
     "name": "stderr",
     "output_type": "stream",
     "text": [
      "Epoch 5: 100%|██████████| 282/282 [00:11<00:00, 24.47it/s, loss=37.8, acc=0.856, AUC=0.912, val_acc=0.857, val_AUC=0.905]\n"
     ]
    },
    {
     "name": "stdout",
     "output_type": "stream",
     "text": [
      "tensor([ 1.0538, -0.4660,  1.1789, -1.0150, -0.4517,  0.8319, -0.2349,  0.0163,\n",
      "        -0.3320,  0.4508, -0.1353, -0.1033, -0.5825, -0.2111], device='cuda:0',\n",
      "       grad_fn=<DivBackward0>)\n"
     ]
    },
    {
     "name": "stderr",
     "output_type": "stream",
     "text": [
      "Epoch 6: 100%|██████████| 282/282 [00:11<00:00, 24.68it/s, loss=37.5, acc=0.856, AUC=0.913, val_acc=0.851, val_AUC=0.905]\n"
     ]
    },
    {
     "name": "stdout",
     "output_type": "stream",
     "text": [
      "tensor([ 1.1266, -0.4789,  1.1658, -0.9684, -0.4177,  0.8250, -0.2731,  0.0241,\n",
      "        -0.3348,  0.4746, -0.1204, -0.1507, -0.6325, -0.2396], device='cuda:0',\n",
      "       grad_fn=<DivBackward0>)\n"
     ]
    },
    {
     "name": "stderr",
     "output_type": "stream",
     "text": [
      "Epoch 7: 100%|██████████| 282/282 [00:11<00:00, 24.72it/s, loss=37.4, acc=0.858, AUC=0.914, val_acc=0.856, val_AUC=0.904]\n"
     ]
    },
    {
     "name": "stdout",
     "output_type": "stream",
     "text": [
      "tensor([ 1.1091, -0.4798,  1.1431, -0.9583, -0.3813,  0.8836, -0.2509, -0.0094,\n",
      "        -0.3212,  0.4649, -0.1197, -0.1491, -0.6473, -0.2837], device='cuda:0',\n",
      "       grad_fn=<DivBackward0>)\n"
     ]
    },
    {
     "name": "stderr",
     "output_type": "stream",
     "text": [
      "Epoch 8: 100%|██████████| 282/282 [00:11<00:00, 24.48it/s, loss=37.2, acc=0.858, AUC=0.915, val_acc=0.857, val_AUC=0.906]\n"
     ]
    },
    {
     "name": "stdout",
     "output_type": "stream",
     "text": [
      "tensor([ 1.1137, -0.4708,  1.1731, -1.0116, -0.3909,  0.9274, -0.2532, -0.0198,\n",
      "        -0.3107,  0.4560, -0.1081, -0.1550, -0.6335, -0.3166], device='cuda:0',\n",
      "       grad_fn=<DivBackward0>)\n"
     ]
    },
    {
     "name": "stderr",
     "output_type": "stream",
     "text": [
      "Epoch 9: 100%|██████████| 282/282 [00:11<00:00, 24.93it/s, loss=37.1, acc=0.859, AUC=0.915, val_acc=0.852, val_AUC=0.905]\n"
     ]
    },
    {
     "name": "stdout",
     "output_type": "stream",
     "text": [
      "tensor([ 1.1253, -0.4091,  1.1879, -0.9612, -0.4567,  0.9560, -0.2491, -0.0289,\n",
      "        -0.3150,  0.4698, -0.1247, -0.1865, -0.6945, -0.3133], device='cuda:0',\n",
      "       grad_fn=<DivBackward0>)\n"
     ]
    },
    {
     "name": "stderr",
     "output_type": "stream",
     "text": [
      "Epoch 10: 100%|██████████| 282/282 [00:11<00:00, 24.75it/s, loss=36.9, acc=0.859, AUC=0.916, val_acc=0.856, val_AUC=0.906]\n"
     ]
    },
    {
     "name": "stdout",
     "output_type": "stream",
     "text": [
      "tensor([ 1.1516, -0.3734,  1.1703, -0.9757, -0.4234,  0.9413, -0.2994, -0.0452,\n",
      "        -0.3077,  0.4800, -0.1263, -0.2042, -0.6551, -0.3329], device='cuda:0',\n",
      "       grad_fn=<DivBackward0>)\n"
     ]
    },
    {
     "name": "stderr",
     "output_type": "stream",
     "text": [
      "Epoch 11: 100%|██████████| 282/282 [00:11<00:00, 24.81it/s, loss=36.8, acc=0.86, AUC=0.917, val_acc=0.854, val_AUC=0.905]\n"
     ]
    },
    {
     "name": "stdout",
     "output_type": "stream",
     "text": [
      "tensor([ 1.1536, -0.3267,  1.1462, -0.9131, -0.4471,  0.9685, -0.3240, -0.0512,\n",
      "        -0.2868,  0.4992, -0.1353, -0.2266, -0.6720, -0.3847], device='cuda:0',\n",
      "       grad_fn=<DivBackward0>)\n"
     ]
    },
    {
     "name": "stderr",
     "output_type": "stream",
     "text": [
      "Epoch 12: 100%|██████████| 282/282 [00:11<00:00, 24.66it/s, loss=36.6, acc=0.86, AUC=0.918, val_acc=0.85, val_AUC=0.907]\n"
     ]
    },
    {
     "name": "stdout",
     "output_type": "stream",
     "text": [
      "tensor([ 1.1535, -0.3151,  1.1158, -0.9006, -0.4121,  0.9752, -0.3324, -0.0588,\n",
      "        -0.2871,  0.4868, -0.1551, -0.2108, -0.6628, -0.3965], device='cuda:0',\n",
      "       grad_fn=<DivBackward0>)\n"
     ]
    },
    {
     "name": "stderr",
     "output_type": "stream",
     "text": [
      "Epoch 13: 100%|██████████| 282/282 [00:11<00:00, 24.79it/s, loss=36.6, acc=0.86, AUC=0.918, val_acc=0.854, val_AUC=0.904]\n"
     ]
    },
    {
     "name": "stdout",
     "output_type": "stream",
     "text": [
      "tensor([ 1.1707, -0.3139,  1.1301, -0.9233, -0.4802,  0.9633, -0.3085, -0.0502,\n",
      "        -0.2594,  0.4908, -0.1376, -0.2565, -0.6395, -0.3859], device='cuda:0',\n",
      "       grad_fn=<DivBackward0>)\n"
     ]
    },
    {
     "name": "stderr",
     "output_type": "stream",
     "text": [
      "Epoch 14: 100%|██████████| 282/282 [00:11<00:00, 24.74it/s, loss=36.6, acc=0.86, AUC=0.918, val_acc=0.857, val_AUC=0.907]\n"
     ]
    },
    {
     "name": "stdout",
     "output_type": "stream",
     "text": [
      "tensor([ 1.1486, -0.2672,  1.1188, -0.9155, -0.4795,  0.9807, -0.2870, -0.0647,\n",
      "        -0.2601,  0.4977, -0.1268, -0.2941, -0.6431, -0.4079], device='cuda:0',\n",
      "       grad_fn=<DivBackward0>)\n"
     ]
    },
    {
     "name": "stderr",
     "output_type": "stream",
     "text": [
      "Epoch 15: 100%|██████████| 282/282 [00:11<00:00, 24.74it/s, loss=36.4, acc=0.861, AUC=0.918, val_acc=0.854, val_AUC=0.907]\n"
     ]
    },
    {
     "name": "stdout",
     "output_type": "stream",
     "text": [
      "tensor([ 1.1793, -0.2762,  1.0701, -0.8846, -0.4868,  1.0038, -0.3051, -0.0588,\n",
      "        -0.2663,  0.5119, -0.1422, -0.2710, -0.6801, -0.3939], device='cuda:0',\n",
      "       grad_fn=<DivBackward0>)\n"
     ]
    },
    {
     "name": "stderr",
     "output_type": "stream",
     "text": [
      "Epoch 16: 100%|██████████| 282/282 [00:11<00:00, 24.84it/s, loss=36.4, acc=0.861, AUC=0.919, val_acc=0.855, val_AUC=0.906]\n"
     ]
    },
    {
     "name": "stdout",
     "output_type": "stream",
     "text": [
      "tensor([ 1.1845, -0.2476,  1.0622, -0.8892, -0.5038,  0.9870, -0.3124, -0.0460,\n",
      "        -0.2463,  0.5292, -0.1397, -0.2893, -0.6851, -0.4033], device='cuda:0',\n",
      "       grad_fn=<DivBackward0>)\n"
     ]
    },
    {
     "name": "stderr",
     "output_type": "stream",
     "text": [
      "Epoch 17: 100%|██████████| 282/282 [00:11<00:00, 24.94it/s, loss=36.2, acc=0.862, AUC=0.92, val_acc=0.855, val_AUC=0.906]\n"
     ]
    },
    {
     "name": "stdout",
     "output_type": "stream",
     "text": [
      "tensor([ 1.1762, -0.2210,  1.0288, -0.8966, -0.4954,  0.9941, -0.3211, -0.0122,\n",
      "        -0.2300,  0.5387, -0.1419, -0.3096, -0.6757, -0.4344], device='cuda:0',\n",
      "       grad_fn=<DivBackward0>)\n"
     ]
    },
    {
     "name": "stderr",
     "output_type": "stream",
     "text": [
      "Epoch 18: 100%|██████████| 282/282 [00:11<00:00, 24.91it/s, loss=36.2, acc=0.861, AUC=0.92, val_acc=0.85, val_AUC=0.906]\n"
     ]
    },
    {
     "name": "stdout",
     "output_type": "stream",
     "text": [
      "tensor([ 1.1854, -0.2110,  1.0362, -0.9561, -0.4993,  0.9722, -0.3162, -0.0244,\n",
      "        -0.2102,  0.5399, -0.1195, -0.3431, -0.6500, -0.4038], device='cuda:0',\n",
      "       grad_fn=<DivBackward0>)\n"
     ]
    },
    {
     "name": "stderr",
     "output_type": "stream",
     "text": [
      "Epoch 19: 100%|██████████| 282/282 [00:11<00:00, 25.06it/s, loss=36, acc=0.862, AUC=0.92, val_acc=0.853, val_AUC=0.907]\n"
     ]
    },
    {
     "name": "stdout",
     "output_type": "stream",
     "text": [
      "tensor([ 1.1868, -0.2121,  0.9952, -0.9340, -0.5066,  0.9912, -0.3048, -0.0546,\n",
      "        -0.2172,  0.5377, -0.1016, -0.2952, -0.6610, -0.4238], device='cuda:0',\n",
      "       grad_fn=<DivBackward0>)\n"
     ]
    },
    {
     "name": "stderr",
     "output_type": "stream",
     "text": [
      "Epoch 20: 100%|██████████| 282/282 [00:11<00:00, 24.95it/s, loss=36, acc=0.863, AUC=0.921, val_acc=0.854, val_AUC=0.906]\n"
     ]
    },
    {
     "name": "stdout",
     "output_type": "stream",
     "text": [
      "tensor([ 1.1965, -0.2050,  0.9675, -0.8798, -0.5210,  0.9955, -0.3128, -0.0600,\n",
      "        -0.2142,  0.5466, -0.0991, -0.2866, -0.6890, -0.4385], device='cuda:0',\n",
      "       grad_fn=<DivBackward0>)\n"
     ]
    },
    {
     "name": "stderr",
     "output_type": "stream",
     "text": [
      "Epoch 21: 100%|██████████| 282/282 [00:11<00:00, 25.15it/s, loss=35.9, acc=0.863, AUC=0.921, val_acc=0.85, val_AUC=0.906]\n"
     ]
    },
    {
     "name": "stdout",
     "output_type": "stream",
     "text": [
      "tensor([ 1.1735, -0.2384,  0.9814, -0.8673, -0.5245,  0.9875, -0.3363, -0.0487,\n",
      "        -0.1981,  0.5669, -0.1043, -0.2790, -0.6796, -0.4331], device='cuda:0',\n",
      "       grad_fn=<DivBackward0>)\n"
     ]
    },
    {
     "name": "stderr",
     "output_type": "stream",
     "text": [
      "Epoch 22: 100%|██████████| 282/282 [00:11<00:00, 25.08it/s, loss=35.8, acc=0.863, AUC=0.922, val_acc=0.85, val_AUC=0.905]\n"
     ]
    },
    {
     "name": "stdout",
     "output_type": "stream",
     "text": [
      "tensor([ 1.1836, -0.2278,  0.9677, -0.8712, -0.5307,  0.9973, -0.3227, -0.0481,\n",
      "        -0.2169,  0.5644, -0.1058, -0.2660, -0.6735, -0.4505], device='cuda:0',\n",
      "       grad_fn=<DivBackward0>)\n"
     ]
    },
    {
     "name": "stderr",
     "output_type": "stream",
     "text": [
      "Epoch 23: 100%|██████████| 282/282 [00:11<00:00, 25.24it/s, loss=35.7, acc=0.864, AUC=0.922, val_acc=0.851, val_AUC=0.905]\n"
     ]
    },
    {
     "name": "stdout",
     "output_type": "stream",
     "text": [
      "tensor([ 1.1727, -0.2139,  0.9979, -0.8902, -0.5256,  0.9811, -0.2954, -0.0560,\n",
      "        -0.2075,  0.5756, -0.0975, -0.2893, -0.6928, -0.4591], device='cuda:0',\n",
      "       grad_fn=<DivBackward0>)\n"
     ]
    },
    {
     "name": "stderr",
     "output_type": "stream",
     "text": [
      "Epoch 24: 100%|██████████| 282/282 [00:11<00:00, 25.10it/s, loss=35.6, acc=0.863, AUC=0.923, val_acc=0.854, val_AUC=0.906]\n"
     ]
    },
    {
     "name": "stdout",
     "output_type": "stream",
     "text": [
      "tensor([ 1.1839, -0.2081,  1.0028, -0.8907, -0.5373,  0.9744, -0.3054, -0.0482,\n",
      "        -0.1767,  0.5784, -0.0994, -0.2892, -0.7122, -0.4723], device='cuda:0',\n",
      "       grad_fn=<DivBackward0>)\n"
     ]
    },
    {
     "name": "stderr",
     "output_type": "stream",
     "text": [
      "Epoch 25: 100%|██████████| 282/282 [00:11<00:00, 25.22it/s, loss=35.5, acc=0.864, AUC=0.923, val_acc=0.855, val_AUC=0.907]\n"
     ]
    },
    {
     "name": "stdout",
     "output_type": "stream",
     "text": [
      "tensor([ 1.1588, -0.1696,  0.9874, -0.8665, -0.5348,  0.9822, -0.2971, -0.0603,\n",
      "        -0.1681,  0.5771, -0.1176, -0.2976, -0.6897, -0.5042], device='cuda:0',\n",
      "       grad_fn=<DivBackward0>)\n"
     ]
    },
    {
     "name": "stderr",
     "output_type": "stream",
     "text": [
      "Epoch 26: 100%|██████████| 282/282 [00:11<00:00, 25.18it/s, loss=35.4, acc=0.865, AUC=0.924, val_acc=0.854, val_AUC=0.906]\n"
     ]
    },
    {
     "name": "stdout",
     "output_type": "stream",
     "text": [
      "tensor([ 1.1480, -0.1690,  0.9815, -0.8441, -0.5390,  0.9777, -0.2767, -0.0664,\n",
      "        -0.1696,  0.5848, -0.1360, -0.3141, -0.6789, -0.4981], device='cuda:0',\n",
      "       grad_fn=<DivBackward0>)\n"
     ]
    },
    {
     "name": "stderr",
     "output_type": "stream",
     "text": [
      "Epoch 27: 100%|██████████| 282/282 [00:11<00:00, 25.04it/s, loss=35.4, acc=0.864, AUC=0.923, val_acc=0.854, val_AUC=0.905]\n"
     ]
    },
    {
     "name": "stdout",
     "output_type": "stream",
     "text": [
      "tensor([ 1.1658, -0.2048,  0.9795, -0.8372, -0.5333,  0.9894, -0.2806, -0.0656,\n",
      "        -0.1642,  0.5923, -0.1398, -0.3216, -0.6876, -0.4924], device='cuda:0',\n",
      "       grad_fn=<DivBackward0>)\n"
     ]
    },
    {
     "name": "stderr",
     "output_type": "stream",
     "text": [
      "Epoch 28: 100%|██████████| 282/282 [00:11<00:00, 24.94it/s, loss=35.3, acc=0.864, AUC=0.924, val_acc=0.854, val_AUC=0.906]\n"
     ]
    },
    {
     "name": "stdout",
     "output_type": "stream",
     "text": [
      "tensor([ 1.1775, -0.2125,  0.9971, -0.8359, -0.5208,  0.9696, -0.3083, -0.0541,\n",
      "        -0.1406,  0.5886, -0.1432, -0.3364, -0.6756, -0.5054], device='cuda:0',\n",
      "       grad_fn=<DivBackward0>)\n"
     ]
    },
    {
     "name": "stderr",
     "output_type": "stream",
     "text": [
      "Epoch 29: 100%|██████████| 282/282 [00:11<00:00, 25.06it/s, loss=35.2, acc=0.865, AUC=0.925, val_acc=0.852, val_AUC=0.905]\n"
     ]
    },
    {
     "name": "stdout",
     "output_type": "stream",
     "text": [
      "tensor([ 1.1556, -0.2111,  0.9861, -0.8355, -0.5111,  0.9841, -0.2958, -0.0646,\n",
      "        -0.1371,  0.5881, -0.1335, -0.3613, -0.6676, -0.4964], device='cuda:0',\n",
      "       grad_fn=<DivBackward0>)\n"
     ]
    },
    {
     "name": "stderr",
     "output_type": "stream",
     "text": [
      "Epoch 30: 100%|██████████| 282/282 [00:11<00:00, 25.22it/s, loss=35.1, acc=0.867, AUC=0.925, val_acc=0.85, val_AUC=0.905]\n"
     ]
    },
    {
     "name": "stdout",
     "output_type": "stream",
     "text": [
      "tensor([ 1.1514, -0.2103,  0.9556, -0.8188, -0.5158,  0.9717, -0.2637, -0.0580,\n",
      "        -0.1518,  0.5822, -0.1336, -0.3401, -0.6644, -0.5045], device='cuda:0',\n",
      "       grad_fn=<DivBackward0>)\n"
     ]
    },
    {
     "name": "stderr",
     "output_type": "stream",
     "text": [
      "Epoch 31: 100%|██████████| 282/282 [00:11<00:00, 25.23it/s, loss=35.1, acc=0.866, AUC=0.925, val_acc=0.85, val_AUC=0.904]\n"
     ]
    },
    {
     "name": "stdout",
     "output_type": "stream",
     "text": [
      "tensor([ 1.1638, -0.2076,  0.9579, -0.7915, -0.5277,  0.9789, -0.2656, -0.0546,\n",
      "        -0.1661,  0.5702, -0.1288, -0.3370, -0.6844, -0.5074], device='cuda:0',\n",
      "       grad_fn=<DivBackward0>)\n"
     ]
    },
    {
     "name": "stderr",
     "output_type": "stream",
     "text": [
      "Epoch 32: 100%|██████████| 282/282 [00:11<00:00, 25.07it/s, loss=34.9, acc=0.867, AUC=0.926, val_acc=0.847, val_AUC=0.904]\n"
     ]
    },
    {
     "name": "stdout",
     "output_type": "stream",
     "text": [
      "tensor([ 1.1534, -0.2028,  0.9378, -0.7838, -0.5535,  0.9832, -0.2612, -0.0546,\n",
      "        -0.1523,  0.5715, -0.1112, -0.3381, -0.6764, -0.5120], device='cuda:0',\n",
      "       grad_fn=<DivBackward0>)\n"
     ]
    },
    {
     "name": "stderr",
     "output_type": "stream",
     "text": [
      "Epoch 33: 100%|██████████| 282/282 [00:11<00:00, 25.41it/s, loss=34.8, acc=0.867, AUC=0.926, val_acc=0.849, val_AUC=0.903]\n"
     ]
    },
    {
     "name": "stdout",
     "output_type": "stream",
     "text": [
      "tensor([ 1.1289, -0.1759,  0.9213, -0.8177, -0.5376,  0.9658, -0.2533, -0.0587,\n",
      "        -0.1317,  0.5767, -0.1001, -0.3027, -0.7148, -0.5002], device='cuda:0',\n",
      "       grad_fn=<DivBackward0>)\n"
     ]
    },
    {
     "name": "stderr",
     "output_type": "stream",
     "text": [
      "Epoch 34: 100%|██████████| 282/282 [00:11<00:00, 25.17it/s, loss=34.8, acc=0.867, AUC=0.926, val_acc=0.853, val_AUC=0.905]\n"
     ]
    },
    {
     "name": "stdout",
     "output_type": "stream",
     "text": [
      "tensor([ 1.1170, -0.1761,  0.9065, -0.8063, -0.5241,  0.9524, -0.2788, -0.0750,\n",
      "        -0.1352,  0.5840, -0.0803, -0.2901, -0.6914, -0.5028], device='cuda:0',\n",
      "       grad_fn=<DivBackward0>)\n"
     ]
    },
    {
     "name": "stderr",
     "output_type": "stream",
     "text": [
      "Epoch 35: 100%|██████████| 282/282 [00:11<00:00, 25.28it/s, loss=34.6, acc=0.869, AUC=0.927, val_acc=0.845, val_AUC=0.902]\n"
     ]
    },
    {
     "name": "stdout",
     "output_type": "stream",
     "text": [
      "tensor([ 1.1314, -0.1973,  0.9034, -0.8202, -0.5183,  0.9545, -0.2880, -0.0658,\n",
      "        -0.1243,  0.5845, -0.0859, -0.3127, -0.6664, -0.4949], device='cuda:0',\n",
      "       grad_fn=<DivBackward0>)\n"
     ]
    },
    {
     "name": "stderr",
     "output_type": "stream",
     "text": [
      "Epoch 36: 100%|██████████| 282/282 [00:11<00:00, 25.07it/s, loss=34.7, acc=0.868, AUC=0.927, val_acc=0.853, val_AUC=0.905]\n"
     ]
    },
    {
     "name": "stdout",
     "output_type": "stream",
     "text": [
      "tensor([ 1.1299, -0.2087,  0.8795, -0.8408, -0.5165,  0.9535, -0.2690, -0.0446,\n",
      "        -0.1074,  0.5979, -0.0883, -0.3348, -0.6585, -0.4924], device='cuda:0',\n",
      "       grad_fn=<DivBackward0>)\n"
     ]
    },
    {
     "name": "stderr",
     "output_type": "stream",
     "text": [
      "Epoch 37: 100%|██████████| 282/282 [00:11<00:00, 25.23it/s, loss=34.5, acc=0.868, AUC=0.928, val_acc=0.849, val_AUC=0.903]\n"
     ]
    },
    {
     "name": "stdout",
     "output_type": "stream",
     "text": [
      "tensor([ 1.1456, -0.2074,  0.9038, -0.8660, -0.5316,  0.9437, -0.2490, -0.0433,\n",
      "        -0.1087,  0.5895, -0.0931, -0.3386, -0.6694, -0.4755], device='cuda:0',\n",
      "       grad_fn=<DivBackward0>)\n"
     ]
    },
    {
     "name": "stderr",
     "output_type": "stream",
     "text": [
      "Epoch 38: 100%|██████████| 282/282 [00:11<00:00, 25.25it/s, loss=34.6, acc=0.867, AUC=0.927, val_acc=0.847, val_AUC=0.901]\n"
     ]
    },
    {
     "name": "stdout",
     "output_type": "stream",
     "text": [
      "tensor([ 1.1235, -0.1947,  0.9134, -0.8319, -0.5181,  0.9606, -0.2513, -0.0676,\n",
      "        -0.1066,  0.5621, -0.0869, -0.3470, -0.6701, -0.4855], device='cuda:0',\n",
      "       grad_fn=<DivBackward0>)\n"
     ]
    },
    {
     "name": "stderr",
     "output_type": "stream",
     "text": [
      "Epoch 39: 100%|██████████| 282/282 [00:11<00:00, 25.21it/s, loss=34.4, acc=0.868, AUC=0.928, val_acc=0.848, val_AUC=0.902]\n"
     ]
    },
    {
     "name": "stdout",
     "output_type": "stream",
     "text": [
      "tensor([ 1.1169, -0.2000,  0.9219, -0.8222, -0.5065,  0.9548, -0.2478, -0.0810,\n",
      "        -0.1059,  0.5654, -0.0918, -0.3300, -0.6667, -0.5071], device='cuda:0',\n",
      "       grad_fn=<DivBackward0>)\n"
     ]
    },
    {
     "name": "stderr",
     "output_type": "stream",
     "text": [
      "Epoch 40: 100%|██████████| 282/282 [00:11<00:00, 25.22it/s, loss=34.3, acc=0.869, AUC=0.928, val_acc=0.847, val_AUC=0.903]\n"
     ]
    },
    {
     "name": "stdout",
     "output_type": "stream",
     "text": [
      "tensor([ 1.1257, -0.1864,  0.9153, -0.8063, -0.5157,  0.9632, -0.2463, -0.0730,\n",
      "        -0.1207,  0.5682, -0.1075, -0.3204, -0.6801, -0.5159], device='cuda:0',\n",
      "       grad_fn=<DivBackward0>)\n"
     ]
    },
    {
     "name": "stderr",
     "output_type": "stream",
     "text": [
      "Epoch 41: 100%|██████████| 282/282 [00:11<00:00, 25.22it/s, loss=34.2, acc=0.869, AUC=0.929, val_acc=0.845, val_AUC=0.902]\n"
     ]
    },
    {
     "name": "stdout",
     "output_type": "stream",
     "text": [
      "tensor([ 1.1153, -0.1779,  0.9126, -0.8199, -0.5108,  0.9740, -0.2357, -0.0707,\n",
      "        -0.1014,  0.5709, -0.0945, -0.3430, -0.6995, -0.5194], device='cuda:0',\n",
      "       grad_fn=<DivBackward0>)\n"
     ]
    },
    {
     "name": "stderr",
     "output_type": "stream",
     "text": [
      "Epoch 42: 100%|██████████| 282/282 [00:11<00:00, 25.26it/s, loss=34, acc=0.871, AUC=0.93, val_acc=0.843, val_AUC=0.901]\n"
     ]
    },
    {
     "name": "stdout",
     "output_type": "stream",
     "text": [
      "tensor([ 1.1217, -0.1806,  0.8926, -0.8298, -0.5124,  0.9444, -0.2422, -0.0514,\n",
      "        -0.0754,  0.5920, -0.1101, -0.3918, -0.6696, -0.4873], device='cuda:0',\n",
      "       grad_fn=<DivBackward0>)\n"
     ]
    },
    {
     "name": "stderr",
     "output_type": "stream",
     "text": [
      "Epoch 43: 100%|██████████| 282/282 [00:11<00:00, 25.10it/s, loss=34, acc=0.871, AUC=0.93, val_acc=0.845, val_AUC=0.902]\n"
     ]
    },
    {
     "name": "stdout",
     "output_type": "stream",
     "text": [
      "tensor([ 1.1161, -0.2002,  0.8940, -0.8188, -0.5067,  0.9626, -0.2504, -0.0512,\n",
      "        -0.0870,  0.5889, -0.1129, -0.3560, -0.6735, -0.5050], device='cuda:0',\n",
      "       grad_fn=<DivBackward0>)\n"
     ]
    },
    {
     "name": "stderr",
     "output_type": "stream",
     "text": [
      "Epoch 44: 100%|██████████| 282/282 [00:11<00:00, 25.15it/s, loss=33.9, acc=0.869, AUC=0.93, val_acc=0.849, val_AUC=0.902]\n"
     ]
    },
    {
     "name": "stdout",
     "output_type": "stream",
     "text": [
      "tensor([ 1.1162, -0.2321,  0.8776, -0.8250, -0.5104,  0.9505, -0.2393, -0.0537,\n",
      "        -0.0852,  0.5958, -0.1085, -0.3122, -0.6679, -0.5059], device='cuda:0',\n",
      "       grad_fn=<DivBackward0>)\n"
     ]
    },
    {
     "name": "stderr",
     "output_type": "stream",
     "text": [
      "Epoch 45: 100%|██████████| 282/282 [00:11<00:00, 25.39it/s, loss=33.8, acc=0.871, AUC=0.931, val_acc=0.846, val_AUC=0.9]\n"
     ]
    },
    {
     "name": "stdout",
     "output_type": "stream",
     "text": [
      "tensor([ 1.1099, -0.2349,  0.8888, -0.8158, -0.4884,  0.9466, -0.2398, -0.0541,\n",
      "        -0.0742,  0.5915, -0.1080, -0.3175, -0.7035, -0.5006], device='cuda:0',\n",
      "       grad_fn=<DivBackward0>)\n"
     ]
    },
    {
     "name": "stderr",
     "output_type": "stream",
     "text": [
      "Epoch 46: 100%|██████████| 282/282 [00:11<00:00, 25.41it/s, loss=33.8, acc=0.871, AUC=0.931, val_acc=0.844, val_AUC=0.901]\n"
     ]
    },
    {
     "name": "stdout",
     "output_type": "stream",
     "text": [
      "tensor([ 1.1075, -0.2157,  0.8796, -0.8113, -0.4855,  0.9359, -0.2291, -0.0448,\n",
      "        -0.0609,  0.5914, -0.1121, -0.3384, -0.7018, -0.5146], device='cuda:0',\n",
      "       grad_fn=<DivBackward0>)\n"
     ]
    },
    {
     "name": "stderr",
     "output_type": "stream",
     "text": [
      "Epoch 47: 100%|██████████| 282/282 [00:11<00:00, 25.43it/s, loss=33.7, acc=0.872, AUC=0.931, val_acc=0.842, val_AUC=0.902]\n"
     ]
    },
    {
     "name": "stdout",
     "output_type": "stream",
     "text": [
      "tensor([ 1.0996, -0.2208,  0.8599, -0.8139, -0.4974,  0.9265, -0.2116, -0.0519,\n",
      "        -0.0497,  0.6051, -0.1159, -0.3422, -0.6810, -0.5067], device='cuda:0',\n",
      "       grad_fn=<DivBackward0>)\n"
     ]
    },
    {
     "name": "stderr",
     "output_type": "stream",
     "text": [
      "Epoch 48: 100%|██████████| 282/282 [00:11<00:00, 25.13it/s, loss=33.6, acc=0.871, AUC=0.932, val_acc=0.839, val_AUC=0.899]\n"
     ]
    },
    {
     "name": "stdout",
     "output_type": "stream",
     "text": [
      "tensor([ 1.0874, -0.2132,  0.8696, -0.8356, -0.4863,  0.9158, -0.2138, -0.0500,\n",
      "        -0.0474,  0.6016, -0.1019, -0.3258, -0.7021, -0.4984], device='cuda:0',\n",
      "       grad_fn=<DivBackward0>)\n"
     ]
    },
    {
     "name": "stderr",
     "output_type": "stream",
     "text": [
      "Epoch 49: 100%|██████████| 282/282 [00:11<00:00, 25.36it/s, loss=33.5, acc=0.873, AUC=0.932, val_acc=0.841, val_AUC=0.898]\n"
     ]
    },
    {
     "name": "stdout",
     "output_type": "stream",
     "text": [
      "tensor([ 1.0905, -0.2221,  0.8825, -0.8328, -0.4940,  0.9274, -0.2046, -0.0569,\n",
      "        -0.0415,  0.6001, -0.1062, -0.3256, -0.7022, -0.5148], device='cuda:0',\n",
      "       grad_fn=<DivBackward0>)\n"
     ]
    },
    {
     "name": "stderr",
     "output_type": "stream",
     "text": [
      "Epoch 50: 100%|██████████| 282/282 [00:11<00:00, 25.38it/s, loss=33.5, acc=0.871, AUC=0.932, val_acc=0.843, val_AUC=0.901]\n"
     ]
    },
    {
     "name": "stdout",
     "output_type": "stream",
     "text": [
      "tensor([ 1.0912, -0.2350,  0.8721, -0.8239, -0.5062,  0.9405, -0.1969, -0.0617,\n",
      "        -0.0249,  0.5967, -0.1173, -0.3048, -0.7096, -0.5202], device='cuda:0',\n",
      "       grad_fn=<DivBackward0>)\n",
      "test_acc: 1.0\n",
      "test_auc: 1.0\n",
      "-----------------------------------------\n"
     ]
    },
    {
     "name": "stderr",
     "output_type": "stream",
     "text": [
      "wandb: WARNING Source type is set to 'repo' but some required information is missing from the environment. A job will not be created from this run. See https://docs.wandb.ai/guides/launch/create-job\n"
     ]
    },
    {
     "name": "stdout",
     "output_type": "stream",
     "text": [
      "=================[ 4 Fold ]=================\n",
      "train_data: torch.Size([35167, 14])\n",
      "train_label: torch.Size([35167])\n",
      "validation_data: torch.Size([3907, 14])\n",
      "validation_label: torch.Size([3907])\n",
      "test_data: torch.Size([9768, 14])\n",
      "test_label: torch.Size([9768])\n",
      "-----------------------------------------\n"
     ]
    },
    {
     "name": "stderr",
     "output_type": "stream",
     "text": [
      "Epoch 1: 100%|██████████| 282/282 [00:10<00:00, 25.85it/s, loss=42.8, acc=0.837, AUC=0.886, val_acc=0.832, val_AUC=0.897]\n"
     ]
    },
    {
     "name": "stdout",
     "output_type": "stream",
     "text": [
      "tensor([ 0.2632,  0.3272,  0.6512, -0.7502,  0.5271, -0.7733, -0.4934, -0.3068,\n",
      "         0.1273, -0.0044,  0.0367,  0.1270,  0.4142, -0.1457], device='cuda:0',\n",
      "       grad_fn=<DivBackward0>)\n"
     ]
    },
    {
     "name": "stderr",
     "output_type": "stream",
     "text": [
      "Epoch 2: 100%|██████████| 282/282 [00:10<00:00, 25.64it/s, loss=39.1, acc=0.852, AUC=0.907, val_acc=0.834, val_AUC=0.901]\n"
     ]
    },
    {
     "name": "stdout",
     "output_type": "stream",
     "text": [
      "tensor([ 0.0136,  0.2916,  0.4195, -0.3558,  0.6675, -1.2344, -0.5130, -0.4168,\n",
      "         0.1448, -0.1002,  0.2083,  0.1646,  0.7778, -0.0674], device='cuda:0',\n",
      "       grad_fn=<DivBackward0>)\n"
     ]
    },
    {
     "name": "stderr",
     "output_type": "stream",
     "text": [
      "Epoch 3: 100%|██████████| 282/282 [00:11<00:00, 25.57it/s, loss=38.3, acc=0.854, AUC=0.91, val_acc=0.836, val_AUC=0.902]\n"
     ]
    },
    {
     "name": "stdout",
     "output_type": "stream",
     "text": [
      "tensor([-0.0773,  0.3203,  0.4093, -0.1589,  0.5589, -1.2156, -0.4690, -0.4280,\n",
      "         0.0810, -0.0948,  0.1974,  0.1504,  0.7766, -0.0502], device='cuda:0',\n",
      "       grad_fn=<DivBackward0>)\n"
     ]
    },
    {
     "name": "stderr",
     "output_type": "stream",
     "text": [
      "Epoch 4: 100%|██████████| 282/282 [00:10<00:00, 25.68it/s, loss=38, acc=0.855, AUC=0.912, val_acc=0.844, val_AUC=0.904]\n"
     ]
    },
    {
     "name": "stdout",
     "output_type": "stream",
     "text": [
      "tensor([-0.1855,  0.3370,  0.4299, -0.0520,  0.5426, -1.2322, -0.4523, -0.4209,\n",
      "         0.0045, -0.0707,  0.1946,  0.2125,  0.7342, -0.0417], device='cuda:0',\n",
      "       grad_fn=<DivBackward0>)\n"
     ]
    },
    {
     "name": "stderr",
     "output_type": "stream",
     "text": [
      "Epoch 5: 100%|██████████| 282/282 [00:11<00:00, 25.58it/s, loss=37.7, acc=0.858, AUC=0.914, val_acc=0.842, val_AUC=0.904]\n"
     ]
    },
    {
     "name": "stdout",
     "output_type": "stream",
     "text": [
      "tensor([-0.1983,  0.3109,  0.3909,  0.0157,  0.5008, -1.2632, -0.4313, -0.4219,\n",
      "        -0.0297, -0.0702,  0.2050,  0.2605,  0.7582, -0.0274], device='cuda:0',\n",
      "       grad_fn=<DivBackward0>)\n"
     ]
    },
    {
     "name": "stderr",
     "output_type": "stream",
     "text": [
      "Epoch 6: 100%|██████████| 282/282 [00:10<00:00, 25.74it/s, loss=37.5, acc=0.857, AUC=0.914, val_acc=0.847, val_AUC=0.907]\n"
     ]
    },
    {
     "name": "stdout",
     "output_type": "stream",
     "text": [
      "tensor([-0.1506,  0.3140,  0.3935, -0.0161,  0.4579, -1.2683, -0.4351, -0.4166,\n",
      "        -0.0650, -0.0665,  0.1820,  0.2759,  0.7932,  0.0016], device='cuda:0',\n",
      "       grad_fn=<DivBackward0>)\n"
     ]
    },
    {
     "name": "stderr",
     "output_type": "stream",
     "text": [
      "Epoch 7: 100%|██████████| 282/282 [00:11<00:00, 25.62it/s, loss=37.3, acc=0.86, AUC=0.915, val_acc=0.846, val_AUC=0.907]\n"
     ]
    },
    {
     "name": "stdout",
     "output_type": "stream",
     "text": [
      "tensor([-0.1560,  0.3421,  0.4179,  0.0097,  0.4266, -1.2445, -0.4405, -0.4406,\n",
      "        -0.1101, -0.0754,  0.1935,  0.2858,  0.7364,  0.0552], device='cuda:0',\n",
      "       grad_fn=<DivBackward0>)\n"
     ]
    },
    {
     "name": "stderr",
     "output_type": "stream",
     "text": [
      "Epoch 8: 100%|██████████| 282/282 [00:10<00:00, 25.73it/s, loss=36.9, acc=0.861, AUC=0.917, val_acc=0.845, val_AUC=0.907]\n"
     ]
    },
    {
     "name": "stdout",
     "output_type": "stream",
     "text": [
      "tensor([-0.1613,  0.3680,  0.4168,  0.0983,  0.4319, -1.2231, -0.5068, -0.4426,\n",
      "        -0.0991, -0.0774,  0.2253,  0.1763,  0.7066,  0.0871], device='cuda:0',\n",
      "       grad_fn=<DivBackward0>)\n"
     ]
    },
    {
     "name": "stderr",
     "output_type": "stream",
     "text": [
      "Epoch 9: 100%|██████████| 282/282 [00:11<00:00, 25.51it/s, loss=36.9, acc=0.859, AUC=0.917, val_acc=0.842, val_AUC=0.907]\n"
     ]
    },
    {
     "name": "stdout",
     "output_type": "stream",
     "text": [
      "tensor([-0.1796,  0.3380,  0.4368,  0.1917,  0.4036, -1.2091, -0.5085, -0.4364,\n",
      "        -0.1316, -0.0695,  0.2423,  0.1088,  0.7009,  0.1127], device='cuda:0',\n",
      "       grad_fn=<DivBackward0>)\n"
     ]
    },
    {
     "name": "stderr",
     "output_type": "stream",
     "text": [
      "Epoch 10: 100%|██████████| 282/282 [00:10<00:00, 25.69it/s, loss=36.8, acc=0.862, AUC=0.918, val_acc=0.848, val_AUC=0.907]\n"
     ]
    },
    {
     "name": "stdout",
     "output_type": "stream",
     "text": [
      "tensor([-0.2107,  0.3514,  0.4103,  0.2160,  0.4245, -1.2002, -0.5551, -0.4338,\n",
      "        -0.1501, -0.0612,  0.2584,  0.1139,  0.7038,  0.1328], device='cuda:0',\n",
      "       grad_fn=<DivBackward0>)\n"
     ]
    },
    {
     "name": "stderr",
     "output_type": "stream",
     "text": [
      "Epoch 11: 100%|██████████| 282/282 [00:10<00:00, 25.76it/s, loss=36.6, acc=0.862, AUC=0.918, val_acc=0.844, val_AUC=0.908]\n"
     ]
    },
    {
     "name": "stdout",
     "output_type": "stream",
     "text": [
      "tensor([-0.1650,  0.3818,  0.3959,  0.2010,  0.4263, -1.1895, -0.6052, -0.4381,\n",
      "        -0.1423, -0.0600,  0.2769,  0.1624,  0.6828,  0.0732], device='cuda:0',\n",
      "       grad_fn=<DivBackward0>)\n"
     ]
    },
    {
     "name": "stderr",
     "output_type": "stream",
     "text": [
      "Epoch 12: 100%|██████████| 282/282 [00:10<00:00, 25.73it/s, loss=36.4, acc=0.862, AUC=0.92, val_acc=0.847, val_AUC=0.907]\n"
     ]
    },
    {
     "name": "stdout",
     "output_type": "stream",
     "text": [
      "tensor([-0.1620,  0.3588,  0.4406,  0.1837,  0.3265, -1.1944, -0.6013, -0.4503,\n",
      "        -0.1574, -0.0442,  0.2852,  0.1829,  0.6894,  0.1424], device='cuda:0',\n",
      "       grad_fn=<DivBackward0>)\n"
     ]
    },
    {
     "name": "stderr",
     "output_type": "stream",
     "text": [
      "Epoch 13: 100%|██████████| 282/282 [00:11<00:00, 25.60it/s, loss=36.5, acc=0.861, AUC=0.919, val_acc=0.845, val_AUC=0.906]\n"
     ]
    },
    {
     "name": "stdout",
     "output_type": "stream",
     "text": [
      "tensor([-0.2196,  0.3547,  0.4774,  0.2638,  0.3109, -1.1608, -0.5849, -0.4805,\n",
      "        -0.1657, -0.0429,  0.2610,  0.1263,  0.6938,  0.1666], device='cuda:0',\n",
      "       grad_fn=<DivBackward0>)\n"
     ]
    },
    {
     "name": "stderr",
     "output_type": "stream",
     "text": [
      "Epoch 14: 100%|██████████| 282/282 [00:11<00:00, 25.58it/s, loss=36.3, acc=0.863, AUC=0.92, val_acc=0.845, val_AUC=0.907]\n"
     ]
    },
    {
     "name": "stdout",
     "output_type": "stream",
     "text": [
      "tensor([-0.2314,  0.3597,  0.4483,  0.2962,  0.3327, -1.1687, -0.5878, -0.4853,\n",
      "        -0.1520, -0.0380,  0.3001,  0.1104,  0.6705,  0.1454], device='cuda:0',\n",
      "       grad_fn=<DivBackward0>)\n"
     ]
    },
    {
     "name": "stderr",
     "output_type": "stream",
     "text": [
      "Epoch 15: 100%|██████████| 282/282 [00:10<00:00, 25.77it/s, loss=36.2, acc=0.861, AUC=0.92, val_acc=0.849, val_AUC=0.907]\n"
     ]
    },
    {
     "name": "stdout",
     "output_type": "stream",
     "text": [
      "tensor([-0.2361,  0.3417,  0.4065,  0.3393,  0.3511, -1.1400, -0.6079, -0.5037,\n",
      "        -0.1331, -0.0468,  0.2752,  0.1367,  0.6819,  0.1353], device='cuda:0',\n",
      "       grad_fn=<DivBackward0>)\n"
     ]
    },
    {
     "name": "stderr",
     "output_type": "stream",
     "text": [
      "Epoch 16: 100%|██████████| 282/282 [00:10<00:00, 25.75it/s, loss=36.2, acc=0.862, AUC=0.92, val_acc=0.843, val_AUC=0.906]\n"
     ]
    },
    {
     "name": "stdout",
     "output_type": "stream",
     "text": [
      "tensor([-0.2142,  0.3565,  0.4065,  0.3307,  0.3214, -1.1189, -0.5792, -0.5229,\n",
      "        -0.1371, -0.0421,  0.2499,  0.1059,  0.6821,  0.1615], device='cuda:0',\n",
      "       grad_fn=<DivBackward0>)\n"
     ]
    },
    {
     "name": "stderr",
     "output_type": "stream",
     "text": [
      "Epoch 17: 100%|██████████| 282/282 [00:11<00:00, 25.59it/s, loss=36, acc=0.863, AUC=0.921, val_acc=0.849, val_AUC=0.905]\n"
     ]
    },
    {
     "name": "stdout",
     "output_type": "stream",
     "text": [
      "tensor([-0.1930,  0.3473,  0.4101,  0.3033,  0.3367, -1.1229, -0.5874, -0.4963,\n",
      "        -0.1513, -0.0337,  0.2461,  0.1072,  0.6774,  0.1567], device='cuda:0',\n",
      "       grad_fn=<DivBackward0>)\n"
     ]
    },
    {
     "name": "stderr",
     "output_type": "stream",
     "text": [
      "Epoch 18: 100%|██████████| 282/282 [00:10<00:00, 25.79it/s, loss=35.9, acc=0.864, AUC=0.922, val_acc=0.846, val_AUC=0.907]\n"
     ]
    },
    {
     "name": "stdout",
     "output_type": "stream",
     "text": [
      "tensor([-0.1578,  0.3071,  0.4179,  0.3106,  0.3940, -1.1178, -0.6017, -0.4949,\n",
      "        -0.1693, -0.0576,  0.2773,  0.1180,  0.6450,  0.1291], device='cuda:0',\n",
      "       grad_fn=<DivBackward0>)\n"
     ]
    },
    {
     "name": "stderr",
     "output_type": "stream",
     "text": [
      "Epoch 19: 100%|██████████| 282/282 [00:10<00:00, 25.67it/s, loss=35.8, acc=0.864, AUC=0.922, val_acc=0.847, val_AUC=0.906]\n"
     ]
    },
    {
     "name": "stdout",
     "output_type": "stream",
     "text": [
      "tensor([-0.1690,  0.3367,  0.4061,  0.3192,  0.3655, -1.1492, -0.6067, -0.4881,\n",
      "        -0.1649, -0.0741,  0.2967,  0.1154,  0.6446,  0.1677], device='cuda:0',\n",
      "       grad_fn=<DivBackward0>)\n"
     ]
    },
    {
     "name": "stderr",
     "output_type": "stream",
     "text": [
      "Epoch 20: 100%|██████████| 282/282 [00:10<00:00, 25.81it/s, loss=35.7, acc=0.865, AUC=0.923, val_acc=0.848, val_AUC=0.908]\n"
     ]
    },
    {
     "name": "stdout",
     "output_type": "stream",
     "text": [
      "tensor([-0.2217,  0.3215,  0.3792,  0.3600,  0.3504, -1.1320, -0.6499, -0.4872,\n",
      "        -0.1508, -0.0749,  0.3167,  0.1447,  0.6294,  0.2146], device='cuda:0',\n",
      "       grad_fn=<DivBackward0>)\n"
     ]
    },
    {
     "name": "stderr",
     "output_type": "stream",
     "text": [
      "Epoch 21: 100%|██████████| 282/282 [00:11<00:00, 25.54it/s, loss=35.6, acc=0.865, AUC=0.923, val_acc=0.845, val_AUC=0.908]\n"
     ]
    },
    {
     "name": "stdout",
     "output_type": "stream",
     "text": [
      "tensor([-0.2202,  0.2949,  0.3640,  0.4079,  0.3447, -1.0678, -0.6365, -0.4804,\n",
      "        -0.1409, -0.0758,  0.2943,  0.1133,  0.6331,  0.1693], device='cuda:0',\n",
      "       grad_fn=<DivBackward0>)\n"
     ]
    },
    {
     "name": "stderr",
     "output_type": "stream",
     "text": [
      "Epoch 22: 100%|██████████| 282/282 [00:10<00:00, 25.80it/s, loss=35.5, acc=0.865, AUC=0.924, val_acc=0.848, val_AUC=0.905]\n"
     ]
    },
    {
     "name": "stdout",
     "output_type": "stream",
     "text": [
      "tensor([-0.2256,  0.2884,  0.3820,  0.3552,  0.3279, -1.0554, -0.5801, -0.4795,\n",
      "        -0.1424, -0.0809,  0.3183,  0.0692,  0.6191,  0.2039], device='cuda:0',\n",
      "       grad_fn=<DivBackward0>)\n"
     ]
    },
    {
     "name": "stderr",
     "output_type": "stream",
     "text": [
      "Epoch 23: 100%|██████████| 282/282 [00:10<00:00, 25.75it/s, loss=35.5, acc=0.865, AUC=0.924, val_acc=0.849, val_AUC=0.906]\n"
     ]
    },
    {
     "name": "stdout",
     "output_type": "stream",
     "text": [
      "tensor([-0.2265,  0.2865,  0.3801,  0.3444,  0.3625, -1.0365, -0.5771, -0.4794,\n",
      "        -0.1502, -0.0884,  0.3164,  0.1096,  0.5957,  0.1629], device='cuda:0',\n",
      "       grad_fn=<DivBackward0>)\n"
     ]
    },
    {
     "name": "stderr",
     "output_type": "stream",
     "text": [
      "Epoch 24: 100%|██████████| 282/282 [00:10<00:00, 25.83it/s, loss=35.3, acc=0.866, AUC=0.924, val_acc=0.847, val_AUC=0.906]\n"
     ]
    },
    {
     "name": "stdout",
     "output_type": "stream",
     "text": [
      "tensor([-0.2175,  0.3302,  0.3686,  0.3323,  0.3430, -1.0211, -0.6047, -0.4912,\n",
      "        -0.1616, -0.0987,  0.3075,  0.1301,  0.5912,  0.1918], device='cuda:0',\n",
      "       grad_fn=<DivBackward0>)\n"
     ]
    },
    {
     "name": "stderr",
     "output_type": "stream",
     "text": [
      "Epoch 25: 100%|██████████| 282/282 [00:10<00:00, 25.66it/s, loss=35.3, acc=0.865, AUC=0.925, val_acc=0.848, val_AUC=0.903]\n"
     ]
    },
    {
     "name": "stdout",
     "output_type": "stream",
     "text": [
      "tensor([-0.2256,  0.3575,  0.3684,  0.3797,  0.2991, -0.9982, -0.6388, -0.4914,\n",
      "        -0.1698, -0.0973,  0.3213,  0.1071,  0.5739,  0.2141], device='cuda:0',\n",
      "       grad_fn=<DivBackward0>)\n"
     ]
    },
    {
     "name": "stderr",
     "output_type": "stream",
     "text": [
      "Epoch 26: 100%|██████████| 282/282 [00:10<00:00, 25.68it/s, loss=35.3, acc=0.866, AUC=0.925, val_acc=0.845, val_AUC=0.906]\n"
     ]
    },
    {
     "name": "stdout",
     "output_type": "stream",
     "text": [
      "tensor([-0.2459,  0.3599,  0.3576,  0.4185,  0.2862, -1.0182, -0.6357, -0.4750,\n",
      "        -0.1706, -0.1080,  0.3109,  0.1481,  0.5653,  0.2066], device='cuda:0',\n",
      "       grad_fn=<DivBackward0>)\n"
     ]
    },
    {
     "name": "stderr",
     "output_type": "stream",
     "text": [
      "Epoch 27: 100%|██████████| 282/282 [00:10<00:00, 25.80it/s, loss=35.2, acc=0.867, AUC=0.925, val_acc=0.847, val_AUC=0.905]\n"
     ]
    },
    {
     "name": "stdout",
     "output_type": "stream",
     "text": [
      "tensor([-0.2240,  0.3499,  0.3577,  0.3833,  0.2765, -1.0275, -0.6407, -0.4833,\n",
      "        -0.1597, -0.1025,  0.3353,  0.1818,  0.5617,  0.1914], device='cuda:0',\n",
      "       grad_fn=<DivBackward0>)\n"
     ]
    },
    {
     "name": "stderr",
     "output_type": "stream",
     "text": [
      "Epoch 28: 100%|██████████| 282/282 [00:10<00:00, 25.65it/s, loss=35, acc=0.866, AUC=0.926, val_acc=0.846, val_AUC=0.905]\n"
     ]
    },
    {
     "name": "stdout",
     "output_type": "stream",
     "text": [
      "tensor([-0.2366,  0.3694,  0.3586,  0.3824,  0.2932, -1.0293, -0.6405, -0.4602,\n",
      "        -0.1716, -0.0989,  0.3456,  0.1275,  0.5635,  0.1970], device='cuda:0',\n",
      "       grad_fn=<DivBackward0>)\n"
     ]
    },
    {
     "name": "stderr",
     "output_type": "stream",
     "text": [
      "Epoch 29: 100%|██████████| 282/282 [00:11<00:00, 25.48it/s, loss=35.1, acc=0.865, AUC=0.926, val_acc=0.85, val_AUC=0.907]\n"
     ]
    },
    {
     "name": "stdout",
     "output_type": "stream",
     "text": [
      "tensor([-0.2252,  0.4190,  0.3472,  0.3668,  0.2962, -1.0172, -0.6343, -0.4567,\n",
      "        -0.1917, -0.1154,  0.3428,  0.1115,  0.5767,  0.1802], device='cuda:0',\n",
      "       grad_fn=<DivBackward0>)\n"
     ]
    },
    {
     "name": "stderr",
     "output_type": "stream",
     "text": [
      "Epoch 30: 100%|██████████| 282/282 [00:10<00:00, 25.67it/s, loss=34.9, acc=0.867, AUC=0.926, val_acc=0.845, val_AUC=0.904]\n"
     ]
    },
    {
     "name": "stdout",
     "output_type": "stream",
     "text": [
      "tensor([-0.2427,  0.4102,  0.3427,  0.3632,  0.3264, -1.0157, -0.6407, -0.4668,\n",
      "        -0.1933, -0.1077,  0.3468,  0.1078,  0.5765,  0.1934], device='cuda:0',\n",
      "       grad_fn=<DivBackward0>)\n"
     ]
    },
    {
     "name": "stderr",
     "output_type": "stream",
     "text": [
      "Epoch 31: 100%|██████████| 282/282 [00:10<00:00, 25.70it/s, loss=34.7, acc=0.868, AUC=0.927, val_acc=0.846, val_AUC=0.905]\n"
     ]
    },
    {
     "name": "stdout",
     "output_type": "stream",
     "text": [
      "tensor([-0.2208,  0.3898,  0.3455,  0.3891,  0.3352, -1.0236, -0.6734, -0.4822,\n",
      "        -0.1740, -0.1272,  0.3365,  0.1236,  0.5853,  0.1962], device='cuda:0',\n",
      "       grad_fn=<DivBackward0>)\n"
     ]
    },
    {
     "name": "stderr",
     "output_type": "stream",
     "text": [
      "Epoch 32: 100%|██████████| 282/282 [00:10<00:00, 25.68it/s, loss=34.7, acc=0.867, AUC=0.927, val_acc=0.848, val_AUC=0.907]\n"
     ]
    },
    {
     "name": "stdout",
     "output_type": "stream",
     "text": [
      "tensor([-0.2098,  0.3756,  0.3466,  0.3939,  0.3286, -1.0020, -0.6692, -0.4694,\n",
      "        -0.1780, -0.1395,  0.3419,  0.0999,  0.5942,  0.1871], device='cuda:0',\n",
      "       grad_fn=<DivBackward0>)\n"
     ]
    },
    {
     "name": "stderr",
     "output_type": "stream",
     "text": [
      "Epoch 33: 100%|██████████| 282/282 [00:11<00:00, 25.47it/s, loss=34.6, acc=0.867, AUC=0.928, val_acc=0.848, val_AUC=0.903]\n"
     ]
    },
    {
     "name": "stdout",
     "output_type": "stream",
     "text": [
      "tensor([-0.2367,  0.3633,  0.3883,  0.4080,  0.3127, -0.9874, -0.6903, -0.4779,\n",
      "        -0.1650, -0.1503,  0.3283,  0.1062,  0.5998,  0.2010], device='cuda:0',\n",
      "       grad_fn=<DivBackward0>)\n"
     ]
    },
    {
     "name": "stderr",
     "output_type": "stream",
     "text": [
      "Epoch 34: 100%|██████████| 282/282 [00:10<00:00, 25.69it/s, loss=34.5, acc=0.867, AUC=0.928, val_acc=0.846, val_AUC=0.903]\n"
     ]
    },
    {
     "name": "stdout",
     "output_type": "stream",
     "text": [
      "tensor([-0.2385,  0.3646,  0.3892,  0.3796,  0.2784, -0.9966, -0.6763, -0.4763,\n",
      "        -0.1623, -0.1384,  0.3494,  0.1175,  0.6371,  0.1726], device='cuda:0',\n",
      "       grad_fn=<DivBackward0>)\n"
     ]
    },
    {
     "name": "stderr",
     "output_type": "stream",
     "text": [
      "Epoch 35: 100%|██████████| 282/282 [00:10<00:00, 25.66it/s, loss=34.4, acc=0.869, AUC=0.929, val_acc=0.846, val_AUC=0.903]\n"
     ]
    },
    {
     "name": "stdout",
     "output_type": "stream",
     "text": [
      "tensor([-0.2617,  0.4055,  0.3781,  0.3694,  0.2879, -0.9963, -0.6707, -0.4720,\n",
      "        -0.1582, -0.1315,  0.3758,  0.1110,  0.5896,  0.1730], device='cuda:0',\n",
      "       grad_fn=<DivBackward0>)\n"
     ]
    },
    {
     "name": "stderr",
     "output_type": "stream",
     "text": [
      "Epoch 36: 100%|██████████| 282/282 [00:10<00:00, 25.72it/s, loss=34.4, acc=0.87, AUC=0.929, val_acc=0.85, val_AUC=0.905]\n"
     ]
    },
    {
     "name": "stdout",
     "output_type": "stream",
     "text": [
      "tensor([-0.2642,  0.4356,  0.3944,  0.3418,  0.2681, -0.9859, -0.6956, -0.4690,\n",
      "        -0.1497, -0.1171,  0.3505,  0.1110,  0.5941,  0.1859], device='cuda:0',\n",
      "       grad_fn=<DivBackward0>)\n"
     ]
    },
    {
     "name": "stderr",
     "output_type": "stream",
     "text": [
      "Epoch 37: 100%|██████████| 282/282 [00:11<00:00, 25.53it/s, loss=34.2, acc=0.869, AUC=0.929, val_acc=0.848, val_AUC=0.903]\n"
     ]
    },
    {
     "name": "stdout",
     "output_type": "stream",
     "text": [
      "tensor([-0.2637,  0.4258,  0.4006,  0.3692,  0.2841, -0.9922, -0.6864, -0.4798,\n",
      "        -0.1310, -0.1164,  0.3430,  0.0960,  0.5860,  0.1650], device='cuda:0',\n",
      "       grad_fn=<DivBackward0>)\n"
     ]
    },
    {
     "name": "stderr",
     "output_type": "stream",
     "text": [
      "Epoch 38: 100%|██████████| 282/282 [00:10<00:00, 25.73it/s, loss=34.2, acc=0.871, AUC=0.93, val_acc=0.846, val_AUC=0.903]\n"
     ]
    },
    {
     "name": "stdout",
     "output_type": "stream",
     "text": [
      "tensor([-0.2562,  0.4295,  0.4156,  0.3377,  0.2846, -0.9847, -0.6944, -0.4872,\n",
      "        -0.1460, -0.1305,  0.3666,  0.0740,  0.5678,  0.2234], device='cuda:0',\n",
      "       grad_fn=<DivBackward0>)\n"
     ]
    },
    {
     "name": "stderr",
     "output_type": "stream",
     "text": [
      "Epoch 39: 100%|██████████| 282/282 [00:10<00:00, 25.68it/s, loss=34, acc=0.871, AUC=0.93, val_acc=0.848, val_AUC=0.903]\n"
     ]
    },
    {
     "name": "stdout",
     "output_type": "stream",
     "text": [
      "tensor([-0.2448,  0.4355,  0.3916,  0.3479,  0.2838, -0.9659, -0.6744, -0.5049,\n",
      "        -0.1417, -0.1528,  0.3513,  0.0906,  0.5731,  0.2107], device='cuda:0',\n",
      "       grad_fn=<DivBackward0>)\n"
     ]
    },
    {
     "name": "stderr",
     "output_type": "stream",
     "text": [
      "Epoch 40: 100%|██████████| 282/282 [00:11<00:00, 25.55it/s, loss=34, acc=0.871, AUC=0.93, val_acc=0.85, val_AUC=0.901]\n"
     ]
    },
    {
     "name": "stdout",
     "output_type": "stream",
     "text": [
      "tensor([-0.2406,  0.4314,  0.3646,  0.3636,  0.2952, -0.9828, -0.6729, -0.5050,\n",
      "        -0.1348, -0.1670,  0.3506,  0.0921,  0.5653,  0.2404], device='cuda:0',\n",
      "       grad_fn=<DivBackward0>)\n"
     ]
    },
    {
     "name": "stderr",
     "output_type": "stream",
     "text": [
      "Epoch 41: 100%|██████████| 282/282 [00:11<00:00, 25.58it/s, loss=33.9, acc=0.871, AUC=0.931, val_acc=0.846, val_AUC=0.902]\n"
     ]
    },
    {
     "name": "stdout",
     "output_type": "stream",
     "text": [
      "tensor([-0.2311,  0.4329,  0.3500,  0.3647,  0.2968, -0.9757, -0.6773, -0.4929,\n",
      "        -0.1351, -0.1568,  0.3786,  0.0964,  0.5441,  0.2054], device='cuda:0',\n",
      "       grad_fn=<DivBackward0>)\n"
     ]
    },
    {
     "name": "stderr",
     "output_type": "stream",
     "text": [
      "Epoch 42: 100%|██████████| 282/282 [00:11<00:00, 25.63it/s, loss=33.7, acc=0.871, AUC=0.931, val_acc=0.846, val_AUC=0.902]\n"
     ]
    },
    {
     "name": "stdout",
     "output_type": "stream",
     "text": [
      "tensor([-0.2337,  0.4107,  0.3576,  0.3915,  0.3331, -0.9616, -0.6691, -0.5110,\n",
      "        -0.1362, -0.1541,  0.3559,  0.0555,  0.5326,  0.2289], device='cuda:0',\n",
      "       grad_fn=<DivBackward0>)\n"
     ]
    },
    {
     "name": "stderr",
     "output_type": "stream",
     "text": [
      "Epoch 43: 100%|██████████| 282/282 [00:10<00:00, 25.68it/s, loss=33.6, acc=0.872, AUC=0.932, val_acc=0.848, val_AUC=0.903]\n"
     ]
    },
    {
     "name": "stdout",
     "output_type": "stream",
     "text": [
      "tensor([-0.2388,  0.4260,  0.3572,  0.3916,  0.2911, -0.9681, -0.6654, -0.5109,\n",
      "        -0.1320, -0.1557,  0.3550,  0.1002,  0.5240,  0.2259], device='cuda:0',\n",
      "       grad_fn=<DivBackward0>)\n"
     ]
    },
    {
     "name": "stderr",
     "output_type": "stream",
     "text": [
      "Epoch 44: 100%|██████████| 282/282 [00:10<00:00, 25.69it/s, loss=33.5, acc=0.873, AUC=0.932, val_acc=0.85, val_AUC=0.902]\n"
     ]
    },
    {
     "name": "stdout",
     "output_type": "stream",
     "text": [
      "tensor([-0.2577,  0.4215,  0.3671,  0.4255,  0.2531, -0.9469, -0.6823, -0.5030,\n",
      "        -0.1352, -0.1554,  0.3614,  0.0976,  0.5526,  0.2019], device='cuda:0',\n",
      "       grad_fn=<DivBackward0>)\n"
     ]
    },
    {
     "name": "stderr",
     "output_type": "stream",
     "text": [
      "Epoch 45: 100%|██████████| 282/282 [00:11<00:00, 25.50it/s, loss=33.6, acc=0.873, AUC=0.932, val_acc=0.842, val_AUC=0.9]\n"
     ]
    },
    {
     "name": "stdout",
     "output_type": "stream",
     "text": [
      "tensor([-0.2615,  0.4530,  0.3497,  0.4098,  0.2231, -0.9373, -0.6934, -0.4929,\n",
      "        -0.1185, -0.1557,  0.3671,  0.1152,  0.5590,  0.1825], device='cuda:0',\n",
      "       grad_fn=<DivBackward0>)\n"
     ]
    },
    {
     "name": "stderr",
     "output_type": "stream",
     "text": [
      "Epoch 46: 100%|██████████| 282/282 [00:10<00:00, 25.77it/s, loss=33.4, acc=0.872, AUC=0.933, val_acc=0.848, val_AUC=0.902]\n"
     ]
    },
    {
     "name": "stdout",
     "output_type": "stream",
     "text": [
      "tensor([-0.2675,  0.4747,  0.3503,  0.3844,  0.2283, -0.9625, -0.7014, -0.4784,\n",
      "        -0.1326, -0.1532,  0.3596,  0.1215,  0.5521,  0.2246], device='cuda:0',\n",
      "       grad_fn=<DivBackward0>)\n"
     ]
    },
    {
     "name": "stderr",
     "output_type": "stream",
     "text": [
      "Epoch 47: 100%|██████████| 282/282 [00:11<00:00, 25.59it/s, loss=33.5, acc=0.872, AUC=0.933, val_acc=0.851, val_AUC=0.903]\n"
     ]
    },
    {
     "name": "stdout",
     "output_type": "stream",
     "text": [
      "tensor([-0.2653,  0.4760,  0.3442,  0.3761,  0.2448, -0.9438, -0.7272, -0.4781,\n",
      "        -0.1476, -0.1534,  0.3686,  0.1011,  0.5719,  0.2325], device='cuda:0',\n",
      "       grad_fn=<DivBackward0>)\n"
     ]
    },
    {
     "name": "stderr",
     "output_type": "stream",
     "text": [
      "Epoch 48: 100%|██████████| 282/282 [00:10<00:00, 25.70it/s, loss=33.2, acc=0.874, AUC=0.934, val_acc=0.847, val_AUC=0.901]\n"
     ]
    },
    {
     "name": "stdout",
     "output_type": "stream",
     "text": [
      "tensor([-0.2752,  0.4430,  0.3592,  0.3867,  0.2666, -0.9225, -0.7075, -0.4985,\n",
      "        -0.1667, -0.1800,  0.3725,  0.1104,  0.5786,  0.2334], device='cuda:0',\n",
      "       grad_fn=<DivBackward0>)\n"
     ]
    },
    {
     "name": "stderr",
     "output_type": "stream",
     "text": [
      "Epoch 49: 100%|██████████| 282/282 [00:11<00:00, 25.49it/s, loss=33.1, acc=0.872, AUC=0.934, val_acc=0.844, val_AUC=0.9]\n"
     ]
    },
    {
     "name": "stdout",
     "output_type": "stream",
     "text": [
      "tensor([-0.2874,  0.4642,  0.3390,  0.3677,  0.2653, -0.9535, -0.7041, -0.4821,\n",
      "        -0.1690, -0.1718,  0.3874,  0.1426,  0.5619,  0.2396], device='cuda:0',\n",
      "       grad_fn=<DivBackward0>)\n"
     ]
    },
    {
     "name": "stderr",
     "output_type": "stream",
     "text": [
      "Epoch 50: 100%|██████████| 282/282 [00:10<00:00, 25.70it/s, loss=33.2, acc=0.874, AUC=0.934, val_acc=0.843, val_AUC=0.9]\n"
     ]
    },
    {
     "name": "stdout",
     "output_type": "stream",
     "text": [
      "tensor([-0.2734,  0.4563,  0.3331,  0.3509,  0.2576, -0.9554, -0.6954, -0.4861,\n",
      "        -0.1511, -0.1663,  0.3765,  0.1257,  0.5728,  0.2548], device='cuda:0',\n",
      "       grad_fn=<DivBackward0>)\n",
      "test_acc: 0.7777777910232544\n",
      "test_auc: 0.9107142857142857\n",
      "-----------------------------------------\n"
     ]
    },
    {
     "name": "stderr",
     "output_type": "stream",
     "text": [
      "wandb: WARNING Source type is set to 'repo' but some required information is missing from the environment. A job will not be created from this run. See https://docs.wandb.ai/guides/launch/create-job\n"
     ]
    },
    {
     "name": "stdout",
     "output_type": "stream",
     "text": [
      "=================[ 5 Fold ]=================\n",
      "train_data: torch.Size([35167, 14])\n",
      "train_label: torch.Size([35167])\n",
      "validation_data: torch.Size([3907, 14])\n",
      "validation_label: torch.Size([3907])\n",
      "test_data: torch.Size([9768, 14])\n",
      "test_label: torch.Size([9768])\n",
      "-----------------------------------------\n"
     ]
    },
    {
     "name": "stderr",
     "output_type": "stream",
     "text": [
      "Epoch 1: 100%|██████████| 282/282 [00:11<00:00, 24.11it/s, loss=42.6, acc=0.839, AUC=0.886, val_acc=0.843, val_AUC=0.909]\n"
     ]
    },
    {
     "name": "stdout",
     "output_type": "stream",
     "text": [
      "tensor([-0.7508,  0.1808,  1.1027, -0.2052, -0.4452, -0.5218, -0.3798,  0.0801,\n",
      "         0.0082, -0.2736,  1.1392, -0.1962,  0.1814,  0.0801], device='cuda:0',\n",
      "       grad_fn=<DivBackward0>)\n"
     ]
    },
    {
     "name": "stderr",
     "output_type": "stream",
     "text": [
      "Epoch 2: 100%|██████████| 282/282 [00:11<00:00, 24.10it/s, loss=38.9, acc=0.853, AUC=0.907, val_acc=0.85, val_AUC=0.911]\n"
     ]
    },
    {
     "name": "stdout",
     "output_type": "stream",
     "text": [
      "tensor([-1.0230,  0.0296,  1.3545, -0.4739, -0.6035, -0.5631, -0.2075,  0.2085,\n",
      "        -0.0350, -0.2589,  1.3261, -0.2012,  0.3584,  0.0888], device='cuda:0',\n",
      "       grad_fn=<DivBackward0>)\n"
     ]
    },
    {
     "name": "stderr",
     "output_type": "stream",
     "text": [
      "Epoch 3: 100%|██████████| 282/282 [00:11<00:00, 23.98it/s, loss=38.4, acc=0.854, AUC=0.909, val_acc=0.854, val_AUC=0.914]\n"
     ]
    },
    {
     "name": "stdout",
     "output_type": "stream",
     "text": [
      "tensor([-1.0377,  0.0263,  1.3551, -0.5615, -0.5007, -0.5670, -0.1724,  0.2448,\n",
      "        -0.0259, -0.2546,  1.3475, -0.1565,  0.3316, -0.0291], device='cuda:0',\n",
      "       grad_fn=<DivBackward0>)\n"
     ]
    },
    {
     "name": "stderr",
     "output_type": "stream",
     "text": [
      "Epoch 4: 100%|██████████| 282/282 [00:11<00:00, 24.08it/s, loss=38, acc=0.856, AUC=0.911, val_acc=0.85, val_AUC=0.914]\n"
     ]
    },
    {
     "name": "stdout",
     "output_type": "stream",
     "text": [
      "tensor([-1.1085,  0.0177,  1.3824, -0.5822, -0.4155, -0.5917, -0.1400,  0.3094,\n",
      "        -0.0310, -0.2556,  1.3012, -0.0952,  0.3114, -0.1023], device='cuda:0',\n",
      "       grad_fn=<DivBackward0>)\n"
     ]
    },
    {
     "name": "stderr",
     "output_type": "stream",
     "text": [
      "Epoch 5: 100%|██████████| 282/282 [00:11<00:00, 24.12it/s, loss=37.7, acc=0.856, AUC=0.912, val_acc=0.858, val_AUC=0.917]\n"
     ]
    },
    {
     "name": "stdout",
     "output_type": "stream",
     "text": [
      "tensor([-1.1126,  0.0188,  1.3430, -0.6064, -0.3144, -0.6111, -0.1204,  0.3125,\n",
      "        -0.0900, -0.2672,  1.2592, -0.0600,  0.3256, -0.0770], device='cuda:0',\n",
      "       grad_fn=<DivBackward0>)\n"
     ]
    },
    {
     "name": "stderr",
     "output_type": "stream",
     "text": [
      "Epoch 6: 100%|██████████| 282/282 [00:11<00:00, 24.04it/s, loss=37.4, acc=0.859, AUC=0.914, val_acc=0.854, val_AUC=0.917]\n"
     ]
    },
    {
     "name": "stdout",
     "output_type": "stream",
     "text": [
      "tensor([-1.1143,  0.0538,  1.3397, -0.5924, -0.2927, -0.6464, -0.1101,  0.3230,\n",
      "        -0.1347, -0.2833,  1.2620, -0.0482,  0.3660, -0.1224], device='cuda:0',\n",
      "       grad_fn=<DivBackward0>)\n"
     ]
    },
    {
     "name": "stderr",
     "output_type": "stream",
     "text": [
      "Epoch 7: 100%|██████████| 282/282 [00:11<00:00, 24.06it/s, loss=37.2, acc=0.859, AUC=0.915, val_acc=0.858, val_AUC=0.916]\n"
     ]
    },
    {
     "name": "stdout",
     "output_type": "stream",
     "text": [
      "tensor([-1.1334,  0.0702,  1.3371, -0.5618, -0.3062, -0.6848, -0.1311,  0.3465,\n",
      "        -0.1523, -0.2918,  1.2228,  0.0157,  0.4188, -0.1499], device='cuda:0',\n",
      "       grad_fn=<DivBackward0>)\n"
     ]
    },
    {
     "name": "stderr",
     "output_type": "stream",
     "text": [
      "Epoch 8: 100%|██████████| 282/282 [00:11<00:00, 24.07it/s, loss=37.1, acc=0.859, AUC=0.915, val_acc=0.859, val_AUC=0.917]\n"
     ]
    },
    {
     "name": "stdout",
     "output_type": "stream",
     "text": [
      "tensor([-1.1376,  0.0681,  1.3120, -0.5794, -0.2610, -0.7435, -0.1000,  0.3459,\n",
      "        -0.1583, -0.2929,  1.2224, -0.0106,  0.3913, -0.0564], device='cuda:0',\n",
      "       grad_fn=<DivBackward0>)\n"
     ]
    },
    {
     "name": "stderr",
     "output_type": "stream",
     "text": [
      "Epoch 9: 100%|██████████| 282/282 [00:11<00:00, 24.14it/s, loss=36.8, acc=0.861, AUC=0.917, val_acc=0.857, val_AUC=0.918]\n"
     ]
    },
    {
     "name": "stdout",
     "output_type": "stream",
     "text": [
      "tensor([-1.1413,  0.0805,  1.3083, -0.5670, -0.2221, -0.8041, -0.1036,  0.3403,\n",
      "        -0.1484, -0.2913,  1.1945, -0.0119,  0.4085, -0.0423], device='cuda:0',\n",
      "       grad_fn=<DivBackward0>)\n"
     ]
    },
    {
     "name": "stderr",
     "output_type": "stream",
     "text": [
      "Epoch 10: 100%|██████████| 282/282 [00:11<00:00, 24.10it/s, loss=36.9, acc=0.862, AUC=0.916, val_acc=0.859, val_AUC=0.918]\n"
     ]
    },
    {
     "name": "stdout",
     "output_type": "stream",
     "text": [
      "tensor([-1.1514,  0.0586,  1.3054, -0.5501, -0.2436, -0.7816, -0.1590,  0.3446,\n",
      "        -0.1855, -0.2937,  1.1780,  0.0205,  0.5106, -0.0528], device='cuda:0',\n",
      "       grad_fn=<DivBackward0>)\n"
     ]
    },
    {
     "name": "stderr",
     "output_type": "stream",
     "text": [
      "Epoch 11: 100%|██████████| 282/282 [00:11<00:00, 23.92it/s, loss=36.8, acc=0.861, AUC=0.917, val_acc=0.859, val_AUC=0.919]\n"
     ]
    },
    {
     "name": "stdout",
     "output_type": "stream",
     "text": [
      "tensor([-1.1489,  0.0867,  1.3006, -0.5485, -0.2629, -0.7585, -0.1695,  0.3599,\n",
      "        -0.2152, -0.2934,  1.2007,  0.0666,  0.5112, -0.1286], device='cuda:0',\n",
      "       grad_fn=<DivBackward0>)\n"
     ]
    },
    {
     "name": "stderr",
     "output_type": "stream",
     "text": [
      "Epoch 12: 100%|██████████| 282/282 [00:11<00:00, 24.15it/s, loss=36.6, acc=0.86, AUC=0.917, val_acc=0.863, val_AUC=0.919]\n"
     ]
    },
    {
     "name": "stdout",
     "output_type": "stream",
     "text": [
      "tensor([-1.1242,  0.1087,  1.2713, -0.5956, -0.2139, -0.7735, -0.1199,  0.3876,\n",
      "        -0.1907, -0.2971,  1.1883,  0.0402,  0.5028, -0.1841], device='cuda:0',\n",
      "       grad_fn=<DivBackward0>)\n"
     ]
    },
    {
     "name": "stderr",
     "output_type": "stream",
     "text": [
      "Epoch 13: 100%|██████████| 282/282 [00:11<00:00, 24.02it/s, loss=36.5, acc=0.863, AUC=0.918, val_acc=0.863, val_AUC=0.921]\n"
     ]
    },
    {
     "name": "stdout",
     "output_type": "stream",
     "text": [
      "tensor([-1.1270,  0.0800,  1.2714, -0.5630, -0.2446, -0.7709, -0.0778,  0.3978,\n",
      "        -0.1926, -0.2976,  1.1906,  0.0085,  0.4573, -0.1321], device='cuda:0',\n",
      "       grad_fn=<DivBackward0>)\n"
     ]
    },
    {
     "name": "stderr",
     "output_type": "stream",
     "text": [
      "Epoch 14: 100%|██████████| 282/282 [00:11<00:00, 24.16it/s, loss=36.3, acc=0.862, AUC=0.919, val_acc=0.861, val_AUC=0.919]\n"
     ]
    },
    {
     "name": "stdout",
     "output_type": "stream",
     "text": [
      "tensor([-1.1175,  0.1101,  1.2750, -0.5540, -0.2825, -0.7534, -0.0628,  0.4030,\n",
      "        -0.1915, -0.2901,  1.1615,  0.0449,  0.4414, -0.1841], device='cuda:0',\n",
      "       grad_fn=<DivBackward0>)\n"
     ]
    },
    {
     "name": "stderr",
     "output_type": "stream",
     "text": [
      "Epoch 15: 100%|██████████| 282/282 [00:11<00:00, 24.05it/s, loss=36.2, acc=0.863, AUC=0.919, val_acc=0.858, val_AUC=0.919]\n"
     ]
    },
    {
     "name": "stdout",
     "output_type": "stream",
     "text": [
      "tensor([-1.1144,  0.1756,  1.2562, -0.5655, -0.2493, -0.7452, -0.0910,  0.4141,\n",
      "        -0.1937, -0.2892,  1.1442,  0.0314,  0.4121, -0.1852], device='cuda:0',\n",
      "       grad_fn=<DivBackward0>)\n"
     ]
    },
    {
     "name": "stderr",
     "output_type": "stream",
     "text": [
      "Epoch 16: 100%|██████████| 282/282 [00:11<00:00, 24.18it/s, loss=36.1, acc=0.864, AUC=0.92, val_acc=0.861, val_AUC=0.92]\n"
     ]
    },
    {
     "name": "stdout",
     "output_type": "stream",
     "text": [
      "tensor([-1.1159,  0.1641,  1.2191, -0.5860, -0.1922, -0.7576, -0.0962,  0.4017,\n",
      "        -0.2018, -0.3030,  1.1245,  0.0559,  0.4711, -0.1835], device='cuda:0',\n",
      "       grad_fn=<DivBackward0>)\n"
     ]
    },
    {
     "name": "stderr",
     "output_type": "stream",
     "text": [
      "Epoch 17: 100%|██████████| 282/282 [00:11<00:00, 24.14it/s, loss=35.9, acc=0.864, AUC=0.921, val_acc=0.858, val_AUC=0.92]\n"
     ]
    },
    {
     "name": "stdout",
     "output_type": "stream",
     "text": [
      "tensor([-1.1373,  0.1556,  1.2038, -0.5797, -0.1813, -0.7701, -0.0683,  0.3958,\n",
      "        -0.1829, -0.2986,  1.1360,  0.0400,  0.4688, -0.1819], device='cuda:0',\n",
      "       grad_fn=<DivBackward0>)\n"
     ]
    },
    {
     "name": "stderr",
     "output_type": "stream",
     "text": [
      "Epoch 18: 100%|██████████| 282/282 [00:11<00:00, 24.03it/s, loss=36, acc=0.864, AUC=0.92, val_acc=0.861, val_AUC=0.918]\n"
     ]
    },
    {
     "name": "stdout",
     "output_type": "stream",
     "text": [
      "tensor([-1.1602,  0.1522,  1.1803, -0.5815, -0.1293, -0.7424, -0.0840,  0.3934,\n",
      "        -0.1807, -0.3106,  1.1361,  0.0383,  0.4805, -0.1922], device='cuda:0',\n",
      "       grad_fn=<DivBackward0>)\n"
     ]
    },
    {
     "name": "stderr",
     "output_type": "stream",
     "text": [
      "Epoch 19: 100%|██████████| 282/282 [00:11<00:00, 24.08it/s, loss=36, acc=0.863, AUC=0.921, val_acc=0.861, val_AUC=0.919]\n"
     ]
    },
    {
     "name": "stdout",
     "output_type": "stream",
     "text": [
      "tensor([-1.1554,  0.1686,  1.1654, -0.6063, -0.1555, -0.7186, -0.0788,  0.4008,\n",
      "        -0.1787, -0.3000,  1.1538,  0.0424,  0.4802, -0.2177], device='cuda:0',\n",
      "       grad_fn=<DivBackward0>)\n"
     ]
    },
    {
     "name": "stderr",
     "output_type": "stream",
     "text": [
      "Epoch 20: 100%|██████████| 282/282 [00:11<00:00, 24.10it/s, loss=35.7, acc=0.865, AUC=0.922, val_acc=0.859, val_AUC=0.918]\n"
     ]
    },
    {
     "name": "stdout",
     "output_type": "stream",
     "text": [
      "tensor([-1.1529,  0.1555,  1.1449, -0.5906, -0.1198, -0.7487, -0.0603,  0.4238,\n",
      "        -0.1661, -0.3017,  1.1573,  0.0240,  0.4637, -0.2291], device='cuda:0',\n",
      "       grad_fn=<DivBackward0>)\n"
     ]
    },
    {
     "name": "stderr",
     "output_type": "stream",
     "text": [
      "Epoch 21: 100%|██████████| 282/282 [00:11<00:00, 24.20it/s, loss=35.7, acc=0.865, AUC=0.922, val_acc=0.863, val_AUC=0.919]\n"
     ]
    },
    {
     "name": "stdout",
     "output_type": "stream",
     "text": [
      "tensor([-1.1459,  0.1586,  1.1464, -0.5794, -0.1387, -0.7794, -0.0361,  0.4350,\n",
      "        -0.1728, -0.3046,  1.1412,  0.0194,  0.4464, -0.1901], device='cuda:0',\n",
      "       grad_fn=<DivBackward0>)\n"
     ]
    },
    {
     "name": "stderr",
     "output_type": "stream",
     "text": [
      "Epoch 22: 100%|██████████| 282/282 [00:11<00:00, 24.06it/s, loss=35.7, acc=0.865, AUC=0.922, val_acc=0.861, val_AUC=0.919]\n"
     ]
    },
    {
     "name": "stdout",
     "output_type": "stream",
     "text": [
      "tensor([-1.1588,  0.1654,  1.1607, -0.5741, -0.1844, -0.7517, -0.0289,  0.4442,\n",
      "        -0.1715, -0.3091,  1.1498,  0.0368,  0.4371, -0.2154], device='cuda:0',\n",
      "       grad_fn=<DivBackward0>)\n"
     ]
    },
    {
     "name": "stderr",
     "output_type": "stream",
     "text": [
      "Epoch 23: 100%|██████████| 282/282 [00:11<00:00, 24.12it/s, loss=35.4, acc=0.867, AUC=0.923, val_acc=0.861, val_AUC=0.918]\n"
     ]
    },
    {
     "name": "stdout",
     "output_type": "stream",
     "text": [
      "tensor([-1.1591,  0.1666,  1.1520, -0.5755, -0.1451, -0.7474, -0.0572,  0.4549,\n",
      "        -0.1580, -0.3150,  1.1263, -0.0094,  0.4969, -0.2299], device='cuda:0',\n",
      "       grad_fn=<DivBackward0>)\n"
     ]
    },
    {
     "name": "stderr",
     "output_type": "stream",
     "text": [
      "Epoch 24: 100%|██████████| 282/282 [00:11<00:00, 24.14it/s, loss=35.5, acc=0.866, AUC=0.923, val_acc=0.863, val_AUC=0.919]\n"
     ]
    },
    {
     "name": "stdout",
     "output_type": "stream",
     "text": [
      "tensor([-1.1389,  0.1537,  1.1051, -0.5918, -0.1052, -0.7873, -0.0198,  0.4644,\n",
      "        -0.1431, -0.3094,  1.1401, -0.0181,  0.4655, -0.2153], device='cuda:0',\n",
      "       grad_fn=<DivBackward0>)\n"
     ]
    },
    {
     "name": "stderr",
     "output_type": "stream",
     "text": [
      "Epoch 25: 100%|██████████| 282/282 [00:11<00:00, 24.08it/s, loss=35.4, acc=0.865, AUC=0.923, val_acc=0.863, val_AUC=0.919]\n"
     ]
    },
    {
     "name": "stdout",
     "output_type": "stream",
     "text": [
      "tensor([-1.1277,  0.1638,  1.1113, -0.5597, -0.1339, -0.7774, -0.0165,  0.4628,\n",
      "        -0.1488, -0.3057,  1.1513, -0.0142,  0.4233, -0.2287], device='cuda:0',\n",
      "       grad_fn=<DivBackward0>)\n"
     ]
    },
    {
     "name": "stderr",
     "output_type": "stream",
     "text": [
      "Epoch 26: 100%|██████████| 282/282 [00:11<00:00, 24.07it/s, loss=35.3, acc=0.866, AUC=0.924, val_acc=0.863, val_AUC=0.919]\n"
     ]
    },
    {
     "name": "stdout",
     "output_type": "stream",
     "text": [
      "tensor([-1.1307,  0.1758,  1.1051, -0.5718, -0.1381, -0.7595, -0.0368,  0.4624,\n",
      "        -0.1507, -0.3069,  1.1399,  0.0288,  0.4154, -0.2330], device='cuda:0',\n",
      "       grad_fn=<DivBackward0>)\n"
     ]
    },
    {
     "name": "stderr",
     "output_type": "stream",
     "text": [
      "Epoch 27: 100%|██████████| 282/282 [00:11<00:00, 24.08it/s, loss=35.2, acc=0.867, AUC=0.924, val_acc=0.862, val_AUC=0.919]\n"
     ]
    },
    {
     "name": "stdout",
     "output_type": "stream",
     "text": [
      "tensor([-1.1125,  0.1516,  1.1027, -0.6074, -0.0774, -0.7604, -0.0104,  0.4723,\n",
      "        -0.1655, -0.3005,  1.1353, -0.0017,  0.4041, -0.2302], device='cuda:0',\n",
      "       grad_fn=<DivBackward0>)\n"
     ]
    },
    {
     "name": "stderr",
     "output_type": "stream",
     "text": [
      "Epoch 28: 100%|██████████| 282/282 [00:11<00:00, 24.21it/s, loss=35.2, acc=0.867, AUC=0.924, val_acc=0.864, val_AUC=0.919]\n"
     ]
    },
    {
     "name": "stdout",
     "output_type": "stream",
     "text": [
      "tensor([-1.0872,  0.1569,  1.1274, -0.6066, -0.0803, -0.7622,  0.0026,  0.4800,\n",
      "        -0.1577, -0.2925,  1.1268, -0.0243,  0.3945, -0.2774], device='cuda:0',\n",
      "       grad_fn=<DivBackward0>)\n"
     ]
    },
    {
     "name": "stderr",
     "output_type": "stream",
     "text": [
      "Epoch 29: 100%|██████████| 282/282 [00:11<00:00, 24.18it/s, loss=35, acc=0.867, AUC=0.925, val_acc=0.859, val_AUC=0.918]\n"
     ]
    },
    {
     "name": "stdout",
     "output_type": "stream",
     "text": [
      "tensor([-1.1094,  0.1401,  1.1268, -0.5791, -0.0820, -0.7438, -0.0393,  0.4922,\n",
      "        -0.1651, -0.2929,  1.1162,  0.0174,  0.4217, -0.3030], device='cuda:0',\n",
      "       grad_fn=<DivBackward0>)\n"
     ]
    },
    {
     "name": "stderr",
     "output_type": "stream",
     "text": [
      "Epoch 30: 100%|██████████| 282/282 [00:11<00:00, 24.13it/s, loss=35, acc=0.868, AUC=0.925, val_acc=0.859, val_AUC=0.918]\n"
     ]
    },
    {
     "name": "stdout",
     "output_type": "stream",
     "text": [
      "tensor([-1.1184,  0.1281,  1.1281, -0.6063, -0.0684, -0.7193, -0.0438,  0.5034,\n",
      "        -0.1681, -0.2838,  1.1040,  0.0370,  0.4032, -0.2958], device='cuda:0',\n",
      "       grad_fn=<DivBackward0>)\n"
     ]
    },
    {
     "name": "stderr",
     "output_type": "stream",
     "text": [
      "Epoch 31: 100%|██████████| 282/282 [00:11<00:00, 24.27it/s, loss=34.9, acc=0.868, AUC=0.926, val_acc=0.865, val_AUC=0.921]\n"
     ]
    },
    {
     "name": "stdout",
     "output_type": "stream",
     "text": [
      "tensor([-1.1190,  0.1126,  1.0948, -0.6059, -0.1030, -0.7145, -0.0386,  0.5136,\n",
      "        -0.1618, -0.2853,  1.1168,  0.0465,  0.4003, -0.2565], device='cuda:0',\n",
      "       grad_fn=<DivBackward0>)\n"
     ]
    },
    {
     "name": "stderr",
     "output_type": "stream",
     "text": [
      "Epoch 32: 100%|██████████| 282/282 [00:11<00:00, 24.13it/s, loss=34.6, acc=0.869, AUC=0.927, val_acc=0.861, val_AUC=0.918]\n"
     ]
    },
    {
     "name": "stdout",
     "output_type": "stream",
     "text": [
      "tensor([-1.0965,  0.0969,  1.0797, -0.6181, -0.0958, -0.7189, -0.0229,  0.5160,\n",
      "        -0.1476, -0.2911,  1.1226,  0.0165,  0.3752, -0.2162], device='cuda:0',\n",
      "       grad_fn=<DivBackward0>)\n"
     ]
    },
    {
     "name": "stderr",
     "output_type": "stream",
     "text": [
      "Epoch 33: 100%|██████████| 282/282 [00:11<00:00, 24.22it/s, loss=34.7, acc=0.87, AUC=0.927, val_acc=0.857, val_AUC=0.918]\n"
     ]
    },
    {
     "name": "stdout",
     "output_type": "stream",
     "text": [
      "tensor([-1.0635,  0.0938,  1.0732, -0.6279, -0.0890, -0.7311, -0.0030,  0.5329,\n",
      "        -0.1320, -0.2960,  1.1201,  0.0444,  0.3284, -0.2503], device='cuda:0',\n",
      "       grad_fn=<DivBackward0>)\n"
     ]
    },
    {
     "name": "stderr",
     "output_type": "stream",
     "text": [
      "Epoch 34: 100%|██████████| 282/282 [00:11<00:00, 24.04it/s, loss=34.7, acc=0.868, AUC=0.927, val_acc=0.858, val_AUC=0.919]\n"
     ]
    },
    {
     "name": "stdout",
     "output_type": "stream",
     "text": [
      "tensor([-1.0797,  0.1022,  1.0532, -0.6209, -0.0622, -0.7529, -0.0069,  0.5196,\n",
      "        -0.1210, -0.2837,  1.1178,  0.0426,  0.3553, -0.2634], device='cuda:0',\n",
      "       grad_fn=<DivBackward0>)\n"
     ]
    },
    {
     "name": "stderr",
     "output_type": "stream",
     "text": [
      "Epoch 35: 100%|██████████| 282/282 [00:11<00:00, 24.25it/s, loss=34.6, acc=0.868, AUC=0.927, val_acc=0.86, val_AUC=0.918]\n"
     ]
    },
    {
     "name": "stdout",
     "output_type": "stream",
     "text": [
      "tensor([-1.0768,  0.1343,  1.0210, -0.6394, -0.0758, -0.7600,  0.0266,  0.5218,\n",
      "        -0.1397, -0.2853,  1.1223, -0.0126,  0.4136, -0.2501], device='cuda:0',\n",
      "       grad_fn=<DivBackward0>)\n"
     ]
    },
    {
     "name": "stderr",
     "output_type": "stream",
     "text": [
      "Epoch 36: 100%|██████████| 282/282 [00:11<00:00, 24.21it/s, loss=34.4, acc=0.87, AUC=0.928, val_acc=0.865, val_AUC=0.918]\n"
     ]
    },
    {
     "name": "stdout",
     "output_type": "stream",
     "text": [
      "tensor([-1.0680,  0.1059,  1.0237, -0.6342, -0.1009, -0.7498,  0.0385,  0.5221,\n",
      "        -0.1481, -0.2854,  1.1235,  0.0031,  0.3990, -0.2294], device='cuda:0',\n",
      "       grad_fn=<DivBackward0>)\n"
     ]
    },
    {
     "name": "stderr",
     "output_type": "stream",
     "text": [
      "Epoch 37: 100%|██████████| 282/282 [00:11<00:00, 24.26it/s, loss=34.3, acc=0.871, AUC=0.928, val_acc=0.858, val_AUC=0.916]\n"
     ]
    },
    {
     "name": "stdout",
     "output_type": "stream",
     "text": [
      "tensor([-1.0613,  0.0669,  1.0025, -0.6442, -0.0572, -0.7523,  0.0503,  0.5158,\n",
      "        -0.1468, -0.2897,  1.1250,  0.0273,  0.4087, -0.2451], device='cuda:0',\n",
      "       grad_fn=<DivBackward0>)\n"
     ]
    },
    {
     "name": "stderr",
     "output_type": "stream",
     "text": [
      "Epoch 38: 100%|██████████| 282/282 [00:11<00:00, 24.15it/s, loss=34.2, acc=0.87, AUC=0.928, val_acc=0.866, val_AUC=0.92]\n"
     ]
    },
    {
     "name": "stdout",
     "output_type": "stream",
     "text": [
      "tensor([-1.0598,  0.0677,  1.0198, -0.6244, -0.0763, -0.7355,  0.0230,  0.5232,\n",
      "        -0.1387, -0.2847,  1.1296,  0.0203,  0.3899, -0.2540], device='cuda:0',\n",
      "       grad_fn=<DivBackward0>)\n"
     ]
    },
    {
     "name": "stderr",
     "output_type": "stream",
     "text": [
      "Epoch 39: 100%|██████████| 282/282 [00:11<00:00, 24.10it/s, loss=34.2, acc=0.87, AUC=0.929, val_acc=0.861, val_AUC=0.918]\n"
     ]
    },
    {
     "name": "stdout",
     "output_type": "stream",
     "text": [
      "tensor([-1.0725,  0.0857,  1.0198, -0.6185, -0.0728, -0.7393,  0.0255,  0.5208,\n",
      "        -0.1424, -0.2876,  1.1307,  0.0122,  0.4242, -0.2860], device='cuda:0',\n",
      "       grad_fn=<DivBackward0>)\n"
     ]
    },
    {
     "name": "stderr",
     "output_type": "stream",
     "text": [
      "Epoch 40: 100%|██████████| 282/282 [00:11<00:00, 24.24it/s, loss=34, acc=0.871, AUC=0.929, val_acc=0.861, val_AUC=0.917]\n"
     ]
    },
    {
     "name": "stdout",
     "output_type": "stream",
     "text": [
      "tensor([-1.0904e+00,  8.9705e-02,  1.0046e+00, -6.2263e-01, -7.0449e-02,\n",
      "        -7.4402e-01,  5.5797e-04,  5.2576e-01, -1.4282e-01, -2.8076e-01,\n",
      "         1.1143e+00,  4.6438e-02,  4.1159e-01, -2.4191e-01], device='cuda:0',\n",
      "       grad_fn=<DivBackward0>)\n"
     ]
    },
    {
     "name": "stderr",
     "output_type": "stream",
     "text": [
      "Epoch 41: 100%|██████████| 282/282 [00:11<00:00, 24.13it/s, loss=34, acc=0.871, AUC=0.93, val_acc=0.858, val_AUC=0.915]\n"
     ]
    },
    {
     "name": "stdout",
     "output_type": "stream",
     "text": [
      "tensor([-1.0697,  0.0883,  1.0057, -0.6514, -0.0357, -0.7436, -0.0016,  0.5319,\n",
      "        -0.1388, -0.2628,  1.1143,  0.0361,  0.4159, -0.2885], device='cuda:0',\n",
      "       grad_fn=<DivBackward0>)\n"
     ]
    },
    {
     "name": "stderr",
     "output_type": "stream",
     "text": [
      "Epoch 42: 100%|██████████| 282/282 [00:11<00:00, 24.10it/s, loss=33.9, acc=0.872, AUC=0.93, val_acc=0.86, val_AUC=0.917]\n"
     ]
    },
    {
     "name": "stdout",
     "output_type": "stream",
     "text": [
      "tensor([-1.0616,  0.0831,  1.0298, -0.6378, -0.0761, -0.7391,  0.0119,  0.5392,\n",
      "        -0.1375, -0.2613,  1.1074,  0.0028,  0.4015, -0.2624], device='cuda:0',\n",
      "       grad_fn=<DivBackward0>)\n"
     ]
    },
    {
     "name": "stderr",
     "output_type": "stream",
     "text": [
      "Epoch 43: 100%|██████████| 282/282 [00:11<00:00, 24.18it/s, loss=33.8, acc=0.872, AUC=0.931, val_acc=0.864, val_AUC=0.917]\n"
     ]
    },
    {
     "name": "stdout",
     "output_type": "stream",
     "text": [
      "tensor([-1.0498,  0.0915,  1.0165, -0.6380, -0.0860, -0.7159,  0.0148,  0.5277,\n",
      "        -0.1353, -0.2581,  1.1148,  0.0117,  0.3978, -0.2917], device='cuda:0',\n",
      "       grad_fn=<DivBackward0>)\n"
     ]
    },
    {
     "name": "stderr",
     "output_type": "stream",
     "text": [
      "Epoch 44: 100%|██████████| 282/282 [00:11<00:00, 24.24it/s, loss=33.8, acc=0.873, AUC=0.931, val_acc=0.862, val_AUC=0.917]\n"
     ]
    },
    {
     "name": "stdout",
     "output_type": "stream",
     "text": [
      "tensor([-1.0417,  0.0450,  0.9839, -0.6550, -0.0291, -0.7437,  0.0153,  0.5201,\n",
      "        -0.1340, -0.2620,  1.1044,  0.0616,  0.4215, -0.2863], device='cuda:0',\n",
      "       grad_fn=<DivBackward0>)\n"
     ]
    },
    {
     "name": "stderr",
     "output_type": "stream",
     "text": [
      "Epoch 45: 100%|██████████| 282/282 [00:11<00:00, 24.20it/s, loss=33.6, acc=0.873, AUC=0.931, val_acc=0.861, val_AUC=0.917]\n"
     ]
    },
    {
     "name": "stdout",
     "output_type": "stream",
     "text": [
      "tensor([-1.0395,  0.0696,  0.9698, -0.6615, -0.0493, -0.7361,  0.0407,  0.5314,\n",
      "        -0.1318, -0.2518,  1.1036,  0.0520,  0.4115, -0.3086], device='cuda:0',\n",
      "       grad_fn=<DivBackward0>)\n"
     ]
    },
    {
     "name": "stderr",
     "output_type": "stream",
     "text": [
      "Epoch 46: 100%|██████████| 282/282 [00:11<00:00, 24.04it/s, loss=33.3, acc=0.874, AUC=0.933, val_acc=0.861, val_AUC=0.917]\n"
     ]
    },
    {
     "name": "stdout",
     "output_type": "stream",
     "text": [
      "tensor([-1.0584,  0.0817,  0.9857, -0.6479, -0.0583, -0.7227,  0.0392,  0.5239,\n",
      "        -0.1259, -0.2456,  1.1058,  0.0361,  0.3814, -0.2950], device='cuda:0',\n",
      "       grad_fn=<DivBackward0>)\n"
     ]
    },
    {
     "name": "stderr",
     "output_type": "stream",
     "text": [
      "Epoch 47: 100%|██████████| 282/282 [00:11<00:00, 24.23it/s, loss=33.6, acc=0.872, AUC=0.931, val_acc=0.855, val_AUC=0.916]\n"
     ]
    },
    {
     "name": "stdout",
     "output_type": "stream",
     "text": [
      "tensor([-1.0666,  0.0626,  0.9912, -0.6409, -0.0556, -0.7416,  0.0572,  0.5203,\n",
      "        -0.1149, -0.2542,  1.1043,  0.0304,  0.3745, -0.2667], device='cuda:0',\n",
      "       grad_fn=<DivBackward0>)\n"
     ]
    },
    {
     "name": "stderr",
     "output_type": "stream",
     "text": [
      "Epoch 48: 100%|██████████| 282/282 [00:11<00:00, 24.13it/s, loss=33.3, acc=0.875, AUC=0.933, val_acc=0.862, val_AUC=0.916]\n"
     ]
    },
    {
     "name": "stdout",
     "output_type": "stream",
     "text": [
      "tensor([-1.0582,  0.0635,  0.9833, -0.6184, -0.0829, -0.7233,  0.0602,  0.5251,\n",
      "        -0.1259, -0.2530,  1.1316,  0.0235,  0.3494, -0.2749], device='cuda:0',\n",
      "       grad_fn=<DivBackward0>)\n"
     ]
    },
    {
     "name": "stderr",
     "output_type": "stream",
     "text": [
      "Epoch 49: 100%|██████████| 282/282 [00:11<00:00, 24.20it/s, loss=33.3, acc=0.874, AUC=0.933, val_acc=0.856, val_AUC=0.916]\n"
     ]
    },
    {
     "name": "stdout",
     "output_type": "stream",
     "text": [
      "tensor([-1.0528,  0.0742,  0.9535, -0.6448, -0.0507, -0.7541,  0.0957,  0.5207,\n",
      "        -0.1325, -0.2593,  1.1267,  0.0159,  0.3711, -0.2637], device='cuda:0',\n",
      "       grad_fn=<DivBackward0>)\n"
     ]
    },
    {
     "name": "stderr",
     "output_type": "stream",
     "text": [
      "Epoch 50: 100%|██████████| 282/282 [00:11<00:00, 24.11it/s, loss=33.2, acc=0.874, AUC=0.933, val_acc=0.858, val_AUC=0.915]\n"
     ]
    },
    {
     "name": "stdout",
     "output_type": "stream",
     "text": [
      "tensor([-1.0493,  0.0841,  0.9485, -0.6194, -0.0770, -0.7733,  0.0719,  0.5297,\n",
      "        -0.1224, -0.2688,  1.1145,  0.0430,  0.3918, -0.2733], device='cuda:0',\n",
      "       grad_fn=<DivBackward0>)\n",
      "test_acc: 0.8333333134651184\n",
      "test_auc: 1.0\n",
      "-----------------------------------------\n"
     ]
    },
    {
     "name": "stderr",
     "output_type": "stream",
     "text": [
      "wandb: WARNING Source type is set to 'repo' but some required information is missing from the environment. A job will not be created from this run. See https://docs.wandb.ai/guides/launch/create-job\n"
     ]
    },
    {
     "name": "stdout",
     "output_type": "stream",
     "text": [
      "==================[done]==================\n"
     ]
    }
   ],
   "source": [
    "train_K_fold(get_run_config())"
   ]
  },
  {
   "cell_type": "markdown",
   "metadata": {},
   "source": []
  },
  {
   "cell_type": "markdown",
   "metadata": {},
   "source": []
  },
  {
   "cell_type": "code",
   "execution_count": 5,
   "metadata": {},
   "outputs": [
    {
     "name": "stdout",
     "output_type": "stream",
     "text": [
      "tensor([-1.0460,  0.0879,  0.9591, -0.6107, -0.1008, -0.7671,  0.0485,  0.5369,\n",
      "        -0.1523, -0.2512,  1.1052,  0.0503,  0.4319, -0.2918])\n"
     ]
    },
    {
     "data": {
      "image/png": "[encoded data removed]",
      "text/plain": [
       "<Figure size 800x600 with 1 Axes>"
      ]
     },
     "metadata": {},
     "output_type": "display_data"
    }
   ],
   "source": [
    "\n",
    "importance = get_feature_importance_extractor().get().cpu()\n",
    "print(importance)\n",
    "importance = importance.softmax(dim=0).detach().numpy()\n",
    "import matplotlib.pyplot as plt\n",
    "# 可视化特征重要性\n",
    "plt.figure(figsize=(8, 6))\n",
    "plt.barh(range(len(importance)), importance, align='center')\n",
    "plt.yticks(range(len(importance)))\n",
    "plt.xlabel('Feature Importance')\n",
    "plt.ylabel('Features')\n",
    "plt.show()"
   ]
  }
 ],
 "metadata": {
  "kernelspec": {
   "display_name": "GNN",
   "language": "python",
   "name": "python3"
  },
  "language_info": {
   "codemirror_mode": {
    "name": "ipython",
    "version": 3
   },
   "file_extension": ".py",
   "mimetype": "text/x-python",
   "name": "python",
   "nbconvert_exporter": "python",
   "pygments_lexer": "ipython3",
   "version": "3.10.12"
  },
  "orig_nbformat": 4
 },
 "nbformat": 4,
 "nbformat_minor": 2
}
