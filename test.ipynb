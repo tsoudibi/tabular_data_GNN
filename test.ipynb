{
 "cells": [
  {
   "cell_type": "code",
   "execution_count": 1,
   "metadata": {},
   "outputs": [
    {
     "name": "stderr",
     "output_type": "stream",
     "text": [
      "/home/tsou/.conda/envs/pyg/lib/python3.10/site-packages/tqdm/auto.py:21: TqdmWarning: IProgress not found. Please update jupyter and ipywidgets. See https://ipywidgets.readthedocs.io/en/stable/user_install.html\n",
      "  from .autonotebook import tqdm as notebook_tqdm\n"
     ]
    },
    {
     "name": "stdout",
     "output_type": "stream",
     "text": [
      "=================[dataset is set to compas ]=================\n",
      "[Tensorflow] Set seed failed,details are: No module named 'tensorflow'\n",
      "[Pytorch] Seed set successfully\n",
      "[Pytorch Geometric] Seed set successfully\n",
      "[Sklearn] Seed set successfully\n",
      "=================[run config is loaded]=================\n"
     ]
    }
   ],
   "source": [
    "from trainer import *"
   ]
  },
  {
   "cell_type": "code",
   "execution_count": 2,
   "metadata": {},
   "outputs": [
    {
     "name": "stdout",
     "output_type": "stream",
     "text": [
      "[Tensorflow] Set seed failed,details are: No module named 'tensorflow'\n",
      "[Pytorch] Seed set successfully\n",
      "[Pytorch Geometric] Seed set successfully\n",
      "[Sklearn] Seed set successfully\n",
      "tensor([1.3323], device='cuda:0')\n",
      "epoch 0 -----------------------------------------\n",
      "tensor([2.3315], device='cuda:0')\n",
      "epoch 1 -----------------------------------------\n",
      "tensor([0.6919], device='cuda:0')\n",
      "epoch 2 -----------------------------------------\n",
      "tensor([1.1602], device='cuda:0')\n",
      "epoch 3 -----------------------------------------\n",
      "tensor([1.1673], device='cuda:0')\n",
      "epoch 4 -----------------------------------------\n",
      "done\n"
     ]
    }
   ],
   "source": [
    "test_run()"
   ]
  },
  {
   "cell_type": "code",
   "execution_count": 3,
   "metadata": {},
   "outputs": [
    {
     "name": "stdout",
     "output_type": "stream",
     "text": [
      "[Tensorflow] Set seed failed,details are: No module named 'tensorflow'\n",
      "[Pytorch] Seed set successfully\n",
      "[Pytorch Geometric] Seed set successfully\n",
      "[Sklearn] Seed set successfully\n",
      "tensor([1.3323], device='cuda:0')\n",
      "epoch 0 -----------------------------------------\n",
      "tensor([2.3315], device='cuda:0')\n",
      "epoch 1 -----------------------------------------\n",
      "tensor([0.6919], device='cuda:0')\n",
      "epoch 2 -----------------------------------------\n",
      "tensor([1.1602], device='cuda:0')\n",
      "epoch 3 -----------------------------------------\n",
      "tensor([1.1673], device='cuda:0')\n",
      "epoch 4 -----------------------------------------\n",
      "done\n"
     ]
    }
   ],
   "source": [
    "test_run()"
   ]
  },
  {
   "cell_type": "code",
   "execution_count": 4,
   "metadata": {},
   "outputs": [
    {
     "data": {
      "text/plain": [
       "tensor([ 0.3896, -0.3427,  0.6038, -1.2940,  0.5364, -0.1376,  0.4883,  1.2569,\n",
       "        -0.5813, -0.6019, -0.3175], device='cuda:0', grad_fn=<DivBackward0>)"
      ]
     },
     "execution_count": 4,
     "metadata": {},
     "output_type": "execute_result"
    }
   ],
   "source": [
    "extractor = get_feature_importance_extractor()\n",
    "extractor.get()"
   ]
  },
  {
   "cell_type": "code",
   "execution_count": 5,
   "metadata": {},
   "outputs": [
    {
     "name": "stdout",
     "output_type": "stream",
     "text": [
      "[Tensorflow] Set seed failed,details are: No module named 'tensorflow'\n",
      "[Pytorch] Seed set successfully\n",
      "[Pytorch Geometric] Seed set successfully\n",
      "[Sklearn] Seed set successfully\n",
      "=================[ 1 Fold ]=================\n",
      "train_data: torch.Size([2979, 11])\n",
      "train_label: torch.Size([2979])\n",
      "validation_data: torch.Size([331, 11])\n",
      "validation_label: torch.Size([331])\n",
      "test_data: torch.Size([1656, 11])\n",
      "test_label: torch.Size([1656])\n",
      "-----------------------------------------\n"
     ]
    },
    {
     "name": "stderr",
     "output_type": "stream",
     "text": [
      "Epoch 1:  67%|██████▋   | 2/3 [00:01<00:00,  1.20it/s]/home/tsou/.conda/envs/pyg/lib/python3.10/site-packages/torcheval/metrics/functional/classification/auroc.py:175: UserWarning: cumsum_cuda_kernel does not have a deterministic implementation, but you set 'torch.use_deterministic_algorithms(True, warn_only=True)'. You can file an issue at https://github.com/pytorch/pytorch/issues to help us prioritize adding deterministic support for this operation. (Triggered internally at ../aten/src/ATen/Context.cpp:82.)\n",
      "  return _binary_auroc_compute_jit(input, target, weight)\n",
      "Epoch 1: 100%|██████████| 3/3 [00:03<00:00,  1.03s/it, loss=24.1, acc=0.509, AUC=0.52, val_acc=0.568, val_AUC=0.602]\n"
     ]
    },
    {
     "name": "stdout",
     "output_type": "stream",
     "text": [
      "tensor([ 0.2853, -0.2580,  0.4595, -0.9245,  0.3684, -0.1116,  0.3717,  0.9068,\n",
      "        -0.4215, -0.4202, -0.2360], device='cuda:0', grad_fn=<DivBackward0>)\n"
     ]
    },
    {
     "name": "stderr",
     "output_type": "stream",
     "text": [
      "Epoch 2: 100%|██████████| 3/3 [00:02<00:00,  1.09it/s, loss=22.8, acc=0.567, AUC=0.594, val_acc=0.577, val_AUC=0.591]\n"
     ]
    },
    {
     "name": "stdout",
     "output_type": "stream",
     "text": [
      "tensor([ 0.0521, -0.0327,  0.1623,  0.0125, -0.0357, -0.0366,  0.1162,  0.0506,\n",
      "         0.0223,  0.0670, -0.0080], device='cuda:0', grad_fn=<DivBackward0>)\n"
     ]
    },
    {
     "name": "stderr",
     "output_type": "stream",
     "text": [
      "Epoch 3: 100%|██████████| 3/3 [00:02<00:00,  1.12it/s, loss=21.8, acc=0.596, AUC=0.647, val_acc=0.556, val_AUC=0.61]\n"
     ]
    },
    {
     "name": "stdout",
     "output_type": "stream",
     "text": [
      "tensor([ 0.1041, -0.0441,  0.2714,  0.1014, -0.0189,  0.0199,  0.1987,  0.0634,\n",
      "         0.0981,  0.1044,  0.0338], device='cuda:0', grad_fn=<DivBackward0>)\n"
     ]
    },
    {
     "name": "stderr",
     "output_type": "stream",
     "text": [
      "Epoch 4: 100%|██████████| 3/3 [00:02<00:00,  1.10it/s, loss=21.6, acc=0.619, AUC=0.661, val_acc=0.601, val_AUC=0.664]\n"
     ]
    },
    {
     "name": "stdout",
     "output_type": "stream",
     "text": [
      "tensor([ 0.1030, -0.0483,  0.3231,  0.1056, -0.0195,  0.0353,  0.2170,  0.0625,\n",
      "         0.1155,  0.1052,  0.0449], device='cuda:0', grad_fn=<DivBackward0>)\n"
     ]
    },
    {
     "name": "stderr",
     "output_type": "stream",
     "text": [
      "Epoch 5: 100%|██████████| 3/3 [00:02<00:00,  1.11it/s, loss=21.5, acc=0.629, AUC=0.672, val_acc=0.589, val_AUC=0.662]\n"
     ]
    },
    {
     "name": "stdout",
     "output_type": "stream",
     "text": [
      "tensor([ 0.0939, -0.0664,  0.3399,  0.1227, -0.0175,  0.0088,  0.2173,  0.0660,\n",
      "         0.1225,  0.1204,  0.0304], device='cuda:0', grad_fn=<DivBackward0>)\n"
     ]
    },
    {
     "name": "stderr",
     "output_type": "stream",
     "text": [
      "Epoch 6: 100%|██████████| 3/3 [00:02<00:00,  1.11it/s, loss=21.6, acc=0.627, AUC=0.669, val_acc=0.656, val_AUC=0.692]\n"
     ]
    },
    {
     "name": "stdout",
     "output_type": "stream",
     "text": [
      "tensor([ 0.1001, -0.0700,  0.3881,  0.1357, -0.0262,  0.0043,  0.2508,  0.0691,\n",
      "         0.1595,  0.1351,  0.0114], device='cuda:0', grad_fn=<DivBackward0>)\n"
     ]
    },
    {
     "name": "stderr",
     "output_type": "stream",
     "text": [
      "Epoch 7: 100%|██████████| 3/3 [00:02<00:00,  1.11it/s, loss=21.5, acc=0.635, AUC=0.682, val_acc=0.607, val_AUC=0.679]\n"
     ]
    },
    {
     "name": "stdout",
     "output_type": "stream",
     "text": [
      "tensor([ 0.1042, -0.0720,  0.4331,  0.1336, -0.0088,  0.0148,  0.2669,  0.0780,\n",
      "         0.1958,  0.1575,  0.0587], device='cuda:0', grad_fn=<DivBackward0>)\n"
     ]
    },
    {
     "name": "stderr",
     "output_type": "stream",
     "text": [
      "Epoch 8: 100%|██████████| 3/3 [00:02<00:00,  1.11it/s, loss=21.4, acc=0.639, AUC=0.68, val_acc=0.653, val_AUC=0.7]\n"
     ]
    },
    {
     "name": "stdout",
     "output_type": "stream",
     "text": [
      "tensor([ 0.1075, -0.0629,  0.4303,  0.1193, -0.0274,  0.0105,  0.2390,  0.0961,\n",
      "         0.2038,  0.1707,  0.0577], device='cuda:0', grad_fn=<DivBackward0>)\n"
     ]
    },
    {
     "name": "stderr",
     "output_type": "stream",
     "text": [
      "Epoch 9: 100%|██████████| 3/3 [00:02<00:00,  1.09it/s, loss=21.1, acc=0.644, AUC=0.692, val_acc=0.616, val_AUC=0.702]\n"
     ]
    },
    {
     "name": "stdout",
     "output_type": "stream",
     "text": [
      "tensor([ 0.1430, -0.0817,  0.5070,  0.1557, -0.0163,  0.0346,  0.2937,  0.0950,\n",
      "         0.2583,  0.1904,  0.0797], device='cuda:0', grad_fn=<DivBackward0>)\n"
     ]
    },
    {
     "name": "stderr",
     "output_type": "stream",
     "text": [
      "Epoch 10: 100%|██████████| 3/3 [00:02<00:00,  1.11it/s, loss=21.1, acc=0.647, AUC=0.694, val_acc=0.625, val_AUC=0.683]\n"
     ]
    },
    {
     "name": "stdout",
     "output_type": "stream",
     "text": [
      "tensor([ 0.1279, -0.0644,  0.4821,  0.1195, -0.0332,  0.0139,  0.2578,  0.0783,\n",
      "         0.2249,  0.1710,  0.0538], device='cuda:0', grad_fn=<DivBackward0>)\n"
     ]
    },
    {
     "name": "stderr",
     "output_type": "stream",
     "text": [
      "Epoch 11: 100%|██████████| 3/3 [00:02<00:00,  1.06it/s, loss=20.7, acc=0.658, AUC=0.704, val_acc=0.604, val_AUC=0.685]\n"
     ]
    },
    {
     "name": "stdout",
     "output_type": "stream",
     "text": [
      "tensor([ 0.0991, -0.0687,  0.4825,  0.0880, -0.0535,  0.0135,  0.2505,  0.0785,\n",
      "         0.1986,  0.1582,  0.0350], device='cuda:0', grad_fn=<DivBackward0>)\n"
     ]
    },
    {
     "name": "stderr",
     "output_type": "stream",
     "text": [
      "Epoch 12: 100%|██████████| 3/3 [00:02<00:00,  1.10it/s, loss=20.5, acc=0.656, AUC=0.711, val_acc=0.647, val_AUC=0.701]\n"
     ]
    },
    {
     "name": "stdout",
     "output_type": "stream",
     "text": [
      "tensor([ 0.1073, -0.0612,  0.5133,  0.1095, -0.0424,  0.0288,  0.2775,  0.0717,\n",
      "         0.2046,  0.1479,  0.0566], device='cuda:0', grad_fn=<DivBackward0>)\n"
     ]
    },
    {
     "name": "stderr",
     "output_type": "stream",
     "text": [
      "Epoch 13: 100%|██████████| 3/3 [00:02<00:00,  1.10it/s, loss=20.5, acc=0.668, AUC=0.714, val_acc=0.634, val_AUC=0.707]\n"
     ]
    },
    {
     "name": "stdout",
     "output_type": "stream",
     "text": [
      "tensor([ 0.1034, -0.0592,  0.5168,  0.0961, -0.0540,  0.0085,  0.2766,  0.0754,\n",
      "         0.2043,  0.1444,  0.0440], device='cuda:0', grad_fn=<DivBackward0>)\n"
     ]
    },
    {
     "name": "stderr",
     "output_type": "stream",
     "text": [
      "Epoch 14: 100%|██████████| 3/3 [00:02<00:00,  1.08it/s, loss=20.4, acc=0.662, AUC=0.716, val_acc=0.659, val_AUC=0.7]\n"
     ]
    },
    {
     "name": "stdout",
     "output_type": "stream",
     "text": [
      "tensor([ 0.1061, -0.0601,  0.5098,  0.0826, -0.0459,  0.0255,  0.2620,  0.0757,\n",
      "         0.2158,  0.1289,  0.0404], device='cuda:0', grad_fn=<DivBackward0>)\n"
     ]
    },
    {
     "name": "stderr",
     "output_type": "stream",
     "text": [
      "Epoch 15: 100%|██████████| 3/3 [00:02<00:00,  1.10it/s, loss=20.6, acc=0.658, AUC=0.708, val_acc=0.65, val_AUC=0.716]\n"
     ]
    },
    {
     "name": "stdout",
     "output_type": "stream",
     "text": [
      "tensor([ 0.1275, -0.0562,  0.5606,  0.1169, -0.0335,  0.0348,  0.3039,  0.0795,\n",
      "         0.2414,  0.1554,  0.0664], device='cuda:0', grad_fn=<DivBackward0>)\n"
     ]
    },
    {
     "name": "stderr",
     "output_type": "stream",
     "text": [
      "Epoch 16: 100%|██████████| 3/3 [00:02<00:00,  1.10it/s, loss=20.4, acc=0.664, AUC=0.718, val_acc=0.671, val_AUC=0.717]\n"
     ]
    },
    {
     "name": "stdout",
     "output_type": "stream",
     "text": [
      "tensor([ 0.1302, -0.0625,  0.6047,  0.1374, -0.0452,  0.0614,  0.3376,  0.0752,\n",
      "         0.2681,  0.1752,  0.0858], device='cuda:0', grad_fn=<DivBackward0>)\n"
     ]
    },
    {
     "name": "stderr",
     "output_type": "stream",
     "text": [
      "Epoch 17: 100%|██████████| 3/3 [00:02<00:00,  1.10it/s, loss=20.2, acc=0.672, AUC=0.725, val_acc=0.668, val_AUC=0.72]\n"
     ]
    },
    {
     "name": "stdout",
     "output_type": "stream",
     "text": [
      "tensor([ 0.1248, -0.0603,  0.6214,  0.1296, -0.0339,  0.0638,  0.3156,  0.0718,\n",
      "         0.2669,  0.1673,  0.0880], device='cuda:0', grad_fn=<DivBackward0>)\n"
     ]
    },
    {
     "name": "stderr",
     "output_type": "stream",
     "text": [
      "Epoch 18: 100%|██████████| 3/3 [00:02<00:00,  1.09it/s, loss=20.2, acc=0.667, AUC=0.724, val_acc=0.659, val_AUC=0.703]\n"
     ]
    },
    {
     "name": "stdout",
     "output_type": "stream",
     "text": [
      "tensor([ 0.1093, -0.0575,  0.6116,  0.1226, -0.0388,  0.0540,  0.3155,  0.0732,\n",
      "         0.2561,  0.1452,  0.0757], device='cuda:0', grad_fn=<DivBackward0>)\n"
     ]
    },
    {
     "name": "stderr",
     "output_type": "stream",
     "text": [
      "Epoch 19: 100%|██████████| 3/3 [00:02<00:00,  1.08it/s, loss=20.2, acc=0.669, AUC=0.724, val_acc=0.662, val_AUC=0.715]\n"
     ]
    },
    {
     "name": "stdout",
     "output_type": "stream",
     "text": [
      "tensor([ 0.1011, -0.0222,  0.5995,  0.1069, -0.0393,  0.0557,  0.2886,  0.0738,\n",
      "         0.2452,  0.1398,  0.0819], device='cuda:0', grad_fn=<DivBackward0>)\n"
     ]
    },
    {
     "name": "stderr",
     "output_type": "stream",
     "text": [
      "Epoch 20: 100%|██████████| 3/3 [00:02<00:00,  1.09it/s, loss=20.4, acc=0.659, AUC=0.716, val_acc=0.631, val_AUC=0.7]\n"
     ]
    },
    {
     "name": "stdout",
     "output_type": "stream",
     "text": [
      "tensor([ 0.1131, -0.0329,  0.6596,  0.1389, -0.0316,  0.0709,  0.3301,  0.0904,\n",
      "         0.2787,  0.1699,  0.0999], device='cuda:0', grad_fn=<DivBackward0>)\n"
     ]
    },
    {
     "name": "stderr",
     "output_type": "stream",
     "text": [
      "Epoch 21: 100%|██████████| 3/3 [00:02<00:00,  1.09it/s, loss=20.2, acc=0.661, AUC=0.725, val_acc=0.653, val_AUC=0.716]\n"
     ]
    },
    {
     "name": "stdout",
     "output_type": "stream",
     "text": [
      "tensor([ 0.1231, -0.0479,  0.6732,  0.1230, -0.0429,  0.0465,  0.3363,  0.0999,\n",
      "         0.2804,  0.1823,  0.0907], device='cuda:0', grad_fn=<DivBackward0>)\n"
     ]
    },
    {
     "name": "stderr",
     "output_type": "stream",
     "text": [
      "Epoch 22: 100%|██████████| 3/3 [00:02<00:00,  1.09it/s, loss=20.3, acc=0.669, AUC=0.718, val_acc=0.656, val_AUC=0.7]\n"
     ]
    },
    {
     "name": "stdout",
     "output_type": "stream",
     "text": [
      "tensor([ 0.0951, -0.0202,  0.6569,  0.1259, -0.0338,  0.0491,  0.3124,  0.0906,\n",
      "         0.2886,  0.1739,  0.0744], device='cuda:0', grad_fn=<DivBackward0>)\n"
     ]
    },
    {
     "name": "stderr",
     "output_type": "stream",
     "text": [
      "Epoch 23: 100%|██████████| 3/3 [00:02<00:00,  1.09it/s, loss=20.1, acc=0.684, AUC=0.728, val_acc=0.659, val_AUC=0.718]\n"
     ]
    },
    {
     "name": "stdout",
     "output_type": "stream",
     "text": [
      "tensor([ 0.1026, -0.0223,  0.6828,  0.1352, -0.0378,  0.0465,  0.3138,  0.1004,\n",
      "         0.3051,  0.1736,  0.0656], device='cuda:0', grad_fn=<DivBackward0>)\n"
     ]
    },
    {
     "name": "stderr",
     "output_type": "stream",
     "text": [
      "Epoch 24: 100%|██████████| 3/3 [00:02<00:00,  1.03it/s, loss=20.3, acc=0.672, AUC=0.72, val_acc=0.65, val_AUC=0.725]\n"
     ]
    },
    {
     "name": "stdout",
     "output_type": "stream",
     "text": [
      "tensor([ 0.0990, -0.0138,  0.6453,  0.1002, -0.0493,  0.0476,  0.2893,  0.0999,\n",
      "         0.2845,  0.1503,  0.0389], device='cuda:0', grad_fn=<DivBackward0>)\n"
     ]
    },
    {
     "name": "stderr",
     "output_type": "stream",
     "text": [
      "Epoch 25: 100%|██████████| 3/3 [00:02<00:00,  1.09it/s, loss=20.2, acc=0.675, AUC=0.726, val_acc=0.644, val_AUC=0.73]\n"
     ]
    },
    {
     "name": "stdout",
     "output_type": "stream",
     "text": [
      "tensor([ 0.1062, -0.0200,  0.6825,  0.1174, -0.0403,  0.0441,  0.3220,  0.0984,\n",
      "         0.3100,  0.1733,  0.0602], device='cuda:0', grad_fn=<DivBackward0>)\n"
     ]
    },
    {
     "name": "stderr",
     "output_type": "stream",
     "text": [
      "Epoch 26: 100%|██████████| 3/3 [00:02<00:00,  1.09it/s, loss=20.2, acc=0.674, AUC=0.726, val_acc=0.668, val_AUC=0.734]\n"
     ]
    },
    {
     "name": "stdout",
     "output_type": "stream",
     "text": [
      "tensor([ 0.1356, -0.0423,  0.7409,  0.1593, -0.0239,  0.0675,  0.3918,  0.1011,\n",
      "         0.3416,  0.2047,  0.0909], device='cuda:0', grad_fn=<DivBackward0>)\n"
     ]
    },
    {
     "name": "stderr",
     "output_type": "stream",
     "text": [
      "Epoch 27: 100%|██████████| 3/3 [00:02<00:00,  1.08it/s, loss=20.2, acc=0.671, AUC=0.724, val_acc=0.662, val_AUC=0.727]\n"
     ]
    },
    {
     "name": "stdout",
     "output_type": "stream",
     "text": [
      "tensor([ 0.1281, -0.0366,  0.7161,  0.1261, -0.0367,  0.0641,  0.3610,  0.0992,\n",
      "         0.3211,  0.1868,  0.0827], device='cuda:0', grad_fn=<DivBackward0>)\n"
     ]
    },
    {
     "name": "stderr",
     "output_type": "stream",
     "text": [
      "Epoch 28: 100%|██████████| 3/3 [00:02<00:00,  1.08it/s, loss=20.1, acc=0.678, AUC=0.728, val_acc=0.65, val_AUC=0.712]\n"
     ]
    },
    {
     "name": "stdout",
     "output_type": "stream",
     "text": [
      "tensor([ 0.1143, -0.0186,  0.7000,  0.0997, -0.0359,  0.0630,  0.3452,  0.0839,\n",
      "         0.2980,  0.1803,  0.0920], device='cuda:0', grad_fn=<DivBackward0>)\n"
     ]
    },
    {
     "name": "stderr",
     "output_type": "stream",
     "text": [
      "Epoch 29: 100%|██████████| 3/3 [00:02<00:00,  1.07it/s, loss=20.2, acc=0.671, AUC=0.723, val_acc=0.625, val_AUC=0.721]\n"
     ]
    },
    {
     "name": "stdout",
     "output_type": "stream",
     "text": [
      "tensor([ 0.1248, -0.0066,  0.6982,  0.1059, -0.0470,  0.0623,  0.3329,  0.0885,\n",
      "         0.3038,  0.1899,  0.0884], device='cuda:0', grad_fn=<DivBackward0>)\n"
     ]
    },
    {
     "name": "stderr",
     "output_type": "stream",
     "text": [
      "Epoch 30: 100%|██████████| 3/3 [00:02<00:00,  1.09it/s, loss=19.9, acc=0.676, AUC=0.735, val_acc=0.647, val_AUC=0.727]\n"
     ]
    },
    {
     "name": "stdout",
     "output_type": "stream",
     "text": [
      "tensor([ 0.1231, -0.0033,  0.7104,  0.0958, -0.0493,  0.0673,  0.3357,  0.0871,\n",
      "         0.2884,  0.1632,  0.0912], device='cuda:0', grad_fn=<DivBackward0>)\n"
     ]
    },
    {
     "name": "stderr",
     "output_type": "stream",
     "text": [
      "Epoch 31: 100%|██████████| 3/3 [00:02<00:00,  1.08it/s, loss=20.2, acc=0.67, AUC=0.723, val_acc=0.662, val_AUC=0.737]\n"
     ]
    },
    {
     "name": "stdout",
     "output_type": "stream",
     "text": [
      "tensor([ 0.1057,  0.0060,  0.6843,  0.0921, -0.0440,  0.0537,  0.2975,  0.0744,\n",
      "         0.2799,  0.1577,  0.0907], device='cuda:0', grad_fn=<DivBackward0>)\n"
     ]
    },
    {
     "name": "stderr",
     "output_type": "stream",
     "text": [
      "Epoch 32: 100%|██████████| 3/3 [00:02<00:00,  1.08it/s, loss=20.1, acc=0.67, AUC=0.727, val_acc=0.662, val_AUC=0.732]\n"
     ]
    },
    {
     "name": "stdout",
     "output_type": "stream",
     "text": [
      "tensor([ 0.1115, -0.0051,  0.7176,  0.1016, -0.0412,  0.0568,  0.3159,  0.0761,\n",
      "         0.3002,  0.1674,  0.0807], device='cuda:0', grad_fn=<DivBackward0>)\n"
     ]
    },
    {
     "name": "stderr",
     "output_type": "stream",
     "text": [
      "Epoch 33: 100%|██████████| 3/3 [00:02<00:00,  1.08it/s, loss=20, acc=0.678, AUC=0.733, val_acc=0.671, val_AUC=0.733]\n"
     ]
    },
    {
     "name": "stdout",
     "output_type": "stream",
     "text": [
      "tensor([ 0.1363, -0.0074,  0.7475,  0.1259, -0.0349,  0.0630,  0.3527,  0.0788,\n",
      "         0.3097,  0.1689,  0.0800], device='cuda:0', grad_fn=<DivBackward0>)\n"
     ]
    },
    {
     "name": "stderr",
     "output_type": "stream",
     "text": [
      "Epoch 34: 100%|██████████| 3/3 [00:02<00:00,  1.06it/s, loss=19.9, acc=0.672, AUC=0.733, val_acc=0.677, val_AUC=0.725]\n"
     ]
    },
    {
     "name": "stdout",
     "output_type": "stream",
     "text": [
      "tensor([ 0.1035,  0.0023,  0.7215,  0.1022, -0.0446,  0.0626,  0.3345,  0.0851,\n",
      "         0.3070,  0.1634,  0.0678], device='cuda:0', grad_fn=<DivBackward0>)\n"
     ]
    },
    {
     "name": "stderr",
     "output_type": "stream",
     "text": [
      "Epoch 35: 100%|██████████| 3/3 [00:02<00:00,  1.04it/s, loss=20.1, acc=0.672, AUC=0.728, val_acc=0.677, val_AUC=0.724]\n"
     ]
    },
    {
     "name": "stdout",
     "output_type": "stream",
     "text": [
      "tensor([ 0.1249, -0.0056,  0.7635,  0.1148, -0.0339,  0.0613,  0.3591,  0.0766,\n",
      "         0.3354,  0.1795,  0.0764], device='cuda:0', grad_fn=<DivBackward0>)\n"
     ]
    },
    {
     "name": "stderr",
     "output_type": "stream",
     "text": [
      "Epoch 36: 100%|██████████| 3/3 [00:02<00:00,  1.08it/s, loss=20.1, acc=0.679, AUC=0.728, val_acc=0.674, val_AUC=0.727]\n"
     ]
    },
    {
     "name": "stdout",
     "output_type": "stream",
     "text": [
      "tensor([ 0.1301,  0.0064,  0.7648,  0.1155, -0.0306,  0.0608,  0.3525,  0.0736,\n",
      "         0.3254,  0.1802,  0.0713], device='cuda:0', grad_fn=<DivBackward0>)\n"
     ]
    },
    {
     "name": "stderr",
     "output_type": "stream",
     "text": [
      "Epoch 37: 100%|██████████| 3/3 [00:02<00:00,  1.08it/s, loss=20, acc=0.674, AUC=0.732, val_acc=0.656, val_AUC=0.72]\n"
     ]
    },
    {
     "name": "stdout",
     "output_type": "stream",
     "text": [
      "tensor([ 0.1059,  0.0245,  0.7334,  0.0894, -0.0300,  0.0416,  0.3226,  0.0911,\n",
      "         0.3264,  0.1701,  0.0604], device='cuda:0', grad_fn=<DivBackward0>)\n"
     ]
    },
    {
     "name": "stderr",
     "output_type": "stream",
     "text": [
      "Epoch 38: 100%|██████████| 3/3 [00:02<00:00,  1.08it/s, loss=20, acc=0.676, AUC=0.733, val_acc=0.656, val_AUC=0.727]\n"
     ]
    },
    {
     "name": "stdout",
     "output_type": "stream",
     "text": [
      "tensor([ 0.1098,  0.0149,  0.7390,  0.0966, -0.0389,  0.0542,  0.3200,  0.0880,\n",
      "         0.3396,  0.1792,  0.0577], device='cuda:0', grad_fn=<DivBackward0>)\n"
     ]
    },
    {
     "name": "stderr",
     "output_type": "stream",
     "text": [
      "Epoch 39: 100%|██████████| 3/3 [00:02<00:00,  1.06it/s, loss=19.9, acc=0.671, AUC=0.734, val_acc=0.671, val_AUC=0.723]\n"
     ]
    },
    {
     "name": "stdout",
     "output_type": "stream",
     "text": [
      "tensor([ 0.1301,  0.0079,  0.7531,  0.1071, -0.0367,  0.0530,  0.3324,  0.0903,\n",
      "         0.3526,  0.1845,  0.0736], device='cuda:0', grad_fn=<DivBackward0>)\n"
     ]
    },
    {
     "name": "stderr",
     "output_type": "stream",
     "text": [
      "Epoch 40: 100%|██████████| 3/3 [00:02<00:00,  1.08it/s, loss=20.1, acc=0.672, AUC=0.728, val_acc=0.647, val_AUC=0.745]\n"
     ]
    },
    {
     "name": "stdout",
     "output_type": "stream",
     "text": [
      "tensor([ 0.1316, -0.0239,  0.7716,  0.1140, -0.0403,  0.0701,  0.3542,  0.0996,\n",
      "         0.3654,  0.1959,  0.0680], device='cuda:0', grad_fn=<DivBackward0>)\n"
     ]
    },
    {
     "name": "stderr",
     "output_type": "stream",
     "text": [
      "Epoch 41: 100%|██████████| 3/3 [00:02<00:00,  1.08it/s, loss=20.2, acc=0.674, AUC=0.725, val_acc=0.674, val_AUC=0.732]\n"
     ]
    },
    {
     "name": "stdout",
     "output_type": "stream",
     "text": [
      "tensor([ 0.1388, -0.0082,  0.7726,  0.1149, -0.0306,  0.0753,  0.3489,  0.1153,\n",
      "         0.3767,  0.1914,  0.0547], device='cuda:0', grad_fn=<DivBackward0>)\n"
     ]
    },
    {
     "name": "stderr",
     "output_type": "stream",
     "text": [
      "Epoch 42: 100%|██████████| 3/3 [00:02<00:00,  1.08it/s, loss=20.2, acc=0.668, AUC=0.723, val_acc=0.644, val_AUC=0.729]\n"
     ]
    },
    {
     "name": "stdout",
     "output_type": "stream",
     "text": [
      "tensor([ 0.1198, -0.0050,  0.7597,  0.0967, -0.0442,  0.0729,  0.3478,  0.1003,\n",
      "         0.3591,  0.1793,  0.0450], device='cuda:0', grad_fn=<DivBackward0>)\n"
     ]
    },
    {
     "name": "stderr",
     "output_type": "stream",
     "text": [
      "Epoch 43: 100%|██████████| 3/3 [00:02<00:00,  1.07it/s, loss=19.9, acc=0.681, AUC=0.733, val_acc=0.659, val_AUC=0.72]\n"
     ]
    },
    {
     "name": "stdout",
     "output_type": "stream",
     "text": [
      "tensor([ 0.1383, -0.0178,  0.7752,  0.1009, -0.0304,  0.0701,  0.3731,  0.1003,\n",
      "         0.3752,  0.2087,  0.0599], device='cuda:0', grad_fn=<DivBackward0>)\n"
     ]
    },
    {
     "name": "stderr",
     "output_type": "stream",
     "text": [
      "Epoch 44: 100%|██████████| 3/3 [00:02<00:00,  1.06it/s, loss=20, acc=0.672, AUC=0.731, val_acc=0.656, val_AUC=0.722]\n"
     ]
    },
    {
     "name": "stdout",
     "output_type": "stream",
     "text": [
      "tensor([ 0.1507, -0.0219,  0.8063,  0.1140, -0.0321,  0.0796,  0.3719,  0.0988,\n",
      "         0.3898,  0.2154,  0.0812], device='cuda:0', grad_fn=<DivBackward0>)\n"
     ]
    },
    {
     "name": "stderr",
     "output_type": "stream",
     "text": [
      "Epoch 45: 100%|██████████| 3/3 [00:02<00:00,  1.08it/s, loss=19.8, acc=0.673, AUC=0.737, val_acc=0.686, val_AUC=0.735]\n"
     ]
    },
    {
     "name": "stdout",
     "output_type": "stream",
     "text": [
      "tensor([ 1.2491e-01,  4.3952e-04,  7.8540e-01,  1.0824e-01, -3.4691e-02,\n",
      "         6.3486e-02,  3.3602e-01,  1.0485e-01,  3.8300e-01,  1.9312e-01,\n",
      "         6.3717e-02], device='cuda:0', grad_fn=<DivBackward0>)\n"
     ]
    },
    {
     "name": "stderr",
     "output_type": "stream",
     "text": [
      "Epoch 46: 100%|██████████| 3/3 [00:02<00:00,  1.08it/s, loss=19.8, acc=0.681, AUC=0.738, val_acc=0.677, val_AUC=0.726]\n"
     ]
    },
    {
     "name": "stdout",
     "output_type": "stream",
     "text": [
      "tensor([ 0.1157,  0.0017,  0.7757,  0.1007, -0.0293,  0.0696,  0.3516,  0.0900,\n",
      "         0.3715,  0.1801,  0.0526], device='cuda:0', grad_fn=<DivBackward0>)\n"
     ]
    },
    {
     "name": "stderr",
     "output_type": "stream",
     "text": [
      "Epoch 47: 100%|██████████| 3/3 [00:02<00:00,  1.08it/s, loss=19.9, acc=0.68, AUC=0.734, val_acc=0.674, val_AUC=0.743]\n"
     ]
    },
    {
     "name": "stdout",
     "output_type": "stream",
     "text": [
      "tensor([ 0.1203,  0.0129,  0.7840,  0.1025, -0.0194,  0.0581,  0.3332,  0.0856,\n",
      "         0.3573,  0.1671,  0.0525], device='cuda:0', grad_fn=<DivBackward0>)\n"
     ]
    },
    {
     "name": "stderr",
     "output_type": "stream",
     "text": [
      "Epoch 48: 100%|██████████| 3/3 [00:02<00:00,  1.07it/s, loss=19.9, acc=0.678, AUC=0.732, val_acc=0.662, val_AUC=0.729]\n"
     ]
    },
    {
     "name": "stdout",
     "output_type": "stream",
     "text": [
      "tensor([ 0.0977,  0.0208,  0.7466,  0.0783, -0.0293,  0.0632,  0.3024,  0.0774,\n",
      "         0.3268,  0.1692,  0.0433], device='cuda:0', grad_fn=<DivBackward0>)\n"
     ]
    },
    {
     "name": "stderr",
     "output_type": "stream",
     "text": [
      "Epoch 49: 100%|██████████| 3/3 [00:02<00:00,  1.05it/s, loss=19.8, acc=0.681, AUC=0.739, val_acc=0.686, val_AUC=0.734]\n"
     ]
    },
    {
     "name": "stdout",
     "output_type": "stream",
     "text": [
      "tensor([ 0.0973,  0.0190,  0.7533,  0.0945, -0.0380,  0.0413,  0.3137,  0.0667,\n",
      "         0.3450,  0.1515,  0.0438], device='cuda:0', grad_fn=<DivBackward0>)\n"
     ]
    },
    {
     "name": "stderr",
     "output_type": "stream",
     "text": [
      "Epoch 50: 100%|██████████| 3/3 [00:02<00:00,  1.08it/s, loss=19.9, acc=0.681, AUC=0.734, val_acc=0.692, val_AUC=0.748]\n"
     ]
    },
    {
     "name": "stdout",
     "output_type": "stream",
     "text": [
      "tensor([ 0.1225,  0.0157,  0.7838,  0.1209, -0.0268,  0.0548,  0.3422,  0.0714,\n",
      "         0.3595,  0.1666,  0.0696], device='cuda:0', grad_fn=<DivBackward0>)\n"
     ]
    },
    {
     "name": "stderr",
     "output_type": "stream",
     "text": [
      "Epoch 51: 100%|██████████| 3/3 [00:02<00:00,  1.08it/s, loss=20, acc=0.669, AUC=0.731, val_acc=0.665, val_AUC=0.728]\n"
     ]
    },
    {
     "name": "stdout",
     "output_type": "stream",
     "text": [
      "tensor([ 0.1194,  0.0077,  0.8106,  0.1201, -0.0231,  0.0536,  0.3468,  0.0667,\n",
      "         0.3595,  0.1771,  0.0694], device='cuda:0', grad_fn=<DivBackward0>)\n"
     ]
    },
    {
     "name": "stderr",
     "output_type": "stream",
     "text": [
      "Epoch 52: 100%|██████████| 3/3 [00:02<00:00,  1.07it/s, loss=19.9, acc=0.675, AUC=0.732, val_acc=0.674, val_AUC=0.734]\n"
     ]
    },
    {
     "name": "stdout",
     "output_type": "stream",
     "text": [
      "tensor([ 0.1103,  0.0190,  0.7916,  0.1072, -0.0267,  0.0669,  0.3579,  0.0706,\n",
      "         0.3503,  0.1830,  0.0539], device='cuda:0', grad_fn=<DivBackward0>)\n"
     ]
    },
    {
     "name": "stderr",
     "output_type": "stream",
     "text": [
      "Epoch 53: 100%|██████████| 3/3 [00:02<00:00,  1.07it/s, loss=19.7, acc=0.671, AUC=0.74, val_acc=0.671, val_AUC=0.722]\n"
     ]
    },
    {
     "name": "stdout",
     "output_type": "stream",
     "text": [
      "tensor([ 0.0955,  0.0154,  0.7848,  0.1055, -0.0227,  0.0555,  0.3439,  0.0648,\n",
      "         0.3529,  0.1691,  0.0379], device='cuda:0', grad_fn=<DivBackward0>)\n"
     ]
    },
    {
     "name": "stderr",
     "output_type": "stream",
     "text": [
      "Epoch 54: 100%|██████████| 3/3 [00:02<00:00,  1.05it/s, loss=19.9, acc=0.68, AUC=0.736, val_acc=0.677, val_AUC=0.726]\n"
     ]
    },
    {
     "name": "stdout",
     "output_type": "stream",
     "text": [
      "tensor([ 0.1195,  0.0125,  0.7921,  0.1031, -0.0248,  0.0515,  0.3495,  0.0700,\n",
      "         0.3480,  0.1754,  0.0435], device='cuda:0', grad_fn=<DivBackward0>)\n"
     ]
    },
    {
     "name": "stderr",
     "output_type": "stream",
     "text": [
      "Epoch 55: 100%|██████████| 3/3 [00:02<00:00,  1.07it/s, loss=19.8, acc=0.67, AUC=0.737, val_acc=0.665, val_AUC=0.744]\n"
     ]
    },
    {
     "name": "stdout",
     "output_type": "stream",
     "text": [
      "tensor([ 0.1130,  0.0185,  0.7599,  0.0820, -0.0431,  0.0591,  0.3483,  0.0596,\n",
      "         0.3431,  0.1744,  0.0295], device='cuda:0', grad_fn=<DivBackward0>)\n"
     ]
    },
    {
     "name": "stderr",
     "output_type": "stream",
     "text": [
      "Epoch 56: 100%|██████████| 3/3 [00:02<00:00,  1.07it/s, loss=19.9, acc=0.677, AUC=0.735, val_acc=0.68, val_AUC=0.746]\n"
     ]
    },
    {
     "name": "stdout",
     "output_type": "stream",
     "text": [
      "tensor([ 0.1073,  0.0093,  0.7611,  0.0829, -0.0414,  0.0622,  0.3305,  0.0629,\n",
      "         0.3394,  0.1594,  0.0235], device='cuda:0', grad_fn=<DivBackward0>)\n"
     ]
    },
    {
     "name": "stderr",
     "output_type": "stream",
     "text": [
      "Epoch 57: 100%|██████████| 3/3 [00:02<00:00,  1.07it/s, loss=19.8, acc=0.682, AUC=0.735, val_acc=0.671, val_AUC=0.731]\n"
     ]
    },
    {
     "name": "stdout",
     "output_type": "stream",
     "text": [
      "tensor([ 0.0968,  0.0137,  0.7511,  0.0791, -0.0433,  0.0466,  0.3307,  0.0606,\n",
      "         0.3130,  0.1447,  0.0282], device='cuda:0', grad_fn=<DivBackward0>)\n"
     ]
    },
    {
     "name": "stderr",
     "output_type": "stream",
     "text": [
      "Epoch 58: 100%|██████████| 3/3 [00:02<00:00,  1.07it/s, loss=19.9, acc=0.678, AUC=0.736, val_acc=0.668, val_AUC=0.733]\n"
     ]
    },
    {
     "name": "stdout",
     "output_type": "stream",
     "text": [
      "tensor([ 0.1046,  0.0077,  0.7975,  0.0977, -0.0286,  0.0658,  0.3690,  0.0622,\n",
      "         0.3535,  0.1672,  0.0539], device='cuda:0', grad_fn=<DivBackward0>)\n"
     ]
    },
    {
     "name": "stderr",
     "output_type": "stream",
     "text": [
      "Epoch 59: 100%|██████████| 3/3 [00:02<00:00,  1.05it/s, loss=19.8, acc=0.68, AUC=0.735, val_acc=0.656, val_AUC=0.738]\n"
     ]
    },
    {
     "name": "stdout",
     "output_type": "stream",
     "text": [
      "tensor([ 0.1088,  0.0212,  0.7992,  0.1027, -0.0267,  0.0586,  0.3535,  0.0592,\n",
      "         0.3440,  0.1705,  0.0479], device='cuda:0', grad_fn=<DivBackward0>)\n"
     ]
    },
    {
     "name": "stderr",
     "output_type": "stream",
     "text": [
      "Epoch 60: 100%|██████████| 3/3 [00:02<00:00,  1.07it/s, loss=19.8, acc=0.678, AUC=0.738, val_acc=0.698, val_AUC=0.73]\n"
     ]
    },
    {
     "name": "stdout",
     "output_type": "stream",
     "text": [
      "tensor([ 0.1159,  0.0149,  0.7893,  0.0927, -0.0362,  0.0587,  0.3578,  0.0563,\n",
      "         0.3470,  0.1683,  0.0360], device='cuda:0', grad_fn=<DivBackward0>)\n"
     ]
    },
    {
     "name": "stderr",
     "output_type": "stream",
     "text": [
      "Epoch 61: 100%|██████████| 3/3 [00:02<00:00,  1.07it/s, loss=19.9, acc=0.675, AUC=0.733, val_acc=0.689, val_AUC=0.734]\n"
     ]
    },
    {
     "name": "stdout",
     "output_type": "stream",
     "text": [
      "tensor([ 0.1059,  0.0248,  0.7754,  0.0809, -0.0218,  0.0606,  0.3504,  0.0535,\n",
      "         0.3419,  0.1675,  0.0263], device='cuda:0', grad_fn=<DivBackward0>)\n"
     ]
    },
    {
     "name": "stderr",
     "output_type": "stream",
     "text": [
      "Epoch 62: 100%|██████████| 3/3 [00:02<00:00,  1.07it/s, loss=19.9, acc=0.68, AUC=0.735, val_acc=0.668, val_AUC=0.743]\n"
     ]
    },
    {
     "name": "stdout",
     "output_type": "stream",
     "text": [
      "tensor([ 0.1168,  0.0025,  0.8212,  0.1084, -0.0236,  0.0619,  0.3883,  0.0661,\n",
      "         0.3716,  0.1955,  0.0514], device='cuda:0', grad_fn=<DivBackward0>)\n"
     ]
    },
    {
     "name": "stderr",
     "output_type": "stream",
     "text": [
      "Epoch 63: 100%|██████████| 3/3 [00:02<00:00,  1.06it/s, loss=19.8, acc=0.674, AUC=0.737, val_acc=0.68, val_AUC=0.735]\n"
     ]
    },
    {
     "name": "stdout",
     "output_type": "stream",
     "text": [
      "tensor([ 0.1254,  0.0172,  0.8186,  0.1066, -0.0139,  0.0619,  0.3731,  0.0588,\n",
      "         0.3729,  0.1850,  0.0446], device='cuda:0', grad_fn=<DivBackward0>)\n"
     ]
    },
    {
     "name": "stderr",
     "output_type": "stream",
     "text": [
      "Epoch 64: 100%|██████████| 3/3 [00:02<00:00,  1.05it/s, loss=19.8, acc=0.679, AUC=0.738, val_acc=0.64, val_AUC=0.727]\n"
     ]
    },
    {
     "name": "stdout",
     "output_type": "stream",
     "text": [
      "tensor([ 0.1067,  0.0280,  0.8039,  0.0973, -0.0340,  0.0526,  0.3472,  0.0633,\n",
      "         0.3650,  0.1845,  0.0443], device='cuda:0', grad_fn=<DivBackward0>)\n"
     ]
    },
    {
     "name": "stderr",
     "output_type": "stream",
     "text": [
      "Epoch 65: 100%|██████████| 3/3 [00:02<00:00,  1.07it/s, loss=19.8, acc=0.681, AUC=0.738, val_acc=0.659, val_AUC=0.728]\n"
     ]
    },
    {
     "name": "stdout",
     "output_type": "stream",
     "text": [
      "tensor([ 0.1056,  0.0049,  0.8198,  0.1076, -0.0315,  0.0605,  0.3664,  0.0669,\n",
      "         0.3800,  0.1908,  0.0354], device='cuda:0', grad_fn=<DivBackward0>)\n"
     ]
    },
    {
     "name": "stderr",
     "output_type": "stream",
     "text": [
      "Epoch 66: 100%|██████████| 3/3 [00:02<00:00,  1.07it/s, loss=19.8, acc=0.674, AUC=0.738, val_acc=0.665, val_AUC=0.74]\n"
     ]
    },
    {
     "name": "stdout",
     "output_type": "stream",
     "text": [
      "tensor([ 0.1178,  0.0182,  0.8359,  0.0967, -0.0374,  0.0520,  0.3585,  0.0761,\n",
      "         0.3679,  0.1956,  0.0200], device='cuda:0', grad_fn=<DivBackward0>)\n"
     ]
    },
    {
     "name": "stderr",
     "output_type": "stream",
     "text": [
      "Epoch 67: 100%|██████████| 3/3 [00:02<00:00,  1.07it/s, loss=19.8, acc=0.689, AUC=0.739, val_acc=0.689, val_AUC=0.743]\n"
     ]
    },
    {
     "name": "stdout",
     "output_type": "stream",
     "text": [
      "tensor([ 0.1170,  0.0102,  0.8061,  0.0980, -0.0327,  0.0634,  0.3635,  0.0675,\n",
      "         0.3780,  0.1913,  0.0324], device='cuda:0', grad_fn=<DivBackward0>)\n"
     ]
    },
    {
     "name": "stderr",
     "output_type": "stream",
     "text": [
      "Epoch 68: 100%|██████████| 3/3 [00:02<00:00,  1.06it/s, loss=19.7, acc=0.685, AUC=0.738, val_acc=0.677, val_AUC=0.734]\n"
     ]
    },
    {
     "name": "stdout",
     "output_type": "stream",
     "text": [
      "tensor([ 0.1127,  0.0044,  0.8253,  0.1035, -0.0296,  0.0628,  0.3622,  0.0736,\n",
      "         0.3790,  0.1894,  0.0195], device='cuda:0', grad_fn=<DivBackward0>)\n"
     ]
    },
    {
     "name": "stderr",
     "output_type": "stream",
     "text": [
      "Epoch 69: 100%|██████████| 3/3 [00:02<00:00,  1.00it/s, loss=19.8, acc=0.68, AUC=0.738, val_acc=0.677, val_AUC=0.737]\n"
     ]
    },
    {
     "name": "stdout",
     "output_type": "stream",
     "text": [
      "tensor([ 0.1348,  0.0079,  0.8281,  0.1056, -0.0244,  0.0559,  0.3708,  0.0680,\n",
      "         0.3852,  0.1967,  0.0241], device='cuda:0', grad_fn=<DivBackward0>)\n"
     ]
    },
    {
     "name": "stderr",
     "output_type": "stream",
     "text": [
      "Epoch 70: 100%|██████████| 3/3 [00:02<00:00,  1.06it/s, loss=19.9, acc=0.676, AUC=0.737, val_acc=0.668, val_AUC=0.729]\n"
     ]
    },
    {
     "name": "stdout",
     "output_type": "stream",
     "text": [
      "tensor([ 0.1266,  0.0122,  0.8257,  0.0967, -0.0294,  0.0584,  0.3698,  0.0722,\n",
      "         0.3886,  0.1995,  0.0368], device='cuda:0', grad_fn=<DivBackward0>)\n"
     ]
    },
    {
     "name": "stderr",
     "output_type": "stream",
     "text": [
      "Epoch 71: 100%|██████████| 3/3 [00:02<00:00,  1.07it/s, loss=19.8, acc=0.685, AUC=0.739, val_acc=0.677, val_AUC=0.738]\n"
     ]
    },
    {
     "name": "stdout",
     "output_type": "stream",
     "text": [
      "tensor([ 0.1312,  0.0214,  0.8487,  0.1087, -0.0394,  0.0612,  0.3750,  0.0833,\n",
      "         0.4128,  0.2069,  0.0260], device='cuda:0', grad_fn=<DivBackward0>)\n"
     ]
    },
    {
     "name": "stderr",
     "output_type": "stream",
     "text": [
      "Epoch 72: 100%|██████████| 3/3 [00:02<00:00,  1.07it/s, loss=19.9, acc=0.681, AUC=0.735, val_acc=0.668, val_AUC=0.736]\n"
     ]
    },
    {
     "name": "stdout",
     "output_type": "stream",
     "text": [
      "tensor([ 0.1464,  0.0080,  0.8621,  0.1146, -0.0340,  0.0656,  0.3894,  0.0890,\n",
      "         0.4245,  0.2151,  0.0390], device='cuda:0', grad_fn=<DivBackward0>)\n"
     ]
    },
    {
     "name": "stderr",
     "output_type": "stream",
     "text": [
      "Epoch 73: 100%|██████████| 3/3 [00:02<00:00,  1.07it/s, loss=19.8, acc=0.68, AUC=0.738, val_acc=0.647, val_AUC=0.726]\n"
     ]
    },
    {
     "name": "stdout",
     "output_type": "stream",
     "text": [
      "tensor([ 0.1414,  0.0094,  0.8672,  0.1273, -0.0324,  0.0716,  0.3897,  0.0845,\n",
      "         0.4211,  0.2228,  0.0280], device='cuda:0', grad_fn=<DivBackward0>)\n"
     ]
    },
    {
     "name": "stderr",
     "output_type": "stream",
     "text": [
      "Epoch 74: 100%|██████████| 3/3 [00:02<00:00,  1.05it/s, loss=19.7, acc=0.677, AUC=0.739, val_acc=0.698, val_AUC=0.742]\n"
     ]
    },
    {
     "name": "stdout",
     "output_type": "stream",
     "text": [
      "tensor([ 0.1222,  0.0172,  0.8358,  0.0922, -0.0368,  0.0666,  0.3604,  0.0712,\n",
      "         0.3976,  0.2005,  0.0262], device='cuda:0', grad_fn=<DivBackward0>)\n"
     ]
    },
    {
     "name": "stderr",
     "output_type": "stream",
     "text": [
      "Epoch 75: 100%|██████████| 3/3 [00:02<00:00,  1.07it/s, loss=19.9, acc=0.679, AUC=0.737, val_acc=0.653, val_AUC=0.725]\n"
     ]
    },
    {
     "name": "stdout",
     "output_type": "stream",
     "text": [
      "tensor([ 0.1176,  0.0265,  0.7999,  0.0757, -0.0507,  0.0682,  0.3411,  0.0836,\n",
      "         0.3830,  0.1889,  0.0162], device='cuda:0', grad_fn=<DivBackward0>)\n"
     ]
    },
    {
     "name": "stderr",
     "output_type": "stream",
     "text": [
      "Epoch 76: 100%|██████████| 3/3 [00:02<00:00,  1.06it/s, loss=19.7, acc=0.681, AUC=0.739, val_acc=0.659, val_AUC=0.73]\n"
     ]
    },
    {
     "name": "stdout",
     "output_type": "stream",
     "text": [
      "tensor([ 0.1139,  0.0112,  0.8133,  0.0783, -0.0461,  0.0616,  0.3554,  0.0731,\n",
      "         0.3874,  0.1908,  0.0158], device='cuda:0', grad_fn=<DivBackward0>)\n"
     ]
    },
    {
     "name": "stderr",
     "output_type": "stream",
     "text": [
      "Epoch 77: 100%|██████████| 3/3 [00:02<00:00,  1.07it/s, loss=19.8, acc=0.681, AUC=0.738, val_acc=0.677, val_AUC=0.736]\n"
     ]
    },
    {
     "name": "stdout",
     "output_type": "stream",
     "text": [
      "tensor([ 1.3600e-01,  1.2100e-02,  8.1613e-01,  8.3292e-02, -4.6891e-02,\n",
      "         5.7852e-02,  3.5272e-01,  8.0126e-02,  3.8771e-01,  1.8701e-01,\n",
      "        -6.2188e-04], device='cuda:0', grad_fn=<DivBackward0>)\n"
     ]
    },
    {
     "name": "stderr",
     "output_type": "stream",
     "text": [
      "Epoch 78: 100%|██████████| 3/3 [00:02<00:00,  1.06it/s, loss=19.7, acc=0.684, AUC=0.742, val_acc=0.689, val_AUC=0.739]\n"
     ]
    },
    {
     "name": "stdout",
     "output_type": "stream",
     "text": [
      "tensor([ 1.2614e-01,  7.3397e-03,  7.9942e-01,  6.5255e-02, -4.6134e-02,\n",
      "         5.2959e-02,  3.5414e-01,  7.0052e-02,  3.8907e-01,  1.8373e-01,\n",
      "         1.3233e-04], device='cuda:0', grad_fn=<DivBackward0>)\n"
     ]
    },
    {
     "name": "stderr",
     "output_type": "stream",
     "text": [
      "Epoch 79: 100%|██████████| 3/3 [00:02<00:00,  1.04it/s, loss=19.8, acc=0.68, AUC=0.736, val_acc=0.686, val_AUC=0.733]\n"
     ]
    },
    {
     "name": "stdout",
     "output_type": "stream",
     "text": [
      "tensor([ 0.1374,  0.0101,  0.8297,  0.0841, -0.0327,  0.0709,  0.3615,  0.0774,\n",
      "         0.3942,  0.1999,  0.0118], device='cuda:0', grad_fn=<DivBackward0>)\n"
     ]
    },
    {
     "name": "stderr",
     "output_type": "stream",
     "text": [
      "Epoch 80: 100%|██████████| 3/3 [00:02<00:00,  1.06it/s, loss=19.7, acc=0.682, AUC=0.74, val_acc=0.677, val_AUC=0.733]\n"
     ]
    },
    {
     "name": "stdout",
     "output_type": "stream",
     "text": [
      "tensor([ 0.1239,  0.0182,  0.8406,  0.0906, -0.0397,  0.0712,  0.3738,  0.0686,\n",
      "         0.3996,  0.2109,  0.0254], device='cuda:0', grad_fn=<DivBackward0>)\n"
     ]
    },
    {
     "name": "stderr",
     "output_type": "stream",
     "text": [
      "Epoch 81: 100%|██████████| 3/3 [00:02<00:00,  1.07it/s, loss=19.7, acc=0.682, AUC=0.741, val_acc=0.668, val_AUC=0.732]\n"
     ]
    },
    {
     "name": "stdout",
     "output_type": "stream",
     "text": [
      "tensor([ 0.1383,  0.0249,  0.8255,  0.0799, -0.0400,  0.0574,  0.3540,  0.0669,\n",
      "         0.3887,  0.1884,  0.0179], device='cuda:0', grad_fn=<DivBackward0>)\n"
     ]
    },
    {
     "name": "stderr",
     "output_type": "stream",
     "text": [
      "Epoch 82: 100%|██████████| 3/3 [00:02<00:00,  1.06it/s, loss=19.7, acc=0.675, AUC=0.742, val_acc=0.68, val_AUC=0.741]\n"
     ]
    },
    {
     "name": "stdout",
     "output_type": "stream",
     "text": [
      "tensor([ 0.1378,  0.0207,  0.8414,  0.0860, -0.0325,  0.0663,  0.3655,  0.0580,\n",
      "         0.3964,  0.2020,  0.0194], device='cuda:0', grad_fn=<DivBackward0>)\n"
     ]
    },
    {
     "name": "stderr",
     "output_type": "stream",
     "text": [
      "Epoch 83: 100%|██████████| 3/3 [00:02<00:00,  1.06it/s, loss=19.8, acc=0.681, AUC=0.739, val_acc=0.692, val_AUC=0.743]\n"
     ]
    },
    {
     "name": "stdout",
     "output_type": "stream",
     "text": [
      "tensor([ 0.1391,  0.0203,  0.8312,  0.0743, -0.0340,  0.0650,  0.3511,  0.0587,\n",
      "         0.3812,  0.1802,  0.0174], device='cuda:0', grad_fn=<DivBackward0>)\n"
     ]
    },
    {
     "name": "stderr",
     "output_type": "stream",
     "text": [
      "Epoch 84: 100%|██████████| 3/3 [00:02<00:00,  1.05it/s, loss=19.8, acc=0.685, AUC=0.737, val_acc=0.686, val_AUC=0.744]\n"
     ]
    },
    {
     "name": "stdout",
     "output_type": "stream",
     "text": [
      "tensor([ 0.1271,  0.0287,  0.8101,  0.0648, -0.0375,  0.0481,  0.3441,  0.0581,\n",
      "         0.3644,  0.1647, -0.0020], device='cuda:0', grad_fn=<DivBackward0>)\n"
     ]
    },
    {
     "name": "stderr",
     "output_type": "stream",
     "text": [
      "Epoch 85: 100%|██████████| 3/3 [00:02<00:00,  1.06it/s, loss=19.8, acc=0.676, AUC=0.738, val_acc=0.689, val_AUC=0.742]\n"
     ]
    },
    {
     "name": "stdout",
     "output_type": "stream",
     "text": [
      "tensor([ 0.1501,  0.0285,  0.8160,  0.0763, -0.0398,  0.0598,  0.3560,  0.0642,\n",
      "         0.3784,  0.1789, -0.0029], device='cuda:0', grad_fn=<DivBackward0>)\n"
     ]
    },
    {
     "name": "stderr",
     "output_type": "stream",
     "text": [
      "Epoch 86: 100%|██████████| 3/3 [00:02<00:00,  1.06it/s, loss=19.7, acc=0.685, AUC=0.742, val_acc=0.668, val_AUC=0.748]\n"
     ]
    },
    {
     "name": "stdout",
     "output_type": "stream",
     "text": [
      "tensor([ 1.5162e-01,  3.1574e-02,  8.4176e-01,  9.7893e-02, -3.2813e-02,\n",
      "         5.5387e-02,  3.7020e-01,  6.4362e-02,  4.1239e-01,  1.9405e-01,\n",
      "        -7.7681e-04], device='cuda:0', grad_fn=<DivBackward0>)\n"
     ]
    },
    {
     "name": "stderr",
     "output_type": "stream",
     "text": [
      "Epoch 87: 100%|██████████| 3/3 [00:02<00:00,  1.06it/s, loss=19.8, acc=0.686, AUC=0.736, val_acc=0.665, val_AUC=0.748]\n"
     ]
    },
    {
     "name": "stdout",
     "output_type": "stream",
     "text": [
      "tensor([ 0.1446,  0.0331,  0.8439,  0.0918, -0.0364,  0.0632,  0.3628,  0.0657,\n",
      "         0.4059,  0.1866, -0.0082], device='cuda:0', grad_fn=<DivBackward0>)\n"
     ]
    },
    {
     "name": "stderr",
     "output_type": "stream",
     "text": [
      "Epoch 88: 100%|██████████| 3/3 [00:02<00:00,  1.06it/s, loss=19.8, acc=0.676, AUC=0.737, val_acc=0.677, val_AUC=0.742]\n"
     ]
    },
    {
     "name": "stdout",
     "output_type": "stream",
     "text": [
      "tensor([ 0.1267,  0.0436,  0.8191,  0.0755, -0.0451,  0.0670,  0.3436,  0.0560,\n",
      "         0.3949,  0.1740, -0.0159], device='cuda:0', grad_fn=<DivBackward0>)\n"
     ]
    },
    {
     "name": "stderr",
     "output_type": "stream",
     "text": [
      "Epoch 89: 100%|██████████| 3/3 [00:02<00:00,  1.05it/s, loss=19.8, acc=0.683, AUC=0.737, val_acc=0.674, val_AUC=0.737]\n"
     ]
    },
    {
     "name": "stdout",
     "output_type": "stream",
     "text": [
      "tensor([ 0.1388,  0.0438,  0.8412,  0.0878, -0.0369,  0.0684,  0.3599,  0.0700,\n",
      "         0.4038,  0.1813,  0.0010], device='cuda:0', grad_fn=<DivBackward0>)\n"
     ]
    },
    {
     "name": "stderr",
     "output_type": "stream",
     "text": [
      "Epoch 90: 100%|██████████| 3/3 [00:02<00:00,  1.06it/s, loss=19.8, acc=0.678, AUC=0.737, val_acc=0.656, val_AUC=0.732]\n"
     ]
    },
    {
     "name": "stdout",
     "output_type": "stream",
     "text": [
      "tensor([ 0.1571,  0.0313,  0.8709,  0.0969, -0.0355,  0.0605,  0.3893,  0.0673,\n",
      "         0.4221,  0.1954, -0.0174], device='cuda:0', grad_fn=<DivBackward0>)\n"
     ]
    },
    {
     "name": "stderr",
     "output_type": "stream",
     "text": [
      "Epoch 91: 100%|██████████| 3/3 [00:02<00:00,  1.06it/s, loss=19.7, acc=0.677, AUC=0.74, val_acc=0.677, val_AUC=0.747]\n"
     ]
    },
    {
     "name": "stdout",
     "output_type": "stream",
     "text": [
      "tensor([ 0.1545,  0.0270,  0.9095,  0.1031, -0.0225,  0.0686,  0.4081,  0.0514,\n",
      "         0.4233,  0.2150,  0.0090], device='cuda:0', grad_fn=<DivBackward0>)\n"
     ]
    },
    {
     "name": "stderr",
     "output_type": "stream",
     "text": [
      "Epoch 92: 100%|██████████| 3/3 [00:02<00:00,  1.06it/s, loss=19.8, acc=0.678, AUC=0.738, val_acc=0.689, val_AUC=0.74]\n"
     ]
    },
    {
     "name": "stdout",
     "output_type": "stream",
     "text": [
      "tensor([ 0.1602,  0.0254,  0.9129,  0.0967, -0.0180,  0.0771,  0.4005,  0.0462,\n",
      "         0.4234,  0.2109,  0.0080], device='cuda:0', grad_fn=<DivBackward0>)\n"
     ]
    },
    {
     "name": "stderr",
     "output_type": "stream",
     "text": [
      "Epoch 93: 100%|██████████| 3/3 [00:02<00:00,  1.06it/s, loss=19.7, acc=0.682, AUC=0.743, val_acc=0.68, val_AUC=0.742]\n"
     ]
    },
    {
     "name": "stdout",
     "output_type": "stream",
     "text": [
      "tensor([ 0.1623,  0.0286,  0.9381,  0.1077, -0.0143,  0.0697,  0.4164,  0.0425,\n",
      "         0.4371,  0.2044,  0.0181], device='cuda:0', grad_fn=<DivBackward0>)\n"
     ]
    },
    {
     "name": "stderr",
     "output_type": "stream",
     "text": [
      "Epoch 94: 100%|██████████| 3/3 [00:02<00:00,  1.04it/s, loss=19.8, acc=0.685, AUC=0.738, val_acc=0.692, val_AUC=0.749]\n"
     ]
    },
    {
     "name": "stdout",
     "output_type": "stream",
     "text": [
      "tensor([ 0.1718,  0.0337,  0.9268,  0.0975, -0.0289,  0.0677,  0.4057,  0.0401,\n",
      "         0.4296,  0.2044,  0.0096], device='cuda:0', grad_fn=<DivBackward0>)\n"
     ]
    },
    {
     "name": "stderr",
     "output_type": "stream",
     "text": [
      "Epoch 95: 100%|██████████| 3/3 [00:02<00:00,  1.06it/s, loss=19.7, acc=0.678, AUC=0.741, val_acc=0.677, val_AUC=0.747]\n"
     ]
    },
    {
     "name": "stdout",
     "output_type": "stream",
     "text": [
      "tensor([ 1.4376e-01,  4.1338e-02,  8.9978e-01,  9.8080e-02, -2.3957e-02,\n",
      "         4.5232e-02,  3.9109e-01,  3.6683e-02,  4.1431e-01,  2.0437e-01,\n",
      "        -5.5746e-04], device='cuda:0', grad_fn=<DivBackward0>)\n"
     ]
    },
    {
     "name": "stderr",
     "output_type": "stream",
     "text": [
      "Epoch 96: 100%|██████████| 3/3 [00:02<00:00,  1.06it/s, loss=19.7, acc=0.687, AUC=0.743, val_acc=0.701, val_AUC=0.752]\n"
     ]
    },
    {
     "name": "stdout",
     "output_type": "stream",
     "text": [
      "tensor([ 0.1362,  0.0564,  0.9197,  0.0917, -0.0205,  0.0379,  0.3908,  0.0321,\n",
      "         0.4224,  0.2050,  0.0165], device='cuda:0', grad_fn=<DivBackward0>)\n"
     ]
    },
    {
     "name": "stderr",
     "output_type": "stream",
     "text": [
      "Epoch 97: 100%|██████████| 3/3 [00:02<00:00,  1.06it/s, loss=19.8, acc=0.68, AUC=0.737, val_acc=0.656, val_AUC=0.741]\n"
     ]
    },
    {
     "name": "stdout",
     "output_type": "stream",
     "text": [
      "tensor([ 0.1384,  0.0626,  0.9148,  0.0988, -0.0174,  0.0439,  0.3789,  0.0330,\n",
      "         0.4046,  0.1998,  0.0167], device='cuda:0', grad_fn=<DivBackward0>)\n"
     ]
    },
    {
     "name": "stderr",
     "output_type": "stream",
     "text": [
      "Epoch 98: 100%|██████████| 3/3 [00:02<00:00,  1.06it/s, loss=19.7, acc=0.684, AUC=0.74, val_acc=0.671, val_AUC=0.729]\n"
     ]
    },
    {
     "name": "stdout",
     "output_type": "stream",
     "text": [
      "tensor([ 0.1476,  0.0650,  0.9122,  0.1064, -0.0229,  0.0351,  0.4078,  0.0471,\n",
      "         0.4254,  0.2049,  0.0217], device='cuda:0', grad_fn=<DivBackward0>)\n"
     ]
    },
    {
     "name": "stderr",
     "output_type": "stream",
     "text": [
      "Epoch 99: 100%|██████████| 3/3 [00:02<00:00,  1.04it/s, loss=19.8, acc=0.678, AUC=0.738, val_acc=0.665, val_AUC=0.744]\n"
     ]
    },
    {
     "name": "stdout",
     "output_type": "stream",
     "text": [
      "tensor([ 0.1691,  0.0410,  0.9634,  0.1257, -0.0224,  0.0601,  0.4290,  0.0453,\n",
      "         0.4580,  0.2222,  0.0298], device='cuda:0', grad_fn=<DivBackward0>)\n"
     ]
    },
    {
     "name": "stderr",
     "output_type": "stream",
     "text": [
      "Epoch 100: 100%|██████████| 3/3 [00:02<00:00,  1.06it/s, loss=19.8, acc=0.682, AUC=0.739, val_acc=0.665, val_AUC=0.725]\n"
     ]
    },
    {
     "name": "stdout",
     "output_type": "stream",
     "text": [
      "tensor([ 0.1595,  0.0435,  0.9285,  0.1050, -0.0209,  0.0482,  0.4078,  0.0407,\n",
      "         0.4367,  0.2198,  0.0031], device='cuda:0', grad_fn=<DivBackward0>)\n"
     ]
    },
    {
     "name": "stderr",
     "output_type": "stream",
     "text": [
      "Epoch 101: 100%|██████████| 3/3 [00:02<00:00,  1.06it/s, loss=19.7, acc=0.683, AUC=0.743, val_acc=0.671, val_AUC=0.745]\n"
     ]
    },
    {
     "name": "stdout",
     "output_type": "stream",
     "text": [
      "tensor([ 0.1396,  0.0561,  0.9041,  0.0983, -0.0267,  0.0328,  0.3785,  0.0370,\n",
      "         0.4199,  0.2127,  0.0020], device='cuda:0', grad_fn=<DivBackward0>)\n"
     ]
    },
    {
     "name": "stderr",
     "output_type": "stream",
     "text": [
      "Epoch 102: 100%|██████████| 3/3 [00:02<00:00,  1.06it/s, loss=19.8, acc=0.694, AUC=0.738, val_acc=0.686, val_AUC=0.736]\n"
     ]
    },
    {
     "name": "stdout",
     "output_type": "stream",
     "text": [
      "tensor([ 0.1535,  0.0523,  0.9189,  0.1018, -0.0262,  0.0392,  0.4003,  0.0536,\n",
      "         0.4395,  0.2174,  0.0174], device='cuda:0', grad_fn=<DivBackward0>)\n"
     ]
    },
    {
     "name": "stderr",
     "output_type": "stream",
     "text": [
      "Epoch 103: 100%|██████████| 3/3 [00:02<00:00,  1.06it/s, loss=19.7, acc=0.682, AUC=0.74, val_acc=0.668, val_AUC=0.74]\n"
     ]
    },
    {
     "name": "stdout",
     "output_type": "stream",
     "text": [
      "tensor([ 0.1513,  0.0441,  0.9266,  0.1105, -0.0319,  0.0441,  0.4081,  0.0530,\n",
      "         0.4379,  0.2141,  0.0092], device='cuda:0', grad_fn=<DivBackward0>)\n"
     ]
    },
    {
     "name": "stderr",
     "output_type": "stream",
     "text": [
      "Epoch 104: 100%|██████████| 3/3 [00:02<00:00,  1.04it/s, loss=19.6, acc=0.686, AUC=0.743, val_acc=0.671, val_AUC=0.743]\n"
     ]
    },
    {
     "name": "stdout",
     "output_type": "stream",
     "text": [
      "tensor([ 1.5623e-01,  5.2953e-02,  9.0674e-01,  1.0433e-01, -2.9259e-02,\n",
      "         3.2208e-02,  4.0300e-01,  6.0570e-02,  4.4245e-01,  2.0798e-01,\n",
      "         4.9729e-04], device='cuda:0', grad_fn=<DivBackward0>)\n"
     ]
    },
    {
     "name": "stderr",
     "output_type": "stream",
     "text": [
      "Epoch 105: 100%|██████████| 3/3 [00:02<00:00,  1.06it/s, loss=19.7, acc=0.684, AUC=0.74, val_acc=0.68, val_AUC=0.739]\n"
     ]
    },
    {
     "name": "stdout",
     "output_type": "stream",
     "text": [
      "tensor([ 0.1600,  0.0432,  0.9048,  0.1070, -0.0334,  0.0361,  0.3934,  0.0564,\n",
      "         0.4324,  0.2078, -0.0018], device='cuda:0', grad_fn=<DivBackward0>)\n"
     ]
    },
    {
     "name": "stderr",
     "output_type": "stream",
     "text": [
      "Epoch 106: 100%|██████████| 3/3 [00:02<00:00,  1.06it/s, loss=19.7, acc=0.689, AUC=0.742, val_acc=0.686, val_AUC=0.733]\n"
     ]
    },
    {
     "name": "stdout",
     "output_type": "stream",
     "text": [
      "tensor([ 0.1480,  0.0581,  0.8751,  0.0894, -0.0325,  0.0360,  0.3780,  0.0527,\n",
      "         0.4337,  0.2016,  0.0038], device='cuda:0', grad_fn=<DivBackward0>)\n"
     ]
    },
    {
     "name": "stderr",
     "output_type": "stream",
     "text": [
      "Epoch 107: 100%|██████████| 3/3 [00:02<00:00,  1.06it/s, loss=19.7, acc=0.684, AUC=0.742, val_acc=0.65, val_AUC=0.732]\n"
     ]
    },
    {
     "name": "stdout",
     "output_type": "stream",
     "text": [
      "tensor([ 0.1454,  0.0575,  0.8782,  0.0863, -0.0261,  0.0440,  0.3744,  0.0504,\n",
      "         0.4203,  0.1975,  0.0028], device='cuda:0', grad_fn=<DivBackward0>)\n"
     ]
    },
    {
     "name": "stderr",
     "output_type": "stream",
     "text": [
      "Epoch 108: 100%|██████████| 3/3 [00:02<00:00,  1.00it/s, loss=19.7, acc=0.685, AUC=0.743, val_acc=0.68, val_AUC=0.733]\n"
     ]
    },
    {
     "name": "stdout",
     "output_type": "stream",
     "text": [
      "tensor([ 0.1545,  0.0693,  0.8889,  0.0900, -0.0327,  0.0435,  0.3669,  0.0468,\n",
      "         0.4267,  0.1910,  0.0030], device='cuda:0', grad_fn=<DivBackward0>)\n"
     ]
    },
    {
     "name": "stderr",
     "output_type": "stream",
     "text": [
      "Epoch 109: 100%|██████████| 3/3 [00:02<00:00,  1.04it/s, loss=19.7, acc=0.681, AUC=0.744, val_acc=0.686, val_AUC=0.747]\n"
     ]
    },
    {
     "name": "stdout",
     "output_type": "stream",
     "text": [
      "tensor([ 0.1489,  0.0546,  0.8795,  0.0922, -0.0335,  0.0441,  0.3798,  0.0522,\n",
      "         0.4329,  0.1969, -0.0064], device='cuda:0', grad_fn=<DivBackward0>)\n"
     ]
    },
    {
     "name": "stderr",
     "output_type": "stream",
     "text": [
      "Epoch 110: 100%|██████████| 3/3 [00:02<00:00,  1.06it/s, loss=19.6, acc=0.686, AUC=0.745, val_acc=0.704, val_AUC=0.746]\n"
     ]
    },
    {
     "name": "stdout",
     "output_type": "stream",
     "text": [
      "tensor([ 0.1420,  0.0601,  0.8647,  0.0864, -0.0359,  0.0344,  0.3401,  0.0624,\n",
      "         0.4101,  0.1868, -0.0131], device='cuda:0', grad_fn=<DivBackward0>)\n"
     ]
    },
    {
     "name": "stderr",
     "output_type": "stream",
     "text": [
      "Epoch 111: 100%|██████████| 3/3 [00:02<00:00,  1.06it/s, loss=19.8, acc=0.683, AUC=0.739, val_acc=0.674, val_AUC=0.741]\n"
     ]
    },
    {
     "name": "stdout",
     "output_type": "stream",
     "text": [
      "tensor([ 0.1375,  0.0502,  0.8762,  0.0881, -0.0407,  0.0296,  0.3633,  0.0630,\n",
      "         0.4214,  0.1939, -0.0245], device='cuda:0', grad_fn=<DivBackward0>)\n"
     ]
    },
    {
     "name": "stderr",
     "output_type": "stream",
     "text": [
      "Epoch 112: 100%|██████████| 3/3 [00:02<00:00,  1.06it/s, loss=19.7, acc=0.687, AUC=0.743, val_acc=0.683, val_AUC=0.746]\n"
     ]
    },
    {
     "name": "stdout",
     "output_type": "stream",
     "text": [
      "tensor([ 0.1474,  0.0517,  0.8737,  0.0861, -0.0432,  0.0411,  0.3538,  0.0578,\n",
      "         0.4204,  0.1843, -0.0242], device='cuda:0', grad_fn=<DivBackward0>)\n"
     ]
    },
    {
     "name": "stderr",
     "output_type": "stream",
     "text": [
      "Epoch 113: 100%|██████████| 3/3 [00:02<00:00,  1.06it/s, loss=19.7, acc=0.686, AUC=0.74, val_acc=0.653, val_AUC=0.739]\n"
     ]
    },
    {
     "name": "stdout",
     "output_type": "stream",
     "text": [
      "tensor([ 0.1449,  0.0560,  0.8778,  0.0886, -0.0335,  0.0373,  0.3609,  0.0582,\n",
      "         0.4162,  0.1926, -0.0214], device='cuda:0', grad_fn=<DivBackward0>)\n"
     ]
    },
    {
     "name": "stderr",
     "output_type": "stream",
     "text": [
      "Epoch 114: 100%|██████████| 3/3 [00:02<00:00,  1.04it/s, loss=19.7, acc=0.695, AUC=0.743, val_acc=0.686, val_AUC=0.74]\n"
     ]
    },
    {
     "name": "stdout",
     "output_type": "stream",
     "text": [
      "tensor([ 0.1609,  0.0492,  0.9043,  0.1078, -0.0354,  0.0349,  0.3837,  0.0558,\n",
      "         0.4382,  0.1928, -0.0142], device='cuda:0', grad_fn=<DivBackward0>)\n"
     ]
    },
    {
     "name": "stderr",
     "output_type": "stream",
     "text": [
      "Epoch 115: 100%|██████████| 3/3 [00:02<00:00,  1.05it/s, loss=19.7, acc=0.685, AUC=0.742, val_acc=0.686, val_AUC=0.749]\n"
     ]
    },
    {
     "name": "stdout",
     "output_type": "stream",
     "text": [
      "tensor([ 0.1772,  0.0394,  0.9267,  0.1008, -0.0327,  0.0437,  0.3967,  0.0435,\n",
      "         0.4478,  0.2084, -0.0062], device='cuda:0', grad_fn=<DivBackward0>)\n"
     ]
    },
    {
     "name": "stderr",
     "output_type": "stream",
     "text": [
      "Epoch 116: 100%|██████████| 3/3 [00:02<00:00,  1.06it/s, loss=19.5, acc=0.686, AUC=0.748, val_acc=0.686, val_AUC=0.741]\n"
     ]
    },
    {
     "name": "stdout",
     "output_type": "stream",
     "text": [
      "tensor([ 1.7345e-01,  2.9360e-02,  9.4720e-01,  1.0058e-01, -2.7433e-02,\n",
      "         4.4093e-02,  4.0800e-01,  5.8192e-02,  4.4503e-01,  2.1607e-01,\n",
      "        -2.1656e-04], device='cuda:0', grad_fn=<DivBackward0>)\n"
     ]
    },
    {
     "name": "stderr",
     "output_type": "stream",
     "text": [
      "Epoch 117: 100%|██████████| 3/3 [00:02<00:00,  1.05it/s, loss=19.7, acc=0.682, AUC=0.743, val_acc=0.674, val_AUC=0.737]\n"
     ]
    },
    {
     "name": "stdout",
     "output_type": "stream",
     "text": [
      "tensor([ 0.1744,  0.0434,  0.9533,  0.1199, -0.0312,  0.0412,  0.4088,  0.0557,\n",
      "         0.4528,  0.2278, -0.0097], device='cuda:0', grad_fn=<DivBackward0>)\n"
     ]
    },
    {
     "name": "stderr",
     "output_type": "stream",
     "text": [
      "Epoch 118: 100%|██████████| 3/3 [00:02<00:00,  1.05it/s, loss=19.7, acc=0.687, AUC=0.74, val_acc=0.683, val_AUC=0.74]\n"
     ]
    },
    {
     "name": "stdout",
     "output_type": "stream",
     "text": [
      "tensor([ 0.1689,  0.0328,  0.9366,  0.1105, -0.0354,  0.0329,  0.4010,  0.0595,\n",
      "         0.4477,  0.2177, -0.0247], device='cuda:0', grad_fn=<DivBackward0>)\n"
     ]
    },
    {
     "name": "stderr",
     "output_type": "stream",
     "text": [
      "Epoch 119: 100%|██████████| 3/3 [00:02<00:00,  1.03it/s, loss=19.5, acc=0.689, AUC=0.746, val_acc=0.653, val_AUC=0.741]\n"
     ]
    },
    {
     "name": "stdout",
     "output_type": "stream",
     "text": [
      "tensor([ 0.1658,  0.0367,  0.9134,  0.1021, -0.0320,  0.0375,  0.3975,  0.0598,\n",
      "         0.4460,  0.2046, -0.0214], device='cuda:0', grad_fn=<DivBackward0>)\n"
     ]
    },
    {
     "name": "stderr",
     "output_type": "stream",
     "text": [
      "Epoch 120: 100%|██████████| 3/3 [00:02<00:00,  1.05it/s, loss=19.7, acc=0.692, AUC=0.743, val_acc=0.695, val_AUC=0.738]\n"
     ]
    },
    {
     "name": "stdout",
     "output_type": "stream",
     "text": [
      "tensor([ 0.1774,  0.0469,  0.9252,  0.1031, -0.0294,  0.0282,  0.4022,  0.0566,\n",
      "         0.4465,  0.2177, -0.0117], device='cuda:0', grad_fn=<DivBackward0>)\n"
     ]
    },
    {
     "name": "stderr",
     "output_type": "stream",
     "text": [
      "Epoch 121: 100%|██████████| 3/3 [00:02<00:00,  1.05it/s, loss=19.6, acc=0.688, AUC=0.746, val_acc=0.677, val_AUC=0.737]\n"
     ]
    },
    {
     "name": "stdout",
     "output_type": "stream",
     "text": [
      "tensor([ 0.1636,  0.0455,  0.9228,  0.1186, -0.0294,  0.0361,  0.3900,  0.0458,\n",
      "         0.4399,  0.2079, -0.0128], device='cuda:0', grad_fn=<DivBackward0>)\n"
     ]
    },
    {
     "name": "stderr",
     "output_type": "stream",
     "text": [
      "Epoch 122: 100%|██████████| 3/3 [00:02<00:00,  1.06it/s, loss=19.7, acc=0.682, AUC=0.74, val_acc=0.689, val_AUC=0.729]\n"
     ]
    },
    {
     "name": "stdout",
     "output_type": "stream",
     "text": [
      "tensor([ 0.1483,  0.0433,  0.9064,  0.0943, -0.0239,  0.0427,  0.3714,  0.0528,\n",
      "         0.4342,  0.2037, -0.0085], device='cuda:0', grad_fn=<DivBackward0>)\n"
     ]
    },
    {
     "name": "stderr",
     "output_type": "stream",
     "text": [
      "Epoch 123: 100%|██████████| 3/3 [00:02<00:00,  1.06it/s, loss=19.8, acc=0.677, AUC=0.742, val_acc=0.647, val_AUC=0.732]\n"
     ]
    },
    {
     "name": "stdout",
     "output_type": "stream",
     "text": [
      "tensor([ 0.1565,  0.0524,  0.8968,  0.0926, -0.0399,  0.0376,  0.3698,  0.0575,\n",
      "         0.4273,  0.2065, -0.0025], device='cuda:0', grad_fn=<DivBackward0>)\n"
     ]
    },
    {
     "name": "stderr",
     "output_type": "stream",
     "text": [
      "Epoch 124: 100%|██████████| 3/3 [00:02<00:00,  1.04it/s, loss=19.8, acc=0.689, AUC=0.741, val_acc=0.68, val_AUC=0.741]\n"
     ]
    },
    {
     "name": "stdout",
     "output_type": "stream",
     "text": [
      "tensor([ 0.1585,  0.0466,  0.9138,  0.1033, -0.0367,  0.0384,  0.3797,  0.0629,\n",
      "         0.4312,  0.2107, -0.0083], device='cuda:0', grad_fn=<DivBackward0>)\n"
     ]
    },
    {
     "name": "stderr",
     "output_type": "stream",
     "text": [
      "Epoch 125: 100%|██████████| 3/3 [00:02<00:00,  1.06it/s, loss=19.8, acc=0.676, AUC=0.74, val_acc=0.662, val_AUC=0.747]\n"
     ]
    },
    {
     "name": "stdout",
     "output_type": "stream",
     "text": [
      "tensor([ 0.1562,  0.0515,  0.9009,  0.0901, -0.0383,  0.0225,  0.3669,  0.0635,\n",
      "         0.4408,  0.2053, -0.0203], device='cuda:0', grad_fn=<DivBackward0>)\n"
     ]
    },
    {
     "name": "stderr",
     "output_type": "stream",
     "text": [
      "Epoch 126: 100%|██████████| 3/3 [00:02<00:00,  1.05it/s, loss=19.7, acc=0.689, AUC=0.74, val_acc=0.683, val_AUC=0.743]\n"
     ]
    },
    {
     "name": "stdout",
     "output_type": "stream",
     "text": [
      "tensor([ 0.1564,  0.0538,  0.8869,  0.0867, -0.0365,  0.0320,  0.3621,  0.0563,\n",
      "         0.4279,  0.2112, -0.0175], device='cuda:0', grad_fn=<DivBackward0>)\n"
     ]
    },
    {
     "name": "stderr",
     "output_type": "stream",
     "text": [
      "Epoch 127: 100%|██████████| 3/3 [00:02<00:00,  1.05it/s, loss=19.6, acc=0.682, AUC=0.746, val_acc=0.683, val_AUC=0.746]\n"
     ]
    },
    {
     "name": "stdout",
     "output_type": "stream",
     "text": [
      "tensor([ 0.1671,  0.0440,  0.9063,  0.0960, -0.0375,  0.0310,  0.3794,  0.0653,\n",
      "         0.4430,  0.2137, -0.0022], device='cuda:0', grad_fn=<DivBackward0>)\n"
     ]
    },
    {
     "name": "stderr",
     "output_type": "stream",
     "text": [
      "Epoch 128: 100%|██████████| 3/3 [00:02<00:00,  1.05it/s, loss=19.7, acc=0.683, AUC=0.743, val_acc=0.665, val_AUC=0.744]\n"
     ]
    },
    {
     "name": "stdout",
     "output_type": "stream",
     "text": [
      "tensor([ 0.1615,  0.0377,  0.9146,  0.0970, -0.0399,  0.0367,  0.3876,  0.0600,\n",
      "         0.4444,  0.2221, -0.0120], device='cuda:0', grad_fn=<DivBackward0>)\n"
     ]
    },
    {
     "name": "stderr",
     "output_type": "stream",
     "text": [
      "Epoch 129: 100%|██████████| 3/3 [00:02<00:00,  1.04it/s, loss=19.6, acc=0.68, AUC=0.746, val_acc=0.686, val_AUC=0.749]\n"
     ]
    },
    {
     "name": "stdout",
     "output_type": "stream",
     "text": [
      "tensor([ 0.1679,  0.0383,  0.9212,  0.0981, -0.0363,  0.0322,  0.3860,  0.0585,\n",
      "         0.4527,  0.2188, -0.0108], device='cuda:0', grad_fn=<DivBackward0>)\n"
     ]
    },
    {
     "name": "stderr",
     "output_type": "stream",
     "text": [
      "Epoch 130: 100%|██████████| 3/3 [00:02<00:00,  1.05it/s, loss=19.6, acc=0.686, AUC=0.743, val_acc=0.671, val_AUC=0.728]\n"
     ]
    },
    {
     "name": "stdout",
     "output_type": "stream",
     "text": [
      "tensor([ 0.1736,  0.0544,  0.9210,  0.0916, -0.0471,  0.0405,  0.3756,  0.0626,\n",
      "         0.4383,  0.2113, -0.0203], device='cuda:0', grad_fn=<DivBackward0>)\n"
     ]
    },
    {
     "name": "stderr",
     "output_type": "stream",
     "text": [
      "Epoch 131: 100%|██████████| 3/3 [00:02<00:00,  1.06it/s, loss=19.5, acc=0.684, AUC=0.747, val_acc=0.689, val_AUC=0.736]\n"
     ]
    },
    {
     "name": "stdout",
     "output_type": "stream",
     "text": [
      "tensor([ 0.1707,  0.0446,  0.9259,  0.1009, -0.0374,  0.0367,  0.3720,  0.0582,\n",
      "         0.4428,  0.2192,  0.0014], device='cuda:0', grad_fn=<DivBackward0>)\n"
     ]
    },
    {
     "name": "stderr",
     "output_type": "stream",
     "text": [
      "Epoch 132: 100%|██████████| 3/3 [00:02<00:00,  1.05it/s, loss=19.6, acc=0.684, AUC=0.745, val_acc=0.65, val_AUC=0.738]\n"
     ]
    },
    {
     "name": "stdout",
     "output_type": "stream",
     "text": [
      "tensor([ 0.1764,  0.0515,  0.9460,  0.1114, -0.0361,  0.0320,  0.3968,  0.0646,\n",
      "         0.4677,  0.2267, -0.0099], device='cuda:0', grad_fn=<DivBackward0>)\n"
     ]
    },
    {
     "name": "stderr",
     "output_type": "stream",
     "text": [
      "Epoch 133: 100%|██████████| 3/3 [00:02<00:00,  1.05it/s, loss=19.7, acc=0.687, AUC=0.742, val_acc=0.674, val_AUC=0.732]\n"
     ]
    },
    {
     "name": "stdout",
     "output_type": "stream",
     "text": [
      "tensor([ 1.7211e-01,  5.2999e-02,  9.5274e-01,  1.1448e-01, -4.0011e-02,\n",
      "         3.1921e-02,  3.8146e-01,  6.4972e-02,  4.5710e-01,  2.2478e-01,\n",
      "        -6.2586e-04], device='cuda:0', grad_fn=<DivBackward0>)\n"
     ]
    },
    {
     "name": "stderr",
     "output_type": "stream",
     "text": [
      "Epoch 134: 100%|██████████| 3/3 [00:02<00:00,  1.04it/s, loss=19.6, acc=0.691, AUC=0.746, val_acc=0.674, val_AUC=0.74]\n"
     ]
    },
    {
     "name": "stdout",
     "output_type": "stream",
     "text": [
      "tensor([ 0.1596,  0.0672,  0.9404,  0.1056, -0.0249,  0.0371,  0.3829,  0.0668,\n",
      "         0.4561,  0.2362, -0.0082], device='cuda:0', grad_fn=<DivBackward0>)\n"
     ]
    },
    {
     "name": "stderr",
     "output_type": "stream",
     "text": [
      "Epoch 135: 100%|██████████| 3/3 [00:02<00:00,  1.06it/s, loss=19.6, acc=0.686, AUC=0.745, val_acc=0.683, val_AUC=0.743]\n"
     ]
    },
    {
     "name": "stdout",
     "output_type": "stream",
     "text": [
      "tensor([ 1.6395e-01,  5.6581e-02,  9.6269e-01,  1.0680e-01, -2.9145e-02,\n",
      "         3.9512e-02,  3.9097e-01,  7.1693e-02,  4.5892e-01,  2.3736e-01,\n",
      "        -2.8710e-04], device='cuda:0', grad_fn=<DivBackward0>)\n"
     ]
    },
    {
     "name": "stderr",
     "output_type": "stream",
     "text": [
      "Epoch 136: 100%|██████████| 3/3 [00:02<00:00,  1.06it/s, loss=19.5, acc=0.682, AUC=0.747, val_acc=0.674, val_AUC=0.742]\n"
     ]
    },
    {
     "name": "stdout",
     "output_type": "stream",
     "text": [
      "tensor([ 0.1475,  0.0673,  0.9539,  0.1063, -0.0417,  0.0298,  0.3811,  0.0666,\n",
      "         0.4530,  0.2290, -0.0013], device='cuda:0', grad_fn=<DivBackward0>)\n"
     ]
    },
    {
     "name": "stderr",
     "output_type": "stream",
     "text": [
      "Epoch 137: 100%|██████████| 3/3 [00:02<00:00,  1.06it/s, loss=19.6, acc=0.693, AUC=0.746, val_acc=0.689, val_AUC=0.735]\n"
     ]
    },
    {
     "name": "stdout",
     "output_type": "stream",
     "text": [
      "tensor([ 0.1501,  0.0678,  0.9254,  0.0933, -0.0299,  0.0320,  0.3735,  0.0749,\n",
      "         0.4463,  0.2247, -0.0045], device='cuda:0', grad_fn=<DivBackward0>)\n"
     ]
    },
    {
     "name": "stderr",
     "output_type": "stream",
     "text": [
      "Epoch 138: 100%|██████████| 3/3 [00:02<00:00,  1.06it/s, loss=19.6, acc=0.683, AUC=0.744, val_acc=0.668, val_AUC=0.747]\n"
     ]
    },
    {
     "name": "stdout",
     "output_type": "stream",
     "text": [
      "tensor([ 0.1730,  0.0667,  0.9542,  0.0995, -0.0423,  0.0310,  0.3777,  0.0592,\n",
      "         0.4543,  0.2266, -0.0030], device='cuda:0', grad_fn=<DivBackward0>)\n"
     ]
    },
    {
     "name": "stderr",
     "output_type": "stream",
     "text": [
      "Epoch 139: 100%|██████████| 3/3 [00:02<00:00,  1.04it/s, loss=19.6, acc=0.689, AUC=0.745, val_acc=0.683, val_AUC=0.747]\n"
     ]
    },
    {
     "name": "stdout",
     "output_type": "stream",
     "text": [
      "tensor([ 0.1620,  0.0594,  0.9127,  0.0878, -0.0345,  0.0300,  0.3719,  0.0595,\n",
      "         0.4323,  0.2130, -0.0104], device='cuda:0', grad_fn=<DivBackward0>)\n"
     ]
    },
    {
     "name": "stderr",
     "output_type": "stream",
     "text": [
      "Epoch 140: 100%|██████████| 3/3 [00:02<00:00,  1.06it/s, loss=19.6, acc=0.689, AUC=0.746, val_acc=0.686, val_AUC=0.765]\n"
     ]
    },
    {
     "name": "stdout",
     "output_type": "stream",
     "text": [
      "tensor([ 0.1762,  0.0542,  0.8998,  0.0734, -0.0292,  0.0399,  0.3700,  0.0670,\n",
      "         0.4371,  0.2075, -0.0260], device='cuda:0', grad_fn=<DivBackward0>)\n"
     ]
    },
    {
     "name": "stderr",
     "output_type": "stream",
     "text": [
      "Epoch 141: 100%|██████████| 3/3 [00:02<00:00,  1.06it/s, loss=19.7, acc=0.684, AUC=0.742, val_acc=0.68, val_AUC=0.748]\n"
     ]
    },
    {
     "name": "stdout",
     "output_type": "stream",
     "text": [
      "tensor([ 0.1708,  0.0513,  0.9054,  0.0695, -0.0292,  0.0356,  0.3693,  0.0616,\n",
      "         0.4415,  0.2172, -0.0199], device='cuda:0', grad_fn=<DivBackward0>)\n"
     ]
    },
    {
     "name": "stderr",
     "output_type": "stream",
     "text": [
      "Epoch 142: 100%|██████████| 3/3 [00:02<00:00,  1.05it/s, loss=19.7, acc=0.687, AUC=0.742, val_acc=0.68, val_AUC=0.747]\n"
     ]
    },
    {
     "name": "stdout",
     "output_type": "stream",
     "text": [
      "tensor([ 0.1789,  0.0474,  0.9150,  0.0872, -0.0320,  0.0299,  0.3833,  0.0612,\n",
      "         0.4476,  0.2150, -0.0050], device='cuda:0', grad_fn=<DivBackward0>)\n"
     ]
    },
    {
     "name": "stderr",
     "output_type": "stream",
     "text": [
      "Epoch 143: 100%|██████████| 3/3 [00:02<00:00,  1.05it/s, loss=19.7, acc=0.697, AUC=0.742, val_acc=0.689, val_AUC=0.753]\n"
     ]
    },
    {
     "name": "stdout",
     "output_type": "stream",
     "text": [
      "tensor([ 0.1930,  0.0463,  0.9550,  0.0911, -0.0336,  0.0275,  0.3840,  0.0551,\n",
      "         0.4574,  0.2308, -0.0046], device='cuda:0', grad_fn=<DivBackward0>)\n"
     ]
    },
    {
     "name": "stderr",
     "output_type": "stream",
     "text": [
      "Epoch 144: 100%|██████████| 3/3 [00:02<00:00,  1.04it/s, loss=19.5, acc=0.693, AUC=0.746, val_acc=0.683, val_AUC=0.752]\n"
     ]
    },
    {
     "name": "stdout",
     "output_type": "stream",
     "text": [
      "tensor([ 0.1863,  0.0399,  0.9381,  0.0926, -0.0274,  0.0202,  0.3791,  0.0595,\n",
      "         0.4483,  0.2243, -0.0049], device='cuda:0', grad_fn=<DivBackward0>)\n"
     ]
    },
    {
     "name": "stderr",
     "output_type": "stream",
     "text": [
      "Epoch 145: 100%|██████████| 3/3 [00:02<00:00,  1.05it/s, loss=19.5, acc=0.686, AUC=0.746, val_acc=0.692, val_AUC=0.752]\n"
     ]
    },
    {
     "name": "stdout",
     "output_type": "stream",
     "text": [
      "tensor([ 0.1894,  0.0378,  0.9355,  0.0790, -0.0260,  0.0205,  0.3962,  0.0547,\n",
      "         0.4517,  0.2225, -0.0132], device='cuda:0', grad_fn=<DivBackward0>)\n"
     ]
    },
    {
     "name": "stderr",
     "output_type": "stream",
     "text": [
      "Epoch 146: 100%|██████████| 3/3 [00:02<00:00,  1.05it/s, loss=19.7, acc=0.682, AUC=0.743, val_acc=0.674, val_AUC=0.746]\n"
     ]
    },
    {
     "name": "stdout",
     "output_type": "stream",
     "text": [
      "tensor([ 0.1808,  0.0462,  0.9153,  0.0681, -0.0255,  0.0177,  0.3825,  0.0500,\n",
      "         0.4313,  0.2074, -0.0173], device='cuda:0', grad_fn=<DivBackward0>)\n"
     ]
    },
    {
     "name": "stderr",
     "output_type": "stream",
     "text": [
      "Epoch 147: 100%|██████████| 3/3 [00:02<00:00,  1.05it/s, loss=19.6, acc=0.685, AUC=0.743, val_acc=0.68, val_AUC=0.746]\n"
     ]
    },
    {
     "name": "stdout",
     "output_type": "stream",
     "text": [
      "tensor([ 0.1739,  0.0450,  0.9071,  0.0827, -0.0302,  0.0119,  0.3819,  0.0503,\n",
      "         0.4262,  0.2046, -0.0147], device='cuda:0', grad_fn=<DivBackward0>)\n"
     ]
    },
    {
     "name": "stderr",
     "output_type": "stream",
     "text": [
      "Epoch 148: 100%|██████████| 3/3 [00:02<00:00,  1.05it/s, loss=19.6, acc=0.688, AUC=0.744, val_acc=0.659, val_AUC=0.738]\n"
     ]
    },
    {
     "name": "stdout",
     "output_type": "stream",
     "text": [
      "tensor([ 0.1879,  0.0560,  0.9153,  0.0831, -0.0316,  0.0173,  0.3767,  0.0563,\n",
      "         0.4351,  0.2060, -0.0090], device='cuda:0', grad_fn=<DivBackward0>)\n"
     ]
    },
    {
     "name": "stderr",
     "output_type": "stream",
     "text": [
      "Epoch 149: 100%|██████████| 3/3 [00:02<00:00,  1.03it/s, loss=19.7, acc=0.688, AUC=0.742, val_acc=0.677, val_AUC=0.749]\n"
     ]
    },
    {
     "name": "stdout",
     "output_type": "stream",
     "text": [
      "tensor([ 0.1808,  0.0543,  0.9356,  0.0910, -0.0232,  0.0182,  0.3885,  0.0577,\n",
      "         0.4430,  0.2227, -0.0247], device='cuda:0', grad_fn=<DivBackward0>)\n"
     ]
    },
    {
     "name": "stderr",
     "output_type": "stream",
     "text": [
      "Epoch 150: 100%|██████████| 3/3 [00:02<00:00,  1.06it/s, loss=19.7, acc=0.686, AUC=0.741, val_acc=0.665, val_AUC=0.734]\n"
     ]
    },
    {
     "name": "stdout",
     "output_type": "stream",
     "text": [
      "tensor([ 0.1940,  0.0396,  0.9482,  0.1010, -0.0268,  0.0320,  0.3957,  0.0529,\n",
      "         0.4609,  0.2366, -0.0113], device='cuda:0', grad_fn=<DivBackward0>)\n"
     ]
    },
    {
     "name": "stderr",
     "output_type": "stream",
     "text": [
      "Epoch 151: 100%|██████████| 3/3 [00:02<00:00,  1.05it/s, loss=19.5, acc=0.694, AUC=0.746, val_acc=0.719, val_AUC=0.747]\n"
     ]
    },
    {
     "name": "stdout",
     "output_type": "stream",
     "text": [
      "tensor([ 0.1909,  0.0429,  0.9637,  0.1006, -0.0282,  0.0220,  0.4095,  0.0691,\n",
      "         0.4565,  0.2246, -0.0113], device='cuda:0', grad_fn=<DivBackward0>)\n"
     ]
    },
    {
     "name": "stderr",
     "output_type": "stream",
     "text": [
      "Epoch 152: 100%|██████████| 3/3 [00:02<00:00,  1.05it/s, loss=19.6, acc=0.684, AUC=0.746, val_acc=0.677, val_AUC=0.751]\n"
     ]
    },
    {
     "name": "stdout",
     "output_type": "stream",
     "text": [
      "tensor([ 0.1828,  0.0399,  0.9502,  0.0989, -0.0262,  0.0151,  0.3944,  0.0604,\n",
      "         0.4678,  0.2320, -0.0063], device='cuda:0', grad_fn=<DivBackward0>)\n"
     ]
    },
    {
     "name": "stderr",
     "output_type": "stream",
     "text": [
      "Epoch 153: 100%|██████████| 3/3 [00:02<00:00,  1.05it/s, loss=19.7, acc=0.687, AUC=0.741, val_acc=0.692, val_AUC=0.741]\n"
     ]
    },
    {
     "name": "stdout",
     "output_type": "stream",
     "text": [
      "tensor([ 0.2012,  0.0381,  0.9803,  0.1015, -0.0367,  0.0245,  0.4095,  0.0693,\n",
      "         0.4806,  0.2370, -0.0131], device='cuda:0', grad_fn=<DivBackward0>)\n"
     ]
    },
    {
     "name": "stderr",
     "output_type": "stream",
     "text": [
      "Epoch 154: 100%|██████████| 3/3 [00:02<00:00,  1.03it/s, loss=19.7, acc=0.683, AUC=0.741, val_acc=0.671, val_AUC=0.74]\n"
     ]
    },
    {
     "name": "stdout",
     "output_type": "stream",
     "text": [
      "tensor([ 2.0388e-01,  4.3251e-02,  9.9149e-01,  1.0859e-01, -2.4520e-02,\n",
      "         2.9452e-02,  4.1595e-01,  8.1129e-02,  4.8460e-01,  2.2690e-01,\n",
      "        -6.5837e-04], device='cuda:0', grad_fn=<DivBackward0>)\n"
     ]
    },
    {
     "name": "stderr",
     "output_type": "stream",
     "text": [
      "Epoch 155: 100%|██████████| 3/3 [00:02<00:00,  1.05it/s, loss=19.7, acc=0.688, AUC=0.741, val_acc=0.686, val_AUC=0.741]\n"
     ]
    },
    {
     "name": "stdout",
     "output_type": "stream",
     "text": [
      "tensor([ 0.2097,  0.0456,  0.9889,  0.1043, -0.0313,  0.0189,  0.4248,  0.0685,\n",
      "         0.4875,  0.2390, -0.0262], device='cuda:0', grad_fn=<DivBackward0>)\n"
     ]
    },
    {
     "name": "stderr",
     "output_type": "stream",
     "text": [
      "Epoch 156: 100%|██████████| 3/3 [00:02<00:00,  1.05it/s, loss=19.6, acc=0.685, AUC=0.745, val_acc=0.671, val_AUC=0.74]\n"
     ]
    },
    {
     "name": "stdout",
     "output_type": "stream",
     "text": [
      "tensor([ 0.1991,  0.0533,  0.9722,  0.1203, -0.0399,  0.0228,  0.4092,  0.0660,\n",
      "         0.4667,  0.2291, -0.0334], device='cuda:0', grad_fn=<DivBackward0>)\n"
     ]
    },
    {
     "name": "stderr",
     "output_type": "stream",
     "text": [
      "Epoch 157: 100%|██████████| 3/3 [00:02<00:00,  1.05it/s, loss=19.6, acc=0.694, AUC=0.743, val_acc=0.695, val_AUC=0.741]\n"
     ]
    },
    {
     "name": "stdout",
     "output_type": "stream",
     "text": [
      "tensor([ 0.1954,  0.0543,  0.9478,  0.0962, -0.0340,  0.0205,  0.3987,  0.0644,\n",
      "         0.4486,  0.2067, -0.0277], device='cuda:0', grad_fn=<DivBackward0>)\n"
     ]
    },
    {
     "name": "stderr",
     "output_type": "stream",
     "text": [
      "Epoch 158: 100%|██████████| 3/3 [00:02<00:00,  1.05it/s, loss=19.6, acc=0.685, AUC=0.744, val_acc=0.668, val_AUC=0.743]\n"
     ]
    },
    {
     "name": "stdout",
     "output_type": "stream",
     "text": [
      "tensor([ 0.1941,  0.0589,  0.9285,  0.0877, -0.0238,  0.0135,  0.3917,  0.0500,\n",
      "         0.4396,  0.2041, -0.0393], device='cuda:0', grad_fn=<DivBackward0>)\n"
     ]
    },
    {
     "name": "stderr",
     "output_type": "stream",
     "text": [
      "Epoch 159: 100%|██████████| 3/3 [00:02<00:00,  1.03it/s, loss=19.6, acc=0.69, AUC=0.744, val_acc=0.671, val_AUC=0.74]\n"
     ]
    },
    {
     "name": "stdout",
     "output_type": "stream",
     "text": [
      "tensor([ 0.1893,  0.0562,  0.9481,  0.0903, -0.0360,  0.0081,  0.3960,  0.0597,\n",
      "         0.4362,  0.2106, -0.0328], device='cuda:0', grad_fn=<DivBackward0>)\n"
     ]
    },
    {
     "name": "stderr",
     "output_type": "stream",
     "text": [
      "Epoch 160: 100%|██████████| 3/3 [00:02<00:00,  1.05it/s, loss=19.6, acc=0.686, AUC=0.744, val_acc=0.659, val_AUC=0.742]\n"
     ]
    },
    {
     "name": "stdout",
     "output_type": "stream",
     "text": [
      "tensor([ 0.1914,  0.0584,  0.9352,  0.0857, -0.0250,  0.0062,  0.3788,  0.0628,\n",
      "         0.4329,  0.2038, -0.0269], device='cuda:0', grad_fn=<DivBackward0>)\n"
     ]
    },
    {
     "name": "stderr",
     "output_type": "stream",
     "text": [
      "Epoch 161: 100%|██████████| 3/3 [00:02<00:00,  1.05it/s, loss=19.6, acc=0.687, AUC=0.745, val_acc=0.674, val_AUC=0.747]\n"
     ]
    },
    {
     "name": "stdout",
     "output_type": "stream",
     "text": [
      "tensor([ 0.1884,  0.0514,  0.9453,  0.0945, -0.0420,  0.0162,  0.3989,  0.0634,\n",
      "         0.4523,  0.2087, -0.0380], device='cuda:0', grad_fn=<DivBackward0>)\n"
     ]
    },
    {
     "name": "stderr",
     "output_type": "stream",
     "text": [
      "Epoch 162: 100%|██████████| 3/3 [00:02<00:00,  1.05it/s, loss=19.5, acc=0.687, AUC=0.75, val_acc=0.683, val_AUC=0.752]\n"
     ]
    },
    {
     "name": "stdout",
     "output_type": "stream",
     "text": [
      "tensor([ 0.1903,  0.0467,  0.9489,  0.0997, -0.0335,  0.0132,  0.3926,  0.0648,\n",
      "         0.4546,  0.2172, -0.0394], device='cuda:0', grad_fn=<DivBackward0>)\n"
     ]
    },
    {
     "name": "stderr",
     "output_type": "stream",
     "text": [
      "Epoch 163: 100%|██████████| 3/3 [00:02<00:00,  1.05it/s, loss=19.6, acc=0.688, AUC=0.746, val_acc=0.689, val_AUC=0.755]\n"
     ]
    },
    {
     "name": "stdout",
     "output_type": "stream",
     "text": [
      "tensor([ 0.2032,  0.0521,  0.9619,  0.1005, -0.0464,  0.0075,  0.4039,  0.0664,\n",
      "         0.4467,  0.1955, -0.0416], device='cuda:0', grad_fn=<DivBackward0>)\n"
     ]
    },
    {
     "name": "stderr",
     "output_type": "stream",
     "text": [
      "Epoch 164: 100%|██████████| 3/3 [00:02<00:00,  1.03it/s, loss=19.7, acc=0.684, AUC=0.743, val_acc=0.689, val_AUC=0.748]\n"
     ]
    },
    {
     "name": "stdout",
     "output_type": "stream",
     "text": [
      "tensor([ 0.1887,  0.0538,  0.9474,  0.0966, -0.0338,  0.0070,  0.3923,  0.0661,\n",
      "         0.4411,  0.2140, -0.0429], device='cuda:0', grad_fn=<DivBackward0>)\n"
     ]
    },
    {
     "name": "stderr",
     "output_type": "stream",
     "text": [
      "Epoch 165: 100%|██████████| 3/3 [00:02<00:00,  1.05it/s, loss=19.6, acc=0.688, AUC=0.746, val_acc=0.68, val_AUC=0.742]\n"
     ]
    },
    {
     "name": "stdout",
     "output_type": "stream",
     "text": [
      "tensor([ 0.1862,  0.0541,  0.9322,  0.0885, -0.0423,  0.0056,  0.3810,  0.0710,\n",
      "         0.4463,  0.2138, -0.0484], device='cuda:0', grad_fn=<DivBackward0>)\n"
     ]
    },
    {
     "name": "stderr",
     "output_type": "stream",
     "text": [
      "Epoch 166: 100%|██████████| 3/3 [00:02<00:00,  1.05it/s, loss=19.5, acc=0.692, AUC=0.747, val_acc=0.665, val_AUC=0.745]\n"
     ]
    },
    {
     "name": "stdout",
     "output_type": "stream",
     "text": [
      "tensor([ 0.1825,  0.0479,  0.9216,  0.0803, -0.0492,  0.0079,  0.3810,  0.0746,\n",
      "         0.4472,  0.2135, -0.0414], device='cuda:0', grad_fn=<DivBackward0>)\n"
     ]
    },
    {
     "name": "stderr",
     "output_type": "stream",
     "text": [
      "Epoch 167: 100%|██████████| 3/3 [00:02<00:00,  1.05it/s, loss=19.5, acc=0.691, AUC=0.749, val_acc=0.683, val_AUC=0.733]\n"
     ]
    },
    {
     "name": "stdout",
     "output_type": "stream",
     "text": [
      "tensor([ 0.2012,  0.0430,  0.9414,  0.0855, -0.0486,  0.0097,  0.3791,  0.0782,\n",
      "         0.4720,  0.2176, -0.0578], device='cuda:0', grad_fn=<DivBackward0>)\n"
     ]
    },
    {
     "name": "stderr",
     "output_type": "stream",
     "text": [
      "Epoch 168: 100%|██████████| 3/3 [00:02<00:00,  1.05it/s, loss=19.5, acc=0.694, AUC=0.749, val_acc=0.692, val_AUC=0.743]\n"
     ]
    },
    {
     "name": "stdout",
     "output_type": "stream",
     "text": [
      "tensor([ 0.1926,  0.0422,  0.9513,  0.0843, -0.0431,  0.0215,  0.3914,  0.0833,\n",
      "         0.4708,  0.2193, -0.0524], device='cuda:0', grad_fn=<DivBackward0>)\n"
     ]
    },
    {
     "name": "stderr",
     "output_type": "stream",
     "text": [
      "Epoch 169: 100%|██████████| 3/3 [00:02<00:00,  1.03it/s, loss=19.4, acc=0.694, AUC=0.752, val_acc=0.695, val_AUC=0.749]\n"
     ]
    },
    {
     "name": "stdout",
     "output_type": "stream",
     "text": [
      "tensor([ 0.1943,  0.0426,  0.9485,  0.0917, -0.0501,  0.0144,  0.3861,  0.0780,\n",
      "         0.4743,  0.2217, -0.0471], device='cuda:0', grad_fn=<DivBackward0>)\n"
     ]
    },
    {
     "name": "stderr",
     "output_type": "stream",
     "text": [
      "Epoch 170: 100%|██████████| 3/3 [00:02<00:00,  1.05it/s, loss=19.7, acc=0.682, AUC=0.743, val_acc=0.677, val_AUC=0.744]\n"
     ]
    },
    {
     "name": "stdout",
     "output_type": "stream",
     "text": [
      "tensor([ 0.1919,  0.0511,  0.9437,  0.0825, -0.0458,  0.0167,  0.3780,  0.0755,\n",
      "         0.4643,  0.2146, -0.0322], device='cuda:0', grad_fn=<DivBackward0>)\n"
     ]
    },
    {
     "name": "stderr",
     "output_type": "stream",
     "text": [
      "Epoch 171: 100%|██████████| 3/3 [00:02<00:00,  1.05it/s, loss=19.5, acc=0.691, AUC=0.75, val_acc=0.659, val_AUC=0.734]\n"
     ]
    },
    {
     "name": "stdout",
     "output_type": "stream",
     "text": [
      "tensor([ 0.1947,  0.0414,  0.9470,  0.0783, -0.0432,  0.0183,  0.3874,  0.0762,\n",
      "         0.4684,  0.2141, -0.0360], device='cuda:0', grad_fn=<DivBackward0>)\n"
     ]
    },
    {
     "name": "stderr",
     "output_type": "stream",
     "text": [
      "Epoch 172: 100%|██████████| 3/3 [00:02<00:00,  1.05it/s, loss=19.5, acc=0.687, AUC=0.748, val_acc=0.671, val_AUC=0.74]\n"
     ]
    },
    {
     "name": "stdout",
     "output_type": "stream",
     "text": [
      "tensor([ 0.1995,  0.0502,  0.9663,  0.0904, -0.0365,  0.0171,  0.3871,  0.0920,\n",
      "         0.4693,  0.2244, -0.0380], device='cuda:0', grad_fn=<DivBackward0>)\n"
     ]
    },
    {
     "name": "stderr",
     "output_type": "stream",
     "text": [
      "Epoch 173: 100%|██████████| 3/3 [00:02<00:00,  1.05it/s, loss=19.5, acc=0.689, AUC=0.749, val_acc=0.662, val_AUC=0.747]\n"
     ]
    },
    {
     "name": "stdout",
     "output_type": "stream",
     "text": [
      "tensor([ 0.1886,  0.0459,  0.9562,  0.0898, -0.0520,  0.0150,  0.3919,  0.0910,\n",
      "         0.4712,  0.2208, -0.0539], device='cuda:0', grad_fn=<DivBackward0>)\n"
     ]
    },
    {
     "name": "stderr",
     "output_type": "stream",
     "text": [
      "Epoch 174: 100%|██████████| 3/3 [00:02<00:00,  1.03it/s, loss=19.5, acc=0.695, AUC=0.747, val_acc=0.692, val_AUC=0.749]\n"
     ]
    },
    {
     "name": "stdout",
     "output_type": "stream",
     "text": [
      "tensor([ 0.1845,  0.0462,  0.9431,  0.0918, -0.0598,  0.0168,  0.3728,  0.0876,\n",
      "         0.4651,  0.2241, -0.0445], device='cuda:0', grad_fn=<DivBackward0>)\n"
     ]
    },
    {
     "name": "stderr",
     "output_type": "stream",
     "text": [
      "Epoch 175: 100%|██████████| 3/3 [00:02<00:00,  1.05it/s, loss=19.6, acc=0.686, AUC=0.744, val_acc=0.677, val_AUC=0.748]\n"
     ]
    },
    {
     "name": "stdout",
     "output_type": "stream",
     "text": [
      "tensor([ 0.1882,  0.0509,  0.9659,  0.0851, -0.0470,  0.0308,  0.3857,  0.0877,\n",
      "         0.4689,  0.2242, -0.0320], device='cuda:0', grad_fn=<DivBackward0>)\n"
     ]
    },
    {
     "name": "stderr",
     "output_type": "stream",
     "text": [
      "Epoch 176: 100%|██████████| 3/3 [00:02<00:00,  1.05it/s, loss=19.5, acc=0.697, AUC=0.747, val_acc=0.677, val_AUC=0.747]\n"
     ]
    },
    {
     "name": "stdout",
     "output_type": "stream",
     "text": [
      "tensor([ 0.1929,  0.0473,  0.9960,  0.0974, -0.0420,  0.0350,  0.4085,  0.0793,\n",
      "         0.4789,  0.2315, -0.0317], device='cuda:0', grad_fn=<DivBackward0>)\n"
     ]
    },
    {
     "name": "stderr",
     "output_type": "stream",
     "text": [
      "Epoch 177: 100%|██████████| 3/3 [00:02<00:00,  1.05it/s, loss=19.6, acc=0.688, AUC=0.745, val_acc=0.665, val_AUC=0.752]\n"
     ]
    },
    {
     "name": "stdout",
     "output_type": "stream",
     "text": [
      "tensor([ 0.2090,  0.0398,  0.9938,  0.0910, -0.0446,  0.0284,  0.4123,  0.0770,\n",
      "         0.4869,  0.2325, -0.0428], device='cuda:0', grad_fn=<DivBackward0>)\n"
     ]
    },
    {
     "name": "stderr",
     "output_type": "stream",
     "text": [
      "Epoch 178: 100%|██████████| 3/3 [00:02<00:00,  1.05it/s, loss=19.8, acc=0.683, AUC=0.739, val_acc=0.674, val_AUC=0.728]\n"
     ]
    },
    {
     "name": "stdout",
     "output_type": "stream",
     "text": [
      "tensor([ 0.2056,  0.0344,  0.9874,  0.0915, -0.0499,  0.0206,  0.4029,  0.0832,\n",
      "         0.4810,  0.2354, -0.0311], device='cuda:0', grad_fn=<DivBackward0>)\n"
     ]
    },
    {
     "name": "stderr",
     "output_type": "stream",
     "text": [
      "Epoch 179: 100%|██████████| 3/3 [00:02<00:00,  1.03it/s, loss=19.7, acc=0.679, AUC=0.743, val_acc=0.656, val_AUC=0.744]\n"
     ]
    },
    {
     "name": "stdout",
     "output_type": "stream",
     "text": [
      "tensor([ 0.2093,  0.0379,  0.9787,  0.0862, -0.0416,  0.0254,  0.4035,  0.0851,\n",
      "         0.4757,  0.2333, -0.0308], device='cuda:0', grad_fn=<DivBackward0>)\n"
     ]
    },
    {
     "name": "stderr",
     "output_type": "stream",
     "text": [
      "Epoch 180: 100%|██████████| 3/3 [00:02<00:00,  1.05it/s, loss=19.7, acc=0.69, AUC=0.741, val_acc=0.677, val_AUC=0.73]\n"
     ]
    },
    {
     "name": "stdout",
     "output_type": "stream",
     "text": [
      "tensor([ 0.2102,  0.0369,  0.9843,  0.0847, -0.0505,  0.0242,  0.4004,  0.0754,\n",
      "         0.4728,  0.2233, -0.0290], device='cuda:0', grad_fn=<DivBackward0>)\n"
     ]
    },
    {
     "name": "stderr",
     "output_type": "stream",
     "text": [
      "Epoch 181: 100%|██████████| 3/3 [00:02<00:00,  1.05it/s, loss=19.6, acc=0.686, AUC=0.746, val_acc=0.665, val_AUC=0.742]\n"
     ]
    },
    {
     "name": "stdout",
     "output_type": "stream",
     "text": [
      "tensor([ 0.1894,  0.0448,  0.9896,  0.0970, -0.0410,  0.0237,  0.4022,  0.0687,\n",
      "         0.4725,  0.2280, -0.0274], device='cuda:0', grad_fn=<DivBackward0>)\n"
     ]
    },
    {
     "name": "stderr",
     "output_type": "stream",
     "text": [
      "Epoch 182: 100%|██████████| 3/3 [00:02<00:00,  1.05it/s, loss=19.6, acc=0.693, AUC=0.743, val_acc=0.686, val_AUC=0.74]\n"
     ]
    },
    {
     "name": "stdout",
     "output_type": "stream",
     "text": [
      "tensor([ 0.1955,  0.0361,  0.9958,  0.0929, -0.0481,  0.0265,  0.4101,  0.0792,\n",
      "         0.4805,  0.2339, -0.0404], device='cuda:0', grad_fn=<DivBackward0>)\n"
     ]
    },
    {
     "name": "stderr",
     "output_type": "stream",
     "text": [
      "Epoch 183: 100%|██████████| 3/3 [00:02<00:00,  1.05it/s, loss=19.5, acc=0.688, AUC=0.746, val_acc=0.653, val_AUC=0.727]\n"
     ]
    },
    {
     "name": "stdout",
     "output_type": "stream",
     "text": [
      "tensor([ 0.1843,  0.0411,  0.9780,  0.0912, -0.0519,  0.0243,  0.4038,  0.0835,\n",
      "         0.4704,  0.2326, -0.0438], device='cuda:0', grad_fn=<DivBackward0>)\n"
     ]
    },
    {
     "name": "stderr",
     "output_type": "stream",
     "text": [
      "Epoch 184: 100%|██████████| 3/3 [00:02<00:00,  1.03it/s, loss=19.6, acc=0.689, AUC=0.745, val_acc=0.683, val_AUC=0.746]\n"
     ]
    },
    {
     "name": "stdout",
     "output_type": "stream",
     "text": [
      "tensor([ 0.1921,  0.0401,  0.9772,  0.0898, -0.0481,  0.0243,  0.4011,  0.0755,\n",
      "         0.4616,  0.2297, -0.0252], device='cuda:0', grad_fn=<DivBackward0>)\n"
     ]
    },
    {
     "name": "stderr",
     "output_type": "stream",
     "text": [
      "Epoch 185: 100%|██████████| 3/3 [00:02<00:00,  1.05it/s, loss=19.6, acc=0.679, AUC=0.743, val_acc=0.665, val_AUC=0.752]\n"
     ]
    },
    {
     "name": "stdout",
     "output_type": "stream",
     "text": [
      "tensor([ 0.1908,  0.0453,  1.0067,  0.0882, -0.0456,  0.0180,  0.4041,  0.0724,\n",
      "         0.4701,  0.2254, -0.0222], device='cuda:0', grad_fn=<DivBackward0>)\n"
     ]
    },
    {
     "name": "stderr",
     "output_type": "stream",
     "text": [
      "Epoch 186: 100%|██████████| 3/3 [00:02<00:00,  1.05it/s, loss=19.6, acc=0.69, AUC=0.744, val_acc=0.677, val_AUC=0.737]\n"
     ]
    },
    {
     "name": "stdout",
     "output_type": "stream",
     "text": [
      "tensor([ 0.1757,  0.0400,  1.0035,  0.0940, -0.0441,  0.0213,  0.4050,  0.0785,\n",
      "         0.4861,  0.2210, -0.0312], device='cuda:0', grad_fn=<DivBackward0>)\n"
     ]
    },
    {
     "name": "stderr",
     "output_type": "stream",
     "text": [
      "Epoch 187: 100%|██████████| 3/3 [00:02<00:00,  1.05it/s, loss=19.6, acc=0.683, AUC=0.743, val_acc=0.659, val_AUC=0.754]\n"
     ]
    },
    {
     "name": "stdout",
     "output_type": "stream",
     "text": [
      "tensor([ 0.1955,  0.0485,  1.0185,  0.1011, -0.0451,  0.0341,  0.4127,  0.0820,\n",
      "         0.4889,  0.2198, -0.0208], device='cuda:0', grad_fn=<DivBackward0>)\n"
     ]
    },
    {
     "name": "stderr",
     "output_type": "stream",
     "text": [
      "Epoch 188: 100%|██████████| 3/3 [00:02<00:00,  1.05it/s, loss=19.6, acc=0.695, AUC=0.744, val_acc=0.683, val_AUC=0.749]\n"
     ]
    },
    {
     "name": "stdout",
     "output_type": "stream",
     "text": [
      "tensor([ 0.1956,  0.0460,  1.0107,  0.1059, -0.0489,  0.0183,  0.4148,  0.0787,\n",
      "         0.4873,  0.2354, -0.0245], device='cuda:0', grad_fn=<DivBackward0>)\n"
     ]
    },
    {
     "name": "stderr",
     "output_type": "stream",
     "text": [
      "Epoch 189: 100%|██████████| 3/3 [00:02<00:00,  1.03it/s, loss=19.6, acc=0.687, AUC=0.745, val_acc=0.665, val_AUC=0.741]\n"
     ]
    },
    {
     "name": "stdout",
     "output_type": "stream",
     "text": [
      "tensor([ 0.1984,  0.0365,  1.0380,  0.1182, -0.0408,  0.0239,  0.4226,  0.0794,\n",
      "         0.4895,  0.2288, -0.0250], device='cuda:0', grad_fn=<DivBackward0>)\n"
     ]
    },
    {
     "name": "stderr",
     "output_type": "stream",
     "text": [
      "Epoch 190: 100%|██████████| 3/3 [00:02<00:00,  1.05it/s, loss=19.5, acc=0.691, AUC=0.749, val_acc=0.656, val_AUC=0.736]\n"
     ]
    },
    {
     "name": "stdout",
     "output_type": "stream",
     "text": [
      "tensor([ 0.1888,  0.0437,  1.0088,  0.1029, -0.0549,  0.0199,  0.4095,  0.0846,\n",
      "         0.4831,  0.2197, -0.0483], device='cuda:0', grad_fn=<DivBackward0>)\n"
     ]
    },
    {
     "name": "stderr",
     "output_type": "stream",
     "text": [
      "Epoch 191: 100%|██████████| 3/3 [00:02<00:00,  1.05it/s, loss=19.6, acc=0.687, AUC=0.745, val_acc=0.653, val_AUC=0.734]\n"
     ]
    },
    {
     "name": "stdout",
     "output_type": "stream",
     "text": [
      "tensor([ 0.1871,  0.0356,  1.0277,  0.1099, -0.0536,  0.0162,  0.4120,  0.0956,\n",
      "         0.4820,  0.2170, -0.0425], device='cuda:0', grad_fn=<DivBackward0>)\n"
     ]
    },
    {
     "name": "stderr",
     "output_type": "stream",
     "text": [
      "Epoch 192: 100%|██████████| 3/3 [00:02<00:00,  1.05it/s, loss=19.6, acc=0.687, AUC=0.745, val_acc=0.674, val_AUC=0.74]\n"
     ]
    },
    {
     "name": "stdout",
     "output_type": "stream",
     "text": [
      "tensor([ 0.1721,  0.0461,  1.0001,  0.0966, -0.0589,  0.0126,  0.3991,  0.0827,\n",
      "         0.4782,  0.2162, -0.0473], device='cuda:0', grad_fn=<DivBackward0>)\n"
     ]
    },
    {
     "name": "stderr",
     "output_type": "stream",
     "text": [
      "Epoch 193: 100%|██████████| 3/3 [00:02<00:00,  1.05it/s, loss=19.5, acc=0.691, AUC=0.75, val_acc=0.686, val_AUC=0.74]\n"
     ]
    },
    {
     "name": "stdout",
     "output_type": "stream",
     "text": [
      "tensor([ 0.1817,  0.0396,  1.0035,  0.0953, -0.0527,  0.0163,  0.4056,  0.0825,\n",
      "         0.4799,  0.2132, -0.0349], device='cuda:0', grad_fn=<DivBackward0>)\n"
     ]
    },
    {
     "name": "stderr",
     "output_type": "stream",
     "text": [
      "Epoch 194: 100%|██████████| 3/3 [00:02<00:00,  1.03it/s, loss=19.5, acc=0.69, AUC=0.748, val_acc=0.668, val_AUC=0.735]\n"
     ]
    },
    {
     "name": "stdout",
     "output_type": "stream",
     "text": [
      "tensor([ 0.1839,  0.0436,  1.0157,  0.0901, -0.0575,  0.0038,  0.4120,  0.0792,\n",
      "         0.4706,  0.2176, -0.0328], device='cuda:0', grad_fn=<DivBackward0>)\n"
     ]
    },
    {
     "name": "stderr",
     "output_type": "stream",
     "text": [
      "Epoch 195: 100%|██████████| 3/3 [00:02<00:00,  1.05it/s, loss=19.5, acc=0.688, AUC=0.747, val_acc=0.677, val_AUC=0.743]\n"
     ]
    },
    {
     "name": "stdout",
     "output_type": "stream",
     "text": [
      "tensor([ 0.1823,  0.0609,  0.9938,  0.0846, -0.0521,  0.0146,  0.3929,  0.0758,\n",
      "         0.4694,  0.2137, -0.0352], device='cuda:0', grad_fn=<DivBackward0>)\n"
     ]
    },
    {
     "name": "stderr",
     "output_type": "stream",
     "text": [
      "Epoch 196: 100%|██████████| 3/3 [00:02<00:00,  1.05it/s, loss=19.5, acc=0.686, AUC=0.747, val_acc=0.671, val_AUC=0.743]\n"
     ]
    },
    {
     "name": "stdout",
     "output_type": "stream",
     "text": [
      "tensor([ 0.1707,  0.0638,  0.9687,  0.0799, -0.0612,  0.0038,  0.3825,  0.0769,\n",
      "         0.4576,  0.2073, -0.0326], device='cuda:0', grad_fn=<DivBackward0>)\n"
     ]
    },
    {
     "name": "stderr",
     "output_type": "stream",
     "text": [
      "Epoch 197: 100%|██████████| 3/3 [00:02<00:00,  1.05it/s, loss=19.5, acc=0.687, AUC=0.748, val_acc=0.671, val_AUC=0.744]\n"
     ]
    },
    {
     "name": "stdout",
     "output_type": "stream",
     "text": [
      "tensor([ 0.1833,  0.0648,  1.0086,  0.0906, -0.0554,  0.0136,  0.3876,  0.0860,\n",
      "         0.4808,  0.2127, -0.0209], device='cuda:0', grad_fn=<DivBackward0>)\n"
     ]
    },
    {
     "name": "stderr",
     "output_type": "stream",
     "text": [
      "Epoch 198: 100%|██████████| 3/3 [00:02<00:00,  1.05it/s, loss=19.4, acc=0.694, AUC=0.751, val_acc=0.674, val_AUC=0.737]\n"
     ]
    },
    {
     "name": "stdout",
     "output_type": "stream",
     "text": [
      "tensor([ 0.1842,  0.0639,  1.0045,  0.0861, -0.0543,  0.0062,  0.3878,  0.0773,\n",
      "         0.4683,  0.2032, -0.0096], device='cuda:0', grad_fn=<DivBackward0>)\n"
     ]
    },
    {
     "name": "stderr",
     "output_type": "stream",
     "text": [
      "Epoch 199: 100%|██████████| 3/3 [00:02<00:00,  1.03it/s, loss=19.5, acc=0.688, AUC=0.749, val_acc=0.692, val_AUC=0.739]\n"
     ]
    },
    {
     "name": "stdout",
     "output_type": "stream",
     "text": [
      "tensor([ 0.1907,  0.0534,  1.0125,  0.0878, -0.0658,  0.0086,  0.3967,  0.0741,\n",
      "         0.4674,  0.2160, -0.0125], device='cuda:0', grad_fn=<DivBackward0>)\n"
     ]
    },
    {
     "name": "stderr",
     "output_type": "stream",
     "text": [
      "Epoch 200: 100%|██████████| 3/3 [00:02<00:00,  1.05it/s, loss=19.4, acc=0.695, AUC=0.751, val_acc=0.68, val_AUC=0.744]\n"
     ]
    },
    {
     "name": "stdout",
     "output_type": "stream",
     "text": [
      "tensor([ 0.1937,  0.0607,  1.0425,  0.0955, -0.0622,  0.0164,  0.4125,  0.0773,\n",
      "         0.4841,  0.2340, -0.0075], device='cuda:0', grad_fn=<DivBackward0>)\n"
     ]
    },
    {
     "name": "stderr",
     "output_type": "stream",
     "text": [
      "Epoch 201: 100%|██████████| 3/3 [00:02<00:00,  1.05it/s, loss=19.5, acc=0.69, AUC=0.749, val_acc=0.674, val_AUC=0.747]\n"
     ]
    },
    {
     "name": "stdout",
     "output_type": "stream",
     "text": [
      "tensor([ 0.1853,  0.0617,  1.0193,  0.0879, -0.0500,  0.0047,  0.4148,  0.0744,\n",
      "         0.4787,  0.2192, -0.0121], device='cuda:0', grad_fn=<DivBackward0>)\n"
     ]
    },
    {
     "name": "stderr",
     "output_type": "stream",
     "text": [
      "Epoch 202: 100%|██████████| 3/3 [00:02<00:00,  1.05it/s, loss=19.5, acc=0.689, AUC=0.751, val_acc=0.683, val_AUC=0.738]\n"
     ]
    },
    {
     "name": "stdout",
     "output_type": "stream",
     "text": [
      "tensor([ 0.1629,  0.0639,  0.9842,  0.0897, -0.0629,  0.0033,  0.3807,  0.0738,\n",
      "         0.4624,  0.2094, -0.0154], device='cuda:0', grad_fn=<DivBackward0>)\n"
     ]
    },
    {
     "name": "stderr",
     "output_type": "stream",
     "text": [
      "Epoch 203: 100%|██████████| 3/3 [00:02<00:00,  1.05it/s, loss=19.4, acc=0.696, AUC=0.751, val_acc=0.674, val_AUC=0.746]\n"
     ]
    },
    {
     "name": "stdout",
     "output_type": "stream",
     "text": [
      "tensor([ 1.6742e-01,  6.3768e-02,  9.8501e-01,  8.5205e-02, -5.1954e-02,\n",
      "         1.2905e-04,  3.8455e-01,  7.2591e-02,  4.5551e-01,  2.0782e-01,\n",
      "        -1.2940e-02], device='cuda:0', grad_fn=<DivBackward0>)\n"
     ]
    },
    {
     "name": "stderr",
     "output_type": "stream",
     "text": [
      "Epoch 204: 100%|██████████| 3/3 [00:02<00:00,  1.03it/s, loss=19.7, acc=0.686, AUC=0.741, val_acc=0.665, val_AUC=0.742]\n"
     ]
    },
    {
     "name": "stdout",
     "output_type": "stream",
     "text": [
      "tensor([ 1.5926e-01,  6.2956e-02,  9.8529e-01,  8.1371e-02, -5.5739e-02,\n",
      "        -1.2732e-04,  3.8638e-01,  7.1949e-02,  4.6059e-01,  2.1992e-01,\n",
      "        -1.6750e-02], device='cuda:0', grad_fn=<DivBackward0>)\n"
     ]
    },
    {
     "name": "stderr",
     "output_type": "stream",
     "text": [
      "Epoch 205: 100%|██████████| 3/3 [00:02<00:00,  1.05it/s, loss=19.5, acc=0.689, AUC=0.749, val_acc=0.674, val_AUC=0.731]\n"
     ]
    },
    {
     "name": "stdout",
     "output_type": "stream",
     "text": [
      "tensor([ 0.1659,  0.0721,  0.9883,  0.0799, -0.0434, -0.0012,  0.3789,  0.0750,\n",
      "         0.4610,  0.2209, -0.0190], device='cuda:0', grad_fn=<DivBackward0>)\n"
     ]
    },
    {
     "name": "stderr",
     "output_type": "stream",
     "text": [
      "Epoch 206: 100%|██████████| 3/3 [00:02<00:00,  1.05it/s, loss=19.7, acc=0.69, AUC=0.743, val_acc=0.689, val_AUC=0.744]\n"
     ]
    },
    {
     "name": "stdout",
     "output_type": "stream",
     "text": [
      "tensor([ 0.1770,  0.0609,  1.0033,  0.0910, -0.0492, -0.0085,  0.3860,  0.0834,\n",
      "         0.4741,  0.2292, -0.0202], device='cuda:0', grad_fn=<DivBackward0>)\n"
     ]
    },
    {
     "name": "stderr",
     "output_type": "stream",
     "text": [
      "Epoch 207: 100%|██████████| 3/3 [00:02<00:00,  1.05it/s, loss=19.5, acc=0.688, AUC=0.747, val_acc=0.677, val_AUC=0.745]\n"
     ]
    },
    {
     "name": "stdout",
     "output_type": "stream",
     "text": [
      "tensor([ 0.1658,  0.0549,  1.0004,  0.0938, -0.0560, -0.0066,  0.3926,  0.0814,\n",
      "         0.4691,  0.2259, -0.0300], device='cuda:0', grad_fn=<DivBackward0>)\n"
     ]
    },
    {
     "name": "stderr",
     "output_type": "stream",
     "text": [
      "Epoch 208: 100%|██████████| 3/3 [00:02<00:00,  1.05it/s, loss=19.6, acc=0.691, AUC=0.745, val_acc=0.671, val_AUC=0.736]\n"
     ]
    },
    {
     "name": "stdout",
     "output_type": "stream",
     "text": [
      "tensor([ 0.1688,  0.0535,  0.9895,  0.0854, -0.0518, -0.0075,  0.3774,  0.0756,\n",
      "         0.4746,  0.2191, -0.0228], device='cuda:0', grad_fn=<DivBackward0>)\n"
     ]
    },
    {
     "name": "stderr",
     "output_type": "stream",
     "text": [
      "Epoch 209: 100%|██████████| 3/3 [00:02<00:00,  1.03it/s, loss=19.4, acc=0.687, AUC=0.75, val_acc=0.686, val_AUC=0.747]\n"
     ]
    },
    {
     "name": "stdout",
     "output_type": "stream",
     "text": [
      "tensor([ 0.1784,  0.0715,  0.9837,  0.0898, -0.0515, -0.0136,  0.3704,  0.0789,\n",
      "         0.4653,  0.2119, -0.0297], device='cuda:0', grad_fn=<DivBackward0>)\n"
     ]
    },
    {
     "name": "stderr",
     "output_type": "stream",
     "text": [
      "Epoch 210: 100%|██████████| 3/3 [00:02<00:00,  1.05it/s, loss=19.5, acc=0.693, AUC=0.747, val_acc=0.674, val_AUC=0.741]\n"
     ]
    },
    {
     "name": "stdout",
     "output_type": "stream",
     "text": [
      "tensor([ 0.1622,  0.0670,  0.9914,  0.0884, -0.0531, -0.0113,  0.3714,  0.0841,\n",
      "         0.4780,  0.2127, -0.0157], device='cuda:0', grad_fn=<DivBackward0>)\n"
     ]
    },
    {
     "name": "stderr",
     "output_type": "stream",
     "text": [
      "Epoch 211: 100%|██████████| 3/3 [00:02<00:00,  1.05it/s, loss=19.5, acc=0.687, AUC=0.748, val_acc=0.698, val_AUC=0.747]\n"
     ]
    },
    {
     "name": "stdout",
     "output_type": "stream",
     "text": [
      "tensor([ 0.1694,  0.0627,  0.9914,  0.0907, -0.0602, -0.0045,  0.3767,  0.0790,\n",
      "         0.4696,  0.2208, -0.0183], device='cuda:0', grad_fn=<DivBackward0>)\n"
     ]
    },
    {
     "name": "stderr",
     "output_type": "stream",
     "text": [
      "Epoch 212: 100%|██████████| 3/3 [00:02<00:00,  1.05it/s, loss=19.5, acc=0.695, AUC=0.747, val_acc=0.665, val_AUC=0.737]\n"
     ]
    },
    {
     "name": "stdout",
     "output_type": "stream",
     "text": [
      "tensor([ 0.1646,  0.0542,  1.0026,  0.0879, -0.0444, -0.0119,  0.3795,  0.0859,\n",
      "         0.4690,  0.2227, -0.0162], device='cuda:0', grad_fn=<DivBackward0>)\n"
     ]
    },
    {
     "name": "stderr",
     "output_type": "stream",
     "text": [
      "Epoch 213: 100%|██████████| 3/3 [00:02<00:00,  1.05it/s, loss=19.5, acc=0.692, AUC=0.751, val_acc=0.68, val_AUC=0.747]\n"
     ]
    },
    {
     "name": "stdout",
     "output_type": "stream",
     "text": [
      "tensor([ 0.1679,  0.0679,  0.9928,  0.0818, -0.0581, -0.0060,  0.3822,  0.0833,\n",
      "         0.4749,  0.2225, -0.0150], device='cuda:0', grad_fn=<DivBackward0>)\n"
     ]
    },
    {
     "name": "stderr",
     "output_type": "stream",
     "text": [
      "Epoch 214: 100%|██████████| 3/3 [00:02<00:00,  1.03it/s, loss=19.4, acc=0.693, AUC=0.751, val_acc=0.683, val_AUC=0.737]\n"
     ]
    },
    {
     "name": "stdout",
     "output_type": "stream",
     "text": [
      "tensor([ 0.1765,  0.0603,  0.9758,  0.0824, -0.0524, -0.0055,  0.3678,  0.0912,\n",
      "         0.4699,  0.2270, -0.0311], device='cuda:0', grad_fn=<DivBackward0>)\n"
     ]
    },
    {
     "name": "stderr",
     "output_type": "stream",
     "text": [
      "Epoch 215: 100%|██████████| 3/3 [00:02<00:00,  1.05it/s, loss=19.5, acc=0.693, AUC=0.75, val_acc=0.689, val_AUC=0.745]\n"
     ]
    },
    {
     "name": "stdout",
     "output_type": "stream",
     "text": [
      "tensor([ 0.1605,  0.0525,  0.9775,  0.0865, -0.0525, -0.0077,  0.3703,  0.0825,\n",
      "         0.4764,  0.2298, -0.0347], device='cuda:0', grad_fn=<DivBackward0>)\n"
     ]
    },
    {
     "name": "stderr",
     "output_type": "stream",
     "text": [
      "Epoch 216: 100%|██████████| 3/3 [00:02<00:00,  1.05it/s, loss=19.5, acc=0.688, AUC=0.749, val_acc=0.686, val_AUC=0.739]\n"
     ]
    },
    {
     "name": "stdout",
     "output_type": "stream",
     "text": [
      "tensor([ 0.1666,  0.0681,  0.9804,  0.0936, -0.0554, -0.0024,  0.3729,  0.0961,\n",
      "         0.4729,  0.2240, -0.0288], device='cuda:0', grad_fn=<DivBackward0>)\n"
     ]
    },
    {
     "name": "stderr",
     "output_type": "stream",
     "text": [
      "Epoch 217: 100%|██████████| 3/3 [00:02<00:00,  1.05it/s, loss=19.5, acc=0.69, AUC=0.749, val_acc=0.689, val_AUC=0.739]\n"
     ]
    },
    {
     "name": "stdout",
     "output_type": "stream",
     "text": [
      "tensor([ 1.7228e-01,  6.3595e-02,  9.9264e-01,  1.0646e-01, -4.9534e-02,\n",
      "        -6.6012e-04,  3.7888e-01,  1.0340e-01,  4.7403e-01,  2.2884e-01,\n",
      "        -1.7621e-02], device='cuda:0', grad_fn=<DivBackward0>)\n"
     ]
    },
    {
     "name": "stderr",
     "output_type": "stream",
     "text": [
      "Epoch 218: 100%|██████████| 3/3 [00:02<00:00,  1.05it/s, loss=19.4, acc=0.695, AUC=0.752, val_acc=0.671, val_AUC=0.743]\n"
     ]
    },
    {
     "name": "stdout",
     "output_type": "stream",
     "text": [
      "tensor([ 0.1806,  0.0496,  1.0102,  0.1006, -0.0500,  0.0033,  0.3910,  0.1032,\n",
      "         0.4875,  0.2362, -0.0267], device='cuda:0', grad_fn=<DivBackward0>)\n"
     ]
    },
    {
     "name": "stderr",
     "output_type": "stream",
     "text": [
      "Epoch 219: 100%|██████████| 3/3 [00:02<00:00,  1.03it/s, loss=19.5, acc=0.696, AUC=0.748, val_acc=0.683, val_AUC=0.742]\n"
     ]
    },
    {
     "name": "stdout",
     "output_type": "stream",
     "text": [
      "tensor([ 0.1968,  0.0591,  1.0294,  0.0996, -0.0451,  0.0027,  0.3988,  0.0901,\n",
      "         0.5009,  0.2348, -0.0322], device='cuda:0', grad_fn=<DivBackward0>)\n"
     ]
    },
    {
     "name": "stderr",
     "output_type": "stream",
     "text": [
      "Epoch 220: 100%|██████████| 3/3 [00:02<00:00,  1.05it/s, loss=19.4, acc=0.687, AUC=0.752, val_acc=0.677, val_AUC=0.738]\n"
     ]
    },
    {
     "name": "stdout",
     "output_type": "stream",
     "text": [
      "tensor([ 0.1683,  0.0672,  0.9560,  0.0942, -0.0508,  0.0036,  0.3730,  0.1028,\n",
      "         0.4756,  0.2159, -0.0410], device='cuda:0', grad_fn=<DivBackward0>)\n"
     ]
    },
    {
     "name": "stderr",
     "output_type": "stream",
     "text": [
      "Epoch 221: 100%|██████████| 3/3 [00:02<00:00,  1.05it/s, loss=19.5, acc=0.691, AUC=0.747, val_acc=0.683, val_AUC=0.751]\n"
     ]
    },
    {
     "name": "stdout",
     "output_type": "stream",
     "text": [
      "tensor([ 0.1723,  0.0700,  0.9678,  0.0901, -0.0509, -0.0021,  0.3715,  0.0975,\n",
      "         0.4845,  0.2207, -0.0246], device='cuda:0', grad_fn=<DivBackward0>)\n"
     ]
    },
    {
     "name": "stderr",
     "output_type": "stream",
     "text": [
      "Epoch 222: 100%|██████████| 3/3 [00:02<00:00,  1.05it/s, loss=19.5, acc=0.691, AUC=0.749, val_acc=0.686, val_AUC=0.748]\n"
     ]
    },
    {
     "name": "stdout",
     "output_type": "stream",
     "text": [
      "tensor([ 0.1604,  0.0704,  0.9763,  0.0867, -0.0514,  0.0012,  0.3659,  0.0949,\n",
      "         0.4660,  0.2298, -0.0407], device='cuda:0', grad_fn=<DivBackward0>)\n"
     ]
    },
    {
     "name": "stderr",
     "output_type": "stream",
     "text": [
      "Epoch 223: 100%|██████████| 3/3 [00:02<00:00,  1.05it/s, loss=19.4, acc=0.687, AUC=0.75, val_acc=0.686, val_AUC=0.742]\n"
     ]
    },
    {
     "name": "stdout",
     "output_type": "stream",
     "text": [
      "tensor([ 0.1535,  0.0755,  0.9474,  0.0754, -0.0554,  0.0066,  0.3513,  0.0938,\n",
      "         0.4562,  0.2230, -0.0422], device='cuda:0', grad_fn=<DivBackward0>)\n"
     ]
    },
    {
     "name": "stderr",
     "output_type": "stream",
     "text": [
      "Epoch 224: 100%|██████████| 3/3 [00:02<00:00,  1.03it/s, loss=19.5, acc=0.699, AUC=0.749, val_acc=0.674, val_AUC=0.738]\n"
     ]
    },
    {
     "name": "stdout",
     "output_type": "stream",
     "text": [
      "tensor([ 0.1730,  0.0748,  0.9509,  0.0817, -0.0531, -0.0027,  0.3533,  0.0980,\n",
      "         0.4549,  0.2287, -0.0390], device='cuda:0', grad_fn=<DivBackward0>)\n"
     ]
    },
    {
     "name": "stderr",
     "output_type": "stream",
     "text": [
      "Epoch 225: 100%|██████████| 3/3 [00:02<00:00,  1.05it/s, loss=19.5, acc=0.693, AUC=0.75, val_acc=0.668, val_AUC=0.742]\n"
     ]
    },
    {
     "name": "stdout",
     "output_type": "stream",
     "text": [
      "tensor([ 0.1768,  0.0667,  0.9576,  0.0747, -0.0569, -0.0015,  0.3708,  0.1035,\n",
      "         0.4695,  0.2311, -0.0455], device='cuda:0', grad_fn=<DivBackward0>)\n"
     ]
    },
    {
     "name": "stderr",
     "output_type": "stream",
     "text": [
      "Epoch 226: 100%|██████████| 3/3 [00:02<00:00,  1.05it/s, loss=19.5, acc=0.688, AUC=0.749, val_acc=0.68, val_AUC=0.736]\n"
     ]
    },
    {
     "name": "stdout",
     "output_type": "stream",
     "text": [
      "tensor([ 0.1651,  0.0669,  0.9788,  0.0717, -0.0609,  0.0073,  0.3943,  0.0925,\n",
      "         0.4795,  0.2386, -0.0432], device='cuda:0', grad_fn=<DivBackward0>)\n"
     ]
    },
    {
     "name": "stderr",
     "output_type": "stream",
     "text": [
      "Epoch 227: 100%|██████████| 3/3 [00:02<00:00,  1.05it/s, loss=19.4, acc=0.692, AUC=0.752, val_acc=0.68, val_AUC=0.754]\n"
     ]
    },
    {
     "name": "stdout",
     "output_type": "stream",
     "text": [
      "tensor([ 0.1800,  0.0698,  0.9948,  0.0779, -0.0560,  0.0150,  0.3856,  0.1033,\n",
      "         0.4847,  0.2340, -0.0470], device='cuda:0', grad_fn=<DivBackward0>)\n"
     ]
    },
    {
     "name": "stderr",
     "output_type": "stream",
     "text": [
      "Epoch 228: 100%|██████████| 3/3 [00:02<00:00,  1.05it/s, loss=19.6, acc=0.693, AUC=0.745, val_acc=0.665, val_AUC=0.741]\n"
     ]
    },
    {
     "name": "stdout",
     "output_type": "stream",
     "text": [
      "tensor([ 0.1938,  0.0636,  0.9885,  0.0832, -0.0633, -0.0032,  0.3820,  0.1103,\n",
      "         0.4951,  0.2357, -0.0542], device='cuda:0', grad_fn=<DivBackward0>)\n"
     ]
    },
    {
     "name": "stderr",
     "output_type": "stream",
     "text": [
      "Epoch 229: 100%|██████████| 3/3 [00:02<00:00,  1.03it/s, loss=19.4, acc=0.693, AUC=0.753, val_acc=0.689, val_AUC=0.745]\n"
     ]
    },
    {
     "name": "stdout",
     "output_type": "stream",
     "text": [
      "tensor([ 0.1945,  0.0560,  0.9826,  0.0750, -0.0609,  0.0049,  0.3978,  0.1021,\n",
      "         0.4844,  0.2359, -0.0457], device='cuda:0', grad_fn=<DivBackward0>)\n"
     ]
    },
    {
     "name": "stderr",
     "output_type": "stream",
     "text": [
      "Epoch 230: 100%|██████████| 3/3 [00:02<00:00,  1.05it/s, loss=19.4, acc=0.699, AUC=0.753, val_acc=0.659, val_AUC=0.741]\n"
     ]
    },
    {
     "name": "stdout",
     "output_type": "stream",
     "text": [
      "tensor([ 1.8544e-01,  6.2704e-02,  9.6834e-01,  7.7989e-02, -6.3261e-02,\n",
      "         9.9860e-05,  3.7963e-01,  1.0162e-01,  4.8358e-01,  2.1559e-01,\n",
      "        -5.7542e-02], device='cuda:0', grad_fn=<DivBackward0>)\n"
     ]
    },
    {
     "name": "stderr",
     "output_type": "stream",
     "text": [
      "Epoch 231: 100%|██████████| 3/3 [00:02<00:00,  1.05it/s, loss=19.4, acc=0.698, AUC=0.752, val_acc=0.68, val_AUC=0.743]\n"
     ]
    },
    {
     "name": "stdout",
     "output_type": "stream",
     "text": [
      "tensor([ 0.1844,  0.0662,  0.9762,  0.0739, -0.0521, -0.0038,  0.3842,  0.0949,\n",
      "         0.4715,  0.2162, -0.0535], device='cuda:0', grad_fn=<DivBackward0>)\n"
     ]
    },
    {
     "name": "stderr",
     "output_type": "stream",
     "text": [
      "Epoch 232: 100%|██████████| 3/3 [00:02<00:00,  1.05it/s, loss=19.4, acc=0.693, AUC=0.753, val_acc=0.683, val_AUC=0.746]\n"
     ]
    },
    {
     "name": "stdout",
     "output_type": "stream",
     "text": [
      "tensor([ 0.1913,  0.0631,  0.9570,  0.0756, -0.0518, -0.0056,  0.3720,  0.0826,\n",
      "         0.4605,  0.2187, -0.0516], device='cuda:0', grad_fn=<DivBackward0>)\n"
     ]
    },
    {
     "name": "stderr",
     "output_type": "stream",
     "text": [
      "Epoch 233: 100%|██████████| 3/3 [00:02<00:00,  1.05it/s, loss=19.5, acc=0.698, AUC=0.749, val_acc=0.68, val_AUC=0.737]\n"
     ]
    },
    {
     "name": "stdout",
     "output_type": "stream",
     "text": [
      "tensor([ 0.1864,  0.0586,  0.9610,  0.0808, -0.0582,  0.0149,  0.3723,  0.0943,\n",
      "         0.4705,  0.2297, -0.0532], device='cuda:0', grad_fn=<DivBackward0>)\n"
     ]
    },
    {
     "name": "stderr",
     "output_type": "stream",
     "text": [
      "Epoch 234: 100%|██████████| 3/3 [00:02<00:00,  1.03it/s, loss=19.6, acc=0.687, AUC=0.746, val_acc=0.668, val_AUC=0.742]\n"
     ]
    },
    {
     "name": "stdout",
     "output_type": "stream",
     "text": [
      "tensor([ 1.8465e-01,  5.1923e-02,  9.6590e-01,  8.4263e-02, -5.1018e-02,\n",
      "        -8.1065e-04,  3.7701e-01,  1.0285e-01,  4.7839e-01,  2.3723e-01,\n",
      "        -5.5332e-02], device='cuda:0', grad_fn=<DivBackward0>)\n"
     ]
    },
    {
     "name": "stderr",
     "output_type": "stream",
     "text": [
      "Epoch 235: 100%|██████████| 3/3 [00:02<00:00,  1.05it/s, loss=19.6, acc=0.691, AUC=0.745, val_acc=0.689, val_AUC=0.749]\n"
     ]
    },
    {
     "name": "stdout",
     "output_type": "stream",
     "text": [
      "tensor([ 0.1890,  0.0630,  0.9800,  0.0848, -0.0455,  0.0067,  0.3855,  0.0885,\n",
      "         0.4844,  0.2371, -0.0486], device='cuda:0', grad_fn=<DivBackward0>)\n"
     ]
    },
    {
     "name": "stderr",
     "output_type": "stream",
     "text": [
      "Epoch 236: 100%|██████████| 3/3 [00:02<00:00,  1.05it/s, loss=19.5, acc=0.691, AUC=0.749, val_acc=0.659, val_AUC=0.743]\n"
     ]
    },
    {
     "name": "stdout",
     "output_type": "stream",
     "text": [
      "tensor([ 0.1857,  0.0536,  0.9919,  0.0813, -0.0514,  0.0135,  0.3966,  0.0913,\n",
      "         0.4726,  0.2335, -0.0511], device='cuda:0', grad_fn=<DivBackward0>)\n"
     ]
    },
    {
     "name": "stderr",
     "output_type": "stream",
     "text": [
      "Epoch 237: 100%|██████████| 3/3 [00:02<00:00,  1.05it/s, loss=19.5, acc=0.691, AUC=0.748, val_acc=0.683, val_AUC=0.74]\n"
     ]
    },
    {
     "name": "stdout",
     "output_type": "stream",
     "text": [
      "tensor([ 0.1793,  0.0508,  0.9699,  0.0738, -0.0519,  0.0029,  0.3925,  0.0960,\n",
      "         0.4728,  0.2242, -0.0538], device='cuda:0', grad_fn=<DivBackward0>)\n"
     ]
    },
    {
     "name": "stderr",
     "output_type": "stream",
     "text": [
      "Epoch 238: 100%|██████████| 3/3 [00:02<00:00,  1.05it/s, loss=19.5, acc=0.689, AUC=0.75, val_acc=0.659, val_AUC=0.75]\n"
     ]
    },
    {
     "name": "stdout",
     "output_type": "stream",
     "text": [
      "tensor([ 0.1770,  0.0569,  0.9797,  0.0892, -0.0571,  0.0064,  0.3879,  0.0989,\n",
      "         0.4768,  0.2324, -0.0530], device='cuda:0', grad_fn=<DivBackward0>)\n"
     ]
    },
    {
     "name": "stderr",
     "output_type": "stream",
     "text": [
      "Epoch 239: 100%|██████████| 3/3 [00:02<00:00,  1.05it/s, loss=19.4, acc=0.701, AUC=0.751, val_acc=0.695, val_AUC=0.738]\n"
     ]
    },
    {
     "name": "stdout",
     "output_type": "stream",
     "text": [
      "tensor([ 0.1793,  0.0613,  0.9855,  0.0816, -0.0509, -0.0034,  0.4039,  0.0978,\n",
      "         0.4805,  0.2402, -0.0539], device='cuda:0', grad_fn=<DivBackward0>)\n"
     ]
    },
    {
     "name": "stderr",
     "output_type": "stream",
     "text": [
      "Epoch 240: 100%|██████████| 3/3 [00:02<00:00,  1.03it/s, loss=19.4, acc=0.69, AUC=0.751, val_acc=0.668, val_AUC=0.745]\n"
     ]
    },
    {
     "name": "stdout",
     "output_type": "stream",
     "text": [
      "tensor([ 0.1768,  0.0603,  1.0027,  0.0863, -0.0518,  0.0051,  0.4037,  0.0946,\n",
      "         0.4770,  0.2356, -0.0417], device='cuda:0', grad_fn=<DivBackward0>)\n"
     ]
    },
    {
     "name": "stderr",
     "output_type": "stream",
     "text": [
      "Epoch 241: 100%|██████████| 3/3 [00:02<00:00,  1.05it/s, loss=19.5, acc=0.694, AUC=0.749, val_acc=0.677, val_AUC=0.734]\n"
     ]
    },
    {
     "name": "stdout",
     "output_type": "stream",
     "text": [
      "tensor([ 0.1775,  0.0535,  1.0111,  0.0870, -0.0528,  0.0068,  0.4046,  0.0926,\n",
      "         0.4859,  0.2541, -0.0540], device='cuda:0', grad_fn=<DivBackward0>)\n"
     ]
    },
    {
     "name": "stderr",
     "output_type": "stream",
     "text": [
      "Epoch 242: 100%|██████████| 3/3 [00:02<00:00,  1.05it/s, loss=19.4, acc=0.689, AUC=0.75, val_acc=0.674, val_AUC=0.74]\n"
     ]
    },
    {
     "name": "stdout",
     "output_type": "stream",
     "text": [
      "tensor([ 1.7698e-01,  5.0585e-02,  9.7806e-01,  7.7259e-02, -6.8908e-02,\n",
      "        -8.3477e-04,  3.9064e-01,  9.7189e-02,  4.6780e-01,  2.3839e-01,\n",
      "        -5.7991e-02], device='cuda:0', grad_fn=<DivBackward0>)\n"
     ]
    },
    {
     "name": "stderr",
     "output_type": "stream",
     "text": [
      "Epoch 243: 100%|██████████| 3/3 [00:02<00:00,  1.05it/s, loss=19.5, acc=0.692, AUC=0.749, val_acc=0.683, val_AUC=0.751]\n"
     ]
    },
    {
     "name": "stdout",
     "output_type": "stream",
     "text": [
      "tensor([ 1.6572e-01,  6.0293e-02,  9.6564e-01,  7.4659e-02, -5.3261e-02,\n",
      "        -5.4767e-04,  3.8669e-01,  9.5829e-02,  4.6115e-01,  2.2510e-01,\n",
      "        -4.3872e-02], device='cuda:0', grad_fn=<DivBackward0>)\n"
     ]
    },
    {
     "name": "stderr",
     "output_type": "stream",
     "text": [
      "Epoch 244: 100%|██████████| 3/3 [00:02<00:00,  1.05it/s, loss=19.5, acc=0.684, AUC=0.75, val_acc=0.668, val_AUC=0.738]\n"
     ]
    },
    {
     "name": "stdout",
     "output_type": "stream",
     "text": [
      "tensor([ 0.1763,  0.0475,  0.9947,  0.0824, -0.0501,  0.0072,  0.4002,  0.0935,\n",
      "         0.4728,  0.2456, -0.0431], device='cuda:0', grad_fn=<DivBackward0>)\n"
     ]
    },
    {
     "name": "stderr",
     "output_type": "stream",
     "text": [
      "Epoch 245: 100%|██████████| 3/3 [00:02<00:00,  1.05it/s, loss=19.6, acc=0.689, AUC=0.746, val_acc=0.668, val_AUC=0.74]\n"
     ]
    },
    {
     "name": "stdout",
     "output_type": "stream",
     "text": [
      "tensor([ 0.1681,  0.0684,  0.9895,  0.0899, -0.0580,  0.0040,  0.4055,  0.0982,\n",
      "         0.4799,  0.2381, -0.0491], device='cuda:0', grad_fn=<DivBackward0>)\n"
     ]
    },
    {
     "name": "stderr",
     "output_type": "stream",
     "text": [
      "Epoch 246: 100%|██████████| 3/3 [00:02<00:00,  1.03it/s, loss=19.5, acc=0.691, AUC=0.75, val_acc=0.677, val_AUC=0.742]\n"
     ]
    },
    {
     "name": "stdout",
     "output_type": "stream",
     "text": [
      "tensor([ 0.1706,  0.0653,  1.0023,  0.0837, -0.0579, -0.0076,  0.3946,  0.0886,\n",
      "         0.4867,  0.2397, -0.0433], device='cuda:0', grad_fn=<DivBackward0>)\n"
     ]
    },
    {
     "name": "stderr",
     "output_type": "stream",
     "text": [
      "Epoch 247: 100%|██████████| 3/3 [00:02<00:00,  1.05it/s, loss=19.5, acc=0.694, AUC=0.75, val_acc=0.692, val_AUC=0.743]\n"
     ]
    },
    {
     "name": "stdout",
     "output_type": "stream",
     "text": [
      "tensor([ 0.1667,  0.0616,  1.0108,  0.0947, -0.0555,  0.0075,  0.3943,  0.1015,\n",
      "         0.4841,  0.2394, -0.0437], device='cuda:0', grad_fn=<DivBackward0>)\n"
     ]
    },
    {
     "name": "stderr",
     "output_type": "stream",
     "text": [
      "Epoch 248: 100%|██████████| 3/3 [00:02<00:00,  1.05it/s, loss=19.5, acc=0.688, AUC=0.749, val_acc=0.674, val_AUC=0.739]\n"
     ]
    },
    {
     "name": "stdout",
     "output_type": "stream",
     "text": [
      "tensor([ 0.1726,  0.0783,  0.9832,  0.0719, -0.0517,  0.0065,  0.3747,  0.0888,\n",
      "         0.4744,  0.2354, -0.0661], device='cuda:0', grad_fn=<DivBackward0>)\n"
     ]
    },
    {
     "name": "stderr",
     "output_type": "stream",
     "text": [
      "Epoch 249: 100%|██████████| 3/3 [00:02<00:00,  1.05it/s, loss=19.5, acc=0.691, AUC=0.75, val_acc=0.674, val_AUC=0.742]\n"
     ]
    },
    {
     "name": "stdout",
     "output_type": "stream",
     "text": [
      "tensor([ 1.7234e-01,  7.2858e-02,  9.7630e-01,  6.5145e-02, -6.5836e-02,\n",
      "        -2.5629e-04,  3.8209e-01,  9.8677e-02,  4.8799e-01,  2.3801e-01,\n",
      "        -4.3706e-02], device='cuda:0', grad_fn=<DivBackward0>)\n"
     ]
    },
    {
     "name": "stderr",
     "output_type": "stream",
     "text": [
      "Epoch 250: 100%|██████████| 3/3 [00:02<00:00,  1.05it/s, loss=19.4, acc=0.695, AUC=0.752, val_acc=0.671, val_AUC=0.744]\n"
     ]
    },
    {
     "name": "stdout",
     "output_type": "stream",
     "text": [
      "tensor([ 0.1738,  0.0735,  0.9684,  0.0758, -0.0585, -0.0085,  0.3836,  0.1041,\n",
      "         0.4814,  0.2336, -0.0556], device='cuda:0', grad_fn=<DivBackward0>)\n"
     ]
    },
    {
     "name": "stderr",
     "output_type": "stream",
     "text": [
      "Epoch 251: 100%|██████████| 3/3 [00:02<00:00,  1.03it/s, loss=19.4, acc=0.695, AUC=0.752, val_acc=0.677, val_AUC=0.742]\n"
     ]
    },
    {
     "name": "stdout",
     "output_type": "stream",
     "text": [
      "tensor([ 0.1623,  0.0696,  0.9798,  0.0733, -0.0499,  0.0044,  0.3782,  0.0974,\n",
      "         0.4715,  0.2370, -0.0578], device='cuda:0', grad_fn=<DivBackward0>)\n"
     ]
    },
    {
     "name": "stderr",
     "output_type": "stream",
     "text": [
      "Epoch 252: 100%|██████████| 3/3 [00:02<00:00,  1.05it/s, loss=19.5, acc=0.688, AUC=0.747, val_acc=0.689, val_AUC=0.742]\n"
     ]
    },
    {
     "name": "stdout",
     "output_type": "stream",
     "text": [
      "tensor([ 0.1747,  0.0626,  0.9980,  0.0776, -0.0501,  0.0046,  0.3906,  0.0980,\n",
      "         0.4791,  0.2304, -0.0489], device='cuda:0', grad_fn=<DivBackward0>)\n"
     ]
    },
    {
     "name": "stderr",
     "output_type": "stream",
     "text": [
      "Epoch 253: 100%|██████████| 3/3 [00:02<00:00,  1.05it/s, loss=19.5, acc=0.691, AUC=0.749, val_acc=0.686, val_AUC=0.745]\n"
     ]
    },
    {
     "name": "stdout",
     "output_type": "stream",
     "text": [
      "tensor([ 0.1808,  0.0677,  1.0160,  0.0862, -0.0472,  0.0142,  0.4165,  0.0911,\n",
      "         0.4960,  0.2393, -0.0391], device='cuda:0', grad_fn=<DivBackward0>)\n"
     ]
    },
    {
     "name": "stderr",
     "output_type": "stream",
     "text": [
      "Epoch 254: 100%|██████████| 3/3 [00:02<00:00,  1.05it/s, loss=19.4, acc=0.691, AUC=0.753, val_acc=0.671, val_AUC=0.744]\n"
     ]
    },
    {
     "name": "stdout",
     "output_type": "stream",
     "text": [
      "tensor([ 0.1850,  0.0607,  1.0127,  0.0845, -0.0545,  0.0021,  0.4087,  0.0981,\n",
      "         0.4978,  0.2394, -0.0545], device='cuda:0', grad_fn=<DivBackward0>)\n"
     ]
    },
    {
     "name": "stderr",
     "output_type": "stream",
     "text": [
      "Epoch 255: 100%|██████████| 3/3 [00:02<00:00,  1.05it/s, loss=19.5, acc=0.695, AUC=0.749, val_acc=0.692, val_AUC=0.747]\n"
     ]
    },
    {
     "name": "stdout",
     "output_type": "stream",
     "text": [
      "tensor([ 0.1825,  0.0552,  1.0124,  0.0879, -0.0525,  0.0042,  0.3937,  0.0867,\n",
      "         0.4891,  0.2426, -0.0515], device='cuda:0', grad_fn=<DivBackward0>)\n"
     ]
    },
    {
     "name": "stderr",
     "output_type": "stream",
     "text": [
      "Epoch 256: 100%|██████████| 3/3 [00:02<00:00,  1.03it/s, loss=19.6, acc=0.677, AUC=0.746, val_acc=0.671, val_AUC=0.743]\n"
     ]
    },
    {
     "name": "stdout",
     "output_type": "stream",
     "text": [
      "tensor([ 0.1743,  0.0594,  1.0095,  0.0849, -0.0447,  0.0017,  0.3963,  0.0901,\n",
      "         0.4909,  0.2362, -0.0484], device='cuda:0', grad_fn=<DivBackward0>)\n"
     ]
    },
    {
     "name": "stderr",
     "output_type": "stream",
     "text": [
      "Epoch 257: 100%|██████████| 3/3 [00:02<00:00,  1.05it/s, loss=19.6, acc=0.692, AUC=0.746, val_acc=0.698, val_AUC=0.746]\n"
     ]
    },
    {
     "name": "stdout",
     "output_type": "stream",
     "text": [
      "tensor([ 0.1722,  0.0676,  0.9908,  0.0741, -0.0551, -0.0017,  0.3814,  0.1001,\n",
      "         0.4882,  0.2360, -0.0484], device='cuda:0', grad_fn=<DivBackward0>)\n"
     ]
    },
    {
     "name": "stderr",
     "output_type": "stream",
     "text": [
      "Epoch 258: 100%|██████████| 3/3 [00:02<00:00,  1.05it/s, loss=19.5, acc=0.685, AUC=0.75, val_acc=0.674, val_AUC=0.744]\n"
     ]
    },
    {
     "name": "stdout",
     "output_type": "stream",
     "text": [
      "tensor([ 1.8369e-01,  6.2038e-02,  9.8968e-01,  7.2633e-02, -3.9179e-02,\n",
      "        -1.5774e-04,  3.8137e-01,  9.3446e-02,  4.7128e-01,  2.2356e-01,\n",
      "        -5.3205e-02], device='cuda:0', grad_fn=<DivBackward0>)\n"
     ]
    },
    {
     "name": "stderr",
     "output_type": "stream",
     "text": [
      "Epoch 259: 100%|██████████| 3/3 [00:02<00:00,  1.05it/s, loss=19.5, acc=0.688, AUC=0.749, val_acc=0.689, val_AUC=0.741]\n"
     ]
    },
    {
     "name": "stdout",
     "output_type": "stream",
     "text": [
      "tensor([ 0.1677,  0.0664,  0.9731,  0.0780, -0.0542,  0.0037,  0.3723,  0.0901,\n",
      "         0.4713,  0.2284, -0.0466], device='cuda:0', grad_fn=<DivBackward0>)\n"
     ]
    },
    {
     "name": "stderr",
     "output_type": "stream",
     "text": [
      "Epoch 260: 100%|██████████| 3/3 [00:02<00:00,  1.05it/s, loss=19.5, acc=0.683, AUC=0.748, val_acc=0.653, val_AUC=0.742]\n"
     ]
    },
    {
     "name": "stdout",
     "output_type": "stream",
     "text": [
      "tensor([ 0.1796,  0.0713,  0.9876,  0.0775, -0.0587, -0.0050,  0.3900,  0.0940,\n",
      "         0.4807,  0.2326, -0.0595], device='cuda:0', grad_fn=<DivBackward0>)\n"
     ]
    },
    {
     "name": "stderr",
     "output_type": "stream",
     "text": [
      "Epoch 261: 100%|██████████| 3/3 [00:02<00:00,  1.03it/s, loss=19.5, acc=0.69, AUC=0.75, val_acc=0.677, val_AUC=0.744]\n"
     ]
    },
    {
     "name": "stdout",
     "output_type": "stream",
     "text": [
      "tensor([ 0.1712,  0.0698,  0.9786,  0.0764, -0.0501, -0.0013,  0.3840,  0.0962,\n",
      "         0.4624,  0.2344, -0.0587], device='cuda:0', grad_fn=<DivBackward0>)\n"
     ]
    },
    {
     "name": "stderr",
     "output_type": "stream",
     "text": [
      "Epoch 262: 100%|██████████| 3/3 [00:02<00:00,  1.05it/s, loss=19.6, acc=0.682, AUC=0.746, val_acc=0.683, val_AUC=0.743]\n"
     ]
    },
    {
     "name": "stdout",
     "output_type": "stream",
     "text": [
      "tensor([ 0.1838,  0.0734,  1.0097,  0.0798, -0.0496, -0.0023,  0.3978,  0.0907,\n",
      "         0.4839,  0.2319, -0.0567], device='cuda:0', grad_fn=<DivBackward0>)\n"
     ]
    },
    {
     "name": "stderr",
     "output_type": "stream",
     "text": [
      "Epoch 263: 100%|██████████| 3/3 [00:02<00:00,  1.05it/s, loss=19.5, acc=0.688, AUC=0.748, val_acc=0.674, val_AUC=0.745]\n"
     ]
    },
    {
     "name": "stdout",
     "output_type": "stream",
     "text": [
      "tensor([ 0.1911,  0.0718,  1.0265,  0.0931, -0.0455,  0.0044,  0.3960,  0.0930,\n",
      "         0.5007,  0.2489, -0.0696], device='cuda:0', grad_fn=<DivBackward0>)\n"
     ]
    },
    {
     "name": "stderr",
     "output_type": "stream",
     "text": [
      "Epoch 264: 100%|██████████| 3/3 [00:02<00:00,  1.05it/s, loss=19.5, acc=0.687, AUC=0.749, val_acc=0.668, val_AUC=0.751]\n"
     ]
    },
    {
     "name": "stdout",
     "output_type": "stream",
     "text": [
      "tensor([ 1.8932e-01,  7.4280e-02,  1.0092e+00,  8.4941e-02, -4.2979e-02,\n",
      "         8.4881e-04,  4.0601e-01,  9.3761e-02,  4.8339e-01,  2.4150e-01,\n",
      "        -7.3910e-02], device='cuda:0', grad_fn=<DivBackward0>)\n"
     ]
    },
    {
     "name": "stderr",
     "output_type": "stream",
     "text": [
      "Epoch 265: 100%|██████████| 3/3 [00:02<00:00,  1.05it/s, loss=19.5, acc=0.695, AUC=0.75, val_acc=0.674, val_AUC=0.744]\n"
     ]
    },
    {
     "name": "stdout",
     "output_type": "stream",
     "text": [
      "tensor([ 0.1758,  0.0655,  1.0080,  0.0868, -0.0478,  0.0054,  0.3973,  0.0981,\n",
      "         0.4933,  0.2435, -0.0678], device='cuda:0', grad_fn=<DivBackward0>)\n"
     ]
    },
    {
     "name": "stderr",
     "output_type": "stream",
     "text": [
      "Epoch 266: 100%|██████████| 3/3 [00:02<00:00,  1.03it/s, loss=19.4, acc=0.691, AUC=0.751, val_acc=0.68, val_AUC=0.732]\n"
     ]
    },
    {
     "name": "stdout",
     "output_type": "stream",
     "text": [
      "tensor([ 0.1699,  0.0596,  1.0142,  0.0758, -0.0466,  0.0094,  0.3968,  0.0884,\n",
      "         0.4825,  0.2429, -0.0821], device='cuda:0', grad_fn=<DivBackward0>)\n"
     ]
    },
    {
     "name": "stderr",
     "output_type": "stream",
     "text": [
      "Epoch 267: 100%|██████████| 3/3 [00:02<00:00,  1.00it/s, loss=19.4, acc=0.694, AUC=0.752, val_acc=0.674, val_AUC=0.744]\n"
     ]
    },
    {
     "name": "stdout",
     "output_type": "stream",
     "text": [
      "tensor([ 1.7747e-01,  6.3649e-02,  1.0058e+00,  7.7951e-02, -4.3707e-02,\n",
      "         8.4546e-04,  3.9323e-01,  8.7972e-02,  4.7893e-01,  2.4670e-01,\n",
      "        -7.3147e-02], device='cuda:0', grad_fn=<DivBackward0>)\n"
     ]
    },
    {
     "name": "stderr",
     "output_type": "stream",
     "text": [
      "Epoch 268: 100%|██████████| 3/3 [00:02<00:00,  1.05it/s, loss=19.3, acc=0.695, AUC=0.756, val_acc=0.683, val_AUC=0.754]\n"
     ]
    },
    {
     "name": "stdout",
     "output_type": "stream",
     "text": [
      "tensor([ 0.1821,  0.0632,  1.0119,  0.0814, -0.0498,  0.0021,  0.4066,  0.0973,\n",
      "         0.4827,  0.2419, -0.0735], device='cuda:0', grad_fn=<DivBackward0>)\n"
     ]
    },
    {
     "name": "stderr",
     "output_type": "stream",
     "text": [
      "Epoch 269: 100%|██████████| 3/3 [00:02<00:00,  1.05it/s, loss=19.3, acc=0.694, AUC=0.755, val_acc=0.692, val_AUC=0.753]\n"
     ]
    },
    {
     "name": "stdout",
     "output_type": "stream",
     "text": [
      "tensor([ 1.8183e-01,  6.2107e-02,  1.0232e+00,  7.9792e-02, -5.3632e-02,\n",
      "         1.0637e-04,  4.0093e-01,  1.0027e-01,  4.8495e-01,  2.4984e-01,\n",
      "        -8.0855e-02], device='cuda:0', grad_fn=<DivBackward0>)\n"
     ]
    },
    {
     "name": "stderr",
     "output_type": "stream",
     "text": [
      "Epoch 270: 100%|██████████| 3/3 [00:02<00:00,  1.05it/s, loss=19.3, acc=0.697, AUC=0.754, val_acc=0.659, val_AUC=0.741]\n"
     ]
    },
    {
     "name": "stdout",
     "output_type": "stream",
     "text": [
      "tensor([ 0.1761,  0.0714,  1.0015,  0.0758, -0.0599,  0.0109,  0.3819,  0.1028,\n",
      "         0.4747,  0.2376, -0.0810], device='cuda:0', grad_fn=<DivBackward0>)\n"
     ]
    },
    {
     "name": "stderr",
     "output_type": "stream",
     "text": [
      "Epoch 271: 100%|██████████| 3/3 [00:02<00:00,  1.03it/s, loss=19.4, acc=0.689, AUC=0.751, val_acc=0.68, val_AUC=0.751]\n"
     ]
    },
    {
     "name": "stdout",
     "output_type": "stream",
     "text": [
      "tensor([ 0.1761,  0.0532,  0.9983,  0.0704, -0.0533,  0.0127,  0.4022,  0.0917,\n",
      "         0.4725,  0.2484, -0.0768], device='cuda:0', grad_fn=<DivBackward0>)\n"
     ]
    },
    {
     "name": "stderr",
     "output_type": "stream",
     "text": [
      "Epoch 272: 100%|██████████| 3/3 [00:02<00:00,  1.05it/s, loss=19.4, acc=0.697, AUC=0.753, val_acc=0.683, val_AUC=0.743]\n"
     ]
    },
    {
     "name": "stdout",
     "output_type": "stream",
     "text": [
      "tensor([ 0.1753,  0.0540,  1.0081,  0.0704, -0.0466,  0.0094,  0.3948,  0.1028,\n",
      "         0.4736,  0.2468, -0.0696], device='cuda:0', grad_fn=<DivBackward0>)\n"
     ]
    },
    {
     "name": "stderr",
     "output_type": "stream",
     "text": [
      "Epoch 273: 100%|██████████| 3/3 [00:02<00:00,  1.05it/s, loss=19.5, acc=0.687, AUC=0.748, val_acc=0.683, val_AUC=0.739]\n"
     ]
    },
    {
     "name": "stdout",
     "output_type": "stream",
     "text": [
      "tensor([ 0.1891,  0.0607,  1.0251,  0.0849, -0.0540,  0.0133,  0.4074,  0.0942,\n",
      "         0.4821,  0.2508, -0.0674], device='cuda:0', grad_fn=<DivBackward0>)\n"
     ]
    },
    {
     "name": "stderr",
     "output_type": "stream",
     "text": [
      "Epoch 274: 100%|██████████| 3/3 [00:02<00:00,  1.04it/s, loss=19.4, acc=0.694, AUC=0.753, val_acc=0.677, val_AUC=0.738]\n"
     ]
    },
    {
     "name": "stdout",
     "output_type": "stream",
     "text": [
      "tensor([ 0.1819,  0.0711,  1.0243,  0.0845, -0.0463,  0.0109,  0.3992,  0.0954,\n",
      "         0.4789,  0.2569, -0.0611], device='cuda:0', grad_fn=<DivBackward0>)\n"
     ]
    },
    {
     "name": "stderr",
     "output_type": "stream",
     "text": [
      "Epoch 275: 100%|██████████| 3/3 [00:02<00:00,  1.05it/s, loss=19.5, acc=0.689, AUC=0.747, val_acc=0.689, val_AUC=0.747]\n"
     ]
    },
    {
     "name": "stdout",
     "output_type": "stream",
     "text": [
      "tensor([ 0.1889,  0.0642,  1.0364,  0.0809, -0.0557,  0.0072,  0.4060,  0.0930,\n",
      "         0.4958,  0.2539, -0.0755], device='cuda:0', grad_fn=<DivBackward0>)\n"
     ]
    },
    {
     "name": "stderr",
     "output_type": "stream",
     "text": [
      "Epoch 276: 100%|██████████| 3/3 [00:02<00:00,  1.02it/s, loss=19.4, acc=0.691, AUC=0.751, val_acc=0.674, val_AUC=0.738]\n"
     ]
    },
    {
     "name": "stdout",
     "output_type": "stream",
     "text": [
      "tensor([ 0.1935,  0.0640,  1.0263,  0.0832, -0.0575,  0.0073,  0.3991,  0.0969,\n",
      "         0.4876,  0.2597, -0.0627], device='cuda:0', grad_fn=<DivBackward0>)\n"
     ]
    },
    {
     "name": "stderr",
     "output_type": "stream",
     "text": [
      "Epoch 277: 100%|██████████| 3/3 [00:02<00:00,  1.05it/s, loss=19.4, acc=0.698, AUC=0.753, val_acc=0.689, val_AUC=0.75]\n"
     ]
    },
    {
     "name": "stdout",
     "output_type": "stream",
     "text": [
      "tensor([ 0.1856,  0.0700,  1.0016,  0.0707, -0.0568,  0.0013,  0.3826,  0.1050,\n",
      "         0.4699,  0.2418, -0.0790], device='cuda:0', grad_fn=<DivBackward0>)\n"
     ]
    },
    {
     "name": "stderr",
     "output_type": "stream",
     "text": [
      "Epoch 278: 100%|██████████| 3/3 [00:02<00:00,  1.05it/s, loss=19.3, acc=0.695, AUC=0.754, val_acc=0.677, val_AUC=0.745]\n"
     ]
    },
    {
     "name": "stdout",
     "output_type": "stream",
     "text": [
      "tensor([ 1.7951e-01,  7.2110e-02,  9.8371e-01,  6.2359e-02, -6.4980e-02,\n",
      "         6.7747e-04,  3.8034e-01,  9.5870e-02,  4.6567e-01,  2.3439e-01,\n",
      "        -6.4678e-02], device='cuda:0', grad_fn=<DivBackward0>)\n"
     ]
    },
    {
     "name": "stderr",
     "output_type": "stream",
     "text": [
      "Epoch 279: 100%|██████████| 3/3 [00:02<00:00,  1.04it/s, loss=19.4, acc=0.691, AUC=0.753, val_acc=0.674, val_AUC=0.738]\n"
     ]
    },
    {
     "name": "stdout",
     "output_type": "stream",
     "text": [
      "tensor([ 0.1694,  0.0640,  0.9881,  0.0631, -0.0631,  0.0049,  0.3865,  0.0946,\n",
      "         0.4701,  0.2353, -0.0860], device='cuda:0', grad_fn=<DivBackward0>)\n"
     ]
    },
    {
     "name": "stderr",
     "output_type": "stream",
     "text": [
      "Epoch 280: 100%|██████████| 3/3 [00:02<00:00,  1.05it/s, loss=19.4, acc=0.691, AUC=0.752, val_acc=0.695, val_AUC=0.748]\n"
     ]
    },
    {
     "name": "stdout",
     "output_type": "stream",
     "text": [
      "tensor([ 0.1722,  0.0734,  0.9840,  0.0732, -0.0524, -0.0012,  0.3820,  0.0890,\n",
      "         0.4572,  0.2331, -0.0783], device='cuda:0', grad_fn=<DivBackward0>)\n"
     ]
    },
    {
     "name": "stderr",
     "output_type": "stream",
     "text": [
      "Epoch 281: 100%|██████████| 3/3 [00:02<00:00,  1.03it/s, loss=19.4, acc=0.696, AUC=0.751, val_acc=0.665, val_AUC=0.73]\n"
     ]
    },
    {
     "name": "stdout",
     "output_type": "stream",
     "text": [
      "tensor([ 1.7630e-01,  7.5131e-02,  9.8442e-01,  7.4617e-02, -5.3139e-02,\n",
      "         7.3149e-04,  3.7501e-01,  9.2358e-02,  4.6024e-01,  2.3642e-01,\n",
      "        -7.7350e-02], device='cuda:0', grad_fn=<DivBackward0>)\n"
     ]
    },
    {
     "name": "stderr",
     "output_type": "stream",
     "text": [
      "Epoch 282: 100%|██████████| 3/3 [00:02<00:00,  1.05it/s, loss=19.4, acc=0.691, AUC=0.752, val_acc=0.65, val_AUC=0.74]\n"
     ]
    },
    {
     "name": "stdout",
     "output_type": "stream",
     "text": [
      "tensor([ 0.1674,  0.0755,  0.9860,  0.0670, -0.0531, -0.0053,  0.3865,  0.0943,\n",
      "         0.4637,  0.2287, -0.0832], device='cuda:0', grad_fn=<DivBackward0>)\n"
     ]
    },
    {
     "name": "stderr",
     "output_type": "stream",
     "text": [
      "Epoch 283: 100%|██████████| 3/3 [00:02<00:00,  1.05it/s, loss=19.4, acc=0.695, AUC=0.752, val_acc=0.695, val_AUC=0.743]\n"
     ]
    },
    {
     "name": "stdout",
     "output_type": "stream",
     "text": [
      "tensor([ 0.1596,  0.0763,  0.9704,  0.0676, -0.0548,  0.0053,  0.3798,  0.0908,\n",
      "         0.4584,  0.2232, -0.0845], device='cuda:0', grad_fn=<DivBackward0>)\n"
     ]
    },
    {
     "name": "stderr",
     "output_type": "stream",
     "text": [
      "Epoch 284: 100%|██████████| 3/3 [00:02<00:00,  1.05it/s, loss=19.4, acc=0.697, AUC=0.752, val_acc=0.686, val_AUC=0.744]\n"
     ]
    },
    {
     "name": "stdout",
     "output_type": "stream",
     "text": [
      "tensor([ 0.1699,  0.0734,  1.0006,  0.0748, -0.0546,  0.0119,  0.3995,  0.0972,\n",
      "         0.4703,  0.2376, -0.0824], device='cuda:0', grad_fn=<DivBackward0>)\n"
     ]
    },
    {
     "name": "stderr",
     "output_type": "stream",
     "text": [
      "Epoch 285: 100%|██████████| 3/3 [00:02<00:00,  1.04it/s, loss=19.3, acc=0.697, AUC=0.755, val_acc=0.665, val_AUC=0.732]\n"
     ]
    },
    {
     "name": "stdout",
     "output_type": "stream",
     "text": [
      "tensor([ 0.1768,  0.0603,  1.0311,  0.0849, -0.0568,  0.0152,  0.4101,  0.0922,\n",
      "         0.4885,  0.2508, -0.0683], device='cuda:0', grad_fn=<DivBackward0>)\n"
     ]
    },
    {
     "name": "stderr",
     "output_type": "stream",
     "text": [
      "Epoch 286: 100%|██████████| 3/3 [00:02<00:00,  1.03it/s, loss=19.4, acc=0.699, AUC=0.752, val_acc=0.668, val_AUC=0.741]\n"
     ]
    },
    {
     "name": "stdout",
     "output_type": "stream",
     "text": [
      "tensor([ 0.1686,  0.0586,  1.0254,  0.0746, -0.0595,  0.0108,  0.4039,  0.0913,\n",
      "         0.4793,  0.2440, -0.0696], device='cuda:0', grad_fn=<DivBackward0>)\n"
     ]
    },
    {
     "name": "stderr",
     "output_type": "stream",
     "text": [
      "Epoch 287: 100%|██████████| 3/3 [00:02<00:00,  1.04it/s, loss=19.4, acc=0.695, AUC=0.751, val_acc=0.683, val_AUC=0.744]\n"
     ]
    },
    {
     "name": "stdout",
     "output_type": "stream",
     "text": [
      "tensor([ 0.1678,  0.0749,  1.0167,  0.0801, -0.0469,  0.0016,  0.4047,  0.0958,\n",
      "         0.4757,  0.2485, -0.0689], device='cuda:0', grad_fn=<DivBackward0>)\n"
     ]
    },
    {
     "name": "stderr",
     "output_type": "stream",
     "text": [
      "Epoch 288: 100%|██████████| 3/3 [00:02<00:00,  1.05it/s, loss=19.4, acc=0.698, AUC=0.754, val_acc=0.68, val_AUC=0.747]\n"
     ]
    },
    {
     "name": "stdout",
     "output_type": "stream",
     "text": [
      "tensor([ 0.1651,  0.0726,  1.0116,  0.0674, -0.0461,  0.0054,  0.3937,  0.0850,\n",
      "         0.4716,  0.2389, -0.0753], device='cuda:0', grad_fn=<DivBackward0>)\n"
     ]
    },
    {
     "name": "stderr",
     "output_type": "stream",
     "text": [
      "Epoch 289: 100%|██████████| 3/3 [00:02<00:00,  1.05it/s, loss=19.5, acc=0.692, AUC=0.749, val_acc=0.689, val_AUC=0.741]\n"
     ]
    },
    {
     "name": "stdout",
     "output_type": "stream",
     "text": [
      "tensor([ 0.1707,  0.0722,  1.0253,  0.0712, -0.0446,  0.0103,  0.4025,  0.0895,\n",
      "         0.4784,  0.2473, -0.0769], device='cuda:0', grad_fn=<DivBackward0>)\n"
     ]
    },
    {
     "name": "stderr",
     "output_type": "stream",
     "text": [
      "Epoch 290: 100%|██████████| 3/3 [00:02<00:00,  1.04it/s, loss=19.4, acc=0.69, AUC=0.752, val_acc=0.668, val_AUC=0.742]\n"
     ]
    },
    {
     "name": "stdout",
     "output_type": "stream",
     "text": [
      "tensor([ 0.1742,  0.0751,  1.0310,  0.0726, -0.0548,  0.0084,  0.4069,  0.0921,\n",
      "         0.4800,  0.2548, -0.0601], device='cuda:0', grad_fn=<DivBackward0>)\n"
     ]
    },
    {
     "name": "stderr",
     "output_type": "stream",
     "text": [
      "Epoch 291: 100%|██████████| 3/3 [00:02<00:00,  1.02it/s, loss=19.4, acc=0.695, AUC=0.753, val_acc=0.68, val_AUC=0.74]\n"
     ]
    },
    {
     "name": "stdout",
     "output_type": "stream",
     "text": [
      "tensor([ 0.1775,  0.0714,  1.0300,  0.0606, -0.0473,  0.0104,  0.4101,  0.0853,\n",
      "         0.4830,  0.2511, -0.0648], device='cuda:0', grad_fn=<DivBackward0>)\n"
     ]
    },
    {
     "name": "stderr",
     "output_type": "stream",
     "text": [
      "Epoch 292: 100%|██████████| 3/3 [00:02<00:00,  1.04it/s, loss=19.5, acc=0.689, AUC=0.748, val_acc=0.674, val_AUC=0.738]\n"
     ]
    },
    {
     "name": "stdout",
     "output_type": "stream",
     "text": [
      "tensor([ 0.1595,  0.0696,  1.0110,  0.0548, -0.0550,  0.0062,  0.3962,  0.0825,\n",
      "         0.4640,  0.2423, -0.0737], device='cuda:0', grad_fn=<DivBackward0>)\n"
     ]
    },
    {
     "name": "stderr",
     "output_type": "stream",
     "text": [
      "Epoch 293: 100%|██████████| 3/3 [00:02<00:00,  1.05it/s, loss=19.4, acc=0.697, AUC=0.752, val_acc=0.677, val_AUC=0.747]\n"
     ]
    },
    {
     "name": "stdout",
     "output_type": "stream",
     "text": [
      "tensor([ 0.1516,  0.0741,  0.9844,  0.0548, -0.0481,  0.0154,  0.3888,  0.0835,\n",
      "         0.4508,  0.2439, -0.0769], device='cuda:0', grad_fn=<DivBackward0>)\n"
     ]
    },
    {
     "name": "stderr",
     "output_type": "stream",
     "text": [
      "Epoch 294: 100%|██████████| 3/3 [00:02<00:00,  1.05it/s, loss=19.5, acc=0.692, AUC=0.751, val_acc=0.647, val_AUC=0.741]\n"
     ]
    },
    {
     "name": "stdout",
     "output_type": "stream",
     "text": [
      "tensor([ 0.1613,  0.0722,  0.9815,  0.0586, -0.0532,  0.0118,  0.3840,  0.0924,\n",
      "         0.4500,  0.2369, -0.0589], device='cuda:0', grad_fn=<DivBackward0>)\n"
     ]
    },
    {
     "name": "stderr",
     "output_type": "stream",
     "text": [
      "Epoch 295: 100%|██████████| 3/3 [00:02<00:00,  1.05it/s, loss=19.4, acc=0.692, AUC=0.753, val_acc=0.698, val_AUC=0.741]\n"
     ]
    },
    {
     "name": "stdout",
     "output_type": "stream",
     "text": [
      "tensor([ 0.1657,  0.0734,  0.9888,  0.0566, -0.0485,  0.0064,  0.3862,  0.0846,\n",
      "         0.4553,  0.2437, -0.0794], device='cuda:0', grad_fn=<DivBackward0>)\n"
     ]
    },
    {
     "name": "stderr",
     "output_type": "stream",
     "text": [
      "Epoch 296: 100%|██████████| 3/3 [00:02<00:00,  1.03it/s, loss=19.5, acc=0.688, AUC=0.75, val_acc=0.668, val_AUC=0.74]\n"
     ]
    },
    {
     "name": "stdout",
     "output_type": "stream",
     "text": [
      "tensor([ 0.1789,  0.0758,  1.0193,  0.0676, -0.0557,  0.0202,  0.4071,  0.0933,\n",
      "         0.4628,  0.2670, -0.0762], device='cuda:0', grad_fn=<DivBackward0>)\n"
     ]
    },
    {
     "name": "stderr",
     "output_type": "stream",
     "text": [
      "Epoch 297: 100%|██████████| 3/3 [00:02<00:00,  1.05it/s, loss=19.4, acc=0.698, AUC=0.75, val_acc=0.686, val_AUC=0.742]\n"
     ]
    },
    {
     "name": "stdout",
     "output_type": "stream",
     "text": [
      "tensor([ 0.1637,  0.0754,  1.0222,  0.0521, -0.0546,  0.0192,  0.4013,  0.0856,\n",
      "         0.4740,  0.2569, -0.0700], device='cuda:0', grad_fn=<DivBackward0>)\n"
     ]
    },
    {
     "name": "stderr",
     "output_type": "stream",
     "text": [
      "Epoch 298: 100%|██████████| 3/3 [00:02<00:00,  1.04it/s, loss=19.5, acc=0.691, AUC=0.748, val_acc=0.674, val_AUC=0.734]\n"
     ]
    },
    {
     "name": "stdout",
     "output_type": "stream",
     "text": [
      "tensor([ 0.1760,  0.0725,  1.0514,  0.0777, -0.0569,  0.0230,  0.4273,  0.0982,\n",
      "         0.4946,  0.2657, -0.0640], device='cuda:0', grad_fn=<DivBackward0>)\n"
     ]
    },
    {
     "name": "stderr",
     "output_type": "stream",
     "text": [
      "Epoch 299: 100%|██████████| 3/3 [00:02<00:00,  1.04it/s, loss=19.4, acc=0.692, AUC=0.751, val_acc=0.695, val_AUC=0.744]\n"
     ]
    },
    {
     "name": "stdout",
     "output_type": "stream",
     "text": [
      "tensor([ 0.1873,  0.0761,  1.0534,  0.0789, -0.0583,  0.0186,  0.4158,  0.0975,\n",
      "         0.4886,  0.2647, -0.0790], device='cuda:0', grad_fn=<DivBackward0>)\n"
     ]
    },
    {
     "name": "stderr",
     "output_type": "stream",
     "text": [
      "Epoch 300: 100%|██████████| 3/3 [00:02<00:00,  1.05it/s, loss=19.4, acc=0.694, AUC=0.752, val_acc=0.683, val_AUC=0.741]\n"
     ]
    },
    {
     "name": "stdout",
     "output_type": "stream",
     "text": [
      "tensor([ 0.1748,  0.0794,  1.0306,  0.0650, -0.0525,  0.0211,  0.4166,  0.0907,\n",
      "         0.4878,  0.2617, -0.0846], device='cuda:0', grad_fn=<DivBackward0>)\n"
     ]
    },
    {
     "name": "stderr",
     "output_type": "stream",
     "text": [
      "Epoch 301: 100%|██████████| 3/3 [00:02<00:00,  1.03it/s, loss=19.3, acc=0.699, AUC=0.754, val_acc=0.683, val_AUC=0.736]\n"
     ]
    },
    {
     "name": "stdout",
     "output_type": "stream",
     "text": [
      "tensor([ 0.1717,  0.0895,  1.0252,  0.0624, -0.0600,  0.0157,  0.3990,  0.0903,\n",
      "         0.4800,  0.2515, -0.0895], device='cuda:0', grad_fn=<DivBackward0>)\n"
     ]
    },
    {
     "name": "stderr",
     "output_type": "stream",
     "text": [
      "Epoch 302: 100%|██████████| 3/3 [00:02<00:00,  1.05it/s, loss=19.4, acc=0.7, AUC=0.753, val_acc=0.698, val_AUC=0.743]\n"
     ]
    },
    {
     "name": "stdout",
     "output_type": "stream",
     "text": [
      "tensor([ 0.1627,  0.0863,  1.0146,  0.0653, -0.0541,  0.0097,  0.3960,  0.0948,\n",
      "         0.4839,  0.2579, -0.0878], device='cuda:0', grad_fn=<DivBackward0>)\n"
     ]
    },
    {
     "name": "stderr",
     "output_type": "stream",
     "text": [
      "Epoch 303: 100%|██████████| 3/3 [00:02<00:00,  1.04it/s, loss=19.4, acc=0.691, AUC=0.753, val_acc=0.683, val_AUC=0.738]\n"
     ]
    },
    {
     "name": "stdout",
     "output_type": "stream",
     "text": [
      "tensor([ 0.1650,  0.0878,  1.0177,  0.0667, -0.0629,  0.0131,  0.3935,  0.0974,\n",
      "         0.4775,  0.2585, -0.0882], device='cuda:0', grad_fn=<DivBackward0>)\n"
     ]
    },
    {
     "name": "stderr",
     "output_type": "stream",
     "text": [
      "Epoch 304: 100%|██████████| 3/3 [00:02<00:00,  1.05it/s, loss=19.3, acc=0.698, AUC=0.755, val_acc=0.677, val_AUC=0.736]\n"
     ]
    },
    {
     "name": "stdout",
     "output_type": "stream",
     "text": [
      "tensor([ 0.1765,  0.0877,  1.0195,  0.0627, -0.0659,  0.0040,  0.3986,  0.0980,\n",
      "         0.4800,  0.2560, -0.0890], device='cuda:0', grad_fn=<DivBackward0>)\n"
     ]
    },
    {
     "name": "stderr",
     "output_type": "stream",
     "text": [
      "Epoch 305: 100%|██████████| 3/3 [00:02<00:00,  1.04it/s, loss=19.4, acc=0.695, AUC=0.754, val_acc=0.689, val_AUC=0.748]\n"
     ]
    },
    {
     "name": "stdout",
     "output_type": "stream",
     "text": [
      "tensor([ 0.1845,  0.0894,  1.0390,  0.0701, -0.0498,  0.0104,  0.3982,  0.0898,\n",
      "         0.4888,  0.2537, -0.0838], device='cuda:0', grad_fn=<DivBackward0>)\n"
     ]
    },
    {
     "name": "stderr",
     "output_type": "stream",
     "text": [
      "Epoch 306: 100%|██████████| 3/3 [00:02<00:00,  1.03it/s, loss=19.3, acc=0.694, AUC=0.756, val_acc=0.686, val_AUC=0.734]\n"
     ]
    },
    {
     "name": "stdout",
     "output_type": "stream",
     "text": [
      "tensor([ 0.1772,  0.0798,  1.0296,  0.0720, -0.0549,  0.0080,  0.3972,  0.0993,\n",
      "         0.4769,  0.2559, -0.1039], device='cuda:0', grad_fn=<DivBackward0>)\n"
     ]
    },
    {
     "name": "stderr",
     "output_type": "stream",
     "text": [
      "Epoch 307: 100%|██████████| 3/3 [00:02<00:00,  1.05it/s, loss=19.4, acc=0.695, AUC=0.752, val_acc=0.677, val_AUC=0.741]\n"
     ]
    },
    {
     "name": "stdout",
     "output_type": "stream",
     "text": [
      "tensor([ 0.1767,  0.0904,  1.0221,  0.0702, -0.0561,  0.0022,  0.3903,  0.0916,\n",
      "         0.4857,  0.2521, -0.0894], device='cuda:0', grad_fn=<DivBackward0>)\n"
     ]
    },
    {
     "name": "stderr",
     "output_type": "stream",
     "text": [
      "Epoch 308: 100%|██████████| 3/3 [00:02<00:00,  1.05it/s, loss=19.4, acc=0.698, AUC=0.752, val_acc=0.68, val_AUC=0.739]\n"
     ]
    },
    {
     "name": "stdout",
     "output_type": "stream",
     "text": [
      "tensor([ 0.1686,  0.1117,  0.9959,  0.0647, -0.0540,  0.0056,  0.3709,  0.0943,\n",
      "         0.4727,  0.2526, -0.1098], device='cuda:0', grad_fn=<DivBackward0>)\n"
     ]
    },
    {
     "name": "stderr",
     "output_type": "stream",
     "text": [
      "Epoch 309: 100%|██████████| 3/3 [00:02<00:00,  1.05it/s, loss=19.3, acc=0.693, AUC=0.755, val_acc=0.668, val_AUC=0.747]\n"
     ]
    },
    {
     "name": "stdout",
     "output_type": "stream",
     "text": [
      "tensor([ 0.1654,  0.1042,  1.0026,  0.0782, -0.0552, -0.0022,  0.3781,  0.0936,\n",
      "         0.4800,  0.2438, -0.0999], device='cuda:0', grad_fn=<DivBackward0>)\n"
     ]
    },
    {
     "name": "stderr",
     "output_type": "stream",
     "text": [
      "Epoch 310: 100%|██████████| 3/3 [00:02<00:00,  1.04it/s, loss=19.3, acc=0.693, AUC=0.755, val_acc=0.695, val_AUC=0.745]\n"
     ]
    },
    {
     "name": "stdout",
     "output_type": "stream",
     "text": [
      "tensor([ 0.1680,  0.0984,  1.0140,  0.0716, -0.0626,  0.0077,  0.3862,  0.1015,\n",
      "         0.4840,  0.2435, -0.0966], device='cuda:0', grad_fn=<DivBackward0>)\n"
     ]
    },
    {
     "name": "stderr",
     "output_type": "stream",
     "text": [
      "Epoch 311: 100%|██████████| 3/3 [00:02<00:00,  1.03it/s, loss=19.4, acc=0.688, AUC=0.752, val_acc=0.665, val_AUC=0.738]\n"
     ]
    },
    {
     "name": "stdout",
     "output_type": "stream",
     "text": [
      "tensor([ 0.1637,  0.0983,  1.0305,  0.0828, -0.0574,  0.0035,  0.3910,  0.1043,\n",
      "         0.4891,  0.2488, -0.0795], device='cuda:0', grad_fn=<DivBackward0>)\n"
     ]
    },
    {
     "name": "stderr",
     "output_type": "stream",
     "text": [
      "Epoch 312: 100%|██████████| 3/3 [00:02<00:00,  1.05it/s, loss=19.4, acc=0.702, AUC=0.753, val_acc=0.695, val_AUC=0.744]\n"
     ]
    },
    {
     "name": "stdout",
     "output_type": "stream",
     "text": [
      "tensor([ 0.1702,  0.0925,  1.0254,  0.0758, -0.0642,  0.0089,  0.3876,  0.1048,\n",
      "         0.4829,  0.2526, -0.0878], device='cuda:0', grad_fn=<DivBackward0>)\n"
     ]
    },
    {
     "name": "stderr",
     "output_type": "stream",
     "text": [
      "Epoch 313: 100%|██████████| 3/3 [00:02<00:00,  1.05it/s, loss=19.3, acc=0.694, AUC=0.755, val_acc=0.668, val_AUC=0.741]\n"
     ]
    },
    {
     "name": "stdout",
     "output_type": "stream",
     "text": [
      "tensor([ 0.1625,  0.0961,  1.0075,  0.0767, -0.0650, -0.0015,  0.3794,  0.1030,\n",
      "         0.4740,  0.2439, -0.0980], device='cuda:0', grad_fn=<DivBackward0>)\n"
     ]
    },
    {
     "name": "stderr",
     "output_type": "stream",
     "text": [
      "Epoch 314: 100%|██████████| 3/3 [00:02<00:00,  1.05it/s, loss=19.4, acc=0.7, AUC=0.753, val_acc=0.689, val_AUC=0.74]\n"
     ]
    },
    {
     "name": "stdout",
     "output_type": "stream",
     "text": [
      "tensor([ 0.1638,  0.0984,  0.9906,  0.0701, -0.0627, -0.0013,  0.3764,  0.0962,\n",
      "         0.4653,  0.2429, -0.1025], device='cuda:0', grad_fn=<DivBackward0>)\n"
     ]
    },
    {
     "name": "stderr",
     "output_type": "stream",
     "text": [
      "Epoch 315: 100%|██████████| 3/3 [00:02<00:00,  1.05it/s, loss=19.4, acc=0.689, AUC=0.752, val_acc=0.656, val_AUC=0.747]\n"
     ]
    },
    {
     "name": "stdout",
     "output_type": "stream",
     "text": [
      "tensor([ 0.1685,  0.1024,  1.0044,  0.0693, -0.0583, -0.0011,  0.3674,  0.0991,\n",
      "         0.4657,  0.2402, -0.0992], device='cuda:0', grad_fn=<DivBackward0>)\n"
     ]
    },
    {
     "name": "stderr",
     "output_type": "stream",
     "text": [
      "Epoch 316: 100%|██████████| 3/3 [00:02<00:00,  1.02it/s, loss=19.5, acc=0.695, AUC=0.75, val_acc=0.683, val_AUC=0.745]\n"
     ]
    },
    {
     "name": "stdout",
     "output_type": "stream",
     "text": [
      "tensor([ 0.1802,  0.0866,  1.0248,  0.0859, -0.0620,  0.0111,  0.3985,  0.1005,\n",
      "         0.4872,  0.2516, -0.0924], device='cuda:0', grad_fn=<DivBackward0>)\n"
     ]
    },
    {
     "name": "stderr",
     "output_type": "stream",
     "text": [
      "Epoch 317: 100%|██████████| 3/3 [00:02<00:00,  1.04it/s, loss=19.4, acc=0.684, AUC=0.751, val_acc=0.683, val_AUC=0.742]\n"
     ]
    },
    {
     "name": "stdout",
     "output_type": "stream",
     "text": [
      "tensor([ 0.1942,  0.0764,  1.0450,  0.0912, -0.0599,  0.0047,  0.4071,  0.1047,\n",
      "         0.4984,  0.2606, -0.0861], device='cuda:0', grad_fn=<DivBackward0>)\n"
     ]
    },
    {
     "name": "stderr",
     "output_type": "stream",
     "text": [
      "Epoch 318: 100%|██████████| 3/3 [00:02<00:00,  1.04it/s, loss=19.4, acc=0.69, AUC=0.751, val_acc=0.698, val_AUC=0.746]\n"
     ]
    },
    {
     "name": "stdout",
     "output_type": "stream",
     "text": [
      "tensor([ 0.1944,  0.0785,  1.0297,  0.0822, -0.0581, -0.0063,  0.4056,  0.1096,\n",
      "         0.4954,  0.2590, -0.0977], device='cuda:0', grad_fn=<DivBackward0>)\n"
     ]
    },
    {
     "name": "stderr",
     "output_type": "stream",
     "text": [
      "Epoch 319: 100%|██████████| 3/3 [00:02<00:00,  1.04it/s, loss=19.3, acc=0.697, AUC=0.755, val_acc=0.686, val_AUC=0.741]\n"
     ]
    },
    {
     "name": "stdout",
     "output_type": "stream",
     "text": [
      "tensor([ 1.9141e-01,  7.3604e-02,  1.0233e+00,  7.3281e-02, -6.7336e-02,\n",
      "         2.6507e-04,  3.9647e-01,  1.0794e-01,  4.8613e-01,  2.6192e-01,\n",
      "        -9.2886e-02], device='cuda:0', grad_fn=<DivBackward0>)\n"
     ]
    },
    {
     "name": "stderr",
     "output_type": "stream",
     "text": [
      "Epoch 320: 100%|██████████| 3/3 [00:02<00:00,  1.03it/s, loss=19.4, acc=0.698, AUC=0.752, val_acc=0.68, val_AUC=0.743]\n"
     ]
    },
    {
     "name": "stdout",
     "output_type": "stream",
     "text": [
      "tensor([ 0.2002,  0.0795,  1.0671,  0.0838, -0.0689, -0.0038,  0.4001,  0.1041,\n",
      "         0.5016,  0.2597, -0.0929], device='cuda:0', grad_fn=<DivBackward0>)\n"
     ]
    },
    {
     "name": "stderr",
     "output_type": "stream",
     "text": [
      "Epoch 321: 100%|██████████| 3/3 [00:02<00:00,  1.05it/s, loss=19.3, acc=0.696, AUC=0.754, val_acc=0.653, val_AUC=0.744]\n"
     ]
    },
    {
     "name": "stdout",
     "output_type": "stream",
     "text": [
      "tensor([ 0.1945,  0.0869,  1.0814,  0.0856, -0.0649,  0.0032,  0.4211,  0.0907,\n",
      "         0.4931,  0.2680, -0.0806], device='cuda:0', grad_fn=<DivBackward0>)\n"
     ]
    },
    {
     "name": "stderr",
     "output_type": "stream",
     "text": [
      "Epoch 322: 100%|██████████| 3/3 [00:02<00:00,  1.05it/s, loss=19.5, acc=0.697, AUC=0.75, val_acc=0.674, val_AUC=0.744]\n"
     ]
    },
    {
     "name": "stdout",
     "output_type": "stream",
     "text": [
      "tensor([ 0.1957,  0.0721,  1.0364,  0.0802, -0.0648, -0.0058,  0.4078,  0.0842,\n",
      "         0.4893,  0.2516, -0.0890], device='cuda:0', grad_fn=<DivBackward0>)\n"
     ]
    },
    {
     "name": "stderr",
     "output_type": "stream",
     "text": [
      "Epoch 323: 100%|██████████| 3/3 [00:02<00:00,  1.04it/s, loss=19.3, acc=0.69, AUC=0.755, val_acc=0.674, val_AUC=0.746]\n"
     ]
    },
    {
     "name": "stdout",
     "output_type": "stream",
     "text": [
      "tensor([ 0.1948,  0.0783,  1.0510,  0.0832, -0.0609, -0.0043,  0.4148,  0.0991,\n",
      "         0.4944,  0.2620, -0.0935], device='cuda:0', grad_fn=<DivBackward0>)\n"
     ]
    },
    {
     "name": "stderr",
     "output_type": "stream",
     "text": [
      "Epoch 324: 100%|██████████| 3/3 [00:02<00:00,  1.05it/s, loss=19.2, acc=0.702, AUC=0.756, val_acc=0.683, val_AUC=0.748]\n"
     ]
    },
    {
     "name": "stdout",
     "output_type": "stream",
     "text": [
      "tensor([ 0.1946,  0.0664,  1.0599,  0.0835, -0.0706,  0.0060,  0.4198,  0.0967,\n",
      "         0.5015,  0.2799, -0.0833], device='cuda:0', grad_fn=<DivBackward0>)\n"
     ]
    },
    {
     "name": "stderr",
     "output_type": "stream",
     "text": [
      "Epoch 325: 100%|██████████| 3/3 [00:02<00:00,  1.03it/s, loss=19.4, acc=0.696, AUC=0.751, val_acc=0.668, val_AUC=0.746]\n"
     ]
    },
    {
     "name": "stdout",
     "output_type": "stream",
     "text": [
      "tensor([ 0.1904,  0.0608,  1.0607,  0.0906, -0.0782, -0.0044,  0.4161,  0.1051,\n",
      "         0.4954,  0.2645, -0.0915], device='cuda:0', grad_fn=<DivBackward0>)\n"
     ]
    },
    {
     "name": "stderr",
     "output_type": "stream",
     "text": [
      "Epoch 326: 100%|██████████| 3/3 [00:02<00:00,  1.04it/s, loss=19.3, acc=0.698, AUC=0.754, val_acc=0.686, val_AUC=0.734]\n"
     ]
    },
    {
     "name": "stdout",
     "output_type": "stream",
     "text": [
      "tensor([ 0.1812,  0.0740,  1.0594,  0.0918, -0.0658,  0.0059,  0.4184,  0.1113,\n",
      "         0.5063,  0.2603, -0.0845], device='cuda:0', grad_fn=<DivBackward0>)\n"
     ]
    },
    {
     "name": "stderr",
     "output_type": "stream",
     "text": [
      "Epoch 327: 100%|██████████| 3/3 [00:02<00:00,  1.04it/s, loss=19.3, acc=0.696, AUC=0.756, val_acc=0.686, val_AUC=0.746]\n"
     ]
    },
    {
     "name": "stdout",
     "output_type": "stream",
     "text": [
      "tensor([ 0.1954,  0.0700,  1.0644,  0.0872, -0.0654, -0.0011,  0.4217,  0.1095,\n",
      "         0.5094,  0.2650, -0.0809], device='cuda:0', grad_fn=<DivBackward0>)\n"
     ]
    },
    {
     "name": "stderr",
     "output_type": "stream",
     "text": [
      "Epoch 328: 100%|██████████| 3/3 [00:02<00:00,  1.05it/s, loss=19.3, acc=0.696, AUC=0.754, val_acc=0.68, val_AUC=0.744]\n"
     ]
    },
    {
     "name": "stdout",
     "output_type": "stream",
     "text": [
      "tensor([ 0.1866,  0.0781,  1.0528,  0.0849, -0.0612, -0.0032,  0.4035,  0.1077,\n",
      "         0.5110,  0.2562, -0.1014], device='cuda:0', grad_fn=<DivBackward0>)\n"
     ]
    },
    {
     "name": "stderr",
     "output_type": "stream",
     "text": [
      "Epoch 329: 100%|██████████| 3/3 [00:02<00:00,  1.04it/s, loss=19.4, acc=0.696, AUC=0.751, val_acc=0.698, val_AUC=0.748]\n"
     ]
    },
    {
     "name": "stdout",
     "output_type": "stream",
     "text": [
      "tensor([ 0.1972,  0.0740,  1.0293,  0.0854, -0.0692, -0.0105,  0.4003,  0.1030,\n",
      "         0.5017,  0.2572, -0.0902], device='cuda:0', grad_fn=<DivBackward0>)\n"
     ]
    },
    {
     "name": "stderr",
     "output_type": "stream",
     "text": [
      "Epoch 330: 100%|██████████| 3/3 [00:02<00:00,  1.03it/s, loss=19.4, acc=0.694, AUC=0.754, val_acc=0.683, val_AUC=0.737]\n"
     ]
    },
    {
     "name": "stdout",
     "output_type": "stream",
     "text": [
      "tensor([ 0.2032,  0.0720,  1.0697,  0.0920, -0.0732, -0.0022,  0.4168,  0.1122,\n",
      "         0.5100,  0.2673, -0.0806], device='cuda:0', grad_fn=<DivBackward0>)\n"
     ]
    },
    {
     "name": "stderr",
     "output_type": "stream",
     "text": [
      "Epoch 331: 100%|██████████| 3/3 [00:02<00:00,  1.04it/s, loss=19.3, acc=0.7, AUC=0.757, val_acc=0.68, val_AUC=0.742]\n"
     ]
    },
    {
     "name": "stdout",
     "output_type": "stream",
     "text": [
      "tensor([ 0.2001,  0.0628,  1.0839,  0.1043, -0.0753, -0.0102,  0.4262,  0.1099,\n",
      "         0.5227,  0.2752, -0.0888], device='cuda:0', grad_fn=<DivBackward0>)\n"
     ]
    },
    {
     "name": "stderr",
     "output_type": "stream",
     "text": [
      "Epoch 332: 100%|██████████| 3/3 [00:02<00:00,  1.04it/s, loss=19.3, acc=0.695, AUC=0.752, val_acc=0.698, val_AUC=0.739]\n"
     ]
    },
    {
     "name": "stdout",
     "output_type": "stream",
     "text": [
      "tensor([ 0.2174,  0.0646,  1.0829,  0.0994, -0.0724, -0.0048,  0.4254,  0.1127,\n",
      "         0.5138,  0.2775, -0.0806], device='cuda:0', grad_fn=<DivBackward0>)\n"
     ]
    },
    {
     "name": "stderr",
     "output_type": "stream",
     "text": [
      "Epoch 333: 100%|██████████| 3/3 [00:02<00:00,  1.05it/s, loss=19.4, acc=0.695, AUC=0.752, val_acc=0.674, val_AUC=0.745]\n"
     ]
    },
    {
     "name": "stdout",
     "output_type": "stream",
     "text": [
      "tensor([ 0.2053,  0.0739,  1.0444,  0.0878, -0.0679,  0.0078,  0.3990,  0.1138,\n",
      "         0.4996,  0.2653, -0.0902], device='cuda:0', grad_fn=<DivBackward0>)\n"
     ]
    },
    {
     "name": "stderr",
     "output_type": "stream",
     "text": [
      "Epoch 334: 100%|██████████| 3/3 [00:02<00:00,  1.04it/s, loss=19.3, acc=0.689, AUC=0.753, val_acc=0.683, val_AUC=0.736]\n"
     ]
    },
    {
     "name": "stdout",
     "output_type": "stream",
     "text": [
      "tensor([ 0.1950,  0.0834,  1.0283,  0.0832, -0.0710,  0.0037,  0.3837,  0.1084,\n",
      "         0.4934,  0.2647, -0.0801], device='cuda:0', grad_fn=<DivBackward0>)\n"
     ]
    },
    {
     "name": "stderr",
     "output_type": "stream",
     "text": [
      "Epoch 335: 100%|██████████| 3/3 [00:02<00:00,  1.03it/s, loss=19.3, acc=0.689, AUC=0.755, val_acc=0.686, val_AUC=0.743]\n"
     ]
    },
    {
     "name": "stdout",
     "output_type": "stream",
     "text": [
      "tensor([ 1.8124e-01,  8.6021e-02,  9.8779e-01,  6.4676e-02, -7.6230e-02,\n",
      "         1.9533e-05,  3.6556e-01,  1.0574e-01,  4.7244e-01,  2.5135e-01,\n",
      "        -7.8339e-02], device='cuda:0', grad_fn=<DivBackward0>)\n"
     ]
    },
    {
     "name": "stderr",
     "output_type": "stream",
     "text": [
      "Epoch 336: 100%|██████████| 3/3 [00:02<00:00,  1.04it/s, loss=19.4, acc=0.692, AUC=0.753, val_acc=0.689, val_AUC=0.74]\n"
     ]
    },
    {
     "name": "stdout",
     "output_type": "stream",
     "text": [
      "tensor([ 0.1854,  0.0820,  1.0004,  0.0682, -0.0707,  0.0060,  0.3709,  0.1032,\n",
      "         0.4724,  0.2511, -0.0897], device='cuda:0', grad_fn=<DivBackward0>)\n"
     ]
    },
    {
     "name": "stderr",
     "output_type": "stream",
     "text": [
      "Epoch 337: 100%|██████████| 3/3 [00:02<00:00,  1.05it/s, loss=19.4, acc=0.689, AUC=0.752, val_acc=0.686, val_AUC=0.747]\n"
     ]
    },
    {
     "name": "stdout",
     "output_type": "stream",
     "text": [
      "tensor([ 0.2047,  0.0765,  1.0095,  0.0696, -0.0692,  0.0099,  0.3859,  0.1034,\n",
      "         0.4734,  0.2543, -0.0800], device='cuda:0', grad_fn=<DivBackward0>)\n"
     ]
    },
    {
     "name": "stderr",
     "output_type": "stream",
     "text": [
      "Epoch 338: 100%|██████████| 3/3 [00:02<00:00,  1.04it/s, loss=19.3, acc=0.694, AUC=0.754, val_acc=0.68, val_AUC=0.746]\n"
     ]
    },
    {
     "name": "stdout",
     "output_type": "stream",
     "text": [
      "tensor([ 0.2070,  0.0773,  1.0230,  0.0756, -0.0647,  0.0097,  0.3870,  0.0989,\n",
      "         0.4786,  0.2579, -0.0871], device='cuda:0', grad_fn=<DivBackward0>)\n"
     ]
    },
    {
     "name": "stderr",
     "output_type": "stream",
     "text": [
      "Epoch 339: 100%|██████████| 3/3 [00:02<00:00,  1.04it/s, loss=19.4, acc=0.694, AUC=0.753, val_acc=0.683, val_AUC=0.75]\n"
     ]
    },
    {
     "name": "stdout",
     "output_type": "stream",
     "text": [
      "tensor([ 0.1974,  0.0713,  1.0570,  0.0804, -0.0567,  0.0175,  0.4104,  0.0975,\n",
      "         0.4912,  0.2713, -0.0788], device='cuda:0', grad_fn=<DivBackward0>)\n"
     ]
    },
    {
     "name": "stderr",
     "output_type": "stream",
     "text": [
      "Epoch 340: 100%|██████████| 3/3 [00:02<00:00,  1.02it/s, loss=19.4, acc=0.699, AUC=0.753, val_acc=0.683, val_AUC=0.748]\n"
     ]
    },
    {
     "name": "stdout",
     "output_type": "stream",
     "text": [
      "tensor([ 0.2093,  0.0702,  1.0726,  0.0830, -0.0661,  0.0200,  0.4222,  0.0972,\n",
      "         0.5011,  0.2715, -0.0843], device='cuda:0', grad_fn=<DivBackward0>)\n"
     ]
    },
    {
     "name": "stderr",
     "output_type": "stream",
     "text": [
      "Epoch 341: 100%|██████████| 3/3 [00:02<00:00,  1.05it/s, loss=19.4, acc=0.693, AUC=0.753, val_acc=0.68, val_AUC=0.747]\n"
     ]
    },
    {
     "name": "stdout",
     "output_type": "stream",
     "text": [
      "tensor([ 0.2069,  0.0723,  1.0760,  0.0845, -0.0585,  0.0080,  0.4315,  0.0937,\n",
      "         0.5048,  0.2781, -0.0713], device='cuda:0', grad_fn=<DivBackward0>)\n"
     ]
    },
    {
     "name": "stderr",
     "output_type": "stream",
     "text": [
      "Epoch 342: 100%|██████████| 3/3 [00:02<00:00,  1.04it/s, loss=19.4, acc=0.689, AUC=0.752, val_acc=0.683, val_AUC=0.741]\n"
     ]
    },
    {
     "name": "stdout",
     "output_type": "stream",
     "text": [
      "tensor([ 0.2174,  0.0679,  1.0912,  0.0818, -0.0516,  0.0127,  0.4255,  0.1014,\n",
      "         0.5148,  0.2791, -0.0776], device='cuda:0', grad_fn=<DivBackward0>)\n"
     ]
    },
    {
     "name": "stderr",
     "output_type": "stream",
     "text": [
      "Epoch 343: 100%|██████████| 3/3 [00:02<00:00,  1.05it/s, loss=19.3, acc=0.691, AUC=0.754, val_acc=0.683, val_AUC=0.749]\n"
     ]
    },
    {
     "name": "stdout",
     "output_type": "stream",
     "text": [
      "tensor([ 0.2001,  0.0766,  1.0772,  0.0740, -0.0696,  0.0137,  0.4196,  0.1059,\n",
      "         0.5151,  0.2703, -0.0825], device='cuda:0', grad_fn=<DivBackward0>)\n"
     ]
    },
    {
     "name": "stderr",
     "output_type": "stream",
     "text": [
      "Epoch 344: 100%|██████████| 3/3 [00:02<00:00,  1.04it/s, loss=19.3, acc=0.697, AUC=0.756, val_acc=0.686, val_AUC=0.743]\n"
     ]
    },
    {
     "name": "stdout",
     "output_type": "stream",
     "text": [
      "tensor([ 0.1979,  0.0785,  1.0413,  0.0795, -0.0557,  0.0148,  0.4078,  0.0922,\n",
      "         0.5022,  0.2740, -0.0850], device='cuda:0', grad_fn=<DivBackward0>)\n"
     ]
    },
    {
     "name": "stderr",
     "output_type": "stream",
     "text": [
      "Epoch 345: 100%|██████████| 3/3 [00:02<00:00,  1.03it/s, loss=19.3, acc=0.698, AUC=0.755, val_acc=0.68, val_AUC=0.746]\n"
     ]
    },
    {
     "name": "stdout",
     "output_type": "stream",
     "text": [
      "tensor([ 0.1833,  0.0839,  1.0118,  0.0598, -0.0669,  0.0133,  0.3837,  0.1032,\n",
      "         0.4787,  0.2575, -0.0828], device='cuda:0', grad_fn=<DivBackward0>)\n"
     ]
    },
    {
     "name": "stderr",
     "output_type": "stream",
     "text": [
      "Epoch 346: 100%|██████████| 3/3 [00:02<00:00,  1.05it/s, loss=19.3, acc=0.699, AUC=0.754, val_acc=0.674, val_AUC=0.752]\n"
     ]
    },
    {
     "name": "stdout",
     "output_type": "stream",
     "text": [
      "tensor([ 0.1837,  0.0802,  1.0106,  0.0671, -0.0630,  0.0177,  0.3845,  0.1024,\n",
      "         0.4898,  0.2660, -0.0906], device='cuda:0', grad_fn=<DivBackward0>)\n"
     ]
    },
    {
     "name": "stderr",
     "output_type": "stream",
     "text": [
      "Epoch 347: 100%|██████████| 3/3 [00:02<00:00,  1.04it/s, loss=19.4, acc=0.695, AUC=0.752, val_acc=0.671, val_AUC=0.747]\n"
     ]
    },
    {
     "name": "stdout",
     "output_type": "stream",
     "text": [
      "tensor([ 0.1924,  0.0688,  1.0261,  0.0792, -0.0689,  0.0054,  0.3987,  0.0985,\n",
      "         0.5009,  0.2764, -0.0980], device='cuda:0', grad_fn=<DivBackward0>)\n"
     ]
    },
    {
     "name": "stderr",
     "output_type": "stream",
     "text": [
      "Epoch 348: 100%|██████████| 3/3 [00:02<00:00,  1.05it/s, loss=19.3, acc=0.697, AUC=0.755, val_acc=0.689, val_AUC=0.749]\n"
     ]
    },
    {
     "name": "stdout",
     "output_type": "stream",
     "text": [
      "tensor([ 0.1901,  0.0721,  1.0628,  0.0794, -0.0687,  0.0037,  0.4129,  0.1083,\n",
      "         0.5112,  0.2742, -0.0920], device='cuda:0', grad_fn=<DivBackward0>)\n"
     ]
    },
    {
     "name": "stderr",
     "output_type": "stream",
     "text": [
      "Epoch 349: 100%|██████████| 3/3 [00:02<00:00,  1.04it/s, loss=19.4, acc=0.695, AUC=0.755, val_acc=0.683, val_AUC=0.743]\n"
     ]
    },
    {
     "name": "stdout",
     "output_type": "stream",
     "text": [
      "tensor([ 0.2022,  0.0712,  1.0618,  0.0808, -0.0653,  0.0084,  0.4108,  0.1125,\n",
      "         0.5062,  0.2786, -0.0802], device='cuda:0', grad_fn=<DivBackward0>)\n"
     ]
    },
    {
     "name": "stderr",
     "output_type": "stream",
     "text": [
      "Epoch 350: 100%|██████████| 3/3 [00:02<00:00,  1.03it/s, loss=19.4, acc=0.697, AUC=0.753, val_acc=0.707, val_AUC=0.741]\n"
     ]
    },
    {
     "name": "stdout",
     "output_type": "stream",
     "text": [
      "tensor([ 0.1933,  0.0751,  1.0774,  0.0953, -0.0619,  0.0046,  0.4265,  0.1188,\n",
      "         0.5155,  0.2720, -0.0811], device='cuda:0', grad_fn=<DivBackward0>)\n"
     ]
    },
    {
     "name": "stderr",
     "output_type": "stream",
     "text": [
      "Epoch 351: 100%|██████████| 3/3 [00:02<00:00,  1.05it/s, loss=19.4, acc=0.696, AUC=0.754, val_acc=0.65, val_AUC=0.742]\n"
     ]
    },
    {
     "name": "stdout",
     "output_type": "stream",
     "text": [
      "tensor([ 0.2053,  0.0796,  1.0743,  0.0999, -0.0694,  0.0043,  0.4188,  0.1154,\n",
      "         0.5171,  0.2779, -0.0731], device='cuda:0', grad_fn=<DivBackward0>)\n"
     ]
    },
    {
     "name": "stderr",
     "output_type": "stream",
     "text": [
      "Epoch 352: 100%|██████████| 3/3 [00:02<00:00,  1.05it/s, loss=19.3, acc=0.695, AUC=0.757, val_acc=0.677, val_AUC=0.738]\n"
     ]
    },
    {
     "name": "stdout",
     "output_type": "stream",
     "text": [
      "tensor([ 0.1986,  0.0734,  1.0661,  0.0931, -0.0639,  0.0024,  0.4065,  0.1118,\n",
      "         0.5028,  0.2786, -0.0829], device='cuda:0', grad_fn=<DivBackward0>)\n"
     ]
    },
    {
     "name": "stderr",
     "output_type": "stream",
     "text": [
      "Epoch 353: 100%|██████████| 3/3 [00:02<00:00,  1.04it/s, loss=19.4, acc=0.692, AUC=0.752, val_acc=0.68, val_AUC=0.738]\n"
     ]
    },
    {
     "name": "stdout",
     "output_type": "stream",
     "text": [
      "tensor([ 0.1979,  0.0652,  1.0613,  0.0897, -0.0653,  0.0099,  0.4043,  0.1242,\n",
      "         0.5117,  0.2664, -0.0731], device='cuda:0', grad_fn=<DivBackward0>)\n"
     ]
    },
    {
     "name": "stderr",
     "output_type": "stream",
     "text": [
      "Epoch 354: 100%|██████████| 3/3 [00:02<00:00,  1.05it/s, loss=19.4, acc=0.696, AUC=0.752, val_acc=0.674, val_AUC=0.737]\n"
     ]
    },
    {
     "name": "stdout",
     "output_type": "stream",
     "text": [
      "tensor([ 0.1982,  0.0744,  1.0556,  0.0852, -0.0709,  0.0143,  0.4118,  0.1198,\n",
      "         0.5140,  0.2690, -0.0871], device='cuda:0', grad_fn=<DivBackward0>)\n"
     ]
    },
    {
     "name": "stderr",
     "output_type": "stream",
     "text": [
      "Epoch 355: 100%|██████████| 3/3 [00:02<00:00,  1.03it/s, loss=19.3, acc=0.689, AUC=0.755, val_acc=0.668, val_AUC=0.743]\n"
     ]
    },
    {
     "name": "stdout",
     "output_type": "stream",
     "text": [
      "tensor([ 0.1968,  0.0762,  1.0540,  0.0834, -0.0641,  0.0073,  0.4060,  0.1156,\n",
      "         0.5010,  0.2736, -0.0877], device='cuda:0', grad_fn=<DivBackward0>)\n"
     ]
    },
    {
     "name": "stderr",
     "output_type": "stream",
     "text": [
      "Epoch 356: 100%|██████████| 3/3 [00:02<00:00,  1.05it/s, loss=19.4, acc=0.697, AUC=0.754, val_acc=0.689, val_AUC=0.742]\n"
     ]
    },
    {
     "name": "stdout",
     "output_type": "stream",
     "text": [
      "tensor([ 0.1882,  0.0767,  1.0296,  0.0748, -0.0693,  0.0144,  0.3822,  0.1174,\n",
      "         0.4937,  0.2602, -0.0736], device='cuda:0', grad_fn=<DivBackward0>)\n"
     ]
    },
    {
     "name": "stderr",
     "output_type": "stream",
     "text": [
      "Epoch 357: 100%|██████████| 3/3 [00:02<00:00,  1.05it/s, loss=19.4, acc=0.697, AUC=0.754, val_acc=0.686, val_AUC=0.743]\n"
     ]
    },
    {
     "name": "stdout",
     "output_type": "stream",
     "text": [
      "tensor([ 0.1781,  0.0836,  1.0265,  0.0675, -0.0627,  0.0060,  0.3880,  0.1153,\n",
      "         0.5059,  0.2649, -0.0818], device='cuda:0', grad_fn=<DivBackward0>)\n"
     ]
    },
    {
     "name": "stderr",
     "output_type": "stream",
     "text": [
      "Epoch 358: 100%|██████████| 3/3 [00:02<00:00,  1.04it/s, loss=19.3, acc=0.694, AUC=0.757, val_acc=0.689, val_AUC=0.741]\n"
     ]
    },
    {
     "name": "stdout",
     "output_type": "stream",
     "text": [
      "tensor([ 0.1877,  0.0803,  1.0369,  0.0812, -0.0726,  0.0130,  0.3950,  0.1223,\n",
      "         0.4988,  0.2682, -0.0885], device='cuda:0', grad_fn=<DivBackward0>)\n"
     ]
    },
    {
     "name": "stderr",
     "output_type": "stream",
     "text": [
      "Epoch 359: 100%|██████████| 3/3 [00:02<00:00,  1.04it/s, loss=19.4, acc=0.694, AUC=0.754, val_acc=0.659, val_AUC=0.732]\n"
     ]
    },
    {
     "name": "stdout",
     "output_type": "stream",
     "text": [
      "tensor([ 0.1824,  0.0659,  1.0496,  0.0900, -0.0611,  0.0172,  0.4091,  0.1306,\n",
      "         0.5166,  0.2780, -0.0857], device='cuda:0', grad_fn=<DivBackward0>)\n"
     ]
    },
    {
     "name": "stderr",
     "output_type": "stream",
     "text": [
      "Epoch 360: 100%|██████████| 3/3 [00:02<00:00,  1.03it/s, loss=19.4, acc=0.693, AUC=0.751, val_acc=0.689, val_AUC=0.735]\n"
     ]
    },
    {
     "name": "stdout",
     "output_type": "stream",
     "text": [
      "tensor([ 0.2043,  0.0639,  1.0806,  0.0857, -0.0722,  0.0180,  0.4226,  0.1296,\n",
      "         0.5263,  0.2739, -0.0859], device='cuda:0', grad_fn=<DivBackward0>)\n"
     ]
    },
    {
     "name": "stderr",
     "output_type": "stream",
     "text": [
      "Epoch 361: 100%|██████████| 3/3 [00:02<00:00,  1.05it/s, loss=19.4, acc=0.694, AUC=0.753, val_acc=0.668, val_AUC=0.743]\n"
     ]
    },
    {
     "name": "stdout",
     "output_type": "stream",
     "text": [
      "tensor([ 0.1934,  0.0734,  1.0715,  0.0915, -0.0723,  0.0140,  0.4268,  0.1207,\n",
      "         0.5186,  0.2764, -0.0781], device='cuda:0', grad_fn=<DivBackward0>)\n"
     ]
    },
    {
     "name": "stderr",
     "output_type": "stream",
     "text": [
      "Epoch 362: 100%|██████████| 3/3 [00:02<00:00,  1.05it/s, loss=19.4, acc=0.697, AUC=0.753, val_acc=0.671, val_AUC=0.74]\n"
     ]
    },
    {
     "name": "stdout",
     "output_type": "stream",
     "text": [
      "tensor([ 0.2017,  0.0722,  1.0891,  0.0988, -0.0772,  0.0143,  0.4230,  0.1275,\n",
      "         0.5271,  0.2695, -0.0684], device='cuda:0', grad_fn=<DivBackward0>)\n"
     ]
    },
    {
     "name": "stderr",
     "output_type": "stream",
     "text": [
      "Epoch 363: 100%|██████████| 3/3 [00:02<00:00,  1.04it/s, loss=19.3, acc=0.693, AUC=0.755, val_acc=0.665, val_AUC=0.74]\n"
     ]
    },
    {
     "name": "stdout",
     "output_type": "stream",
     "text": [
      "tensor([ 1.9903e-01,  7.9027e-02,  1.0771e+00,  9.6141e-02, -7.1735e-02,\n",
      "         9.4742e-04,  4.2018e-01,  1.2170e-01,  5.2309e-01,  2.6864e-01,\n",
      "        -7.5633e-02], device='cuda:0', grad_fn=<DivBackward0>)\n"
     ]
    },
    {
     "name": "stderr",
     "output_type": "stream",
     "text": [
      "Epoch 364: 100%|██████████| 3/3 [00:02<00:00,  1.04it/s, loss=19.4, acc=0.692, AUC=0.751, val_acc=0.68, val_AUC=0.738]\n"
     ]
    },
    {
     "name": "stdout",
     "output_type": "stream",
     "text": [
      "tensor([ 0.2063,  0.0803,  1.0763,  0.0911, -0.0647,  0.0043,  0.4203,  0.1155,\n",
      "         0.5143,  0.2761, -0.0685], device='cuda:0', grad_fn=<DivBackward0>)\n"
     ]
    },
    {
     "name": "stderr",
     "output_type": "stream",
     "text": [
      "Epoch 365: 100%|██████████| 3/3 [00:02<00:00,  1.03it/s, loss=19.3, acc=0.691, AUC=0.754, val_acc=0.686, val_AUC=0.739]\n"
     ]
    },
    {
     "name": "stdout",
     "output_type": "stream",
     "text": [
      "tensor([ 0.1994,  0.0712,  1.0822,  0.0950, -0.0653,  0.0061,  0.4174,  0.1192,\n",
      "         0.5163,  0.2729, -0.0769], device='cuda:0', grad_fn=<DivBackward0>)\n"
     ]
    },
    {
     "name": "stderr",
     "output_type": "stream",
     "text": [
      "Epoch 366: 100%|██████████| 3/3 [00:02<00:00,  1.04it/s, loss=19.3, acc=0.706, AUC=0.754, val_acc=0.674, val_AUC=0.747]\n"
     ]
    },
    {
     "name": "stdout",
     "output_type": "stream",
     "text": [
      "tensor([ 0.2033,  0.0752,  1.0639,  0.0937, -0.0716,  0.0022,  0.4096,  0.1151,\n",
      "         0.5105,  0.2682, -0.0800], device='cuda:0', grad_fn=<DivBackward0>)\n"
     ]
    },
    {
     "name": "stderr",
     "output_type": "stream",
     "text": [
      "Epoch 367: 100%|██████████| 3/3 [00:02<00:00,  1.05it/s, loss=19.3, acc=0.694, AUC=0.755, val_acc=0.683, val_AUC=0.74]\n"
     ]
    },
    {
     "name": "stdout",
     "output_type": "stream",
     "text": [
      "tensor([ 0.2028,  0.0750,  1.0580,  0.0841, -0.0690,  0.0011,  0.4108,  0.1103,\n",
      "         0.5125,  0.2666, -0.0781], device='cuda:0', grad_fn=<DivBackward0>)\n"
     ]
    },
    {
     "name": "stderr",
     "output_type": "stream",
     "text": [
      "Epoch 368: 100%|██████████| 3/3 [00:02<00:00,  1.05it/s, loss=19.3, acc=0.704, AUC=0.757, val_acc=0.689, val_AUC=0.745]\n"
     ]
    },
    {
     "name": "stdout",
     "output_type": "stream",
     "text": [
      "tensor([ 0.2096,  0.0733,  1.0486,  0.0797, -0.0740,  0.0047,  0.4031,  0.1136,\n",
      "         0.5078,  0.2674, -0.0770], device='cuda:0', grad_fn=<DivBackward0>)\n"
     ]
    },
    {
     "name": "stderr",
     "output_type": "stream",
     "text": [
      "Epoch 369: 100%|██████████| 3/3 [00:02<00:00,  1.05it/s, loss=19.3, acc=0.701, AUC=0.757, val_acc=0.671, val_AUC=0.739]\n"
     ]
    },
    {
     "name": "stdout",
     "output_type": "stream",
     "text": [
      "tensor([ 0.2077,  0.0761,  1.0435,  0.0712, -0.0708,  0.0087,  0.4140,  0.1110,\n",
      "         0.5075,  0.2732, -0.0797], device='cuda:0', grad_fn=<DivBackward0>)\n"
     ]
    },
    {
     "name": "stderr",
     "output_type": "stream",
     "text": [
      "Epoch 370: 100%|██████████| 3/3 [00:02<00:00,  1.03it/s, loss=19.3, acc=0.698, AUC=0.753, val_acc=0.68, val_AUC=0.739]\n"
     ]
    },
    {
     "name": "stdout",
     "output_type": "stream",
     "text": [
      "tensor([ 0.2062,  0.0830,  1.0410,  0.0746, -0.0759, -0.0057,  0.3996,  0.1041,\n",
      "         0.4943,  0.2713, -0.0789], device='cuda:0', grad_fn=<DivBackward0>)\n"
     ]
    },
    {
     "name": "stderr",
     "output_type": "stream",
     "text": [
      "Epoch 371: 100%|██████████| 3/3 [00:02<00:00,  1.05it/s, loss=19.3, acc=0.693, AUC=0.755, val_acc=0.683, val_AUC=0.749]\n"
     ]
    },
    {
     "name": "stdout",
     "output_type": "stream",
     "text": [
      "tensor([ 1.9549e-01,  6.9326e-02,  1.0312e+00,  7.2944e-02, -7.2225e-02,\n",
      "         6.7877e-04,  4.0288e-01,  1.1080e-01,  4.8912e-01,  2.6796e-01,\n",
      "        -8.8752e-02], device='cuda:0', grad_fn=<DivBackward0>)\n"
     ]
    },
    {
     "name": "stderr",
     "output_type": "stream",
     "text": [
      "Epoch 372: 100%|██████████| 3/3 [00:02<00:00,  1.05it/s, loss=19.3, acc=0.693, AUC=0.754, val_acc=0.677, val_AUC=0.73]\n"
     ]
    },
    {
     "name": "stdout",
     "output_type": "stream",
     "text": [
      "tensor([ 0.1928,  0.0708,  1.0184,  0.0740, -0.0740,  0.0061,  0.3943,  0.1166,\n",
      "         0.4895,  0.2621, -0.0809], device='cuda:0', grad_fn=<DivBackward0>)\n"
     ]
    },
    {
     "name": "stderr",
     "output_type": "stream",
     "text": [
      "Epoch 373: 100%|██████████| 3/3 [00:02<00:00,  1.05it/s, loss=19.4, acc=0.694, AUC=0.752, val_acc=0.692, val_AUC=0.744]\n"
     ]
    },
    {
     "name": "stdout",
     "output_type": "stream",
     "text": [
      "tensor([ 0.1948,  0.0730,  1.0159,  0.0761, -0.0782, -0.0016,  0.3911,  0.1148,\n",
      "         0.4878,  0.2565, -0.0848], device='cuda:0', grad_fn=<DivBackward0>)\n"
     ]
    },
    {
     "name": "stderr",
     "output_type": "stream",
     "text": [
      "Epoch 374: 100%|██████████| 3/3 [00:02<00:00,  1.05it/s, loss=19.4, acc=0.696, AUC=0.754, val_acc=0.692, val_AUC=0.742]\n"
     ]
    },
    {
     "name": "stdout",
     "output_type": "stream",
     "text": [
      "tensor([ 0.2026,  0.0774,  1.0342,  0.0731, -0.0705,  0.0062,  0.3990,  0.1076,\n",
      "         0.4942,  0.2573, -0.0821], device='cuda:0', grad_fn=<DivBackward0>)\n"
     ]
    },
    {
     "name": "stderr",
     "output_type": "stream",
     "text": [
      "Epoch 375: 100%|██████████| 3/3 [00:02<00:00,  1.03it/s, loss=19.2, acc=0.7, AUC=0.759, val_acc=0.695, val_AUC=0.743]\n"
     ]
    },
    {
     "name": "stdout",
     "output_type": "stream",
     "text": [
      "tensor([ 0.2028,  0.0851,  1.0232,  0.0655, -0.0659,  0.0043,  0.3945,  0.1121,\n",
      "         0.4922,  0.2630, -0.0902], device='cuda:0', grad_fn=<DivBackward0>)\n"
     ]
    },
    {
     "name": "stderr",
     "output_type": "stream",
     "text": [
      "Epoch 376: 100%|██████████| 3/3 [00:02<00:00,  1.05it/s, loss=19.3, acc=0.696, AUC=0.758, val_acc=0.683, val_AUC=0.735]\n"
     ]
    },
    {
     "name": "stdout",
     "output_type": "stream",
     "text": [
      "tensor([ 0.1999,  0.0894,  1.0059,  0.0624, -0.0689, -0.0022,  0.3791,  0.1055,\n",
      "         0.4834,  0.2562, -0.0906], device='cuda:0', grad_fn=<DivBackward0>)\n"
     ]
    },
    {
     "name": "stderr",
     "output_type": "stream",
     "text": [
      "Epoch 377: 100%|██████████| 3/3 [00:02<00:00,  1.05it/s, loss=19.2, acc=0.701, AUC=0.757, val_acc=0.677, val_AUC=0.736]\n"
     ]
    },
    {
     "name": "stdout",
     "output_type": "stream",
     "text": [
      "tensor([ 0.1926,  0.0916,  1.0221,  0.0723, -0.0646,  0.0061,  0.3846,  0.1083,\n",
      "         0.4874,  0.2613, -0.0962], device='cuda:0', grad_fn=<DivBackward0>)\n"
     ]
    },
    {
     "name": "stderr",
     "output_type": "stream",
     "text": [
      "Epoch 378: 100%|██████████| 3/3 [00:02<00:00,  1.05it/s, loss=19.3, acc=0.695, AUC=0.755, val_acc=0.692, val_AUC=0.744]\n"
     ]
    },
    {
     "name": "stdout",
     "output_type": "stream",
     "text": [
      "tensor([ 0.1888,  0.0940,  1.0053,  0.0724, -0.0555,  0.0081,  0.3886,  0.1096,\n",
      "         0.4815,  0.2569, -0.0903], device='cuda:0', grad_fn=<DivBackward0>)\n"
     ]
    },
    {
     "name": "stderr",
     "output_type": "stream",
     "text": [
      "Epoch 379: 100%|██████████| 3/3 [00:02<00:00,  1.05it/s, loss=19.2, acc=0.698, AUC=0.759, val_acc=0.686, val_AUC=0.745]\n"
     ]
    },
    {
     "name": "stdout",
     "output_type": "stream",
     "text": [
      "tensor([ 0.1847,  0.0974,  0.9903,  0.0638, -0.0638,  0.0048,  0.3648,  0.1049,\n",
      "         0.4693,  0.2486, -0.0819], device='cuda:0', grad_fn=<DivBackward0>)\n"
     ]
    },
    {
     "name": "stderr",
     "output_type": "stream",
     "text": [
      "Epoch 380: 100%|██████████| 3/3 [00:02<00:00,  1.03it/s, loss=19.3, acc=0.694, AUC=0.754, val_acc=0.683, val_AUC=0.742]\n"
     ]
    },
    {
     "name": "stdout",
     "output_type": "stream",
     "text": [
      "tensor([ 0.1800,  0.0932,  0.9941,  0.0650, -0.0648,  0.0028,  0.3718,  0.1024,\n",
      "         0.4760,  0.2497, -0.0849], device='cuda:0', grad_fn=<DivBackward0>)\n"
     ]
    },
    {
     "name": "stderr",
     "output_type": "stream",
     "text": [
      "Epoch 381: 100%|██████████| 3/3 [00:02<00:00,  1.05it/s, loss=19.3, acc=0.696, AUC=0.757, val_acc=0.683, val_AUC=0.731]\n"
     ]
    },
    {
     "name": "stdout",
     "output_type": "stream",
     "text": [
      "tensor([ 0.1949,  0.0949,  1.0307,  0.0691, -0.0732,  0.0044,  0.3878,  0.0996,\n",
      "         0.4833,  0.2642, -0.0799], device='cuda:0', grad_fn=<DivBackward0>)\n"
     ]
    },
    {
     "name": "stderr",
     "output_type": "stream",
     "text": [
      "Epoch 382: 100%|██████████| 3/3 [00:02<00:00,  1.05it/s, loss=19.3, acc=0.696, AUC=0.755, val_acc=0.671, val_AUC=0.736]\n"
     ]
    },
    {
     "name": "stdout",
     "output_type": "stream",
     "text": [
      "tensor([ 0.1951,  0.1022,  1.0110,  0.0678, -0.0609,  0.0059,  0.3703,  0.1021,\n",
      "         0.4688,  0.2421, -0.0837], device='cuda:0', grad_fn=<DivBackward0>)\n"
     ]
    },
    {
     "name": "stderr",
     "output_type": "stream",
     "text": [
      "Epoch 383: 100%|██████████| 3/3 [00:02<00:00,  1.05it/s, loss=19.3, acc=0.695, AUC=0.755, val_acc=0.683, val_AUC=0.736]\n"
     ]
    },
    {
     "name": "stdout",
     "output_type": "stream",
     "text": [
      "tensor([ 0.1908,  0.1023,  1.0073,  0.0666, -0.0622,  0.0028,  0.3652,  0.1071,\n",
      "         0.4761,  0.2493, -0.0817], device='cuda:0', grad_fn=<DivBackward0>)\n"
     ]
    },
    {
     "name": "stderr",
     "output_type": "stream",
     "text": [
      "Epoch 384: 100%|██████████| 3/3 [00:02<00:00,  1.05it/s, loss=19.3, acc=0.696, AUC=0.757, val_acc=0.677, val_AUC=0.748]\n"
     ]
    },
    {
     "name": "stdout",
     "output_type": "stream",
     "text": [
      "tensor([ 0.2032,  0.0943,  1.0244,  0.0775, -0.0613,  0.0091,  0.3834,  0.1060,\n",
      "         0.4788,  0.2509, -0.0876], device='cuda:0', grad_fn=<DivBackward0>)\n"
     ]
    },
    {
     "name": "stderr",
     "output_type": "stream",
     "text": [
      "Epoch 385: 100%|██████████| 3/3 [00:02<00:00,  1.03it/s, loss=19.2, acc=0.697, AUC=0.758, val_acc=0.686, val_AUC=0.739]\n"
     ]
    },
    {
     "name": "stdout",
     "output_type": "stream",
     "text": [
      "tensor([ 0.1945,  0.0886,  1.0037,  0.0734, -0.0584,  0.0147,  0.3718,  0.0995,\n",
      "         0.4759,  0.2560, -0.0983], device='cuda:0', grad_fn=<DivBackward0>)\n"
     ]
    },
    {
     "name": "stderr",
     "output_type": "stream",
     "text": [
      "Epoch 386: 100%|██████████| 3/3 [00:02<00:00,  1.05it/s, loss=19.4, acc=0.695, AUC=0.754, val_acc=0.692, val_AUC=0.741]\n"
     ]
    },
    {
     "name": "stdout",
     "output_type": "stream",
     "text": [
      "tensor([ 0.1922,  0.0900,  1.0001,  0.0757, -0.0670,  0.0015,  0.3677,  0.0983,\n",
      "         0.4789,  0.2543, -0.0985], device='cuda:0', grad_fn=<DivBackward0>)\n"
     ]
    },
    {
     "name": "stderr",
     "output_type": "stream",
     "text": [
      "Epoch 387: 100%|██████████| 3/3 [00:02<00:00,  1.05it/s, loss=19.4, acc=0.698, AUC=0.751, val_acc=0.68, val_AUC=0.747]\n"
     ]
    },
    {
     "name": "stdout",
     "output_type": "stream",
     "text": [
      "tensor([ 0.1876,  0.0853,  0.9939,  0.0683, -0.0686,  0.0056,  0.3700,  0.1087,\n",
      "         0.4662,  0.2419, -0.0976], device='cuda:0', grad_fn=<DivBackward0>)\n"
     ]
    },
    {
     "name": "stderr",
     "output_type": "stream",
     "text": [
      "Epoch 388: 100%|██████████| 3/3 [00:02<00:00,  1.05it/s, loss=19.3, acc=0.694, AUC=0.756, val_acc=0.683, val_AUC=0.732]\n"
     ]
    },
    {
     "name": "stdout",
     "output_type": "stream",
     "text": [
      "tensor([ 0.1933,  0.0892,  0.9984,  0.0711, -0.0645,  0.0028,  0.3650,  0.1042,\n",
      "         0.4725,  0.2539, -0.0949], device='cuda:0', grad_fn=<DivBackward0>)\n"
     ]
    },
    {
     "name": "stderr",
     "output_type": "stream",
     "text": [
      "Epoch 389: 100%|██████████| 3/3 [00:02<00:00,  1.05it/s, loss=19.2, acc=0.7, AUC=0.76, val_acc=0.662, val_AUC=0.733]\n"
     ]
    },
    {
     "name": "stdout",
     "output_type": "stream",
     "text": [
      "tensor([ 1.8940e-01,  8.6401e-02,  9.9722e-01,  6.5906e-02, -7.6352e-02,\n",
      "         8.9971e-04,  3.7410e-01,  9.6169e-02,  4.7553e-01,  2.4596e-01,\n",
      "        -9.2180e-02], device='cuda:0', grad_fn=<DivBackward0>)\n"
     ]
    },
    {
     "name": "stderr",
     "output_type": "stream",
     "text": [
      "Epoch 390: 100%|██████████| 3/3 [00:02<00:00,  1.03it/s, loss=19.3, acc=0.699, AUC=0.755, val_acc=0.698, val_AUC=0.745]\n"
     ]
    },
    {
     "name": "stdout",
     "output_type": "stream",
     "text": [
      "tensor([ 0.2006,  0.0840,  1.0105,  0.0680, -0.0788,  0.0045,  0.3797,  0.1130,\n",
      "         0.4779,  0.2538, -0.1043], device='cuda:0', grad_fn=<DivBackward0>)\n"
     ]
    },
    {
     "name": "stderr",
     "output_type": "stream",
     "text": [
      "Epoch 391: 100%|██████████| 3/3 [00:02<00:00,  1.05it/s, loss=19.2, acc=0.703, AUC=0.757, val_acc=0.683, val_AUC=0.745]\n"
     ]
    },
    {
     "name": "stdout",
     "output_type": "stream",
     "text": [
      "tensor([ 0.1965,  0.0875,  1.0170,  0.0697, -0.0752,  0.0089,  0.3745,  0.1085,\n",
      "         0.4809,  0.2447, -0.0934], device='cuda:0', grad_fn=<DivBackward0>)\n"
     ]
    },
    {
     "name": "stderr",
     "output_type": "stream",
     "text": [
      "Epoch 392: 100%|██████████| 3/3 [00:02<00:00,  1.05it/s, loss=19.3, acc=0.696, AUC=0.755, val_acc=0.68, val_AUC=0.732]\n"
     ]
    },
    {
     "name": "stdout",
     "output_type": "stream",
     "text": [
      "tensor([ 0.1947,  0.0843,  1.0210,  0.0705, -0.0711,  0.0033,  0.3825,  0.1055,\n",
      "         0.4869,  0.2547, -0.0892], device='cuda:0', grad_fn=<DivBackward0>)\n"
     ]
    },
    {
     "name": "stderr",
     "output_type": "stream",
     "text": [
      "Epoch 393: 100%|██████████| 3/3 [00:02<00:00,  1.05it/s, loss=19.3, acc=0.699, AUC=0.757, val_acc=0.686, val_AUC=0.736]\n"
     ]
    },
    {
     "name": "stdout",
     "output_type": "stream",
     "text": [
      "tensor([ 0.2061,  0.0913,  1.0439,  0.0733, -0.0691, -0.0077,  0.3891,  0.1085,\n",
      "         0.5009,  0.2698, -0.0896], device='cuda:0', grad_fn=<DivBackward0>)\n"
     ]
    },
    {
     "name": "stderr",
     "output_type": "stream",
     "text": [
      "Epoch 394: 100%|██████████| 3/3 [00:02<00:00,  1.05it/s, loss=19.3, acc=0.697, AUC=0.757, val_acc=0.701, val_AUC=0.748]\n"
     ]
    },
    {
     "name": "stdout",
     "output_type": "stream",
     "text": [
      "tensor([ 0.1998,  0.0908,  1.0430,  0.0743, -0.0707, -0.0057,  0.3868,  0.1013,\n",
      "         0.4903,  0.2608, -0.0745], device='cuda:0', grad_fn=<DivBackward0>)\n"
     ]
    },
    {
     "name": "stderr",
     "output_type": "stream",
     "text": [
      "Epoch 395: 100%|██████████| 3/3 [00:02<00:00,  1.03it/s, loss=19.2, acc=0.703, AUC=0.76, val_acc=0.677, val_AUC=0.737]\n"
     ]
    },
    {
     "name": "stdout",
     "output_type": "stream",
     "text": [
      "tensor([ 0.1957,  0.0901,  1.0424,  0.0851, -0.0673,  0.0069,  0.3887,  0.0995,\n",
      "         0.4895,  0.2610, -0.0774], device='cuda:0', grad_fn=<DivBackward0>)\n"
     ]
    },
    {
     "name": "stderr",
     "output_type": "stream",
     "text": [
      "Epoch 396: 100%|██████████| 3/3 [00:02<00:00,  1.05it/s, loss=19.2, acc=0.697, AUC=0.757, val_acc=0.689, val_AUC=0.743]\n"
     ]
    },
    {
     "name": "stdout",
     "output_type": "stream",
     "text": [
      "tensor([ 0.2111,  0.0911,  1.0390,  0.0771, -0.0634,  0.0032,  0.3917,  0.0988,\n",
      "         0.4957,  0.2593, -0.0809], device='cuda:0', grad_fn=<DivBackward0>)\n"
     ]
    },
    {
     "name": "stderr",
     "output_type": "stream",
     "text": [
      "Epoch 397: 100%|██████████| 3/3 [00:02<00:00,  1.05it/s, loss=19.2, acc=0.701, AUC=0.759, val_acc=0.698, val_AUC=0.75]\n"
     ]
    },
    {
     "name": "stdout",
     "output_type": "stream",
     "text": [
      "tensor([ 0.2117,  0.0944,  1.0411,  0.0861, -0.0680, -0.0043,  0.3977,  0.1054,\n",
      "         0.4974,  0.2631, -0.0739], device='cuda:0', grad_fn=<DivBackward0>)\n"
     ]
    },
    {
     "name": "stderr",
     "output_type": "stream",
     "text": [
      "Epoch 398: 100%|██████████| 3/3 [00:02<00:00,  1.05it/s, loss=19.3, acc=0.698, AUC=0.756, val_acc=0.677, val_AUC=0.747]\n"
     ]
    },
    {
     "name": "stdout",
     "output_type": "stream",
     "text": [
      "tensor([ 0.2236,  0.0909,  1.0703,  0.0970, -0.0724,  0.0062,  0.4071,  0.1049,\n",
      "         0.5101,  0.2669, -0.0759], device='cuda:0', grad_fn=<DivBackward0>)\n"
     ]
    },
    {
     "name": "stderr",
     "output_type": "stream",
     "text": [
      "Epoch 399: 100%|██████████| 3/3 [00:02<00:00,  1.05it/s, loss=19.3, acc=0.697, AUC=0.754, val_acc=0.692, val_AUC=0.741]\n"
     ]
    },
    {
     "name": "stdout",
     "output_type": "stream",
     "text": [
      "tensor([ 0.2133,  0.0890,  1.0241,  0.0846, -0.0672,  0.0017,  0.3843,  0.1131,\n",
      "         0.5033,  0.2644, -0.0825], device='cuda:0', grad_fn=<DivBackward0>)\n"
     ]
    },
    {
     "name": "stderr",
     "output_type": "stream",
     "text": [
      "Epoch 400: 100%|██████████| 3/3 [00:02<00:00,  1.03it/s, loss=19.3, acc=0.697, AUC=0.756, val_acc=0.68, val_AUC=0.741]\n"
     ]
    },
    {
     "name": "stdout",
     "output_type": "stream",
     "text": [
      "tensor([ 0.2129,  0.0894,  1.0236,  0.0754, -0.0644,  0.0095,  0.3738,  0.1083,\n",
      "         0.4925,  0.2619, -0.0921], device='cuda:0', grad_fn=<DivBackward0>)\n"
     ]
    },
    {
     "name": "stderr",
     "output_type": "stream",
     "text": [
      "Epoch 401: 100%|██████████| 3/3 [00:02<00:00,  1.05it/s, loss=19.2, acc=0.698, AUC=0.757, val_acc=0.671, val_AUC=0.746]\n"
     ]
    },
    {
     "name": "stdout",
     "output_type": "stream",
     "text": [
      "tensor([ 0.2117,  0.0924,  1.0538,  0.0968, -0.0617,  0.0188,  0.3976,  0.1058,\n",
      "         0.5081,  0.2620, -0.0920], device='cuda:0', grad_fn=<DivBackward0>)\n"
     ]
    },
    {
     "name": "stderr",
     "output_type": "stream",
     "text": [
      "Epoch 402: 100%|██████████| 3/3 [00:02<00:00,  1.05it/s, loss=19.2, acc=0.696, AUC=0.759, val_acc=0.674, val_AUC=0.749]\n"
     ]
    },
    {
     "name": "stdout",
     "output_type": "stream",
     "text": [
      "tensor([ 0.2163,  0.0837,  1.0755,  0.0943, -0.0671,  0.0088,  0.4157,  0.1159,\n",
      "         0.5092,  0.2663, -0.0889], device='cuda:0', grad_fn=<DivBackward0>)\n"
     ]
    },
    {
     "name": "stderr",
     "output_type": "stream",
     "text": [
      "Epoch 403: 100%|██████████| 3/3 [00:02<00:00,  1.05it/s, loss=19.3, acc=0.697, AUC=0.755, val_acc=0.692, val_AUC=0.736]\n"
     ]
    },
    {
     "name": "stdout",
     "output_type": "stream",
     "text": [
      "tensor([ 0.2132,  0.0875,  1.0483,  0.0943, -0.0653,  0.0085,  0.4067,  0.1141,\n",
      "         0.5145,  0.2724, -0.0854], device='cuda:0', grad_fn=<DivBackward0>)\n"
     ]
    },
    {
     "name": "stderr",
     "output_type": "stream",
     "text": [
      "Epoch 404: 100%|██████████| 3/3 [00:02<00:00,  1.05it/s, loss=19.3, acc=0.701, AUC=0.757, val_acc=0.665, val_AUC=0.741]\n"
     ]
    },
    {
     "name": "stdout",
     "output_type": "stream",
     "text": [
      "tensor([ 0.2015,  0.0865,  1.0396,  0.0943, -0.0544,  0.0158,  0.3932,  0.1194,\n",
      "         0.5081,  0.2630, -0.1067], device='cuda:0', grad_fn=<DivBackward0>)\n"
     ]
    },
    {
     "name": "stderr",
     "output_type": "stream",
     "text": [
      "Epoch 405: 100%|██████████| 3/3 [00:02<00:00,  1.03it/s, loss=19.2, acc=0.693, AUC=0.759, val_acc=0.689, val_AUC=0.745]\n"
     ]
    },
    {
     "name": "stdout",
     "output_type": "stream",
     "text": [
      "tensor([ 0.2009,  0.0923,  1.0319,  0.0909, -0.0600,  0.0016,  0.3966,  0.1185,\n",
      "         0.5063,  0.2639, -0.0972], device='cuda:0', grad_fn=<DivBackward0>)\n"
     ]
    },
    {
     "name": "stderr",
     "output_type": "stream",
     "text": [
      "Epoch 406: 100%|██████████| 3/3 [00:02<00:00,  1.05it/s, loss=19.2, acc=0.7, AUC=0.757, val_acc=0.686, val_AUC=0.74]\n"
     ]
    },
    {
     "name": "stdout",
     "output_type": "stream",
     "text": [
      "tensor([ 0.2117,  0.0925,  1.0202,  0.0862, -0.0642,  0.0094,  0.3844,  0.1198,\n",
      "         0.4996,  0.2537, -0.1011], device='cuda:0', grad_fn=<DivBackward0>)\n"
     ]
    },
    {
     "name": "stderr",
     "output_type": "stream",
     "text": [
      "Epoch 407: 100%|██████████| 3/3 [00:02<00:00,  1.05it/s, loss=19.2, acc=0.694, AUC=0.759, val_acc=0.671, val_AUC=0.738]\n"
     ]
    },
    {
     "name": "stdout",
     "output_type": "stream",
     "text": [
      "tensor([ 0.2054,  0.0995,  1.0014,  0.0898, -0.0689,  0.0064,  0.3678,  0.1193,\n",
      "         0.4877,  0.2455, -0.0930], device='cuda:0', grad_fn=<DivBackward0>)\n"
     ]
    },
    {
     "name": "stderr",
     "output_type": "stream",
     "text": [
      "Epoch 408: 100%|██████████| 3/3 [00:02<00:00,  1.04it/s, loss=19.3, acc=0.697, AUC=0.756, val_acc=0.701, val_AUC=0.746]\n"
     ]
    },
    {
     "name": "stdout",
     "output_type": "stream",
     "text": [
      "tensor([ 0.2031,  0.0950,  1.0095,  0.0778, -0.0619, -0.0023,  0.3634,  0.1202,\n",
      "         0.4956,  0.2460, -0.0932], device='cuda:0', grad_fn=<DivBackward0>)\n"
     ]
    },
    {
     "name": "stderr",
     "output_type": "stream",
     "text": [
      "Epoch 409: 100%|██████████| 3/3 [00:02<00:00,  1.05it/s, loss=19.3, acc=0.694, AUC=0.755, val_acc=0.674, val_AUC=0.733]\n"
     ]
    },
    {
     "name": "stdout",
     "output_type": "stream",
     "text": [
      "tensor([ 0.2136,  0.0975,  1.0099,  0.0822, -0.0604, -0.0070,  0.3756,  0.1126,\n",
      "         0.4934,  0.2471, -0.0993], device='cuda:0', grad_fn=<DivBackward0>)\n"
     ]
    },
    {
     "name": "stderr",
     "output_type": "stream",
     "text": [
      "Epoch 410: 100%|██████████| 3/3 [00:02<00:00,  1.03it/s, loss=19.5, acc=0.691, AUC=0.75, val_acc=0.665, val_AUC=0.736]\n"
     ]
    },
    {
     "name": "stdout",
     "output_type": "stream",
     "text": [
      "tensor([ 0.2060,  0.1063,  1.0147,  0.0864, -0.0620, -0.0029,  0.3844,  0.1157,\n",
      "         0.5053,  0.2438, -0.1122], device='cuda:0', grad_fn=<DivBackward0>)\n"
     ]
    },
    {
     "name": "stderr",
     "output_type": "stream",
     "text": [
      "Epoch 411: 100%|██████████| 3/3 [00:02<00:00,  1.05it/s, loss=19.7, acc=0.674, AUC=0.743, val_acc=0.64, val_AUC=0.736]\n"
     ]
    },
    {
     "name": "stdout",
     "output_type": "stream",
     "text": [
      "tensor([ 0.1931,  0.1013,  1.0179,  0.0794, -0.0676, -0.0015,  0.3779,  0.1131,\n",
      "         0.4898,  0.2539, -0.1093], device='cuda:0', grad_fn=<DivBackward0>)\n"
     ]
    },
    {
     "name": "stderr",
     "output_type": "stream",
     "text": [
      "Epoch 412: 100%|██████████| 3/3 [00:02<00:00,  1.05it/s, loss=19.8, acc=0.68, AUC=0.742, val_acc=0.662, val_AUC=0.727]\n"
     ]
    },
    {
     "name": "stdout",
     "output_type": "stream",
     "text": [
      "tensor([ 1.9063e-01,  9.2114e-02,  1.0157e+00,  8.0636e-02, -6.5932e-02,\n",
      "        -7.4381e-04,  3.8154e-01,  1.2229e-01,  4.8766e-01,  2.5368e-01,\n",
      "        -1.1967e-01], device='cuda:0', grad_fn=<DivBackward0>)\n"
     ]
    },
    {
     "name": "stderr",
     "output_type": "stream",
     "text": [
      "Epoch 413: 100%|██████████| 3/3 [00:02<00:00,  1.05it/s, loss=19.5, acc=0.686, AUC=0.751, val_acc=0.65, val_AUC=0.737]\n"
     ]
    },
    {
     "name": "stdout",
     "output_type": "stream",
     "text": [
      "tensor([ 0.1918,  0.0882,  1.0132,  0.0885, -0.0675, -0.0031,  0.3895,  0.1099,\n",
      "         0.4807,  0.2467, -0.1083], device='cuda:0', grad_fn=<DivBackward0>)\n"
     ]
    },
    {
     "name": "stderr",
     "output_type": "stream",
     "text": [
      "Epoch 414: 100%|██████████| 3/3 [00:02<00:00,  1.05it/s, loss=19.3, acc=0.7, AUC=0.755, val_acc=0.683, val_AUC=0.744]\n"
     ]
    },
    {
     "name": "stdout",
     "output_type": "stream",
     "text": [
      "tensor([ 0.1919,  0.0756,  1.0448,  0.0848, -0.0675, -0.0019,  0.3997,  0.1177,\n",
      "         0.4925,  0.2544, -0.1158], device='cuda:0', grad_fn=<DivBackward0>)\n"
     ]
    },
    {
     "name": "stderr",
     "output_type": "stream",
     "text": [
      "Epoch 415: 100%|██████████| 3/3 [00:02<00:00,  1.03it/s, loss=19.3, acc=0.695, AUC=0.757, val_acc=0.677, val_AUC=0.742]\n"
     ]
    },
    {
     "name": "stdout",
     "output_type": "stream",
     "text": [
      "tensor([ 0.1872,  0.0995,  1.0272,  0.0806, -0.0709, -0.0080,  0.3896,  0.1042,\n",
      "         0.4900,  0.2507, -0.1079], device='cuda:0', grad_fn=<DivBackward0>)\n"
     ]
    },
    {
     "name": "stderr",
     "output_type": "stream",
     "text": [
      "Epoch 416: 100%|██████████| 3/3 [00:02<00:00,  1.05it/s, loss=19.2, acc=0.699, AUC=0.757, val_acc=0.68, val_AUC=0.742]\n"
     ]
    },
    {
     "name": "stdout",
     "output_type": "stream",
     "text": [
      "tensor([ 0.1857,  0.0902,  1.0075,  0.0766, -0.0697, -0.0069,  0.3771,  0.1165,\n",
      "         0.4826,  0.2507, -0.1135], device='cuda:0', grad_fn=<DivBackward0>)\n"
     ]
    },
    {
     "name": "stderr",
     "output_type": "stream",
     "text": [
      "Epoch 417: 100%|██████████| 3/3 [00:02<00:00,  1.05it/s, loss=19.4, acc=0.689, AUC=0.754, val_acc=0.677, val_AUC=0.742]\n"
     ]
    },
    {
     "name": "stdout",
     "output_type": "stream",
     "text": [
      "tensor([ 0.1827,  0.0948,  1.0077,  0.0806, -0.0639,  0.0042,  0.3699,  0.1216,\n",
      "         0.4808,  0.2524, -0.1143], device='cuda:0', grad_fn=<DivBackward0>)\n"
     ]
    },
    {
     "name": "stderr",
     "output_type": "stream",
     "text": [
      "Epoch 418: 100%|██████████| 3/3 [00:02<00:00,  1.05it/s, loss=19.3, acc=0.7, AUC=0.756, val_acc=0.689, val_AUC=0.74]\n"
     ]
    },
    {
     "name": "stdout",
     "output_type": "stream",
     "text": [
      "tensor([ 0.1929,  0.0923,  1.0256,  0.0927, -0.0753, -0.0094,  0.3888,  0.1204,\n",
      "         0.4955,  0.2567, -0.1065], device='cuda:0', grad_fn=<DivBackward0>)\n"
     ]
    },
    {
     "name": "stderr",
     "output_type": "stream",
     "text": [
      "Epoch 419: 100%|██████████| 3/3 [00:02<00:00,  1.05it/s, loss=19.3, acc=0.698, AUC=0.757, val_acc=0.677, val_AUC=0.742]\n"
     ]
    },
    {
     "name": "stdout",
     "output_type": "stream",
     "text": [
      "tensor([ 0.1955,  0.0912,  1.0300,  0.0819, -0.0690,  0.0088,  0.3941,  0.1268,\n",
      "         0.4915,  0.2570, -0.0991], device='cuda:0', grad_fn=<DivBackward0>)\n"
     ]
    },
    {
     "name": "stderr",
     "output_type": "stream",
     "text": [
      "Epoch 420: 100%|██████████| 3/3 [00:02<00:00,  1.03it/s, loss=19.2, acc=0.702, AUC=0.758, val_acc=0.662, val_AUC=0.741]\n"
     ]
    },
    {
     "name": "stdout",
     "output_type": "stream",
     "text": [
      "tensor([ 0.1972,  0.0997,  1.0431,  0.0820, -0.0574, -0.0027,  0.3973,  0.1123,\n",
      "         0.4990,  0.2591, -0.1017], device='cuda:0', grad_fn=<DivBackward0>)\n"
     ]
    },
    {
     "name": "stderr",
     "output_type": "stream",
     "text": [
      "Epoch 421: 100%|██████████| 3/3 [00:02<00:00,  1.04it/s, loss=19.3, acc=0.697, AUC=0.756, val_acc=0.686, val_AUC=0.743]\n"
     ]
    },
    {
     "name": "stdout",
     "output_type": "stream",
     "text": [
      "tensor([ 0.1862,  0.0895,  1.0615,  0.0846, -0.0693,  0.0011,  0.3993,  0.1139,\n",
      "         0.5101,  0.2664, -0.0992], device='cuda:0', grad_fn=<DivBackward0>)\n"
     ]
    },
    {
     "name": "stderr",
     "output_type": "stream",
     "text": [
      "Epoch 422: 100%|██████████| 3/3 [00:02<00:00,  1.04it/s, loss=19.2, acc=0.703, AUC=0.76, val_acc=0.677, val_AUC=0.747]\n"
     ]
    },
    {
     "name": "stdout",
     "output_type": "stream",
     "text": [
      "tensor([ 0.1956,  0.0909,  1.0578,  0.0911, -0.0667, -0.0077,  0.3961,  0.1157,\n",
      "         0.5068,  0.2670, -0.0924], device='cuda:0', grad_fn=<DivBackward0>)\n"
     ]
    },
    {
     "name": "stderr",
     "output_type": "stream",
     "text": [
      "Epoch 423: 100%|██████████| 3/3 [00:02<00:00,  1.04it/s, loss=19.2, acc=0.7, AUC=0.759, val_acc=0.68, val_AUC=0.749]\n"
     ]
    },
    {
     "name": "stdout",
     "output_type": "stream",
     "text": [
      "tensor([ 0.1890,  0.0938,  1.0564,  0.0884, -0.0636, -0.0024,  0.4037,  0.1089,\n",
      "         0.5109,  0.2698, -0.0946], device='cuda:0', grad_fn=<DivBackward0>)\n"
     ]
    },
    {
     "name": "stderr",
     "output_type": "stream",
     "text": [
      "Epoch 424: 100%|██████████| 3/3 [00:02<00:00,  1.05it/s, loss=19.2, acc=0.697, AUC=0.758, val_acc=0.68, val_AUC=0.74]\n"
     ]
    },
    {
     "name": "stdout",
     "output_type": "stream",
     "text": [
      "tensor([ 2.0678e-01,  8.8137e-02,  1.0686e+00,  8.7452e-02, -5.7302e-02,\n",
      "        -5.1750e-04,  4.1435e-01,  1.0454e-01,  5.0792e-01,  2.7095e-01,\n",
      "        -9.9202e-02], device='cuda:0', grad_fn=<DivBackward0>)\n"
     ]
    },
    {
     "name": "stderr",
     "output_type": "stream",
     "text": [
      "Epoch 425: 100%|██████████| 3/3 [00:02<00:00,  1.03it/s, loss=19.2, acc=0.693, AUC=0.757, val_acc=0.68, val_AUC=0.747]\n"
     ]
    },
    {
     "name": "stdout",
     "output_type": "stream",
     "text": [
      "tensor([ 0.1866,  0.0866,  1.0627,  0.0796, -0.0585,  0.0116,  0.3985,  0.1083,\n",
      "         0.5037,  0.2632, -0.1010], device='cuda:0', grad_fn=<DivBackward0>)\n"
     ]
    },
    {
     "name": "stderr",
     "output_type": "stream",
     "text": [
      "Epoch 426: 100%|██████████| 3/3 [00:02<00:00,  1.05it/s, loss=19.3, acc=0.705, AUC=0.755, val_acc=0.68, val_AUC=0.74]\n"
     ]
    },
    {
     "name": "stdout",
     "output_type": "stream",
     "text": [
      "tensor([ 0.1859,  0.0932,  1.0440,  0.0818, -0.0619,  0.0039,  0.3963,  0.1069,\n",
      "         0.4884,  0.2702, -0.0957], device='cuda:0', grad_fn=<DivBackward0>)\n"
     ]
    },
    {
     "name": "stderr",
     "output_type": "stream",
     "text": [
      "Epoch 427: 100%|██████████| 3/3 [00:02<00:00,  1.05it/s, loss=19.3, acc=0.692, AUC=0.756, val_acc=0.683, val_AUC=0.738]\n"
     ]
    },
    {
     "name": "stdout",
     "output_type": "stream",
     "text": [
      "tensor([ 0.1865,  0.0813,  1.0348,  0.0763, -0.0619,  0.0092,  0.3929,  0.1034,\n",
      "         0.4980,  0.2683, -0.0917], device='cuda:0', grad_fn=<DivBackward0>)\n"
     ]
    },
    {
     "name": "stderr",
     "output_type": "stream",
     "text": [
      "Epoch 428: 100%|██████████| 3/3 [00:02<00:00,  1.04it/s, loss=19.2, acc=0.697, AUC=0.757, val_acc=0.686, val_AUC=0.745]\n"
     ]
    },
    {
     "name": "stdout",
     "output_type": "stream",
     "text": [
      "tensor([ 0.1930,  0.0965,  1.0471,  0.0750, -0.0598,  0.0035,  0.3935,  0.1046,\n",
      "         0.4986,  0.2595, -0.0943], device='cuda:0', grad_fn=<DivBackward0>)\n"
     ]
    },
    {
     "name": "stderr",
     "output_type": "stream",
     "text": [
      "Epoch 429: 100%|██████████| 3/3 [00:02<00:00,  1.05it/s, loss=19.2, acc=0.7, AUC=0.761, val_acc=0.683, val_AUC=0.745]\n"
     ]
    },
    {
     "name": "stdout",
     "output_type": "stream",
     "text": [
      "tensor([ 0.1818,  0.0915,  1.0370,  0.0784, -0.0595,  0.0053,  0.3909,  0.1036,\n",
      "         0.4924,  0.2583, -0.0953], device='cuda:0', grad_fn=<DivBackward0>)\n"
     ]
    },
    {
     "name": "stderr",
     "output_type": "stream",
     "text": [
      "Epoch 430: 100%|██████████| 3/3 [00:02<00:00,  1.03it/s, loss=19.2, acc=0.696, AUC=0.759, val_acc=0.686, val_AUC=0.741]\n"
     ]
    },
    {
     "name": "stdout",
     "output_type": "stream",
     "text": [
      "tensor([ 0.1830,  0.0959,  1.0326,  0.0724, -0.0595,  0.0212,  0.3831,  0.0949,\n",
      "         0.4894,  0.2526, -0.0923], device='cuda:0', grad_fn=<DivBackward0>)\n"
     ]
    },
    {
     "name": "stderr",
     "output_type": "stream",
     "text": [
      "Epoch 431: 100%|██████████| 3/3 [00:02<00:00,  1.05it/s, loss=19.2, acc=0.698, AUC=0.76, val_acc=0.674, val_AUC=0.747]\n"
     ]
    },
    {
     "name": "stdout",
     "output_type": "stream",
     "text": [
      "tensor([ 0.1761,  0.0883,  1.0285,  0.0700, -0.0591,  0.0206,  0.3865,  0.0972,\n",
      "         0.4872,  0.2559, -0.1025], device='cuda:0', grad_fn=<DivBackward0>)\n"
     ]
    },
    {
     "name": "stderr",
     "output_type": "stream",
     "text": [
      "Epoch 432: 100%|██████████| 3/3 [00:02<00:00,  1.05it/s, loss=19.2, acc=0.701, AUC=0.76, val_acc=0.683, val_AUC=0.744]\n"
     ]
    },
    {
     "name": "stdout",
     "output_type": "stream",
     "text": [
      "tensor([ 0.1855,  0.0873,  1.0229,  0.0671, -0.0515,  0.0156,  0.3815,  0.0962,\n",
      "         0.4811,  0.2583, -0.1023], device='cuda:0', grad_fn=<DivBackward0>)\n"
     ]
    },
    {
     "name": "stderr",
     "output_type": "stream",
     "text": [
      "Epoch 433: 100%|██████████| 3/3 [00:02<00:00,  1.05it/s, loss=19.2, acc=0.696, AUC=0.756, val_acc=0.686, val_AUC=0.742]\n"
     ]
    },
    {
     "name": "stdout",
     "output_type": "stream",
     "text": [
      "tensor([ 0.1860,  0.0923,  1.0303,  0.0755, -0.0635,  0.0121,  0.3774,  0.1156,\n",
      "         0.4857,  0.2616, -0.1046], device='cuda:0', grad_fn=<DivBackward0>)\n"
     ]
    },
    {
     "name": "stderr",
     "output_type": "stream",
     "text": [
      "Epoch 434: 100%|██████████| 3/3 [00:02<00:00,  1.05it/s, loss=19.3, acc=0.694, AUC=0.756, val_acc=0.68, val_AUC=0.74]\n"
     ]
    },
    {
     "name": "stdout",
     "output_type": "stream",
     "text": [
      "tensor([ 0.1974,  0.0784,  1.0416,  0.0810, -0.0645,  0.0133,  0.3914,  0.1092,\n",
      "         0.4936,  0.2645, -0.1114], device='cuda:0', grad_fn=<DivBackward0>)\n"
     ]
    },
    {
     "name": "stderr",
     "output_type": "stream",
     "text": [
      "Epoch 435: 100%|██████████| 3/3 [00:02<00:00,  1.03it/s, loss=19.4, acc=0.69, AUC=0.752, val_acc=0.665, val_AUC=0.734]\n"
     ]
    },
    {
     "name": "stdout",
     "output_type": "stream",
     "text": [
      "tensor([ 0.1890,  0.0832,  1.0112,  0.0732, -0.0564,  0.0134,  0.3829,  0.1048,\n",
      "         0.4747,  0.2627, -0.1033], device='cuda:0', grad_fn=<DivBackward0>)\n"
     ]
    },
    {
     "name": "stderr",
     "output_type": "stream",
     "text": [
      "Epoch 436: 100%|██████████| 3/3 [00:02<00:00,  1.05it/s, loss=19.3, acc=0.694, AUC=0.754, val_acc=0.686, val_AUC=0.738]\n"
     ]
    },
    {
     "name": "stdout",
     "output_type": "stream",
     "text": [
      "tensor([ 0.1827,  0.0889,  1.0202,  0.0718, -0.0614,  0.0115,  0.3844,  0.1113,\n",
      "         0.4800,  0.2540, -0.1121], device='cuda:0', grad_fn=<DivBackward0>)\n"
     ]
    },
    {
     "name": "stderr",
     "output_type": "stream",
     "text": [
      "Epoch 437: 100%|██████████| 3/3 [00:02<00:00,  1.05it/s, loss=19.3, acc=0.689, AUC=0.757, val_acc=0.671, val_AUC=0.74]\n"
     ]
    },
    {
     "name": "stdout",
     "output_type": "stream",
     "text": [
      "tensor([ 0.1784,  0.0961,  1.0316,  0.0797, -0.0655,  0.0117,  0.3887,  0.1107,\n",
      "         0.4873,  0.2569, -0.1163], device='cuda:0', grad_fn=<DivBackward0>)\n"
     ]
    },
    {
     "name": "stderr",
     "output_type": "stream",
     "text": [
      "Epoch 438: 100%|██████████| 3/3 [00:02<00:00,  1.05it/s, loss=19.2, acc=0.695, AUC=0.757, val_acc=0.689, val_AUC=0.745]\n"
     ]
    },
    {
     "name": "stdout",
     "output_type": "stream",
     "text": [
      "tensor([ 0.1750,  0.0949,  1.0211,  0.0724, -0.0679,  0.0168,  0.3773,  0.1086,\n",
      "         0.4766,  0.2658, -0.1230], device='cuda:0', grad_fn=<DivBackward0>)\n"
     ]
    },
    {
     "name": "stderr",
     "output_type": "stream",
     "text": [
      "Epoch 439: 100%|██████████| 3/3 [00:02<00:00,  1.05it/s, loss=19.2, acc=0.694, AUC=0.759, val_acc=0.65, val_AUC=0.738]\n"
     ]
    },
    {
     "name": "stdout",
     "output_type": "stream",
     "text": [
      "tensor([ 0.1753,  0.0959,  1.0222,  0.0764, -0.0625,  0.0166,  0.3763,  0.1086,\n",
      "         0.4805,  0.2629, -0.1066], device='cuda:0', grad_fn=<DivBackward0>)\n"
     ]
    },
    {
     "name": "stderr",
     "output_type": "stream",
     "text": [
      "Epoch 440: 100%|██████████| 3/3 [00:02<00:00,  1.03it/s, loss=19.4, acc=0.696, AUC=0.752, val_acc=0.686, val_AUC=0.737]\n"
     ]
    },
    {
     "name": "stdout",
     "output_type": "stream",
     "text": [
      "tensor([ 0.1802,  0.0956,  1.0297,  0.0824, -0.0615,  0.0130,  0.3836,  0.1217,\n",
      "         0.4826,  0.2665, -0.1177], device='cuda:0', grad_fn=<DivBackward0>)\n"
     ]
    },
    {
     "name": "stderr",
     "output_type": "stream",
     "text": [
      "Epoch 441: 100%|██████████| 3/3 [00:02<00:00,  1.05it/s, loss=19.4, acc=0.698, AUC=0.755, val_acc=0.689, val_AUC=0.739]\n"
     ]
    },
    {
     "name": "stdout",
     "output_type": "stream",
     "text": [
      "tensor([ 0.1845,  0.0982,  1.0290,  0.0729, -0.0646,  0.0178,  0.3794,  0.1077,\n",
      "         0.4790,  0.2696, -0.1200], device='cuda:0', grad_fn=<DivBackward0>)\n"
     ]
    },
    {
     "name": "stderr",
     "output_type": "stream",
     "text": [
      "Epoch 442: 100%|██████████| 3/3 [00:02<00:00,  1.05it/s, loss=19.2, acc=0.697, AUC=0.758, val_acc=0.695, val_AUC=0.74]\n"
     ]
    },
    {
     "name": "stdout",
     "output_type": "stream",
     "text": [
      "tensor([ 0.1902,  0.0986,  1.0201,  0.0716, -0.0687,  0.0231,  0.3895,  0.1099,\n",
      "         0.4757,  0.2669, -0.1225], device='cuda:0', grad_fn=<DivBackward0>)\n"
     ]
    },
    {
     "name": "stderr",
     "output_type": "stream",
     "text": [
      "Epoch 443: 100%|██████████| 3/3 [00:02<00:00,  1.05it/s, loss=19.3, acc=0.695, AUC=0.757, val_acc=0.689, val_AUC=0.731]\n"
     ]
    },
    {
     "name": "stdout",
     "output_type": "stream",
     "text": [
      "tensor([ 0.1833,  0.0924,  1.0411,  0.0668, -0.0686,  0.0209,  0.3967,  0.1066,\n",
      "         0.4854,  0.2769, -0.1108], device='cuda:0', grad_fn=<DivBackward0>)\n"
     ]
    },
    {
     "name": "stderr",
     "output_type": "stream",
     "text": [
      "Epoch 444: 100%|██████████| 3/3 [00:02<00:00,  1.05it/s, loss=19.3, acc=0.696, AUC=0.756, val_acc=0.683, val_AUC=0.729]\n"
     ]
    },
    {
     "name": "stdout",
     "output_type": "stream",
     "text": [
      "tensor([ 0.1880,  0.0950,  1.0495,  0.0733, -0.0578,  0.0177,  0.4109,  0.1039,\n",
      "         0.4846,  0.2633, -0.1157], device='cuda:0', grad_fn=<DivBackward0>)\n"
     ]
    },
    {
     "name": "stderr",
     "output_type": "stream",
     "text": [
      "Epoch 445: 100%|██████████| 3/3 [00:02<00:00,  1.03it/s, loss=19.2, acc=0.692, AUC=0.758, val_acc=0.689, val_AUC=0.739]\n"
     ]
    },
    {
     "name": "stdout",
     "output_type": "stream",
     "text": [
      "tensor([ 0.1851,  0.0830,  1.0457,  0.0785, -0.0615,  0.0148,  0.3988,  0.1141,\n",
      "         0.4879,  0.2685, -0.1143], device='cuda:0', grad_fn=<DivBackward0>)\n"
     ]
    },
    {
     "name": "stderr",
     "output_type": "stream",
     "text": [
      "Epoch 446: 100%|██████████| 3/3 [00:02<00:00,  1.05it/s, loss=19.2, acc=0.701, AUC=0.758, val_acc=0.698, val_AUC=0.749]\n"
     ]
    },
    {
     "name": "stdout",
     "output_type": "stream",
     "text": [
      "tensor([ 0.1803,  0.0873,  1.0361,  0.0706, -0.0610,  0.0135,  0.3964,  0.1071,\n",
      "         0.4840,  0.2665, -0.1094], device='cuda:0', grad_fn=<DivBackward0>)\n"
     ]
    },
    {
     "name": "stderr",
     "output_type": "stream",
     "text": [
      "Epoch 447: 100%|██████████| 3/3 [00:02<00:00,  1.04it/s, loss=19.2, acc=0.702, AUC=0.759, val_acc=0.671, val_AUC=0.733]\n"
     ]
    },
    {
     "name": "stdout",
     "output_type": "stream",
     "text": [
      "tensor([ 0.1856,  0.0816,  1.0354,  0.0675, -0.0602,  0.0207,  0.3936,  0.1094,\n",
      "         0.4897,  0.2643, -0.1158], device='cuda:0', grad_fn=<DivBackward0>)\n"
     ]
    },
    {
     "name": "stderr",
     "output_type": "stream",
     "text": [
      "Epoch 448: 100%|██████████| 3/3 [00:02<00:00,  1.05it/s, loss=19.2, acc=0.701, AUC=0.758, val_acc=0.695, val_AUC=0.748]\n"
     ]
    },
    {
     "name": "stdout",
     "output_type": "stream",
     "text": [
      "tensor([ 0.1871,  0.0921,  1.0454,  0.0789, -0.0568,  0.0150,  0.3976,  0.1093,\n",
      "         0.4954,  0.2726, -0.1139], device='cuda:0', grad_fn=<DivBackward0>)\n"
     ]
    },
    {
     "name": "stderr",
     "output_type": "stream",
     "text": [
      "Epoch 449: 100%|██████████| 3/3 [00:02<00:00,  1.05it/s, loss=19.2, acc=0.695, AUC=0.758, val_acc=0.683, val_AUC=0.735]\n"
     ]
    },
    {
     "name": "stdout",
     "output_type": "stream",
     "text": [
      "tensor([ 0.1889,  0.0948,  1.0441,  0.0703, -0.0654,  0.0230,  0.3940,  0.1112,\n",
      "         0.4890,  0.2768, -0.1078], device='cuda:0', grad_fn=<DivBackward0>)\n"
     ]
    },
    {
     "name": "stderr",
     "output_type": "stream",
     "text": [
      "Epoch 450: 100%|██████████| 3/3 [00:02<00:00,  1.03it/s, loss=19.2, acc=0.7, AUC=0.76, val_acc=0.683, val_AUC=0.744]\n"
     ]
    },
    {
     "name": "stdout",
     "output_type": "stream",
     "text": [
      "tensor([ 0.1740,  0.0911,  1.0336,  0.0729, -0.0649,  0.0193,  0.3951,  0.1106,\n",
      "         0.4950,  0.2692, -0.1122], device='cuda:0', grad_fn=<DivBackward0>)\n"
     ]
    },
    {
     "name": "stderr",
     "output_type": "stream",
     "text": [
      "Epoch 451: 100%|██████████| 3/3 [00:02<00:00,  1.05it/s, loss=19.2, acc=0.699, AUC=0.758, val_acc=0.674, val_AUC=0.739]\n"
     ]
    },
    {
     "name": "stdout",
     "output_type": "stream",
     "text": [
      "tensor([ 0.1808,  0.0911,  1.0501,  0.0736, -0.0642,  0.0190,  0.4090,  0.1093,\n",
      "         0.4871,  0.2762, -0.1192], device='cuda:0', grad_fn=<DivBackward0>)\n"
     ]
    },
    {
     "name": "stderr",
     "output_type": "stream",
     "text": [
      "Epoch 452: 100%|██████████| 3/3 [00:02<00:00,  1.05it/s, loss=19.2, acc=0.701, AUC=0.76, val_acc=0.701, val_AUC=0.733]\n"
     ]
    },
    {
     "name": "stdout",
     "output_type": "stream",
     "text": [
      "tensor([ 0.1728,  0.0992,  1.0321,  0.0687, -0.0599,  0.0230,  0.3929,  0.1039,\n",
      "         0.4846,  0.2686, -0.1029], device='cuda:0', grad_fn=<DivBackward0>)\n"
     ]
    },
    {
     "name": "stderr",
     "output_type": "stream",
     "text": [
      "Epoch 453: 100%|██████████| 3/3 [00:02<00:00,  1.05it/s, loss=19.1, acc=0.706, AUC=0.76, val_acc=0.665, val_AUC=0.735]\n"
     ]
    },
    {
     "name": "stdout",
     "output_type": "stream",
     "text": [
      "tensor([ 0.1827,  0.0890,  1.0407,  0.0742, -0.0597,  0.0168,  0.3909,  0.1089,\n",
      "         0.4913,  0.2646, -0.1057], device='cuda:0', grad_fn=<DivBackward0>)\n"
     ]
    },
    {
     "name": "stderr",
     "output_type": "stream",
     "text": [
      "Epoch 454: 100%|██████████| 3/3 [00:02<00:00,  1.05it/s, loss=19.2, acc=0.699, AUC=0.758, val_acc=0.677, val_AUC=0.733]\n"
     ]
    },
    {
     "name": "stdout",
     "output_type": "stream",
     "text": [
      "tensor([ 0.1798,  0.0964,  1.0115,  0.0692, -0.0627,  0.0219,  0.3815,  0.1092,\n",
      "         0.4807,  0.2721, -0.1079], device='cuda:0', grad_fn=<DivBackward0>)\n"
     ]
    },
    {
     "name": "stderr",
     "output_type": "stream",
     "text": [
      "Epoch 455: 100%|██████████| 3/3 [00:02<00:00,  1.03it/s, loss=19.3, acc=0.695, AUC=0.755, val_acc=0.662, val_AUC=0.734]\n"
     ]
    },
    {
     "name": "stdout",
     "output_type": "stream",
     "text": [
      "tensor([ 0.1759,  0.0870,  1.0258,  0.0701, -0.0625,  0.0218,  0.3920,  0.1133,\n",
      "         0.4915,  0.2702, -0.1072], device='cuda:0', grad_fn=<DivBackward0>)\n"
     ]
    },
    {
     "name": "stderr",
     "output_type": "stream",
     "text": [
      "Epoch 456: 100%|██████████| 3/3 [00:02<00:00,  1.05it/s, loss=19.1, acc=0.699, AUC=0.76, val_acc=0.683, val_AUC=0.737]\n"
     ]
    },
    {
     "name": "stdout",
     "output_type": "stream",
     "text": [
      "tensor([ 0.1747,  0.0896,  1.0363,  0.0724, -0.0579,  0.0229,  0.3862,  0.1080,\n",
      "         0.4905,  0.2726, -0.1178], device='cuda:0', grad_fn=<DivBackward0>)\n"
     ]
    },
    {
     "name": "stderr",
     "output_type": "stream",
     "text": [
      "Epoch 457: 100%|██████████| 3/3 [00:02<00:00,  1.05it/s, loss=19.2, acc=0.698, AUC=0.757, val_acc=0.686, val_AUC=0.742]\n"
     ]
    },
    {
     "name": "stdout",
     "output_type": "stream",
     "text": [
      "tensor([ 0.1853,  0.0849,  1.0408,  0.0740, -0.0665,  0.0262,  0.3909,  0.1059,\n",
      "         0.4951,  0.2689, -0.1021], device='cuda:0', grad_fn=<DivBackward0>)\n"
     ]
    },
    {
     "name": "stderr",
     "output_type": "stream",
     "text": [
      "Epoch 458: 100%|██████████| 3/3 [00:02<00:00,  1.05it/s, loss=19.2, acc=0.698, AUC=0.757, val_acc=0.692, val_AUC=0.742]\n"
     ]
    },
    {
     "name": "stdout",
     "output_type": "stream",
     "text": [
      "tensor([ 0.1932,  0.0812,  1.0627,  0.0742, -0.0636,  0.0254,  0.4112,  0.1038,\n",
      "         0.5032,  0.2795, -0.1179], device='cuda:0', grad_fn=<DivBackward0>)\n"
     ]
    },
    {
     "name": "stderr",
     "output_type": "stream",
     "text": [
      "Epoch 459: 100%|██████████| 3/3 [00:02<00:00,  1.05it/s, loss=19.2, acc=0.699, AUC=0.759, val_acc=0.677, val_AUC=0.745]\n"
     ]
    },
    {
     "name": "stdout",
     "output_type": "stream",
     "text": [
      "tensor([ 0.1934,  0.0840,  1.0517,  0.0756, -0.0632,  0.0170,  0.4060,  0.1024,\n",
      "         0.4935,  0.2761, -0.1140], device='cuda:0', grad_fn=<DivBackward0>)\n"
     ]
    },
    {
     "name": "stderr",
     "output_type": "stream",
     "text": [
      "Epoch 460: 100%|██████████| 3/3 [00:02<00:00,  1.03it/s, loss=19.2, acc=0.702, AUC=0.757, val_acc=0.689, val_AUC=0.736]\n"
     ]
    },
    {
     "name": "stdout",
     "output_type": "stream",
     "text": [
      "tensor([ 0.1938,  0.0821,  1.0756,  0.0800, -0.0680,  0.0238,  0.4164,  0.0994,\n",
      "         0.5013,  0.2953, -0.1114], device='cuda:0', grad_fn=<DivBackward0>)\n"
     ]
    },
    {
     "name": "stderr",
     "output_type": "stream",
     "text": [
      "Epoch 461: 100%|██████████| 3/3 [00:02<00:00,  1.05it/s, loss=19.2, acc=0.702, AUC=0.758, val_acc=0.674, val_AUC=0.735]\n"
     ]
    },
    {
     "name": "stdout",
     "output_type": "stream",
     "text": [
      "tensor([ 0.1952,  0.0860,  1.0822,  0.0847, -0.0562,  0.0278,  0.4152,  0.1103,\n",
      "         0.5053,  0.2865, -0.1211], device='cuda:0', grad_fn=<DivBackward0>)\n"
     ]
    },
    {
     "name": "stderr",
     "output_type": "stream",
     "text": [
      "Epoch 462: 100%|██████████| 3/3 [00:02<00:00,  1.04it/s, loss=19.1, acc=0.701, AUC=0.76, val_acc=0.674, val_AUC=0.743]\n"
     ]
    },
    {
     "name": "stdout",
     "output_type": "stream",
     "text": [
      "tensor([ 0.1848,  0.0906,  1.0561,  0.0775, -0.0541,  0.0188,  0.4100,  0.0984,\n",
      "         0.5030,  0.2863, -0.1162], device='cuda:0', grad_fn=<DivBackward0>)\n"
     ]
    },
    {
     "name": "stderr",
     "output_type": "stream",
     "text": [
      "Epoch 463: 100%|██████████| 3/3 [00:02<00:00,  1.05it/s, loss=19.2, acc=0.703, AUC=0.761, val_acc=0.686, val_AUC=0.74]\n"
     ]
    },
    {
     "name": "stdout",
     "output_type": "stream",
     "text": [
      "tensor([ 0.1880,  0.0920,  1.0557,  0.0711, -0.0554,  0.0256,  0.3997,  0.1013,\n",
      "         0.4985,  0.2849, -0.1222], device='cuda:0', grad_fn=<DivBackward0>)\n"
     ]
    },
    {
     "name": "stderr",
     "output_type": "stream",
     "text": [
      "Epoch 464: 100%|██████████| 3/3 [00:02<00:00,  1.05it/s, loss=19.3, acc=0.694, AUC=0.756, val_acc=0.695, val_AUC=0.739]\n"
     ]
    },
    {
     "name": "stdout",
     "output_type": "stream",
     "text": [
      "tensor([ 0.1798,  0.0839,  1.0407,  0.0782, -0.0557,  0.0143,  0.3937,  0.1108,\n",
      "         0.4900,  0.2858, -0.1148], device='cuda:0', grad_fn=<DivBackward0>)\n"
     ]
    },
    {
     "name": "stderr",
     "output_type": "stream",
     "text": [
      "Epoch 465: 100%|██████████| 3/3 [00:02<00:00,  1.03it/s, loss=19.1, acc=0.7, AUC=0.76, val_acc=0.683, val_AUC=0.739]\n"
     ]
    },
    {
     "name": "stdout",
     "output_type": "stream",
     "text": [
      "tensor([ 0.1926,  0.0929,  1.0438,  0.0763, -0.0546,  0.0053,  0.3890,  0.1143,\n",
      "         0.4920,  0.2738, -0.1048], device='cuda:0', grad_fn=<DivBackward0>)\n"
     ]
    },
    {
     "name": "stderr",
     "output_type": "stream",
     "text": [
      "Epoch 466: 100%|██████████| 3/3 [00:02<00:00,  1.05it/s, loss=19, acc=0.704, AUC=0.765, val_acc=0.701, val_AUC=0.747]\n"
     ]
    },
    {
     "name": "stdout",
     "output_type": "stream",
     "text": [
      "tensor([ 0.1788,  0.0957,  1.0378,  0.0803, -0.0678,  0.0144,  0.3862,  0.1081,\n",
      "         0.4823,  0.2759, -0.1091], device='cuda:0', grad_fn=<DivBackward0>)\n"
     ]
    },
    {
     "name": "stderr",
     "output_type": "stream",
     "text": [
      "Epoch 467: 100%|██████████| 3/3 [00:02<00:00,  1.05it/s, loss=19.1, acc=0.705, AUC=0.762, val_acc=0.68, val_AUC=0.741]\n"
     ]
    },
    {
     "name": "stdout",
     "output_type": "stream",
     "text": [
      "tensor([ 0.1823,  0.0849,  1.0436,  0.0726, -0.0712,  0.0052,  0.3892,  0.1040,\n",
      "         0.4911,  0.2710, -0.1009], device='cuda:0', grad_fn=<DivBackward0>)\n"
     ]
    },
    {
     "name": "stderr",
     "output_type": "stream",
     "text": [
      "Epoch 468: 100%|██████████| 3/3 [00:02<00:00,  1.05it/s, loss=19.2, acc=0.697, AUC=0.758, val_acc=0.671, val_AUC=0.734]\n"
     ]
    },
    {
     "name": "stdout",
     "output_type": "stream",
     "text": [
      "tensor([ 0.1867,  0.0916,  1.0566,  0.0758, -0.0719,  0.0076,  0.4045,  0.0997,\n",
      "         0.4866,  0.2775, -0.0971], device='cuda:0', grad_fn=<DivBackward0>)\n"
     ]
    },
    {
     "name": "stderr",
     "output_type": "stream",
     "text": [
      "Epoch 469: 100%|██████████| 3/3 [00:02<00:00,  1.05it/s, loss=19.2, acc=0.7, AUC=0.759, val_acc=0.671, val_AUC=0.741]\n"
     ]
    },
    {
     "name": "stdout",
     "output_type": "stream",
     "text": [
      "tensor([ 0.1899,  0.0856,  1.0665,  0.0843, -0.0662,  0.0058,  0.4030,  0.1107,\n",
      "         0.4806,  0.2830, -0.0931], device='cuda:0', grad_fn=<DivBackward0>)\n"
     ]
    },
    {
     "name": "stderr",
     "output_type": "stream",
     "text": [
      "Epoch 470: 100%|██████████| 3/3 [00:02<00:00,  1.03it/s, loss=19.3, acc=0.694, AUC=0.757, val_acc=0.665, val_AUC=0.741]\n"
     ]
    },
    {
     "name": "stdout",
     "output_type": "stream",
     "text": [
      "tensor([ 0.1783,  0.0815,  1.0542,  0.0775, -0.0623,  0.0122,  0.3980,  0.0995,\n",
      "         0.4777,  0.2768, -0.0992], device='cuda:0', grad_fn=<DivBackward0>)\n"
     ]
    },
    {
     "name": "stderr",
     "output_type": "stream",
     "text": [
      "Epoch 471: 100%|██████████| 3/3 [00:02<00:00,  1.05it/s, loss=19.4, acc=0.693, AUC=0.754, val_acc=0.671, val_AUC=0.747]\n"
     ]
    },
    {
     "name": "stdout",
     "output_type": "stream",
     "text": [
      "tensor([ 0.1739,  0.0790,  1.0398,  0.0688, -0.0659,  0.0135,  0.3979,  0.1107,\n",
      "         0.4780,  0.2759, -0.1089], device='cuda:0', grad_fn=<DivBackward0>)\n"
     ]
    },
    {
     "name": "stderr",
     "output_type": "stream",
     "text": [
      "Epoch 472: 100%|██████████| 3/3 [00:02<00:00,  1.05it/s, loss=19.3, acc=0.695, AUC=0.756, val_acc=0.689, val_AUC=0.748]\n"
     ]
    },
    {
     "name": "stdout",
     "output_type": "stream",
     "text": [
      "tensor([ 0.1783,  0.0910,  1.0480,  0.0783, -0.0637,  0.0026,  0.3872,  0.1113,\n",
      "         0.4770,  0.2795, -0.1127], device='cuda:0', grad_fn=<DivBackward0>)\n"
     ]
    },
    {
     "name": "stderr",
     "output_type": "stream",
     "text": [
      "Epoch 473: 100%|██████████| 3/3 [00:02<00:00,  1.05it/s, loss=19.3, acc=0.689, AUC=0.755, val_acc=0.68, val_AUC=0.747]\n"
     ]
    },
    {
     "name": "stdout",
     "output_type": "stream",
     "text": [
      "tensor([ 0.1776,  0.0879,  1.0364,  0.0745, -0.0721,  0.0067,  0.3936,  0.1013,\n",
      "         0.4763,  0.2801, -0.1160], device='cuda:0', grad_fn=<DivBackward0>)\n"
     ]
    },
    {
     "name": "stderr",
     "output_type": "stream",
     "text": [
      "Epoch 474: 100%|██████████| 3/3 [00:02<00:00,  1.05it/s, loss=19.2, acc=0.701, AUC=0.757, val_acc=0.683, val_AUC=0.738]\n"
     ]
    },
    {
     "name": "stdout",
     "output_type": "stream",
     "text": [
      "tensor([ 0.1782,  0.0975,  1.0328,  0.0801, -0.0670,  0.0129,  0.3919,  0.1090,\n",
      "         0.4794,  0.2669, -0.1085], device='cuda:0', grad_fn=<DivBackward0>)\n"
     ]
    },
    {
     "name": "stderr",
     "output_type": "stream",
     "text": [
      "Epoch 475: 100%|██████████| 3/3 [00:02<00:00,  1.03it/s, loss=19.3, acc=0.695, AUC=0.756, val_acc=0.677, val_AUC=0.739]\n"
     ]
    },
    {
     "name": "stdout",
     "output_type": "stream",
     "text": [
      "tensor([ 0.1817,  0.0918,  1.0577,  0.0716, -0.0687,  0.0112,  0.4060,  0.1005,\n",
      "         0.4786,  0.2898, -0.1095], device='cuda:0', grad_fn=<DivBackward0>)\n"
     ]
    },
    {
     "name": "stderr",
     "output_type": "stream",
     "text": [
      "Epoch 476: 100%|██████████| 3/3 [00:02<00:00,  1.05it/s, loss=19.3, acc=0.697, AUC=0.757, val_acc=0.68, val_AUC=0.733]\n"
     ]
    },
    {
     "name": "stdout",
     "output_type": "stream",
     "text": [
      "tensor([ 0.1860,  0.0870,  1.0677,  0.0733, -0.0653,  0.0118,  0.4195,  0.1079,\n",
      "         0.4805,  0.2900, -0.1117], device='cuda:0', grad_fn=<DivBackward0>)\n"
     ]
    },
    {
     "name": "stderr",
     "output_type": "stream",
     "text": [
      "Epoch 477: 100%|██████████| 3/3 [00:02<00:00,  1.04it/s, loss=19.3, acc=0.693, AUC=0.756, val_acc=0.677, val_AUC=0.735]\n"
     ]
    },
    {
     "name": "stdout",
     "output_type": "stream",
     "text": [
      "tensor([ 0.1826,  0.0847,  1.0475,  0.0770, -0.0690,  0.0144,  0.3991,  0.1077,\n",
      "         0.4781,  0.2805, -0.1259], device='cuda:0', grad_fn=<DivBackward0>)\n"
     ]
    },
    {
     "name": "stderr",
     "output_type": "stream",
     "text": [
      "Epoch 478: 100%|██████████| 3/3 [00:02<00:00,  1.04it/s, loss=19.2, acc=0.698, AUC=0.758, val_acc=0.674, val_AUC=0.74]\n"
     ]
    },
    {
     "name": "stdout",
     "output_type": "stream",
     "text": [
      "tensor([ 0.1829,  0.0851,  1.0643,  0.0669, -0.0583,  0.0035,  0.4051,  0.1055,\n",
      "         0.4803,  0.2860, -0.1162], device='cuda:0', grad_fn=<DivBackward0>)\n"
     ]
    },
    {
     "name": "stderr",
     "output_type": "stream",
     "text": [
      "Epoch 479: 100%|██████████| 3/3 [00:02<00:00,  1.05it/s, loss=19.1, acc=0.701, AUC=0.761, val_acc=0.677, val_AUC=0.748]\n"
     ]
    },
    {
     "name": "stdout",
     "output_type": "stream",
     "text": [
      "tensor([ 0.1851,  0.0857,  1.0482,  0.0697, -0.0646,  0.0071,  0.3957,  0.1087,\n",
      "         0.4786,  0.2748, -0.1139], device='cuda:0', grad_fn=<DivBackward0>)\n"
     ]
    },
    {
     "name": "stderr",
     "output_type": "stream",
     "text": [
      "Epoch 480: 100%|██████████| 3/3 [00:02<00:00,  1.03it/s, loss=19.1, acc=0.703, AUC=0.761, val_acc=0.68, val_AUC=0.747]\n"
     ]
    },
    {
     "name": "stdout",
     "output_type": "stream",
     "text": [
      "tensor([ 0.1698,  0.0842,  1.0445,  0.0627, -0.0672,  0.0090,  0.3887,  0.1066,\n",
      "         0.4727,  0.2843, -0.1187], device='cuda:0', grad_fn=<DivBackward0>)\n"
     ]
    },
    {
     "name": "stderr",
     "output_type": "stream",
     "text": [
      "Epoch 481: 100%|██████████| 3/3 [00:02<00:00,  1.05it/s, loss=19.1, acc=0.696, AUC=0.761, val_acc=0.677, val_AUC=0.739]\n"
     ]
    },
    {
     "name": "stdout",
     "output_type": "stream",
     "text": [
      "tensor([ 0.1789,  0.0757,  1.0484,  0.0704, -0.0717,  0.0075,  0.4034,  0.1083,\n",
      "         0.4795,  0.2887, -0.1109], device='cuda:0', grad_fn=<DivBackward0>)\n"
     ]
    },
    {
     "name": "stderr",
     "output_type": "stream",
     "text": [
      "Epoch 482: 100%|██████████| 3/3 [00:02<00:00,  1.04it/s, loss=19.2, acc=0.695, AUC=0.757, val_acc=0.68, val_AUC=0.739]\n"
     ]
    },
    {
     "name": "stdout",
     "output_type": "stream",
     "text": [
      "tensor([ 0.1752,  0.0769,  1.0511,  0.0729, -0.0655,  0.0091,  0.4044,  0.1068,\n",
      "         0.4801,  0.2838, -0.1170], device='cuda:0', grad_fn=<DivBackward0>)\n"
     ]
    },
    {
     "name": "stderr",
     "output_type": "stream",
     "text": [
      "Epoch 483: 100%|██████████| 3/3 [00:02<00:00,  1.05it/s, loss=19.1, acc=0.699, AUC=0.761, val_acc=0.683, val_AUC=0.745]\n"
     ]
    },
    {
     "name": "stdout",
     "output_type": "stream",
     "text": [
      "tensor([ 0.1787,  0.0704,  1.0478,  0.0730, -0.0658,  0.0100,  0.4050,  0.1129,\n",
      "         0.4745,  0.2846, -0.1113], device='cuda:0', grad_fn=<DivBackward0>)\n"
     ]
    },
    {
     "name": "stderr",
     "output_type": "stream",
     "text": [
      "Epoch 484: 100%|██████████| 3/3 [00:02<00:00,  1.05it/s, loss=19.2, acc=0.697, AUC=0.76, val_acc=0.689, val_AUC=0.739]\n"
     ]
    },
    {
     "name": "stdout",
     "output_type": "stream",
     "text": [
      "tensor([ 0.1663,  0.0821,  1.0453,  0.0775, -0.0687,  0.0075,  0.3975,  0.1065,\n",
      "         0.4666,  0.2813, -0.0964], device='cuda:0', grad_fn=<DivBackward0>)\n"
     ]
    },
    {
     "name": "stderr",
     "output_type": "stream",
     "text": [
      "Epoch 485: 100%|██████████| 3/3 [00:02<00:00,  1.02it/s, loss=19.1, acc=0.698, AUC=0.759, val_acc=0.68, val_AUC=0.736]\n"
     ]
    },
    {
     "name": "stdout",
     "output_type": "stream",
     "text": [
      "tensor([ 0.1740,  0.0795,  1.0439,  0.0785, -0.0639, -0.0039,  0.3887,  0.1102,\n",
      "         0.4794,  0.2857, -0.0931], device='cuda:0', grad_fn=<DivBackward0>)\n"
     ]
    },
    {
     "name": "stderr",
     "output_type": "stream",
     "text": [
      "Epoch 486: 100%|██████████| 3/3 [00:02<00:00,  1.05it/s, loss=19.1, acc=0.699, AUC=0.763, val_acc=0.674, val_AUC=0.742]\n"
     ]
    },
    {
     "name": "stdout",
     "output_type": "stream",
     "text": [
      "tensor([ 0.1750,  0.0855,  1.0571,  0.0708, -0.0623,  0.0039,  0.3978,  0.1159,\n",
      "         0.4775,  0.2882, -0.1022], device='cuda:0', grad_fn=<DivBackward0>)\n"
     ]
    },
    {
     "name": "stderr",
     "output_type": "stream",
     "text": [
      "Epoch 487: 100%|██████████| 3/3 [00:02<00:00,  1.05it/s, loss=19.2, acc=0.696, AUC=0.757, val_acc=0.683, val_AUC=0.74]\n"
     ]
    },
    {
     "name": "stdout",
     "output_type": "stream",
     "text": [
      "tensor([ 0.1763,  0.0849,  1.0429,  0.0714, -0.0652, -0.0032,  0.3950,  0.1069,\n",
      "         0.4719,  0.2863, -0.1038], device='cuda:0', grad_fn=<DivBackward0>)\n"
     ]
    },
    {
     "name": "stderr",
     "output_type": "stream",
     "text": [
      "Epoch 488: 100%|██████████| 3/3 [00:02<00:00,  1.05it/s, loss=19.1, acc=0.701, AUC=0.762, val_acc=0.686, val_AUC=0.742]\n"
     ]
    },
    {
     "name": "stdout",
     "output_type": "stream",
     "text": [
      "tensor([ 0.1728,  0.0793,  1.0422,  0.0723, -0.0704,  0.0089,  0.4008,  0.1126,\n",
      "         0.4666,  0.2814, -0.1122], device='cuda:0', grad_fn=<DivBackward0>)\n"
     ]
    },
    {
     "name": "stderr",
     "output_type": "stream",
     "text": [
      "Epoch 489: 100%|██████████| 3/3 [00:02<00:00,  1.05it/s, loss=19.1, acc=0.7, AUC=0.761, val_acc=0.686, val_AUC=0.742]\n"
     ]
    },
    {
     "name": "stdout",
     "output_type": "stream",
     "text": [
      "tensor([ 0.1748,  0.0779,  1.0450,  0.0765, -0.0618, -0.0023,  0.4016,  0.1069,\n",
      "         0.4766,  0.2897, -0.0938], device='cuda:0', grad_fn=<DivBackward0>)\n"
     ]
    },
    {
     "name": "stderr",
     "output_type": "stream",
     "text": [
      "Epoch 490: 100%|██████████| 3/3 [00:02<00:00,  1.03it/s, loss=19.1, acc=0.7, AUC=0.762, val_acc=0.689, val_AUC=0.744]\n"
     ]
    },
    {
     "name": "stdout",
     "output_type": "stream",
     "text": [
      "tensor([ 0.1729,  0.0839,  1.0408,  0.0725, -0.0680,  0.0045,  0.3992,  0.1138,\n",
      "         0.4781,  0.2879, -0.1079], device='cuda:0', grad_fn=<DivBackward0>)\n"
     ]
    },
    {
     "name": "stderr",
     "output_type": "stream",
     "text": [
      "Epoch 491: 100%|██████████| 3/3 [00:02<00:00,  1.05it/s, loss=19.1, acc=0.701, AUC=0.762, val_acc=0.674, val_AUC=0.741]\n"
     ]
    },
    {
     "name": "stdout",
     "output_type": "stream",
     "text": [
      "tensor([ 0.1710,  0.0732,  1.0563,  0.0846, -0.0642,  0.0068,  0.4014,  0.1127,\n",
      "         0.4810,  0.2850, -0.1087], device='cuda:0', grad_fn=<DivBackward0>)\n"
     ]
    },
    {
     "name": "stderr",
     "output_type": "stream",
     "text": [
      "Epoch 492: 100%|██████████| 3/3 [00:02<00:00,  1.05it/s, loss=19.2, acc=0.697, AUC=0.76, val_acc=0.686, val_AUC=0.74]\n"
     ]
    },
    {
     "name": "stdout",
     "output_type": "stream",
     "text": [
      "tensor([ 0.1941,  0.0757,  1.0629,  0.0840, -0.0688,  0.0045,  0.4068,  0.1199,\n",
      "         0.4879,  0.2959, -0.1031], device='cuda:0', grad_fn=<DivBackward0>)\n"
     ]
    },
    {
     "name": "stderr",
     "output_type": "stream",
     "text": [
      "Epoch 493: 100%|██████████| 3/3 [00:02<00:00,  1.05it/s, loss=19.1, acc=0.705, AUC=0.76, val_acc=0.677, val_AUC=0.734]\n"
     ]
    },
    {
     "name": "stdout",
     "output_type": "stream",
     "text": [
      "tensor([ 0.1827,  0.0820,  1.0758,  0.0902, -0.0669,  0.0059,  0.4215,  0.1086,\n",
      "         0.4945,  0.2982, -0.0912], device='cuda:0', grad_fn=<DivBackward0>)\n"
     ]
    },
    {
     "name": "stderr",
     "output_type": "stream",
     "text": [
      "Epoch 494: 100%|██████████| 3/3 [00:02<00:00,  1.05it/s, loss=19.2, acc=0.702, AUC=0.757, val_acc=0.671, val_AUC=0.738]\n"
     ]
    },
    {
     "name": "stdout",
     "output_type": "stream",
     "text": [
      "tensor([ 0.1825,  0.0798,  1.0775,  0.0950, -0.0635,  0.0017,  0.4227,  0.1128,\n",
      "         0.4767,  0.2971, -0.0957], device='cuda:0', grad_fn=<DivBackward0>)\n"
     ]
    },
    {
     "name": "stderr",
     "output_type": "stream",
     "text": [
      "Epoch 495: 100%|██████████| 3/3 [00:02<00:00,  1.03it/s, loss=19.2, acc=0.703, AUC=0.761, val_acc=0.695, val_AUC=0.747]\n"
     ]
    },
    {
     "name": "stdout",
     "output_type": "stream",
     "text": [
      "tensor([ 0.1820,  0.0850,  1.0585,  0.0802, -0.0659, -0.0041,  0.4113,  0.1140,\n",
      "         0.4735,  0.2959, -0.0996], device='cuda:0', grad_fn=<DivBackward0>)\n"
     ]
    },
    {
     "name": "stderr",
     "output_type": "stream",
     "text": [
      "Epoch 496: 100%|██████████| 3/3 [00:02<00:00,  1.05it/s, loss=19.2, acc=0.695, AUC=0.759, val_acc=0.692, val_AUC=0.737]\n"
     ]
    },
    {
     "name": "stdout",
     "output_type": "stream",
     "text": [
      "tensor([ 0.1748,  0.0811,  1.0484,  0.0796, -0.0770, -0.0050,  0.4083,  0.1142,\n",
      "         0.4753,  0.2850, -0.0977], device='cuda:0', grad_fn=<DivBackward0>)\n"
     ]
    },
    {
     "name": "stderr",
     "output_type": "stream",
     "text": [
      "Epoch 497: 100%|██████████| 3/3 [00:02<00:00,  1.05it/s, loss=19.1, acc=0.703, AUC=0.761, val_acc=0.692, val_AUC=0.736]\n"
     ]
    },
    {
     "name": "stdout",
     "output_type": "stream",
     "text": [
      "tensor([ 0.1740,  0.0754,  1.0415,  0.0782, -0.0722,  0.0043,  0.4008,  0.1076,\n",
      "         0.4667,  0.2794, -0.0994], device='cuda:0', grad_fn=<DivBackward0>)\n"
     ]
    },
    {
     "name": "stderr",
     "output_type": "stream",
     "text": [
      "Epoch 498: 100%|██████████| 3/3 [00:02<00:00,  1.05it/s, loss=19.2, acc=0.705, AUC=0.76, val_acc=0.677, val_AUC=0.743]\n"
     ]
    },
    {
     "name": "stdout",
     "output_type": "stream",
     "text": [
      "tensor([ 0.1772,  0.0829,  1.0583,  0.0793, -0.0760, -0.0081,  0.4091,  0.1037,\n",
      "         0.4770,  0.2831, -0.0982], device='cuda:0', grad_fn=<DivBackward0>)\n"
     ]
    },
    {
     "name": "stderr",
     "output_type": "stream",
     "text": [
      "Epoch 499: 100%|██████████| 3/3 [00:02<00:00,  1.05it/s, loss=19.1, acc=0.704, AUC=0.762, val_acc=0.68, val_AUC=0.744]\n"
     ]
    },
    {
     "name": "stdout",
     "output_type": "stream",
     "text": [
      "tensor([ 0.1751,  0.0831,  1.0423,  0.0719, -0.0709,  0.0032,  0.3910,  0.1142,\n",
      "         0.4679,  0.2831, -0.0975], device='cuda:0', grad_fn=<DivBackward0>)\n"
     ]
    },
    {
     "name": "stderr",
     "output_type": "stream",
     "text": [
      "Epoch 500: 100%|██████████| 3/3 [00:02<00:00,  1.03it/s, loss=19.1, acc=0.698, AUC=0.761, val_acc=0.671, val_AUC=0.739]\n"
     ]
    },
    {
     "name": "stdout",
     "output_type": "stream",
     "text": [
      "tensor([ 0.1693,  0.0749,  1.0435,  0.0662, -0.0719, -0.0020,  0.3985,  0.1033,\n",
      "         0.4586,  0.2818, -0.0976], device='cuda:0', grad_fn=<DivBackward0>)\n",
      "test_acc: 0.6693037748336792\n",
      "test_auc: 0.7221699058304949\n",
      "-----------------------------------------\n"
     ]
    },
    {
     "name": "stderr",
     "output_type": "stream",
     "text": [
      "wandb: WARNING Source type is set to 'repo' but some required information is missing from the environment. A job will not be created from this run. See https://docs.wandb.ai/guides/launch/create-job\n"
     ]
    },
    {
     "name": "stdout",
     "output_type": "stream",
     "text": [
      "=================[ 2 Fold ]=================\n",
      "train_data: torch.Size([2980, 11])\n",
      "train_label: torch.Size([2980])\n",
      "validation_data: torch.Size([331, 11])\n",
      "validation_label: torch.Size([331])\n",
      "test_data: torch.Size([1655, 11])\n",
      "test_label: torch.Size([1655])\n",
      "-----------------------------------------\n"
     ]
    },
    {
     "name": "stderr",
     "output_type": "stream",
     "text": [
      "Epoch 1:  67%|██████▋   | 2/3 [00:01<00:00,  1.22it/s]/home/tsou/.conda/envs/pyg/lib/python3.10/site-packages/torcheval/metrics/functional/classification/auroc.py:175: UserWarning: cumsum_cuda_kernel does not have a deterministic implementation, but you set 'torch.use_deterministic_algorithms(True, warn_only=True)'. You can file an issue at https://github.com/pytorch/pytorch/issues to help us prioritize adding deterministic support for this operation. (Triggered internally at ../aten/src/ATen/Context.cpp:82.)\n",
      "  return _binary_auroc_compute_jit(input, target, weight)\n",
      "Epoch 1: 100%|██████████| 3/3 [00:02<00:00,  1.07it/s, loss=25, acc=0.511, AUC=0.512, val_acc=0.52, val_AUC=0.531]\n"
     ]
    },
    {
     "name": "stdout",
     "output_type": "stream",
     "text": [
      "tensor([ 0.0054, -0.0571,  0.3648,  0.0035, -0.0717, -0.0052,  0.1816,  0.1172,\n",
      "         0.1007,  0.1595, -0.0599], device='cuda:0', grad_fn=<DivBackward0>)\n"
     ]
    },
    {
     "name": "stderr",
     "output_type": "stream",
     "text": [
      "Epoch 2: 100%|██████████| 3/3 [00:02<00:00,  1.12it/s, loss=22.9, acc=0.56, AUC=0.588, val_acc=0.541, val_AUC=0.581]\n"
     ]
    },
    {
     "name": "stdout",
     "output_type": "stream",
     "text": [
      "tensor([-0.0518, -0.1485, -0.0226, -0.0139, -0.0796, -0.0422,  0.1109,  0.1317,\n",
      "        -0.1130,  0.0810, -0.0342], device='cuda:0', grad_fn=<DivBackward0>)\n"
     ]
    },
    {
     "name": "stderr",
     "output_type": "stream",
     "text": [
      "Epoch 3: 100%|██████████| 3/3 [00:02<00:00,  1.12it/s, loss=22.7, acc=0.57, AUC=0.6, val_acc=0.562, val_AUC=0.585]\n"
     ]
    },
    {
     "name": "stdout",
     "output_type": "stream",
     "text": [
      "tensor([-0.0608, -0.1461, -0.0268, -0.0030, -0.0670, -0.0205,  0.1381,  0.1175,\n",
      "        -0.1075,  0.0719, -0.0280], device='cuda:0', grad_fn=<DivBackward0>)\n"
     ]
    },
    {
     "name": "stderr",
     "output_type": "stream",
     "text": [
      "Epoch 4: 100%|██████████| 3/3 [00:02<00:00,  1.10it/s, loss=22.3, acc=0.59, AUC=0.619, val_acc=0.601, val_AUC=0.639]\n"
     ]
    },
    {
     "name": "stdout",
     "output_type": "stream",
     "text": [
      "tensor([-0.0641, -0.1844, -0.0293, -0.0141, -0.1003, -0.0567,  0.1231,  0.1299,\n",
      "        -0.1017,  0.0845, -0.0370], device='cuda:0', grad_fn=<DivBackward0>)\n"
     ]
    },
    {
     "name": "stderr",
     "output_type": "stream",
     "text": [
      "Epoch 5: 100%|██████████| 3/3 [00:02<00:00,  1.11it/s, loss=21.7, acc=0.613, AUC=0.651, val_acc=0.622, val_AUC=0.649]\n"
     ]
    },
    {
     "name": "stdout",
     "output_type": "stream",
     "text": [
      "tensor([-0.0819, -0.2224, -0.0819, -0.0283, -0.1216, -0.1298,  0.1370,  0.1821,\n",
      "        -0.0964,  0.0913, -0.0482], device='cuda:0', grad_fn=<DivBackward0>)\n"
     ]
    },
    {
     "name": "stderr",
     "output_type": "stream",
     "text": [
      "Epoch 6: 100%|██████████| 3/3 [00:02<00:00,  1.10it/s, loss=21.6, acc=0.616, AUC=0.665, val_acc=0.659, val_AUC=0.662]\n"
     ]
    },
    {
     "name": "stdout",
     "output_type": "stream",
     "text": [
      "tensor([-0.0823, -0.2599, -0.1416, -0.0477, -0.1547, -0.1875,  0.1463,  0.2213,\n",
      "        -0.1008,  0.0936, -0.0544], device='cuda:0', grad_fn=<DivBackward0>)\n"
     ]
    },
    {
     "name": "stderr",
     "output_type": "stream",
     "text": [
      "Epoch 7: 100%|██████████| 3/3 [00:02<00:00,  1.09it/s, loss=21.7, acc=0.622, AUC=0.662, val_acc=0.607, val_AUC=0.669]\n"
     ]
    },
    {
     "name": "stdout",
     "output_type": "stream",
     "text": [
      "tensor([-0.0857, -0.2797, -0.1754, -0.0552, -0.1637, -0.2152,  0.1446,  0.2224,\n",
      "        -0.0871,  0.1111, -0.0788], device='cuda:0', grad_fn=<DivBackward0>)\n"
     ]
    },
    {
     "name": "stderr",
     "output_type": "stream",
     "text": [
      "Epoch 8: 100%|██████████| 3/3 [00:02<00:00,  1.09it/s, loss=21.8, acc=0.627, AUC=0.664, val_acc=0.592, val_AUC=0.657]\n"
     ]
    },
    {
     "name": "stdout",
     "output_type": "stream",
     "text": [
      "tensor([-0.0643, -0.3321, -0.2192, -0.0560, -0.2039, -0.2188,  0.1253,  0.2228,\n",
      "        -0.0340,  0.1213, -0.1406], device='cuda:0', grad_fn=<DivBackward0>)\n"
     ]
    },
    {
     "name": "stderr",
     "output_type": "stream",
     "text": [
      "Epoch 9: 100%|██████████| 3/3 [00:02<00:00,  1.09it/s, loss=22.8, acc=0.599, AUC=0.636, val_acc=0.647, val_AUC=0.693]\n"
     ]
    },
    {
     "name": "stdout",
     "output_type": "stream",
     "text": [
      "tensor([-0.0176, -0.2598, -0.1661, -0.0333, -0.1368, -0.0313,  0.1694,  0.1364,\n",
      "        -0.0322,  0.0792, -0.1320], device='cuda:0', grad_fn=<DivBackward0>)\n"
     ]
    },
    {
     "name": "stderr",
     "output_type": "stream",
     "text": [
      "Epoch 10: 100%|██████████| 3/3 [00:02<00:00,  1.12it/s, loss=21.6, acc=0.623, AUC=0.667, val_acc=0.631, val_AUC=0.67]\n"
     ]
    },
    {
     "name": "stdout",
     "output_type": "stream",
     "text": [
      "tensor([-0.0517, -0.2671, -0.1866, -0.0615, -0.1120, -0.0681,  0.1885,  0.2005,\n",
      "        -0.1119,  0.0489, -0.1194], device='cuda:0', grad_fn=<DivBackward0>)\n"
     ]
    },
    {
     "name": "stderr",
     "output_type": "stream",
     "text": [
      "Epoch 11: 100%|██████████| 3/3 [00:02<00:00,  1.10it/s, loss=20.9, acc=0.648, AUC=0.699, val_acc=0.595, val_AUC=0.668]\n"
     ]
    },
    {
     "name": "stdout",
     "output_type": "stream",
     "text": [
      "tensor([-0.0749, -0.3152, -0.2353, -0.0822, -0.1516, -0.1518,  0.1876,  0.2431,\n",
      "        -0.1077,  0.0666, -0.1203], device='cuda:0', grad_fn=<DivBackward0>)\n"
     ]
    },
    {
     "name": "stderr",
     "output_type": "stream",
     "text": [
      "Epoch 12: 100%|██████████| 3/3 [00:02<00:00,  1.10it/s, loss=21, acc=0.647, AUC=0.694, val_acc=0.613, val_AUC=0.688]\n"
     ]
    },
    {
     "name": "stdout",
     "output_type": "stream",
     "text": [
      "tensor([-0.0777, -0.3317, -0.2615, -0.0909, -0.1858, -0.1547,  0.1950,  0.2243,\n",
      "        -0.0774,  0.0603, -0.1077], device='cuda:0', grad_fn=<DivBackward0>)\n"
     ]
    },
    {
     "name": "stderr",
     "output_type": "stream",
     "text": [
      "Epoch 13: 100%|██████████| 3/3 [00:02<00:00,  1.10it/s, loss=20.8, acc=0.658, AUC=0.701, val_acc=0.65, val_AUC=0.695]\n"
     ]
    },
    {
     "name": "stdout",
     "output_type": "stream",
     "text": [
      "tensor([-0.0905, -0.3583, -0.2940, -0.0930, -0.1996, -0.1992,  0.1805,  0.2465,\n",
      "        -0.0572,  0.0511, -0.1028], device='cuda:0', grad_fn=<DivBackward0>)\n"
     ]
    },
    {
     "name": "stderr",
     "output_type": "stream",
     "text": [
      "Epoch 14: 100%|██████████| 3/3 [00:02<00:00,  1.07it/s, loss=20.8, acc=0.653, AUC=0.703, val_acc=0.674, val_AUC=0.709]\n"
     ]
    },
    {
     "name": "stdout",
     "output_type": "stream",
     "text": [
      "tensor([-0.1189, -0.3622, -0.3103, -0.1095, -0.1960, -0.2166,  0.1806,  0.2563,\n",
      "        -0.0714,  0.0604, -0.0972], device='cuda:0', grad_fn=<DivBackward0>)\n"
     ]
    },
    {
     "name": "stderr",
     "output_type": "stream",
     "text": [
      "Epoch 15: 100%|██████████| 3/3 [00:02<00:00,  1.09it/s, loss=20.7, acc=0.66, AUC=0.709, val_acc=0.659, val_AUC=0.73]\n"
     ]
    },
    {
     "name": "stdout",
     "output_type": "stream",
     "text": [
      "tensor([-0.1434, -0.3959, -0.3411, -0.1234, -0.1971, -0.2637,  0.1950,  0.2945,\n",
      "        -0.0780,  0.0717, -0.1151], device='cuda:0', grad_fn=<DivBackward0>)\n"
     ]
    },
    {
     "name": "stderr",
     "output_type": "stream",
     "text": [
      "Epoch 16: 100%|██████████| 3/3 [00:02<00:00,  1.08it/s, loss=20.7, acc=0.655, AUC=0.708, val_acc=0.677, val_AUC=0.707]\n"
     ]
    },
    {
     "name": "stdout",
     "output_type": "stream",
     "text": [
      "tensor([-0.1332, -0.4464, -0.4053, -0.1534, -0.2658, -0.2925,  0.2107,  0.2945,\n",
      "        -0.0278,  0.0588, -0.1386], device='cuda:0', grad_fn=<DivBackward0>)\n"
     ]
    },
    {
     "name": "stderr",
     "output_type": "stream",
     "text": [
      "Epoch 17: 100%|██████████| 3/3 [00:02<00:00,  1.08it/s, loss=21.4, acc=0.64, AUC=0.688, val_acc=0.574, val_AUC=0.708]\n"
     ]
    },
    {
     "name": "stdout",
     "output_type": "stream",
     "text": [
      "tensor([-0.1323, -0.4206, -0.4020, -0.1486, -0.2686, -0.2630,  0.2112,  0.2724,\n",
      "        -0.0183,  0.0640, -0.1132], device='cuda:0', grad_fn=<DivBackward0>)\n"
     ]
    },
    {
     "name": "stderr",
     "output_type": "stream",
     "text": [
      "Epoch 18: 100%|██████████| 3/3 [00:02<00:00,  1.09it/s, loss=20.6, acc=0.659, AUC=0.714, val_acc=0.68, val_AUC=0.711]\n"
     ]
    },
    {
     "name": "stdout",
     "output_type": "stream",
     "text": [
      "tensor([-0.1545, -0.3434, -0.3405, -0.1236, -0.1901, -0.1910,  0.2289,  0.2416,\n",
      "        -0.0670,  0.0688, -0.0672], device='cuda:0', grad_fn=<DivBackward0>)\n"
     ]
    },
    {
     "name": "stderr",
     "output_type": "stream",
     "text": [
      "Epoch 19: 100%|██████████| 3/3 [00:02<00:00,  1.06it/s, loss=20.9, acc=0.659, AUC=0.702, val_acc=0.625, val_AUC=0.687]\n"
     ]
    },
    {
     "name": "stdout",
     "output_type": "stream",
     "text": [
      "tensor([-0.1372, -0.3485, -0.3708, -0.1215, -0.2197, -0.2216,  0.2359,  0.2666,\n",
      "        -0.0481,  0.0757, -0.0892], device='cuda:0', grad_fn=<DivBackward0>)\n"
     ]
    },
    {
     "name": "stderr",
     "output_type": "stream",
     "text": [
      "Epoch 20: 100%|██████████| 3/3 [00:02<00:00,  1.08it/s, loss=20.3, acc=0.668, AUC=0.724, val_acc=0.662, val_AUC=0.7]\n"
     ]
    },
    {
     "name": "stdout",
     "output_type": "stream",
     "text": [
      "tensor([-0.1450, -0.3579, -0.4111, -0.1421, -0.2564, -0.2185,  0.2569,  0.2582,\n",
      "        -0.0346,  0.0729, -0.0663], device='cuda:0', grad_fn=<DivBackward0>)\n"
     ]
    },
    {
     "name": "stderr",
     "output_type": "stream",
     "text": [
      "Epoch 21: 100%|██████████| 3/3 [00:02<00:00,  1.08it/s, loss=20.6, acc=0.666, AUC=0.713, val_acc=0.634, val_AUC=0.684]\n"
     ]
    },
    {
     "name": "stdout",
     "output_type": "stream",
     "text": [
      "tensor([-0.1802, -0.3812, -0.4321, -0.1492, -0.2438, -0.2506,  0.2578,  0.2845,\n",
      "        -0.0480,  0.0768, -0.0639], device='cuda:0', grad_fn=<DivBackward0>)\n"
     ]
    },
    {
     "name": "stderr",
     "output_type": "stream",
     "text": [
      "Epoch 22: 100%|██████████| 3/3 [00:02<00:00,  1.08it/s, loss=20.4, acc=0.663, AUC=0.721, val_acc=0.634, val_AUC=0.704]\n"
     ]
    },
    {
     "name": "stdout",
     "output_type": "stream",
     "text": [
      "tensor([-0.1821, -0.3796, -0.4135, -0.1479, -0.2410, -0.2313,  0.2497,  0.2614,\n",
      "        -0.0551,  0.0623, -0.0875], device='cuda:0', grad_fn=<DivBackward0>)\n"
     ]
    },
    {
     "name": "stderr",
     "output_type": "stream",
     "text": [
      "Epoch 23: 100%|██████████| 3/3 [00:02<00:00,  1.09it/s, loss=20.4, acc=0.664, AUC=0.721, val_acc=0.644, val_AUC=0.706]\n"
     ]
    },
    {
     "name": "stdout",
     "output_type": "stream",
     "text": [
      "tensor([-0.1853, -0.3870, -0.4379, -0.1607, -0.2436, -0.2540,  0.2559,  0.2702,\n",
      "        -0.0499,  0.0540, -0.0747], device='cuda:0', grad_fn=<DivBackward0>)\n"
     ]
    },
    {
     "name": "stderr",
     "output_type": "stream",
     "text": [
      "Epoch 24: 100%|██████████| 3/3 [00:02<00:00,  1.06it/s, loss=20.1, acc=0.674, AUC=0.729, val_acc=0.674, val_AUC=0.726]\n"
     ]
    },
    {
     "name": "stdout",
     "output_type": "stream",
     "text": [
      "tensor([-0.2058, -0.3917, -0.4301, -0.1566, -0.2392, -0.2750,  0.2624,  0.2893,\n",
      "        -0.0516,  0.0656, -0.0794], device='cuda:0', grad_fn=<DivBackward0>)\n"
     ]
    },
    {
     "name": "stderr",
     "output_type": "stream",
     "text": [
      "Epoch 25: 100%|██████████| 3/3 [00:02<00:00,  1.08it/s, loss=20.3, acc=0.663, AUC=0.721, val_acc=0.625, val_AUC=0.667]\n"
     ]
    },
    {
     "name": "stdout",
     "output_type": "stream",
     "text": [
      "tensor([-0.2309, -0.3761, -0.4324, -0.1500, -0.2165, -0.2697,  0.2733,  0.2747,\n",
      "        -0.0747,  0.0613, -0.0485], device='cuda:0', grad_fn=<DivBackward0>)\n"
     ]
    },
    {
     "name": "stderr",
     "output_type": "stream",
     "text": [
      "Epoch 26: 100%|██████████| 3/3 [00:02<00:00,  1.08it/s, loss=20.2, acc=0.676, AUC=0.73, val_acc=0.656, val_AUC=0.719]\n"
     ]
    },
    {
     "name": "stdout",
     "output_type": "stream",
     "text": [
      "tensor([-0.2490, -0.4210, -0.4662, -0.1579, -0.2095, -0.3040,  0.2677,  0.3070,\n",
      "        -0.0789,  0.0584, -0.0950], device='cuda:0', grad_fn=<DivBackward0>)\n"
     ]
    },
    {
     "name": "stderr",
     "output_type": "stream",
     "text": [
      "Epoch 27: 100%|██████████| 3/3 [00:02<00:00,  1.08it/s, loss=20.3, acc=0.664, AUC=0.726, val_acc=0.674, val_AUC=0.707]\n"
     ]
    },
    {
     "name": "stdout",
     "output_type": "stream",
     "text": [
      "tensor([-0.2474, -0.4084, -0.4630, -0.1691, -0.2292, -0.2905,  0.2455,  0.2692,\n",
      "        -0.0511,  0.0508, -0.0794], device='cuda:0', grad_fn=<DivBackward0>)\n"
     ]
    },
    {
     "name": "stderr",
     "output_type": "stream",
     "text": [
      "Epoch 28: 100%|██████████| 3/3 [00:02<00:00,  1.08it/s, loss=20, acc=0.678, AUC=0.735, val_acc=0.653, val_AUC=0.724]\n"
     ]
    },
    {
     "name": "stdout",
     "output_type": "stream",
     "text": [
      "tensor([-0.2403, -0.4196, -0.4972, -0.1838, -0.2574, -0.2887,  0.2477,  0.2703,\n",
      "        -0.0496,  0.0647, -0.0851], device='cuda:0', grad_fn=<DivBackward0>)\n"
     ]
    },
    {
     "name": "stderr",
     "output_type": "stream",
     "text": [
      "Epoch 29: 100%|██████████| 3/3 [00:02<00:00,  1.06it/s, loss=20.1, acc=0.678, AUC=0.732, val_acc=0.653, val_AUC=0.697]\n"
     ]
    },
    {
     "name": "stdout",
     "output_type": "stream",
     "text": [
      "tensor([-0.2601, -0.4164, -0.4962, -0.1976, -0.2618, -0.2670,  0.2493,  0.2457,\n",
      "        -0.0419,  0.0576, -0.0606], device='cuda:0', grad_fn=<DivBackward0>)\n"
     ]
    },
    {
     "name": "stderr",
     "output_type": "stream",
     "text": [
      "Epoch 30: 100%|██████████| 3/3 [00:02<00:00,  1.09it/s, loss=20.3, acc=0.663, AUC=0.723, val_acc=0.653, val_AUC=0.697]\n"
     ]
    },
    {
     "name": "stdout",
     "output_type": "stream",
     "text": [
      "tensor([-0.2541, -0.4133, -0.5005, -0.2138, -0.2444, -0.2653,  0.2727,  0.2610,\n",
      "        -0.0459,  0.0476, -0.0551], device='cuda:0', grad_fn=<DivBackward0>)\n"
     ]
    },
    {
     "name": "stderr",
     "output_type": "stream",
     "text": [
      "Epoch 31: 100%|██████████| 3/3 [00:02<00:00,  1.09it/s, loss=19.9, acc=0.679, AUC=0.737, val_acc=0.674, val_AUC=0.712]\n"
     ]
    },
    {
     "name": "stdout",
     "output_type": "stream",
     "text": [
      "tensor([-0.2536, -0.4192, -0.5304, -0.2026, -0.2852, -0.2614,  0.2652,  0.2549,\n",
      "        -0.0218,  0.0519, -0.0598], device='cuda:0', grad_fn=<DivBackward0>)\n"
     ]
    },
    {
     "name": "stderr",
     "output_type": "stream",
     "text": [
      "Epoch 32: 100%|██████████| 3/3 [00:02<00:00,  1.08it/s, loss=20.2, acc=0.675, AUC=0.729, val_acc=0.656, val_AUC=0.715]\n"
     ]
    },
    {
     "name": "stdout",
     "output_type": "stream",
     "text": [
      "tensor([-0.2629, -0.4140, -0.5215, -0.2032, -0.2864, -0.2758,  0.2815,  0.2601,\n",
      "        -0.0047,  0.0493, -0.0504], device='cuda:0', grad_fn=<DivBackward0>)\n"
     ]
    },
    {
     "name": "stderr",
     "output_type": "stream",
     "text": [
      "Epoch 33: 100%|██████████| 3/3 [00:02<00:00,  1.09it/s, loss=20.2, acc=0.673, AUC=0.727, val_acc=0.665, val_AUC=0.694]\n"
     ]
    },
    {
     "name": "stdout",
     "output_type": "stream",
     "text": [
      "tensor([-0.2604, -0.4050, -0.4967, -0.1946, -0.2594, -0.2798,  0.2531,  0.2358,\n",
      "        -0.0155,  0.0303, -0.0725], device='cuda:0', grad_fn=<DivBackward0>)\n"
     ]
    },
    {
     "name": "stderr",
     "output_type": "stream",
     "text": [
      "Epoch 34: 100%|██████████| 3/3 [00:02<00:00,  1.07it/s, loss=20.2, acc=0.673, AUC=0.729, val_acc=0.65, val_AUC=0.703]\n"
     ]
    },
    {
     "name": "stdout",
     "output_type": "stream",
     "text": [
      "tensor([-0.2680, -0.3830, -0.5089, -0.1935, -0.2624, -0.2618,  0.2635,  0.2259,\n",
      "         0.0026,  0.0255, -0.0572], device='cuda:0', grad_fn=<DivBackward0>)\n"
     ]
    },
    {
     "name": "stderr",
     "output_type": "stream",
     "text": [
      "Epoch 35: 100%|██████████| 3/3 [00:02<00:00,  1.08it/s, loss=20.1, acc=0.68, AUC=0.733, val_acc=0.665, val_AUC=0.704]\n"
     ]
    },
    {
     "name": "stdout",
     "output_type": "stream",
     "text": [
      "tensor([-0.2812, -0.4305, -0.5076, -0.2021, -0.2500, -0.2786,  0.3012,  0.2757,\n",
      "        -0.0205,  0.0449, -0.0610], device='cuda:0', grad_fn=<DivBackward0>)\n"
     ]
    },
    {
     "name": "stderr",
     "output_type": "stream",
     "text": [
      "Epoch 36: 100%|██████████| 3/3 [00:02<00:00,  1.08it/s, loss=20, acc=0.678, AUC=0.733, val_acc=0.644, val_AUC=0.701]\n"
     ]
    },
    {
     "name": "stdout",
     "output_type": "stream",
     "text": [
      "tensor([-0.2722, -0.4202, -0.5010, -0.2028, -0.2519, -0.2607,  0.2888,  0.2485,\n",
      "         0.0076,  0.0399, -0.0609], device='cuda:0', grad_fn=<DivBackward0>)\n"
     ]
    },
    {
     "name": "stderr",
     "output_type": "stream",
     "text": [
      "Epoch 37: 100%|██████████| 3/3 [00:02<00:00,  1.09it/s, loss=19.9, acc=0.676, AUC=0.737, val_acc=0.644, val_AUC=0.705]\n"
     ]
    },
    {
     "name": "stdout",
     "output_type": "stream",
     "text": [
      "tensor([-0.2660, -0.3901, -0.4907, -0.1959, -0.2524, -0.2416,  0.2826,  0.2152,\n",
      "         0.0081,  0.0371, -0.0414], device='cuda:0', grad_fn=<DivBackward0>)\n"
     ]
    },
    {
     "name": "stderr",
     "output_type": "stream",
     "text": [
      "Epoch 38: 100%|██████████| 3/3 [00:02<00:00,  1.08it/s, loss=20.1, acc=0.673, AUC=0.731, val_acc=0.619, val_AUC=0.707]\n"
     ]
    },
    {
     "name": "stdout",
     "output_type": "stream",
     "text": [
      "tensor([-0.2610, -0.4072, -0.5092, -0.1850, -0.2637, -0.2563,  0.2919,  0.2435,\n",
      "         0.0015,  0.0436, -0.0412], device='cuda:0', grad_fn=<DivBackward0>)\n"
     ]
    },
    {
     "name": "stderr",
     "output_type": "stream",
     "text": [
      "Epoch 39: 100%|██████████| 3/3 [00:02<00:00,  1.06it/s, loss=20, acc=0.677, AUC=0.737, val_acc=0.671, val_AUC=0.696]\n"
     ]
    },
    {
     "name": "stdout",
     "output_type": "stream",
     "text": [
      "tensor([-0.2609, -0.4117, -0.5230, -0.2030, -0.2627, -0.2116,  0.3317,  0.2235,\n",
      "         0.0236,  0.0385, -0.0106], device='cuda:0', grad_fn=<DivBackward0>)\n"
     ]
    },
    {
     "name": "stderr",
     "output_type": "stream",
     "text": [
      "Epoch 40: 100%|██████████| 3/3 [00:02<00:00,  1.08it/s, loss=20.1, acc=0.68, AUC=0.732, val_acc=0.677, val_AUC=0.722]\n"
     ]
    },
    {
     "name": "stdout",
     "output_type": "stream",
     "text": [
      "tensor([-0.2713, -0.4129, -0.5131, -0.1928, -0.2771, -0.2140,  0.3211,  0.2330,\n",
      "         0.0345,  0.0204, -0.0286], device='cuda:0', grad_fn=<DivBackward0>)\n"
     ]
    },
    {
     "name": "stderr",
     "output_type": "stream",
     "text": [
      "Epoch 41: 100%|██████████| 3/3 [00:02<00:00,  1.09it/s, loss=20, acc=0.684, AUC=0.737, val_acc=0.644, val_AUC=0.707]\n"
     ]
    },
    {
     "name": "stdout",
     "output_type": "stream",
     "text": [
      "tensor([-0.2936, -0.4178, -0.4807, -0.1830, -0.2312, -0.1850,  0.3136,  0.2027,\n",
      "         0.0253,  0.0180, -0.0387], device='cuda:0', grad_fn=<DivBackward0>)\n"
     ]
    },
    {
     "name": "stderr",
     "output_type": "stream",
     "text": [
      "Epoch 42: 100%|██████████| 3/3 [00:02<00:00,  1.09it/s, loss=20.1, acc=0.673, AUC=0.732, val_acc=0.644, val_AUC=0.701]\n"
     ]
    },
    {
     "name": "stdout",
     "output_type": "stream",
     "text": [
      "tensor([-3.1168e-01, -4.2708e-01, -5.1760e-01, -2.0726e-01, -2.3283e-01,\n",
      "        -1.9473e-01,  3.5161e-01,  2.1788e-01,  1.2603e-02,  2.6071e-02,\n",
      "         3.8965e-04], device='cuda:0', grad_fn=<DivBackward0>)\n"
     ]
    },
    {
     "name": "stderr",
     "output_type": "stream",
     "text": [
      "Epoch 43: 100%|██████████| 3/3 [00:02<00:00,  1.08it/s, loss=20.1, acc=0.676, AUC=0.733, val_acc=0.677, val_AUC=0.712]\n"
     ]
    },
    {
     "name": "stdout",
     "output_type": "stream",
     "text": [
      "tensor([-0.3200, -0.4571, -0.5497, -0.2263, -0.2355, -0.2175,  0.3732,  0.2387,\n",
      "         0.0046,  0.0268,  0.0147], device='cuda:0', grad_fn=<DivBackward0>)\n"
     ]
    },
    {
     "name": "stderr",
     "output_type": "stream",
     "text": [
      "Epoch 44: 100%|██████████| 3/3 [00:02<00:00,  1.07it/s, loss=20.1, acc=0.67, AUC=0.732, val_acc=0.674, val_AUC=0.714]\n"
     ]
    },
    {
     "name": "stdout",
     "output_type": "stream",
     "text": [
      "tensor([-0.3187, -0.4626, -0.5490, -0.2243, -0.2568, -0.2251,  0.3347,  0.2427,\n",
      "         0.0200,  0.0122, -0.0391], device='cuda:0', grad_fn=<DivBackward0>)\n"
     ]
    },
    {
     "name": "stderr",
     "output_type": "stream",
     "text": [
      "Epoch 45: 100%|██████████| 3/3 [00:02<00:00,  1.09it/s, loss=19.9, acc=0.676, AUC=0.738, val_acc=0.677, val_AUC=0.721]\n"
     ]
    },
    {
     "name": "stdout",
     "output_type": "stream",
     "text": [
      "tensor([-0.3179, -0.4700, -0.5279, -0.2201, -0.2430, -0.2273,  0.3259,  0.2485,\n",
      "         0.0273,  0.0189, -0.0781], device='cuda:0', grad_fn=<DivBackward0>)\n"
     ]
    },
    {
     "name": "stderr",
     "output_type": "stream",
     "text": [
      "Epoch 46: 100%|██████████| 3/3 [00:02<00:00,  1.08it/s, loss=20, acc=0.679, AUC=0.734, val_acc=0.674, val_AUC=0.723]\n"
     ]
    },
    {
     "name": "stdout",
     "output_type": "stream",
     "text": [
      "tensor([-0.3364, -0.4637, -0.5276, -0.2164, -0.2359, -0.2546,  0.3171,  0.2610,\n",
      "         0.0128,  0.0192, -0.0744], device='cuda:0', grad_fn=<DivBackward0>)\n"
     ]
    },
    {
     "name": "stderr",
     "output_type": "stream",
     "text": [
      "Epoch 47: 100%|██████████| 3/3 [00:02<00:00,  1.08it/s, loss=19.8, acc=0.672, AUC=0.741, val_acc=0.656, val_AUC=0.704]\n"
     ]
    },
    {
     "name": "stdout",
     "output_type": "stream",
     "text": [
      "tensor([-0.3656, -0.5004, -0.5406, -0.2233, -0.2257, -0.2931,  0.3109,  0.3031,\n",
      "        -0.0140,  0.0154, -0.0984], device='cuda:0', grad_fn=<DivBackward0>)\n"
     ]
    },
    {
     "name": "stderr",
     "output_type": "stream",
     "text": [
      "Epoch 48: 100%|██████████| 3/3 [00:02<00:00,  1.08it/s, loss=19.9, acc=0.686, AUC=0.738, val_acc=0.64, val_AUC=0.713]\n"
     ]
    },
    {
     "name": "stdout",
     "output_type": "stream",
     "text": [
      "tensor([-0.3526, -0.4950, -0.5577, -0.2381, -0.2511, -0.3059,  0.3160,  0.2849,\n",
      "         0.0061,  0.0136, -0.0974], device='cuda:0', grad_fn=<DivBackward0>)\n"
     ]
    },
    {
     "name": "stderr",
     "output_type": "stream",
     "text": [
      "Epoch 49: 100%|██████████| 3/3 [00:02<00:00,  1.06it/s, loss=20, acc=0.682, AUC=0.737, val_acc=0.665, val_AUC=0.695]\n"
     ]
    },
    {
     "name": "stdout",
     "output_type": "stream",
     "text": [
      "tensor([-0.3502, -0.5141, -0.5742, -0.2513, -0.2574, -0.3277,  0.3423,  0.3047,\n",
      "         0.0086,  0.0310, -0.0870], device='cuda:0', grad_fn=<DivBackward0>)\n"
     ]
    },
    {
     "name": "stderr",
     "output_type": "stream",
     "text": [
      "Epoch 50: 100%|██████████| 3/3 [00:02<00:00,  1.08it/s, loss=19.8, acc=0.685, AUC=0.743, val_acc=0.68, val_AUC=0.738]\n"
     ]
    },
    {
     "name": "stdout",
     "output_type": "stream",
     "text": [
      "tensor([-0.3667, -0.4916, -0.5734, -0.2468, -0.2545, -0.3221,  0.3464,  0.2953,\n",
      "         0.0063,  0.0400, -0.0641], device='cuda:0', grad_fn=<DivBackward0>)\n"
     ]
    },
    {
     "name": "stderr",
     "output_type": "stream",
     "text": [
      "Epoch 51: 100%|██████████| 3/3 [00:02<00:00,  1.08it/s, loss=19.9, acc=0.688, AUC=0.74, val_acc=0.662, val_AUC=0.712]\n"
     ]
    },
    {
     "name": "stdout",
     "output_type": "stream",
     "text": [
      "tensor([-0.3504, -0.4772, -0.5457, -0.2205, -0.2604, -0.2634,  0.3287,  0.2498,\n",
      "         0.0400,  0.0272, -0.0782], device='cuda:0', grad_fn=<DivBackward0>)\n"
     ]
    },
    {
     "name": "stderr",
     "output_type": "stream",
     "text": [
      "Epoch 52: 100%|██████████| 3/3 [00:02<00:00,  1.09it/s, loss=19.8, acc=0.681, AUC=0.744, val_acc=0.656, val_AUC=0.702]\n"
     ]
    },
    {
     "name": "stdout",
     "output_type": "stream",
     "text": [
      "tensor([-0.3718, -0.4653, -0.5184, -0.2101, -0.2359, -0.2504,  0.3271,  0.2439,\n",
      "         0.0206,  0.0220, -0.0733], device='cuda:0', grad_fn=<DivBackward0>)\n"
     ]
    },
    {
     "name": "stderr",
     "output_type": "stream",
     "text": [
      "Epoch 53: 100%|██████████| 3/3 [00:02<00:00,  1.08it/s, loss=19.8, acc=0.683, AUC=0.743, val_acc=0.677, val_AUC=0.71]\n"
     ]
    },
    {
     "name": "stdout",
     "output_type": "stream",
     "text": [
      "tensor([-0.3571, -0.4615, -0.5118, -0.2052, -0.2308, -0.2584,  0.3364,  0.2578,\n",
      "         0.0122,  0.0387, -0.0754], device='cuda:0', grad_fn=<DivBackward0>)\n"
     ]
    },
    {
     "name": "stderr",
     "output_type": "stream",
     "text": [
      "Epoch 54: 100%|██████████| 3/3 [00:02<00:00,  1.06it/s, loss=19.8, acc=0.681, AUC=0.74, val_acc=0.665, val_AUC=0.697]\n"
     ]
    },
    {
     "name": "stdout",
     "output_type": "stream",
     "text": [
      "tensor([-0.3702, -0.4905, -0.5287, -0.2176, -0.2291, -0.2746,  0.3278,  0.2787,\n",
      "         0.0187,  0.0283, -0.1060], device='cuda:0', grad_fn=<DivBackward0>)\n"
     ]
    },
    {
     "name": "stderr",
     "output_type": "stream",
     "text": [
      "Epoch 55: 100%|██████████| 3/3 [00:02<00:00,  1.08it/s, loss=19.9, acc=0.676, AUC=0.738, val_acc=0.674, val_AUC=0.716]\n"
     ]
    },
    {
     "name": "stdout",
     "output_type": "stream",
     "text": [
      "tensor([-0.3735, -0.4969, -0.5301, -0.2326, -0.2224, -0.3038,  0.3344,  0.2916,\n",
      "        -0.0011,  0.0369, -0.0971], device='cuda:0', grad_fn=<DivBackward0>)\n"
     ]
    },
    {
     "name": "stderr",
     "output_type": "stream",
     "text": [
      "Epoch 56: 100%|██████████| 3/3 [00:02<00:00,  1.08it/s, loss=19.9, acc=0.681, AUC=0.739, val_acc=0.653, val_AUC=0.709]\n"
     ]
    },
    {
     "name": "stdout",
     "output_type": "stream",
     "text": [
      "tensor([-0.3937, -0.5078, -0.5641, -0.2333, -0.2386, -0.3410,  0.3471,  0.3325,\n",
      "        -0.0030,  0.0325, -0.0851], device='cuda:0', grad_fn=<DivBackward0>)\n"
     ]
    },
    {
     "name": "stderr",
     "output_type": "stream",
     "text": [
      "Epoch 57: 100%|██████████| 3/3 [00:02<00:00,  1.08it/s, loss=19.8, acc=0.681, AUC=0.742, val_acc=0.653, val_AUC=0.711]\n"
     ]
    },
    {
     "name": "stdout",
     "output_type": "stream",
     "text": [
      "tensor([-0.3684, -0.4849, -0.5562, -0.2338, -0.2385, -0.2861,  0.3301,  0.2772,\n",
      "         0.0292,  0.0443, -0.0840], device='cuda:0', grad_fn=<DivBackward0>)\n"
     ]
    },
    {
     "name": "stderr",
     "output_type": "stream",
     "text": [
      "Epoch 58: 100%|██████████| 3/3 [00:02<00:00,  1.08it/s, loss=19.7, acc=0.681, AUC=0.744, val_acc=0.665, val_AUC=0.709]\n"
     ]
    },
    {
     "name": "stdout",
     "output_type": "stream",
     "text": [
      "tensor([-0.3795, -0.4596, -0.5358, -0.2296, -0.2522, -0.2749,  0.3382,  0.2685,\n",
      "         0.0186,  0.0228, -0.0709], device='cuda:0', grad_fn=<DivBackward0>)\n"
     ]
    },
    {
     "name": "stderr",
     "output_type": "stream",
     "text": [
      "Epoch 59: 100%|██████████| 3/3 [00:02<00:00,  1.06it/s, loss=19.8, acc=0.678, AUC=0.741, val_acc=0.674, val_AUC=0.726]\n"
     ]
    },
    {
     "name": "stdout",
     "output_type": "stream",
     "text": [
      "tensor([-0.4073, -0.4899, -0.5509, -0.2501, -0.2361, -0.3257,  0.3426,  0.3192,\n",
      "        -0.0056,  0.0265, -0.0820], device='cuda:0', grad_fn=<DivBackward0>)\n"
     ]
    },
    {
     "name": "stderr",
     "output_type": "stream",
     "text": [
      "Epoch 60: 100%|██████████| 3/3 [00:02<00:00,  1.08it/s, loss=19.9, acc=0.681, AUC=0.741, val_acc=0.644, val_AUC=0.706]\n"
     ]
    },
    {
     "name": "stdout",
     "output_type": "stream",
     "text": [
      "tensor([-0.3967, -0.4619, -0.5413, -0.2339, -0.2402, -0.3058,  0.3382,  0.2944,\n",
      "         0.0012,  0.0291, -0.0777], device='cuda:0', grad_fn=<DivBackward0>)\n"
     ]
    },
    {
     "name": "stderr",
     "output_type": "stream",
     "text": [
      "Epoch 61: 100%|██████████| 3/3 [00:02<00:00,  1.08it/s, loss=19.8, acc=0.678, AUC=0.742, val_acc=0.68, val_AUC=0.717]\n"
     ]
    },
    {
     "name": "stdout",
     "output_type": "stream",
     "text": [
      "tensor([-0.3908, -0.4578, -0.5338, -0.2219, -0.2490, -0.2820,  0.3170,  0.2437,\n",
      "         0.0221,  0.0286, -0.0643], device='cuda:0', grad_fn=<DivBackward0>)\n"
     ]
    },
    {
     "name": "stderr",
     "output_type": "stream",
     "text": [
      "Epoch 62: 100%|██████████| 3/3 [00:02<00:00,  1.08it/s, loss=19.8, acc=0.675, AUC=0.74, val_acc=0.659, val_AUC=0.693]\n"
     ]
    },
    {
     "name": "stdout",
     "output_type": "stream",
     "text": [
      "tensor([-0.3893, -0.4700, -0.5542, -0.2414, -0.2477, -0.3002,  0.3328,  0.2673,\n",
      "         0.0350,  0.0256, -0.0690], device='cuda:0', grad_fn=<DivBackward0>)\n"
     ]
    },
    {
     "name": "stderr",
     "output_type": "stream",
     "text": [
      "Epoch 63: 100%|██████████| 3/3 [00:02<00:00,  1.08it/s, loss=19.7, acc=0.679, AUC=0.745, val_acc=0.656, val_AUC=0.711]\n"
     ]
    },
    {
     "name": "stdout",
     "output_type": "stream",
     "text": [
      "tensor([-0.3916, -0.4799, -0.5526, -0.2388, -0.2624, -0.2908,  0.3286,  0.2868,\n",
      "         0.0302,  0.0110, -0.0825], device='cuda:0', grad_fn=<DivBackward0>)\n"
     ]
    },
    {
     "name": "stderr",
     "output_type": "stream",
     "text": [
      "Epoch 64: 100%|██████████| 3/3 [00:02<00:00,  1.06it/s, loss=19.7, acc=0.678, AUC=0.747, val_acc=0.662, val_AUC=0.709]\n"
     ]
    },
    {
     "name": "stdout",
     "output_type": "stream",
     "text": [
      "tensor([-0.4042, -0.4781, -0.5561, -0.2501, -0.2597, -0.3116,  0.3357,  0.2918,\n",
      "         0.0192,  0.0263, -0.0862], device='cuda:0', grad_fn=<DivBackward0>)\n"
     ]
    },
    {
     "name": "stderr",
     "output_type": "stream",
     "text": [
      "Epoch 65: 100%|██████████| 3/3 [00:02<00:00,  1.08it/s, loss=19.7, acc=0.684, AUC=0.745, val_acc=0.619, val_AUC=0.692]\n"
     ]
    },
    {
     "name": "stdout",
     "output_type": "stream",
     "text": [
      "tensor([-0.3932, -0.4665, -0.5639, -0.2506, -0.2725, -0.2870,  0.3285,  0.2562,\n",
      "         0.0381,  0.0249, -0.0801], device='cuda:0', grad_fn=<DivBackward0>)\n"
     ]
    },
    {
     "name": "stderr",
     "output_type": "stream",
     "text": [
      "Epoch 66: 100%|██████████| 3/3 [00:02<00:00,  1.08it/s, loss=19.8, acc=0.686, AUC=0.743, val_acc=0.656, val_AUC=0.713]\n"
     ]
    },
    {
     "name": "stdout",
     "output_type": "stream",
     "text": [
      "tensor([-0.4086, -0.4818, -0.5737, -0.2517, -0.2606, -0.3275,  0.3372,  0.2874,\n",
      "         0.0256,  0.0305, -0.0838], device='cuda:0', grad_fn=<DivBackward0>)\n"
     ]
    },
    {
     "name": "stderr",
     "output_type": "stream",
     "text": [
      "Epoch 67: 100%|██████████| 3/3 [00:02<00:00,  1.08it/s, loss=19.7, acc=0.677, AUC=0.743, val_acc=0.647, val_AUC=0.711]\n"
     ]
    },
    {
     "name": "stdout",
     "output_type": "stream",
     "text": [
      "tensor([-0.4121, -0.4728, -0.5688, -0.2535, -0.2635, -0.3031,  0.3482,  0.2935,\n",
      "         0.0249,  0.0159, -0.0892], device='cuda:0', grad_fn=<DivBackward0>)\n"
     ]
    },
    {
     "name": "stderr",
     "output_type": "stream",
     "text": [
      "Epoch 68: 100%|██████████| 3/3 [00:02<00:00,  1.08it/s, loss=19.7, acc=0.682, AUC=0.745, val_acc=0.637, val_AUC=0.708]\n"
     ]
    },
    {
     "name": "stdout",
     "output_type": "stream",
     "text": [
      "tensor([-0.4232, -0.4770, -0.5695, -0.2499, -0.2602, -0.3214,  0.3389,  0.2950,\n",
      "         0.0228,  0.0247, -0.0758], device='cuda:0', grad_fn=<DivBackward0>)\n"
     ]
    },
    {
     "name": "stderr",
     "output_type": "stream",
     "text": [
      "Epoch 69: 100%|██████████| 3/3 [00:02<00:00,  1.06it/s, loss=19.8, acc=0.686, AUC=0.744, val_acc=0.65, val_AUC=0.722]\n"
     ]
    },
    {
     "name": "stdout",
     "output_type": "stream",
     "text": [
      "tensor([-0.4233, -0.4936, -0.5848, -0.2686, -0.2505, -0.3083,  0.3638,  0.2873,\n",
      "         0.0127,  0.0353, -0.0642], device='cuda:0', grad_fn=<DivBackward0>)\n"
     ]
    },
    {
     "name": "stderr",
     "output_type": "stream",
     "text": [
      "Epoch 70: 100%|██████████| 3/3 [00:02<00:00,  1.08it/s, loss=19.7, acc=0.684, AUC=0.746, val_acc=0.659, val_AUC=0.706]\n"
     ]
    },
    {
     "name": "stdout",
     "output_type": "stream",
     "text": [
      "tensor([-0.4343, -0.4583, -0.5379, -0.2567, -0.2102, -0.2790,  0.3557,  0.2981,\n",
      "        -0.0154,  0.0218, -0.0614], device='cuda:0', grad_fn=<DivBackward0>)\n"
     ]
    },
    {
     "name": "stderr",
     "output_type": "stream",
     "text": [
      "Epoch 71: 100%|██████████| 3/3 [00:02<00:00,  1.08it/s, loss=19.8, acc=0.679, AUC=0.741, val_acc=0.671, val_AUC=0.716]\n"
     ]
    },
    {
     "name": "stdout",
     "output_type": "stream",
     "text": [
      "tensor([-0.4018, -0.4436, -0.5352, -0.2501, -0.2186, -0.2578,  0.3366,  0.2699,\n",
      "         0.0026,  0.0267, -0.0538], device='cuda:0', grad_fn=<DivBackward0>)\n"
     ]
    },
    {
     "name": "stderr",
     "output_type": "stream",
     "text": [
      "Epoch 72: 100%|██████████| 3/3 [00:02<00:00,  1.08it/s, loss=19.6, acc=0.687, AUC=0.749, val_acc=0.656, val_AUC=0.702]\n"
     ]
    },
    {
     "name": "stdout",
     "output_type": "stream",
     "text": [
      "tensor([-0.3902, -0.4551, -0.5491, -0.2529, -0.2532, -0.2702,  0.3549,  0.2752,\n",
      "         0.0166,  0.0361, -0.0577], device='cuda:0', grad_fn=<DivBackward0>)\n"
     ]
    },
    {
     "name": "stderr",
     "output_type": "stream",
     "text": [
      "Epoch 73: 100%|██████████| 3/3 [00:02<00:00,  1.08it/s, loss=19.8, acc=0.68, AUC=0.743, val_acc=0.659, val_AUC=0.717]\n"
     ]
    },
    {
     "name": "stdout",
     "output_type": "stream",
     "text": [
      "tensor([-0.4221, -0.4789, -0.5692, -0.2660, -0.2489, -0.3011,  0.3535,  0.2992,\n",
      "         0.0049,  0.0346, -0.0802], device='cuda:0', grad_fn=<DivBackward0>)\n"
     ]
    },
    {
     "name": "stderr",
     "output_type": "stream",
     "text": [
      "Epoch 74: 100%|██████████| 3/3 [00:02<00:00,  1.06it/s, loss=19.7, acc=0.682, AUC=0.745, val_acc=0.662, val_AUC=0.714]\n"
     ]
    },
    {
     "name": "stdout",
     "output_type": "stream",
     "text": [
      "tensor([-0.4243, -0.4738, -0.5562, -0.2653, -0.2393, -0.3106,  0.3572,  0.3018,\n",
      "        -0.0132,  0.0285, -0.0848], device='cuda:0', grad_fn=<DivBackward0>)\n"
     ]
    },
    {
     "name": "stderr",
     "output_type": "stream",
     "text": [
      "Epoch 75: 100%|██████████| 3/3 [00:02<00:00,  1.08it/s, loss=19.7, acc=0.683, AUC=0.743, val_acc=0.64, val_AUC=0.699]\n"
     ]
    },
    {
     "name": "stdout",
     "output_type": "stream",
     "text": [
      "tensor([-4.1510e-01, -4.5575e-01, -5.5446e-01, -2.5067e-01, -2.4544e-01,\n",
      "        -2.9251e-01,  3.4890e-01,  2.8847e-01, -3.4588e-04,  2.9595e-02,\n",
      "        -6.7332e-02], device='cuda:0', grad_fn=<DivBackward0>)\n"
     ]
    },
    {
     "name": "stderr",
     "output_type": "stream",
     "text": [
      "Epoch 76: 100%|██████████| 3/3 [00:02<00:00,  1.07it/s, loss=19.6, acc=0.685, AUC=0.747, val_acc=0.671, val_AUC=0.719]\n"
     ]
    },
    {
     "name": "stdout",
     "output_type": "stream",
     "text": [
      "tensor([-0.4323, -0.4489, -0.5564, -0.2496, -0.2542, -0.2973,  0.3509,  0.2909,\n",
      "        -0.0016,  0.0302, -0.0806], device='cuda:0', grad_fn=<DivBackward0>)\n"
     ]
    },
    {
     "name": "stderr",
     "output_type": "stream",
     "text": [
      "Epoch 77: 100%|██████████| 3/3 [00:02<00:00,  1.08it/s, loss=19.7, acc=0.687, AUC=0.747, val_acc=0.656, val_AUC=0.71]\n"
     ]
    },
    {
     "name": "stdout",
     "output_type": "stream",
     "text": [
      "tensor([-0.4392, -0.4563, -0.5548, -0.2584, -0.2549, -0.3045,  0.3447,  0.2787,\n",
      "         0.0097,  0.0357, -0.0782], device='cuda:0', grad_fn=<DivBackward0>)\n"
     ]
    },
    {
     "name": "stderr",
     "output_type": "stream",
     "text": [
      "Epoch 78: 100%|██████████| 3/3 [00:02<00:00,  1.08it/s, loss=19.8, acc=0.681, AUC=0.744, val_acc=0.671, val_AUC=0.707]\n"
     ]
    },
    {
     "name": "stdout",
     "output_type": "stream",
     "text": [
      "tensor([-4.5498e-01, -4.7757e-01, -5.6524e-01, -2.5245e-01, -2.3748e-01,\n",
      "        -3.1636e-01,  3.5167e-01,  3.2029e-01,  2.8586e-04,  3.7192e-02,\n",
      "        -8.4424e-02], device='cuda:0', grad_fn=<DivBackward0>)\n"
     ]
    },
    {
     "name": "stderr",
     "output_type": "stream",
     "text": [
      "Epoch 79: 100%|██████████| 3/3 [00:02<00:00,  1.06it/s, loss=19.8, acc=0.685, AUC=0.743, val_acc=0.671, val_AUC=0.714]\n"
     ]
    },
    {
     "name": "stdout",
     "output_type": "stream",
     "text": [
      "tensor([-0.4368, -0.4664, -0.5512, -0.2568, -0.2531, -0.2855,  0.3406,  0.2859,\n",
      "         0.0060,  0.0363, -0.0857], device='cuda:0', grad_fn=<DivBackward0>)\n"
     ]
    },
    {
     "name": "stderr",
     "output_type": "stream",
     "text": [
      "Epoch 80: 100%|██████████| 3/3 [00:02<00:00,  1.08it/s, loss=19.7, acc=0.684, AUC=0.745, val_acc=0.668, val_AUC=0.708]\n"
     ]
    },
    {
     "name": "stdout",
     "output_type": "stream",
     "text": [
      "tensor([-0.4377, -0.4647, -0.5461, -0.2521, -0.2418, -0.2653,  0.3471,  0.2873,\n",
      "        -0.0084,  0.0144, -0.0768], device='cuda:0', grad_fn=<DivBackward0>)\n"
     ]
    },
    {
     "name": "stderr",
     "output_type": "stream",
     "text": [
      "Epoch 81: 100%|██████████| 3/3 [00:02<00:00,  1.08it/s, loss=19.8, acc=0.686, AUC=0.743, val_acc=0.674, val_AUC=0.715]\n"
     ]
    },
    {
     "name": "stdout",
     "output_type": "stream",
     "text": [
      "tensor([-0.4538, -0.4753, -0.5524, -0.2533, -0.2376, -0.3122,  0.3641,  0.3023,\n",
      "        -0.0157,  0.0278, -0.0878], device='cuda:0', grad_fn=<DivBackward0>)\n"
     ]
    },
    {
     "name": "stderr",
     "output_type": "stream",
     "text": [
      "Epoch 82: 100%|██████████| 3/3 [00:02<00:00,  1.07it/s, loss=19.7, acc=0.678, AUC=0.744, val_acc=0.668, val_AUC=0.704]\n"
     ]
    },
    {
     "name": "stdout",
     "output_type": "stream",
     "text": [
      "tensor([-0.4627, -0.4737, -0.5561, -0.2609, -0.2294, -0.3142,  0.3570,  0.3082,\n",
      "        -0.0211,  0.0328, -0.0976], device='cuda:0', grad_fn=<DivBackward0>)\n"
     ]
    },
    {
     "name": "stderr",
     "output_type": "stream",
     "text": [
      "Epoch 83: 100%|██████████| 3/3 [00:02<00:00,  1.08it/s, loss=19.6, acc=0.683, AUC=0.749, val_acc=0.653, val_AUC=0.715]\n"
     ]
    },
    {
     "name": "stdout",
     "output_type": "stream",
     "text": [
      "tensor([-0.4211, -0.4431, -0.5382, -0.2468, -0.2338, -0.2487,  0.3477,  0.2621,\n",
      "         0.0124,  0.0155, -0.0817], device='cuda:0', grad_fn=<DivBackward0>)\n"
     ]
    },
    {
     "name": "stderr",
     "output_type": "stream",
     "text": [
      "Epoch 84: 100%|██████████| 3/3 [00:02<00:00,  1.06it/s, loss=19.6, acc=0.688, AUC=0.748, val_acc=0.64, val_AUC=0.701]\n"
     ]
    },
    {
     "name": "stdout",
     "output_type": "stream",
     "text": [
      "tensor([-0.4147, -0.4434, -0.5277, -0.2417, -0.2460, -0.2091,  0.3470,  0.2437,\n",
      "         0.0427,  0.0278, -0.0749], device='cuda:0', grad_fn=<DivBackward0>)\n"
     ]
    },
    {
     "name": "stderr",
     "output_type": "stream",
     "text": [
      "Epoch 85: 100%|██████████| 3/3 [00:02<00:00,  1.08it/s, loss=19.6, acc=0.684, AUC=0.75, val_acc=0.656, val_AUC=0.713]\n"
     ]
    },
    {
     "name": "stdout",
     "output_type": "stream",
     "text": [
      "tensor([-0.4159, -0.4496, -0.5381, -0.2411, -0.2713, -0.2127,  0.3391,  0.2465,\n",
      "         0.0459,  0.0109, -0.0971], device='cuda:0', grad_fn=<DivBackward0>)\n"
     ]
    },
    {
     "name": "stderr",
     "output_type": "stream",
     "text": [
      "Epoch 86: 100%|██████████| 3/3 [00:02<00:00,  1.08it/s, loss=19.8, acc=0.685, AUC=0.744, val_acc=0.644, val_AUC=0.7]\n"
     ]
    },
    {
     "name": "stdout",
     "output_type": "stream",
     "text": [
      "tensor([-0.4209, -0.4644, -0.5472, -0.2492, -0.2784, -0.2060,  0.3318,  0.2507,\n",
      "         0.0650,  0.0099, -0.0996], device='cuda:0', grad_fn=<DivBackward0>)\n"
     ]
    },
    {
     "name": "stderr",
     "output_type": "stream",
     "text": [
      "Epoch 87: 100%|██████████| 3/3 [00:02<00:00,  1.09it/s, loss=19.6, acc=0.687, AUC=0.749, val_acc=0.662, val_AUC=0.709]\n"
     ]
    },
    {
     "name": "stdout",
     "output_type": "stream",
     "text": [
      "tensor([-0.4169, -0.4725, -0.5188, -0.2518, -0.2706, -0.1705,  0.3258,  0.2335,\n",
      "         0.0768,  0.0185, -0.1123], device='cuda:0', grad_fn=<DivBackward0>)\n"
     ]
    },
    {
     "name": "stderr",
     "output_type": "stream",
     "text": [
      "Epoch 88: 100%|██████████| 3/3 [00:02<00:00,  1.09it/s, loss=19.7, acc=0.685, AUC=0.746, val_acc=0.659, val_AUC=0.721]\n"
     ]
    },
    {
     "name": "stdout",
     "output_type": "stream",
     "text": [
      "tensor([-0.4305, -0.4908, -0.5462, -0.2570, -0.2671, -0.1859,  0.3398,  0.2483,\n",
      "         0.0620,  0.0182, -0.1141], device='cuda:0', grad_fn=<DivBackward0>)\n"
     ]
    },
    {
     "name": "stderr",
     "output_type": "stream",
     "text": [
      "Epoch 89: 100%|██████████| 3/3 [00:02<00:00,  1.06it/s, loss=19.6, acc=0.691, AUC=0.75, val_acc=0.653, val_AUC=0.712]\n"
     ]
    },
    {
     "name": "stdout",
     "output_type": "stream",
     "text": [
      "tensor([-0.4392, -0.5134, -0.5708, -0.2581, -0.2957, -0.2305,  0.3389,  0.2829,\n",
      "         0.0794,  0.0341, -0.1163], device='cuda:0', grad_fn=<DivBackward0>)\n"
     ]
    },
    {
     "name": "stderr",
     "output_type": "stream",
     "text": [
      "Epoch 90: 100%|██████████| 3/3 [00:02<00:00,  1.08it/s, loss=19.8, acc=0.684, AUC=0.744, val_acc=0.662, val_AUC=0.712]\n"
     ]
    },
    {
     "name": "stdout",
     "output_type": "stream",
     "text": [
      "tensor([-0.4531, -0.5118, -0.5758, -0.2581, -0.2795, -0.2487,  0.3374,  0.3008,\n",
      "         0.0447,  0.0210, -0.1222], device='cuda:0', grad_fn=<DivBackward0>)\n"
     ]
    },
    {
     "name": "stderr",
     "output_type": "stream",
     "text": [
      "Epoch 91: 100%|██████████| 3/3 [00:02<00:00,  1.08it/s, loss=19.7, acc=0.683, AUC=0.745, val_acc=0.662, val_AUC=0.706]\n"
     ]
    },
    {
     "name": "stdout",
     "output_type": "stream",
     "text": [
      "tensor([-0.4803, -0.5018, -0.5643, -0.2631, -0.2686, -0.2693,  0.3460,  0.3147,\n",
      "         0.0326,  0.0380, -0.1106], device='cuda:0', grad_fn=<DivBackward0>)\n"
     ]
    },
    {
     "name": "stderr",
     "output_type": "stream",
     "text": [
      "Epoch 92: 100%|██████████| 3/3 [00:02<00:00,  1.08it/s, loss=19.6, acc=0.685, AUC=0.75, val_acc=0.686, val_AUC=0.722]\n"
     ]
    },
    {
     "name": "stdout",
     "output_type": "stream",
     "text": [
      "tensor([-0.4599, -0.4756, -0.5149, -0.2440, -0.2566, -0.2039,  0.3482,  0.2616,\n",
      "         0.0497,  0.0261, -0.0924], device='cuda:0', grad_fn=<DivBackward0>)\n"
     ]
    },
    {
     "name": "stderr",
     "output_type": "stream",
     "text": [
      "Epoch 93: 100%|██████████| 3/3 [00:02<00:00,  1.09it/s, loss=19.7, acc=0.677, AUC=0.743, val_acc=0.683, val_AUC=0.721]\n"
     ]
    },
    {
     "name": "stdout",
     "output_type": "stream",
     "text": [
      "tensor([-0.4459, -0.4490, -0.4905, -0.2308, -0.2456, -0.1584,  0.3442,  0.2372,\n",
      "         0.0459,  0.0076, -0.0998], device='cuda:0', grad_fn=<DivBackward0>)\n"
     ]
    },
    {
     "name": "stderr",
     "output_type": "stream",
     "text": [
      "Epoch 94: 100%|██████████| 3/3 [00:02<00:00,  1.07it/s, loss=19.7, acc=0.683, AUC=0.745, val_acc=0.668, val_AUC=0.709]\n"
     ]
    },
    {
     "name": "stdout",
     "output_type": "stream",
     "text": [
      "tensor([-0.4565, -0.4620, -0.5233, -0.2467, -0.2543, -0.1984,  0.3485,  0.2541,\n",
      "         0.0550,  0.0290, -0.1191], device='cuda:0', grad_fn=<DivBackward0>)\n"
     ]
    },
    {
     "name": "stderr",
     "output_type": "stream",
     "text": [
      "Epoch 95: 100%|██████████| 3/3 [00:02<00:00,  1.09it/s, loss=19.5, acc=0.679, AUC=0.752, val_acc=0.674, val_AUC=0.714]\n"
     ]
    },
    {
     "name": "stdout",
     "output_type": "stream",
     "text": [
      "tensor([-0.4504, -0.4716, -0.5269, -0.2511, -0.2591, -0.2073,  0.3475,  0.2603,\n",
      "         0.0633,  0.0162, -0.1098], device='cuda:0', grad_fn=<DivBackward0>)\n"
     ]
    },
    {
     "name": "stderr",
     "output_type": "stream",
     "text": [
      "Epoch 96: 100%|██████████| 3/3 [00:02<00:00,  1.08it/s, loss=19.6, acc=0.686, AUC=0.748, val_acc=0.662, val_AUC=0.705]\n"
     ]
    },
    {
     "name": "stdout",
     "output_type": "stream",
     "text": [
      "tensor([-0.4556, -0.4863, -0.5560, -0.2618, -0.2734, -0.2354,  0.3625,  0.2622,\n",
      "         0.0745,  0.0161, -0.1185], device='cuda:0', grad_fn=<DivBackward0>)\n"
     ]
    },
    {
     "name": "stderr",
     "output_type": "stream",
     "text": [
      "Epoch 97: 100%|██████████| 3/3 [00:02<00:00,  1.08it/s, loss=19.7, acc=0.682, AUC=0.746, val_acc=0.671, val_AUC=0.712]\n"
     ]
    },
    {
     "name": "stdout",
     "output_type": "stream",
     "text": [
      "tensor([-0.4620, -0.4803, -0.5419, -0.2611, -0.2670, -0.2384,  0.3636,  0.2711,\n",
      "         0.0584,  0.0275, -0.1149], device='cuda:0', grad_fn=<DivBackward0>)\n"
     ]
    },
    {
     "name": "stderr",
     "output_type": "stream",
     "text": [
      "Epoch 98: 100%|██████████| 3/3 [00:02<00:00,  1.08it/s, loss=19.5, acc=0.689, AUC=0.753, val_acc=0.662, val_AUC=0.714]\n"
     ]
    },
    {
     "name": "stdout",
     "output_type": "stream",
     "text": [
      "tensor([-0.4707, -0.4755, -0.5390, -0.2624, -0.2513, -0.2535,  0.3502,  0.2587,\n",
      "         0.0473,  0.0273, -0.1098], device='cuda:0', grad_fn=<DivBackward0>)\n"
     ]
    },
    {
     "name": "stderr",
     "output_type": "stream",
     "text": [
      "Epoch 99: 100%|██████████| 3/3 [00:02<00:00,  1.06it/s, loss=19.7, acc=0.677, AUC=0.743, val_acc=0.665, val_AUC=0.706]\n"
     ]
    },
    {
     "name": "stdout",
     "output_type": "stream",
     "text": [
      "tensor([-0.4612, -0.4600, -0.5345, -0.2640, -0.2653, -0.2367,  0.3583,  0.2612,\n",
      "         0.0657,  0.0311, -0.0836], device='cuda:0', grad_fn=<DivBackward0>)\n"
     ]
    },
    {
     "name": "stderr",
     "output_type": "stream",
     "text": [
      "Epoch 100: 100%|██████████| 3/3 [00:02<00:00,  1.08it/s, loss=19.7, acc=0.691, AUC=0.747, val_acc=0.631, val_AUC=0.707]\n"
     ]
    },
    {
     "name": "stdout",
     "output_type": "stream",
     "text": [
      "tensor([-0.4727, -0.4611, -0.5299, -0.2656, -0.2707, -0.2472,  0.3658,  0.2742,\n",
      "         0.0514,  0.0403, -0.0839], device='cuda:0', grad_fn=<DivBackward0>)\n"
     ]
    },
    {
     "name": "stderr",
     "output_type": "stream",
     "text": [
      "Epoch 101: 100%|██████████| 3/3 [00:02<00:00,  1.08it/s, loss=19.6, acc=0.686, AUC=0.748, val_acc=0.668, val_AUC=0.704]\n"
     ]
    },
    {
     "name": "stdout",
     "output_type": "stream",
     "text": [
      "tensor([-0.4711, -0.4685, -0.5519, -0.2723, -0.2728, -0.2523,  0.3665,  0.2932,\n",
      "         0.0493,  0.0478, -0.0673], device='cuda:0', grad_fn=<DivBackward0>)\n"
     ]
    },
    {
     "name": "stderr",
     "output_type": "stream",
     "text": [
      "Epoch 102: 100%|██████████| 3/3 [00:02<00:00,  1.07it/s, loss=19.6, acc=0.687, AUC=0.75, val_acc=0.647, val_AUC=0.712]\n"
     ]
    },
    {
     "name": "stdout",
     "output_type": "stream",
     "text": [
      "tensor([-0.4859, -0.4799, -0.5489, -0.2689, -0.2654, -0.2773,  0.3714,  0.3151,\n",
      "         0.0270,  0.0431, -0.0850], device='cuda:0', grad_fn=<DivBackward0>)\n"
     ]
    },
    {
     "name": "stderr",
     "output_type": "stream",
     "text": [
      "Epoch 103: 100%|██████████| 3/3 [00:02<00:00,  1.07it/s, loss=19.6, acc=0.686, AUC=0.75, val_acc=0.656, val_AUC=0.702]\n"
     ]
    },
    {
     "name": "stdout",
     "output_type": "stream",
     "text": [
      "tensor([-0.4846, -0.4841, -0.5538, -0.2715, -0.2594, -0.2807,  0.3758,  0.3197,\n",
      "         0.0290,  0.0482, -0.0705], device='cuda:0', grad_fn=<DivBackward0>)\n"
     ]
    },
    {
     "name": "stderr",
     "output_type": "stream",
     "text": [
      "Epoch 104: 100%|██████████| 3/3 [00:02<00:00,  1.05it/s, loss=19.6, acc=0.676, AUC=0.748, val_acc=0.637, val_AUC=0.711]\n"
     ]
    },
    {
     "name": "stdout",
     "output_type": "stream",
     "text": [
      "tensor([-0.4949, -0.4951, -0.5569, -0.2838, -0.2624, -0.2839,  0.3825,  0.3353,\n",
      "         0.0215,  0.0388, -0.0872], device='cuda:0', grad_fn=<DivBackward0>)\n"
     ]
    },
    {
     "name": "stderr",
     "output_type": "stream",
     "text": [
      "Epoch 105: 100%|██████████| 3/3 [00:02<00:00,  1.07it/s, loss=19.6, acc=0.689, AUC=0.75, val_acc=0.665, val_AUC=0.717]\n"
     ]
    },
    {
     "name": "stdout",
     "output_type": "stream",
     "text": [
      "tensor([-0.4877, -0.4775, -0.5484, -0.2870, -0.2622, -0.2766,  0.3766,  0.3277,\n",
      "         0.0261,  0.0406, -0.0830], device='cuda:0', grad_fn=<DivBackward0>)\n"
     ]
    },
    {
     "name": "stderr",
     "output_type": "stream",
     "text": [
      "Epoch 106: 100%|██████████| 3/3 [00:02<00:00,  1.07it/s, loss=19.5, acc=0.687, AUC=0.752, val_acc=0.65, val_AUC=0.713]\n"
     ]
    },
    {
     "name": "stdout",
     "output_type": "stream",
     "text": [
      "tensor([-0.4771, -0.4623, -0.5248, -0.2683, -0.2529, -0.2635,  0.3653,  0.3155,\n",
      "         0.0240,  0.0284, -0.0853], device='cuda:0', grad_fn=<DivBackward0>)\n"
     ]
    },
    {
     "name": "stderr",
     "output_type": "stream",
     "text": [
      "Epoch 107: 100%|██████████| 3/3 [00:02<00:00,  1.08it/s, loss=19.7, acc=0.684, AUC=0.746, val_acc=0.665, val_AUC=0.715]\n"
     ]
    },
    {
     "name": "stdout",
     "output_type": "stream",
     "text": [
      "tensor([-0.4841, -0.4363, -0.5214, -0.2607, -0.2483, -0.2595,  0.3695,  0.2863,\n",
      "         0.0291,  0.0266, -0.0793], device='cuda:0', grad_fn=<DivBackward0>)\n"
     ]
    },
    {
     "name": "stderr",
     "output_type": "stream",
     "text": [
      "Epoch 108: 100%|██████████| 3/3 [00:02<00:00,  1.08it/s, loss=19.7, acc=0.676, AUC=0.745, val_acc=0.668, val_AUC=0.715]\n"
     ]
    },
    {
     "name": "stdout",
     "output_type": "stream",
     "text": [
      "tensor([-0.4699, -0.4254, -0.5107, -0.2647, -0.2635, -0.2382,  0.3590,  0.2573,\n",
      "         0.0435,  0.0321, -0.0713], device='cuda:0', grad_fn=<DivBackward0>)\n"
     ]
    },
    {
     "name": "stderr",
     "output_type": "stream",
     "text": [
      "Epoch 109: 100%|██████████| 3/3 [00:02<00:00,  1.06it/s, loss=19.6, acc=0.685, AUC=0.75, val_acc=0.686, val_AUC=0.711]\n"
     ]
    },
    {
     "name": "stdout",
     "output_type": "stream",
     "text": [
      "tensor([-0.4666, -0.4198, -0.4990, -0.2533, -0.2591, -0.2121,  0.3468,  0.2447,\n",
      "         0.0467,  0.0224, -0.0600], device='cuda:0', grad_fn=<DivBackward0>)\n"
     ]
    },
    {
     "name": "stderr",
     "output_type": "stream",
     "text": [
      "Epoch 110: 100%|██████████| 3/3 [00:02<00:00,  1.08it/s, loss=19.6, acc=0.685, AUC=0.749, val_acc=0.647, val_AUC=0.708]\n"
     ]
    },
    {
     "name": "stdout",
     "output_type": "stream",
     "text": [
      "tensor([-0.4629, -0.4262, -0.5128, -0.2505, -0.2545, -0.2179,  0.3589,  0.2579,\n",
      "         0.0553,  0.0273, -0.0777], device='cuda:0', grad_fn=<DivBackward0>)\n"
     ]
    },
    {
     "name": "stderr",
     "output_type": "stream",
     "text": [
      "Epoch 111: 100%|██████████| 3/3 [00:02<00:00,  1.08it/s, loss=19.5, acc=0.685, AUC=0.751, val_acc=0.668, val_AUC=0.704]\n"
     ]
    },
    {
     "name": "stdout",
     "output_type": "stream",
     "text": [
      "tensor([-0.4603, -0.4389, -0.5086, -0.2522, -0.2535, -0.2179,  0.3565,  0.2758,\n",
      "         0.0350,  0.0291, -0.0817], device='cuda:0', grad_fn=<DivBackward0>)\n"
     ]
    },
    {
     "name": "stderr",
     "output_type": "stream",
     "text": [
      "Epoch 112: 100%|██████████| 3/3 [00:02<00:00,  1.08it/s, loss=19.5, acc=0.685, AUC=0.752, val_acc=0.659, val_AUC=0.702]\n"
     ]
    },
    {
     "name": "stdout",
     "output_type": "stream",
     "text": [
      "tensor([-0.4656, -0.4301, -0.5044, -0.2571, -0.2596, -0.2282,  0.3456,  0.2780,\n",
      "         0.0383,  0.0343, -0.0846], device='cuda:0', grad_fn=<DivBackward0>)\n"
     ]
    },
    {
     "name": "stderr",
     "output_type": "stream",
     "text": [
      "Epoch 113: 100%|██████████| 3/3 [00:02<00:00,  1.08it/s, loss=19.6, acc=0.684, AUC=0.749, val_acc=0.65, val_AUC=0.709]\n"
     ]
    },
    {
     "name": "stdout",
     "output_type": "stream",
     "text": [
      "tensor([-0.4668, -0.4205, -0.5000, -0.2515, -0.2520, -0.2221,  0.3549,  0.2782,\n",
      "         0.0393,  0.0349, -0.0825], device='cuda:0', grad_fn=<DivBackward0>)\n"
     ]
    },
    {
     "name": "stderr",
     "output_type": "stream",
     "text": [
      "Epoch 114: 100%|██████████| 3/3 [00:02<00:00,  1.06it/s, loss=19.6, acc=0.69, AUC=0.75, val_acc=0.644, val_AUC=0.713]\n"
     ]
    },
    {
     "name": "stdout",
     "output_type": "stream",
     "text": [
      "tensor([-0.4678, -0.4040, -0.5000, -0.2472, -0.2530, -0.2162,  0.3516,  0.2799,\n",
      "         0.0201,  0.0442, -0.0648], device='cuda:0', grad_fn=<DivBackward0>)\n"
     ]
    },
    {
     "name": "stderr",
     "output_type": "stream",
     "text": [
      "Epoch 115: 100%|██████████| 3/3 [00:02<00:00,  1.08it/s, loss=19.5, acc=0.686, AUC=0.75, val_acc=0.656, val_AUC=0.707]\n"
     ]
    },
    {
     "name": "stdout",
     "output_type": "stream",
     "text": [
      "tensor([-0.4428, -0.4176, -0.5176, -0.2628, -0.2789, -0.2114,  0.3609,  0.2708,\n",
      "         0.0521,  0.0509, -0.0721], device='cuda:0', grad_fn=<DivBackward0>)\n"
     ]
    },
    {
     "name": "stderr",
     "output_type": "stream",
     "text": [
      "Epoch 116: 100%|██████████| 3/3 [00:02<00:00,  1.08it/s, loss=19.7, acc=0.674, AUC=0.745, val_acc=0.671, val_AUC=0.71]\n"
     ]
    },
    {
     "name": "stdout",
     "output_type": "stream",
     "text": [
      "tensor([-0.4448, -0.4363, -0.5247, -0.2528, -0.2903, -0.2145,  0.3443,  0.2640,\n",
      "         0.0676,  0.0442, -0.0859], device='cuda:0', grad_fn=<DivBackward0>)\n"
     ]
    },
    {
     "name": "stderr",
     "output_type": "stream",
     "text": [
      "Epoch 117: 100%|██████████| 3/3 [00:02<00:00,  1.08it/s, loss=19.5, acc=0.681, AUC=0.751, val_acc=0.677, val_AUC=0.715]\n"
     ]
    },
    {
     "name": "stdout",
     "output_type": "stream",
     "text": [
      "tensor([-0.4483, -0.4235, -0.5061, -0.2566, -0.2811, -0.2046,  0.3425,  0.2592,\n",
      "         0.0598,  0.0306, -0.0920], device='cuda:0', grad_fn=<DivBackward0>)\n"
     ]
    },
    {
     "name": "stderr",
     "output_type": "stream",
     "text": [
      "Epoch 118: 100%|██████████| 3/3 [00:02<00:00,  1.08it/s, loss=19.5, acc=0.685, AUC=0.751, val_acc=0.65, val_AUC=0.704]\n"
     ]
    },
    {
     "name": "stdout",
     "output_type": "stream",
     "text": [
      "tensor([-0.4592, -0.4222, -0.4994, -0.2641, -0.2612, -0.1994,  0.3441,  0.2441,\n",
      "         0.0582,  0.0266, -0.0804], device='cuda:0', grad_fn=<DivBackward0>)\n"
     ]
    },
    {
     "name": "stderr",
     "output_type": "stream",
     "text": [
      "Epoch 119: 100%|██████████| 3/3 [00:02<00:00,  1.06it/s, loss=19.6, acc=0.675, AUC=0.748, val_acc=0.65, val_AUC=0.703]\n"
     ]
    },
    {
     "name": "stdout",
     "output_type": "stream",
     "text": [
      "tensor([-0.4662, -0.4213, -0.4829, -0.2509, -0.2455, -0.1929,  0.3530,  0.2422,\n",
      "         0.0663,  0.0273, -0.0762], device='cuda:0', grad_fn=<DivBackward0>)\n"
     ]
    },
    {
     "name": "stderr",
     "output_type": "stream",
     "text": [
      "Epoch 120: 100%|██████████| 3/3 [00:02<00:00,  1.08it/s, loss=19.5, acc=0.689, AUC=0.753, val_acc=0.674, val_AUC=0.711]\n"
     ]
    },
    {
     "name": "stdout",
     "output_type": "stream",
     "text": [
      "tensor([-0.4735, -0.4323, -0.5020, -0.2499, -0.2531, -0.2136,  0.3405,  0.2591,\n",
      "         0.0392,  0.0350, -0.0834], device='cuda:0', grad_fn=<DivBackward0>)\n"
     ]
    },
    {
     "name": "stderr",
     "output_type": "stream",
     "text": [
      "Epoch 121: 100%|██████████| 3/3 [00:02<00:00,  1.07it/s, loss=19.6, acc=0.688, AUC=0.749, val_acc=0.659, val_AUC=0.707]\n"
     ]
    },
    {
     "name": "stdout",
     "output_type": "stream",
     "text": [
      "tensor([-0.4817, -0.4416, -0.4966, -0.2701, -0.2451, -0.2327,  0.3577,  0.2754,\n",
      "         0.0315,  0.0380, -0.0854], device='cuda:0', grad_fn=<DivBackward0>)\n"
     ]
    },
    {
     "name": "stderr",
     "output_type": "stream",
     "text": [
      "Epoch 122: 100%|██████████| 3/3 [00:02<00:00,  1.08it/s, loss=19.5, acc=0.688, AUC=0.752, val_acc=0.653, val_AUC=0.717]\n"
     ]
    },
    {
     "name": "stdout",
     "output_type": "stream",
     "text": [
      "tensor([-0.4894, -0.4260, -0.4904, -0.2526, -0.2365, -0.2297,  0.3510,  0.2789,\n",
      "         0.0176,  0.0263, -0.0754], device='cuda:0', grad_fn=<DivBackward0>)\n"
     ]
    },
    {
     "name": "stderr",
     "output_type": "stream",
     "text": [
      "Epoch 123: 100%|██████████| 3/3 [00:02<00:00,  1.08it/s, loss=19.5, acc=0.693, AUC=0.753, val_acc=0.659, val_AUC=0.708]\n"
     ]
    },
    {
     "name": "stdout",
     "output_type": "stream",
     "text": [
      "tensor([-0.4858, -0.4351, -0.4987, -0.2655, -0.2468, -0.2505,  0.3539,  0.2844,\n",
      "         0.0259,  0.0327, -0.0718], device='cuda:0', grad_fn=<DivBackward0>)\n"
     ]
    },
    {
     "name": "stderr",
     "output_type": "stream",
     "text": [
      "Epoch 124: 100%|██████████| 3/3 [00:02<00:00,  1.06it/s, loss=19.5, acc=0.69, AUC=0.754, val_acc=0.665, val_AUC=0.706]\n"
     ]
    },
    {
     "name": "stdout",
     "output_type": "stream",
     "text": [
      "tensor([-0.4942, -0.4524, -0.5137, -0.2756, -0.2501, -0.2579,  0.3501,  0.2877,\n",
      "         0.0322,  0.0322, -0.0921], device='cuda:0', grad_fn=<DivBackward0>)\n"
     ]
    },
    {
     "name": "stderr",
     "output_type": "stream",
     "text": [
      "Epoch 125: 100%|██████████| 3/3 [00:02<00:00,  1.08it/s, loss=19.6, acc=0.688, AUC=0.749, val_acc=0.659, val_AUC=0.702]\n"
     ]
    },
    {
     "name": "stdout",
     "output_type": "stream",
     "text": [
      "tensor([-0.5043, -0.4660, -0.5184, -0.2823, -0.2575, -0.2906,  0.3531,  0.3148,\n",
      "         0.0249,  0.0292, -0.1039], device='cuda:0', grad_fn=<DivBackward0>)\n"
     ]
    },
    {
     "name": "stderr",
     "output_type": "stream",
     "text": [
      "Epoch 126: 100%|██████████| 3/3 [00:02<00:00,  1.08it/s, loss=19.4, acc=0.682, AUC=0.755, val_acc=0.674, val_AUC=0.717]\n"
     ]
    },
    {
     "name": "stdout",
     "output_type": "stream",
     "text": [
      "tensor([-0.5053, -0.4525, -0.5198, -0.2782, -0.2689, -0.2672,  0.3573,  0.3034,\n",
      "         0.0309,  0.0472, -0.0946], device='cuda:0', grad_fn=<DivBackward0>)\n"
     ]
    },
    {
     "name": "stderr",
     "output_type": "stream",
     "text": [
      "Epoch 127: 100%|██████████| 3/3 [00:02<00:00,  1.07it/s, loss=19.4, acc=0.691, AUC=0.754, val_acc=0.653, val_AUC=0.708]\n"
     ]
    },
    {
     "name": "stdout",
     "output_type": "stream",
     "text": [
      "tensor([-0.4861, -0.4390, -0.5254, -0.2699, -0.2630, -0.2346,  0.3739,  0.2871,\n",
      "         0.0492,  0.0259, -0.0712], device='cuda:0', grad_fn=<DivBackward0>)\n"
     ]
    },
    {
     "name": "stderr",
     "output_type": "stream",
     "text": [
      "Epoch 128: 100%|██████████| 3/3 [00:02<00:00,  1.08it/s, loss=19.4, acc=0.69, AUC=0.754, val_acc=0.64, val_AUC=0.709]\n"
     ]
    },
    {
     "name": "stdout",
     "output_type": "stream",
     "text": [
      "tensor([-0.4809, -0.4245, -0.5128, -0.2682, -0.2637, -0.2322,  0.3728,  0.2721,\n",
      "         0.0503,  0.0410, -0.0480], device='cuda:0', grad_fn=<DivBackward0>)\n"
     ]
    },
    {
     "name": "stderr",
     "output_type": "stream",
     "text": [
      "Epoch 129: 100%|██████████| 3/3 [00:02<00:00,  1.06it/s, loss=19.4, acc=0.684, AUC=0.753, val_acc=0.665, val_AUC=0.705]\n"
     ]
    },
    {
     "name": "stdout",
     "output_type": "stream",
     "text": [
      "tensor([-0.5072, -0.4505, -0.5239, -0.2755, -0.2612, -0.2443,  0.3771,  0.2896,\n",
      "         0.0336,  0.0344, -0.0510], device='cuda:0', grad_fn=<DivBackward0>)\n"
     ]
    },
    {
     "name": "stderr",
     "output_type": "stream",
     "text": [
      "Epoch 130: 100%|██████████| 3/3 [00:02<00:00,  1.07it/s, loss=19.5, acc=0.685, AUC=0.75, val_acc=0.665, val_AUC=0.705]\n"
     ]
    },
    {
     "name": "stdout",
     "output_type": "stream",
     "text": [
      "tensor([-0.5223, -0.4576, -0.5385, -0.2825, -0.2536, -0.2807,  0.3817,  0.3105,\n",
      "         0.0239,  0.0485, -0.0603], device='cuda:0', grad_fn=<DivBackward0>)\n"
     ]
    },
    {
     "name": "stderr",
     "output_type": "stream",
     "text": [
      "Epoch 131: 100%|██████████| 3/3 [00:02<00:00,  1.07it/s, loss=19.5, acc=0.682, AUC=0.75, val_acc=0.656, val_AUC=0.718]\n"
     ]
    },
    {
     "name": "stdout",
     "output_type": "stream",
     "text": [
      "tensor([-0.5139, -0.4528, -0.5441, -0.2900, -0.2707, -0.2850,  0.3672,  0.3147,\n",
      "         0.0448,  0.0363, -0.0694], device='cuda:0', grad_fn=<DivBackward0>)\n"
     ]
    },
    {
     "name": "stderr",
     "output_type": "stream",
     "text": [
      "Epoch 132: 100%|██████████| 3/3 [00:02<00:00,  1.07it/s, loss=19.4, acc=0.691, AUC=0.754, val_acc=0.668, val_AUC=0.711]\n"
     ]
    },
    {
     "name": "stdout",
     "output_type": "stream",
     "text": [
      "tensor([-0.5231, -0.4626, -0.5591, -0.3050, -0.2853, -0.3049,  0.3709,  0.3212,\n",
      "         0.0437,  0.0390, -0.0826], device='cuda:0', grad_fn=<DivBackward0>)\n"
     ]
    },
    {
     "name": "stderr",
     "output_type": "stream",
     "text": [
      "Epoch 133: 100%|██████████| 3/3 [00:02<00:00,  1.07it/s, loss=19.4, acc=0.684, AUC=0.753, val_acc=0.65, val_AUC=0.713]\n"
     ]
    },
    {
     "name": "stdout",
     "output_type": "stream",
     "text": [
      "tensor([-0.5300, -0.4737, -0.5702, -0.2964, -0.2910, -0.3041,  0.3744,  0.3273,\n",
      "         0.0418,  0.0511, -0.0684], device='cuda:0', grad_fn=<DivBackward0>)\n"
     ]
    },
    {
     "name": "stderr",
     "output_type": "stream",
     "text": [
      "Epoch 134: 100%|██████████| 3/3 [00:02<00:00,  1.05it/s, loss=19.5, acc=0.687, AUC=0.752, val_acc=0.665, val_AUC=0.711]\n"
     ]
    },
    {
     "name": "stdout",
     "output_type": "stream",
     "text": [
      "tensor([-0.5024, -0.4672, -0.5704, -0.3068, -0.2885, -0.2965,  0.3684,  0.3136,\n",
      "         0.0565,  0.0450, -0.0772], device='cuda:0', grad_fn=<DivBackward0>)\n"
     ]
    },
    {
     "name": "stderr",
     "output_type": "stream",
     "text": [
      "Epoch 135: 100%|██████████| 3/3 [00:02<00:00,  1.07it/s, loss=19.5, acc=0.686, AUC=0.752, val_acc=0.674, val_AUC=0.715]\n"
     ]
    },
    {
     "name": "stdout",
     "output_type": "stream",
     "text": [
      "tensor([-0.5010, -0.4769, -0.5464, -0.3084, -0.2875, -0.2816,  0.3533,  0.3130,\n",
      "         0.0553,  0.0326, -0.0701], device='cuda:0', grad_fn=<DivBackward0>)\n"
     ]
    },
    {
     "name": "stderr",
     "output_type": "stream",
     "text": [
      "Epoch 136: 100%|██████████| 3/3 [00:02<00:00,  1.07it/s, loss=19.5, acc=0.689, AUC=0.755, val_acc=0.644, val_AUC=0.705]\n"
     ]
    },
    {
     "name": "stdout",
     "output_type": "stream",
     "text": [
      "tensor([-0.5143, -0.4691, -0.5474, -0.2990, -0.2800, -0.2851,  0.3595,  0.3140,\n",
      "         0.0458,  0.0472, -0.0731], device='cuda:0', grad_fn=<DivBackward0>)\n"
     ]
    },
    {
     "name": "stderr",
     "output_type": "stream",
     "text": [
      "Epoch 137: 100%|██████████| 3/3 [00:02<00:00,  1.07it/s, loss=19.4, acc=0.69, AUC=0.754, val_acc=0.665, val_AUC=0.706]\n"
     ]
    },
    {
     "name": "stdout",
     "output_type": "stream",
     "text": [
      "tensor([-0.4989, -0.4670, -0.5605, -0.3033, -0.2787, -0.2780,  0.3647,  0.3240,\n",
      "         0.0449,  0.0407, -0.0566], device='cuda:0', grad_fn=<DivBackward0>)\n"
     ]
    },
    {
     "name": "stderr",
     "output_type": "stream",
     "text": [
      "Epoch 138: 100%|██████████| 3/3 [00:02<00:00,  1.07it/s, loss=19.5, acc=0.686, AUC=0.752, val_acc=0.656, val_AUC=0.714]\n"
     ]
    },
    {
     "name": "stdout",
     "output_type": "stream",
     "text": [
      "tensor([-0.5080, -0.4578, -0.5356, -0.2879, -0.2734, -0.2648,  0.3785,  0.2993,\n",
      "         0.0517,  0.0491, -0.0671], device='cuda:0', grad_fn=<DivBackward0>)\n"
     ]
    },
    {
     "name": "stderr",
     "output_type": "stream",
     "text": [
      "Epoch 139: 100%|██████████| 3/3 [00:02<00:00,  1.05it/s, loss=19.4, acc=0.685, AUC=0.753, val_acc=0.644, val_AUC=0.71]\n"
     ]
    },
    {
     "name": "stdout",
     "output_type": "stream",
     "text": [
      "tensor([-0.5160, -0.4626, -0.5412, -0.3029, -0.2683, -0.2929,  0.3740,  0.3275,\n",
      "         0.0291,  0.0503, -0.0742], device='cuda:0', grad_fn=<DivBackward0>)\n"
     ]
    },
    {
     "name": "stderr",
     "output_type": "stream",
     "text": [
      "Epoch 140: 100%|██████████| 3/3 [00:02<00:00,  1.07it/s, loss=19.4, acc=0.689, AUC=0.756, val_acc=0.656, val_AUC=0.692]\n"
     ]
    },
    {
     "name": "stdout",
     "output_type": "stream",
     "text": [
      "tensor([-0.5130, -0.4660, -0.5231, -0.2993, -0.2636, -0.2675,  0.3790,  0.3208,\n",
      "         0.0358,  0.0437, -0.0726], device='cuda:0', grad_fn=<DivBackward0>)\n"
     ]
    },
    {
     "name": "stderr",
     "output_type": "stream",
     "text": [
      "Epoch 141: 100%|██████████| 3/3 [00:02<00:00,  1.07it/s, loss=19.4, acc=0.687, AUC=0.755, val_acc=0.668, val_AUC=0.708]\n"
     ]
    },
    {
     "name": "stdout",
     "output_type": "stream",
     "text": [
      "tensor([-0.5068, -0.4647, -0.5454, -0.3015, -0.2750, -0.2573,  0.3737,  0.3192,\n",
      "         0.0481,  0.0395, -0.0761], device='cuda:0', grad_fn=<DivBackward0>)\n"
     ]
    },
    {
     "name": "stderr",
     "output_type": "stream",
     "text": [
      "Epoch 142: 100%|██████████| 3/3 [00:02<00:00,  1.07it/s, loss=19.4, acc=0.688, AUC=0.754, val_acc=0.659, val_AUC=0.703]\n"
     ]
    },
    {
     "name": "stdout",
     "output_type": "stream",
     "text": [
      "tensor([-0.5251, -0.4687, -0.5238, -0.2931, -0.2518, -0.2602,  0.3906,  0.3145,\n",
      "         0.0404,  0.0485, -0.0659], device='cuda:0', grad_fn=<DivBackward0>)\n"
     ]
    },
    {
     "name": "stderr",
     "output_type": "stream",
     "text": [
      "Epoch 143: 100%|██████████| 3/3 [00:02<00:00,  1.07it/s, loss=19.5, acc=0.687, AUC=0.751, val_acc=0.674, val_AUC=0.714]\n"
     ]
    },
    {
     "name": "stdout",
     "output_type": "stream",
     "text": [
      "tensor([-0.5148, -0.4540, -0.5200, -0.2900, -0.2557, -0.2518,  0.3838,  0.3088,\n",
      "         0.0394,  0.0366, -0.0523], device='cuda:0', grad_fn=<DivBackward0>)\n"
     ]
    },
    {
     "name": "stderr",
     "output_type": "stream",
     "text": [
      "Epoch 144: 100%|██████████| 3/3 [00:02<00:00,  1.05it/s, loss=19.5, acc=0.689, AUC=0.752, val_acc=0.671, val_AUC=0.717]\n"
     ]
    },
    {
     "name": "stdout",
     "output_type": "stream",
     "text": [
      "tensor([-0.5150, -0.4437, -0.5184, -0.2751, -0.2639, -0.2494,  0.3828,  0.3072,\n",
      "         0.0464,  0.0299, -0.0716], device='cuda:0', grad_fn=<DivBackward0>)\n"
     ]
    },
    {
     "name": "stderr",
     "output_type": "stream",
     "text": [
      "Epoch 145: 100%|██████████| 3/3 [00:02<00:00,  1.07it/s, loss=19.4, acc=0.686, AUC=0.755, val_acc=0.65, val_AUC=0.7]\n"
     ]
    },
    {
     "name": "stdout",
     "output_type": "stream",
     "text": [
      "tensor([-0.5043, -0.4438, -0.5157, -0.2741, -0.2597, -0.2377,  0.3678,  0.2963,\n",
      "         0.0539,  0.0263, -0.0786], device='cuda:0', grad_fn=<DivBackward0>)\n"
     ]
    },
    {
     "name": "stderr",
     "output_type": "stream",
     "text": [
      "Epoch 146: 100%|██████████| 3/3 [00:02<00:00,  1.07it/s, loss=19.5, acc=0.687, AUC=0.75, val_acc=0.644, val_AUC=0.708]\n"
     ]
    },
    {
     "name": "stdout",
     "output_type": "stream",
     "text": [
      "tensor([-0.4984, -0.4443, -0.5107, -0.2720, -0.2683, -0.2512,  0.3682,  0.2998,\n",
      "         0.0520,  0.0238, -0.0844], device='cuda:0', grad_fn=<DivBackward0>)\n"
     ]
    },
    {
     "name": "stderr",
     "output_type": "stream",
     "text": [
      "Epoch 147: 100%|██████████| 3/3 [00:02<00:00,  1.07it/s, loss=19.3, acc=0.692, AUC=0.758, val_acc=0.68, val_AUC=0.714]\n"
     ]
    },
    {
     "name": "stdout",
     "output_type": "stream",
     "text": [
      "tensor([-0.5138, -0.4433, -0.4953, -0.2721, -0.2584, -0.2360,  0.3644,  0.3040,\n",
      "         0.0416,  0.0068, -0.0920], device='cuda:0', grad_fn=<DivBackward0>)\n"
     ]
    },
    {
     "name": "stderr",
     "output_type": "stream",
     "text": [
      "Epoch 148: 100%|██████████| 3/3 [00:02<00:00,  1.07it/s, loss=19.3, acc=0.693, AUC=0.758, val_acc=0.659, val_AUC=0.712]\n"
     ]
    },
    {
     "name": "stdout",
     "output_type": "stream",
     "text": [
      "tensor([-0.5172, -0.4397, -0.4779, -0.2583, -0.2486, -0.2105,  0.3581,  0.2890,\n",
      "         0.0414,  0.0110, -0.0918], device='cuda:0', grad_fn=<DivBackward0>)\n"
     ]
    },
    {
     "name": "stderr",
     "output_type": "stream",
     "text": [
      "Epoch 149: 100%|██████████| 3/3 [00:02<00:00,  1.06it/s, loss=19.4, acc=0.681, AUC=0.753, val_acc=0.64, val_AUC=0.703]\n"
     ]
    },
    {
     "name": "stdout",
     "output_type": "stream",
     "text": [
      "tensor([-0.5183, -0.4421, -0.4808, -0.2591, -0.2318, -0.2058,  0.3605,  0.2850,\n",
      "         0.0452,  0.0101, -0.0872], device='cuda:0', grad_fn=<DivBackward0>)\n"
     ]
    },
    {
     "name": "stderr",
     "output_type": "stream",
     "text": [
      "Epoch 150: 100%|██████████| 3/3 [00:02<00:00,  1.08it/s, loss=19.4, acc=0.692, AUC=0.757, val_acc=0.637, val_AUC=0.705]\n"
     ]
    },
    {
     "name": "stdout",
     "output_type": "stream",
     "text": [
      "tensor([-0.5175, -0.4476, -0.4840, -0.2634, -0.2335, -0.2092,  0.3615,  0.2809,\n",
      "         0.0452,  0.0088, -0.0898], device='cuda:0', grad_fn=<DivBackward0>)\n"
     ]
    },
    {
     "name": "stderr",
     "output_type": "stream",
     "text": [
      "Epoch 151: 100%|██████████| 3/3 [00:02<00:00,  1.08it/s, loss=19.4, acc=0.686, AUC=0.755, val_acc=0.637, val_AUC=0.712]\n"
     ]
    },
    {
     "name": "stdout",
     "output_type": "stream",
     "text": [
      "tensor([-0.5124, -0.4277, -0.4609, -0.2605, -0.2287, -0.1870,  0.3613,  0.2704,\n",
      "         0.0426,  0.0134, -0.0818], device='cuda:0', grad_fn=<DivBackward0>)\n"
     ]
    },
    {
     "name": "stderr",
     "output_type": "stream",
     "text": [
      "Epoch 152: 100%|██████████| 3/3 [00:02<00:00,  1.08it/s, loss=19.5, acc=0.688, AUC=0.754, val_acc=0.656, val_AUC=0.713]\n"
     ]
    },
    {
     "name": "stdout",
     "output_type": "stream",
     "text": [
      "tensor([-5.1045e-01, -4.3648e-01, -4.6170e-01, -2.6826e-01, -2.3688e-01,\n",
      "        -1.8990e-01,  3.6261e-01,  2.6708e-01,  5.2101e-02, -2.9286e-04,\n",
      "        -8.8957e-02], device='cuda:0', grad_fn=<DivBackward0>)\n"
     ]
    },
    {
     "name": "stderr",
     "output_type": "stream",
     "text": [
      "Epoch 153: 100%|██████████| 3/3 [00:02<00:00,  1.08it/s, loss=19.4, acc=0.691, AUC=0.753, val_acc=0.637, val_AUC=0.694]\n"
     ]
    },
    {
     "name": "stdout",
     "output_type": "stream",
     "text": [
      "tensor([-0.5073, -0.4323, -0.4637, -0.2652, -0.2485, -0.1947,  0.3540,  0.2647,\n",
      "         0.0507,  0.0103, -0.0892], device='cuda:0', grad_fn=<DivBackward0>)\n"
     ]
    },
    {
     "name": "stderr",
     "output_type": "stream",
     "text": [
      "Epoch 154: 100%|██████████| 3/3 [00:02<00:00,  1.06it/s, loss=19.4, acc=0.691, AUC=0.755, val_acc=0.656, val_AUC=0.707]\n"
     ]
    },
    {
     "name": "stdout",
     "output_type": "stream",
     "text": [
      "tensor([-0.4965, -0.4254, -0.4628, -0.2559, -0.2518, -0.1668,  0.3452,  0.2642,\n",
      "         0.0639,  0.0127, -0.0816], device='cuda:0', grad_fn=<DivBackward0>)\n"
     ]
    },
    {
     "name": "stderr",
     "output_type": "stream",
     "text": [
      "Epoch 155: 100%|██████████| 3/3 [00:02<00:00,  1.08it/s, loss=19.5, acc=0.685, AUC=0.753, val_acc=0.65, val_AUC=0.712]\n"
     ]
    },
    {
     "name": "stdout",
     "output_type": "stream",
     "text": [
      "tensor([-0.4856, -0.4011, -0.4543, -0.2522, -0.2348, -0.1750,  0.3381,  0.2525,\n",
      "         0.0461,  0.0077, -0.0786], device='cuda:0', grad_fn=<DivBackward0>)\n"
     ]
    },
    {
     "name": "stderr",
     "output_type": "stream",
     "text": [
      "Epoch 156: 100%|██████████| 3/3 [00:02<00:00,  1.08it/s, loss=19.4, acc=0.689, AUC=0.754, val_acc=0.644, val_AUC=0.705]\n"
     ]
    },
    {
     "name": "stdout",
     "output_type": "stream",
     "text": [
      "tensor([-0.5059, -0.4064, -0.4540, -0.2562, -0.2312, -0.1755,  0.3512,  0.2514,\n",
      "         0.0438,  0.0080, -0.0752], device='cuda:0', grad_fn=<DivBackward0>)\n"
     ]
    },
    {
     "name": "stderr",
     "output_type": "stream",
     "text": [
      "Epoch 157: 100%|██████████| 3/3 [00:02<00:00,  1.08it/s, loss=19.4, acc=0.684, AUC=0.756, val_acc=0.64, val_AUC=0.705]\n"
     ]
    },
    {
     "name": "stdout",
     "output_type": "stream",
     "text": [
      "tensor([-0.5034, -0.4222, -0.4576, -0.2640, -0.2299, -0.1877,  0.3519,  0.2549,\n",
      "         0.0542,  0.0081, -0.0816], device='cuda:0', grad_fn=<DivBackward0>)\n"
     ]
    },
    {
     "name": "stderr",
     "output_type": "stream",
     "text": [
      "Epoch 158: 100%|██████████| 3/3 [00:02<00:00,  1.08it/s, loss=19.4, acc=0.69, AUC=0.755, val_acc=0.668, val_AUC=0.706]\n"
     ]
    },
    {
     "name": "stdout",
     "output_type": "stream",
     "text": [
      "tensor([-0.5043, -0.4220, -0.4716, -0.2600, -0.2393, -0.2093,  0.3618,  0.2797,\n",
      "         0.0437,  0.0157, -0.0784], device='cuda:0', grad_fn=<DivBackward0>)\n"
     ]
    },
    {
     "name": "stderr",
     "output_type": "stream",
     "text": [
      "Epoch 159: 100%|██████████| 3/3 [00:02<00:00,  1.06it/s, loss=19.4, acc=0.689, AUC=0.755, val_acc=0.631, val_AUC=0.696]\n"
     ]
    },
    {
     "name": "stdout",
     "output_type": "stream",
     "text": [
      "tensor([-0.5238, -0.4244, -0.4659, -0.2565, -0.2301, -0.2137,  0.3571,  0.2878,\n",
      "         0.0405,  0.0179, -0.0763], device='cuda:0', grad_fn=<DivBackward0>)\n"
     ]
    },
    {
     "name": "stderr",
     "output_type": "stream",
     "text": [
      "Epoch 160: 100%|██████████| 3/3 [00:02<00:00,  1.08it/s, loss=19.3, acc=0.691, AUC=0.756, val_acc=0.647, val_AUC=0.702]\n"
     ]
    },
    {
     "name": "stdout",
     "output_type": "stream",
     "text": [
      "tensor([-0.5145, -0.4173, -0.4681, -0.2572, -0.2232, -0.2281,  0.3483,  0.2799,\n",
      "         0.0391,  0.0232, -0.0955], device='cuda:0', grad_fn=<DivBackward0>)\n"
     ]
    },
    {
     "name": "stderr",
     "output_type": "stream",
     "text": [
      "Epoch 161: 100%|██████████| 3/3 [00:02<00:00,  1.08it/s, loss=19.3, acc=0.696, AUC=0.76, val_acc=0.65, val_AUC=0.708]\n"
     ]
    },
    {
     "name": "stdout",
     "output_type": "stream",
     "text": [
      "tensor([-0.5303, -0.4289, -0.4767, -0.2594, -0.2297, -0.2299,  0.3606,  0.2893,\n",
      "         0.0384,  0.0244, -0.0874], device='cuda:0', grad_fn=<DivBackward0>)\n"
     ]
    },
    {
     "name": "stderr",
     "output_type": "stream",
     "text": [
      "Epoch 162: 100%|██████████| 3/3 [00:02<00:00,  1.07it/s, loss=19.3, acc=0.695, AUC=0.757, val_acc=0.668, val_AUC=0.702]\n"
     ]
    },
    {
     "name": "stdout",
     "output_type": "stream",
     "text": [
      "tensor([-0.5227, -0.4295, -0.4888, -0.2664, -0.2369, -0.2329,  0.3608,  0.2940,\n",
      "         0.0321,  0.0297, -0.0876], device='cuda:0', grad_fn=<DivBackward0>)\n"
     ]
    },
    {
     "name": "stderr",
     "output_type": "stream",
     "text": [
      "Epoch 163: 100%|██████████| 3/3 [00:02<00:00,  1.07it/s, loss=19.5, acc=0.683, AUC=0.753, val_acc=0.659, val_AUC=0.703]\n"
     ]
    },
    {
     "name": "stdout",
     "output_type": "stream",
     "text": [
      "tensor([-0.5152, -0.4394, -0.4944, -0.2705, -0.2573, -0.2337,  0.3568,  0.3062,\n",
      "         0.0342,  0.0291, -0.0879], device='cuda:0', grad_fn=<DivBackward0>)\n"
     ]
    },
    {
     "name": "stderr",
     "output_type": "stream",
     "text": [
      "Epoch 164: 100%|██████████| 3/3 [00:02<00:00,  1.05it/s, loss=19.5, acc=0.685, AUC=0.754, val_acc=0.637, val_AUC=0.705]\n"
     ]
    },
    {
     "name": "stdout",
     "output_type": "stream",
     "text": [
      "tensor([-0.5257, -0.4276, -0.4819, -0.2623, -0.2415, -0.2352,  0.3577,  0.3158,\n",
      "         0.0279,  0.0306, -0.0849], device='cuda:0', grad_fn=<DivBackward0>)\n"
     ]
    },
    {
     "name": "stderr",
     "output_type": "stream",
     "text": [
      "Epoch 165: 100%|██████████| 3/3 [00:02<00:00,  1.08it/s, loss=19.3, acc=0.682, AUC=0.756, val_acc=0.659, val_AUC=0.709]\n"
     ]
    },
    {
     "name": "stdout",
     "output_type": "stream",
     "text": [
      "tensor([-0.5151, -0.4183, -0.4766, -0.2657, -0.2268, -0.2026,  0.3650,  0.2828,\n",
      "         0.0427,  0.0214, -0.0785], device='cuda:0', grad_fn=<DivBackward0>)\n"
     ]
    },
    {
     "name": "stderr",
     "output_type": "stream",
     "text": [
      "Epoch 166: 100%|██████████| 3/3 [00:02<00:00,  1.08it/s, loss=19.4, acc=0.693, AUC=0.753, val_acc=0.668, val_AUC=0.7]\n"
     ]
    },
    {
     "name": "stdout",
     "output_type": "stream",
     "text": [
      "tensor([-0.5380, -0.4391, -0.4899, -0.2633, -0.2321, -0.2033,  0.3733,  0.2906,\n",
      "         0.0510,  0.0211, -0.0877], device='cuda:0', grad_fn=<DivBackward0>)\n"
     ]
    },
    {
     "name": "stderr",
     "output_type": "stream",
     "text": [
      "Epoch 167: 100%|██████████| 3/3 [00:02<00:00,  1.08it/s, loss=19.3, acc=0.686, AUC=0.757, val_acc=0.65, val_AUC=0.706]\n"
     ]
    },
    {
     "name": "stdout",
     "output_type": "stream",
     "text": [
      "tensor([-0.5457, -0.4390, -0.5044, -0.2765, -0.2600, -0.2303,  0.3622,  0.3094,\n",
      "         0.0474,  0.0277, -0.0898], device='cuda:0', grad_fn=<DivBackward0>)\n"
     ]
    },
    {
     "name": "stderr",
     "output_type": "stream",
     "text": [
      "Epoch 168: 100%|██████████| 3/3 [00:02<00:00,  1.07it/s, loss=19.4, acc=0.69, AUC=0.754, val_acc=0.68, val_AUC=0.699]\n"
     ]
    },
    {
     "name": "stdout",
     "output_type": "stream",
     "text": [
      "tensor([-0.5367, -0.4394, -0.4966, -0.2791, -0.2634, -0.2447,  0.3628,  0.3252,\n",
      "         0.0372,  0.0447, -0.0853], device='cuda:0', grad_fn=<DivBackward0>)\n"
     ]
    },
    {
     "name": "stderr",
     "output_type": "stream",
     "text": [
      "Epoch 169: 100%|██████████| 3/3 [00:02<00:00,  1.05it/s, loss=19.4, acc=0.688, AUC=0.754, val_acc=0.665, val_AUC=0.702]\n"
     ]
    },
    {
     "name": "stdout",
     "output_type": "stream",
     "text": [
      "tensor([-0.5385, -0.4299, -0.4935, -0.2747, -0.2521, -0.2321,  0.3665,  0.3273,\n",
      "         0.0366,  0.0376, -0.0831], device='cuda:0', grad_fn=<DivBackward0>)\n"
     ]
    },
    {
     "name": "stderr",
     "output_type": "stream",
     "text": [
      "Epoch 170: 100%|██████████| 3/3 [00:02<00:00,  1.07it/s, loss=19.3, acc=0.7, AUC=0.759, val_acc=0.659, val_AUC=0.699]\n"
     ]
    },
    {
     "name": "stdout",
     "output_type": "stream",
     "text": [
      "tensor([-0.5368, -0.4086, -0.4889, -0.2652, -0.2511, -0.2163,  0.3475,  0.3026,\n",
      "         0.0444,  0.0274, -0.0897], device='cuda:0', grad_fn=<DivBackward0>)\n"
     ]
    },
    {
     "name": "stderr",
     "output_type": "stream",
     "text": [
      "Epoch 171: 100%|██████████| 3/3 [00:02<00:00,  1.08it/s, loss=19.5, acc=0.686, AUC=0.753, val_acc=0.668, val_AUC=0.705]\n"
     ]
    },
    {
     "name": "stdout",
     "output_type": "stream",
     "text": [
      "tensor([-0.5241, -0.4090, -0.4780, -0.2605, -0.2669, -0.2101,  0.3373,  0.2914,\n",
      "         0.0530,  0.0294, -0.0996], device='cuda:0', grad_fn=<DivBackward0>)\n"
     ]
    },
    {
     "name": "stderr",
     "output_type": "stream",
     "text": [
      "Epoch 172: 100%|██████████| 3/3 [00:02<00:00,  1.08it/s, loss=19.3, acc=0.689, AUC=0.758, val_acc=0.65, val_AUC=0.7]\n"
     ]
    },
    {
     "name": "stdout",
     "output_type": "stream",
     "text": [
      "tensor([-0.5240, -0.4118, -0.4930, -0.2599, -0.2728, -0.2196,  0.3398,  0.2977,\n",
      "         0.0402,  0.0349, -0.0932], device='cuda:0', grad_fn=<DivBackward0>)\n"
     ]
    },
    {
     "name": "stderr",
     "output_type": "stream",
     "text": [
      "Epoch 173: 100%|██████████| 3/3 [00:02<00:00,  1.08it/s, loss=19.4, acc=0.689, AUC=0.755, val_acc=0.662, val_AUC=0.713]\n"
     ]
    },
    {
     "name": "stdout",
     "output_type": "stream",
     "text": [
      "tensor([-0.5276, -0.4126, -0.5016, -0.2734, -0.2689, -0.2387,  0.3366,  0.3104,\n",
      "         0.0527,  0.0416, -0.1088], device='cuda:0', grad_fn=<DivBackward0>)\n"
     ]
    },
    {
     "name": "stderr",
     "output_type": "stream",
     "text": [
      "Epoch 174: 100%|██████████| 3/3 [00:02<00:00,  1.05it/s, loss=19.4, acc=0.69, AUC=0.755, val_acc=0.653, val_AUC=0.701]\n"
     ]
    },
    {
     "name": "stdout",
     "output_type": "stream",
     "text": [
      "tensor([-0.5357, -0.4181, -0.4942, -0.2728, -0.2691, -0.2387,  0.3444,  0.3078,\n",
      "         0.0507,  0.0337, -0.1037], device='cuda:0', grad_fn=<DivBackward0>)\n"
     ]
    },
    {
     "name": "stderr",
     "output_type": "stream",
     "text": [
      "Epoch 175: 100%|██████████| 3/3 [00:02<00:00,  1.08it/s, loss=19.4, acc=0.686, AUC=0.754, val_acc=0.65, val_AUC=0.699]\n"
     ]
    },
    {
     "name": "stdout",
     "output_type": "stream",
     "text": [
      "tensor([-0.5436, -0.4166, -0.4879, -0.2667, -0.2441, -0.2307,  0.3376,  0.3054,\n",
      "         0.0445,  0.0330, -0.1014], device='cuda:0', grad_fn=<DivBackward0>)\n"
     ]
    },
    {
     "name": "stderr",
     "output_type": "stream",
     "text": [
      "Epoch 176: 100%|██████████| 3/3 [00:02<00:00,  1.08it/s, loss=19.4, acc=0.687, AUC=0.756, val_acc=0.65, val_AUC=0.711]\n"
     ]
    },
    {
     "name": "stdout",
     "output_type": "stream",
     "text": [
      "tensor([-0.5431, -0.3955, -0.4855, -0.2687, -0.2504, -0.2390,  0.3532,  0.2997,\n",
      "         0.0424,  0.0399, -0.0810], device='cuda:0', grad_fn=<DivBackward0>)\n"
     ]
    },
    {
     "name": "stderr",
     "output_type": "stream",
     "text": [
      "Epoch 177: 100%|██████████| 3/3 [00:02<00:00,  1.07it/s, loss=19.3, acc=0.691, AUC=0.758, val_acc=0.659, val_AUC=0.707]\n"
     ]
    },
    {
     "name": "stdout",
     "output_type": "stream",
     "text": [
      "tensor([-0.5316, -0.4000, -0.4827, -0.2655, -0.2605, -0.2423,  0.3591,  0.2950,\n",
      "         0.0441,  0.0351, -0.0938], device='cuda:0', grad_fn=<DivBackward0>)\n"
     ]
    },
    {
     "name": "stderr",
     "output_type": "stream",
     "text": [
      "Epoch 178: 100%|██████████| 3/3 [00:02<00:00,  1.08it/s, loss=19.4, acc=0.687, AUC=0.755, val_acc=0.674, val_AUC=0.72]\n"
     ]
    },
    {
     "name": "stdout",
     "output_type": "stream",
     "text": [
      "tensor([-0.5113, -0.3952, -0.4731, -0.2677, -0.2527, -0.2423,  0.3442,  0.3027,\n",
      "         0.0472,  0.0390, -0.0958], device='cuda:0', grad_fn=<DivBackward0>)\n"
     ]
    },
    {
     "name": "stderr",
     "output_type": "stream",
     "text": [
      "Epoch 179: 100%|██████████| 3/3 [00:02<00:00,  1.05it/s, loss=19.2, acc=0.695, AUC=0.76, val_acc=0.662, val_AUC=0.71]\n"
     ]
    },
    {
     "name": "stdout",
     "output_type": "stream",
     "text": [
      "tensor([-0.5221, -0.3953, -0.4776, -0.2689, -0.2558, -0.2478,  0.3486,  0.3054,\n",
      "         0.0451,  0.0346, -0.0958], device='cuda:0', grad_fn=<DivBackward0>)\n"
     ]
    },
    {
     "name": "stderr",
     "output_type": "stream",
     "text": [
      "Epoch 180: 100%|██████████| 3/3 [00:02<00:00,  1.08it/s, loss=19.4, acc=0.69, AUC=0.755, val_acc=0.647, val_AUC=0.718]\n"
     ]
    },
    {
     "name": "stdout",
     "output_type": "stream",
     "text": [
      "tensor([-0.5171, -0.3983, -0.4856, -0.2681, -0.2529, -0.2432,  0.3514,  0.3008,\n",
      "         0.0454,  0.0350, -0.0985], device='cuda:0', grad_fn=<DivBackward0>)\n"
     ]
    },
    {
     "name": "stderr",
     "output_type": "stream",
     "text": [
      "Epoch 181: 100%|██████████| 3/3 [00:02<00:00,  1.07it/s, loss=19.3, acc=0.691, AUC=0.759, val_acc=0.665, val_AUC=0.692]\n"
     ]
    },
    {
     "name": "stdout",
     "output_type": "stream",
     "text": [
      "tensor([-0.5177, -0.4049, -0.4888, -0.2673, -0.2591, -0.2454,  0.3584,  0.3029,\n",
      "         0.0528,  0.0276, -0.1039], device='cuda:0', grad_fn=<DivBackward0>)\n"
     ]
    },
    {
     "name": "stderr",
     "output_type": "stream",
     "text": [
      "Epoch 182: 100%|██████████| 3/3 [00:02<00:00,  1.07it/s, loss=19.3, acc=0.687, AUC=0.757, val_acc=0.65, val_AUC=0.708]\n"
     ]
    },
    {
     "name": "stdout",
     "output_type": "stream",
     "text": [
      "tensor([-0.5211, -0.4064, -0.4958, -0.2754, -0.2656, -0.2334,  0.3531,  0.3078,\n",
      "         0.0592,  0.0280, -0.0996], device='cuda:0', grad_fn=<DivBackward0>)\n"
     ]
    },
    {
     "name": "stderr",
     "output_type": "stream",
     "text": [
      "Epoch 183: 100%|██████████| 3/3 [00:02<00:00,  1.07it/s, loss=19.4, acc=0.685, AUC=0.753, val_acc=0.659, val_AUC=0.7]\n"
     ]
    },
    {
     "name": "stdout",
     "output_type": "stream",
     "text": [
      "tensor([-0.5131, -0.4054, -0.4917, -0.2800, -0.2524, -0.2413,  0.3614,  0.3127,\n",
      "         0.0472,  0.0271, -0.1120], device='cuda:0', grad_fn=<DivBackward0>)\n"
     ]
    },
    {
     "name": "stderr",
     "output_type": "stream",
     "text": [
      "Epoch 184: 100%|██████████| 3/3 [00:02<00:00,  1.05it/s, loss=19.3, acc=0.696, AUC=0.757, val_acc=0.665, val_AUC=0.705]\n"
     ]
    },
    {
     "name": "stdout",
     "output_type": "stream",
     "text": [
      "tensor([-0.5187, -0.4214, -0.4892, -0.2775, -0.2528, -0.2405,  0.3585,  0.3100,\n",
      "         0.0531,  0.0272, -0.0997], device='cuda:0', grad_fn=<DivBackward0>)\n"
     ]
    },
    {
     "name": "stderr",
     "output_type": "stream",
     "text": [
      "Epoch 185: 100%|██████████| 3/3 [00:02<00:00,  1.07it/s, loss=19.3, acc=0.691, AUC=0.758, val_acc=0.647, val_AUC=0.71]\n"
     ]
    },
    {
     "name": "stdout",
     "output_type": "stream",
     "text": [
      "tensor([-0.5312, -0.4255, -0.5049, -0.2872, -0.2457, -0.2437,  0.3726,  0.3260,\n",
      "         0.0338,  0.0268, -0.0945], device='cuda:0', grad_fn=<DivBackward0>)\n"
     ]
    },
    {
     "name": "stderr",
     "output_type": "stream",
     "text": [
      "Epoch 186: 100%|██████████| 3/3 [00:02<00:00,  1.07it/s, loss=19.2, acc=0.695, AUC=0.761, val_acc=0.665, val_AUC=0.701]\n"
     ]
    },
    {
     "name": "stdout",
     "output_type": "stream",
     "text": [
      "tensor([-0.5291, -0.4327, -0.5044, -0.2881, -0.2502, -0.2498,  0.3688,  0.3326,\n",
      "         0.0380,  0.0341, -0.0800], device='cuda:0', grad_fn=<DivBackward0>)\n"
     ]
    },
    {
     "name": "stderr",
     "output_type": "stream",
     "text": [
      "Epoch 187: 100%|██████████| 3/3 [00:02<00:00,  1.07it/s, loss=19.3, acc=0.688, AUC=0.758, val_acc=0.665, val_AUC=0.706]\n"
     ]
    },
    {
     "name": "stdout",
     "output_type": "stream",
     "text": [
      "tensor([-0.5101, -0.4280, -0.5061, -0.2860, -0.2597, -0.2310,  0.3628,  0.3036,\n",
      "         0.0564,  0.0214, -0.0844], device='cuda:0', grad_fn=<DivBackward0>)\n"
     ]
    },
    {
     "name": "stderr",
     "output_type": "stream",
     "text": [
      "Epoch 188: 100%|██████████| 3/3 [00:02<00:00,  1.07it/s, loss=19.3, acc=0.692, AUC=0.757, val_acc=0.656, val_AUC=0.713]\n"
     ]
    },
    {
     "name": "stdout",
     "output_type": "stream",
     "text": [
      "tensor([-0.5023, -0.4274, -0.5086, -0.2913, -0.2608, -0.2277,  0.3611,  0.3068,\n",
      "         0.0494,  0.0284, -0.0879], device='cuda:0', grad_fn=<DivBackward0>)\n"
     ]
    },
    {
     "name": "stderr",
     "output_type": "stream",
     "text": [
      "Epoch 189: 100%|██████████| 3/3 [00:02<00:00,  1.05it/s, loss=19.3, acc=0.687, AUC=0.76, val_acc=0.662, val_AUC=0.705]\n"
     ]
    },
    {
     "name": "stdout",
     "output_type": "stream",
     "text": [
      "tensor([-0.5123, -0.4095, -0.4973, -0.2755, -0.2568, -0.2310,  0.3625,  0.3082,\n",
      "         0.0356,  0.0281, -0.0827], device='cuda:0', grad_fn=<DivBackward0>)\n"
     ]
    },
    {
     "name": "stderr",
     "output_type": "stream",
     "text": [
      "Epoch 190: 100%|██████████| 3/3 [00:02<00:00,  1.07it/s, loss=19.3, acc=0.686, AUC=0.759, val_acc=0.65, val_AUC=0.7]\n"
     ]
    },
    {
     "name": "stdout",
     "output_type": "stream",
     "text": [
      "tensor([-0.5188, -0.4032, -0.4787, -0.2731, -0.2326, -0.2256,  0.3644,  0.2967,\n",
      "         0.0257,  0.0225, -0.0740], device='cuda:0', grad_fn=<DivBackward0>)\n"
     ]
    },
    {
     "name": "stderr",
     "output_type": "stream",
     "text": [
      "Epoch 191: 100%|██████████| 3/3 [00:02<00:00,  1.07it/s, loss=19.3, acc=0.692, AUC=0.757, val_acc=0.662, val_AUC=0.702]\n"
     ]
    },
    {
     "name": "stdout",
     "output_type": "stream",
     "text": [
      "tensor([-0.5369, -0.4138, -0.4868, -0.2757, -0.2339, -0.2311,  0.3725,  0.3031,\n",
      "         0.0283,  0.0223, -0.0837], device='cuda:0', grad_fn=<DivBackward0>)\n"
     ]
    },
    {
     "name": "stderr",
     "output_type": "stream",
     "text": [
      "Epoch 192: 100%|██████████| 3/3 [00:02<00:00,  1.07it/s, loss=19.4, acc=0.688, AUC=0.755, val_acc=0.665, val_AUC=0.717]\n"
     ]
    },
    {
     "name": "stdout",
     "output_type": "stream",
     "text": [
      "tensor([-0.5296, -0.4025, -0.4845, -0.2728, -0.2366, -0.2304,  0.3656,  0.3004,\n",
      "         0.0249,  0.0262, -0.0833], device='cuda:0', grad_fn=<DivBackward0>)\n"
     ]
    },
    {
     "name": "stderr",
     "output_type": "stream",
     "text": [
      "Epoch 193: 100%|██████████| 3/3 [00:02<00:00,  1.07it/s, loss=19.2, acc=0.695, AUC=0.761, val_acc=0.644, val_AUC=0.708]\n"
     ]
    },
    {
     "name": "stdout",
     "output_type": "stream",
     "text": [
      "tensor([-0.5325, -0.3981, -0.4879, -0.2723, -0.2307, -0.2356,  0.3756,  0.2998,\n",
      "         0.0377,  0.0233, -0.0834], device='cuda:0', grad_fn=<DivBackward0>)\n"
     ]
    },
    {
     "name": "stderr",
     "output_type": "stream",
     "text": [
      "Epoch 194: 100%|██████████| 3/3 [00:02<00:00,  1.05it/s, loss=19.2, acc=0.694, AUC=0.761, val_acc=0.656, val_AUC=0.705]\n"
     ]
    },
    {
     "name": "stdout",
     "output_type": "stream",
     "text": [
      "tensor([-0.5302, -0.3980, -0.4774, -0.2687, -0.2344, -0.2365,  0.3685,  0.3109,\n",
      "         0.0175,  0.0261, -0.0862], device='cuda:0', grad_fn=<DivBackward0>)\n"
     ]
    },
    {
     "name": "stderr",
     "output_type": "stream",
     "text": [
      "Epoch 195: 100%|██████████| 3/3 [00:02<00:00,  1.08it/s, loss=19.3, acc=0.693, AUC=0.757, val_acc=0.659, val_AUC=0.707]\n"
     ]
    },
    {
     "name": "stdout",
     "output_type": "stream",
     "text": [
      "tensor([-0.5123, -0.3974, -0.4732, -0.2667, -0.2322, -0.2141,  0.3565,  0.2878,\n",
      "         0.0398,  0.0216, -0.0812], device='cuda:0', grad_fn=<DivBackward0>)\n"
     ]
    },
    {
     "name": "stderr",
     "output_type": "stream",
     "text": [
      "Epoch 196: 100%|██████████| 3/3 [00:02<00:00,  1.07it/s, loss=19.3, acc=0.694, AUC=0.757, val_acc=0.662, val_AUC=0.71]\n"
     ]
    },
    {
     "name": "stdout",
     "output_type": "stream",
     "text": [
      "tensor([-0.5218, -0.3970, -0.4668, -0.2680, -0.2418, -0.2159,  0.3610,  0.2952,\n",
      "         0.0368,  0.0187, -0.0842], device='cuda:0', grad_fn=<DivBackward0>)\n"
     ]
    },
    {
     "name": "stderr",
     "output_type": "stream",
     "text": [
      "Epoch 197: 100%|██████████| 3/3 [00:02<00:00,  1.07it/s, loss=19.3, acc=0.688, AUC=0.758, val_acc=0.662, val_AUC=0.709]\n"
     ]
    },
    {
     "name": "stdout",
     "output_type": "stream",
     "text": [
      "tensor([-0.5284, -0.4066, -0.4787, -0.2793, -0.2396, -0.2289,  0.3635,  0.3043,\n",
      "         0.0374,  0.0292, -0.0844], device='cuda:0', grad_fn=<DivBackward0>)\n"
     ]
    },
    {
     "name": "stderr",
     "output_type": "stream",
     "text": [
      "Epoch 198: 100%|██████████| 3/3 [00:02<00:00,  1.07it/s, loss=19.3, acc=0.695, AUC=0.757, val_acc=0.644, val_AUC=0.704]\n"
     ]
    },
    {
     "name": "stdout",
     "output_type": "stream",
     "text": [
      "tensor([-0.5250, -0.4032, -0.4718, -0.2787, -0.2503, -0.2239,  0.3573,  0.3150,\n",
      "         0.0226,  0.0293, -0.0828], device='cuda:0', grad_fn=<DivBackward0>)\n"
     ]
    },
    {
     "name": "stderr",
     "output_type": "stream",
     "text": [
      "Epoch 199: 100%|██████████| 3/3 [00:02<00:00,  1.05it/s, loss=19.3, acc=0.689, AUC=0.758, val_acc=0.647, val_AUC=0.693]\n"
     ]
    },
    {
     "name": "stdout",
     "output_type": "stream",
     "text": [
      "tensor([-0.5223, -0.4053, -0.4770, -0.2787, -0.2482, -0.2187,  0.3598,  0.3081,\n",
      "         0.0373,  0.0243, -0.0881], device='cuda:0', grad_fn=<DivBackward0>)\n"
     ]
    },
    {
     "name": "stderr",
     "output_type": "stream",
     "text": [
      "Epoch 200: 100%|██████████| 3/3 [00:02<00:00,  1.07it/s, loss=19.4, acc=0.682, AUC=0.755, val_acc=0.64, val_AUC=0.699]\n"
     ]
    },
    {
     "name": "stdout",
     "output_type": "stream",
     "text": [
      "tensor([-0.5281, -0.4195, -0.4800, -0.2897, -0.2574, -0.2167,  0.3497,  0.3169,\n",
      "         0.0441,  0.0329, -0.0879], device='cuda:0', grad_fn=<DivBackward0>)\n"
     ]
    },
    {
     "name": "stderr",
     "output_type": "stream",
     "text": [
      "Epoch 201: 100%|██████████| 3/3 [00:02<00:00,  1.07it/s, loss=19.3, acc=0.688, AUC=0.757, val_acc=0.656, val_AUC=0.709]\n"
     ]
    },
    {
     "name": "stdout",
     "output_type": "stream",
     "text": [
      "tensor([-0.5208, -0.4163, -0.4877, -0.2806, -0.2499, -0.2106,  0.3559,  0.3097,\n",
      "         0.0458,  0.0258, -0.0953], device='cuda:0', grad_fn=<DivBackward0>)\n"
     ]
    },
    {
     "name": "stderr",
     "output_type": "stream",
     "text": [
      "Epoch 202: 100%|██████████| 3/3 [00:02<00:00,  1.07it/s, loss=19.3, acc=0.687, AUC=0.757, val_acc=0.668, val_AUC=0.718]\n"
     ]
    },
    {
     "name": "stdout",
     "output_type": "stream",
     "text": [
      "tensor([-0.5146, -0.4129, -0.4681, -0.2776, -0.2522, -0.1941,  0.3612,  0.2881,\n",
      "         0.0527,  0.0123, -0.0884], device='cuda:0', grad_fn=<DivBackward0>)\n"
     ]
    },
    {
     "name": "stderr",
     "output_type": "stream",
     "text": [
      "Epoch 203: 100%|██████████| 3/3 [00:02<00:00,  1.08it/s, loss=19.3, acc=0.691, AUC=0.758, val_acc=0.668, val_AUC=0.712]\n"
     ]
    },
    {
     "name": "stdout",
     "output_type": "stream",
     "text": [
      "tensor([-0.5129, -0.4138, -0.4562, -0.2781, -0.2404, -0.1551,  0.3583,  0.2698,\n",
      "         0.0713,  0.0030, -0.0745], device='cuda:0', grad_fn=<DivBackward0>)\n"
     ]
    },
    {
     "name": "stderr",
     "output_type": "stream",
     "text": [
      "Epoch 204: 100%|██████████| 3/3 [00:02<00:00,  1.06it/s, loss=19.3, acc=0.694, AUC=0.759, val_acc=0.668, val_AUC=0.707]\n"
     ]
    },
    {
     "name": "stdout",
     "output_type": "stream",
     "text": [
      "tensor([-0.5066, -0.4094, -0.4575, -0.2786, -0.2377, -0.1584,  0.3583,  0.2701,\n",
      "         0.0693, -0.0040, -0.0898], device='cuda:0', grad_fn=<DivBackward0>)\n"
     ]
    },
    {
     "name": "stderr",
     "output_type": "stream",
     "text": [
      "Epoch 205: 100%|██████████| 3/3 [00:02<00:00,  1.08it/s, loss=19.1, acc=0.698, AUC=0.764, val_acc=0.662, val_AUC=0.705]\n"
     ]
    },
    {
     "name": "stdout",
     "output_type": "stream",
     "text": [
      "tensor([-0.5183, -0.4122, -0.4442, -0.2799, -0.2413, -0.1548,  0.3507,  0.2776,\n",
      "         0.0615,  0.0101, -0.0802], device='cuda:0', grad_fn=<DivBackward0>)\n"
     ]
    },
    {
     "name": "stderr",
     "output_type": "stream",
     "text": [
      "Epoch 206: 100%|██████████| 3/3 [00:02<00:00,  1.08it/s, loss=19.2, acc=0.696, AUC=0.761, val_acc=0.674, val_AUC=0.71]\n"
     ]
    },
    {
     "name": "stdout",
     "output_type": "stream",
     "text": [
      "tensor([-0.5149, -0.4111, -0.4437, -0.2661, -0.2341, -0.1534,  0.3516,  0.2775,\n",
      "         0.0516, -0.0017, -0.0801], device='cuda:0', grad_fn=<DivBackward0>)\n"
     ]
    },
    {
     "name": "stderr",
     "output_type": "stream",
     "text": [
      "Epoch 207: 100%|██████████| 3/3 [00:02<00:00,  1.08it/s, loss=19.2, acc=0.699, AUC=0.763, val_acc=0.656, val_AUC=0.706]\n"
     ]
    },
    {
     "name": "stdout",
     "output_type": "stream",
     "text": [
      "tensor([-0.5137, -0.4127, -0.4408, -0.2741, -0.2271, -0.1548,  0.3503,  0.2820,\n",
      "         0.0486,  0.0119, -0.0849], device='cuda:0', grad_fn=<DivBackward0>)\n"
     ]
    },
    {
     "name": "stderr",
     "output_type": "stream",
     "text": [
      "Epoch 208: 100%|██████████| 3/3 [00:02<00:00,  1.07it/s, loss=19.3, acc=0.695, AUC=0.759, val_acc=0.65, val_AUC=0.698]\n"
     ]
    },
    {
     "name": "stdout",
     "output_type": "stream",
     "text": [
      "tensor([-0.5115, -0.4048, -0.4449, -0.2693, -0.2331, -0.1829,  0.3527,  0.3065,\n",
      "         0.0241,  0.0215, -0.0746], device='cuda:0', grad_fn=<DivBackward0>)\n"
     ]
    },
    {
     "name": "stderr",
     "output_type": "stream",
     "text": [
      "Epoch 209: 100%|██████████| 3/3 [00:02<00:00,  1.05it/s, loss=19.3, acc=0.696, AUC=0.758, val_acc=0.662, val_AUC=0.711]\n"
     ]
    },
    {
     "name": "stdout",
     "output_type": "stream",
     "text": [
      "tensor([-0.5165, -0.4151, -0.4545, -0.2726, -0.2408, -0.1935,  0.3592,  0.3097,\n",
      "         0.0364,  0.0168, -0.0821], device='cuda:0', grad_fn=<DivBackward0>)\n"
     ]
    },
    {
     "name": "stderr",
     "output_type": "stream",
     "text": [
      "Epoch 210: 100%|██████████| 3/3 [00:02<00:00,  1.07it/s, loss=19.3, acc=0.696, AUC=0.76, val_acc=0.659, val_AUC=0.706]\n"
     ]
    },
    {
     "name": "stdout",
     "output_type": "stream",
     "text": [
      "tensor([-0.5195, -0.4118, -0.4589, -0.2729, -0.2489, -0.1867,  0.3620,  0.3139,\n",
      "         0.0418,  0.0289, -0.0886], device='cuda:0', grad_fn=<DivBackward0>)\n"
     ]
    },
    {
     "name": "stderr",
     "output_type": "stream",
     "text": [
      "Epoch 211: 100%|██████████| 3/3 [00:02<00:00,  1.07it/s, loss=19.2, acc=0.697, AUC=0.761, val_acc=0.656, val_AUC=0.704]\n"
     ]
    },
    {
     "name": "stdout",
     "output_type": "stream",
     "text": [
      "tensor([-0.5285, -0.4308, -0.4559, -0.2805, -0.2458, -0.1748,  0.3567,  0.3100,\n",
      "         0.0510,  0.0139, -0.0867], device='cuda:0', grad_fn=<DivBackward0>)\n"
     ]
    },
    {
     "name": "stderr",
     "output_type": "stream",
     "text": [
      "Epoch 212: 100%|██████████| 3/3 [00:02<00:00,  1.07it/s, loss=19.2, acc=0.689, AUC=0.76, val_acc=0.668, val_AUC=0.699]\n"
     ]
    },
    {
     "name": "stdout",
     "output_type": "stream",
     "text": [
      "tensor([-0.5316, -0.4277, -0.4479, -0.2764, -0.2425, -0.1717,  0.3585,  0.3142,\n",
      "         0.0463,  0.0191, -0.0850], device='cuda:0', grad_fn=<DivBackward0>)\n"
     ]
    },
    {
     "name": "stderr",
     "output_type": "stream",
     "text": [
      "Epoch 213: 100%|██████████| 3/3 [00:02<00:00,  1.07it/s, loss=19.3, acc=0.691, AUC=0.759, val_acc=0.668, val_AUC=0.7]\n"
     ]
    },
    {
     "name": "stdout",
     "output_type": "stream",
     "text": [
      "tensor([-0.5362, -0.4219, -0.4607, -0.2842, -0.2557, -0.1885,  0.3626,  0.3243,\n",
      "         0.0440,  0.0191, -0.0857], device='cuda:0', grad_fn=<DivBackward0>)\n"
     ]
    },
    {
     "name": "stderr",
     "output_type": "stream",
     "text": [
      "Epoch 214: 100%|██████████| 3/3 [00:02<00:00,  1.05it/s, loss=19.2, acc=0.698, AUC=0.761, val_acc=0.659, val_AUC=0.696]\n"
     ]
    },
    {
     "name": "stdout",
     "output_type": "stream",
     "text": [
      "tensor([-0.5331, -0.4314, -0.4497, -0.2803, -0.2416, -0.1879,  0.3763,  0.3297,\n",
      "         0.0320,  0.0230, -0.0859], device='cuda:0', grad_fn=<DivBackward0>)\n"
     ]
    },
    {
     "name": "stderr",
     "output_type": "stream",
     "text": [
      "Epoch 215: 100%|██████████| 3/3 [00:02<00:00,  1.07it/s, loss=19.3, acc=0.695, AUC=0.76, val_acc=0.659, val_AUC=0.704]\n"
     ]
    },
    {
     "name": "stdout",
     "output_type": "stream",
     "text": [
      "tensor([-0.5294, -0.4290, -0.4536, -0.2846, -0.2490, -0.1937,  0.3725,  0.3285,\n",
      "         0.0417,  0.0288, -0.0831], device='cuda:0', grad_fn=<DivBackward0>)\n"
     ]
    },
    {
     "name": "stderr",
     "output_type": "stream",
     "text": [
      "Epoch 216: 100%|██████████| 3/3 [00:02<00:00,  1.06it/s, loss=19.2, acc=0.692, AUC=0.763, val_acc=0.662, val_AUC=0.712]\n"
     ]
    },
    {
     "name": "stdout",
     "output_type": "stream",
     "text": [
      "tensor([-0.5274, -0.4214, -0.4712, -0.2837, -0.2513, -0.2087,  0.3730,  0.3261,\n",
      "         0.0326,  0.0307, -0.0803], device='cuda:0', grad_fn=<DivBackward0>)\n"
     ]
    },
    {
     "name": "stderr",
     "output_type": "stream",
     "text": [
      "Epoch 217: 100%|██████████| 3/3 [00:02<00:00,  1.07it/s, loss=19.2, acc=0.693, AUC=0.763, val_acc=0.665, val_AUC=0.693]\n"
     ]
    },
    {
     "name": "stdout",
     "output_type": "stream",
     "text": [
      "tensor([-0.5401, -0.4270, -0.4637, -0.2778, -0.2418, -0.2087,  0.3718,  0.3326,\n",
      "         0.0388,  0.0209, -0.0779], device='cuda:0', grad_fn=<DivBackward0>)\n"
     ]
    },
    {
     "name": "stderr",
     "output_type": "stream",
     "text": [
      "Epoch 218: 100%|██████████| 3/3 [00:02<00:00,  1.07it/s, loss=19.3, acc=0.687, AUC=0.756, val_acc=0.662, val_AUC=0.702]\n"
     ]
    },
    {
     "name": "stdout",
     "output_type": "stream",
     "text": [
      "tensor([-0.5310, -0.4076, -0.4474, -0.2711, -0.2426, -0.1867,  0.3692,  0.3083,\n",
      "         0.0398,  0.0062, -0.0786], device='cuda:0', grad_fn=<DivBackward0>)\n"
     ]
    },
    {
     "name": "stderr",
     "output_type": "stream",
     "text": [
      "Epoch 219: 100%|██████████| 3/3 [00:02<00:00,  1.05it/s, loss=19.2, acc=0.691, AUC=0.762, val_acc=0.677, val_AUC=0.709]\n"
     ]
    },
    {
     "name": "stdout",
     "output_type": "stream",
     "text": [
      "tensor([-0.5345, -0.4154, -0.4575, -0.2714, -0.2478, -0.1806,  0.3699,  0.3104,\n",
      "         0.0591,  0.0061, -0.0924], device='cuda:0', grad_fn=<DivBackward0>)\n"
     ]
    },
    {
     "name": "stderr",
     "output_type": "stream",
     "text": [
      "Epoch 220: 100%|██████████| 3/3 [00:02<00:00,  1.07it/s, loss=19.3, acc=0.689, AUC=0.757, val_acc=0.64, val_AUC=0.696]\n"
     ]
    },
    {
     "name": "stdout",
     "output_type": "stream",
     "text": [
      "tensor([-0.5328, -0.4080, -0.4440, -0.2677, -0.2455, -0.1890,  0.3606,  0.3149,\n",
      "         0.0478,  0.0039, -0.0920], device='cuda:0', grad_fn=<DivBackward0>)\n"
     ]
    },
    {
     "name": "stderr",
     "output_type": "stream",
     "text": [
      "Epoch 221: 100%|██████████| 3/3 [00:02<00:00,  1.07it/s, loss=19.3, acc=0.691, AUC=0.759, val_acc=0.653, val_AUC=0.701]\n"
     ]
    },
    {
     "name": "stdout",
     "output_type": "stream",
     "text": [
      "tensor([-0.5352, -0.3872, -0.4458, -0.2664, -0.2430, -0.2013,  0.3531,  0.3245,\n",
      "         0.0374,  0.0132, -0.0914], device='cuda:0', grad_fn=<DivBackward0>)\n"
     ]
    },
    {
     "name": "stderr",
     "output_type": "stream",
     "text": [
      "Epoch 222: 100%|██████████| 3/3 [00:02<00:00,  1.07it/s, loss=19.3, acc=0.694, AUC=0.758, val_acc=0.665, val_AUC=0.699]\n"
     ]
    },
    {
     "name": "stdout",
     "output_type": "stream",
     "text": [
      "tensor([-0.5206, -0.3905, -0.4460, -0.2641, -0.2428, -0.1971,  0.3509,  0.3142,\n",
      "         0.0283,  0.0147, -0.0796], device='cuda:0', grad_fn=<DivBackward0>)\n"
     ]
    },
    {
     "name": "stderr",
     "output_type": "stream",
     "text": [
      "Epoch 223: 100%|██████████| 3/3 [00:02<00:00,  1.07it/s, loss=19.2, acc=0.696, AUC=0.762, val_acc=0.647, val_AUC=0.698]\n"
     ]
    },
    {
     "name": "stdout",
     "output_type": "stream",
     "text": [
      "tensor([-0.5259, -0.3995, -0.4509, -0.2681, -0.2375, -0.1949,  0.3528,  0.3300,\n",
      "         0.0187,  0.0104, -0.0822], device='cuda:0', grad_fn=<DivBackward0>)\n"
     ]
    },
    {
     "name": "stderr",
     "output_type": "stream",
     "text": [
      "Epoch 224: 100%|██████████| 3/3 [00:02<00:00,  1.05it/s, loss=19.2, acc=0.697, AUC=0.761, val_acc=0.662, val_AUC=0.705]\n"
     ]
    },
    {
     "name": "stdout",
     "output_type": "stream",
     "text": [
      "tensor([-0.5320, -0.4002, -0.4550, -0.2658, -0.2493, -0.2151,  0.3447,  0.3406,\n",
      "         0.0181,  0.0128, -0.0937], device='cuda:0', grad_fn=<DivBackward0>)\n"
     ]
    },
    {
     "name": "stderr",
     "output_type": "stream",
     "text": [
      "Epoch 225: 100%|██████████| 3/3 [00:02<00:00,  1.07it/s, loss=19.3, acc=0.692, AUC=0.759, val_acc=0.668, val_AUC=0.71]\n"
     ]
    },
    {
     "name": "stdout",
     "output_type": "stream",
     "text": [
      "tensor([-0.5295, -0.3975, -0.4626, -0.2668, -0.2583, -0.2046,  0.3526,  0.3385,\n",
      "         0.0291,  0.0223, -0.0893], device='cuda:0', grad_fn=<DivBackward0>)\n"
     ]
    },
    {
     "name": "stderr",
     "output_type": "stream",
     "text": [
      "Epoch 226: 100%|██████████| 3/3 [00:02<00:00,  1.07it/s, loss=19.2, acc=0.697, AUC=0.762, val_acc=0.668, val_AUC=0.712]\n"
     ]
    },
    {
     "name": "stdout",
     "output_type": "stream",
     "text": [
      "tensor([-0.5344, -0.3932, -0.4609, -0.2765, -0.2565, -0.2154,  0.3598,  0.3417,\n",
      "         0.0408,  0.0082, -0.0869], device='cuda:0', grad_fn=<DivBackward0>)\n"
     ]
    },
    {
     "name": "stderr",
     "output_type": "stream",
     "text": [
      "Epoch 227: 100%|██████████| 3/3 [00:02<00:00,  1.07it/s, loss=19.3, acc=0.699, AUC=0.758, val_acc=0.65, val_AUC=0.705]\n"
     ]
    },
    {
     "name": "stdout",
     "output_type": "stream",
     "text": [
      "tensor([-0.5422, -0.4021, -0.4617, -0.2771, -0.2557, -0.2075,  0.3672,  0.3301,\n",
      "         0.0415,  0.0069, -0.0817], device='cuda:0', grad_fn=<DivBackward0>)\n"
     ]
    },
    {
     "name": "stderr",
     "output_type": "stream",
     "text": [
      "Epoch 228: 100%|██████████| 3/3 [00:02<00:00,  1.07it/s, loss=19.2, acc=0.694, AUC=0.762, val_acc=0.659, val_AUC=0.695]\n"
     ]
    },
    {
     "name": "stdout",
     "output_type": "stream",
     "text": [
      "tensor([-0.5345, -0.3991, -0.4688, -0.2735, -0.2667, -0.1946,  0.3550,  0.3306,\n",
      "         0.0517,  0.0081, -0.0889], device='cuda:0', grad_fn=<DivBackward0>)\n"
     ]
    },
    {
     "name": "stderr",
     "output_type": "stream",
     "text": [
      "Epoch 229: 100%|██████████| 3/3 [00:02<00:00,  1.05it/s, loss=19.2, acc=0.691, AUC=0.761, val_acc=0.665, val_AUC=0.707]\n"
     ]
    },
    {
     "name": "stdout",
     "output_type": "stream",
     "text": [
      "tensor([-0.5339, -0.3964, -0.4628, -0.2799, -0.2842, -0.1862,  0.3490,  0.3387,\n",
      "         0.0653,  0.0033, -0.0895], device='cuda:0', grad_fn=<DivBackward0>)\n"
     ]
    },
    {
     "name": "stderr",
     "output_type": "stream",
     "text": [
      "Epoch 230: 100%|██████████| 3/3 [00:02<00:00,  1.07it/s, loss=19.1, acc=0.697, AUC=0.764, val_acc=0.665, val_AUC=0.706]\n"
     ]
    },
    {
     "name": "stdout",
     "output_type": "stream",
     "text": [
      "tensor([-0.5442, -0.4039, -0.4714, -0.2768, -0.2772, -0.1989,  0.3500,  0.3526,\n",
      "         0.0500,  0.0142, -0.0792], device='cuda:0', grad_fn=<DivBackward0>)\n"
     ]
    },
    {
     "name": "stderr",
     "output_type": "stream",
     "text": [
      "Epoch 231: 100%|██████████| 3/3 [00:02<00:00,  1.07it/s, loss=19.3, acc=0.687, AUC=0.758, val_acc=0.65, val_AUC=0.71]\n"
     ]
    },
    {
     "name": "stdout",
     "output_type": "stream",
     "text": [
      "tensor([-0.5470, -0.3950, -0.4733, -0.2756, -0.2742, -0.2072,  0.3576,  0.3569,\n",
      "         0.0404,  0.0095, -0.0921], device='cuda:0', grad_fn=<DivBackward0>)\n"
     ]
    },
    {
     "name": "stderr",
     "output_type": "stream",
     "text": [
      "Epoch 232: 100%|██████████| 3/3 [00:02<00:00,  1.07it/s, loss=19.2, acc=0.696, AUC=0.759, val_acc=0.659, val_AUC=0.709]\n"
     ]
    },
    {
     "name": "stdout",
     "output_type": "stream",
     "text": [
      "tensor([-0.5520, -0.3946, -0.4717, -0.2702, -0.2794, -0.2093,  0.3634,  0.3503,\n",
      "         0.0443,  0.0124, -0.0905], device='cuda:0', grad_fn=<DivBackward0>)\n"
     ]
    },
    {
     "name": "stderr",
     "output_type": "stream",
     "text": [
      "Epoch 233: 100%|██████████| 3/3 [00:02<00:00,  1.06it/s, loss=19.2, acc=0.697, AUC=0.762, val_acc=0.674, val_AUC=0.715]\n"
     ]
    },
    {
     "name": "stdout",
     "output_type": "stream",
     "text": [
      "tensor([-0.5398, -0.4073, -0.4736, -0.2784, -0.2764, -0.2102,  0.3622,  0.3551,\n",
      "         0.0443,  0.0114, -0.0973], device='cuda:0', grad_fn=<DivBackward0>)\n"
     ]
    },
    {
     "name": "stderr",
     "output_type": "stream",
     "text": [
      "Epoch 234: 100%|██████████| 3/3 [00:02<00:00,  1.05it/s, loss=19.1, acc=0.693, AUC=0.763, val_acc=0.662, val_AUC=0.706]\n"
     ]
    },
    {
     "name": "stdout",
     "output_type": "stream",
     "text": [
      "tensor([-0.5387, -0.4084, -0.4671, -0.2792, -0.2835, -0.2015,  0.3619,  0.3492,\n",
      "         0.0446,  0.0161, -0.0983], device='cuda:0', grad_fn=<DivBackward0>)\n"
     ]
    },
    {
     "name": "stderr",
     "output_type": "stream",
     "text": [
      "Epoch 235: 100%|██████████| 3/3 [00:02<00:00,  1.07it/s, loss=19.2, acc=0.693, AUC=0.761, val_acc=0.659, val_AUC=0.694]\n"
     ]
    },
    {
     "name": "stdout",
     "output_type": "stream",
     "text": [
      "tensor([-0.5352, -0.3894, -0.4609, -0.2670, -0.2700, -0.1963,  0.3537,  0.3431,\n",
      "         0.0297,  0.0123, -0.0958], device='cuda:0', grad_fn=<DivBackward0>)\n"
     ]
    },
    {
     "name": "stderr",
     "output_type": "stream",
     "text": [
      "Epoch 236: 100%|██████████| 3/3 [00:02<00:00,  1.07it/s, loss=19.3, acc=0.69, AUC=0.758, val_acc=0.662, val_AUC=0.713]\n"
     ]
    },
    {
     "name": "stdout",
     "output_type": "stream",
     "text": [
      "tensor([-0.5388, -0.4040, -0.4721, -0.2706, -0.2744, -0.2102,  0.3569,  0.3547,\n",
      "         0.0318,  0.0198, -0.1109], device='cuda:0', grad_fn=<DivBackward0>)\n"
     ]
    },
    {
     "name": "stderr",
     "output_type": "stream",
     "text": [
      "Epoch 237: 100%|██████████| 3/3 [00:02<00:00,  1.06it/s, loss=19.1, acc=0.7, AUC=0.764, val_acc=0.662, val_AUC=0.712]\n"
     ]
    },
    {
     "name": "stdout",
     "output_type": "stream",
     "text": [
      "tensor([-0.5274, -0.4125, -0.4894, -0.2804, -0.2807, -0.2156,  0.3706,  0.3638,\n",
      "         0.0403,  0.0213, -0.1000], device='cuda:0', grad_fn=<DivBackward0>)\n"
     ]
    },
    {
     "name": "stderr",
     "output_type": "stream",
     "text": [
      "Epoch 238: 100%|██████████| 3/3 [00:02<00:00,  1.06it/s, loss=19.2, acc=0.697, AUC=0.761, val_acc=0.665, val_AUC=0.706]\n"
     ]
    },
    {
     "name": "stdout",
     "output_type": "stream",
     "text": [
      "tensor([-0.5212, -0.3910, -0.4738, -0.2741, -0.2768, -0.2212,  0.3553,  0.3538,\n",
      "         0.0315,  0.0186, -0.0947], device='cuda:0', grad_fn=<DivBackward0>)\n"
     ]
    },
    {
     "name": "stderr",
     "output_type": "stream",
     "text": [
      "Epoch 239: 100%|██████████| 3/3 [00:02<00:00,  1.04it/s, loss=19.1, acc=0.697, AUC=0.765, val_acc=0.659, val_AUC=0.706]\n"
     ]
    },
    {
     "name": "stdout",
     "output_type": "stream",
     "text": [
      "tensor([-0.5363, -0.3943, -0.4748, -0.2684, -0.2615, -0.2373,  0.3704,  0.3635,\n",
      "         0.0325,  0.0235, -0.0869], device='cuda:0', grad_fn=<DivBackward0>)\n"
     ]
    },
    {
     "name": "stderr",
     "output_type": "stream",
     "text": [
      "Epoch 240: 100%|██████████| 3/3 [00:02<00:00,  1.06it/s, loss=19.2, acc=0.695, AUC=0.764, val_acc=0.674, val_AUC=0.708]\n"
     ]
    },
    {
     "name": "stdout",
     "output_type": "stream",
     "text": [
      "tensor([-0.5328, -0.3906, -0.4638, -0.2756, -0.2694, -0.2243,  0.3730,  0.3548,\n",
      "         0.0278,  0.0246, -0.0903], device='cuda:0', grad_fn=<DivBackward0>)\n"
     ]
    },
    {
     "name": "stderr",
     "output_type": "stream",
     "text": [
      "Epoch 241: 100%|██████████| 3/3 [00:02<00:00,  1.06it/s, loss=19.2, acc=0.694, AUC=0.76, val_acc=0.65, val_AUC=0.696]\n"
     ]
    },
    {
     "name": "stdout",
     "output_type": "stream",
     "text": [
      "tensor([-0.5428, -0.3849, -0.4650, -0.2752, -0.2533, -0.2203,  0.3694,  0.3438,\n",
      "         0.0220,  0.0197, -0.0661], device='cuda:0', grad_fn=<DivBackward0>)\n"
     ]
    },
    {
     "name": "stderr",
     "output_type": "stream",
     "text": [
      "Epoch 242: 100%|██████████| 3/3 [00:02<00:00,  1.06it/s, loss=19.2, acc=0.692, AUC=0.761, val_acc=0.64, val_AUC=0.695]\n"
     ]
    },
    {
     "name": "stdout",
     "output_type": "stream",
     "text": [
      "tensor([-0.5342, -0.3924, -0.4704, -0.2742, -0.2564, -0.2133,  0.3769,  0.3409,\n",
      "         0.0265,  0.0228, -0.0708], device='cuda:0', grad_fn=<DivBackward0>)\n"
     ]
    },
    {
     "name": "stderr",
     "output_type": "stream",
     "text": [
      "Epoch 243: 100%|██████████| 3/3 [00:02<00:00,  1.06it/s, loss=19.2, acc=0.696, AUC=0.761, val_acc=0.656, val_AUC=0.709]\n"
     ]
    },
    {
     "name": "stdout",
     "output_type": "stream",
     "text": [
      "tensor([-0.5446, -0.3884, -0.4706, -0.2692, -0.2601, -0.2057,  0.3667,  0.3381,\n",
      "         0.0318,  0.0118, -0.0736], device='cuda:0', grad_fn=<DivBackward0>)\n"
     ]
    },
    {
     "name": "stderr",
     "output_type": "stream",
     "text": [
      "Epoch 244: 100%|██████████| 3/3 [00:02<00:00,  1.04it/s, loss=19.1, acc=0.692, AUC=0.763, val_acc=0.653, val_AUC=0.695]\n"
     ]
    },
    {
     "name": "stdout",
     "output_type": "stream",
     "text": [
      "tensor([-0.5492, -0.3761, -0.4686, -0.2739, -0.2598, -0.2058,  0.3749,  0.3301,\n",
      "         0.0272,  0.0095, -0.0732], device='cuda:0', grad_fn=<DivBackward0>)\n"
     ]
    },
    {
     "name": "stderr",
     "output_type": "stream",
     "text": [
      "Epoch 245: 100%|██████████| 3/3 [00:02<00:00,  1.07it/s, loss=19.2, acc=0.692, AUC=0.76, val_acc=0.656, val_AUC=0.713]\n"
     ]
    },
    {
     "name": "stdout",
     "output_type": "stream",
     "text": [
      "tensor([-0.5419, -0.3848, -0.4598, -0.2764, -0.2527, -0.2008,  0.3749,  0.3315,\n",
      "         0.0339,  0.0166, -0.0728], device='cuda:0', grad_fn=<DivBackward0>)\n"
     ]
    },
    {
     "name": "stderr",
     "output_type": "stream",
     "text": [
      "Epoch 246: 100%|██████████| 3/3 [00:02<00:00,  1.06it/s, loss=19.2, acc=0.697, AUC=0.761, val_acc=0.656, val_AUC=0.697]\n"
     ]
    },
    {
     "name": "stdout",
     "output_type": "stream",
     "text": [
      "tensor([-0.5341, -0.3810, -0.4632, -0.2851, -0.2567, -0.2009,  0.3717,  0.3439,\n",
      "         0.0285,  0.0139, -0.0785], device='cuda:0', grad_fn=<DivBackward0>)\n"
     ]
    },
    {
     "name": "stderr",
     "output_type": "stream",
     "text": [
      "Epoch 247: 100%|██████████| 3/3 [00:02<00:00,  1.06it/s, loss=19.2, acc=0.703, AUC=0.761, val_acc=0.659, val_AUC=0.704]\n"
     ]
    },
    {
     "name": "stdout",
     "output_type": "stream",
     "text": [
      "tensor([-0.5408, -0.3947, -0.4700, -0.2858, -0.2561, -0.1931,  0.3884,  0.3454,\n",
      "         0.0303,  0.0148, -0.0811], device='cuda:0', grad_fn=<DivBackward0>)\n"
     ]
    },
    {
     "name": "stderr",
     "output_type": "stream",
     "text": [
      "Epoch 248: 100%|██████████| 3/3 [00:02<00:00,  1.06it/s, loss=19.3, acc=0.698, AUC=0.758, val_acc=0.659, val_AUC=0.71]\n"
     ]
    },
    {
     "name": "stdout",
     "output_type": "stream",
     "text": [
      "tensor([-0.5320, -0.3975, -0.4767, -0.2865, -0.2685, -0.2017,  0.3815,  0.3441,\n",
      "         0.0291,  0.0156, -0.0822], device='cuda:0', grad_fn=<DivBackward0>)\n"
     ]
    },
    {
     "name": "stderr",
     "output_type": "stream",
     "text": [
      "Epoch 249: 100%|██████████| 3/3 [00:02<00:00,  1.04it/s, loss=19.2, acc=0.702, AUC=0.763, val_acc=0.659, val_AUC=0.705]\n"
     ]
    },
    {
     "name": "stdout",
     "output_type": "stream",
     "text": [
      "tensor([-0.5343, -0.4041, -0.4706, -0.2824, -0.2724, -0.2033,  0.3763,  0.3487,\n",
      "         0.0309,  0.0196, -0.0874], device='cuda:0', grad_fn=<DivBackward0>)\n"
     ]
    },
    {
     "name": "stderr",
     "output_type": "stream",
     "text": [
      "Epoch 250: 100%|██████████| 3/3 [00:02<00:00,  1.06it/s, loss=19.2, acc=0.698, AUC=0.762, val_acc=0.65, val_AUC=0.695]\n"
     ]
    },
    {
     "name": "stdout",
     "output_type": "stream",
     "text": [
      "tensor([-0.5293, -0.4005, -0.4745, -0.2865, -0.2738, -0.2027,  0.3756,  0.3527,\n",
      "         0.0341,  0.0180, -0.0817], device='cuda:0', grad_fn=<DivBackward0>)\n"
     ]
    },
    {
     "name": "stderr",
     "output_type": "stream",
     "text": [
      "Epoch 251: 100%|██████████| 3/3 [00:02<00:00,  1.06it/s, loss=19.1, acc=0.688, AUC=0.764, val_acc=0.644, val_AUC=0.698]\n"
     ]
    },
    {
     "name": "stdout",
     "output_type": "stream",
     "text": [
      "tensor([-0.5334, -0.3883, -0.4663, -0.2757, -0.2746, -0.2063,  0.3670,  0.3463,\n",
      "         0.0280,  0.0220, -0.0892], device='cuda:0', grad_fn=<DivBackward0>)\n"
     ]
    },
    {
     "name": "stderr",
     "output_type": "stream",
     "text": [
      "Epoch 252: 100%|██████████| 3/3 [00:02<00:00,  1.06it/s, loss=19.1, acc=0.694, AUC=0.766, val_acc=0.653, val_AUC=0.7]\n"
     ]
    },
    {
     "name": "stdout",
     "output_type": "stream",
     "text": [
      "tensor([-0.5276, -0.3828, -0.4628, -0.2792, -0.2721, -0.1908,  0.3590,  0.3341,\n",
      "         0.0307,  0.0184, -0.0896], device='cuda:0', grad_fn=<DivBackward0>)\n"
     ]
    },
    {
     "name": "stderr",
     "output_type": "stream",
     "text": [
      "Epoch 253: 100%|██████████| 3/3 [00:02<00:00,  1.06it/s, loss=19.1, acc=0.696, AUC=0.763, val_acc=0.656, val_AUC=0.711]\n"
     ]
    },
    {
     "name": "stdout",
     "output_type": "stream",
     "text": [
      "tensor([-0.5250, -0.3940, -0.4649, -0.2777, -0.2753, -0.1872,  0.3656,  0.3412,\n",
      "         0.0360,  0.0236, -0.0990], device='cuda:0', grad_fn=<DivBackward0>)\n"
     ]
    },
    {
     "name": "stderr",
     "output_type": "stream",
     "text": [
      "Epoch 254: 100%|██████████| 3/3 [00:02<00:00,  1.04it/s, loss=19, acc=0.698, AUC=0.767, val_acc=0.668, val_AUC=0.704]\n"
     ]
    },
    {
     "name": "stdout",
     "output_type": "stream",
     "text": [
      "tensor([-0.5292, -0.3978, -0.4691, -0.2833, -0.2749, -0.1867,  0.3768,  0.3408,\n",
      "         0.0440,  0.0165, -0.0885], device='cuda:0', grad_fn=<DivBackward0>)\n"
     ]
    },
    {
     "name": "stderr",
     "output_type": "stream",
     "text": [
      "Epoch 255: 100%|██████████| 3/3 [00:02<00:00,  1.06it/s, loss=19.1, acc=0.693, AUC=0.765, val_acc=0.656, val_AUC=0.7]\n"
     ]
    },
    {
     "name": "stdout",
     "output_type": "stream",
     "text": [
      "tensor([-0.5326, -0.3961, -0.4701, -0.2815, -0.2675, -0.1943,  0.3705,  0.3458,\n",
      "         0.0306,  0.0197, -0.0853], device='cuda:0', grad_fn=<DivBackward0>)\n"
     ]
    },
    {
     "name": "stderr",
     "output_type": "stream",
     "text": [
      "Epoch 256: 100%|██████████| 3/3 [00:02<00:00,  1.06it/s, loss=19.1, acc=0.695, AUC=0.764, val_acc=0.674, val_AUC=0.705]\n"
     ]
    },
    {
     "name": "stdout",
     "output_type": "stream",
     "text": [
      "tensor([-0.5396, -0.4117, -0.4729, -0.2875, -0.2704, -0.2062,  0.3687,  0.3571,\n",
      "         0.0355,  0.0252, -0.0899], device='cuda:0', grad_fn=<DivBackward0>)\n"
     ]
    },
    {
     "name": "stderr",
     "output_type": "stream",
     "text": [
      "Epoch 257: 100%|██████████| 3/3 [00:02<00:00,  1.06it/s, loss=19.1, acc=0.695, AUC=0.764, val_acc=0.677, val_AUC=0.708]\n"
     ]
    },
    {
     "name": "stdout",
     "output_type": "stream",
     "text": [
      "tensor([-0.5270, -0.4037, -0.4595, -0.2769, -0.2658, -0.2019,  0.3750,  0.3475,\n",
      "         0.0307,  0.0277, -0.0938], device='cuda:0', grad_fn=<DivBackward0>)\n"
     ]
    },
    {
     "name": "stderr",
     "output_type": "stream",
     "text": [
      "Epoch 258: 100%|██████████| 3/3 [00:02<00:00,  1.06it/s, loss=19.1, acc=0.697, AUC=0.764, val_acc=0.662, val_AUC=0.706]\n"
     ]
    },
    {
     "name": "stdout",
     "output_type": "stream",
     "text": [
      "tensor([-0.5313, -0.4012, -0.4666, -0.2828, -0.2603, -0.2012,  0.3739,  0.3413,\n",
      "         0.0257,  0.0202, -0.0944], device='cuda:0', grad_fn=<DivBackward0>)\n"
     ]
    },
    {
     "name": "stderr",
     "output_type": "stream",
     "text": [
      "Epoch 259: 100%|██████████| 3/3 [00:02<00:00,  1.04it/s, loss=19.2, acc=0.698, AUC=0.762, val_acc=0.665, val_AUC=0.707]\n"
     ]
    },
    {
     "name": "stdout",
     "output_type": "stream",
     "text": [
      "tensor([-0.5456, -0.4156, -0.4832, -0.2821, -0.2669, -0.2213,  0.3733,  0.3635,\n",
      "         0.0187,  0.0241, -0.1002], device='cuda:0', grad_fn=<DivBackward0>)\n"
     ]
    },
    {
     "name": "stderr",
     "output_type": "stream",
     "text": [
      "Epoch 260: 100%|██████████| 3/3 [00:02<00:00,  1.06it/s, loss=19.1, acc=0.686, AUC=0.762, val_acc=0.65, val_AUC=0.702]\n"
     ]
    },
    {
     "name": "stdout",
     "output_type": "stream",
     "text": [
      "tensor([-0.5515, -0.4183, -0.4756, -0.2914, -0.2664, -0.2311,  0.3846,  0.3776,\n",
      "         0.0196,  0.0345, -0.0937], device='cuda:0', grad_fn=<DivBackward0>)\n"
     ]
    },
    {
     "name": "stderr",
     "output_type": "stream",
     "text": [
      "Epoch 261: 100%|██████████| 3/3 [00:02<00:00,  1.06it/s, loss=19.1, acc=0.695, AUC=0.765, val_acc=0.656, val_AUC=0.71]\n"
     ]
    },
    {
     "name": "stdout",
     "output_type": "stream",
     "text": [
      "tensor([-0.5563, -0.4138, -0.4771, -0.2932, -0.2718, -0.2139,  0.3757,  0.3633,\n",
      "         0.0307,  0.0270, -0.0895], device='cuda:0', grad_fn=<DivBackward0>)\n"
     ]
    },
    {
     "name": "stderr",
     "output_type": "stream",
     "text": [
      "Epoch 262: 100%|██████████| 3/3 [00:02<00:00,  1.06it/s, loss=19.1, acc=0.703, AUC=0.763, val_acc=0.64, val_AUC=0.7]\n"
     ]
    },
    {
     "name": "stdout",
     "output_type": "stream",
     "text": [
      "tensor([-0.5458, -0.4127, -0.4782, -0.2876, -0.2695, -0.2122,  0.3715,  0.3637,\n",
      "         0.0352,  0.0279, -0.0967], device='cuda:0', grad_fn=<DivBackward0>)\n"
     ]
    },
    {
     "name": "stderr",
     "output_type": "stream",
     "text": [
      "Epoch 263: 100%|██████████| 3/3 [00:02<00:00,  1.06it/s, loss=19, acc=0.699, AUC=0.766, val_acc=0.653, val_AUC=0.704]\n"
     ]
    },
    {
     "name": "stdout",
     "output_type": "stream",
     "text": [
      "tensor([-0.5374, -0.3994, -0.4753, -0.2855, -0.2701, -0.2115,  0.3651,  0.3621,\n",
      "         0.0416,  0.0247, -0.0895], device='cuda:0', grad_fn=<DivBackward0>)\n"
     ]
    },
    {
     "name": "stderr",
     "output_type": "stream",
     "text": [
      "Epoch 264: 100%|██████████| 3/3 [00:02<00:00,  1.04it/s, loss=19.1, acc=0.697, AUC=0.763, val_acc=0.659, val_AUC=0.703]\n"
     ]
    },
    {
     "name": "stdout",
     "output_type": "stream",
     "text": [
      "tensor([-0.5424, -0.3929, -0.4678, -0.2875, -0.2583, -0.2042,  0.3713,  0.3450,\n",
      "         0.0244,  0.0292, -0.0840], device='cuda:0', grad_fn=<DivBackward0>)\n"
     ]
    },
    {
     "name": "stderr",
     "output_type": "stream",
     "text": [
      "Epoch 265: 100%|██████████| 3/3 [00:02<00:00,  1.06it/s, loss=19.1, acc=0.697, AUC=0.764, val_acc=0.659, val_AUC=0.699]\n"
     ]
    },
    {
     "name": "stdout",
     "output_type": "stream",
     "text": [
      "tensor([-0.5425, -0.3990, -0.4672, -0.2821, -0.2635, -0.2141,  0.3602,  0.3559,\n",
      "         0.0198,  0.0307, -0.0869], device='cuda:0', grad_fn=<DivBackward0>)\n"
     ]
    },
    {
     "name": "stderr",
     "output_type": "stream",
     "text": [
      "Epoch 266: 100%|██████████| 3/3 [00:02<00:00,  1.06it/s, loss=19.1, acc=0.692, AUC=0.764, val_acc=0.656, val_AUC=0.695]\n"
     ]
    },
    {
     "name": "stdout",
     "output_type": "stream",
     "text": [
      "tensor([-0.5469, -0.4017, -0.4677, -0.2867, -0.2609, -0.2109,  0.3649,  0.3608,\n",
      "         0.0135,  0.0323, -0.0825], device='cuda:0', grad_fn=<DivBackward0>)\n"
     ]
    },
    {
     "name": "stderr",
     "output_type": "stream",
     "text": [
      "Epoch 267: 100%|██████████| 3/3 [00:02<00:00,  1.06it/s, loss=19, acc=0.698, AUC=0.768, val_acc=0.662, val_AUC=0.705]\n"
     ]
    },
    {
     "name": "stdout",
     "output_type": "stream",
     "text": [
      "tensor([-0.5465, -0.4036, -0.4628, -0.2872, -0.2625, -0.2056,  0.3657,  0.3547,\n",
      "         0.0225,  0.0327, -0.0813], device='cuda:0', grad_fn=<DivBackward0>)\n"
     ]
    },
    {
     "name": "stderr",
     "output_type": "stream",
     "text": [
      "Epoch 268: 100%|██████████| 3/3 [00:02<00:00,  1.06it/s, loss=19.1, acc=0.697, AUC=0.764, val_acc=0.674, val_AUC=0.705]\n"
     ]
    },
    {
     "name": "stdout",
     "output_type": "stream",
     "text": [
      "tensor([-0.5522, -0.4008, -0.4755, -0.2964, -0.2581, -0.2152,  0.3764,  0.3573,\n",
      "         0.0220,  0.0347, -0.0761], device='cuda:0', grad_fn=<DivBackward0>)\n"
     ]
    },
    {
     "name": "stderr",
     "output_type": "stream",
     "text": [
      "Epoch 269: 100%|██████████| 3/3 [00:02<00:00,  1.04it/s, loss=19, acc=0.702, AUC=0.768, val_acc=0.65, val_AUC=0.708]\n"
     ]
    },
    {
     "name": "stdout",
     "output_type": "stream",
     "text": [
      "tensor([-0.5600, -0.4032, -0.4718, -0.2945, -0.2568, -0.2170,  0.3802,  0.3588,\n",
      "         0.0247,  0.0270, -0.0666], device='cuda:0', grad_fn=<DivBackward0>)\n"
     ]
    },
    {
     "name": "stderr",
     "output_type": "stream",
     "text": [
      "Epoch 270: 100%|██████████| 3/3 [00:02<00:00,  1.06it/s, loss=19.1, acc=0.701, AUC=0.765, val_acc=0.659, val_AUC=0.71]\n"
     ]
    },
    {
     "name": "stdout",
     "output_type": "stream",
     "text": [
      "tensor([-0.5627, -0.4039, -0.4712, -0.2981, -0.2592, -0.2074,  0.3766,  0.3555,\n",
      "         0.0310,  0.0228, -0.0774], device='cuda:0', grad_fn=<DivBackward0>)\n"
     ]
    },
    {
     "name": "stderr",
     "output_type": "stream",
     "text": [
      "Epoch 271: 100%|██████████| 3/3 [00:02<00:00,  1.06it/s, loss=19.2, acc=0.696, AUC=0.761, val_acc=0.653, val_AUC=0.711]\n"
     ]
    },
    {
     "name": "stdout",
     "output_type": "stream",
     "text": [
      "tensor([-0.5515, -0.3916, -0.4752, -0.2868, -0.2601, -0.2042,  0.3743,  0.3425,\n",
      "         0.0340,  0.0296, -0.0690], device='cuda:0', grad_fn=<DivBackward0>)\n"
     ]
    },
    {
     "name": "stderr",
     "output_type": "stream",
     "text": [
      "Epoch 272: 100%|██████████| 3/3 [00:02<00:00,  1.06it/s, loss=19.1, acc=0.699, AUC=0.764, val_acc=0.65, val_AUC=0.696]\n"
     ]
    },
    {
     "name": "stdout",
     "output_type": "stream",
     "text": [
      "tensor([-0.5467, -0.4008, -0.4698, -0.2970, -0.2627, -0.2045,  0.3753,  0.3517,\n",
      "         0.0355,  0.0289, -0.0715], device='cuda:0', grad_fn=<DivBackward0>)\n"
     ]
    },
    {
     "name": "stderr",
     "output_type": "stream",
     "text": [
      "Epoch 273: 100%|██████████| 3/3 [00:02<00:00,  1.06it/s, loss=19.1, acc=0.699, AUC=0.764, val_acc=0.644, val_AUC=0.711]\n"
     ]
    },
    {
     "name": "stdout",
     "output_type": "stream",
     "text": [
      "tensor([-0.5634, -0.4117, -0.4703, -0.2975, -0.2612, -0.2136,  0.3827,  0.3638,\n",
      "         0.0240,  0.0291, -0.0769], device='cuda:0', grad_fn=<DivBackward0>)\n"
     ]
    },
    {
     "name": "stderr",
     "output_type": "stream",
     "text": [
      "Epoch 274: 100%|██████████| 3/3 [00:02<00:00,  1.04it/s, loss=19.1, acc=0.692, AUC=0.763, val_acc=0.653, val_AUC=0.701]\n"
     ]
    },
    {
     "name": "stdout",
     "output_type": "stream",
     "text": [
      "tensor([-0.5598, -0.4075, -0.4715, -0.2959, -0.2689, -0.2189,  0.3757,  0.3739,\n",
      "         0.0341,  0.0347, -0.0642], device='cuda:0', grad_fn=<DivBackward0>)\n"
     ]
    },
    {
     "name": "stderr",
     "output_type": "stream",
     "text": [
      "Epoch 275: 100%|██████████| 3/3 [00:02<00:00,  1.06it/s, loss=19, acc=0.701, AUC=0.767, val_acc=0.659, val_AUC=0.707]\n"
     ]
    },
    {
     "name": "stdout",
     "output_type": "stream",
     "text": [
      "tensor([-0.5675, -0.4176, -0.4705, -0.2994, -0.2602, -0.2083,  0.3874,  0.3689,\n",
      "         0.0384,  0.0365, -0.0770], device='cuda:0', grad_fn=<DivBackward0>)\n"
     ]
    },
    {
     "name": "stderr",
     "output_type": "stream",
     "text": [
      "Epoch 276: 100%|██████████| 3/3 [00:02<00:00,  1.05it/s, loss=19.1, acc=0.695, AUC=0.765, val_acc=0.65, val_AUC=0.696]\n"
     ]
    },
    {
     "name": "stdout",
     "output_type": "stream",
     "text": [
      "tensor([-0.5674, -0.4179, -0.4766, -0.3002, -0.2663, -0.2181,  0.3822,  0.3801,\n",
      "         0.0385,  0.0340, -0.0823], device='cuda:0', grad_fn=<DivBackward0>)\n"
     ]
    },
    {
     "name": "stderr",
     "output_type": "stream",
     "text": [
      "Epoch 277: 100%|██████████| 3/3 [00:02<00:00,  1.06it/s, loss=19, acc=0.699, AUC=0.768, val_acc=0.647, val_AUC=0.707]\n"
     ]
    },
    {
     "name": "stdout",
     "output_type": "stream",
     "text": [
      "tensor([-0.5683, -0.4165, -0.4880, -0.3010, -0.2712, -0.2107,  0.3769,  0.3663,\n",
      "         0.0409,  0.0198, -0.0761], device='cuda:0', grad_fn=<DivBackward0>)\n"
     ]
    },
    {
     "name": "stderr",
     "output_type": "stream",
     "text": [
      "Epoch 278: 100%|██████████| 3/3 [00:02<00:00,  1.06it/s, loss=19, acc=0.704, AUC=0.768, val_acc=0.64, val_AUC=0.71]\n"
     ]
    },
    {
     "name": "stdout",
     "output_type": "stream",
     "text": [
      "tensor([-0.5659, -0.4103, -0.4761, -0.2964, -0.2626, -0.2065,  0.3655,  0.3640,\n",
      "         0.0384,  0.0173, -0.0878], device='cuda:0', grad_fn=<DivBackward0>)\n"
     ]
    },
    {
     "name": "stderr",
     "output_type": "stream",
     "text": [
      "Epoch 279: 100%|██████████| 3/3 [00:02<00:00,  1.04it/s, loss=19.1, acc=0.699, AUC=0.764, val_acc=0.656, val_AUC=0.689]\n"
     ]
    },
    {
     "name": "stdout",
     "output_type": "stream",
     "text": [
      "tensor([-0.5611, -0.4066, -0.4710, -0.2853, -0.2709, -0.2010,  0.3708,  0.3575,\n",
      "         0.0394,  0.0136, -0.0880], device='cuda:0', grad_fn=<DivBackward0>)\n"
     ]
    },
    {
     "name": "stderr",
     "output_type": "stream",
     "text": [
      "Epoch 280: 100%|██████████| 3/3 [00:02<00:00,  1.06it/s, loss=19, acc=0.698, AUC=0.768, val_acc=0.662, val_AUC=0.703]\n"
     ]
    },
    {
     "name": "stdout",
     "output_type": "stream",
     "text": [
      "tensor([-0.5667, -0.4132, -0.4780, -0.2903, -0.2756, -0.1879,  0.3657,  0.3481,\n",
      "         0.0496,  0.0149, -0.0956], device='cuda:0', grad_fn=<DivBackward0>)\n"
     ]
    },
    {
     "name": "stderr",
     "output_type": "stream",
     "text": [
      "Epoch 281: 100%|██████████| 3/3 [00:02<00:00,  1.06it/s, loss=19.1, acc=0.7, AUC=0.764, val_acc=0.656, val_AUC=0.701]\n"
     ]
    },
    {
     "name": "stdout",
     "output_type": "stream",
     "text": [
      "tensor([-0.5696, -0.4183, -0.4853, -0.2957, -0.2724, -0.1919,  0.3694,  0.3485,\n",
      "         0.0637,  0.0140, -0.0994], device='cuda:0', grad_fn=<DivBackward0>)\n"
     ]
    },
    {
     "name": "stderr",
     "output_type": "stream",
     "text": [
      "Epoch 282: 100%|██████████| 3/3 [00:02<00:00,  1.06it/s, loss=19, acc=0.704, AUC=0.77, val_acc=0.671, val_AUC=0.71]\n"
     ]
    },
    {
     "name": "stdout",
     "output_type": "stream",
     "text": [
      "tensor([-0.5624, -0.4161, -0.4849, -0.2919, -0.2808, -0.2049,  0.3671,  0.3577,\n",
      "         0.0546,  0.0125, -0.1024], device='cuda:0', grad_fn=<DivBackward0>)\n"
     ]
    },
    {
     "name": "stderr",
     "output_type": "stream",
     "text": [
      "Epoch 283: 100%|██████████| 3/3 [00:02<00:00,  1.06it/s, loss=19.1, acc=0.7, AUC=0.765, val_acc=0.65, val_AUC=0.706]\n"
     ]
    },
    {
     "name": "stdout",
     "output_type": "stream",
     "text": [
      "tensor([-0.5736, -0.4028, -0.4769, -0.3015, -0.2642, -0.2142,  0.3744,  0.3686,\n",
      "         0.0579,  0.0060, -0.1047], device='cuda:0', grad_fn=<DivBackward0>)\n"
     ]
    },
    {
     "name": "stderr",
     "output_type": "stream",
     "text": [
      "Epoch 284: 100%|██████████| 3/3 [00:02<00:00,  1.04it/s, loss=19, acc=0.698, AUC=0.767, val_acc=0.647, val_AUC=0.711]\n"
     ]
    },
    {
     "name": "stdout",
     "output_type": "stream",
     "text": [
      "tensor([-0.5772, -0.4101, -0.4828, -0.2965, -0.2596, -0.2140,  0.3671,  0.3595,\n",
      "         0.0469,  0.0058, -0.0945], device='cuda:0', grad_fn=<DivBackward0>)\n"
     ]
    },
    {
     "name": "stderr",
     "output_type": "stream",
     "text": [
      "Epoch 285: 100%|██████████| 3/3 [00:02<00:00,  1.06it/s, loss=19, acc=0.696, AUC=0.766, val_acc=0.653, val_AUC=0.701]\n"
     ]
    },
    {
     "name": "stdout",
     "output_type": "stream",
     "text": [
      "tensor([-0.5717, -0.4005, -0.4745, -0.2987, -0.2609, -0.2058,  0.3724,  0.3619,\n",
      "         0.0461,  0.0118, -0.0879], device='cuda:0', grad_fn=<DivBackward0>)\n"
     ]
    },
    {
     "name": "stderr",
     "output_type": "stream",
     "text": [
      "Epoch 286: 100%|██████████| 3/3 [00:02<00:00,  1.06it/s, loss=19, acc=0.699, AUC=0.767, val_acc=0.653, val_AUC=0.692]\n"
     ]
    },
    {
     "name": "stdout",
     "output_type": "stream",
     "text": [
      "tensor([-0.5711, -0.3940, -0.4764, -0.2838, -0.2669, -0.2020,  0.3640,  0.3547,\n",
      "         0.0474,  0.0139, -0.0884], device='cuda:0', grad_fn=<DivBackward0>)\n"
     ]
    },
    {
     "name": "stderr",
     "output_type": "stream",
     "text": [
      "Epoch 287: 100%|██████████| 3/3 [00:02<00:00,  1.06it/s, loss=19.1, acc=0.698, AUC=0.764, val_acc=0.659, val_AUC=0.699]\n"
     ]
    },
    {
     "name": "stdout",
     "output_type": "stream",
     "text": [
      "tensor([-0.5682, -0.4075, -0.4775, -0.2943, -0.2706, -0.1997,  0.3656,  0.3480,\n",
      "         0.0453,  0.0110, -0.0772], device='cuda:0', grad_fn=<DivBackward0>)\n"
     ]
    },
    {
     "name": "stderr",
     "output_type": "stream",
     "text": [
      "Epoch 288: 100%|██████████| 3/3 [00:02<00:00,  1.06it/s, loss=19.1, acc=0.698, AUC=0.764, val_acc=0.65, val_AUC=0.704]\n"
     ]
    },
    {
     "name": "stdout",
     "output_type": "stream",
     "text": [
      "tensor([-0.5676, -0.4057, -0.4824, -0.2877, -0.2642, -0.2033,  0.3620,  0.3554,\n",
      "         0.0400,  0.0168, -0.0830], device='cuda:0', grad_fn=<DivBackward0>)\n"
     ]
    },
    {
     "name": "stderr",
     "output_type": "stream",
     "text": [
      "Epoch 289: 100%|██████████| 3/3 [00:02<00:00,  1.04it/s, loss=19.1, acc=0.692, AUC=0.764, val_acc=0.653, val_AUC=0.692]\n"
     ]
    },
    {
     "name": "stdout",
     "output_type": "stream",
     "text": [
      "tensor([-0.5805, -0.4086, -0.4871, -0.2969, -0.2704, -0.2137,  0.3618,  0.3672,\n",
      "         0.0452,  0.0136, -0.0957], device='cuda:0', grad_fn=<DivBackward0>)\n"
     ]
    },
    {
     "name": "stderr",
     "output_type": "stream",
     "text": [
      "Epoch 290: 100%|██████████| 3/3 [00:02<00:00,  1.06it/s, loss=19, acc=0.704, AUC=0.767, val_acc=0.662, val_AUC=0.704]\n"
     ]
    },
    {
     "name": "stdout",
     "output_type": "stream",
     "text": [
      "tensor([-0.5831, -0.4129, -0.4819, -0.2963, -0.2761, -0.2147,  0.3558,  0.3673,\n",
      "         0.0438,  0.0162, -0.0896], device='cuda:0', grad_fn=<DivBackward0>)\n"
     ]
    },
    {
     "name": "stderr",
     "output_type": "stream",
     "text": [
      "Epoch 291: 100%|██████████| 3/3 [00:02<00:00,  1.06it/s, loss=19.1, acc=0.699, AUC=0.765, val_acc=0.659, val_AUC=0.708]\n"
     ]
    },
    {
     "name": "stdout",
     "output_type": "stream",
     "text": [
      "tensor([-0.5788, -0.4212, -0.4872, -0.2954, -0.2844, -0.2096,  0.3636,  0.3751,\n",
      "         0.0483,  0.0256, -0.0933], device='cuda:0', grad_fn=<DivBackward0>)\n"
     ]
    },
    {
     "name": "stderr",
     "output_type": "stream",
     "text": [
      "Epoch 292: 100%|██████████| 3/3 [00:02<00:00,  1.06it/s, loss=19, acc=0.698, AUC=0.768, val_acc=0.656, val_AUC=0.696]\n"
     ]
    },
    {
     "name": "stdout",
     "output_type": "stream",
     "text": [
      "tensor([-0.5910, -0.4270, -0.4913, -0.3058, -0.2919, -0.2263,  0.3610,  0.3837,\n",
      "         0.0524,  0.0277, -0.0992], device='cuda:0', grad_fn=<DivBackward0>)\n"
     ]
    },
    {
     "name": "stderr",
     "output_type": "stream",
     "text": [
      "Epoch 293: 100%|██████████| 3/3 [00:02<00:00,  1.06it/s, loss=19, acc=0.7, AUC=0.766, val_acc=0.662, val_AUC=0.697]\n"
     ]
    },
    {
     "name": "stdout",
     "output_type": "stream",
     "text": [
      "tensor([-0.5827, -0.4230, -0.4909, -0.3004, -0.2844, -0.2066,  0.3601,  0.3748,\n",
      "         0.0611,  0.0178, -0.1043], device='cuda:0', grad_fn=<DivBackward0>)\n"
     ]
    },
    {
     "name": "stderr",
     "output_type": "stream",
     "text": [
      "Epoch 294: 100%|██████████| 3/3 [00:02<00:00,  1.04it/s, loss=18.9, acc=0.702, AUC=0.769, val_acc=0.647, val_AUC=0.697]\n"
     ]
    },
    {
     "name": "stdout",
     "output_type": "stream",
     "text": [
      "tensor([-0.5823, -0.4182, -0.4900, -0.3088, -0.2913, -0.2002,  0.3694,  0.3709,\n",
      "         0.0684,  0.0196, -0.0935], device='cuda:0', grad_fn=<DivBackward0>)\n"
     ]
    },
    {
     "name": "stderr",
     "output_type": "stream",
     "text": [
      "Epoch 295: 100%|██████████| 3/3 [00:02<00:00,  1.06it/s, loss=19, acc=0.696, AUC=0.768, val_acc=0.647, val_AUC=0.696]\n"
     ]
    },
    {
     "name": "stdout",
     "output_type": "stream",
     "text": [
      "tensor([-0.5910, -0.4187, -0.4867, -0.2974, -0.2806, -0.1993,  0.3619,  0.3777,\n",
      "         0.0644,  0.0224, -0.0980], device='cuda:0', grad_fn=<DivBackward0>)\n"
     ]
    },
    {
     "name": "stderr",
     "output_type": "stream",
     "text": [
      "Epoch 296: 100%|██████████| 3/3 [00:02<00:00,  1.06it/s, loss=19, acc=0.7, AUC=0.767, val_acc=0.662, val_AUC=0.711]\n"
     ]
    },
    {
     "name": "stdout",
     "output_type": "stream",
     "text": [
      "tensor([-0.5818, -0.4174, -0.4747, -0.2992, -0.2868, -0.2035,  0.3649,  0.3845,\n",
      "         0.0466,  0.0130, -0.0933], device='cuda:0', grad_fn=<DivBackward0>)\n"
     ]
    },
    {
     "name": "stderr",
     "output_type": "stream",
     "text": [
      "Epoch 297: 100%|██████████| 3/3 [00:02<00:00,  1.06it/s, loss=18.9, acc=0.702, AUC=0.77, val_acc=0.662, val_AUC=0.699]\n"
     ]
    },
    {
     "name": "stdout",
     "output_type": "stream",
     "text": [
      "tensor([-0.5796, -0.4323, -0.4870, -0.3042, -0.2965, -0.2071,  0.3604,  0.3841,\n",
      "         0.0637,  0.0130, -0.1123], device='cuda:0', grad_fn=<DivBackward0>)\n"
     ]
    },
    {
     "name": "stderr",
     "output_type": "stream",
     "text": [
      "Epoch 298: 100%|██████████| 3/3 [00:02<00:00,  1.06it/s, loss=19, acc=0.694, AUC=0.768, val_acc=0.653, val_AUC=0.705]\n"
     ]
    },
    {
     "name": "stdout",
     "output_type": "stream",
     "text": [
      "tensor([-0.5839, -0.4336, -0.4894, -0.2974, -0.2950, -0.1970,  0.3660,  0.3963,\n",
      "         0.0669,  0.0160, -0.1048], device='cuda:0', grad_fn=<DivBackward0>)\n"
     ]
    },
    {
     "name": "stderr",
     "output_type": "stream",
     "text": [
      "Epoch 299: 100%|██████████| 3/3 [00:02<00:00,  1.04it/s, loss=19, acc=0.698, AUC=0.766, val_acc=0.653, val_AUC=0.712]\n"
     ]
    },
    {
     "name": "stdout",
     "output_type": "stream",
     "text": [
      "tensor([-0.5836, -0.4375, -0.4868, -0.3088, -0.2964, -0.2063,  0.3642,  0.3880,\n",
      "         0.0678,  0.0193, -0.1065], device='cuda:0', grad_fn=<DivBackward0>)\n"
     ]
    },
    {
     "name": "stderr",
     "output_type": "stream",
     "text": [
      "Epoch 300: 100%|██████████| 3/3 [00:02<00:00,  1.06it/s, loss=19, acc=0.703, AUC=0.768, val_acc=0.668, val_AUC=0.709]\n"
     ]
    },
    {
     "name": "stdout",
     "output_type": "stream",
     "text": [
      "tensor([-0.5768, -0.4219, -0.4799, -0.2908, -0.2807, -0.2010,  0.3575,  0.3814,\n",
      "         0.0562,  0.0162, -0.1023], device='cuda:0', grad_fn=<DivBackward0>)\n"
     ]
    },
    {
     "name": "stderr",
     "output_type": "stream",
     "text": [
      "Epoch 301: 100%|██████████| 3/3 [00:02<00:00,  1.06it/s, loss=19, acc=0.701, AUC=0.768, val_acc=0.656, val_AUC=0.698]\n"
     ]
    },
    {
     "name": "stdout",
     "output_type": "stream",
     "text": [
      "tensor([-0.5742, -0.4191, -0.4745, -0.2923, -0.2845, -0.2017,  0.3617,  0.3830,\n",
      "         0.0531,  0.0110, -0.0961], device='cuda:0', grad_fn=<DivBackward0>)\n"
     ]
    },
    {
     "name": "stderr",
     "output_type": "stream",
     "text": [
      "Epoch 302: 100%|██████████| 3/3 [00:02<00:00,  1.06it/s, loss=18.9, acc=0.707, AUC=0.769, val_acc=0.653, val_AUC=0.706]\n"
     ]
    },
    {
     "name": "stdout",
     "output_type": "stream",
     "text": [
      "tensor([-0.5665, -0.4231, -0.4657, -0.2906, -0.2911, -0.1907,  0.3594,  0.3798,\n",
      "         0.0547,  0.0153, -0.0939], device='cuda:0', grad_fn=<DivBackward0>)\n"
     ]
    },
    {
     "name": "stderr",
     "output_type": "stream",
     "text": [
      "Epoch 303: 100%|██████████| 3/3 [00:02<00:00,  1.06it/s, loss=19, acc=0.698, AUC=0.765, val_acc=0.668, val_AUC=0.702]\n"
     ]
    },
    {
     "name": "stdout",
     "output_type": "stream",
     "text": [
      "tensor([-0.5630, -0.4236, -0.4627, -0.2851, -0.2801, -0.1830,  0.3657,  0.3790,\n",
      "         0.0506,  0.0141, -0.0969], device='cuda:0', grad_fn=<DivBackward0>)\n"
     ]
    },
    {
     "name": "stderr",
     "output_type": "stream",
     "text": [
      "Epoch 304: 100%|██████████| 3/3 [00:02<00:00,  1.04it/s, loss=19, acc=0.702, AUC=0.768, val_acc=0.647, val_AUC=0.69]\n"
     ]
    },
    {
     "name": "stdout",
     "output_type": "stream",
     "text": [
      "tensor([-0.5550, -0.4218, -0.4699, -0.2906, -0.2913, -0.1780,  0.3614,  0.3793,\n",
      "         0.0686,  0.0120, -0.1008], device='cuda:0', grad_fn=<DivBackward0>)\n"
     ]
    },
    {
     "name": "stderr",
     "output_type": "stream",
     "text": [
      "Epoch 305: 100%|██████████| 3/3 [00:02<00:00,  1.06it/s, loss=18.9, acc=0.703, AUC=0.772, val_acc=0.653, val_AUC=0.697]\n"
     ]
    },
    {
     "name": "stdout",
     "output_type": "stream",
     "text": [
      "tensor([-0.5611, -0.4223, -0.4692, -0.3011, -0.3016, -0.1883,  0.3588,  0.3730,\n",
      "         0.0637,  0.0114, -0.0939], device='cuda:0', grad_fn=<DivBackward0>)\n"
     ]
    },
    {
     "name": "stderr",
     "output_type": "stream",
     "text": [
      "Epoch 306: 100%|██████████| 3/3 [00:02<00:00,  1.06it/s, loss=19, acc=0.698, AUC=0.769, val_acc=0.659, val_AUC=0.701]\n"
     ]
    },
    {
     "name": "stdout",
     "output_type": "stream",
     "text": [
      "tensor([-0.5673, -0.4175, -0.4766, -0.3006, -0.2992, -0.1832,  0.3516,  0.3830,\n",
      "         0.0588,  0.0150, -0.0929], device='cuda:0', grad_fn=<DivBackward0>)\n"
     ]
    },
    {
     "name": "stderr",
     "output_type": "stream",
     "text": [
      "Epoch 307: 100%|██████████| 3/3 [00:02<00:00,  1.06it/s, loss=19, acc=0.703, AUC=0.768, val_acc=0.647, val_AUC=0.7]\n"
     ]
    },
    {
     "name": "stdout",
     "output_type": "stream",
     "text": [
      "tensor([-0.5644, -0.4211, -0.4732, -0.2971, -0.2889, -0.1746,  0.3524,  0.3730,\n",
      "         0.0623,  0.0152, -0.0941], device='cuda:0', grad_fn=<DivBackward0>)\n"
     ]
    },
    {
     "name": "stderr",
     "output_type": "stream",
     "text": [
      "Epoch 308: 100%|██████████| 3/3 [00:02<00:00,  1.06it/s, loss=19, acc=0.7, AUC=0.767, val_acc=0.647, val_AUC=0.698]\n"
     ]
    },
    {
     "name": "stdout",
     "output_type": "stream",
     "text": [
      "tensor([-0.5639, -0.4144, -0.4679, -0.2965, -0.2852, -0.1817,  0.3610,  0.3749,\n",
      "         0.0613,  0.0199, -0.0926], device='cuda:0', grad_fn=<DivBackward0>)\n"
     ]
    },
    {
     "name": "stderr",
     "output_type": "stream",
     "text": [
      "Epoch 309: 100%|██████████| 3/3 [00:02<00:00,  1.04it/s, loss=19, acc=0.703, AUC=0.768, val_acc=0.653, val_AUC=0.69]\n"
     ]
    },
    {
     "name": "stdout",
     "output_type": "stream",
     "text": [
      "tensor([-0.5705, -0.4222, -0.4719, -0.3104, -0.2957, -0.1859,  0.3581,  0.3824,\n",
      "         0.0573,  0.0172, -0.0886], device='cuda:0', grad_fn=<DivBackward0>)\n"
     ]
    },
    {
     "name": "stderr",
     "output_type": "stream",
     "text": [
      "Epoch 310: 100%|██████████| 3/3 [00:02<00:00,  1.06it/s, loss=19, acc=0.702, AUC=0.766, val_acc=0.665, val_AUC=0.696]\n"
     ]
    },
    {
     "name": "stdout",
     "output_type": "stream",
     "text": [
      "tensor([-0.5614, -0.4109, -0.4704, -0.3014, -0.2836, -0.1743,  0.3623,  0.3670,\n",
      "         0.0602,  0.0087, -0.0927], device='cuda:0', grad_fn=<DivBackward0>)\n"
     ]
    },
    {
     "name": "stderr",
     "output_type": "stream",
     "text": [
      "Epoch 311: 100%|██████████| 3/3 [00:02<00:00,  1.06it/s, loss=18.9, acc=0.698, AUC=0.769, val_acc=0.665, val_AUC=0.71]\n"
     ]
    },
    {
     "name": "stdout",
     "output_type": "stream",
     "text": [
      "tensor([-0.5669, -0.4183, -0.4708, -0.2955, -0.2889, -0.1741,  0.3582,  0.3699,\n",
      "         0.0536,  0.0069, -0.0962], device='cuda:0', grad_fn=<DivBackward0>)\n"
     ]
    },
    {
     "name": "stderr",
     "output_type": "stream",
     "text": [
      "Epoch 312: 100%|██████████| 3/3 [00:02<00:00,  1.06it/s, loss=18.9, acc=0.703, AUC=0.771, val_acc=0.668, val_AUC=0.709]\n"
     ]
    },
    {
     "name": "stdout",
     "output_type": "stream",
     "text": [
      "tensor([-0.5750, -0.4191, -0.4729, -0.2894, -0.2855, -0.1765,  0.3585,  0.3757,\n",
      "         0.0682,  0.0045, -0.1041], device='cuda:0', grad_fn=<DivBackward0>)\n"
     ]
    },
    {
     "name": "stderr",
     "output_type": "stream",
     "text": [
      "Epoch 313: 100%|██████████| 3/3 [00:02<00:00,  1.06it/s, loss=19, acc=0.696, AUC=0.767, val_acc=0.647, val_AUC=0.697]\n"
     ]
    },
    {
     "name": "stdout",
     "output_type": "stream",
     "text": [
      "tensor([-0.5672, -0.4181, -0.4637, -0.2901, -0.2909, -0.1807,  0.3543,  0.3876,\n",
      "         0.0552,  0.0006, -0.1046], device='cuda:0', grad_fn=<DivBackward0>)\n"
     ]
    },
    {
     "name": "stderr",
     "output_type": "stream",
     "text": [
      "Epoch 314: 100%|██████████| 3/3 [00:02<00:00,  1.04it/s, loss=19, acc=0.705, AUC=0.769, val_acc=0.625, val_AUC=0.692]\n"
     ]
    },
    {
     "name": "stdout",
     "output_type": "stream",
     "text": [
      "tensor([-0.5744, -0.4122, -0.4654, -0.2913, -0.2815, -0.1885,  0.3670,  0.3925,\n",
      "         0.0389,  0.0055, -0.1042], device='cuda:0', grad_fn=<DivBackward0>)\n"
     ]
    },
    {
     "name": "stderr",
     "output_type": "stream",
     "text": [
      "Epoch 315: 100%|██████████| 3/3 [00:02<00:00,  1.06it/s, loss=19.1, acc=0.693, AUC=0.765, val_acc=0.644, val_AUC=0.691]\n"
     ]
    },
    {
     "name": "stdout",
     "output_type": "stream",
     "text": [
      "tensor([-0.5602, -0.4054, -0.4635, -0.2892, -0.2840, -0.1921,  0.3614,  0.3941,\n",
      "         0.0498,  0.0065, -0.1014], device='cuda:0', grad_fn=<DivBackward0>)\n"
     ]
    },
    {
     "name": "stderr",
     "output_type": "stream",
     "text": [
      "Epoch 316: 100%|██████████| 3/3 [00:02<00:00,  1.06it/s, loss=18.9, acc=0.7, AUC=0.771, val_acc=0.637, val_AUC=0.697]\n"
     ]
    },
    {
     "name": "stdout",
     "output_type": "stream",
     "text": [
      "tensor([-0.5652, -0.4045, -0.4540, -0.2746, -0.2747, -0.1852,  0.3636,  0.3796,\n",
      "         0.0480,  0.0154, -0.1163], device='cuda:0', grad_fn=<DivBackward0>)\n"
     ]
    },
    {
     "name": "stderr",
     "output_type": "stream",
     "text": [
      "Epoch 317: 100%|██████████| 3/3 [00:02<00:00,  1.06it/s, loss=18.9, acc=0.705, AUC=0.77, val_acc=0.656, val_AUC=0.712]\n"
     ]
    },
    {
     "name": "stdout",
     "output_type": "stream",
     "text": [
      "tensor([-0.5572, -0.4015, -0.4558, -0.2741, -0.2821, -0.1793,  0.3524,  0.3812,\n",
      "         0.0390,  0.0110, -0.1031], device='cuda:0', grad_fn=<DivBackward0>)\n"
     ]
    },
    {
     "name": "stderr",
     "output_type": "stream",
     "text": [
      "Epoch 318: 100%|██████████| 3/3 [00:02<00:00,  1.06it/s, loss=18.9, acc=0.703, AUC=0.769, val_acc=0.665, val_AUC=0.695]\n"
     ]
    },
    {
     "name": "stdout",
     "output_type": "stream",
     "text": [
      "tensor([-0.5561, -0.3979, -0.4524, -0.2778, -0.2886, -0.1766,  0.3601,  0.3881,\n",
      "         0.0434,  0.0135, -0.1078], device='cuda:0', grad_fn=<DivBackward0>)\n"
     ]
    },
    {
     "name": "stderr",
     "output_type": "stream",
     "text": [
      "Epoch 319: 100%|██████████| 3/3 [00:02<00:00,  1.03it/s, loss=18.9, acc=0.699, AUC=0.769, val_acc=0.653, val_AUC=0.689]\n"
     ]
    },
    {
     "name": "stdout",
     "output_type": "stream",
     "text": [
      "tensor([-0.5549, -0.4033, -0.4444, -0.2810, -0.2939, -0.1801,  0.3586,  0.4017,\n",
      "         0.0380,  0.0165, -0.1077], device='cuda:0', grad_fn=<DivBackward0>)\n"
     ]
    },
    {
     "name": "stderr",
     "output_type": "stream",
     "text": [
      "Epoch 320: 100%|██████████| 3/3 [00:02<00:00,  1.06it/s, loss=19.1, acc=0.699, AUC=0.764, val_acc=0.637, val_AUC=0.691]\n"
     ]
    },
    {
     "name": "stdout",
     "output_type": "stream",
     "text": [
      "tensor([-0.5555, -0.4009, -0.4550, -0.2806, -0.2842, -0.1800,  0.3588,  0.3925,\n",
      "         0.0389,  0.0196, -0.1004], device='cuda:0', grad_fn=<DivBackward0>)\n"
     ]
    },
    {
     "name": "stderr",
     "output_type": "stream",
     "text": [
      "Epoch 321: 100%|██████████| 3/3 [00:02<00:00,  1.06it/s, loss=19, acc=0.697, AUC=0.768, val_acc=0.656, val_AUC=0.695]\n"
     ]
    },
    {
     "name": "stdout",
     "output_type": "stream",
     "text": [
      "tensor([-0.5491, -0.3939, -0.4432, -0.2700, -0.2846, -0.1758,  0.3482,  0.3888,\n",
      "         0.0382,  0.0171, -0.1015], device='cuda:0', grad_fn=<DivBackward0>)\n"
     ]
    },
    {
     "name": "stderr",
     "output_type": "stream",
     "text": [
      "Epoch 322: 100%|██████████| 3/3 [00:02<00:00,  1.05it/s, loss=18.9, acc=0.702, AUC=0.769, val_acc=0.653, val_AUC=0.704]\n"
     ]
    },
    {
     "name": "stdout",
     "output_type": "stream",
     "text": [
      "tensor([-0.5330, -0.3982, -0.4403, -0.2782, -0.2874, -0.1719,  0.3392,  0.3908,\n",
      "         0.0318,  0.0101, -0.1041], device='cuda:0', grad_fn=<DivBackward0>)\n"
     ]
    },
    {
     "name": "stderr",
     "output_type": "stream",
     "text": [
      "Epoch 323: 100%|██████████| 3/3 [00:02<00:00,  1.05it/s, loss=18.9, acc=0.702, AUC=0.772, val_acc=0.656, val_AUC=0.705]\n"
     ]
    },
    {
     "name": "stdout",
     "output_type": "stream",
     "text": [
      "tensor([-0.5368, -0.3966, -0.4388, -0.2778, -0.2855, -0.1639,  0.3459,  0.3800,\n",
      "         0.0392,  0.0098, -0.0985], device='cuda:0', grad_fn=<DivBackward0>)\n"
     ]
    },
    {
     "name": "stderr",
     "output_type": "stream",
     "text": [
      "Epoch 324: 100%|██████████| 3/3 [00:02<00:00,  1.04it/s, loss=18.9, acc=0.704, AUC=0.771, val_acc=0.653, val_AUC=0.701]\n"
     ]
    },
    {
     "name": "stdout",
     "output_type": "stream",
     "text": [
      "tensor([-0.5310, -0.3899, -0.4394, -0.2701, -0.2737, -0.1661,  0.3480,  0.3820,\n",
      "         0.0266,  0.0133, -0.0844], device='cuda:0', grad_fn=<DivBackward0>)\n"
     ]
    },
    {
     "name": "stderr",
     "output_type": "stream",
     "text": [
      "Epoch 325: 100%|██████████| 3/3 [00:02<00:00,  1.05it/s, loss=19, acc=0.701, AUC=0.769, val_acc=0.644, val_AUC=0.698]\n"
     ]
    },
    {
     "name": "stdout",
     "output_type": "stream",
     "text": [
      "tensor([-0.5341, -0.3854, -0.4382, -0.2707, -0.2741, -0.1652,  0.3433,  0.3762,\n",
      "         0.0229,  0.0147, -0.0919], device='cuda:0', grad_fn=<DivBackward0>)\n"
     ]
    },
    {
     "name": "stderr",
     "output_type": "stream",
     "text": [
      "Epoch 326: 100%|██████████| 3/3 [00:02<00:00,  1.05it/s, loss=19, acc=0.701, AUC=0.768, val_acc=0.644, val_AUC=0.707]\n"
     ]
    },
    {
     "name": "stdout",
     "output_type": "stream",
     "text": [
      "tensor([-0.5391, -0.3896, -0.4301, -0.2704, -0.2757, -0.1706,  0.3429,  0.3859,\n",
      "         0.0174,  0.0153, -0.0854], device='cuda:0', grad_fn=<DivBackward0>)\n"
     ]
    },
    {
     "name": "stderr",
     "output_type": "stream",
     "text": [
      "Epoch 327: 100%|██████████| 3/3 [00:02<00:00,  1.06it/s, loss=18.9, acc=0.702, AUC=0.771, val_acc=0.637, val_AUC=0.69]\n"
     ]
    },
    {
     "name": "stdout",
     "output_type": "stream",
     "text": [
      "tensor([-0.5365, -0.3870, -0.4372, -0.2662, -0.2838, -0.1735,  0.3381,  0.3934,\n",
      "         0.0214,  0.0142, -0.0975], device='cuda:0', grad_fn=<DivBackward0>)\n"
     ]
    },
    {
     "name": "stderr",
     "output_type": "stream",
     "text": [
      "Epoch 328: 100%|██████████| 3/3 [00:02<00:00,  1.05it/s, loss=18.9, acc=0.704, AUC=0.77, val_acc=0.644, val_AUC=0.707]\n"
     ]
    },
    {
     "name": "stdout",
     "output_type": "stream",
     "text": [
      "tensor([-0.5308, -0.3918, -0.4333, -0.2744, -0.2806, -0.1794,  0.3408,  0.3947,\n",
      "         0.0293,  0.0163, -0.0946], device='cuda:0', grad_fn=<DivBackward0>)\n"
     ]
    },
    {
     "name": "stderr",
     "output_type": "stream",
     "text": [
      "Epoch 329: 100%|██████████| 3/3 [00:02<00:00,  1.04it/s, loss=19, acc=0.699, AUC=0.767, val_acc=0.65, val_AUC=0.693]\n"
     ]
    },
    {
     "name": "stdout",
     "output_type": "stream",
     "text": [
      "tensor([-0.5405, -0.3934, -0.4308, -0.2743, -0.2823, -0.1818,  0.3408,  0.4028,\n",
      "         0.0258,  0.0094, -0.0909], device='cuda:0', grad_fn=<DivBackward0>)\n"
     ]
    },
    {
     "name": "stderr",
     "output_type": "stream",
     "text": [
      "Epoch 330: 100%|██████████| 3/3 [00:02<00:00,  1.05it/s, loss=18.9, acc=0.701, AUC=0.771, val_acc=0.671, val_AUC=0.707]\n"
     ]
    },
    {
     "name": "stdout",
     "output_type": "stream",
     "text": [
      "tensor([-0.5398, -0.3996, -0.4309, -0.2745, -0.2863, -0.1852,  0.3466,  0.3975,\n",
      "         0.0228,  0.0137, -0.0920], device='cuda:0', grad_fn=<DivBackward0>)\n"
     ]
    },
    {
     "name": "stderr",
     "output_type": "stream",
     "text": [
      "Epoch 331: 100%|██████████| 3/3 [00:02<00:00,  1.06it/s, loss=19, acc=0.69, AUC=0.765, val_acc=0.671, val_AUC=0.699]\n"
     ]
    },
    {
     "name": "stdout",
     "output_type": "stream",
     "text": [
      "tensor([-0.5410, -0.4017, -0.4395, -0.2775, -0.2779, -0.1796,  0.3510,  0.3976,\n",
      "         0.0314,  0.0069, -0.0898], device='cuda:0', grad_fn=<DivBackward0>)\n"
     ]
    },
    {
     "name": "stderr",
     "output_type": "stream",
     "text": [
      "Epoch 332: 100%|██████████| 3/3 [00:02<00:00,  1.05it/s, loss=18.9, acc=0.701, AUC=0.769, val_acc=0.677, val_AUC=0.707]\n"
     ]
    },
    {
     "name": "stdout",
     "output_type": "stream",
     "text": [
      "tensor([-0.5499, -0.4018, -0.4468, -0.2765, -0.2776, -0.1825,  0.3461,  0.4084,\n",
      "         0.0213,  0.0094, -0.0858], device='cuda:0', grad_fn=<DivBackward0>)\n"
     ]
    },
    {
     "name": "stderr",
     "output_type": "stream",
     "text": [
      "Epoch 333: 100%|██████████| 3/3 [00:02<00:00,  1.05it/s, loss=18.9, acc=0.702, AUC=0.772, val_acc=0.64, val_AUC=0.69]\n"
     ]
    },
    {
     "name": "stdout",
     "output_type": "stream",
     "text": [
      "tensor([-0.5561, -0.3994, -0.4422, -0.2856, -0.2830, -0.1921,  0.3430,  0.4119,\n",
      "         0.0299,  0.0186, -0.0953], device='cuda:0', grad_fn=<DivBackward0>)\n"
     ]
    },
    {
     "name": "stderr",
     "output_type": "stream",
     "text": [
      "Epoch 334: 100%|██████████| 3/3 [00:02<00:00,  1.03it/s, loss=18.9, acc=0.702, AUC=0.771, val_acc=0.653, val_AUC=0.706]\n"
     ]
    },
    {
     "name": "stdout",
     "output_type": "stream",
     "text": [
      "tensor([-0.5598, -0.4072, -0.4593, -0.2917, -0.2866, -0.2027,  0.3498,  0.4117,\n",
      "         0.0320,  0.0221, -0.0918], device='cuda:0', grad_fn=<DivBackward0>)\n"
     ]
    },
    {
     "name": "stderr",
     "output_type": "stream",
     "text": [
      "Epoch 335: 100%|██████████| 3/3 [00:02<00:00,  1.05it/s, loss=18.9, acc=0.704, AUC=0.77, val_acc=0.644, val_AUC=0.686]\n"
     ]
    },
    {
     "name": "stdout",
     "output_type": "stream",
     "text": [
      "tensor([-0.5546, -0.4149, -0.4489, -0.2830, -0.2818, -0.1877,  0.3463,  0.4134,\n",
      "         0.0336,  0.0241, -0.0938], device='cuda:0', grad_fn=<DivBackward0>)\n"
     ]
    },
    {
     "name": "stderr",
     "output_type": "stream",
     "text": [
      "Epoch 336: 100%|██████████| 3/3 [00:02<00:00,  1.05it/s, loss=18.8, acc=0.703, AUC=0.772, val_acc=0.665, val_AUC=0.702]\n"
     ]
    },
    {
     "name": "stdout",
     "output_type": "stream",
     "text": [
      "tensor([-0.5391, -0.4271, -0.4555, -0.2841, -0.2843, -0.1825,  0.3447,  0.4071,\n",
      "         0.0351,  0.0192, -0.0956], device='cuda:0', grad_fn=<DivBackward0>)\n"
     ]
    },
    {
     "name": "stderr",
     "output_type": "stream",
     "text": [
      "Epoch 337: 100%|██████████| 3/3 [00:02<00:00,  1.05it/s, loss=18.8, acc=0.706, AUC=0.772, val_acc=0.653, val_AUC=0.698]\n"
     ]
    },
    {
     "name": "stdout",
     "output_type": "stream",
     "text": [
      "tensor([-0.5501, -0.4211, -0.4561, -0.2854, -0.2869, -0.1783,  0.3540,  0.3976,\n",
      "         0.0520,  0.0074, -0.0858], device='cuda:0', grad_fn=<DivBackward0>)\n"
     ]
    },
    {
     "name": "stderr",
     "output_type": "stream",
     "text": [
      "Epoch 338: 100%|██████████| 3/3 [00:02<00:00,  1.05it/s, loss=19, acc=0.702, AUC=0.769, val_acc=0.677, val_AUC=0.698]\n"
     ]
    },
    {
     "name": "stdout",
     "output_type": "stream",
     "text": [
      "tensor([-0.5478, -0.4145, -0.4489, -0.2883, -0.2820, -0.1750,  0.3415,  0.3965,\n",
      "         0.0400,  0.0048, -0.0892], device='cuda:0', grad_fn=<DivBackward0>)\n"
     ]
    },
    {
     "name": "stderr",
     "output_type": "stream",
     "text": [
      "Epoch 339: 100%|██████████| 3/3 [00:02<00:00,  1.03it/s, loss=18.9, acc=0.708, AUC=0.772, val_acc=0.659, val_AUC=0.703]\n"
     ]
    },
    {
     "name": "stdout",
     "output_type": "stream",
     "text": [
      "tensor([-0.5441, -0.4185, -0.4611, -0.2931, -0.2837, -0.1960,  0.3406,  0.4034,\n",
      "         0.0451,  0.0078, -0.0937], device='cuda:0', grad_fn=<DivBackward0>)\n"
     ]
    },
    {
     "name": "stderr",
     "output_type": "stream",
     "text": [
      "Epoch 340: 100%|██████████| 3/3 [00:02<00:00,  1.05it/s, loss=18.8, acc=0.701, AUC=0.771, val_acc=0.65, val_AUC=0.695]\n"
     ]
    },
    {
     "name": "stdout",
     "output_type": "stream",
     "text": [
      "tensor([-0.5583, -0.4204, -0.4636, -0.2849, -0.2786, -0.2042,  0.3420,  0.4061,\n",
      "         0.0353,  0.0120, -0.0985], device='cuda:0', grad_fn=<DivBackward0>)\n"
     ]
    },
    {
     "name": "stderr",
     "output_type": "stream",
     "text": [
      "Epoch 341: 100%|██████████| 3/3 [00:02<00:00,  1.05it/s, loss=18.9, acc=0.701, AUC=0.77, val_acc=0.65, val_AUC=0.691]\n"
     ]
    },
    {
     "name": "stdout",
     "output_type": "stream",
     "text": [
      "tensor([-0.5673, -0.4247, -0.4685, -0.2930, -0.2728, -0.2146,  0.3523,  0.4138,\n",
      "         0.0362,  0.0186, -0.1038], device='cuda:0', grad_fn=<DivBackward0>)\n"
     ]
    },
    {
     "name": "stderr",
     "output_type": "stream",
     "text": [
      "Epoch 342: 100%|██████████| 3/3 [00:02<00:00,  1.06it/s, loss=18.9, acc=0.701, AUC=0.769, val_acc=0.622, val_AUC=0.702]\n"
     ]
    },
    {
     "name": "stdout",
     "output_type": "stream",
     "text": [
      "tensor([-0.5607, -0.4272, -0.4725, -0.2942, -0.2737, -0.2059,  0.3455,  0.4112,\n",
      "         0.0448,  0.0157, -0.0986], device='cuda:0', grad_fn=<DivBackward0>)\n"
     ]
    },
    {
     "name": "stderr",
     "output_type": "stream",
     "text": [
      "Epoch 343: 100%|██████████| 3/3 [00:02<00:00,  1.05it/s, loss=18.8, acc=0.706, AUC=0.773, val_acc=0.662, val_AUC=0.7]\n"
     ]
    },
    {
     "name": "stdout",
     "output_type": "stream",
     "text": [
      "tensor([-0.5710, -0.4292, -0.4771, -0.2955, -0.2745, -0.2086,  0.3498,  0.4116,\n",
      "         0.0404,  0.0182, -0.1068], device='cuda:0', grad_fn=<DivBackward0>)\n"
     ]
    },
    {
     "name": "stderr",
     "output_type": "stream",
     "text": [
      "Epoch 344: 100%|██████████| 3/3 [00:02<00:00,  1.04it/s, loss=18.9, acc=0.7, AUC=0.77, val_acc=0.659, val_AUC=0.695]\n"
     ]
    },
    {
     "name": "stdout",
     "output_type": "stream",
     "text": [
      "tensor([-0.5735, -0.4311, -0.4886, -0.2978, -0.2897, -0.2260,  0.3541,  0.4148,\n",
      "         0.0566,  0.0136, -0.1108], device='cuda:0', grad_fn=<DivBackward0>)\n"
     ]
    },
    {
     "name": "stderr",
     "output_type": "stream",
     "text": [
      "Epoch 345: 100%|██████████| 3/3 [00:02<00:00,  1.05it/s, loss=18.8, acc=0.707, AUC=0.773, val_acc=0.665, val_AUC=0.702]\n"
     ]
    },
    {
     "name": "stdout",
     "output_type": "stream",
     "text": [
      "tensor([-0.5782, -0.4449, -0.4944, -0.3005, -0.2901, -0.2252,  0.3636,  0.4261,\n",
      "         0.0490,  0.0156, -0.1088], device='cuda:0', grad_fn=<DivBackward0>)\n"
     ]
    },
    {
     "name": "stderr",
     "output_type": "stream",
     "text": [
      "Epoch 346: 100%|██████████| 3/3 [00:02<00:00,  1.05it/s, loss=19, acc=0.694, AUC=0.765, val_acc=0.659, val_AUC=0.698]\n"
     ]
    },
    {
     "name": "stdout",
     "output_type": "stream",
     "text": [
      "tensor([-0.5802, -0.4258, -0.4851, -0.3016, -0.2866, -0.2298,  0.3649,  0.4320,\n",
      "         0.0324,  0.0198, -0.0924], device='cuda:0', grad_fn=<DivBackward0>)\n"
     ]
    },
    {
     "name": "stderr",
     "output_type": "stream",
     "text": [
      "Epoch 347: 100%|██████████| 3/3 [00:02<00:00,  1.05it/s, loss=18.8, acc=0.703, AUC=0.774, val_acc=0.668, val_AUC=0.693]\n"
     ]
    },
    {
     "name": "stdout",
     "output_type": "stream",
     "text": [
      "tensor([-0.5764, -0.4203, -0.4821, -0.3033, -0.2853, -0.2239,  0.3558,  0.4371,\n",
      "         0.0282,  0.0152, -0.0952], device='cuda:0', grad_fn=<DivBackward0>)\n"
     ]
    },
    {
     "name": "stderr",
     "output_type": "stream",
     "text": [
      "Epoch 348: 100%|██████████| 3/3 [00:02<00:00,  1.05it/s, loss=18.8, acc=0.704, AUC=0.772, val_acc=0.656, val_AUC=0.699]\n"
     ]
    },
    {
     "name": "stdout",
     "output_type": "stream",
     "text": [
      "tensor([-0.5729, -0.4088, -0.4655, -0.2898, -0.2814, -0.2173,  0.3574,  0.4171,\n",
      "         0.0317,  0.0089, -0.0839], device='cuda:0', grad_fn=<DivBackward0>)\n"
     ]
    },
    {
     "name": "stderr",
     "output_type": "stream",
     "text": [
      "Epoch 349: 100%|██████████| 3/3 [00:02<00:00,  1.04it/s, loss=18.9, acc=0.701, AUC=0.772, val_acc=0.653, val_AUC=0.7]\n"
     ]
    },
    {
     "name": "stdout",
     "output_type": "stream",
     "text": [
      "tensor([-0.5655, -0.4116, -0.4658, -0.2904, -0.2854, -0.2078,  0.3545,  0.4178,\n",
      "         0.0296,  0.0035, -0.0927], device='cuda:0', grad_fn=<DivBackward0>)\n"
     ]
    },
    {
     "name": "stderr",
     "output_type": "stream",
     "text": [
      "Epoch 350: 100%|██████████| 3/3 [00:02<00:00,  1.05it/s, loss=18.9, acc=0.703, AUC=0.77, val_acc=0.653, val_AUC=0.693]\n"
     ]
    },
    {
     "name": "stdout",
     "output_type": "stream",
     "text": [
      "tensor([-0.5559, -0.4090, -0.4628, -0.2874, -0.2911, -0.2036,  0.3454,  0.4153,\n",
      "         0.0271,  0.0088, -0.0844], device='cuda:0', grad_fn=<DivBackward0>)\n"
     ]
    },
    {
     "name": "stderr",
     "output_type": "stream",
     "text": [
      "Epoch 351: 100%|██████████| 3/3 [00:02<00:00,  1.05it/s, loss=18.9, acc=0.699, AUC=0.77, val_acc=0.665, val_AUC=0.696]\n"
     ]
    },
    {
     "name": "stdout",
     "output_type": "stream",
     "text": [
      "tensor([-0.5603, -0.4096, -0.4639, -0.3021, -0.2898, -0.2066,  0.3468,  0.4075,\n",
      "         0.0281,  0.0158, -0.0784], device='cuda:0', grad_fn=<DivBackward0>)\n"
     ]
    },
    {
     "name": "stderr",
     "output_type": "stream",
     "text": [
      "Epoch 352: 100%|██████████| 3/3 [00:02<00:00,  1.05it/s, loss=18.8, acc=0.708, AUC=0.774, val_acc=0.656, val_AUC=0.71]\n"
     ]
    },
    {
     "name": "stdout",
     "output_type": "stream",
     "text": [
      "tensor([-0.5562, -0.4164, -0.4699, -0.3010, -0.2949, -0.2070,  0.3445,  0.4138,\n",
      "         0.0347,  0.0138, -0.0814], device='cuda:0', grad_fn=<DivBackward0>)\n"
     ]
    },
    {
     "name": "stderr",
     "output_type": "stream",
     "text": [
      "Epoch 353: 100%|██████████| 3/3 [00:02<00:00,  1.05it/s, loss=18.8, acc=0.703, AUC=0.773, val_acc=0.665, val_AUC=0.69]\n"
     ]
    },
    {
     "name": "stdout",
     "output_type": "stream",
     "text": [
      "tensor([-0.5671, -0.4165, -0.4681, -0.2986, -0.2999, -0.2061,  0.3499,  0.4319,\n",
      "         0.0334,  0.0136, -0.0862], device='cuda:0', grad_fn=<DivBackward0>)\n"
     ]
    },
    {
     "name": "stderr",
     "output_type": "stream",
     "text": [
      "Epoch 354: 100%|██████████| 3/3 [00:02<00:00,  1.03it/s, loss=18.9, acc=0.701, AUC=0.77, val_acc=0.665, val_AUC=0.699]\n"
     ]
    },
    {
     "name": "stdout",
     "output_type": "stream",
     "text": [
      "tensor([-0.5633, -0.4195, -0.4783, -0.2928, -0.2937, -0.2055,  0.3495,  0.4251,\n",
      "         0.0367,  0.0077, -0.0820], device='cuda:0', grad_fn=<DivBackward0>)\n"
     ]
    },
    {
     "name": "stderr",
     "output_type": "stream",
     "text": [
      "Epoch 355: 100%|██████████| 3/3 [00:02<00:00,  1.05it/s, loss=18.8, acc=0.707, AUC=0.773, val_acc=0.637, val_AUC=0.687]\n"
     ]
    },
    {
     "name": "stdout",
     "output_type": "stream",
     "text": [
      "tensor([-0.5704, -0.4254, -0.4825, -0.3023, -0.2979, -0.2129,  0.3584,  0.4219,\n",
      "         0.0449,  0.0138, -0.0752], device='cuda:0', grad_fn=<DivBackward0>)\n"
     ]
    },
    {
     "name": "stderr",
     "output_type": "stream",
     "text": [
      "Epoch 356: 100%|██████████| 3/3 [00:02<00:00,  1.05it/s, loss=18.8, acc=0.702, AUC=0.772, val_acc=0.64, val_AUC=0.699]\n"
     ]
    },
    {
     "name": "stdout",
     "output_type": "stream",
     "text": [
      "tensor([-0.5669, -0.4188, -0.4792, -0.2918, -0.2926, -0.2066,  0.3531,  0.4048,\n",
      "         0.0407,  0.0149, -0.0739], device='cuda:0', grad_fn=<DivBackward0>)\n"
     ]
    },
    {
     "name": "stderr",
     "output_type": "stream",
     "text": [
      "Epoch 357: 100%|██████████| 3/3 [00:02<00:00,  1.05it/s, loss=18.9, acc=0.708, AUC=0.77, val_acc=0.656, val_AUC=0.695]\n"
     ]
    },
    {
     "name": "stdout",
     "output_type": "stream",
     "text": [
      "tensor([-0.5650, -0.4193, -0.4705, -0.2850, -0.2905, -0.1995,  0.3370,  0.3985,\n",
      "         0.0474,  0.0059, -0.0806], device='cuda:0', grad_fn=<DivBackward0>)\n"
     ]
    },
    {
     "name": "stderr",
     "output_type": "stream",
     "text": [
      "Epoch 358: 100%|██████████| 3/3 [00:02<00:00,  1.06it/s, loss=18.8, acc=0.702, AUC=0.775, val_acc=0.653, val_AUC=0.697]\n"
     ]
    },
    {
     "name": "stdout",
     "output_type": "stream",
     "text": [
      "tensor([-0.5576, -0.4168, -0.4693, -0.2875, -0.2945, -0.1948,  0.3415,  0.4083,\n",
      "         0.0359,  0.0081, -0.0896], device='cuda:0', grad_fn=<DivBackward0>)\n"
     ]
    },
    {
     "name": "stderr",
     "output_type": "stream",
     "text": [
      "Epoch 359: 100%|██████████| 3/3 [00:02<00:00,  1.03it/s, loss=19, acc=0.702, AUC=0.767, val_acc=0.65, val_AUC=0.696]\n"
     ]
    },
    {
     "name": "stdout",
     "output_type": "stream",
     "text": [
      "tensor([-5.6428e-01, -4.3071e-01, -4.7448e-01, -2.9461e-01, -2.9653e-01,\n",
      "        -2.0356e-01,  3.4798e-01,  4.0689e-01,  5.7323e-02,  2.4919e-04,\n",
      "        -9.3206e-02], device='cuda:0', grad_fn=<DivBackward0>)\n"
     ]
    },
    {
     "name": "stderr",
     "output_type": "stream",
     "text": [
      "Epoch 360: 100%|██████████| 3/3 [00:02<00:00,  1.05it/s, loss=18.8, acc=0.7, AUC=0.774, val_acc=0.659, val_AUC=0.707]\n"
     ]
    },
    {
     "name": "stdout",
     "output_type": "stream",
     "text": [
      "tensor([-0.5735, -0.4306, -0.4790, -0.2955, -0.2973, -0.2049,  0.3484,  0.4165,\n",
      "         0.0471,  0.0103, -0.0919], device='cuda:0', grad_fn=<DivBackward0>)\n"
     ]
    },
    {
     "name": "stderr",
     "output_type": "stream",
     "text": [
      "Epoch 361: 100%|██████████| 3/3 [00:02<00:00,  1.05it/s, loss=18.8, acc=0.704, AUC=0.772, val_acc=0.656, val_AUC=0.697]\n"
     ]
    },
    {
     "name": "stdout",
     "output_type": "stream",
     "text": [
      "tensor([-0.5630, -0.4287, -0.4754, -0.2980, -0.3048, -0.2067,  0.3436,  0.4181,\n",
      "         0.0460,  0.0102, -0.0982], device='cuda:0', grad_fn=<DivBackward0>)\n"
     ]
    },
    {
     "name": "stderr",
     "output_type": "stream",
     "text": [
      "Epoch 362: 100%|██████████| 3/3 [00:02<00:00,  1.05it/s, loss=18.8, acc=0.708, AUC=0.772, val_acc=0.637, val_AUC=0.695]\n"
     ]
    },
    {
     "name": "stdout",
     "output_type": "stream",
     "text": [
      "tensor([-0.5601, -0.4387, -0.4751, -0.2871, -0.2963, -0.2127,  0.3455,  0.4258,\n",
      "         0.0357,  0.0106, -0.0885], device='cuda:0', grad_fn=<DivBackward0>)\n"
     ]
    },
    {
     "name": "stderr",
     "output_type": "stream",
     "text": [
      "Epoch 363: 100%|██████████| 3/3 [00:02<00:00,  1.05it/s, loss=18.8, acc=0.701, AUC=0.774, val_acc=0.665, val_AUC=0.71]\n"
     ]
    },
    {
     "name": "stdout",
     "output_type": "stream",
     "text": [
      "tensor([-0.5595, -0.4254, -0.4695, -0.2961, -0.2998, -0.2057,  0.3429,  0.4212,\n",
      "         0.0432,  0.0121, -0.0895], device='cuda:0', grad_fn=<DivBackward0>)\n"
     ]
    },
    {
     "name": "stderr",
     "output_type": "stream",
     "text": [
      "Epoch 364: 100%|██████████| 3/3 [00:02<00:00,  1.03it/s, loss=18.9, acc=0.695, AUC=0.77, val_acc=0.662, val_AUC=0.689]\n"
     ]
    },
    {
     "name": "stdout",
     "output_type": "stream",
     "text": [
      "tensor([-0.5526, -0.4262, -0.4646, -0.2889, -0.2937, -0.1993,  0.3434,  0.4127,\n",
      "         0.0383,  0.0043, -0.0871], device='cuda:0', grad_fn=<DivBackward0>)\n"
     ]
    },
    {
     "name": "stderr",
     "output_type": "stream",
     "text": [
      "Epoch 365: 100%|██████████| 3/3 [00:02<00:00,  1.05it/s, loss=18.8, acc=0.705, AUC=0.775, val_acc=0.634, val_AUC=0.692]\n"
     ]
    },
    {
     "name": "stdout",
     "output_type": "stream",
     "text": [
      "tensor([-0.5569, -0.4252, -0.4672, -0.2840, -0.2920, -0.2031,  0.3447,  0.4080,\n",
      "         0.0453,  0.0073, -0.0765], device='cuda:0', grad_fn=<DivBackward0>)\n"
     ]
    },
    {
     "name": "stderr",
     "output_type": "stream",
     "text": [
      "Epoch 366: 100%|██████████| 3/3 [00:02<00:00,  1.05it/s, loss=18.8, acc=0.707, AUC=0.775, val_acc=0.668, val_AUC=0.701]\n"
     ]
    },
    {
     "name": "stdout",
     "output_type": "stream",
     "text": [
      "tensor([-0.5599, -0.4131, -0.4605, -0.2826, -0.2936, -0.1976,  0.3478,  0.4081,\n",
      "         0.0417,  0.0040, -0.0846], device='cuda:0', grad_fn=<DivBackward0>)\n"
     ]
    },
    {
     "name": "stderr",
     "output_type": "stream",
     "text": [
      "Epoch 367: 100%|██████████| 3/3 [00:02<00:00,  1.05it/s, loss=18.8, acc=0.705, AUC=0.774, val_acc=0.665, val_AUC=0.695]\n"
     ]
    },
    {
     "name": "stdout",
     "output_type": "stream",
     "text": [
      "tensor([-0.5526, -0.4174, -0.4664, -0.2803, -0.2833, -0.1894,  0.3397,  0.4045,\n",
      "         0.0398,  0.0041, -0.0799], device='cuda:0', grad_fn=<DivBackward0>)\n"
     ]
    },
    {
     "name": "stderr",
     "output_type": "stream",
     "text": [
      "Epoch 368: 100%|██████████| 3/3 [00:02<00:00,  1.05it/s, loss=18.8, acc=0.7, AUC=0.774, val_acc=0.653, val_AUC=0.697]\n"
     ]
    },
    {
     "name": "stdout",
     "output_type": "stream",
     "text": [
      "tensor([-0.5508, -0.4135, -0.4616, -0.2826, -0.2904, -0.1930,  0.3476,  0.4062,\n",
      "         0.0372,  0.0075, -0.0845], device='cuda:0', grad_fn=<DivBackward0>)\n"
     ]
    },
    {
     "name": "stderr",
     "output_type": "stream",
     "text": [
      "Epoch 369: 100%|██████████| 3/3 [00:02<00:00,  1.03it/s, loss=18.8, acc=0.7, AUC=0.772, val_acc=0.659, val_AUC=0.696]\n"
     ]
    },
    {
     "name": "stdout",
     "output_type": "stream",
     "text": [
      "tensor([-0.5717, -0.4156, -0.4633, -0.2887, -0.2858, -0.2077,  0.3368,  0.4200,\n",
      "         0.0376,  0.0078, -0.0786], device='cuda:0', grad_fn=<DivBackward0>)\n"
     ]
    },
    {
     "name": "stderr",
     "output_type": "stream",
     "text": [
      "Epoch 370: 100%|██████████| 3/3 [00:02<00:00,  1.05it/s, loss=18.8, acc=0.71, AUC=0.774, val_acc=0.644, val_AUC=0.692]\n"
     ]
    },
    {
     "name": "stdout",
     "output_type": "stream",
     "text": [
      "tensor([-0.5705, -0.4172, -0.4624, -0.2843, -0.2821, -0.2073,  0.3451,  0.4246,\n",
      "         0.0284,  0.0088, -0.0867], device='cuda:0', grad_fn=<DivBackward0>)\n"
     ]
    },
    {
     "name": "stderr",
     "output_type": "stream",
     "text": [
      "Epoch 371: 100%|██████████| 3/3 [00:02<00:00,  1.05it/s, loss=18.9, acc=0.7, AUC=0.77, val_acc=0.653, val_AUC=0.686]\n"
     ]
    },
    {
     "name": "stdout",
     "output_type": "stream",
     "text": [
      "tensor([-0.5608, -0.4147, -0.4590, -0.2814, -0.2784, -0.2033,  0.3399,  0.4152,\n",
      "         0.0209,  0.0096, -0.0827], device='cuda:0', grad_fn=<DivBackward0>)\n"
     ]
    },
    {
     "name": "stderr",
     "output_type": "stream",
     "text": [
      "Epoch 372: 100%|██████████| 3/3 [00:02<00:00,  1.05it/s, loss=18.7, acc=0.709, AUC=0.776, val_acc=0.656, val_AUC=0.71]\n"
     ]
    },
    {
     "name": "stdout",
     "output_type": "stream",
     "text": [
      "tensor([-0.5736, -0.4137, -0.4647, -0.2840, -0.2782, -0.1996,  0.3529,  0.4147,\n",
      "         0.0311,  0.0095, -0.0799], device='cuda:0', grad_fn=<DivBackward0>)\n"
     ]
    },
    {
     "name": "stderr",
     "output_type": "stream",
     "text": [
      "Epoch 373: 100%|██████████| 3/3 [00:02<00:00,  1.05it/s, loss=18.8, acc=0.706, AUC=0.773, val_acc=0.659, val_AUC=0.697]\n"
     ]
    },
    {
     "name": "stdout",
     "output_type": "stream",
     "text": [
      "tensor([-0.5690, -0.4142, -0.4491, -0.2749, -0.2723, -0.1979,  0.3498,  0.4200,\n",
      "         0.0178,  0.0097, -0.0654], device='cuda:0', grad_fn=<DivBackward0>)\n"
     ]
    },
    {
     "name": "stderr",
     "output_type": "stream",
     "text": [
      "Epoch 374: 100%|██████████| 3/3 [00:02<00:00,  1.03it/s, loss=18.9, acc=0.702, AUC=0.769, val_acc=0.65, val_AUC=0.7]\n"
     ]
    },
    {
     "name": "stdout",
     "output_type": "stream",
     "text": [
      "tensor([-0.5658, -0.4144, -0.4512, -0.2763, -0.2806, -0.2009,  0.3408,  0.4154,\n",
      "         0.0240,  0.0023, -0.0764], device='cuda:0', grad_fn=<DivBackward0>)\n"
     ]
    },
    {
     "name": "stderr",
     "output_type": "stream",
     "text": [
      "Epoch 375: 100%|██████████| 3/3 [00:02<00:00,  1.05it/s, loss=18.7, acc=0.707, AUC=0.777, val_acc=0.647, val_AUC=0.697]\n"
     ]
    },
    {
     "name": "stdout",
     "output_type": "stream",
     "text": [
      "tensor([-0.5766, -0.4081, -0.4499, -0.2783, -0.2757, -0.2023,  0.3405,  0.4229,\n",
      "         0.0250,  0.0038, -0.0874], device='cuda:0', grad_fn=<DivBackward0>)\n"
     ]
    },
    {
     "name": "stderr",
     "output_type": "stream",
     "text": [
      "Epoch 376: 100%|██████████| 3/3 [00:02<00:00,  1.05it/s, loss=18.8, acc=0.705, AUC=0.77, val_acc=0.656, val_AUC=0.692]\n"
     ]
    },
    {
     "name": "stdout",
     "output_type": "stream",
     "text": [
      "tensor([-0.5543, -0.4028, -0.4423, -0.2718, -0.2780, -0.1952,  0.3294,  0.4144,\n",
      "         0.0275, -0.0026, -0.0928], device='cuda:0', grad_fn=<DivBackward0>)\n"
     ]
    },
    {
     "name": "stderr",
     "output_type": "stream",
     "text": [
      "Epoch 377: 100%|██████████| 3/3 [00:02<00:00,  1.05it/s, loss=18.8, acc=0.703, AUC=0.774, val_acc=0.656, val_AUC=0.707]\n"
     ]
    },
    {
     "name": "stdout",
     "output_type": "stream",
     "text": [
      "tensor([-0.5640, -0.4112, -0.4518, -0.2819, -0.2840, -0.1912,  0.3385,  0.4200,\n",
      "         0.0297,  0.0020, -0.0879], device='cuda:0', grad_fn=<DivBackward0>)\n"
     ]
    },
    {
     "name": "stderr",
     "output_type": "stream",
     "text": [
      "Epoch 378: 100%|██████████| 3/3 [00:02<00:00,  1.05it/s, loss=18.7, acc=0.706, AUC=0.777, val_acc=0.662, val_AUC=0.705]\n"
     ]
    },
    {
     "name": "stdout",
     "output_type": "stream",
     "text": [
      "tensor([-0.5656, -0.4165, -0.4529, -0.2715, -0.2752, -0.1919,  0.3393,  0.4239,\n",
      "         0.0343,  0.0028, -0.0925], device='cuda:0', grad_fn=<DivBackward0>)\n"
     ]
    },
    {
     "name": "stderr",
     "output_type": "stream",
     "text": [
      "Epoch 379: 100%|██████████| 3/3 [00:02<00:00,  1.03it/s, loss=18.8, acc=0.7, AUC=0.774, val_acc=0.65, val_AUC=0.689]\n"
     ]
    },
    {
     "name": "stdout",
     "output_type": "stream",
     "text": [
      "tensor([-0.5730, -0.4270, -0.4556, -0.2759, -0.2802, -0.1951,  0.3321,  0.4220,\n",
      "         0.0333, -0.0044, -0.0951], device='cuda:0', grad_fn=<DivBackward0>)\n"
     ]
    },
    {
     "name": "stderr",
     "output_type": "stream",
     "text": [
      "Epoch 380: 100%|██████████| 3/3 [00:02<00:00,  1.05it/s, loss=18.7, acc=0.71, AUC=0.777, val_acc=0.668, val_AUC=0.695]\n"
     ]
    },
    {
     "name": "stdout",
     "output_type": "stream",
     "text": [
      "tensor([-0.5746, -0.4210, -0.4537, -0.2738, -0.2798, -0.2027,  0.3407,  0.4299,\n",
      "         0.0307,  0.0011, -0.0989], device='cuda:0', grad_fn=<DivBackward0>)\n"
     ]
    },
    {
     "name": "stderr",
     "output_type": "stream",
     "text": [
      "Epoch 381: 100%|██████████| 3/3 [00:02<00:00,  1.05it/s, loss=18.7, acc=0.71, AUC=0.775, val_acc=0.659, val_AUC=0.699]\n"
     ]
    },
    {
     "name": "stdout",
     "output_type": "stream",
     "text": [
      "tensor([-0.5644, -0.4219, -0.4542, -0.2704, -0.2781, -0.1970,  0.3403,  0.4266,\n",
      "         0.0278, -0.0009, -0.0990], device='cuda:0', grad_fn=<DivBackward0>)\n"
     ]
    },
    {
     "name": "stderr",
     "output_type": "stream",
     "text": [
      "Epoch 382: 100%|██████████| 3/3 [00:02<00:00,  1.05it/s, loss=18.8, acc=0.7, AUC=0.772, val_acc=0.64, val_AUC=0.7]\n"
     ]
    },
    {
     "name": "stdout",
     "output_type": "stream",
     "text": [
      "tensor([-0.5715, -0.4081, -0.4459, -0.2669, -0.2771, -0.1921,  0.3357,  0.4183,\n",
      "         0.0313, -0.0030, -0.0883], device='cuda:0', grad_fn=<DivBackward0>)\n"
     ]
    },
    {
     "name": "stderr",
     "output_type": "stream",
     "text": [
      "Epoch 383: 100%|██████████| 3/3 [00:02<00:00,  1.05it/s, loss=18.7, acc=0.703, AUC=0.776, val_acc=0.637, val_AUC=0.703]\n"
     ]
    },
    {
     "name": "stdout",
     "output_type": "stream",
     "text": [
      "tensor([-0.5651, -0.4121, -0.4463, -0.2727, -0.2824, -0.1982,  0.3387,  0.4219,\n",
      "         0.0328,  0.0061, -0.0887], device='cuda:0', grad_fn=<DivBackward0>)\n"
     ]
    },
    {
     "name": "stderr",
     "output_type": "stream",
     "text": [
      "Epoch 384: 100%|██████████| 3/3 [00:02<00:00,  1.03it/s, loss=18.9, acc=0.704, AUC=0.772, val_acc=0.653, val_AUC=0.69]\n"
     ]
    },
    {
     "name": "stdout",
     "output_type": "stream",
     "text": [
      "tensor([-0.5693, -0.4119, -0.4554, -0.2709, -0.2888, -0.2035,  0.3389,  0.4320,\n",
      "         0.0342,  0.0011, -0.0885], device='cuda:0', grad_fn=<DivBackward0>)\n"
     ]
    },
    {
     "name": "stderr",
     "output_type": "stream",
     "text": [
      "Epoch 385: 100%|██████████| 3/3 [00:02<00:00,  1.05it/s, loss=18.8, acc=0.702, AUC=0.774, val_acc=0.631, val_AUC=0.691]\n"
     ]
    },
    {
     "name": "stdout",
     "output_type": "stream",
     "text": [
      "tensor([-5.6662e-01, -4.0310e-01, -4.5209e-01, -2.7477e-01, -2.7985e-01,\n",
      "        -1.9499e-01,  3.3233e-01,  4.2372e-01,  2.9367e-02,  3.8245e-04,\n",
      "        -8.2094e-02], device='cuda:0', grad_fn=<DivBackward0>)\n"
     ]
    },
    {
     "name": "stderr",
     "output_type": "stream",
     "text": [
      "Epoch 386: 100%|██████████| 3/3 [00:02<00:00,  1.05it/s, loss=18.8, acc=0.706, AUC=0.774, val_acc=0.653, val_AUC=0.713]\n"
     ]
    },
    {
     "name": "stdout",
     "output_type": "stream",
     "text": [
      "tensor([-0.5714, -0.4097, -0.4384, -0.2779, -0.2715, -0.1960,  0.3283,  0.4225,\n",
      "         0.0305,  0.0029, -0.0753], device='cuda:0', grad_fn=<DivBackward0>)\n"
     ]
    },
    {
     "name": "stderr",
     "output_type": "stream",
     "text": [
      "Epoch 387: 100%|██████████| 3/3 [00:02<00:00,  1.05it/s, loss=18.8, acc=0.707, AUC=0.773, val_acc=0.659, val_AUC=0.693]\n"
     ]
    },
    {
     "name": "stdout",
     "output_type": "stream",
     "text": [
      "tensor([-0.5690, -0.4069, -0.4440, -0.2773, -0.2822, -0.1895,  0.3228,  0.4172,\n",
      "         0.0269,  0.0024, -0.0689], device='cuda:0', grad_fn=<DivBackward0>)\n"
     ]
    },
    {
     "name": "stderr",
     "output_type": "stream",
     "text": [
      "Epoch 388: 100%|██████████| 3/3 [00:02<00:00,  1.05it/s, loss=18.9, acc=0.704, AUC=0.771, val_acc=0.662, val_AUC=0.691]\n"
     ]
    },
    {
     "name": "stdout",
     "output_type": "stream",
     "text": [
      "tensor([-0.5708, -0.4031, -0.4418, -0.2790, -0.2822, -0.1894,  0.3313,  0.4306,\n",
      "         0.0208, -0.0043, -0.0769], device='cuda:0', grad_fn=<DivBackward0>)\n"
     ]
    },
    {
     "name": "stderr",
     "output_type": "stream",
     "text": [
      "Epoch 389: 100%|██████████| 3/3 [00:02<00:00,  1.03it/s, loss=18.8, acc=0.708, AUC=0.774, val_acc=0.656, val_AUC=0.704]\n"
     ]
    },
    {
     "name": "stdout",
     "output_type": "stream",
     "text": [
      "tensor([-0.5688, -0.4140, -0.4466, -0.2812, -0.2833, -0.1966,  0.3293,  0.4342,\n",
      "         0.0220, -0.0049, -0.0782], device='cuda:0', grad_fn=<DivBackward0>)\n"
     ]
    },
    {
     "name": "stderr",
     "output_type": "stream",
     "text": [
      "Epoch 390: 100%|██████████| 3/3 [00:02<00:00,  1.05it/s, loss=18.9, acc=0.699, AUC=0.771, val_acc=0.647, val_AUC=0.689]\n"
     ]
    },
    {
     "name": "stdout",
     "output_type": "stream",
     "text": [
      "tensor([-0.5677, -0.4103, -0.4447, -0.2845, -0.2877, -0.1904,  0.3356,  0.4397,\n",
      "         0.0247,  0.0032, -0.0740], device='cuda:0', grad_fn=<DivBackward0>)\n"
     ]
    },
    {
     "name": "stderr",
     "output_type": "stream",
     "text": [
      "Epoch 391: 100%|██████████| 3/3 [00:02<00:00,  1.05it/s, loss=18.7, acc=0.711, AUC=0.777, val_acc=0.653, val_AUC=0.698]\n"
     ]
    },
    {
     "name": "stdout",
     "output_type": "stream",
     "text": [
      "tensor([-0.5608, -0.3975, -0.4462, -0.2788, -0.2842, -0.1885,  0.3348,  0.4233,\n",
      "         0.0222, -0.0020, -0.0652], device='cuda:0', grad_fn=<DivBackward0>)\n"
     ]
    },
    {
     "name": "stderr",
     "output_type": "stream",
     "text": [
      "Epoch 392: 100%|██████████| 3/3 [00:02<00:00,  1.05it/s, loss=18.8, acc=0.705, AUC=0.774, val_acc=0.64, val_AUC=0.692]\n"
     ]
    },
    {
     "name": "stdout",
     "output_type": "stream",
     "text": [
      "tensor([-0.5534, -0.3930, -0.4380, -0.2789, -0.2738, -0.1857,  0.3385,  0.4094,\n",
      "         0.0298, -0.0138, -0.0638], device='cuda:0', grad_fn=<DivBackward0>)\n"
     ]
    },
    {
     "name": "stderr",
     "output_type": "stream",
     "text": [
      "Epoch 393: 100%|██████████| 3/3 [00:02<00:00,  1.05it/s, loss=18.6, acc=0.711, AUC=0.779, val_acc=0.653, val_AUC=0.686]\n"
     ]
    },
    {
     "name": "stdout",
     "output_type": "stream",
     "text": [
      "tensor([-0.5541, -0.3974, -0.4435, -0.2808, -0.2691, -0.1827,  0.3382,  0.4117,\n",
      "         0.0319, -0.0129, -0.0715], device='cuda:0', grad_fn=<DivBackward0>)\n"
     ]
    },
    {
     "name": "stderr",
     "output_type": "stream",
     "text": [
      "Epoch 394: 100%|██████████| 3/3 [00:02<00:00,  1.03it/s, loss=18.6, acc=0.709, AUC=0.779, val_acc=0.653, val_AUC=0.699]\n"
     ]
    },
    {
     "name": "stdout",
     "output_type": "stream",
     "text": [
      "tensor([-0.5582, -0.3990, -0.4428, -0.2693, -0.2776, -0.1820,  0.3316,  0.4154,\n",
      "         0.0253, -0.0125, -0.0648], device='cuda:0', grad_fn=<DivBackward0>)\n"
     ]
    },
    {
     "name": "stderr",
     "output_type": "stream",
     "text": [
      "Epoch 395: 100%|██████████| 3/3 [00:02<00:00,  1.05it/s, loss=18.7, acc=0.713, AUC=0.778, val_acc=0.647, val_AUC=0.696]\n"
     ]
    },
    {
     "name": "stdout",
     "output_type": "stream",
     "text": [
      "tensor([-0.5643, -0.4009, -0.4465, -0.2769, -0.2721, -0.1896,  0.3433,  0.4219,\n",
      "         0.0273, -0.0052, -0.0628], device='cuda:0', grad_fn=<DivBackward0>)\n"
     ]
    },
    {
     "name": "stderr",
     "output_type": "stream",
     "text": [
      "Epoch 396: 100%|██████████| 3/3 [00:02<00:00,  1.05it/s, loss=18.9, acc=0.699, AUC=0.77, val_acc=0.631, val_AUC=0.699]\n"
     ]
    },
    {
     "name": "stdout",
     "output_type": "stream",
     "text": [
      "tensor([-0.5559, -0.3976, -0.4508, -0.2838, -0.2791, -0.1966,  0.3388,  0.4218,\n",
      "         0.0319, -0.0073, -0.0731], device='cuda:0', grad_fn=<DivBackward0>)\n"
     ]
    },
    {
     "name": "stderr",
     "output_type": "stream",
     "text": [
      "Epoch 397: 100%|██████████| 3/3 [00:02<00:00,  1.05it/s, loss=18.8, acc=0.708, AUC=0.774, val_acc=0.628, val_AUC=0.686]\n"
     ]
    },
    {
     "name": "stdout",
     "output_type": "stream",
     "text": [
      "tensor([-0.5588, -0.3945, -0.4530, -0.2853, -0.2791, -0.1938,  0.3363,  0.4287,\n",
      "         0.0260, -0.0146, -0.0655], device='cuda:0', grad_fn=<DivBackward0>)\n"
     ]
    },
    {
     "name": "stderr",
     "output_type": "stream",
     "text": [
      "Epoch 398: 100%|██████████| 3/3 [00:02<00:00,  1.05it/s, loss=18.7, acc=0.706, AUC=0.776, val_acc=0.656, val_AUC=0.692]\n"
     ]
    },
    {
     "name": "stdout",
     "output_type": "stream",
     "text": [
      "tensor([-0.5587, -0.4045, -0.4520, -0.2833, -0.2778, -0.1914,  0.3319,  0.4276,\n",
      "         0.0286, -0.0145, -0.0669], device='cuda:0', grad_fn=<DivBackward0>)\n"
     ]
    },
    {
     "name": "stderr",
     "output_type": "stream",
     "text": [
      "Epoch 399: 100%|██████████| 3/3 [00:02<00:00,  1.03it/s, loss=18.7, acc=0.703, AUC=0.775, val_acc=0.644, val_AUC=0.692]\n"
     ]
    },
    {
     "name": "stdout",
     "output_type": "stream",
     "text": [
      "tensor([-0.5639, -0.4023, -0.4580, -0.2744, -0.2822, -0.1997,  0.3341,  0.4204,\n",
      "         0.0304, -0.0161, -0.0784], device='cuda:0', grad_fn=<DivBackward0>)\n"
     ]
    },
    {
     "name": "stderr",
     "output_type": "stream",
     "text": [
      "Epoch 400: 100%|██████████| 3/3 [00:02<00:00,  1.05it/s, loss=18.7, acc=0.707, AUC=0.777, val_acc=0.665, val_AUC=0.699]\n"
     ]
    },
    {
     "name": "stdout",
     "output_type": "stream",
     "text": [
      "tensor([-0.5754, -0.3960, -0.4563, -0.2775, -0.2764, -0.2007,  0.3381,  0.4319,\n",
      "         0.0179, -0.0090, -0.0736], device='cuda:0', grad_fn=<DivBackward0>)\n"
     ]
    },
    {
     "name": "stderr",
     "output_type": "stream",
     "text": [
      "Epoch 401: 100%|██████████| 3/3 [00:02<00:00,  1.05it/s, loss=18.8, acc=0.703, AUC=0.773, val_acc=0.644, val_AUC=0.69]\n"
     ]
    },
    {
     "name": "stdout",
     "output_type": "stream",
     "text": [
      "tensor([-0.5783, -0.3994, -0.4509, -0.2844, -0.2738, -0.2051,  0.3437,  0.4330,\n",
      "         0.0082, -0.0149, -0.0719], device='cuda:0', grad_fn=<DivBackward0>)\n"
     ]
    },
    {
     "name": "stderr",
     "output_type": "stream",
     "text": [
      "Epoch 402: 100%|██████████| 3/3 [00:02<00:00,  1.05it/s, loss=18.7, acc=0.709, AUC=0.775, val_acc=0.656, val_AUC=0.704]\n"
     ]
    },
    {
     "name": "stdout",
     "output_type": "stream",
     "text": [
      "tensor([-0.5869, -0.3970, -0.4553, -0.2849, -0.2768, -0.2076,  0.3382,  0.4403,\n",
      "         0.0143, -0.0116, -0.0661], device='cuda:0', grad_fn=<DivBackward0>)\n"
     ]
    },
    {
     "name": "stderr",
     "output_type": "stream",
     "text": [
      "Epoch 403: 100%|██████████| 3/3 [00:02<00:00,  1.05it/s, loss=18.6, acc=0.71, AUC=0.778, val_acc=0.622, val_AUC=0.677]\n"
     ]
    },
    {
     "name": "stdout",
     "output_type": "stream",
     "text": [
      "tensor([-0.5825, -0.4008, -0.4532, -0.2902, -0.2727, -0.2114,  0.3424,  0.4356,\n",
      "         0.0017, -0.0080, -0.0672], device='cuda:0', grad_fn=<DivBackward0>)\n"
     ]
    },
    {
     "name": "stderr",
     "output_type": "stream",
     "text": [
      "Epoch 404: 100%|██████████| 3/3 [00:02<00:00,  1.03it/s, loss=18.7, acc=0.706, AUC=0.775, val_acc=0.653, val_AUC=0.697]\n"
     ]
    },
    {
     "name": "stdout",
     "output_type": "stream",
     "text": [
      "tensor([-0.5725, -0.3937, -0.4471, -0.2854, -0.2710, -0.2083,  0.3396,  0.4350,\n",
      "         0.0070, -0.0088, -0.0708], device='cuda:0', grad_fn=<DivBackward0>)\n"
     ]
    },
    {
     "name": "stderr",
     "output_type": "stream",
     "text": [
      "Epoch 405: 100%|██████████| 3/3 [00:02<00:00,  1.05it/s, loss=18.8, acc=0.702, AUC=0.774, val_acc=0.65, val_AUC=0.697]\n"
     ]
    },
    {
     "name": "stdout",
     "output_type": "stream",
     "text": [
      "tensor([-0.5787, -0.3914, -0.4417, -0.2822, -0.2748, -0.2035,  0.3368,  0.4355,\n",
      "         0.0115, -0.0180, -0.0660], device='cuda:0', grad_fn=<DivBackward0>)\n"
     ]
    },
    {
     "name": "stderr",
     "output_type": "stream",
     "text": [
      "Epoch 406: 100%|██████████| 3/3 [00:02<00:00,  1.05it/s, loss=18.7, acc=0.708, AUC=0.776, val_acc=0.647, val_AUC=0.692]\n"
     ]
    },
    {
     "name": "stdout",
     "output_type": "stream",
     "text": [
      "tensor([-0.5670, -0.3928, -0.4506, -0.2871, -0.2769, -0.1968,  0.3376,  0.4285,\n",
      "         0.0186, -0.0152, -0.0632], device='cuda:0', grad_fn=<DivBackward0>)\n"
     ]
    },
    {
     "name": "stderr",
     "output_type": "stream",
     "text": [
      "Epoch 407: 100%|██████████| 3/3 [00:02<00:00,  1.05it/s, loss=18.7, acc=0.708, AUC=0.778, val_acc=0.653, val_AUC=0.7]\n"
     ]
    },
    {
     "name": "stdout",
     "output_type": "stream",
     "text": [
      "tensor([-0.5721, -0.4010, -0.4519, -0.2907, -0.2752, -0.2026,  0.3373,  0.4435,\n",
      "         0.0152, -0.0160, -0.0724], device='cuda:0', grad_fn=<DivBackward0>)\n"
     ]
    },
    {
     "name": "stderr",
     "output_type": "stream",
     "text": [
      "Epoch 408: 100%|██████████| 3/3 [00:02<00:00,  1.05it/s, loss=18.8, acc=0.707, AUC=0.774, val_acc=0.644, val_AUC=0.691]\n"
     ]
    },
    {
     "name": "stdout",
     "output_type": "stream",
     "text": [
      "tensor([-0.5748, -0.4007, -0.4532, -0.2953, -0.2765, -0.2059,  0.3437,  0.4383,\n",
      "         0.0134, -0.0142, -0.0740], device='cuda:0', grad_fn=<DivBackward0>)\n"
     ]
    },
    {
     "name": "stderr",
     "output_type": "stream",
     "text": [
      "Epoch 409: 100%|██████████| 3/3 [00:02<00:00,  1.03it/s, loss=18.6, acc=0.716, AUC=0.778, val_acc=0.647, val_AUC=0.686]\n"
     ]
    },
    {
     "name": "stdout",
     "output_type": "stream",
     "text": [
      "tensor([-0.5794, -0.4034, -0.4606, -0.2964, -0.2790, -0.2037,  0.3441,  0.4413,\n",
      "         0.0179, -0.0087, -0.0721], device='cuda:0', grad_fn=<DivBackward0>)\n"
     ]
    },
    {
     "name": "stderr",
     "output_type": "stream",
     "text": [
      "Epoch 410: 100%|██████████| 3/3 [00:02<00:00,  1.05it/s, loss=18.7, acc=0.708, AUC=0.776, val_acc=0.647, val_AUC=0.702]\n"
     ]
    },
    {
     "name": "stdout",
     "output_type": "stream",
     "text": [
      "tensor([-0.5677, -0.4043, -0.4518, -0.2947, -0.2889, -0.2042,  0.3314,  0.4482,\n",
      "         0.0193, -0.0037, -0.0792], device='cuda:0', grad_fn=<DivBackward0>)\n"
     ]
    },
    {
     "name": "stderr",
     "output_type": "stream",
     "text": [
      "Epoch 411: 100%|██████████| 3/3 [00:02<00:00,  1.05it/s, loss=18.8, acc=0.699, AUC=0.772, val_acc=0.677, val_AUC=0.707]\n"
     ]
    },
    {
     "name": "stdout",
     "output_type": "stream",
     "text": [
      "tensor([-0.5688, -0.4040, -0.4554, -0.2864, -0.2841, -0.1923,  0.3393,  0.4380,\n",
      "         0.0237, -0.0072, -0.0723], device='cuda:0', grad_fn=<DivBackward0>)\n"
     ]
    },
    {
     "name": "stderr",
     "output_type": "stream",
     "text": [
      "Epoch 412: 100%|██████████| 3/3 [00:02<00:00,  1.05it/s, loss=18.7, acc=0.704, AUC=0.776, val_acc=0.644, val_AUC=0.698]\n"
     ]
    },
    {
     "name": "stdout",
     "output_type": "stream",
     "text": [
      "tensor([-0.5579, -0.3972, -0.4485, -0.2852, -0.2714, -0.1907,  0.3292,  0.4347,\n",
      "         0.0158, -0.0115, -0.0767], device='cuda:0', grad_fn=<DivBackward0>)\n"
     ]
    },
    {
     "name": "stderr",
     "output_type": "stream",
     "text": [
      "Epoch 413: 100%|██████████| 3/3 [00:02<00:00,  1.05it/s, loss=18.8, acc=0.704, AUC=0.774, val_acc=0.634, val_AUC=0.689]\n"
     ]
    },
    {
     "name": "stdout",
     "output_type": "stream",
     "text": [
      "tensor([-0.5627, -0.3994, -0.4457, -0.2870, -0.2759, -0.1891,  0.3327,  0.4341,\n",
      "         0.0225, -0.0106, -0.0696], device='cuda:0', grad_fn=<DivBackward0>)\n"
     ]
    },
    {
     "name": "stderr",
     "output_type": "stream",
     "text": [
      "Epoch 414: 100%|██████████| 3/3 [00:02<00:00,  1.03it/s, loss=18.5, acc=0.713, AUC=0.782, val_acc=0.659, val_AUC=0.688]\n"
     ]
    },
    {
     "name": "stdout",
     "output_type": "stream",
     "text": [
      "tensor([-0.5686, -0.3957, -0.4438, -0.2850, -0.2834, -0.1863,  0.3283,  0.4380,\n",
      "         0.0278, -0.0086, -0.0725], device='cuda:0', grad_fn=<DivBackward0>)\n"
     ]
    },
    {
     "name": "stderr",
     "output_type": "stream",
     "text": [
      "Epoch 415: 100%|██████████| 3/3 [00:02<00:00,  1.05it/s, loss=18.7, acc=0.703, AUC=0.777, val_acc=0.637, val_AUC=0.696]\n"
     ]
    },
    {
     "name": "stdout",
     "output_type": "stream",
     "text": [
      "tensor([-0.5583, -0.3959, -0.4490, -0.2890, -0.2879, -0.1868,  0.3305,  0.4377,\n",
      "         0.0261, -0.0089, -0.0763], device='cuda:0', grad_fn=<DivBackward0>)\n"
     ]
    },
    {
     "name": "stderr",
     "output_type": "stream",
     "text": [
      "Epoch 416: 100%|██████████| 3/3 [00:02<00:00,  1.05it/s, loss=18.6, acc=0.709, AUC=0.779, val_acc=0.644, val_AUC=0.696]\n"
     ]
    },
    {
     "name": "stdout",
     "output_type": "stream",
     "text": [
      "tensor([-0.5597, -0.4010, -0.4431, -0.2840, -0.2857, -0.1790,  0.3303,  0.4304,\n",
      "         0.0291, -0.0047, -0.0753], device='cuda:0', grad_fn=<DivBackward0>)\n"
     ]
    },
    {
     "name": "stderr",
     "output_type": "stream",
     "text": [
      "Epoch 417: 100%|██████████| 3/3 [00:02<00:00,  1.05it/s, loss=18.6, acc=0.706, AUC=0.778, val_acc=0.64, val_AUC=0.7]\n"
     ]
    },
    {
     "name": "stdout",
     "output_type": "stream",
     "text": [
      "tensor([-0.5575, -0.4015, -0.4432, -0.2799, -0.2794, -0.1762,  0.3270,  0.4221,\n",
      "         0.0293, -0.0115, -0.0773], device='cuda:0', grad_fn=<DivBackward0>)\n"
     ]
    },
    {
     "name": "stderr",
     "output_type": "stream",
     "text": [
      "Epoch 418: 100%|██████████| 3/3 [00:02<00:00,  1.05it/s, loss=18.6, acc=0.71, AUC=0.779, val_acc=0.662, val_AUC=0.697]\n"
     ]
    },
    {
     "name": "stdout",
     "output_type": "stream",
     "text": [
      "tensor([-0.5599, -0.3967, -0.4414, -0.2847, -0.2779, -0.1812,  0.3331,  0.4277,\n",
      "         0.0273, -0.0107, -0.0709], device='cuda:0', grad_fn=<DivBackward0>)\n"
     ]
    },
    {
     "name": "stderr",
     "output_type": "stream",
     "text": [
      "Epoch 419: 100%|██████████| 3/3 [00:02<00:00,  1.03it/s, loss=18.6, acc=0.713, AUC=0.78, val_acc=0.653, val_AUC=0.704]\n"
     ]
    },
    {
     "name": "stdout",
     "output_type": "stream",
     "text": [
      "tensor([-0.5686, -0.3937, -0.4326, -0.2801, -0.2723, -0.1752,  0.3328,  0.4192,\n",
      "         0.0225, -0.0043, -0.0675], device='cuda:0', grad_fn=<DivBackward0>)\n"
     ]
    },
    {
     "name": "stderr",
     "output_type": "stream",
     "text": [
      "Epoch 420: 100%|██████████| 3/3 [00:02<00:00,  1.05it/s, loss=18.6, acc=0.712, AUC=0.779, val_acc=0.656, val_AUC=0.69]\n"
     ]
    },
    {
     "name": "stdout",
     "output_type": "stream",
     "text": [
      "tensor([-0.5715, -0.3976, -0.4475, -0.2821, -0.2770, -0.1872,  0.3331,  0.4385,\n",
      "         0.0275, -0.0060, -0.0730], device='cuda:0', grad_fn=<DivBackward0>)\n"
     ]
    },
    {
     "name": "stderr",
     "output_type": "stream",
     "text": [
      "Epoch 421: 100%|██████████| 3/3 [00:02<00:00,  1.05it/s, loss=18.7, acc=0.707, AUC=0.777, val_acc=0.653, val_AUC=0.697]\n"
     ]
    },
    {
     "name": "stdout",
     "output_type": "stream",
     "text": [
      "tensor([-0.5712, -0.4097, -0.4420, -0.2820, -0.2775, -0.1941,  0.3318,  0.4408,\n",
      "         0.0302, -0.0066, -0.0705], device='cuda:0', grad_fn=<DivBackward0>)\n"
     ]
    },
    {
     "name": "stderr",
     "output_type": "stream",
     "text": [
      "Epoch 422: 100%|██████████| 3/3 [00:02<00:00,  1.04it/s, loss=18.5, acc=0.71, AUC=0.783, val_acc=0.665, val_AUC=0.703]\n"
     ]
    },
    {
     "name": "stdout",
     "output_type": "stream",
     "text": [
      "tensor([-0.5784, -0.4111, -0.4483, -0.2859, -0.2811, -0.1903,  0.3365,  0.4411,\n",
      "         0.0257, -0.0023, -0.0732], device='cuda:0', grad_fn=<DivBackward0>)\n"
     ]
    },
    {
     "name": "stderr",
     "output_type": "stream",
     "text": [
      "Epoch 423: 100%|██████████| 3/3 [00:02<00:00,  1.05it/s, loss=18.7, acc=0.702, AUC=0.776, val_acc=0.662, val_AUC=0.692]\n"
     ]
    },
    {
     "name": "stdout",
     "output_type": "stream",
     "text": [
      "tensor([-0.5747, -0.4164, -0.4438, -0.2823, -0.2774, -0.1965,  0.3368,  0.4335,\n",
      "         0.0287, -0.0034, -0.0761], device='cuda:0', grad_fn=<DivBackward0>)\n"
     ]
    },
    {
     "name": "stderr",
     "output_type": "stream",
     "text": [
      "Epoch 424: 100%|██████████| 3/3 [00:02<00:00,  1.03it/s, loss=18.5, acc=0.711, AUC=0.781, val_acc=0.65, val_AUC=0.687]\n"
     ]
    },
    {
     "name": "stdout",
     "output_type": "stream",
     "text": [
      "tensor([-0.5654, -0.4113, -0.4345, -0.2770, -0.2745, -0.1805,  0.3323,  0.4224,\n",
      "         0.0283, -0.0123, -0.0697], device='cuda:0', grad_fn=<DivBackward0>)\n"
     ]
    },
    {
     "name": "stderr",
     "output_type": "stream",
     "text": [
      "Epoch 425: 100%|██████████| 3/3 [00:02<00:00,  1.05it/s, loss=18.7, acc=0.705, AUC=0.775, val_acc=0.647, val_AUC=0.69]\n"
     ]
    },
    {
     "name": "stdout",
     "output_type": "stream",
     "text": [
      "tensor([-5.5923e-01, -4.0694e-01, -4.3105e-01, -2.6778e-01, -2.7900e-01,\n",
      "        -1.7599e-01,  3.2942e-01,  4.1621e-01,  3.4219e-02,  2.5826e-04,\n",
      "        -7.4891e-02], device='cuda:0', grad_fn=<DivBackward0>)\n"
     ]
    },
    {
     "name": "stderr",
     "output_type": "stream",
     "text": [
      "Epoch 426: 100%|██████████| 3/3 [00:02<00:00,  1.05it/s, loss=18.6, acc=0.705, AUC=0.778, val_acc=0.64, val_AUC=0.685]\n"
     ]
    },
    {
     "name": "stdout",
     "output_type": "stream",
     "text": [
      "tensor([-0.5733, -0.4119, -0.4430, -0.2776, -0.2845, -0.1802,  0.3305,  0.4259,\n",
      "         0.0274, -0.0099, -0.0814], device='cuda:0', grad_fn=<DivBackward0>)\n"
     ]
    },
    {
     "name": "stderr",
     "output_type": "stream",
     "text": [
      "Epoch 427: 100%|██████████| 3/3 [00:02<00:00,  1.05it/s, loss=18.9, acc=0.698, AUC=0.769, val_acc=0.622, val_AUC=0.69]\n"
     ]
    },
    {
     "name": "stdout",
     "output_type": "stream",
     "text": [
      "tensor([-0.5646, -0.4174, -0.4445, -0.2752, -0.2870, -0.1745,  0.3340,  0.4264,\n",
      "         0.0400, -0.0032, -0.0856], device='cuda:0', grad_fn=<DivBackward0>)\n"
     ]
    },
    {
     "name": "stderr",
     "output_type": "stream",
     "text": [
      "Epoch 428: 100%|██████████| 3/3 [00:02<00:00,  1.05it/s, loss=18.6, acc=0.706, AUC=0.78, val_acc=0.644, val_AUC=0.693]\n"
     ]
    },
    {
     "name": "stdout",
     "output_type": "stream",
     "text": [
      "tensor([-0.5738, -0.4263, -0.4497, -0.2849, -0.2869, -0.1801,  0.3430,  0.4313,\n",
      "         0.0416, -0.0035, -0.0840], device='cuda:0', grad_fn=<DivBackward0>)\n"
     ]
    },
    {
     "name": "stderr",
     "output_type": "stream",
     "text": [
      "Epoch 429: 100%|██████████| 3/3 [00:02<00:00,  1.03it/s, loss=18.8, acc=0.699, AUC=0.774, val_acc=0.662, val_AUC=0.688]\n"
     ]
    },
    {
     "name": "stdout",
     "output_type": "stream",
     "text": [
      "tensor([-0.5653, -0.4165, -0.4559, -0.2848, -0.2997, -0.1777,  0.3415,  0.4309,\n",
      "         0.0456, -0.0079, -0.0836], device='cuda:0', grad_fn=<DivBackward0>)\n"
     ]
    },
    {
     "name": "stderr",
     "output_type": "stream",
     "text": [
      "Epoch 430: 100%|██████████| 3/3 [00:02<00:00,  1.05it/s, loss=18.6, acc=0.713, AUC=0.778, val_acc=0.662, val_AUC=0.693]\n"
     ]
    },
    {
     "name": "stdout",
     "output_type": "stream",
     "text": [
      "tensor([-0.5899, -0.4143, -0.4572, -0.2956, -0.2909, -0.1798,  0.3404,  0.4272,\n",
      "         0.0482, -0.0064, -0.0809], device='cuda:0', grad_fn=<DivBackward0>)\n"
     ]
    },
    {
     "name": "stderr",
     "output_type": "stream",
     "text": [
      "Epoch 431: 100%|██████████| 3/3 [00:02<00:00,  1.05it/s, loss=18.7, acc=0.704, AUC=0.774, val_acc=0.644, val_AUC=0.698]\n"
     ]
    },
    {
     "name": "stdout",
     "output_type": "stream",
     "text": [
      "tensor([-0.5763, -0.4185, -0.4566, -0.2883, -0.2911, -0.1760,  0.3378,  0.4215,\n",
      "         0.0503, -0.0027, -0.0822], device='cuda:0', grad_fn=<DivBackward0>)\n"
     ]
    },
    {
     "name": "stderr",
     "output_type": "stream",
     "text": [
      "Epoch 432: 100%|██████████| 3/3 [00:02<00:00,  1.05it/s, loss=18.6, acc=0.7, AUC=0.779, val_acc=0.68, val_AUC=0.7]\n"
     ]
    },
    {
     "name": "stdout",
     "output_type": "stream",
     "text": [
      "tensor([-0.5670, -0.4166, -0.4528, -0.2812, -0.2894, -0.1729,  0.3403,  0.4238,\n",
      "         0.0526, -0.0076, -0.0871], device='cuda:0', grad_fn=<DivBackward0>)\n"
     ]
    },
    {
     "name": "stderr",
     "output_type": "stream",
     "text": [
      "Epoch 433: 100%|██████████| 3/3 [00:02<00:00,  1.05it/s, loss=18.6, acc=0.706, AUC=0.78, val_acc=0.647, val_AUC=0.691]\n"
     ]
    },
    {
     "name": "stdout",
     "output_type": "stream",
     "text": [
      "tensor([-0.5729, -0.4219, -0.4479, -0.2806, -0.2972, -0.1754,  0.3300,  0.4310,\n",
      "         0.0534, -0.0049, -0.0920], device='cuda:0', grad_fn=<DivBackward0>)\n"
     ]
    },
    {
     "name": "stderr",
     "output_type": "stream",
     "text": [
      "Epoch 434: 100%|██████████| 3/3 [00:02<00:00,  1.03it/s, loss=18.7, acc=0.701, AUC=0.776, val_acc=0.662, val_AUC=0.702]\n"
     ]
    },
    {
     "name": "stdout",
     "output_type": "stream",
     "text": [
      "tensor([-0.5685, -0.4218, -0.4566, -0.2837, -0.2996, -0.1752,  0.3326,  0.4360,\n",
      "         0.0509, -0.0030, -0.0934], device='cuda:0', grad_fn=<DivBackward0>)\n"
     ]
    },
    {
     "name": "stderr",
     "output_type": "stream",
     "text": [
      "Epoch 435: 100%|██████████| 3/3 [00:02<00:00,  1.05it/s, loss=18.7, acc=0.713, AUC=0.777, val_acc=0.637, val_AUC=0.688]\n"
     ]
    },
    {
     "name": "stdout",
     "output_type": "stream",
     "text": [
      "tensor([-0.5730, -0.4303, -0.4677, -0.2940, -0.3104, -0.1886,  0.3340,  0.4441,\n",
      "         0.0537,  0.0049, -0.0987], device='cuda:0', grad_fn=<DivBackward0>)\n"
     ]
    },
    {
     "name": "stderr",
     "output_type": "stream",
     "text": [
      "Epoch 436: 100%|██████████| 3/3 [00:02<00:00,  1.05it/s, loss=18.5, acc=0.712, AUC=0.782, val_acc=0.65, val_AUC=0.704]\n"
     ]
    },
    {
     "name": "stdout",
     "output_type": "stream",
     "text": [
      "tensor([-0.5596, -0.4122, -0.4534, -0.2829, -0.2990, -0.1867,  0.3312,  0.4398,\n",
      "         0.0421, -0.0006, -0.0937], device='cuda:0', grad_fn=<DivBackward0>)\n"
     ]
    },
    {
     "name": "stderr",
     "output_type": "stream",
     "text": [
      "Epoch 437: 100%|██████████| 3/3 [00:02<00:00,  1.05it/s, loss=18.6, acc=0.702, AUC=0.778, val_acc=0.644, val_AUC=0.695]\n"
     ]
    },
    {
     "name": "stdout",
     "output_type": "stream",
     "text": [
      "tensor([-0.5715, -0.4049, -0.4435, -0.2752, -0.2990, -0.1933,  0.3285,  0.4471,\n",
      "         0.0354,  0.0049, -0.0876], device='cuda:0', grad_fn=<DivBackward0>)\n"
     ]
    },
    {
     "name": "stderr",
     "output_type": "stream",
     "text": [
      "Epoch 438: 100%|██████████| 3/3 [00:02<00:00,  1.05it/s, loss=18.7, acc=0.707, AUC=0.777, val_acc=0.65, val_AUC=0.694]\n"
     ]
    },
    {
     "name": "stdout",
     "output_type": "stream",
     "text": [
      "tensor([-0.5688, -0.4041, -0.4451, -0.2834, -0.2957, -0.1907,  0.3284,  0.4507,\n",
      "         0.0284, -0.0013, -0.0921], device='cuda:0', grad_fn=<DivBackward0>)\n"
     ]
    },
    {
     "name": "stderr",
     "output_type": "stream",
     "text": [
      "Epoch 439: 100%|██████████| 3/3 [00:02<00:00,  1.03it/s, loss=18.6, acc=0.708, AUC=0.778, val_acc=0.64, val_AUC=0.678]\n"
     ]
    },
    {
     "name": "stdout",
     "output_type": "stream",
     "text": [
      "tensor([-0.5704, -0.3993, -0.4500, -0.2769, -0.2960, -0.1915,  0.3333,  0.4488,\n",
      "         0.0343,  0.0052, -0.0823], device='cuda:0', grad_fn=<DivBackward0>)\n"
     ]
    },
    {
     "name": "stderr",
     "output_type": "stream",
     "text": [
      "Epoch 440: 100%|██████████| 3/3 [00:02<00:00,  1.05it/s, loss=18.6, acc=0.709, AUC=0.777, val_acc=0.647, val_AUC=0.681]\n"
     ]
    },
    {
     "name": "stdout",
     "output_type": "stream",
     "text": [
      "tensor([-0.5683, -0.3892, -0.4412, -0.2745, -0.2840, -0.1833,  0.3280,  0.4312,\n",
      "         0.0281,  0.0029, -0.0783], device='cuda:0', grad_fn=<DivBackward0>)\n"
     ]
    },
    {
     "name": "stderr",
     "output_type": "stream",
     "text": [
      "Epoch 441: 100%|██████████| 3/3 [00:02<00:00,  1.05it/s, loss=18.6, acc=0.71, AUC=0.78, val_acc=0.656, val_AUC=0.689]\n"
     ]
    },
    {
     "name": "stdout",
     "output_type": "stream",
     "text": [
      "tensor([-0.5668, -0.3906, -0.4497, -0.2801, -0.2889, -0.1881,  0.3318,  0.4357,\n",
      "         0.0301, -0.0063, -0.0788], device='cuda:0', grad_fn=<DivBackward0>)\n"
     ]
    },
    {
     "name": "stderr",
     "output_type": "stream",
     "text": [
      "Epoch 442: 100%|██████████| 3/3 [00:02<00:00,  1.05it/s, loss=18.6, acc=0.708, AUC=0.778, val_acc=0.637, val_AUC=0.679]\n"
     ]
    },
    {
     "name": "stdout",
     "output_type": "stream",
     "text": [
      "tensor([-0.5668, -0.3922, -0.4414, -0.2798, -0.2812, -0.1866,  0.3283,  0.4347,\n",
      "         0.0264, -0.0058, -0.0740], device='cuda:0', grad_fn=<DivBackward0>)\n"
     ]
    },
    {
     "name": "stderr",
     "output_type": "stream",
     "text": [
      "Epoch 443: 100%|██████████| 3/3 [00:02<00:00,  1.05it/s, loss=18.5, acc=0.713, AUC=0.781, val_acc=0.662, val_AUC=0.713]\n"
     ]
    },
    {
     "name": "stdout",
     "output_type": "stream",
     "text": [
      "tensor([-5.7034e-01, -3.9170e-01, -4.3898e-01, -2.7933e-01, -2.8342e-01,\n",
      "        -1.9704e-01,  3.2916e-01,  4.4022e-01,  2.5516e-02,  1.8369e-04,\n",
      "        -7.8323e-02], device='cuda:0', grad_fn=<DivBackward0>)\n"
     ]
    },
    {
     "name": "stderr",
     "output_type": "stream",
     "text": [
      "Epoch 444: 100%|██████████| 3/3 [00:02<00:00,  1.03it/s, loss=18.6, acc=0.708, AUC=0.777, val_acc=0.65, val_AUC=0.702]\n"
     ]
    },
    {
     "name": "stdout",
     "output_type": "stream",
     "text": [
      "tensor([-0.5757, -0.3913, -0.4492, -0.2833, -0.2864, -0.1884,  0.3325,  0.4364,\n",
      "         0.0286, -0.0030, -0.0800], device='cuda:0', grad_fn=<DivBackward0>)\n"
     ]
    },
    {
     "name": "stderr",
     "output_type": "stream",
     "text": [
      "Epoch 445: 100%|██████████| 3/3 [00:02<00:00,  1.05it/s, loss=18.5, acc=0.707, AUC=0.782, val_acc=0.659, val_AUC=0.691]\n"
     ]
    },
    {
     "name": "stdout",
     "output_type": "stream",
     "text": [
      "tensor([-0.5757, -0.3972, -0.4564, -0.2879, -0.2929, -0.1917,  0.3336,  0.4282,\n",
      "         0.0348, -0.0057, -0.0742], device='cuda:0', grad_fn=<DivBackward0>)\n"
     ]
    },
    {
     "name": "stderr",
     "output_type": "stream",
     "text": [
      "Epoch 446: 100%|██████████| 3/3 [00:02<00:00,  1.05it/s, loss=18.7, acc=0.707, AUC=0.776, val_acc=0.65, val_AUC=0.689]\n"
     ]
    },
    {
     "name": "stdout",
     "output_type": "stream",
     "text": [
      "tensor([-0.5675, -0.3994, -0.4508, -0.2827, -0.2834, -0.1864,  0.3318,  0.4230,\n",
      "         0.0338, -0.0007, -0.0736], device='cuda:0', grad_fn=<DivBackward0>)\n"
     ]
    },
    {
     "name": "stderr",
     "output_type": "stream",
     "text": [
      "Epoch 447: 100%|██████████| 3/3 [00:02<00:00,  1.05it/s, loss=18.6, acc=0.71, AUC=0.78, val_acc=0.647, val_AUC=0.697]\n"
     ]
    },
    {
     "name": "stdout",
     "output_type": "stream",
     "text": [
      "tensor([-5.5781e-01, -3.9477e-01, -4.4923e-01, -2.8510e-01, -2.8793e-01,\n",
      "        -1.8271e-01,  3.2884e-01,  4.2930e-01,  2.8079e-02,  2.1585e-04,\n",
      "        -7.5771e-02], device='cuda:0', grad_fn=<DivBackward0>)\n"
     ]
    },
    {
     "name": "stderr",
     "output_type": "stream",
     "text": [
      "Epoch 448: 100%|██████████| 3/3 [00:02<00:00,  1.05it/s, loss=18.7, acc=0.7, AUC=0.776, val_acc=0.65, val_AUC=0.694]\n"
     ]
    },
    {
     "name": "stdout",
     "output_type": "stream",
     "text": [
      "tensor([-0.5575, -0.3912, -0.4462, -0.2820, -0.2909, -0.1853,  0.3246,  0.4270,\n",
      "         0.0312,  0.0022, -0.0792], device='cuda:0', grad_fn=<DivBackward0>)\n"
     ]
    },
    {
     "name": "stderr",
     "output_type": "stream",
     "text": [
      "Epoch 449: 100%|██████████| 3/3 [00:02<00:00,  1.03it/s, loss=18.5, acc=0.716, AUC=0.781, val_acc=0.662, val_AUC=0.695]\n"
     ]
    },
    {
     "name": "stdout",
     "output_type": "stream",
     "text": [
      "tensor([-0.5612, -0.3962, -0.4549, -0.2858, -0.2924, -0.1877,  0.3250,  0.4442,\n",
      "         0.0238,  0.0088, -0.0753], device='cuda:0', grad_fn=<DivBackward0>)\n"
     ]
    },
    {
     "name": "stderr",
     "output_type": "stream",
     "text": [
      "Epoch 450: 100%|██████████| 3/3 [00:02<00:00,  1.05it/s, loss=18.6, acc=0.71, AUC=0.78, val_acc=0.65, val_AUC=0.698]\n"
     ]
    },
    {
     "name": "stdout",
     "output_type": "stream",
     "text": [
      "tensor([-0.5664, -0.3944, -0.4455, -0.2855, -0.2936, -0.1888,  0.3239,  0.4400,\n",
      "         0.0200,  0.0044, -0.0851], device='cuda:0', grad_fn=<DivBackward0>)\n"
     ]
    },
    {
     "name": "stderr",
     "output_type": "stream",
     "text": [
      "Epoch 451: 100%|██████████| 3/3 [00:02<00:00,  1.05it/s, loss=18.5, acc=0.709, AUC=0.782, val_acc=0.662, val_AUC=0.687]\n"
     ]
    },
    {
     "name": "stdout",
     "output_type": "stream",
     "text": [
      "tensor([-0.5626, -0.3932, -0.4531, -0.2789, -0.2867, -0.1852,  0.3292,  0.4294,\n",
      "         0.0266,  0.0028, -0.0752], device='cuda:0', grad_fn=<DivBackward0>)\n"
     ]
    },
    {
     "name": "stderr",
     "output_type": "stream",
     "text": [
      "Epoch 452: 100%|██████████| 3/3 [00:02<00:00,  1.05it/s, loss=18.5, acc=0.705, AUC=0.782, val_acc=0.668, val_AUC=0.688]\n"
     ]
    },
    {
     "name": "stdout",
     "output_type": "stream",
     "text": [
      "tensor([-5.5908e-01, -3.9422e-01, -4.4167e-01, -2.8134e-01, -2.7960e-01,\n",
      "        -1.8693e-01,  3.3487e-01,  4.3615e-01,  2.2546e-02, -1.9577e-04,\n",
      "        -7.3726e-02], device='cuda:0', grad_fn=<DivBackward0>)\n"
     ]
    },
    {
     "name": "stderr",
     "output_type": "stream",
     "text": [
      "Epoch 453: 100%|██████████| 3/3 [00:02<00:00,  1.05it/s, loss=18.6, acc=0.709, AUC=0.779, val_acc=0.631, val_AUC=0.69]\n"
     ]
    },
    {
     "name": "stdout",
     "output_type": "stream",
     "text": [
      "tensor([-0.5511, -0.3802, -0.4421, -0.2775, -0.2849, -0.1784,  0.3276,  0.4273,\n",
      "         0.0240, -0.0024, -0.0663], device='cuda:0', grad_fn=<DivBackward0>)\n"
     ]
    },
    {
     "name": "stderr",
     "output_type": "stream",
     "text": [
      "Epoch 454: 100%|██████████| 3/3 [00:02<00:00,  1.03it/s, loss=18.6, acc=0.708, AUC=0.779, val_acc=0.653, val_AUC=0.684]\n"
     ]
    },
    {
     "name": "stdout",
     "output_type": "stream",
     "text": [
      "tensor([-5.5342e-01, -3.8806e-01, -4.3190e-01, -2.7788e-01, -2.8761e-01,\n",
      "        -1.7610e-01,  3.2870e-01,  4.2400e-01,  2.6592e-02,  8.3157e-05,\n",
      "        -7.3886e-02], device='cuda:0', grad_fn=<DivBackward0>)\n"
     ]
    },
    {
     "name": "stderr",
     "output_type": "stream",
     "text": [
      "Epoch 455: 100%|██████████| 3/3 [00:02<00:00,  1.05it/s, loss=18.6, acc=0.708, AUC=0.779, val_acc=0.65, val_AUC=0.695]\n"
     ]
    },
    {
     "name": "stdout",
     "output_type": "stream",
     "text": [
      "tensor([-0.5515, -0.3937, -0.4437, -0.2797, -0.2851, -0.1762,  0.3229,  0.4260,\n",
      "         0.0336, -0.0009, -0.0766], device='cuda:0', grad_fn=<DivBackward0>)\n"
     ]
    },
    {
     "name": "stderr",
     "output_type": "stream",
     "text": [
      "Epoch 456: 100%|██████████| 3/3 [00:02<00:00,  1.05it/s, loss=18.5, acc=0.703, AUC=0.781, val_acc=0.644, val_AUC=0.696]\n"
     ]
    },
    {
     "name": "stdout",
     "output_type": "stream",
     "text": [
      "tensor([-0.5586, -0.3980, -0.4445, -0.2832, -0.2867, -0.1767,  0.3228,  0.4332,\n",
      "         0.0344, -0.0018, -0.0799], device='cuda:0', grad_fn=<DivBackward0>)\n"
     ]
    },
    {
     "name": "stderr",
     "output_type": "stream",
     "text": [
      "Epoch 457: 100%|██████████| 3/3 [00:02<00:00,  1.05it/s, loss=18.6, acc=0.707, AUC=0.778, val_acc=0.656, val_AUC=0.692]\n"
     ]
    },
    {
     "name": "stdout",
     "output_type": "stream",
     "text": [
      "tensor([-0.5583, -0.3971, -0.4415, -0.2790, -0.2921, -0.1771,  0.3211,  0.4337,\n",
      "         0.0348, -0.0062, -0.0759], device='cuda:0', grad_fn=<DivBackward0>)\n"
     ]
    },
    {
     "name": "stderr",
     "output_type": "stream",
     "text": [
      "Epoch 458: 100%|██████████| 3/3 [00:02<00:00,  1.05it/s, loss=18.4, acc=0.715, AUC=0.785, val_acc=0.662, val_AUC=0.706]\n"
     ]
    },
    {
     "name": "stdout",
     "output_type": "stream",
     "text": [
      "tensor([-0.5676, -0.3989, -0.4423, -0.2810, -0.2876, -0.1817,  0.3233,  0.4304,\n",
      "         0.0271, -0.0076, -0.0745], device='cuda:0', grad_fn=<DivBackward0>)\n"
     ]
    },
    {
     "name": "stderr",
     "output_type": "stream",
     "text": [
      "Epoch 459: 100%|██████████| 3/3 [00:02<00:00,  1.03it/s, loss=18.5, acc=0.706, AUC=0.782, val_acc=0.647, val_AUC=0.685]\n"
     ]
    },
    {
     "name": "stdout",
     "output_type": "stream",
     "text": [
      "tensor([-0.5608, -0.3990, -0.4456, -0.2790, -0.2858, -0.1849,  0.3215,  0.4397,\n",
      "         0.0309,  0.0008, -0.0831], device='cuda:0', grad_fn=<DivBackward0>)\n"
     ]
    },
    {
     "name": "stderr",
     "output_type": "stream",
     "text": [
      "Epoch 460: 100%|██████████| 3/3 [00:02<00:00,  1.05it/s, loss=18.5, acc=0.711, AUC=0.781, val_acc=0.64, val_AUC=0.693]\n"
     ]
    },
    {
     "name": "stdout",
     "output_type": "stream",
     "text": [
      "tensor([-0.5588, -0.3974, -0.4381, -0.2796, -0.2865, -0.1866,  0.3157,  0.4371,\n",
      "         0.0250,  0.0046, -0.0772], device='cuda:0', grad_fn=<DivBackward0>)\n"
     ]
    },
    {
     "name": "stderr",
     "output_type": "stream",
     "text": [
      "Epoch 461: 100%|██████████| 3/3 [00:02<00:00,  1.05it/s, loss=18.6, acc=0.708, AUC=0.779, val_acc=0.647, val_AUC=0.689]\n"
     ]
    },
    {
     "name": "stdout",
     "output_type": "stream",
     "text": [
      "tensor([-0.5571, -0.3907, -0.4373, -0.2767, -0.2841, -0.1792,  0.3157,  0.4434,\n",
      "         0.0196, -0.0083, -0.0773], device='cuda:0', grad_fn=<DivBackward0>)\n"
     ]
    },
    {
     "name": "stderr",
     "output_type": "stream",
     "text": [
      "Epoch 462: 100%|██████████| 3/3 [00:02<00:00,  1.05it/s, loss=18.5, acc=0.71, AUC=0.781, val_acc=0.644, val_AUC=0.686]\n"
     ]
    },
    {
     "name": "stdout",
     "output_type": "stream",
     "text": [
      "tensor([-0.5632, -0.3913, -0.4320, -0.2684, -0.2826, -0.1837,  0.3154,  0.4327,\n",
      "         0.0155, -0.0043, -0.0709], device='cuda:0', grad_fn=<DivBackward0>)\n"
     ]
    },
    {
     "name": "stderr",
     "output_type": "stream",
     "text": [
      "Epoch 463: 100%|██████████| 3/3 [00:02<00:00,  1.05it/s, loss=18.5, acc=0.711, AUC=0.782, val_acc=0.659, val_AUC=0.692]\n"
     ]
    },
    {
     "name": "stdout",
     "output_type": "stream",
     "text": [
      "tensor([-0.5585, -0.3837, -0.4350, -0.2750, -0.2741, -0.1763,  0.3139,  0.4288,\n",
      "         0.0095, -0.0019, -0.0638], device='cuda:0', grad_fn=<DivBackward0>)\n"
     ]
    },
    {
     "name": "stderr",
     "output_type": "stream",
     "text": [
      "Epoch 464: 100%|██████████| 3/3 [00:02<00:00,  1.03it/s, loss=18.5, acc=0.709, AUC=0.782, val_acc=0.644, val_AUC=0.69]\n"
     ]
    },
    {
     "name": "stdout",
     "output_type": "stream",
     "text": [
      "tensor([-0.5594, -0.3783, -0.4321, -0.2757, -0.2744, -0.1807,  0.3112,  0.4367,\n",
      "         0.0116, -0.0033, -0.0535], device='cuda:0', grad_fn=<DivBackward0>)\n"
     ]
    },
    {
     "name": "stderr",
     "output_type": "stream",
     "text": [
      "Epoch 465: 100%|██████████| 3/3 [00:02<00:00,  1.05it/s, loss=18.6, acc=0.708, AUC=0.78, val_acc=0.653, val_AUC=0.691]\n"
     ]
    },
    {
     "name": "stdout",
     "output_type": "stream",
     "text": [
      "tensor([-0.5670, -0.3974, -0.4382, -0.2780, -0.2853, -0.1851,  0.3186,  0.4413,\n",
      "         0.0195, -0.0024, -0.0704], device='cuda:0', grad_fn=<DivBackward0>)\n"
     ]
    },
    {
     "name": "stderr",
     "output_type": "stream",
     "text": [
      "Epoch 466: 100%|██████████| 3/3 [00:02<00:00,  1.05it/s, loss=18.4, acc=0.718, AUC=0.784, val_acc=0.631, val_AUC=0.688]\n"
     ]
    },
    {
     "name": "stdout",
     "output_type": "stream",
     "text": [
      "tensor([-5.6137e-01, -3.9705e-01, -4.3849e-01, -2.7916e-01, -2.8677e-01,\n",
      "        -1.8462e-01,  3.1694e-01,  4.5368e-01,  1.1314e-02, -4.8040e-04,\n",
      "        -6.6872e-02], device='cuda:0', grad_fn=<DivBackward0>)\n"
     ]
    },
    {
     "name": "stderr",
     "output_type": "stream",
     "text": [
      "Epoch 467: 100%|██████████| 3/3 [00:02<00:00,  1.05it/s, loss=18.8, acc=0.7, AUC=0.773, val_acc=0.65, val_AUC=0.702]\n"
     ]
    },
    {
     "name": "stdout",
     "output_type": "stream",
     "text": [
      "tensor([-0.5609, -0.3918, -0.4400, -0.2731, -0.2829, -0.1828,  0.3248,  0.4390,\n",
      "         0.0120, -0.0041, -0.0627], device='cuda:0', grad_fn=<DivBackward0>)\n"
     ]
    },
    {
     "name": "stderr",
     "output_type": "stream",
     "text": [
      "Epoch 468: 100%|██████████| 3/3 [00:02<00:00,  1.05it/s, loss=18.4, acc=0.712, AUC=0.785, val_acc=0.631, val_AUC=0.693]\n"
     ]
    },
    {
     "name": "stdout",
     "output_type": "stream",
     "text": [
      "tensor([-0.5595, -0.3874, -0.4449, -0.2764, -0.2876, -0.1797,  0.3195,  0.4429,\n",
      "         0.0201, -0.0018, -0.0619], device='cuda:0', grad_fn=<DivBackward0>)\n"
     ]
    },
    {
     "name": "stderr",
     "output_type": "stream",
     "text": [
      "Epoch 469: 100%|██████████| 3/3 [00:02<00:00,  1.05it/s, loss=18.7, acc=0.706, AUC=0.776, val_acc=0.659, val_AUC=0.695]\n"
     ]
    },
    {
     "name": "stdout",
     "output_type": "stream",
     "text": [
      "tensor([-0.5569, -0.3954, -0.4404, -0.2730, -0.2883, -0.1783,  0.3214,  0.4447,\n",
      "         0.0203, -0.0079, -0.0651], device='cuda:0', grad_fn=<DivBackward0>)\n"
     ]
    },
    {
     "name": "stderr",
     "output_type": "stream",
     "text": [
      "Epoch 470: 100%|██████████| 3/3 [00:02<00:00,  1.03it/s, loss=18.5, acc=0.716, AUC=0.783, val_acc=0.659, val_AUC=0.698]\n"
     ]
    },
    {
     "name": "stdout",
     "output_type": "stream",
     "text": [
      "tensor([-0.5531, -0.3892, -0.4329, -0.2741, -0.2905, -0.1682,  0.3209,  0.4320,\n",
      "         0.0256, -0.0063, -0.0689], device='cuda:0', grad_fn=<DivBackward0>)\n"
     ]
    },
    {
     "name": "stderr",
     "output_type": "stream",
     "text": [
      "Epoch 471: 100%|██████████| 3/3 [00:02<00:00,  1.05it/s, loss=18.5, acc=0.716, AUC=0.781, val_acc=0.659, val_AUC=0.684]\n"
     ]
    },
    {
     "name": "stdout",
     "output_type": "stream",
     "text": [
      "tensor([-0.5511, -0.3923, -0.4352, -0.2735, -0.2863, -0.1672,  0.3221,  0.4320,\n",
      "         0.0196, -0.0104, -0.0649], device='cuda:0', grad_fn=<DivBackward0>)\n"
     ]
    },
    {
     "name": "stderr",
     "output_type": "stream",
     "text": [
      "Epoch 472: 100%|██████████| 3/3 [00:02<00:00,  1.05it/s, loss=18.3, acc=0.713, AUC=0.788, val_acc=0.647, val_AUC=0.686]\n"
     ]
    },
    {
     "name": "stdout",
     "output_type": "stream",
     "text": [
      "tensor([-0.5628, -0.3909, -0.4366, -0.2807, -0.2879, -0.1781,  0.3269,  0.4366,\n",
      "         0.0218, -0.0021, -0.0647], device='cuda:0', grad_fn=<DivBackward0>)\n"
     ]
    },
    {
     "name": "stderr",
     "output_type": "stream",
     "text": [
      "Epoch 473: 100%|██████████| 3/3 [00:02<00:00,  1.05it/s, loss=18.5, acc=0.712, AUC=0.783, val_acc=0.653, val_AUC=0.693]\n"
     ]
    },
    {
     "name": "stdout",
     "output_type": "stream",
     "text": [
      "tensor([-0.5562, -0.3894, -0.4318, -0.2749, -0.2838, -0.1691,  0.3258,  0.4331,\n",
      "         0.0262, -0.0037, -0.0720], device='cuda:0', grad_fn=<DivBackward0>)\n"
     ]
    },
    {
     "name": "stderr",
     "output_type": "stream",
     "text": [
      "Epoch 474: 100%|██████████| 3/3 [00:02<00:00,  1.05it/s, loss=18.4, acc=0.716, AUC=0.784, val_acc=0.647, val_AUC=0.692]\n"
     ]
    },
    {
     "name": "stdout",
     "output_type": "stream",
     "text": [
      "tensor([-0.5521, -0.3892, -0.4305, -0.2761, -0.2860, -0.1745,  0.3193,  0.4288,\n",
      "         0.0255, -0.0027, -0.0678], device='cuda:0', grad_fn=<DivBackward0>)\n"
     ]
    },
    {
     "name": "stderr",
     "output_type": "stream",
     "text": [
      "Epoch 475: 100%|██████████| 3/3 [00:02<00:00,  1.05it/s, loss=18.7, acc=0.705, AUC=0.777, val_acc=0.653, val_AUC=0.702]\n"
     ]
    },
    {
     "name": "stdout",
     "output_type": "stream",
     "text": [
      "tensor([-0.5492, -0.3864, -0.4395, -0.2740, -0.2848, -0.1765,  0.3200,  0.4358,\n",
      "         0.0172, -0.0023, -0.0708], device='cuda:0', grad_fn=<DivBackward0>)\n"
     ]
    },
    {
     "name": "stderr",
     "output_type": "stream",
     "text": [
      "Epoch 476: 100%|██████████| 3/3 [00:02<00:00,  1.03it/s, loss=18.3, acc=0.712, AUC=0.787, val_acc=0.656, val_AUC=0.698]\n"
     ]
    },
    {
     "name": "stdout",
     "output_type": "stream",
     "text": [
      "tensor([-0.5528, -0.3844, -0.4364, -0.2725, -0.2901, -0.1784,  0.3244,  0.4313,\n",
      "         0.0233, -0.0068, -0.0592], device='cuda:0', grad_fn=<DivBackward0>)\n"
     ]
    },
    {
     "name": "stderr",
     "output_type": "stream",
     "text": [
      "Epoch 477: 100%|██████████| 3/3 [00:02<00:00,  1.05it/s, loss=18.6, acc=0.712, AUC=0.779, val_acc=0.668, val_AUC=0.704]\n"
     ]
    },
    {
     "name": "stdout",
     "output_type": "stream",
     "text": [
      "tensor([-0.5630, -0.3820, -0.4318, -0.2742, -0.2907, -0.1729,  0.3238,  0.4315,\n",
      "         0.0261, -0.0034, -0.0650], device='cuda:0', grad_fn=<DivBackward0>)\n"
     ]
    },
    {
     "name": "stderr",
     "output_type": "stream",
     "text": [
      "Epoch 478: 100%|██████████| 3/3 [00:02<00:00,  1.05it/s, loss=18.3, acc=0.716, AUC=0.787, val_acc=0.637, val_AUC=0.695]\n"
     ]
    },
    {
     "name": "stdout",
     "output_type": "stream",
     "text": [
      "tensor([-0.5578, -0.3817, -0.4390, -0.2759, -0.2873, -0.1759,  0.3237,  0.4299,\n",
      "         0.0257, -0.0028, -0.0634], device='cuda:0', grad_fn=<DivBackward0>)\n"
     ]
    },
    {
     "name": "stderr",
     "output_type": "stream",
     "text": [
      "Epoch 479: 100%|██████████| 3/3 [00:02<00:00,  1.05it/s, loss=18.7, acc=0.708, AUC=0.777, val_acc=0.65, val_AUC=0.692]\n"
     ]
    },
    {
     "name": "stdout",
     "output_type": "stream",
     "text": [
      "tensor([-0.5602, -0.3942, -0.4534, -0.2820, -0.2950, -0.1811,  0.3248,  0.4356,\n",
      "         0.0351, -0.0031, -0.0609], device='cuda:0', grad_fn=<DivBackward0>)\n"
     ]
    },
    {
     "name": "stderr",
     "output_type": "stream",
     "text": [
      "Epoch 480: 100%|██████████| 3/3 [00:02<00:00,  1.05it/s, loss=18.4, acc=0.714, AUC=0.784, val_acc=0.668, val_AUC=0.69]\n"
     ]
    },
    {
     "name": "stdout",
     "output_type": "stream",
     "text": [
      "tensor([-0.5520, -0.4032, -0.4595, -0.2829, -0.3018, -0.1796,  0.3241,  0.4347,\n",
      "         0.0397, -0.0023, -0.0675], device='cuda:0', grad_fn=<DivBackward0>)\n"
     ]
    },
    {
     "name": "stderr",
     "output_type": "stream",
     "text": [
      "Epoch 481: 100%|██████████| 3/3 [00:02<00:00,  1.03it/s, loss=18.5, acc=0.71, AUC=0.782, val_acc=0.656, val_AUC=0.687]\n"
     ]
    },
    {
     "name": "stdout",
     "output_type": "stream",
     "text": [
      "tensor([-0.5590, -0.3963, -0.4506, -0.2840, -0.2978, -0.1743,  0.3223,  0.4297,\n",
      "         0.0374, -0.0127, -0.0699], device='cuda:0', grad_fn=<DivBackward0>)\n"
     ]
    },
    {
     "name": "stderr",
     "output_type": "stream",
     "text": [
      "Epoch 482: 100%|██████████| 3/3 [00:02<00:00,  1.05it/s, loss=18.5, acc=0.713, AUC=0.781, val_acc=0.659, val_AUC=0.693]\n"
     ]
    },
    {
     "name": "stdout",
     "output_type": "stream",
     "text": [
      "tensor([-0.5609, -0.3886, -0.4526, -0.2866, -0.2969, -0.1674,  0.3262,  0.4280,\n",
      "         0.0349, -0.0133, -0.0597], device='cuda:0', grad_fn=<DivBackward0>)\n"
     ]
    },
    {
     "name": "stderr",
     "output_type": "stream",
     "text": [
      "Epoch 483: 100%|██████████| 3/3 [00:02<00:00,  1.05it/s, loss=18.5, acc=0.706, AUC=0.781, val_acc=0.659, val_AUC=0.69]\n"
     ]
    },
    {
     "name": "stdout",
     "output_type": "stream",
     "text": [
      "tensor([-0.5577, -0.3882, -0.4453, -0.2789, -0.3035, -0.1682,  0.3244,  0.4342,\n",
      "         0.0354, -0.0177, -0.0654], device='cuda:0', grad_fn=<DivBackward0>)\n"
     ]
    },
    {
     "name": "stderr",
     "output_type": "stream",
     "text": [
      "Epoch 484: 100%|██████████| 3/3 [00:02<00:00,  1.05it/s, loss=18.4, acc=0.714, AUC=0.784, val_acc=0.665, val_AUC=0.692]\n"
     ]
    },
    {
     "name": "stdout",
     "output_type": "stream",
     "text": [
      "tensor([-0.5553, -0.3844, -0.4404, -0.2806, -0.3008, -0.1638,  0.3222,  0.4300,\n",
      "         0.0345, -0.0142, -0.0659], device='cuda:0', grad_fn=<DivBackward0>)\n"
     ]
    },
    {
     "name": "stderr",
     "output_type": "stream",
     "text": [
      "Epoch 485: 100%|██████████| 3/3 [00:02<00:00,  1.03it/s, loss=18.4, acc=0.715, AUC=0.785, val_acc=0.65, val_AUC=0.697]\n"
     ]
    },
    {
     "name": "stdout",
     "output_type": "stream",
     "text": [
      "tensor([-0.5642, -0.3853, -0.4470, -0.2867, -0.2973, -0.1724,  0.3259,  0.4329,\n",
      "         0.0331, -0.0119, -0.0639], device='cuda:0', grad_fn=<DivBackward0>)\n"
     ]
    },
    {
     "name": "stderr",
     "output_type": "stream",
     "text": [
      "Epoch 486: 100%|██████████| 3/3 [00:02<00:00,  1.05it/s, loss=18.4, acc=0.713, AUC=0.785, val_acc=0.659, val_AUC=0.679]\n"
     ]
    },
    {
     "name": "stdout",
     "output_type": "stream",
     "text": [
      "tensor([-0.5689, -0.3842, -0.4440, -0.2834, -0.2922, -0.1666,  0.3247,  0.4296,\n",
      "         0.0351, -0.0127, -0.0608], device='cuda:0', grad_fn=<DivBackward0>)\n"
     ]
    },
    {
     "name": "stderr",
     "output_type": "stream",
     "text": [
      "Epoch 487: 100%|██████████| 3/3 [00:02<00:00,  1.05it/s, loss=18.4, acc=0.712, AUC=0.785, val_acc=0.65, val_AUC=0.685]\n"
     ]
    },
    {
     "name": "stdout",
     "output_type": "stream",
     "text": [
      "tensor([-0.5726, -0.3809, -0.4373, -0.2897, -0.2949, -0.1727,  0.3264,  0.4381,\n",
      "         0.0346, -0.0126, -0.0575], device='cuda:0', grad_fn=<DivBackward0>)\n"
     ]
    },
    {
     "name": "stderr",
     "output_type": "stream",
     "text": [
      "Epoch 488: 100%|██████████| 3/3 [00:02<00:00,  1.05it/s, loss=18.5, acc=0.714, AUC=0.782, val_acc=0.653, val_AUC=0.69]\n"
     ]
    },
    {
     "name": "stdout",
     "output_type": "stream",
     "text": [
      "tensor([-0.5712, -0.3869, -0.4455, -0.2866, -0.2942, -0.1718,  0.3259,  0.4419,\n",
      "         0.0300, -0.0113, -0.0567], device='cuda:0', grad_fn=<DivBackward0>)\n"
     ]
    },
    {
     "name": "stderr",
     "output_type": "stream",
     "text": [
      "Epoch 489: 100%|██████████| 3/3 [00:02<00:00,  1.05it/s, loss=18.3, acc=0.715, AUC=0.789, val_acc=0.653, val_AUC=0.696]\n"
     ]
    },
    {
     "name": "stdout",
     "output_type": "stream",
     "text": [
      "tensor([-0.5719, -0.3931, -0.4500, -0.2895, -0.2947, -0.1749,  0.3286,  0.4423,\n",
      "         0.0343, -0.0149, -0.0683], device='cuda:0', grad_fn=<DivBackward0>)\n"
     ]
    },
    {
     "name": "stderr",
     "output_type": "stream",
     "text": [
      "Epoch 490: 100%|██████████| 3/3 [00:02<00:00,  1.03it/s, loss=18.6, acc=0.707, AUC=0.779, val_acc=0.656, val_AUC=0.692]\n"
     ]
    },
    {
     "name": "stdout",
     "output_type": "stream",
     "text": [
      "tensor([-0.5755, -0.3872, -0.4485, -0.2914, -0.2953, -0.1774,  0.3188,  0.4514,\n",
      "         0.0391, -0.0163, -0.0664], device='cuda:0', grad_fn=<DivBackward0>)\n"
     ]
    },
    {
     "name": "stderr",
     "output_type": "stream",
     "text": [
      "Epoch 491: 100%|██████████| 3/3 [00:02<00:00,  1.05it/s, loss=18.4, acc=0.717, AUC=0.786, val_acc=0.634, val_AUC=0.686]\n"
     ]
    },
    {
     "name": "stdout",
     "output_type": "stream",
     "text": [
      "tensor([-0.5830, -0.3898, -0.4453, -0.2873, -0.3045, -0.1819,  0.3269,  0.4562,\n",
      "         0.0288, -0.0195, -0.0624], device='cuda:0', grad_fn=<DivBackward0>)\n"
     ]
    },
    {
     "name": "stderr",
     "output_type": "stream",
     "text": [
      "Epoch 492: 100%|██████████| 3/3 [00:02<00:00,  1.05it/s, loss=18.8, acc=0.701, AUC=0.773, val_acc=0.637, val_AUC=0.689]\n"
     ]
    },
    {
     "name": "stdout",
     "output_type": "stream",
     "text": [
      "tensor([-0.5830, -0.3955, -0.4488, -0.2929, -0.3037, -0.1876,  0.3286,  0.4635,\n",
      "         0.0370, -0.0130, -0.0769], device='cuda:0', grad_fn=<DivBackward0>)\n"
     ]
    },
    {
     "name": "stderr",
     "output_type": "stream",
     "text": [
      "Epoch 493: 100%|██████████| 3/3 [00:02<00:00,  1.05it/s, loss=18.5, acc=0.713, AUC=0.784, val_acc=0.644, val_AUC=0.682]\n"
     ]
    },
    {
     "name": "stdout",
     "output_type": "stream",
     "text": [
      "tensor([-0.5578, -0.3867, -0.4441, -0.2882, -0.2986, -0.1765,  0.3184,  0.4477,\n",
      "         0.0338, -0.0157, -0.0696], device='cuda:0', grad_fn=<DivBackward0>)\n"
     ]
    },
    {
     "name": "stderr",
     "output_type": "stream",
     "text": [
      "Epoch 494: 100%|██████████| 3/3 [00:02<00:00,  1.05it/s, loss=18.7, acc=0.694, AUC=0.773, val_acc=0.659, val_AUC=0.7]\n"
     ]
    },
    {
     "name": "stdout",
     "output_type": "stream",
     "text": [
      "tensor([-0.5676, -0.3841, -0.4477, -0.2815, -0.2935, -0.1780,  0.3265,  0.4414,\n",
      "         0.0337, -0.0215, -0.0681], device='cuda:0', grad_fn=<DivBackward0>)\n"
     ]
    },
    {
     "name": "stderr",
     "output_type": "stream",
     "text": [
      "Epoch 495: 100%|██████████| 3/3 [00:02<00:00,  1.03it/s, loss=18.3, acc=0.71, AUC=0.788, val_acc=0.644, val_AUC=0.691]\n"
     ]
    },
    {
     "name": "stdout",
     "output_type": "stream",
     "text": [
      "tensor([-0.5688, -0.3876, -0.4543, -0.2839, -0.2980, -0.1774,  0.3218,  0.4446,\n",
      "         0.0320, -0.0174, -0.0688], device='cuda:0', grad_fn=<DivBackward0>)\n"
     ]
    },
    {
     "name": "stderr",
     "output_type": "stream",
     "text": [
      "Epoch 496: 100%|██████████| 3/3 [00:02<00:00,  1.05it/s, loss=18.5, acc=0.708, AUC=0.782, val_acc=0.665, val_AUC=0.697]\n"
     ]
    },
    {
     "name": "stdout",
     "output_type": "stream",
     "text": [
      "tensor([-0.5670, -0.3853, -0.4497, -0.2856, -0.2920, -0.1812,  0.3209,  0.4476,\n",
      "         0.0251, -0.0097, -0.0596], device='cuda:0', grad_fn=<DivBackward0>)\n"
     ]
    },
    {
     "name": "stderr",
     "output_type": "stream",
     "text": [
      "Epoch 497: 100%|██████████| 3/3 [00:02<00:00,  1.05it/s, loss=18.4, acc=0.713, AUC=0.785, val_acc=0.64, val_AUC=0.686]\n"
     ]
    },
    {
     "name": "stdout",
     "output_type": "stream",
     "text": [
      "tensor([-0.5708, -0.3802, -0.4515, -0.2879, -0.2892, -0.1817,  0.3191,  0.4484,\n",
      "         0.0255, -0.0104, -0.0599], device='cuda:0', grad_fn=<DivBackward0>)\n"
     ]
    },
    {
     "name": "stderr",
     "output_type": "stream",
     "text": [
      "Epoch 498: 100%|██████████| 3/3 [00:02<00:00,  1.05it/s, loss=18.5, acc=0.706, AUC=0.782, val_acc=0.64, val_AUC=0.687]\n"
     ]
    },
    {
     "name": "stdout",
     "output_type": "stream",
     "text": [
      "tensor([-0.5630, -0.3777, -0.4464, -0.2857, -0.2928, -0.1780,  0.3230,  0.4431,\n",
      "         0.0244, -0.0072, -0.0535], device='cuda:0', grad_fn=<DivBackward0>)\n"
     ]
    },
    {
     "name": "stderr",
     "output_type": "stream",
     "text": [
      "Epoch 499: 100%|██████████| 3/3 [00:02<00:00,  1.05it/s, loss=18.4, acc=0.711, AUC=0.786, val_acc=0.634, val_AUC=0.683]\n"
     ]
    },
    {
     "name": "stdout",
     "output_type": "stream",
     "text": [
      "tensor([-0.5671, -0.3724, -0.4398, -0.2821, -0.2850, -0.1760,  0.3200,  0.4344,\n",
      "         0.0234, -0.0111, -0.0522], device='cuda:0', grad_fn=<DivBackward0>)\n"
     ]
    },
    {
     "name": "stderr",
     "output_type": "stream",
     "text": [
      "Epoch 500: 100%|██████████| 3/3 [00:02<00:00,  1.03it/s, loss=18.6, acc=0.706, AUC=0.779, val_acc=0.665, val_AUC=0.689]\n"
     ]
    },
    {
     "name": "stdout",
     "output_type": "stream",
     "text": [
      "tensor([-0.5646, -0.3722, -0.4489, -0.2818, -0.2888, -0.1704,  0.3221,  0.4351,\n",
      "         0.0288, -0.0116, -0.0537], device='cuda:0', grad_fn=<DivBackward0>)\n",
      "test_acc: 0.6624405980110168\n",
      "test_auc: 0.7089612216194495\n",
      "-----------------------------------------\n"
     ]
    },
    {
     "name": "stderr",
     "output_type": "stream",
     "text": [
      "wandb: WARNING Source type is set to 'repo' but some required information is missing from the environment. A job will not be created from this run. See https://docs.wandb.ai/guides/launch/create-job\n"
     ]
    },
    {
     "name": "stdout",
     "output_type": "stream",
     "text": [
      "=================[ 3 Fold ]=================\n",
      "train_data: torch.Size([2980, 11])\n",
      "train_label: torch.Size([2980])\n",
      "validation_data: torch.Size([331, 11])\n",
      "validation_label: torch.Size([331])\n",
      "test_data: torch.Size([1655, 11])\n",
      "test_label: torch.Size([1655])\n",
      "-----------------------------------------\n"
     ]
    },
    {
     "name": "stderr",
     "output_type": "stream",
     "text": [
      "Epoch 1:  67%|██████▋   | 2/3 [00:01<00:00,  1.24it/s]/home/tsou/.conda/envs/pyg/lib/python3.10/site-packages/torcheval/metrics/functional/classification/auroc.py:175: UserWarning: cumsum_cuda_kernel does not have a deterministic implementation, but you set 'torch.use_deterministic_algorithms(True, warn_only=True)'. You can file an issue at https://github.com/pytorch/pytorch/issues to help us prioritize adding deterministic support for this operation. (Triggered internally at ../aten/src/ATen/Context.cpp:82.)\n",
      "  return _binary_auroc_compute_jit(input, target, weight)\n",
      "Epoch 1: 100%|██████████| 3/3 [00:02<00:00,  1.14it/s, loss=24.3, acc=0.537, AUC=0.537, val_acc=0.556, val_AUC=0.627]\n"
     ]
    },
    {
     "name": "stdout",
     "output_type": "stream",
     "text": [
      "tensor([-0.1564, -0.1266, -0.0584,  0.0063, -0.0981, -0.0450,  0.1137,  0.1601,\n",
      "         0.0676,  0.0307, -0.0057], device='cuda:0', grad_fn=<DivBackward0>)\n"
     ]
    },
    {
     "name": "stderr",
     "output_type": "stream",
     "text": [
      "Epoch 2: 100%|██████████| 3/3 [00:02<00:00,  1.13it/s, loss=22.7, acc=0.583, AUC=0.605, val_acc=0.601, val_AUC=0.648]\n"
     ]
    },
    {
     "name": "stdout",
     "output_type": "stream",
     "text": [
      "tensor([ 0.0728, -0.0049,  0.2067,  0.2080, -0.0354,  0.0427,  0.0365,  0.0582,\n",
      "         0.1376,  0.0161,  0.0570], device='cuda:0', grad_fn=<DivBackward0>)\n"
     ]
    },
    {
     "name": "stderr",
     "output_type": "stream",
     "text": [
      "Epoch 3: 100%|██████████| 3/3 [00:02<00:00,  1.12it/s, loss=22.4, acc=0.581, AUC=0.621, val_acc=0.64, val_AUC=0.682]\n"
     ]
    },
    {
     "name": "stdout",
     "output_type": "stream",
     "text": [
      "tensor([ 0.0468,  0.0017,  0.2878,  0.1986, -0.0321,  0.0327,  0.0700,  0.0659,\n",
      "         0.1606,  0.0356,  0.0405], device='cuda:0', grad_fn=<DivBackward0>)\n"
     ]
    },
    {
     "name": "stderr",
     "output_type": "stream",
     "text": [
      "Epoch 4: 100%|██████████| 3/3 [00:02<00:00,  1.10it/s, loss=22.1, acc=0.615, AUC=0.642, val_acc=0.695, val_AUC=0.713]\n"
     ]
    },
    {
     "name": "stdout",
     "output_type": "stream",
     "text": [
      "tensor([ 0.0062,  0.0081,  0.3767,  0.1408, -0.0137,  0.0184,  0.1552,  0.0708,\n",
      "         0.1558,  0.0417,  0.0509], device='cuda:0', grad_fn=<DivBackward0>)\n"
     ]
    },
    {
     "name": "stderr",
     "output_type": "stream",
     "text": [
      "Epoch 5: 100%|██████████| 3/3 [00:02<00:00,  1.11it/s, loss=21.5, acc=0.628, AUC=0.669, val_acc=0.677, val_AUC=0.735]\n"
     ]
    },
    {
     "name": "stdout",
     "output_type": "stream",
     "text": [
      "tensor([-0.0132,  0.0287,  0.4587,  0.1242, -0.0147,  0.0112,  0.2046,  0.0457,\n",
      "         0.1659,  0.0553,  0.0490], device='cuda:0', grad_fn=<DivBackward0>)\n"
     ]
    },
    {
     "name": "stderr",
     "output_type": "stream",
     "text": [
      "Epoch 6: 100%|██████████| 3/3 [00:02<00:00,  1.10it/s, loss=21.3, acc=0.63, AUC=0.674, val_acc=0.659, val_AUC=0.709]\n"
     ]
    },
    {
     "name": "stdout",
     "output_type": "stream",
     "text": [
      "tensor([-0.0211,  0.0195,  0.4936,  0.1333, -0.0263,  0.0065,  0.1635,  0.0096,\n",
      "         0.1338,  0.0370,  0.0193], device='cuda:0', grad_fn=<DivBackward0>)\n"
     ]
    },
    {
     "name": "stderr",
     "output_type": "stream",
     "text": [
      "Epoch 7: 100%|██████████| 3/3 [00:02<00:00,  1.11it/s, loss=21.4, acc=0.628, AUC=0.673, val_acc=0.68, val_AUC=0.74]\n"
     ]
    },
    {
     "name": "stdout",
     "output_type": "stream",
     "text": [
      "tensor([-0.0737,  0.0281,  0.5642,  0.0633, -0.0180, -0.0011,  0.2158,  0.0530,\n",
      "         0.1370,  0.0754,  0.0343], device='cuda:0', grad_fn=<DivBackward0>)\n"
     ]
    },
    {
     "name": "stderr",
     "output_type": "stream",
     "text": [
      "Epoch 8: 100%|██████████| 3/3 [00:02<00:00,  1.10it/s, loss=21.2, acc=0.635, AUC=0.68, val_acc=0.68, val_AUC=0.756]\n"
     ]
    },
    {
     "name": "stdout",
     "output_type": "stream",
     "text": [
      "tensor([-0.1080,  0.0344,  0.6647, -0.0176,  0.0276,  0.0007,  0.2752,  0.0826,\n",
      "         0.1415,  0.1203,  0.0535], device='cuda:0', grad_fn=<DivBackward0>)\n"
     ]
    },
    {
     "name": "stderr",
     "output_type": "stream",
     "text": [
      "Epoch 9: 100%|██████████| 3/3 [00:02<00:00,  1.08it/s, loss=21.3, acc=0.635, AUC=0.68, val_acc=0.677, val_AUC=0.73]\n"
     ]
    },
    {
     "name": "stdout",
     "output_type": "stream",
     "text": [
      "tensor([-0.1293,  0.0451,  0.7165, -0.0241,  0.0522, -0.0089,  0.3193,  0.1107,\n",
      "         0.1508,  0.1674,  0.0476], device='cuda:0', grad_fn=<DivBackward0>)\n"
     ]
    },
    {
     "name": "stderr",
     "output_type": "stream",
     "text": [
      "Epoch 10: 100%|██████████| 3/3 [00:02<00:00,  1.10it/s, loss=21.2, acc=0.644, AUC=0.686, val_acc=0.692, val_AUC=0.737]\n"
     ]
    },
    {
     "name": "stdout",
     "output_type": "stream",
     "text": [
      "tensor([-0.1004,  0.0501,  0.6644,  0.0173,  0.0062, -0.0170,  0.2956,  0.1037,\n",
      "         0.1406,  0.1597,  0.0586], device='cuda:0', grad_fn=<DivBackward0>)\n"
     ]
    },
    {
     "name": "stderr",
     "output_type": "stream",
     "text": [
      "Epoch 11: 100%|██████████| 3/3 [00:02<00:00,  1.10it/s, loss=20.9, acc=0.646, AUC=0.695, val_acc=0.68, val_AUC=0.747]\n"
     ]
    },
    {
     "name": "stdout",
     "output_type": "stream",
     "text": [
      "tensor([-1.1438e-01,  3.8962e-02,  6.8978e-01,  1.7622e-02, -6.1524e-04,\n",
      "         1.1364e-04,  2.7956e-01,  1.1079e-01,  1.4216e-01,  1.3900e-01,\n",
      "         7.1282e-02], device='cuda:0', grad_fn=<DivBackward0>)\n"
     ]
    },
    {
     "name": "stderr",
     "output_type": "stream",
     "text": [
      "Epoch 12: 100%|██████████| 3/3 [00:02<00:00,  1.10it/s, loss=21, acc=0.642, AUC=0.69, val_acc=0.683, val_AUC=0.728]\n"
     ]
    },
    {
     "name": "stdout",
     "output_type": "stream",
     "text": [
      "tensor([-0.1320,  0.0484,  0.7576, -0.0101,  0.0040,  0.0185,  0.3082,  0.1066,\n",
      "         0.1373,  0.1774,  0.0719], device='cuda:0', grad_fn=<DivBackward0>)\n"
     ]
    },
    {
     "name": "stderr",
     "output_type": "stream",
     "text": [
      "Epoch 13: 100%|██████████| 3/3 [00:02<00:00,  1.10it/s, loss=20.9, acc=0.653, AUC=0.695, val_acc=0.707, val_AUC=0.754]\n"
     ]
    },
    {
     "name": "stdout",
     "output_type": "stream",
     "text": [
      "tensor([-0.1437,  0.0722,  0.8519, -0.0347,  0.0559, -0.0180,  0.3804,  0.1246,\n",
      "         0.1384,  0.2077,  0.0838], device='cuda:0', grad_fn=<DivBackward0>)\n"
     ]
    },
    {
     "name": "stderr",
     "output_type": "stream",
     "text": [
      "Epoch 14: 100%|██████████| 3/3 [00:02<00:00,  1.07it/s, loss=21.2, acc=0.645, AUC=0.684, val_acc=0.671, val_AUC=0.727]\n"
     ]
    },
    {
     "name": "stdout",
     "output_type": "stream",
     "text": [
      "tensor([-0.1296,  0.0493,  0.8444, -0.0277,  0.0588, -0.0017,  0.3769,  0.1219,\n",
      "         0.1561,  0.2200,  0.0651], device='cuda:0', grad_fn=<DivBackward0>)\n"
     ]
    },
    {
     "name": "stderr",
     "output_type": "stream",
     "text": [
      "Epoch 15: 100%|██████████| 3/3 [00:02<00:00,  1.09it/s, loss=21.1, acc=0.645, AUC=0.688, val_acc=0.674, val_AUC=0.748]\n"
     ]
    },
    {
     "name": "stdout",
     "output_type": "stream",
     "text": [
      "tensor([-0.1263,  0.0422,  0.7587,  0.0188, -0.0455,  0.0138,  0.2898,  0.0925,\n",
      "         0.1561,  0.1816,  0.0485], device='cuda:0', grad_fn=<DivBackward0>)\n"
     ]
    },
    {
     "name": "stderr",
     "output_type": "stream",
     "text": [
      "Epoch 16: 100%|██████████| 3/3 [00:02<00:00,  1.09it/s, loss=20.9, acc=0.656, AUC=0.695, val_acc=0.692, val_AUC=0.748]\n"
     ]
    },
    {
     "name": "stdout",
     "output_type": "stream",
     "text": [
      "tensor([-0.0996,  0.0155,  0.7068,  0.0844, -0.1346,  0.0454,  0.2350,  0.0741,\n",
      "         0.1496,  0.1473,  0.0482], device='cuda:0', grad_fn=<DivBackward0>)\n"
     ]
    },
    {
     "name": "stderr",
     "output_type": "stream",
     "text": [
      "Epoch 17: 100%|██████████| 3/3 [00:02<00:00,  1.09it/s, loss=20.8, acc=0.66, AUC=0.699, val_acc=0.683, val_AUC=0.752]\n"
     ]
    },
    {
     "name": "stdout",
     "output_type": "stream",
     "text": [
      "tensor([-0.1189,  0.0268,  0.7445,  0.0798, -0.0913,  0.0514,  0.2895,  0.1045,\n",
      "         0.1419,  0.1803,  0.0416], device='cuda:0', grad_fn=<DivBackward0>)\n"
     ]
    },
    {
     "name": "stderr",
     "output_type": "stream",
     "text": [
      "Epoch 18: 100%|██████████| 3/3 [00:02<00:00,  1.08it/s, loss=20.9, acc=0.653, AUC=0.696, val_acc=0.671, val_AUC=0.754]\n"
     ]
    },
    {
     "name": "stdout",
     "output_type": "stream",
     "text": [
      "tensor([-0.1410,  0.0384,  0.7764,  0.0581, -0.0751,  0.0322,  0.2714,  0.0935,\n",
      "         0.1273,  0.1798,  0.0404], device='cuda:0', grad_fn=<DivBackward0>)\n"
     ]
    },
    {
     "name": "stderr",
     "output_type": "stream",
     "text": [
      "Epoch 19: 100%|██████████| 3/3 [00:02<00:00,  1.07it/s, loss=20.9, acc=0.651, AUC=0.698, val_acc=0.698, val_AUC=0.749]\n"
     ]
    },
    {
     "name": "stdout",
     "output_type": "stream",
     "text": [
      "tensor([-0.1616,  0.0511,  0.8343,  0.0288, -0.0500,  0.0269,  0.3107,  0.1186,\n",
      "         0.1428,  0.1980,  0.0430], device='cuda:0', grad_fn=<DivBackward0>)\n"
     ]
    },
    {
     "name": "stderr",
     "output_type": "stream",
     "text": [
      "Epoch 20: 100%|██████████| 3/3 [00:02<00:00,  1.09it/s, loss=20.9, acc=0.65, AUC=0.696, val_acc=0.677, val_AUC=0.735]\n"
     ]
    },
    {
     "name": "stdout",
     "output_type": "stream",
     "text": [
      "tensor([-0.1484,  0.0576,  0.8629,  0.0245, -0.0374,  0.0100,  0.3379,  0.1112,\n",
      "         0.1604,  0.1986,  0.0454], device='cuda:0', grad_fn=<DivBackward0>)\n"
     ]
    },
    {
     "name": "stderr",
     "output_type": "stream",
     "text": [
      "Epoch 21: 100%|██████████| 3/3 [00:02<00:00,  1.09it/s, loss=20.6, acc=0.657, AUC=0.706, val_acc=0.668, val_AUC=0.734]\n"
     ]
    },
    {
     "name": "stdout",
     "output_type": "stream",
     "text": [
      "tensor([-0.1424,  0.0459,  0.8422,  0.0539, -0.0678,  0.0111,  0.3056,  0.1067,\n",
      "         0.1713,  0.1878,  0.0347], device='cuda:0', grad_fn=<DivBackward0>)\n"
     ]
    },
    {
     "name": "stderr",
     "output_type": "stream",
     "text": [
      "Epoch 22: 100%|██████████| 3/3 [00:02<00:00,  1.09it/s, loss=20.9, acc=0.656, AUC=0.698, val_acc=0.671, val_AUC=0.731]\n"
     ]
    },
    {
     "name": "stdout",
     "output_type": "stream",
     "text": [
      "tensor([-0.1382,  0.0343,  0.8279,  0.0595, -0.0723,  0.0262,  0.3309,  0.1280,\n",
      "         0.1796,  0.2019,  0.0474], device='cuda:0', grad_fn=<DivBackward0>)\n"
     ]
    },
    {
     "name": "stderr",
     "output_type": "stream",
     "text": [
      "Epoch 23: 100%|██████████| 3/3 [00:02<00:00,  1.09it/s, loss=20.9, acc=0.647, AUC=0.694, val_acc=0.704, val_AUC=0.772]\n"
     ]
    },
    {
     "name": "stdout",
     "output_type": "stream",
     "text": [
      "tensor([-0.1589,  0.0490,  0.8786,  0.0101, -0.0274,  0.0428,  0.3300,  0.1281,\n",
      "         0.1655,  0.2059,  0.0630], device='cuda:0', grad_fn=<DivBackward0>)\n"
     ]
    },
    {
     "name": "stderr",
     "output_type": "stream",
     "text": [
      "Epoch 24: 100%|██████████| 3/3 [00:02<00:00,  1.07it/s, loss=20.6, acc=0.658, AUC=0.706, val_acc=0.701, val_AUC=0.769]\n"
     ]
    },
    {
     "name": "stdout",
     "output_type": "stream",
     "text": [
      "tensor([-0.1592,  0.0524,  0.8870,  0.0214, -0.0345,  0.0524,  0.3316,  0.1473,\n",
      "         0.1607,  0.2153,  0.0663], device='cuda:0', grad_fn=<DivBackward0>)\n"
     ]
    },
    {
     "name": "stderr",
     "output_type": "stream",
     "text": [
      "Epoch 25: 100%|██████████| 3/3 [00:02<00:00,  1.08it/s, loss=20.7, acc=0.659, AUC=0.705, val_acc=0.722, val_AUC=0.779]\n"
     ]
    },
    {
     "name": "stdout",
     "output_type": "stream",
     "text": [
      "tensor([-0.1594,  0.0606,  0.8499,  0.0537, -0.0677,  0.0383,  0.2941,  0.1196,\n",
      "         0.1688,  0.1959,  0.0511], device='cuda:0', grad_fn=<DivBackward0>)\n"
     ]
    },
    {
     "name": "stderr",
     "output_type": "stream",
     "text": [
      "Epoch 26: 100%|██████████| 3/3 [00:02<00:00,  1.09it/s, loss=20.8, acc=0.645, AUC=0.699, val_acc=0.701, val_AUC=0.752]\n"
     ]
    },
    {
     "name": "stdout",
     "output_type": "stream",
     "text": [
      "tensor([-0.1552,  0.0559,  0.8253,  0.0745, -0.0949,  0.0404,  0.2736,  0.1158,\n",
      "         0.1716,  0.1567,  0.0333], device='cuda:0', grad_fn=<DivBackward0>)\n"
     ]
    },
    {
     "name": "stderr",
     "output_type": "stream",
     "text": [
      "Epoch 27: 100%|██████████| 3/3 [00:02<00:00,  1.09it/s, loss=20.7, acc=0.65, AUC=0.705, val_acc=0.689, val_AUC=0.753]\n"
     ]
    },
    {
     "name": "stdout",
     "output_type": "stream",
     "text": [
      "tensor([-0.1588,  0.0483,  0.8648,  0.0824, -0.0767,  0.0491,  0.2852,  0.1346,\n",
      "         0.1701,  0.1879,  0.0129], device='cuda:0', grad_fn=<DivBackward0>)\n"
     ]
    },
    {
     "name": "stderr",
     "output_type": "stream",
     "text": [
      "Epoch 28: 100%|██████████| 3/3 [00:02<00:00,  1.09it/s, loss=20.6, acc=0.661, AUC=0.707, val_acc=0.689, val_AUC=0.76]\n"
     ]
    },
    {
     "name": "stdout",
     "output_type": "stream",
     "text": [
      "tensor([-0.1608,  0.0642,  0.8529,  0.0829, -0.0891,  0.0471,  0.2551,  0.1190,\n",
      "         0.1732,  0.1816,  0.0198], device='cuda:0', grad_fn=<DivBackward0>)\n"
     ]
    },
    {
     "name": "stderr",
     "output_type": "stream",
     "text": [
      "Epoch 29: 100%|██████████| 3/3 [00:02<00:00,  1.06it/s, loss=20.8, acc=0.651, AUC=0.702, val_acc=0.692, val_AUC=0.765]\n"
     ]
    },
    {
     "name": "stdout",
     "output_type": "stream",
     "text": [
      "tensor([-0.1717,  0.0343,  0.8268,  0.1055, -0.1191,  0.0581,  0.2357,  0.1177,\n",
      "         0.1686,  0.1505,  0.0191], device='cuda:0', grad_fn=<DivBackward0>)\n"
     ]
    },
    {
     "name": "stderr",
     "output_type": "stream",
     "text": [
      "Epoch 30: 100%|██████████| 3/3 [00:02<00:00,  1.09it/s, loss=20.6, acc=0.657, AUC=0.71, val_acc=0.692, val_AUC=0.756]\n"
     ]
    },
    {
     "name": "stdout",
     "output_type": "stream",
     "text": [
      "tensor([-0.1595,  0.0331,  0.8336,  0.1058, -0.1212,  0.0581,  0.2394,  0.1118,\n",
      "         0.1716,  0.1197,  0.0483], device='cuda:0', grad_fn=<DivBackward0>)\n"
     ]
    },
    {
     "name": "stderr",
     "output_type": "stream",
     "text": [
      "Epoch 31: 100%|██████████| 3/3 [00:02<00:00,  1.09it/s, loss=20.8, acc=0.651, AUC=0.703, val_acc=0.68, val_AUC=0.771]\n"
     ]
    },
    {
     "name": "stdout",
     "output_type": "stream",
     "text": [
      "tensor([-0.1393,  0.0357,  0.7819,  0.1443, -0.1486,  0.0630,  0.2202,  0.1265,\n",
      "         0.1798,  0.1322,  0.0323], device='cuda:0', grad_fn=<DivBackward0>)\n"
     ]
    },
    {
     "name": "stderr",
     "output_type": "stream",
     "text": [
      "Epoch 32: 100%|██████████| 3/3 [00:02<00:00,  1.09it/s, loss=20.5, acc=0.663, AUC=0.711, val_acc=0.698, val_AUC=0.757]\n"
     ]
    },
    {
     "name": "stdout",
     "output_type": "stream",
     "text": [
      "tensor([-0.1437,  0.0301,  0.7583,  0.1461, -0.1683,  0.0716,  0.2003,  0.1268,\n",
      "         0.1704,  0.1535,  0.0178], device='cuda:0', grad_fn=<DivBackward0>)\n"
     ]
    },
    {
     "name": "stderr",
     "output_type": "stream",
     "text": [
      "Epoch 33: 100%|██████████| 3/3 [00:02<00:00,  1.08it/s, loss=20.7, acc=0.654, AUC=0.705, val_acc=0.68, val_AUC=0.748]\n"
     ]
    },
    {
     "name": "stdout",
     "output_type": "stream",
     "text": [
      "tensor([-0.1611,  0.0312,  0.8070,  0.1140, -0.1609,  0.0686,  0.2074,  0.1322,\n",
      "         0.1750,  0.1553,  0.0242], device='cuda:0', grad_fn=<DivBackward0>)\n"
     ]
    },
    {
     "name": "stderr",
     "output_type": "stream",
     "text": [
      "Epoch 34: 100%|██████████| 3/3 [00:02<00:00,  1.06it/s, loss=20.5, acc=0.654, AUC=0.71, val_acc=0.689, val_AUC=0.754]\n"
     ]
    },
    {
     "name": "stdout",
     "output_type": "stream",
     "text": [
      "tensor([-0.1641,  0.0377,  0.8352,  0.1146, -0.1269,  0.0640,  0.2417,  0.1241,\n",
      "         0.1883,  0.1651,  0.0300], device='cuda:0', grad_fn=<DivBackward0>)\n"
     ]
    },
    {
     "name": "stderr",
     "output_type": "stream",
     "text": [
      "Epoch 35: 100%|██████████| 3/3 [00:02<00:00,  1.09it/s, loss=20.5, acc=0.658, AUC=0.713, val_acc=0.674, val_AUC=0.747]\n"
     ]
    },
    {
     "name": "stdout",
     "output_type": "stream",
     "text": [
      "tensor([-0.1484,  0.0440,  0.8203,  0.1275, -0.1234,  0.0750,  0.2449,  0.1426,\n",
      "         0.2030,  0.1650,  0.0508], device='cuda:0', grad_fn=<DivBackward0>)\n"
     ]
    },
    {
     "name": "stderr",
     "output_type": "stream",
     "text": [
      "Epoch 36: 100%|██████████| 3/3 [00:02<00:00,  1.08it/s, loss=20.6, acc=0.656, AUC=0.711, val_acc=0.692, val_AUC=0.773]\n"
     ]
    },
    {
     "name": "stdout",
     "output_type": "stream",
     "text": [
      "tensor([-0.1472,  0.0344,  0.8226,  0.1318, -0.1427,  0.0751,  0.2216,  0.1507,\n",
      "         0.1924,  0.2039,  0.0186], device='cuda:0', grad_fn=<DivBackward0>)\n"
     ]
    },
    {
     "name": "stderr",
     "output_type": "stream",
     "text": [
      "Epoch 37: 100%|██████████| 3/3 [00:02<00:00,  1.08it/s, loss=20.5, acc=0.661, AUC=0.71, val_acc=0.665, val_AUC=0.749]\n"
     ]
    },
    {
     "name": "stdout",
     "output_type": "stream",
     "text": [
      "tensor([-0.1953,  0.0302,  0.8664,  0.1240, -0.1531,  0.0624,  0.2354,  0.1439,\n",
      "         0.1901,  0.1997,  0.0021], device='cuda:0', grad_fn=<DivBackward0>)\n"
     ]
    },
    {
     "name": "stderr",
     "output_type": "stream",
     "text": [
      "Epoch 38: 100%|██████████| 3/3 [00:02<00:00,  1.08it/s, loss=20.5, acc=0.661, AUC=0.712, val_acc=0.686, val_AUC=0.767]\n"
     ]
    },
    {
     "name": "stdout",
     "output_type": "stream",
     "text": [
      "tensor([-0.1937,  0.0439,  0.8963,  0.1458, -0.1481,  0.0475,  0.2105,  0.1082,\n",
      "         0.1956,  0.1785,  0.0063], device='cuda:0', grad_fn=<DivBackward0>)\n"
     ]
    },
    {
     "name": "stderr",
     "output_type": "stream",
     "text": [
      "Epoch 39: 100%|██████████| 3/3 [00:02<00:00,  1.06it/s, loss=20.5, acc=0.664, AUC=0.713, val_acc=0.695, val_AUC=0.781]\n"
     ]
    },
    {
     "name": "stdout",
     "output_type": "stream",
     "text": [
      "tensor([-0.1826,  0.0371,  0.8667,  0.1268, -0.1443,  0.0438,  0.2194,  0.0873,\n",
      "         0.1955,  0.1639,  0.0127], device='cuda:0', grad_fn=<DivBackward0>)\n"
     ]
    },
    {
     "name": "stderr",
     "output_type": "stream",
     "text": [
      "Epoch 40: 100%|██████████| 3/3 [00:02<00:00,  1.08it/s, loss=20.7, acc=0.652, AUC=0.706, val_acc=0.698, val_AUC=0.775]\n"
     ]
    },
    {
     "name": "stdout",
     "output_type": "stream",
     "text": [
      "tensor([-0.1945,  0.0287,  0.8593,  0.1454, -0.1580,  0.0515,  0.2269,  0.1175,\n",
      "         0.1873,  0.1666,  0.0115], device='cuda:0', grad_fn=<DivBackward0>)\n"
     ]
    },
    {
     "name": "stderr",
     "output_type": "stream",
     "text": [
      "Epoch 41: 100%|██████████| 3/3 [00:02<00:00,  1.08it/s, loss=20.7, acc=0.663, AUC=0.705, val_acc=0.665, val_AUC=0.761]\n"
     ]
    },
    {
     "name": "stdout",
     "output_type": "stream",
     "text": [
      "tensor([-0.1900,  0.0278,  0.8854,  0.1109, -0.1301,  0.0593,  0.2631,  0.1257,\n",
      "         0.1975,  0.2109,  0.0082], device='cuda:0', grad_fn=<DivBackward0>)\n"
     ]
    },
    {
     "name": "stderr",
     "output_type": "stream",
     "text": [
      "Epoch 42: 100%|██████████| 3/3 [00:02<00:00,  1.08it/s, loss=20.6, acc=0.661, AUC=0.709, val_acc=0.704, val_AUC=0.772]\n"
     ]
    },
    {
     "name": "stdout",
     "output_type": "stream",
     "text": [
      "tensor([-0.2205,  0.0198,  0.9465,  0.0928, -0.1007,  0.0747,  0.2919,  0.1572,\n",
      "         0.2020,  0.2287,  0.0255], device='cuda:0', grad_fn=<DivBackward0>)\n"
     ]
    },
    {
     "name": "stderr",
     "output_type": "stream",
     "text": [
      "Epoch 43: 100%|██████████| 3/3 [00:02<00:00,  1.08it/s, loss=20.4, acc=0.659, AUC=0.714, val_acc=0.689, val_AUC=0.76]\n"
     ]
    },
    {
     "name": "stdout",
     "output_type": "stream",
     "text": [
      "tensor([-0.2313,  0.0258,  0.9587,  0.0670, -0.0807,  0.0641,  0.3028,  0.1396,\n",
      "         0.1915,  0.1895,  0.0602], device='cuda:0', grad_fn=<DivBackward0>)\n"
     ]
    },
    {
     "name": "stderr",
     "output_type": "stream",
     "text": [
      "Epoch 44: 100%|██████████| 3/3 [00:02<00:00,  1.06it/s, loss=20.5, acc=0.662, AUC=0.709, val_acc=0.71, val_AUC=0.777]\n"
     ]
    },
    {
     "name": "stdout",
     "output_type": "stream",
     "text": [
      "tensor([-0.2270,  0.0318,  0.9470,  0.0833, -0.0854,  0.0645,  0.2868,  0.1059,\n",
      "         0.2056,  0.1692,  0.0523], device='cuda:0', grad_fn=<DivBackward0>)\n"
     ]
    },
    {
     "name": "stderr",
     "output_type": "stream",
     "text": [
      "Epoch 45: 100%|██████████| 3/3 [00:02<00:00,  1.08it/s, loss=20.6, acc=0.651, AUC=0.709, val_acc=0.722, val_AUC=0.788]\n"
     ]
    },
    {
     "name": "stdout",
     "output_type": "stream",
     "text": [
      "tensor([-0.2238,  0.0334,  0.9655,  0.0771, -0.0950,  0.0607,  0.3134,  0.1291,\n",
      "         0.2054,  0.1571,  0.0659], device='cuda:0', grad_fn=<DivBackward0>)\n"
     ]
    },
    {
     "name": "stderr",
     "output_type": "stream",
     "text": [
      "Epoch 46: 100%|██████████| 3/3 [00:02<00:00,  1.09it/s, loss=20.6, acc=0.66, AUC=0.71, val_acc=0.719, val_AUC=0.778]\n"
     ]
    },
    {
     "name": "stdout",
     "output_type": "stream",
     "text": [
      "tensor([-0.2173,  0.0450,  0.9191,  0.1001, -0.1183,  0.0671,  0.2802,  0.1258,\n",
      "         0.2167,  0.1637,  0.0434], device='cuda:0', grad_fn=<DivBackward0>)\n"
     ]
    },
    {
     "name": "stderr",
     "output_type": "stream",
     "text": [
      "Epoch 47: 100%|██████████| 3/3 [00:02<00:00,  1.08it/s, loss=20.6, acc=0.659, AUC=0.71, val_acc=0.71, val_AUC=0.757]\n"
     ]
    },
    {
     "name": "stdout",
     "output_type": "stream",
     "text": [
      "tensor([-0.2035,  0.0404,  0.8828,  0.1262, -0.1258,  0.0581,  0.2547,  0.1215,\n",
      "         0.1957,  0.1667,  0.0436], device='cuda:0', grad_fn=<DivBackward0>)\n"
     ]
    },
    {
     "name": "stderr",
     "output_type": "stream",
     "text": [
      "Epoch 48: 100%|██████████| 3/3 [00:02<00:00,  1.08it/s, loss=20.6, acc=0.663, AUC=0.71, val_acc=0.677, val_AUC=0.76]\n"
     ]
    },
    {
     "name": "stdout",
     "output_type": "stream",
     "text": [
      "tensor([-0.2046,  0.0437,  0.9169,  0.1126, -0.1053,  0.0599,  0.3134,  0.1300,\n",
      "         0.2145,  0.1700,  0.0471], device='cuda:0', grad_fn=<DivBackward0>)\n"
     ]
    },
    {
     "name": "stderr",
     "output_type": "stream",
     "text": [
      "Epoch 49: 100%|██████████| 3/3 [00:02<00:00,  1.06it/s, loss=20.5, acc=0.662, AUC=0.709, val_acc=0.68, val_AUC=0.772]\n"
     ]
    },
    {
     "name": "stdout",
     "output_type": "stream",
     "text": [
      "tensor([-0.2146,  0.0438,  0.9476,  0.0946, -0.0675,  0.0530,  0.3565,  0.1551,\n",
      "         0.2258,  0.1856,  0.0671], device='cuda:0', grad_fn=<DivBackward0>)\n"
     ]
    },
    {
     "name": "stderr",
     "output_type": "stream",
     "text": [
      "Epoch 50: 100%|██████████| 3/3 [00:02<00:00,  1.08it/s, loss=20.5, acc=0.659, AUC=0.712, val_acc=0.683, val_AUC=0.774]\n"
     ]
    },
    {
     "name": "stdout",
     "output_type": "stream",
     "text": [
      "tensor([-0.2238,  0.0360,  0.9544,  0.1049, -0.0915,  0.0483,  0.3226,  0.1477,\n",
      "         0.2287,  0.1963,  0.0610], device='cuda:0', grad_fn=<DivBackward0>)\n"
     ]
    },
    {
     "name": "stderr",
     "output_type": "stream",
     "text": [
      "Epoch 51: 100%|██████████| 3/3 [00:02<00:00,  1.08it/s, loss=20.7, acc=0.653, AUC=0.706, val_acc=0.698, val_AUC=0.766]\n"
     ]
    },
    {
     "name": "stdout",
     "output_type": "stream",
     "text": [
      "tensor([-0.2166,  0.0288,  0.9498,  0.1211, -0.1149,  0.0504,  0.2995,  0.1448,\n",
      "         0.2234,  0.1782,  0.0487], device='cuda:0', grad_fn=<DivBackward0>)\n"
     ]
    },
    {
     "name": "stderr",
     "output_type": "stream",
     "text": [
      "Epoch 52: 100%|██████████| 3/3 [00:02<00:00,  1.08it/s, loss=20.5, acc=0.657, AUC=0.71, val_acc=0.707, val_AUC=0.772]\n"
     ]
    },
    {
     "name": "stdout",
     "output_type": "stream",
     "text": [
      "tensor([-0.2424,  0.0479,  0.9980,  0.1042, -0.1038,  0.0556,  0.3128,  0.1517,\n",
      "         0.2294,  0.1823,  0.0604], device='cuda:0', grad_fn=<DivBackward0>)\n"
     ]
    },
    {
     "name": "stderr",
     "output_type": "stream",
     "text": [
      "Epoch 53: 100%|██████████| 3/3 [00:02<00:00,  1.08it/s, loss=20.5, acc=0.653, AUC=0.711, val_acc=0.683, val_AUC=0.764]\n"
     ]
    },
    {
     "name": "stdout",
     "output_type": "stream",
     "text": [
      "tensor([-0.2505,  0.0459,  1.0315,  0.1011, -0.0881,  0.0616,  0.3368,  0.1471,\n",
      "         0.2445,  0.1667,  0.0643], device='cuda:0', grad_fn=<DivBackward0>)\n"
     ]
    },
    {
     "name": "stderr",
     "output_type": "stream",
     "text": [
      "Epoch 54: 100%|██████████| 3/3 [00:02<00:00,  1.06it/s, loss=20.5, acc=0.655, AUC=0.711, val_acc=0.71, val_AUC=0.785]\n"
     ]
    },
    {
     "name": "stdout",
     "output_type": "stream",
     "text": [
      "tensor([-0.2354,  0.0316,  0.9814,  0.1105, -0.1066,  0.0573,  0.3221,  0.1490,\n",
      "         0.2417,  0.1439,  0.0483], device='cuda:0', grad_fn=<DivBackward0>)\n"
     ]
    },
    {
     "name": "stderr",
     "output_type": "stream",
     "text": [
      "Epoch 55: 100%|██████████| 3/3 [00:02<00:00,  1.08it/s, loss=20.5, acc=0.657, AUC=0.716, val_acc=0.704, val_AUC=0.767]\n"
     ]
    },
    {
     "name": "stdout",
     "output_type": "stream",
     "text": [
      "tensor([-0.2269,  0.0333,  0.9808,  0.1150, -0.1231,  0.0678,  0.3143,  0.1538,\n",
      "         0.2371,  0.1319,  0.0701], device='cuda:0', grad_fn=<DivBackward0>)\n"
     ]
    },
    {
     "name": "stderr",
     "output_type": "stream",
     "text": [
      "Epoch 56: 100%|██████████| 3/3 [00:02<00:00,  1.08it/s, loss=20.4, acc=0.662, AUC=0.717, val_acc=0.692, val_AUC=0.771]\n"
     ]
    },
    {
     "name": "stdout",
     "output_type": "stream",
     "text": [
      "tensor([-0.2376,  0.0422,  0.9964,  0.0967, -0.1248,  0.0659,  0.3033,  0.1595,\n",
      "         0.2295,  0.1285,  0.0840], device='cuda:0', grad_fn=<DivBackward0>)\n"
     ]
    },
    {
     "name": "stderr",
     "output_type": "stream",
     "text": [
      "Epoch 57: 100%|██████████| 3/3 [00:02<00:00,  1.08it/s, loss=20.3, acc=0.66, AUC=0.717, val_acc=0.689, val_AUC=0.768]\n"
     ]
    },
    {
     "name": "stdout",
     "output_type": "stream",
     "text": [
      "tensor([-0.2489,  0.0303,  0.9889,  0.1046, -0.1132,  0.0574,  0.2884,  0.1456,\n",
      "         0.2284,  0.1146,  0.0718], device='cuda:0', grad_fn=<DivBackward0>)\n"
     ]
    },
    {
     "name": "stderr",
     "output_type": "stream",
     "text": [
      "Epoch 58: 100%|██████████| 3/3 [00:02<00:00,  1.08it/s, loss=20.5, acc=0.663, AUC=0.713, val_acc=0.686, val_AUC=0.749]\n"
     ]
    },
    {
     "name": "stdout",
     "output_type": "stream",
     "text": [
      "tensor([-0.2699,  0.0422,  1.0277,  0.0878, -0.1144,  0.0709,  0.3002,  0.1440,\n",
      "         0.2339,  0.1145,  0.0754], device='cuda:0', grad_fn=<DivBackward0>)\n"
     ]
    },
    {
     "name": "stderr",
     "output_type": "stream",
     "text": [
      "Epoch 59: 100%|██████████| 3/3 [00:02<00:00,  1.06it/s, loss=20.5, acc=0.653, AUC=0.713, val_acc=0.686, val_AUC=0.778]\n"
     ]
    },
    {
     "name": "stdout",
     "output_type": "stream",
     "text": [
      "tensor([-0.2430,  0.0382,  0.9990,  0.0942, -0.1084,  0.0696,  0.3072,  0.1449,\n",
      "         0.2247,  0.1274,  0.0789], device='cuda:0', grad_fn=<DivBackward0>)\n"
     ]
    },
    {
     "name": "stderr",
     "output_type": "stream",
     "text": [
      "Epoch 60: 100%|██████████| 3/3 [00:02<00:00,  1.08it/s, loss=20.4, acc=0.661, AUC=0.717, val_acc=0.695, val_AUC=0.759]\n"
     ]
    },
    {
     "name": "stdout",
     "output_type": "stream",
     "text": [
      "tensor([-0.2351,  0.0388,  0.9823,  0.0998, -0.1204,  0.0812,  0.2878,  0.1443,\n",
      "         0.2219,  0.1278,  0.0739], device='cuda:0', grad_fn=<DivBackward0>)\n"
     ]
    },
    {
     "name": "stderr",
     "output_type": "stream",
     "text": [
      "Epoch 61: 100%|██████████| 3/3 [00:02<00:00,  1.08it/s, loss=20.4, acc=0.661, AUC=0.716, val_acc=0.698, val_AUC=0.758]\n"
     ]
    },
    {
     "name": "stdout",
     "output_type": "stream",
     "text": [
      "tensor([-0.2376,  0.0262,  0.9651,  0.1093, -0.1266,  0.0651,  0.2685,  0.1523,\n",
      "         0.2079,  0.1516,  0.0558], device='cuda:0', grad_fn=<DivBackward0>)\n"
     ]
    },
    {
     "name": "stderr",
     "output_type": "stream",
     "text": [
      "Epoch 62: 100%|██████████| 3/3 [00:02<00:00,  1.08it/s, loss=20.4, acc=0.66, AUC=0.717, val_acc=0.695, val_AUC=0.772]\n"
     ]
    },
    {
     "name": "stdout",
     "output_type": "stream",
     "text": [
      "tensor([-0.2410,  0.0398,  0.9668,  0.0961, -0.1179,  0.0763,  0.2800,  0.1601,\n",
      "         0.2154,  0.1650,  0.0577], device='cuda:0', grad_fn=<DivBackward0>)\n"
     ]
    },
    {
     "name": "stderr",
     "output_type": "stream",
     "text": [
      "Epoch 63: 100%|██████████| 3/3 [00:02<00:00,  1.08it/s, loss=20.4, acc=0.667, AUC=0.716, val_acc=0.671, val_AUC=0.757]\n"
     ]
    },
    {
     "name": "stdout",
     "output_type": "stream",
     "text": [
      "tensor([-0.2442,  0.0432,  0.9758,  0.1011, -0.0879,  0.0675,  0.3205,  0.1656,\n",
      "         0.2277,  0.1616,  0.0687], device='cuda:0', grad_fn=<DivBackward0>)\n"
     ]
    },
    {
     "name": "stderr",
     "output_type": "stream",
     "text": [
      "Epoch 64: 100%|██████████| 3/3 [00:02<00:00,  1.06it/s, loss=20.5, acc=0.656, AUC=0.713, val_acc=0.698, val_AUC=0.767]\n"
     ]
    },
    {
     "name": "stdout",
     "output_type": "stream",
     "text": [
      "tensor([-0.2451,  0.0455,  0.9977,  0.0864, -0.0785,  0.0661,  0.3357,  0.1494,\n",
      "         0.2387,  0.1558,  0.0564], device='cuda:0', grad_fn=<DivBackward0>)\n"
     ]
    },
    {
     "name": "stderr",
     "output_type": "stream",
     "text": [
      "Epoch 65: 100%|██████████| 3/3 [00:02<00:00,  1.08it/s, loss=20.3, acc=0.664, AUC=0.719, val_acc=0.692, val_AUC=0.779]\n"
     ]
    },
    {
     "name": "stdout",
     "output_type": "stream",
     "text": [
      "tensor([-0.2322,  0.0407,  0.9718,  0.1177, -0.0841,  0.0340,  0.3167,  0.1525,\n",
      "         0.2297,  0.1372,  0.0682], device='cuda:0', grad_fn=<DivBackward0>)\n"
     ]
    },
    {
     "name": "stderr",
     "output_type": "stream",
     "text": [
      "Epoch 66: 100%|██████████| 3/3 [00:02<00:00,  1.08it/s, loss=20.6, acc=0.66, AUC=0.709, val_acc=0.692, val_AUC=0.77]\n"
     ]
    },
    {
     "name": "stdout",
     "output_type": "stream",
     "text": [
      "tensor([-0.2559,  0.0440,  0.9859,  0.1160, -0.0758,  0.0472,  0.3343,  0.1554,\n",
      "         0.2395,  0.1312,  0.0654], device='cuda:0', grad_fn=<DivBackward0>)\n"
     ]
    },
    {
     "name": "stderr",
     "output_type": "stream",
     "text": [
      "Epoch 67: 100%|██████████| 3/3 [00:02<00:00,  1.08it/s, loss=20.5, acc=0.654, AUC=0.712, val_acc=0.701, val_AUC=0.773]\n"
     ]
    },
    {
     "name": "stdout",
     "output_type": "stream",
     "text": [
      "tensor([-0.2521,  0.0478,  1.0075,  0.0988, -0.0689,  0.0375,  0.3410,  0.1504,\n",
      "         0.2452,  0.1475,  0.0547], device='cuda:0', grad_fn=<DivBackward0>)\n"
     ]
    },
    {
     "name": "stderr",
     "output_type": "stream",
     "text": [
      "Epoch 68: 100%|██████████| 3/3 [00:02<00:00,  1.08it/s, loss=20.5, acc=0.655, AUC=0.711, val_acc=0.71, val_AUC=0.772]\n"
     ]
    },
    {
     "name": "stdout",
     "output_type": "stream",
     "text": [
      "tensor([-0.2410,  0.0487,  0.9813,  0.1202, -0.0980,  0.0366,  0.3151,  0.1240,\n",
      "         0.2336,  0.1188,  0.0583], device='cuda:0', grad_fn=<DivBackward0>)\n"
     ]
    },
    {
     "name": "stderr",
     "output_type": "stream",
     "text": [
      "Epoch 69: 100%|██████████| 3/3 [00:02<00:00,  1.06it/s, loss=20.4, acc=0.663, AUC=0.717, val_acc=0.68, val_AUC=0.773]\n"
     ]
    },
    {
     "name": "stdout",
     "output_type": "stream",
     "text": [
      "tensor([-0.2403,  0.0594,  0.9587,  0.1735, -0.1037,  0.0248,  0.3126,  0.1167,\n",
      "         0.2352,  0.1186,  0.0308], device='cuda:0', grad_fn=<DivBackward0>)\n"
     ]
    },
    {
     "name": "stderr",
     "output_type": "stream",
     "text": [
      "Epoch 70: 100%|██████████| 3/3 [00:02<00:00,  1.08it/s, loss=20.5, acc=0.655, AUC=0.713, val_acc=0.701, val_AUC=0.783]\n"
     ]
    },
    {
     "name": "stdout",
     "output_type": "stream",
     "text": [
      "tensor([-0.2230,  0.0643,  0.9417,  0.1822, -0.1326,  0.0080,  0.3124,  0.1129,\n",
      "         0.2353,  0.0958,  0.0346], device='cuda:0', grad_fn=<DivBackward0>)\n"
     ]
    },
    {
     "name": "stderr",
     "output_type": "stream",
     "text": [
      "Epoch 71: 100%|██████████| 3/3 [00:02<00:00,  1.08it/s, loss=20.5, acc=0.659, AUC=0.712, val_acc=0.704, val_AUC=0.783]\n"
     ]
    },
    {
     "name": "stdout",
     "output_type": "stream",
     "text": [
      "tensor([-0.2341,  0.0554,  0.9625,  0.1382, -0.1272,  0.0389,  0.3108,  0.1373,\n",
      "         0.2433,  0.1023,  0.0378], device='cuda:0', grad_fn=<DivBackward0>)\n"
     ]
    },
    {
     "name": "stderr",
     "output_type": "stream",
     "text": [
      "Epoch 72: 100%|██████████| 3/3 [00:02<00:00,  1.08it/s, loss=20.4, acc=0.657, AUC=0.715, val_acc=0.689, val_AUC=0.777]\n"
     ]
    },
    {
     "name": "stdout",
     "output_type": "stream",
     "text": [
      "tensor([-0.2255,  0.0438,  0.9766,  0.1453, -0.1259,  0.0379,  0.3020,  0.1396,\n",
      "         0.2362,  0.0908,  0.0383], device='cuda:0', grad_fn=<DivBackward0>)\n"
     ]
    },
    {
     "name": "stderr",
     "output_type": "stream",
     "text": [
      "Epoch 73: 100%|██████████| 3/3 [00:02<00:00,  1.08it/s, loss=20.4, acc=0.659, AUC=0.715, val_acc=0.701, val_AUC=0.773]\n"
     ]
    },
    {
     "name": "stdout",
     "output_type": "stream",
     "text": [
      "tensor([-0.2465,  0.0456,  0.9866,  0.1329, -0.1324,  0.0452,  0.3087,  0.1247,\n",
      "         0.2533,  0.0868,  0.0577], device='cuda:0', grad_fn=<DivBackward0>)\n"
     ]
    },
    {
     "name": "stderr",
     "output_type": "stream",
     "text": [
      "Epoch 74: 100%|██████████| 3/3 [00:02<00:00,  1.06it/s, loss=20.5, acc=0.664, AUC=0.714, val_acc=0.701, val_AUC=0.769]\n"
     ]
    },
    {
     "name": "stdout",
     "output_type": "stream",
     "text": [
      "tensor([-0.2547,  0.0446,  0.9862,  0.1274, -0.1439,  0.0522,  0.2945,  0.1354,\n",
      "         0.2354,  0.0747,  0.0684], device='cuda:0', grad_fn=<DivBackward0>)\n"
     ]
    },
    {
     "name": "stderr",
     "output_type": "stream",
     "text": [
      "Epoch 75: 100%|██████████| 3/3 [00:02<00:00,  1.08it/s, loss=20.4, acc=0.658, AUC=0.718, val_acc=0.692, val_AUC=0.762]\n"
     ]
    },
    {
     "name": "stdout",
     "output_type": "stream",
     "text": [
      "tensor([-0.2680,  0.0382,  1.0188,  0.1213, -0.1336,  0.0550,  0.3070,  0.1393,\n",
      "         0.2514,  0.0852,  0.0700], device='cuda:0', grad_fn=<DivBackward0>)\n"
     ]
    },
    {
     "name": "stderr",
     "output_type": "stream",
     "text": [
      "Epoch 76: 100%|██████████| 3/3 [00:02<00:00,  1.08it/s, loss=20.4, acc=0.665, AUC=0.718, val_acc=0.698, val_AUC=0.779]\n"
     ]
    },
    {
     "name": "stdout",
     "output_type": "stream",
     "text": [
      "tensor([-0.2723,  0.0460,  1.0391,  0.1025, -0.1176,  0.0499,  0.3162,  0.1424,\n",
      "         0.2735,  0.0741,  0.0584], device='cuda:0', grad_fn=<DivBackward0>)\n"
     ]
    },
    {
     "name": "stderr",
     "output_type": "stream",
     "text": [
      "Epoch 77: 100%|██████████| 3/3 [00:02<00:00,  1.08it/s, loss=20.4, acc=0.659, AUC=0.714, val_acc=0.707, val_AUC=0.782]\n"
     ]
    },
    {
     "name": "stdout",
     "output_type": "stream",
     "text": [
      "tensor([-0.2632,  0.0498,  1.0148,  0.1348, -0.1159,  0.0477,  0.3027,  0.1364,\n",
      "         0.2557,  0.0803,  0.0483], device='cuda:0', grad_fn=<DivBackward0>)\n"
     ]
    },
    {
     "name": "stderr",
     "output_type": "stream",
     "text": [
      "Epoch 78: 100%|██████████| 3/3 [00:02<00:00,  1.08it/s, loss=20.4, acc=0.661, AUC=0.715, val_acc=0.692, val_AUC=0.774]\n"
     ]
    },
    {
     "name": "stdout",
     "output_type": "stream",
     "text": [
      "tensor([-0.2795,  0.0598,  1.0506,  0.1198, -0.0813,  0.0300,  0.3326,  0.1424,\n",
      "         0.2537,  0.0813,  0.0505], device='cuda:0', grad_fn=<DivBackward0>)\n"
     ]
    },
    {
     "name": "stderr",
     "output_type": "stream",
     "text": [
      "Epoch 79: 100%|██████████| 3/3 [00:02<00:00,  1.06it/s, loss=20.4, acc=0.659, AUC=0.718, val_acc=0.707, val_AUC=0.778]\n"
     ]
    },
    {
     "name": "stdout",
     "output_type": "stream",
     "text": [
      "tensor([-0.2701,  0.0553,  1.0470,  0.1257, -0.0825,  0.0222,  0.3399,  0.1272,\n",
      "         0.2688,  0.0954,  0.0536], device='cuda:0', grad_fn=<DivBackward0>)\n"
     ]
    },
    {
     "name": "stderr",
     "output_type": "stream",
     "text": [
      "Epoch 80: 100%|██████████| 3/3 [00:02<00:00,  1.08it/s, loss=20.3, acc=0.663, AUC=0.721, val_acc=0.704, val_AUC=0.778]\n"
     ]
    },
    {
     "name": "stdout",
     "output_type": "stream",
     "text": [
      "tensor([-0.2599,  0.0611,  1.0237,  0.1291, -0.0830,  0.0182,  0.3301,  0.1365,\n",
      "         0.2580,  0.0923,  0.0515], device='cuda:0', grad_fn=<DivBackward0>)\n"
     ]
    },
    {
     "name": "stderr",
     "output_type": "stream",
     "text": [
      "Epoch 81: 100%|██████████| 3/3 [00:02<00:00,  1.08it/s, loss=20.4, acc=0.658, AUC=0.715, val_acc=0.683, val_AUC=0.769]\n"
     ]
    },
    {
     "name": "stdout",
     "output_type": "stream",
     "text": [
      "tensor([-0.2600,  0.0548,  1.0196,  0.1319, -0.0746,  0.0047,  0.3292,  0.1244,\n",
      "         0.2462,  0.1017,  0.0509], device='cuda:0', grad_fn=<DivBackward0>)\n"
     ]
    },
    {
     "name": "stderr",
     "output_type": "stream",
     "text": [
      "Epoch 82: 100%|██████████| 3/3 [00:02<00:00,  1.08it/s, loss=20.3, acc=0.668, AUC=0.719, val_acc=0.692, val_AUC=0.766]\n"
     ]
    },
    {
     "name": "stdout",
     "output_type": "stream",
     "text": [
      "tensor([-0.2629,  0.0622,  1.0027,  0.1495, -0.0841,  0.0022,  0.3409,  0.1278,\n",
      "         0.2516,  0.1037,  0.0381], device='cuda:0', grad_fn=<DivBackward0>)\n"
     ]
    },
    {
     "name": "stderr",
     "output_type": "stream",
     "text": [
      "Epoch 83: 100%|██████████| 3/3 [00:02<00:00,  1.08it/s, loss=20.3, acc=0.666, AUC=0.72, val_acc=0.704, val_AUC=0.767]\n"
     ]
    },
    {
     "name": "stdout",
     "output_type": "stream",
     "text": [
      "tensor([-2.5559e-01,  5.7261e-02,  1.0023e+00,  1.3880e-01, -6.7475e-02,\n",
      "        -7.6466e-04,  3.4108e-01,  1.2318e-01,  2.5904e-01,  1.0873e-01,\n",
      "         4.4926e-02], device='cuda:0', grad_fn=<DivBackward0>)\n"
     ]
    },
    {
     "name": "stderr",
     "output_type": "stream",
     "text": [
      "Epoch 84: 100%|██████████| 3/3 [00:02<00:00,  1.06it/s, loss=20.4, acc=0.665, AUC=0.717, val_acc=0.695, val_AUC=0.783]\n"
     ]
    },
    {
     "name": "stdout",
     "output_type": "stream",
     "text": [
      "tensor([-0.2447,  0.0601,  0.9551,  0.1648, -0.1045,  0.0070,  0.3071,  0.1131,\n",
      "         0.2430,  0.0933,  0.0421], device='cuda:0', grad_fn=<DivBackward0>)\n"
     ]
    },
    {
     "name": "stderr",
     "output_type": "stream",
     "text": [
      "Epoch 85: 100%|██████████| 3/3 [00:02<00:00,  1.08it/s, loss=20.4, acc=0.664, AUC=0.716, val_acc=0.713, val_AUC=0.778]\n"
     ]
    },
    {
     "name": "stdout",
     "output_type": "stream",
     "text": [
      "tensor([-0.2582,  0.0460,  0.9770,  0.1583, -0.0972,  0.0071,  0.3186,  0.1237,\n",
      "         0.2526,  0.1018,  0.0474], device='cuda:0', grad_fn=<DivBackward0>)\n"
     ]
    },
    {
     "name": "stderr",
     "output_type": "stream",
     "text": [
      "Epoch 86: 100%|██████████| 3/3 [00:02<00:00,  1.08it/s, loss=20.4, acc=0.664, AUC=0.714, val_acc=0.698, val_AUC=0.778]\n"
     ]
    },
    {
     "name": "stdout",
     "output_type": "stream",
     "text": [
      "tensor([-0.2565,  0.0574,  1.0086,  0.1458, -0.0895,  0.0189,  0.3363,  0.1296,\n",
      "         0.2622,  0.1216,  0.0547], device='cuda:0', grad_fn=<DivBackward0>)\n"
     ]
    },
    {
     "name": "stderr",
     "output_type": "stream",
     "text": [
      "Epoch 87: 100%|██████████| 3/3 [00:02<00:00,  1.08it/s, loss=20.5, acc=0.663, AUC=0.713, val_acc=0.707, val_AUC=0.774]\n"
     ]
    },
    {
     "name": "stdout",
     "output_type": "stream",
     "text": [
      "tensor([-0.2779,  0.0471,  0.9982,  0.1396, -0.1141,  0.0154,  0.3252,  0.1473,\n",
      "         0.2603,  0.1044,  0.0522], device='cuda:0', grad_fn=<DivBackward0>)\n"
     ]
    },
    {
     "name": "stderr",
     "output_type": "stream",
     "text": [
      "Epoch 88: 100%|██████████| 3/3 [00:02<00:00,  1.08it/s, loss=20.2, acc=0.67, AUC=0.721, val_acc=0.704, val_AUC=0.775]\n"
     ]
    },
    {
     "name": "stdout",
     "output_type": "stream",
     "text": [
      "tensor([-0.2917,  0.0580,  1.0360,  0.1184, -0.1190,  0.0220,  0.3270,  0.1607,\n",
      "         0.2607,  0.1155,  0.0653], device='cuda:0', grad_fn=<DivBackward0>)\n"
     ]
    },
    {
     "name": "stderr",
     "output_type": "stream",
     "text": [
      "Epoch 89: 100%|██████████| 3/3 [00:02<00:00,  1.06it/s, loss=20.5, acc=0.66, AUC=0.715, val_acc=0.713, val_AUC=0.779]\n"
     ]
    },
    {
     "name": "stdout",
     "output_type": "stream",
     "text": [
      "tensor([-0.2726,  0.0440,  1.0099,  0.1238, -0.1217,  0.0224,  0.3061,  0.1501,\n",
      "         0.2680,  0.1253,  0.0421], device='cuda:0', grad_fn=<DivBackward0>)\n"
     ]
    },
    {
     "name": "stderr",
     "output_type": "stream",
     "text": [
      "Epoch 90: 100%|██████████| 3/3 [00:02<00:00,  1.08it/s, loss=20.4, acc=0.663, AUC=0.716, val_acc=0.701, val_AUC=0.77]\n"
     ]
    },
    {
     "name": "stdout",
     "output_type": "stream",
     "text": [
      "tensor([-0.2796,  0.0573,  0.9931,  0.1273, -0.1196,  0.0117,  0.3262,  0.1492,\n",
      "         0.2605,  0.1108,  0.0441], device='cuda:0', grad_fn=<DivBackward0>)\n"
     ]
    },
    {
     "name": "stderr",
     "output_type": "stream",
     "text": [
      "Epoch 91: 100%|██████████| 3/3 [00:02<00:00,  1.08it/s, loss=20.4, acc=0.659, AUC=0.716, val_acc=0.695, val_AUC=0.779]\n"
     ]
    },
    {
     "name": "stdout",
     "output_type": "stream",
     "text": [
      "tensor([-0.2901,  0.0584,  1.0214,  0.1364, -0.1204,  0.0035,  0.3262,  0.1547,\n",
      "         0.2820,  0.1116,  0.0462], device='cuda:0', grad_fn=<DivBackward0>)\n"
     ]
    },
    {
     "name": "stderr",
     "output_type": "stream",
     "text": [
      "Epoch 92: 100%|██████████| 3/3 [00:02<00:00,  1.08it/s, loss=20.4, acc=0.664, AUC=0.716, val_acc=0.704, val_AUC=0.773]\n"
     ]
    },
    {
     "name": "stdout",
     "output_type": "stream",
     "text": [
      "tensor([-0.2849,  0.0531,  0.9998,  0.1408, -0.1261,  0.0121,  0.3174,  0.1560,\n",
      "         0.2763,  0.1162,  0.0473], device='cuda:0', grad_fn=<DivBackward0>)\n"
     ]
    },
    {
     "name": "stderr",
     "output_type": "stream",
     "text": [
      "Epoch 93: 100%|██████████| 3/3 [00:02<00:00,  1.08it/s, loss=20.4, acc=0.659, AUC=0.718, val_acc=0.704, val_AUC=0.778]\n"
     ]
    },
    {
     "name": "stdout",
     "output_type": "stream",
     "text": [
      "tensor([-0.2931,  0.0543,  0.9909,  0.1371, -0.1387,  0.0249,  0.3083,  0.1596,\n",
      "         0.2684,  0.1098,  0.0435], device='cuda:0', grad_fn=<DivBackward0>)\n"
     ]
    },
    {
     "name": "stderr",
     "output_type": "stream",
     "text": [
      "Epoch 94: 100%|██████████| 3/3 [00:02<00:00,  1.06it/s, loss=20.3, acc=0.67, AUC=0.721, val_acc=0.68, val_AUC=0.773]\n"
     ]
    },
    {
     "name": "stdout",
     "output_type": "stream",
     "text": [
      "tensor([-0.2729,  0.0511,  0.9454,  0.1519, -0.1657,  0.0187,  0.2689,  0.1382,\n",
      "         0.2521,  0.1030,  0.0336], device='cuda:0', grad_fn=<DivBackward0>)\n"
     ]
    },
    {
     "name": "stderr",
     "output_type": "stream",
     "text": [
      "Epoch 95: 100%|██████████| 3/3 [00:02<00:00,  1.08it/s, loss=20.4, acc=0.66, AUC=0.719, val_acc=0.707, val_AUC=0.791]\n"
     ]
    },
    {
     "name": "stdout",
     "output_type": "stream",
     "text": [
      "tensor([-0.2727,  0.0411,  0.9629,  0.1440, -0.1696,  0.0163,  0.2620,  0.1290,\n",
      "         0.2481,  0.0875,  0.0453], device='cuda:0', grad_fn=<DivBackward0>)\n"
     ]
    },
    {
     "name": "stderr",
     "output_type": "stream",
     "text": [
      "Epoch 96: 100%|██████████| 3/3 [00:02<00:00,  1.08it/s, loss=20.3, acc=0.668, AUC=0.722, val_acc=0.701, val_AUC=0.783]\n"
     ]
    },
    {
     "name": "stdout",
     "output_type": "stream",
     "text": [
      "tensor([-0.2758,  0.0354,  0.9863,  0.1342, -0.1409,  0.0243,  0.2857,  0.1498,\n",
      "         0.2626,  0.0971,  0.0475], device='cuda:0', grad_fn=<DivBackward0>)\n"
     ]
    },
    {
     "name": "stderr",
     "output_type": "stream",
     "text": [
      "Epoch 97: 100%|██████████| 3/3 [00:02<00:00,  1.08it/s, loss=20.3, acc=0.664, AUC=0.717, val_acc=0.71, val_AUC=0.782]\n"
     ]
    },
    {
     "name": "stdout",
     "output_type": "stream",
     "text": [
      "tensor([-0.3068,  0.0424,  1.0194,  0.1229, -0.1270,  0.0206,  0.3298,  0.1658,\n",
      "         0.2808,  0.1090,  0.0577], device='cuda:0', grad_fn=<DivBackward0>)\n"
     ]
    },
    {
     "name": "stderr",
     "output_type": "stream",
     "text": [
      "Epoch 98: 100%|██████████| 3/3 [00:02<00:00,  1.08it/s, loss=20.2, acc=0.668, AUC=0.723, val_acc=0.701, val_AUC=0.781]\n"
     ]
    },
    {
     "name": "stdout",
     "output_type": "stream",
     "text": [
      "tensor([-0.3056,  0.0501,  1.0027,  0.1340, -0.1303,  0.0261,  0.3071,  0.1677,\n",
      "         0.2706,  0.1148,  0.0638], device='cuda:0', grad_fn=<DivBackward0>)\n"
     ]
    },
    {
     "name": "stderr",
     "output_type": "stream",
     "text": [
      "Epoch 99: 100%|██████████| 3/3 [00:02<00:00,  1.06it/s, loss=20.3, acc=0.657, AUC=0.72, val_acc=0.701, val_AUC=0.77]\n"
     ]
    },
    {
     "name": "stdout",
     "output_type": "stream",
     "text": [
      "tensor([-0.3109,  0.0286,  1.0140,  0.1332, -0.1248,  0.0292,  0.3146,  0.1537,\n",
      "         0.2684,  0.0947,  0.0688], device='cuda:0', grad_fn=<DivBackward0>)\n"
     ]
    },
    {
     "name": "stderr",
     "output_type": "stream",
     "text": [
      "Epoch 100: 100%|██████████| 3/3 [00:02<00:00,  1.08it/s, loss=20.3, acc=0.662, AUC=0.72, val_acc=0.722, val_AUC=0.778]\n"
     ]
    },
    {
     "name": "stdout",
     "output_type": "stream",
     "text": [
      "tensor([-0.3196,  0.0369,  1.0446,  0.1302, -0.1125,  0.0330,  0.3503,  0.1740,\n",
      "         0.2874,  0.0913,  0.0735], device='cuda:0', grad_fn=<DivBackward0>)\n"
     ]
    },
    {
     "name": "stderr",
     "output_type": "stream",
     "text": [
      "Epoch 101: 100%|██████████| 3/3 [00:02<00:00,  1.07it/s, loss=20.4, acc=0.665, AUC=0.717, val_acc=0.695, val_AUC=0.768]\n"
     ]
    },
    {
     "name": "stdout",
     "output_type": "stream",
     "text": [
      "tensor([-0.3388,  0.0504,  1.0784,  0.1244, -0.0760,  0.0169,  0.3844,  0.1853,\n",
      "         0.3000,  0.1187,  0.0869], device='cuda:0', grad_fn=<DivBackward0>)\n"
     ]
    },
    {
     "name": "stderr",
     "output_type": "stream",
     "text": [
      "Epoch 102: 100%|██████████| 3/3 [00:02<00:00,  1.07it/s, loss=20.3, acc=0.663, AUC=0.723, val_acc=0.707, val_AUC=0.778]\n"
     ]
    },
    {
     "name": "stdout",
     "output_type": "stream",
     "text": [
      "tensor([-0.3249,  0.0615,  1.0405,  0.1571, -0.0919, -0.0157,  0.3725,  0.1574,\n",
      "         0.2974,  0.1129,  0.0536], device='cuda:0', grad_fn=<DivBackward0>)\n"
     ]
    },
    {
     "name": "stderr",
     "output_type": "stream",
     "text": [
      "Epoch 103: 100%|██████████| 3/3 [00:02<00:00,  1.08it/s, loss=20.3, acc=0.661, AUC=0.718, val_acc=0.686, val_AUC=0.774]\n"
     ]
    },
    {
     "name": "stdout",
     "output_type": "stream",
     "text": [
      "tensor([-0.3178,  0.0532,  1.0167,  0.1669, -0.1290,  0.0038,  0.3351,  0.1442,\n",
      "         0.2706,  0.0957,  0.0511], device='cuda:0', grad_fn=<DivBackward0>)\n"
     ]
    },
    {
     "name": "stderr",
     "output_type": "stream",
     "text": [
      "Epoch 104: 100%|██████████| 3/3 [00:02<00:00,  1.06it/s, loss=20.3, acc=0.661, AUC=0.718, val_acc=0.701, val_AUC=0.774]\n"
     ]
    },
    {
     "name": "stdout",
     "output_type": "stream",
     "text": [
      "tensor([-0.3239,  0.0477,  1.0198,  0.1545, -0.1173,  0.0168,  0.3137,  0.1567,\n",
      "         0.2723,  0.0927,  0.0574], device='cuda:0', grad_fn=<DivBackward0>)\n"
     ]
    },
    {
     "name": "stderr",
     "output_type": "stream",
     "text": [
      "Epoch 105: 100%|██████████| 3/3 [00:02<00:00,  1.08it/s, loss=20.2, acc=0.664, AUC=0.722, val_acc=0.698, val_AUC=0.777]\n"
     ]
    },
    {
     "name": "stdout",
     "output_type": "stream",
     "text": [
      "tensor([-0.3229,  0.0455,  1.0273,  0.1407, -0.1098,  0.0161,  0.3276,  0.1591,\n",
      "         0.2802,  0.0868,  0.0679], device='cuda:0', grad_fn=<DivBackward0>)\n"
     ]
    },
    {
     "name": "stderr",
     "output_type": "stream",
     "text": [
      "Epoch 106: 100%|██████████| 3/3 [00:02<00:00,  1.08it/s, loss=20.3, acc=0.664, AUC=0.722, val_acc=0.692, val_AUC=0.773]\n"
     ]
    },
    {
     "name": "stdout",
     "output_type": "stream",
     "text": [
      "tensor([-0.3289,  0.0478,  1.0529,  0.1332, -0.0984,  0.0163,  0.3402,  0.1656,\n",
      "         0.2885,  0.1009,  0.0752], device='cuda:0', grad_fn=<DivBackward0>)\n"
     ]
    },
    {
     "name": "stderr",
     "output_type": "stream",
     "text": [
      "Epoch 107: 100%|██████████| 3/3 [00:02<00:00,  1.08it/s, loss=20.3, acc=0.662, AUC=0.719, val_acc=0.707, val_AUC=0.78]\n"
     ]
    },
    {
     "name": "stdout",
     "output_type": "stream",
     "text": [
      "tensor([-0.3208,  0.0516,  1.0573,  0.1341, -0.0842,  0.0059,  0.3509,  0.1602,\n",
      "         0.2847,  0.0814,  0.0885], device='cuda:0', grad_fn=<DivBackward0>)\n"
     ]
    },
    {
     "name": "stderr",
     "output_type": "stream",
     "text": [
      "Epoch 108: 100%|██████████| 3/3 [00:02<00:00,  1.08it/s, loss=20.3, acc=0.663, AUC=0.72, val_acc=0.719, val_AUC=0.783]\n"
     ]
    },
    {
     "name": "stdout",
     "output_type": "stream",
     "text": [
      "tensor([-0.3200,  0.0521,  1.0262,  0.1383, -0.1001,  0.0105,  0.3439,  0.1475,\n",
      "         0.2661,  0.0737,  0.0666], device='cuda:0', grad_fn=<DivBackward0>)\n"
     ]
    },
    {
     "name": "stderr",
     "output_type": "stream",
     "text": [
      "Epoch 109: 100%|██████████| 3/3 [00:02<00:00,  1.06it/s, loss=20.3, acc=0.664, AUC=0.721, val_acc=0.707, val_AUC=0.774]\n"
     ]
    },
    {
     "name": "stdout",
     "output_type": "stream",
     "text": [
      "tensor([-0.3194,  0.0516,  1.0414,  0.1464, -0.1053,  0.0179,  0.3363,  0.1582,\n",
      "         0.2782,  0.0755,  0.0730], device='cuda:0', grad_fn=<DivBackward0>)\n"
     ]
    },
    {
     "name": "stderr",
     "output_type": "stream",
     "text": [
      "Epoch 110: 100%|██████████| 3/3 [00:02<00:00,  1.08it/s, loss=20.3, acc=0.659, AUC=0.719, val_acc=0.713, val_AUC=0.788]\n"
     ]
    },
    {
     "name": "stdout",
     "output_type": "stream",
     "text": [
      "tensor([-0.3245,  0.0610,  1.0677,  0.1467, -0.1094,  0.0155,  0.3394,  0.1569,\n",
      "         0.2866,  0.0747,  0.0794], device='cuda:0', grad_fn=<DivBackward0>)\n"
     ]
    },
    {
     "name": "stderr",
     "output_type": "stream",
     "text": [
      "Epoch 111: 100%|██████████| 3/3 [00:02<00:00,  1.08it/s, loss=20.3, acc=0.668, AUC=0.719, val_acc=0.698, val_AUC=0.772]\n"
     ]
    },
    {
     "name": "stdout",
     "output_type": "stream",
     "text": [
      "tensor([-0.3442,  0.0539,  1.0954,  0.1292, -0.0990,  0.0170,  0.3480,  0.1555,\n",
      "         0.2783,  0.0656,  0.0819], device='cuda:0', grad_fn=<DivBackward0>)\n"
     ]
    },
    {
     "name": "stderr",
     "output_type": "stream",
     "text": [
      "Epoch 112: 100%|██████████| 3/3 [00:02<00:00,  1.08it/s, loss=20.3, acc=0.661, AUC=0.719, val_acc=0.71, val_AUC=0.764]\n"
     ]
    },
    {
     "name": "stdout",
     "output_type": "stream",
     "text": [
      "tensor([-0.3360,  0.0578,  1.0688,  0.1442, -0.1081,  0.0059,  0.3496,  0.1481,\n",
      "         0.2759,  0.0783,  0.0621], device='cuda:0', grad_fn=<DivBackward0>)\n"
     ]
    },
    {
     "name": "stderr",
     "output_type": "stream",
     "text": [
      "Epoch 113: 100%|██████████| 3/3 [00:02<00:00,  1.08it/s, loss=20.2, acc=0.661, AUC=0.725, val_acc=0.719, val_AUC=0.782]\n"
     ]
    },
    {
     "name": "stdout",
     "output_type": "stream",
     "text": [
      "tensor([-3.5369e-01,  6.3712e-02,  1.1045e+00,  1.4623e-01, -9.1996e-02,\n",
      "         2.0675e-04,  3.7695e-01,  1.5422e-01,  2.9832e-01,  8.9807e-02,\n",
      "         8.7014e-02], device='cuda:0', grad_fn=<DivBackward0>)\n"
     ]
    },
    {
     "name": "stderr",
     "output_type": "stream",
     "text": [
      "Epoch 114: 100%|██████████| 3/3 [00:02<00:00,  1.05it/s, loss=20.3, acc=0.666, AUC=0.72, val_acc=0.704, val_AUC=0.774]\n"
     ]
    },
    {
     "name": "stdout",
     "output_type": "stream",
     "text": [
      "tensor([-0.3551,  0.0527,  1.1011,  0.1295, -0.1035,  0.0068,  0.3574,  0.1669,\n",
      "         0.2914,  0.0911,  0.0645], device='cuda:0', grad_fn=<DivBackward0>)\n"
     ]
    },
    {
     "name": "stderr",
     "output_type": "stream",
     "text": [
      "Epoch 115: 100%|██████████| 3/3 [00:02<00:00,  1.08it/s, loss=20.3, acc=0.665, AUC=0.722, val_acc=0.707, val_AUC=0.779]\n"
     ]
    },
    {
     "name": "stdout",
     "output_type": "stream",
     "text": [
      "tensor([-0.3535,  0.0562,  1.0908,  0.1458, -0.1124, -0.0057,  0.3599,  0.1540,\n",
      "         0.3022,  0.0769,  0.0755], device='cuda:0', grad_fn=<DivBackward0>)\n"
     ]
    },
    {
     "name": "stderr",
     "output_type": "stream",
     "text": [
      "Epoch 116: 100%|██████████| 3/3 [00:02<00:00,  1.08it/s, loss=20.3, acc=0.664, AUC=0.72, val_acc=0.689, val_AUC=0.777]\n"
     ]
    },
    {
     "name": "stdout",
     "output_type": "stream",
     "text": [
      "tensor([-0.3680,  0.0570,  1.0915,  0.1451, -0.0991, -0.0037,  0.3879,  0.1594,\n",
      "         0.3085,  0.0851,  0.0792], device='cuda:0', grad_fn=<DivBackward0>)\n"
     ]
    },
    {
     "name": "stderr",
     "output_type": "stream",
     "text": [
      "Epoch 117: 100%|██████████| 3/3 [00:02<00:00,  1.08it/s, loss=20.3, acc=0.66, AUC=0.72, val_acc=0.716, val_AUC=0.777]\n"
     ]
    },
    {
     "name": "stdout",
     "output_type": "stream",
     "text": [
      "tensor([-0.3687,  0.0483,  1.0855,  0.1353, -0.0988,  0.0246,  0.3677,  0.1714,\n",
      "         0.3076,  0.0736,  0.0976], device='cuda:0', grad_fn=<DivBackward0>)\n"
     ]
    },
    {
     "name": "stderr",
     "output_type": "stream",
     "text": [
      "Epoch 118: 100%|██████████| 3/3 [00:02<00:00,  1.08it/s, loss=20.2, acc=0.66, AUC=0.723, val_acc=0.731, val_AUC=0.789]\n"
     ]
    },
    {
     "name": "stdout",
     "output_type": "stream",
     "text": [
      "tensor([-0.3534,  0.0529,  1.0275,  0.1400, -0.1185,  0.0413,  0.3390,  0.1730,\n",
      "         0.2984,  0.0643,  0.0825], device='cuda:0', grad_fn=<DivBackward0>)\n"
     ]
    },
    {
     "name": "stderr",
     "output_type": "stream",
     "text": [
      "Epoch 119: 100%|██████████| 3/3 [00:02<00:00,  1.06it/s, loss=20.2, acc=0.662, AUC=0.723, val_acc=0.719, val_AUC=0.778]\n"
     ]
    },
    {
     "name": "stdout",
     "output_type": "stream",
     "text": [
      "tensor([-0.3384,  0.0444,  1.0288,  0.1461, -0.1232,  0.0322,  0.3581,  0.1669,\n",
      "         0.2899,  0.0612,  0.0869], device='cuda:0', grad_fn=<DivBackward0>)\n"
     ]
    },
    {
     "name": "stderr",
     "output_type": "stream",
     "text": [
      "Epoch 120: 100%|██████████| 3/3 [00:02<00:00,  1.08it/s, loss=20.2, acc=0.664, AUC=0.724, val_acc=0.719, val_AUC=0.78]\n"
     ]
    },
    {
     "name": "stdout",
     "output_type": "stream",
     "text": [
      "tensor([-0.3295,  0.0480,  1.0092,  0.1746, -0.1151,  0.0161,  0.3505,  0.1534,\n",
      "         0.2859,  0.0680,  0.0719], device='cuda:0', grad_fn=<DivBackward0>)\n"
     ]
    },
    {
     "name": "stderr",
     "output_type": "stream",
     "text": [
      "Epoch 121: 100%|██████████| 3/3 [00:02<00:00,  1.08it/s, loss=20.3, acc=0.664, AUC=0.72, val_acc=0.704, val_AUC=0.78]\n"
     ]
    },
    {
     "name": "stdout",
     "output_type": "stream",
     "text": [
      "tensor([-0.3546,  0.0680,  1.0753,  0.1520, -0.0902,  0.0169,  0.3777,  0.1789,\n",
      "         0.3072,  0.0667,  0.0926], device='cuda:0', grad_fn=<DivBackward0>)\n"
     ]
    },
    {
     "name": "stderr",
     "output_type": "stream",
     "text": [
      "Epoch 122: 100%|██████████| 3/3 [00:02<00:00,  1.08it/s, loss=20.3, acc=0.666, AUC=0.72, val_acc=0.71, val_AUC=0.776]\n"
     ]
    },
    {
     "name": "stdout",
     "output_type": "stream",
     "text": [
      "tensor([-0.3457,  0.0642,  1.0712,  0.1743, -0.0974,  0.0085,  0.3647,  0.1666,\n",
      "         0.2904,  0.0593,  0.0916], device='cuda:0', grad_fn=<DivBackward0>)\n"
     ]
    },
    {
     "name": "stderr",
     "output_type": "stream",
     "text": [
      "Epoch 123: 100%|██████████| 3/3 [00:02<00:00,  1.07it/s, loss=20.3, acc=0.668, AUC=0.721, val_acc=0.677, val_AUC=0.764]\n"
     ]
    },
    {
     "name": "stdout",
     "output_type": "stream",
     "text": [
      "tensor([-0.3434,  0.0617,  1.0509,  0.1639, -0.0980, -0.0020,  0.3504,  0.1547,\n",
      "         0.2826,  0.0700,  0.0769], device='cuda:0', grad_fn=<DivBackward0>)\n"
     ]
    },
    {
     "name": "stderr",
     "output_type": "stream",
     "text": [
      "Epoch 124: 100%|██████████| 3/3 [00:02<00:00,  1.06it/s, loss=20.3, acc=0.668, AUC=0.722, val_acc=0.698, val_AUC=0.781]\n"
     ]
    },
    {
     "name": "stdout",
     "output_type": "stream",
     "text": [
      "tensor([-3.4274e-01,  7.3971e-02,  1.0587e+00,  1.5143e-01, -9.1364e-02,\n",
      "         7.0927e-04,  3.6582e-01,  1.5310e-01,  2.8522e-01,  7.6505e-02,\n",
      "         9.6008e-02], device='cuda:0', grad_fn=<DivBackward0>)\n"
     ]
    },
    {
     "name": "stderr",
     "output_type": "stream",
     "text": [
      "Epoch 125: 100%|██████████| 3/3 [00:02<00:00,  1.08it/s, loss=20.3, acc=0.662, AUC=0.721, val_acc=0.695, val_AUC=0.78]\n"
     ]
    },
    {
     "name": "stdout",
     "output_type": "stream",
     "text": [
      "tensor([-0.3615,  0.0648,  1.0737,  0.1454, -0.0808, -0.0048,  0.3811,  0.1507,\n",
      "         0.2949,  0.0680,  0.0753], device='cuda:0', grad_fn=<DivBackward0>)\n"
     ]
    },
    {
     "name": "stderr",
     "output_type": "stream",
     "text": [
      "Epoch 126: 100%|██████████| 3/3 [00:02<00:00,  1.07it/s, loss=20.2, acc=0.671, AUC=0.725, val_acc=0.704, val_AUC=0.778]\n"
     ]
    },
    {
     "name": "stdout",
     "output_type": "stream",
     "text": [
      "tensor([-0.3680,  0.0740,  1.0787,  0.1362, -0.0728,  0.0094,  0.3795,  0.1645,\n",
      "         0.2927,  0.0726,  0.0887], device='cuda:0', grad_fn=<DivBackward0>)\n"
     ]
    },
    {
     "name": "stderr",
     "output_type": "stream",
     "text": [
      "Epoch 127: 100%|██████████| 3/3 [00:02<00:00,  1.08it/s, loss=20.3, acc=0.676, AUC=0.722, val_acc=0.704, val_AUC=0.776]\n"
     ]
    },
    {
     "name": "stdout",
     "output_type": "stream",
     "text": [
      "tensor([-0.3902,  0.0630,  1.1250,  0.1233, -0.0676,  0.0090,  0.4021,  0.1746,\n",
      "         0.3040,  0.1038,  0.0812], device='cuda:0', grad_fn=<DivBackward0>)\n"
     ]
    },
    {
     "name": "stderr",
     "output_type": "stream",
     "text": [
      "Epoch 128: 100%|██████████| 3/3 [00:02<00:00,  1.08it/s, loss=20.2, acc=0.667, AUC=0.725, val_acc=0.695, val_AUC=0.772]\n"
     ]
    },
    {
     "name": "stdout",
     "output_type": "stream",
     "text": [
      "tensor([-0.3887,  0.0639,  1.1227,  0.1373, -0.0670,  0.0124,  0.3983,  0.1832,\n",
      "         0.3031,  0.0757,  0.0921], device='cuda:0', grad_fn=<DivBackward0>)\n"
     ]
    },
    {
     "name": "stderr",
     "output_type": "stream",
     "text": [
      "Epoch 129: 100%|██████████| 3/3 [00:02<00:00,  1.05it/s, loss=20.3, acc=0.667, AUC=0.72, val_acc=0.716, val_AUC=0.78]\n"
     ]
    },
    {
     "name": "stdout",
     "output_type": "stream",
     "text": [
      "tensor([-0.3753,  0.0589,  1.1037,  0.1371, -0.0686,  0.0189,  0.3972,  0.1959,\n",
      "         0.2890,  0.0656,  0.0989], device='cuda:0', grad_fn=<DivBackward0>)\n"
     ]
    },
    {
     "name": "stderr",
     "output_type": "stream",
     "text": [
      "Epoch 130: 100%|██████████| 3/3 [00:02<00:00,  1.08it/s, loss=20.2, acc=0.665, AUC=0.721, val_acc=0.701, val_AUC=0.775]\n"
     ]
    },
    {
     "name": "stdout",
     "output_type": "stream",
     "text": [
      "tensor([-0.3721,  0.0618,  1.1083,  0.1454, -0.0706,  0.0099,  0.3929,  0.1778,\n",
      "         0.2996,  0.0629,  0.0907], device='cuda:0', grad_fn=<DivBackward0>)\n"
     ]
    },
    {
     "name": "stderr",
     "output_type": "stream",
     "text": [
      "Epoch 131: 100%|██████████| 3/3 [00:02<00:00,  1.08it/s, loss=20.2, acc=0.659, AUC=0.724, val_acc=0.725, val_AUC=0.775]\n"
     ]
    },
    {
     "name": "stdout",
     "output_type": "stream",
     "text": [
      "tensor([-0.3729,  0.0546,  1.1154,  0.1387, -0.0610,  0.0056,  0.3968,  0.1791,\n",
      "         0.3125,  0.0822,  0.0920], device='cuda:0', grad_fn=<DivBackward0>)\n"
     ]
    },
    {
     "name": "stderr",
     "output_type": "stream",
     "text": [
      "Epoch 132: 100%|██████████| 3/3 [00:02<00:00,  1.08it/s, loss=20.2, acc=0.664, AUC=0.721, val_acc=0.716, val_AUC=0.779]\n"
     ]
    },
    {
     "name": "stdout",
     "output_type": "stream",
     "text": [
      "tensor([-0.3854,  0.0590,  1.1236,  0.1326, -0.0697,  0.0029,  0.4069,  0.1858,\n",
      "         0.3108,  0.0866,  0.0982], device='cuda:0', grad_fn=<DivBackward0>)\n"
     ]
    },
    {
     "name": "stderr",
     "output_type": "stream",
     "text": [
      "Epoch 133: 100%|██████████| 3/3 [00:02<00:00,  1.08it/s, loss=20.3, acc=0.664, AUC=0.721, val_acc=0.704, val_AUC=0.781]\n"
     ]
    },
    {
     "name": "stdout",
     "output_type": "stream",
     "text": [
      "tensor([-0.3772,  0.0688,  1.1302,  0.1454, -0.0632, -0.0040,  0.3945,  0.1811,\n",
      "         0.3078,  0.0768,  0.0997], device='cuda:0', grad_fn=<DivBackward0>)\n"
     ]
    },
    {
     "name": "stderr",
     "output_type": "stream",
     "text": [
      "Epoch 134: 100%|██████████| 3/3 [00:02<00:00,  1.06it/s, loss=20.2, acc=0.67, AUC=0.723, val_acc=0.701, val_AUC=0.769]\n"
     ]
    },
    {
     "name": "stdout",
     "output_type": "stream",
     "text": [
      "tensor([-3.8047e-01,  5.8052e-02,  1.1116e+00,  1.5929e-01, -6.8067e-02,\n",
      "         6.3055e-04,  3.8555e-01,  1.7583e-01,  3.0056e-01,  6.8189e-02,\n",
      "         8.5537e-02], device='cuda:0', grad_fn=<DivBackward0>)\n"
     ]
    },
    {
     "name": "stderr",
     "output_type": "stream",
     "text": [
      "Epoch 135: 100%|██████████| 3/3 [00:02<00:00,  1.08it/s, loss=20.3, acc=0.669, AUC=0.721, val_acc=0.71, val_AUC=0.781]\n"
     ]
    },
    {
     "name": "stdout",
     "output_type": "stream",
     "text": [
      "tensor([-0.3665,  0.0680,  1.1141,  0.1527, -0.0763,  0.0058,  0.3891,  0.1768,\n",
      "         0.3063,  0.0827,  0.0844], device='cuda:0', grad_fn=<DivBackward0>)\n"
     ]
    },
    {
     "name": "stderr",
     "output_type": "stream",
     "text": [
      "Epoch 136: 100%|██████████| 3/3 [00:02<00:00,  1.07it/s, loss=20.2, acc=0.667, AUC=0.725, val_acc=0.719, val_AUC=0.774]\n"
     ]
    },
    {
     "name": "stdout",
     "output_type": "stream",
     "text": [
      "tensor([-0.3634,  0.0659,  1.0970,  0.1616, -0.0763,  0.0044,  0.3903,  0.1725,\n",
      "         0.2950,  0.0865,  0.0908], device='cuda:0', grad_fn=<DivBackward0>)\n"
     ]
    },
    {
     "name": "stderr",
     "output_type": "stream",
     "text": [
      "Epoch 137: 100%|██████████| 3/3 [00:02<00:00,  1.08it/s, loss=20.2, acc=0.666, AUC=0.725, val_acc=0.689, val_AUC=0.774]\n"
     ]
    },
    {
     "name": "stdout",
     "output_type": "stream",
     "text": [
      "tensor([-0.3455,  0.0683,  1.0528,  0.1644, -0.0892, -0.0082,  0.3688,  0.1546,\n",
      "         0.2941,  0.0674,  0.0714], device='cuda:0', grad_fn=<DivBackward0>)\n"
     ]
    },
    {
     "name": "stderr",
     "output_type": "stream",
     "text": [
      "Epoch 138: 100%|██████████| 3/3 [00:02<00:00,  1.08it/s, loss=20.3, acc=0.665, AUC=0.719, val_acc=0.707, val_AUC=0.775]\n"
     ]
    },
    {
     "name": "stdout",
     "output_type": "stream",
     "text": [
      "tensor([-0.3472,  0.0592,  1.0788,  0.1667, -0.0955,  0.0082,  0.3833,  0.1715,\n",
      "         0.2977,  0.0953,  0.0825], device='cuda:0', grad_fn=<DivBackward0>)\n"
     ]
    },
    {
     "name": "stderr",
     "output_type": "stream",
     "text": [
      "Epoch 139: 100%|██████████| 3/3 [00:02<00:00,  1.06it/s, loss=20.2, acc=0.668, AUC=0.723, val_acc=0.707, val_AUC=0.783]\n"
     ]
    },
    {
     "name": "stdout",
     "output_type": "stream",
     "text": [
      "tensor([-0.3456,  0.0663,  1.0653,  0.1593, -0.0886, -0.0028,  0.3951,  0.1673,\n",
      "         0.2906,  0.0788,  0.0880], device='cuda:0', grad_fn=<DivBackward0>)\n"
     ]
    },
    {
     "name": "stderr",
     "output_type": "stream",
     "text": [
      "Epoch 140: 100%|██████████| 3/3 [00:02<00:00,  1.08it/s, loss=20.2, acc=0.671, AUC=0.725, val_acc=0.692, val_AUC=0.774]\n"
     ]
    },
    {
     "name": "stdout",
     "output_type": "stream",
     "text": [
      "tensor([-3.4087e-01,  6.3417e-02,  1.0461e+00,  1.5178e-01, -9.6650e-02,\n",
      "        -8.6540e-05,  3.7274e-01,  1.8426e-01,  2.9010e-01,  6.5622e-02,\n",
      "         8.7390e-02], device='cuda:0', grad_fn=<DivBackward0>)\n"
     ]
    },
    {
     "name": "stderr",
     "output_type": "stream",
     "text": [
      "Epoch 141: 100%|██████████| 3/3 [00:02<00:00,  1.08it/s, loss=20.2, acc=0.666, AUC=0.724, val_acc=0.707, val_AUC=0.783]\n"
     ]
    },
    {
     "name": "stdout",
     "output_type": "stream",
     "text": [
      "tensor([-0.3499,  0.0625,  1.0239,  0.1533, -0.0956,  0.0150,  0.3671,  0.1737,\n",
      "         0.2897,  0.0739,  0.0921], device='cuda:0', grad_fn=<DivBackward0>)\n"
     ]
    },
    {
     "name": "stderr",
     "output_type": "stream",
     "text": [
      "Epoch 142: 100%|██████████| 3/3 [00:02<00:00,  1.08it/s, loss=20.3, acc=0.666, AUC=0.72, val_acc=0.698, val_AUC=0.772]\n"
     ]
    },
    {
     "name": "stdout",
     "output_type": "stream",
     "text": [
      "tensor([-0.3575,  0.0519,  1.0530,  0.1446, -0.0914,  0.0152,  0.3643,  0.1863,\n",
      "         0.2874,  0.0678,  0.0879], device='cuda:0', grad_fn=<DivBackward0>)\n"
     ]
    },
    {
     "name": "stderr",
     "output_type": "stream",
     "text": [
      "Epoch 143: 100%|██████████| 3/3 [00:02<00:00,  1.08it/s, loss=20.3, acc=0.666, AUC=0.719, val_acc=0.698, val_AUC=0.775]\n"
     ]
    },
    {
     "name": "stdout",
     "output_type": "stream",
     "text": [
      "tensor([-0.3459,  0.0604,  1.0429,  0.1429, -0.0988,  0.0055,  0.3653,  0.1603,\n",
      "         0.2984,  0.0616,  0.0915], device='cuda:0', grad_fn=<DivBackward0>)\n"
     ]
    },
    {
     "name": "stderr",
     "output_type": "stream",
     "text": [
      "Epoch 144: 100%|██████████| 3/3 [00:02<00:00,  1.06it/s, loss=20.3, acc=0.661, AUC=0.721, val_acc=0.689, val_AUC=0.773]\n"
     ]
    },
    {
     "name": "stdout",
     "output_type": "stream",
     "text": [
      "tensor([-0.3356,  0.0642,  1.0128,  0.1391, -0.0952,  0.0056,  0.3503,  0.1616,\n",
      "         0.2692,  0.0760,  0.0698], device='cuda:0', grad_fn=<DivBackward0>)\n"
     ]
    },
    {
     "name": "stderr",
     "output_type": "stream",
     "text": [
      "Epoch 145: 100%|██████████| 3/3 [00:02<00:00,  1.08it/s, loss=20.2, acc=0.67, AUC=0.724, val_acc=0.698, val_AUC=0.78]\n"
     ]
    },
    {
     "name": "stdout",
     "output_type": "stream",
     "text": [
      "tensor([-0.3348,  0.0549,  0.9901,  0.1557, -0.1163,  0.0135,  0.3393,  0.1522,\n",
      "         0.2713,  0.0709,  0.0709], device='cuda:0', grad_fn=<DivBackward0>)\n"
     ]
    },
    {
     "name": "stderr",
     "output_type": "stream",
     "text": [
      "Epoch 146: 100%|██████████| 3/3 [00:02<00:00,  1.07it/s, loss=20.1, acc=0.668, AUC=0.729, val_acc=0.71, val_AUC=0.77]\n"
     ]
    },
    {
     "name": "stdout",
     "output_type": "stream",
     "text": [
      "tensor([-0.3262,  0.0527,  1.0076,  0.1707, -0.1142,  0.0123,  0.3399,  0.1513,\n",
      "         0.2857,  0.0721,  0.0745], device='cuda:0', grad_fn=<DivBackward0>)\n"
     ]
    },
    {
     "name": "stderr",
     "output_type": "stream",
     "text": [
      "Epoch 147: 100%|██████████| 3/3 [00:02<00:00,  1.08it/s, loss=20.3, acc=0.664, AUC=0.72, val_acc=0.695, val_AUC=0.779]\n"
     ]
    },
    {
     "name": "stdout",
     "output_type": "stream",
     "text": [
      "tensor([-0.3264,  0.0644,  1.0066,  0.1519, -0.1122,  0.0202,  0.3491,  0.1555,\n",
      "         0.2974,  0.0656,  0.0790], device='cuda:0', grad_fn=<DivBackward0>)\n"
     ]
    },
    {
     "name": "stderr",
     "output_type": "stream",
     "text": [
      "Epoch 148: 100%|██████████| 3/3 [00:02<00:00,  1.08it/s, loss=20.2, acc=0.665, AUC=0.726, val_acc=0.713, val_AUC=0.771]\n"
     ]
    },
    {
     "name": "stdout",
     "output_type": "stream",
     "text": [
      "tensor([-0.3441,  0.0653,  1.0525,  0.1332, -0.0830,  0.0092,  0.3728,  0.1694,\n",
      "         0.3090,  0.0806,  0.0863], device='cuda:0', grad_fn=<DivBackward0>)\n"
     ]
    },
    {
     "name": "stderr",
     "output_type": "stream",
     "text": [
      "Epoch 149: 100%|██████████| 3/3 [00:02<00:00,  1.06it/s, loss=20.2, acc=0.663, AUC=0.721, val_acc=0.722, val_AUC=0.778]\n"
     ]
    },
    {
     "name": "stdout",
     "output_type": "stream",
     "text": [
      "tensor([-0.3484,  0.0681,  1.0426,  0.1279, -0.0904,  0.0184,  0.3607,  0.1672,\n",
      "         0.2978,  0.0547,  0.0937], device='cuda:0', grad_fn=<DivBackward0>)\n"
     ]
    },
    {
     "name": "stderr",
     "output_type": "stream",
     "text": [
      "Epoch 150: 100%|██████████| 3/3 [00:02<00:00,  1.07it/s, loss=20.2, acc=0.663, AUC=0.722, val_acc=0.719, val_AUC=0.781]\n"
     ]
    },
    {
     "name": "stdout",
     "output_type": "stream",
     "text": [
      "tensor([-0.3395,  0.0542,  1.0360,  0.1449, -0.0983,  0.0186,  0.3507,  0.1525,\n",
      "         0.3042,  0.0591,  0.0817], device='cuda:0', grad_fn=<DivBackward0>)\n"
     ]
    },
    {
     "name": "stderr",
     "output_type": "stream",
     "text": [
      "Epoch 151: 100%|██████████| 3/3 [00:02<00:00,  1.07it/s, loss=20.2, acc=0.666, AUC=0.723, val_acc=0.701, val_AUC=0.764]\n"
     ]
    },
    {
     "name": "stdout",
     "output_type": "stream",
     "text": [
      "tensor([-0.3218,  0.0581,  1.0032,  0.1282, -0.1143,  0.0168,  0.3465,  0.1468,\n",
      "         0.2907,  0.0615,  0.0791], device='cuda:0', grad_fn=<DivBackward0>)\n"
     ]
    },
    {
     "name": "stderr",
     "output_type": "stream",
     "text": [
      "Epoch 152: 100%|██████████| 3/3 [00:02<00:00,  1.08it/s, loss=20.2, acc=0.666, AUC=0.724, val_acc=0.695, val_AUC=0.774]\n"
     ]
    },
    {
     "name": "stdout",
     "output_type": "stream",
     "text": [
      "tensor([-0.3452,  0.0573,  1.0146,  0.1387, -0.1137,  0.0264,  0.3332,  0.1522,\n",
      "         0.2946,  0.0744,  0.0769], device='cuda:0', grad_fn=<DivBackward0>)\n"
     ]
    },
    {
     "name": "stderr",
     "output_type": "stream",
     "text": [
      "Epoch 153: 100%|██████████| 3/3 [00:02<00:00,  1.08it/s, loss=20.2, acc=0.668, AUC=0.724, val_acc=0.707, val_AUC=0.765]\n"
     ]
    },
    {
     "name": "stdout",
     "output_type": "stream",
     "text": [
      "tensor([-0.3407,  0.0586,  1.0029,  0.1218, -0.1079,  0.0213,  0.3514,  0.1609,\n",
      "         0.2973,  0.0629,  0.0857], device='cuda:0', grad_fn=<DivBackward0>)\n"
     ]
    },
    {
     "name": "stderr",
     "output_type": "stream",
     "text": [
      "Epoch 154: 100%|██████████| 3/3 [00:02<00:00,  1.06it/s, loss=20.2, acc=0.673, AUC=0.723, val_acc=0.704, val_AUC=0.78]\n"
     ]
    },
    {
     "name": "stdout",
     "output_type": "stream",
     "text": [
      "tensor([-0.3359,  0.0567,  0.9915,  0.1353, -0.1204,  0.0239,  0.3294,  0.1506,\n",
      "         0.3000,  0.0700,  0.0812], device='cuda:0', grad_fn=<DivBackward0>)\n"
     ]
    },
    {
     "name": "stderr",
     "output_type": "stream",
     "text": [
      "Epoch 155: 100%|██████████| 3/3 [00:02<00:00,  1.07it/s, loss=20.1, acc=0.661, AUC=0.727, val_acc=0.707, val_AUC=0.782]\n"
     ]
    },
    {
     "name": "stdout",
     "output_type": "stream",
     "text": [
      "tensor([-0.3461,  0.0608,  1.0046,  0.1234, -0.1185,  0.0242,  0.3408,  0.1584,\n",
      "         0.2945,  0.0581,  0.0760], device='cuda:0', grad_fn=<DivBackward0>)\n"
     ]
    },
    {
     "name": "stderr",
     "output_type": "stream",
     "text": [
      "Epoch 156: 100%|██████████| 3/3 [00:02<00:00,  1.07it/s, loss=20.1, acc=0.666, AUC=0.726, val_acc=0.716, val_AUC=0.779]\n"
     ]
    },
    {
     "name": "stdout",
     "output_type": "stream",
     "text": [
      "tensor([-0.3660,  0.0640,  1.0247,  0.1185, -0.1097,  0.0119,  0.3572,  0.1581,\n",
      "         0.3032,  0.0559,  0.0829], device='cuda:0', grad_fn=<DivBackward0>)\n"
     ]
    },
    {
     "name": "stderr",
     "output_type": "stream",
     "text": [
      "Epoch 157: 100%|██████████| 3/3 [00:02<00:00,  1.08it/s, loss=20.1, acc=0.668, AUC=0.728, val_acc=0.701, val_AUC=0.776]\n"
     ]
    },
    {
     "name": "stdout",
     "output_type": "stream",
     "text": [
      "tensor([-0.3523,  0.0569,  1.0205,  0.1158, -0.1168,  0.0188,  0.3405,  0.1619,\n",
      "         0.3018,  0.0584,  0.0859], device='cuda:0', grad_fn=<DivBackward0>)\n"
     ]
    },
    {
     "name": "stderr",
     "output_type": "stream",
     "text": [
      "Epoch 158: 100%|██████████| 3/3 [00:02<00:00,  1.07it/s, loss=20.2, acc=0.665, AUC=0.725, val_acc=0.719, val_AUC=0.778]\n"
     ]
    },
    {
     "name": "stdout",
     "output_type": "stream",
     "text": [
      "tensor([-0.3613,  0.0613,  1.0367,  0.1201, -0.1124,  0.0250,  0.3550,  0.1785,\n",
      "         0.3104,  0.0757,  0.0803], device='cuda:0', grad_fn=<DivBackward0>)\n"
     ]
    },
    {
     "name": "stderr",
     "output_type": "stream",
     "text": [
      "Epoch 159: 100%|██████████| 3/3 [00:02<00:00,  1.05it/s, loss=20.1, acc=0.667, AUC=0.727, val_acc=0.71, val_AUC=0.773]\n"
     ]
    },
    {
     "name": "stdout",
     "output_type": "stream",
     "text": [
      "tensor([-0.3509,  0.0575,  1.0372,  0.1135, -0.0982,  0.0287,  0.3528,  0.1736,\n",
      "         0.3113,  0.0745,  0.0718], device='cuda:0', grad_fn=<DivBackward0>)\n"
     ]
    },
    {
     "name": "stderr",
     "output_type": "stream",
     "text": [
      "Epoch 160: 100%|██████████| 3/3 [00:02<00:00,  1.07it/s, loss=20.3, acc=0.663, AUC=0.721, val_acc=0.71, val_AUC=0.775]\n"
     ]
    },
    {
     "name": "stdout",
     "output_type": "stream",
     "text": [
      "tensor([-0.3471,  0.0546,  1.0462,  0.1209, -0.1048,  0.0284,  0.3654,  0.1767,\n",
      "         0.2986,  0.0921,  0.0731], device='cuda:0', grad_fn=<DivBackward0>)\n"
     ]
    },
    {
     "name": "stderr",
     "output_type": "stream",
     "text": [
      "Epoch 161: 100%|██████████| 3/3 [00:02<00:00,  1.08it/s, loss=20.1, acc=0.674, AUC=0.725, val_acc=0.71, val_AUC=0.777]\n"
     ]
    },
    {
     "name": "stdout",
     "output_type": "stream",
     "text": [
      "tensor([-0.3809,  0.0584,  1.0732,  0.1182, -0.1032,  0.0193,  0.3760,  0.1969,\n",
      "         0.3168,  0.0921,  0.1019], device='cuda:0', grad_fn=<DivBackward0>)\n"
     ]
    },
    {
     "name": "stderr",
     "output_type": "stream",
     "text": [
      "Epoch 162: 100%|██████████| 3/3 [00:02<00:00,  1.08it/s, loss=20.3, acc=0.663, AUC=0.721, val_acc=0.713, val_AUC=0.776]\n"
     ]
    },
    {
     "name": "stdout",
     "output_type": "stream",
     "text": [
      "tensor([-0.3633,  0.0591,  1.0498,  0.1222, -0.1083,  0.0343,  0.3565,  0.1846,\n",
      "         0.3152,  0.0925,  0.0807], device='cuda:0', grad_fn=<DivBackward0>)\n"
     ]
    },
    {
     "name": "stderr",
     "output_type": "stream",
     "text": [
      "Epoch 163: 100%|██████████| 3/3 [00:02<00:00,  1.07it/s, loss=20.2, acc=0.664, AUC=0.723, val_acc=0.707, val_AUC=0.771]\n"
     ]
    },
    {
     "name": "stdout",
     "output_type": "stream",
     "text": [
      "tensor([-0.3563,  0.0518,  1.0026,  0.1352, -0.1276,  0.0338,  0.3328,  0.1810,\n",
      "         0.3005,  0.0988,  0.0636], device='cuda:0', grad_fn=<DivBackward0>)\n"
     ]
    },
    {
     "name": "stderr",
     "output_type": "stream",
     "text": [
      "Epoch 164: 100%|██████████| 3/3 [00:02<00:00,  1.06it/s, loss=20.2, acc=0.667, AUC=0.723, val_acc=0.719, val_AUC=0.783]\n"
     ]
    },
    {
     "name": "stdout",
     "output_type": "stream",
     "text": [
      "tensor([-0.3709,  0.0593,  1.0127,  0.1451, -0.1324,  0.0383,  0.3482,  0.1736,\n",
      "         0.3030,  0.0802,  0.0693], device='cuda:0', grad_fn=<DivBackward0>)\n"
     ]
    },
    {
     "name": "stderr",
     "output_type": "stream",
     "text": [
      "Epoch 165: 100%|██████████| 3/3 [00:02<00:00,  1.07it/s, loss=20.2, acc=0.662, AUC=0.721, val_acc=0.704, val_AUC=0.774]\n"
     ]
    },
    {
     "name": "stdout",
     "output_type": "stream",
     "text": [
      "tensor([-0.3594,  0.0555,  0.9888,  0.1442, -0.1377,  0.0318,  0.3315,  0.1602,\n",
      "         0.2980,  0.0717,  0.0638], device='cuda:0', grad_fn=<DivBackward0>)\n"
     ]
    },
    {
     "name": "stderr",
     "output_type": "stream",
     "text": [
      "Epoch 166: 100%|██████████| 3/3 [00:02<00:00,  1.07it/s, loss=20.3, acc=0.664, AUC=0.722, val_acc=0.692, val_AUC=0.776]\n"
     ]
    },
    {
     "name": "stdout",
     "output_type": "stream",
     "text": [
      "tensor([-0.3559,  0.0744,  1.0219,  0.1450, -0.1219,  0.0368,  0.3583,  0.1630,\n",
      "         0.3112,  0.0676,  0.0660], device='cuda:0', grad_fn=<DivBackward0>)\n"
     ]
    },
    {
     "name": "stderr",
     "output_type": "stream",
     "text": [
      "Epoch 167: 100%|██████████| 3/3 [00:02<00:00,  1.07it/s, loss=20.2, acc=0.666, AUC=0.723, val_acc=0.689, val_AUC=0.768]\n"
     ]
    },
    {
     "name": "stdout",
     "output_type": "stream",
     "text": [
      "tensor([-0.3956,  0.0578,  1.0835,  0.1198, -0.1070,  0.0270,  0.3758,  0.1786,\n",
      "         0.3319,  0.0621,  0.0799], device='cuda:0', grad_fn=<DivBackward0>)\n"
     ]
    },
    {
     "name": "stderr",
     "output_type": "stream",
     "text": [
      "Epoch 168: 100%|██████████| 3/3 [00:02<00:00,  1.07it/s, loss=20.1, acc=0.661, AUC=0.727, val_acc=0.728, val_AUC=0.777]\n"
     ]
    },
    {
     "name": "stdout",
     "output_type": "stream",
     "text": [
      "tensor([-0.3907,  0.0618,  1.0949,  0.1110, -0.0779,  0.0281,  0.3827,  0.1842,\n",
      "         0.3300,  0.0557,  0.0983], device='cuda:0', grad_fn=<DivBackward0>)\n"
     ]
    },
    {
     "name": "stderr",
     "output_type": "stream",
     "text": [
      "Epoch 169: 100%|██████████| 3/3 [00:02<00:00,  1.05it/s, loss=20.2, acc=0.667, AUC=0.725, val_acc=0.698, val_AUC=0.773]\n"
     ]
    },
    {
     "name": "stdout",
     "output_type": "stream",
     "text": [
      "tensor([-0.3985,  0.0612,  1.1105,  0.1023, -0.0737,  0.0279,  0.3753,  0.1769,\n",
      "         0.3254,  0.0473,  0.0959], device='cuda:0', grad_fn=<DivBackward0>)\n"
     ]
    },
    {
     "name": "stderr",
     "output_type": "stream",
     "text": [
      "Epoch 170: 100%|██████████| 3/3 [00:02<00:00,  1.07it/s, loss=20.2, acc=0.667, AUC=0.721, val_acc=0.71, val_AUC=0.785]\n"
     ]
    },
    {
     "name": "stdout",
     "output_type": "stream",
     "text": [
      "tensor([-0.4113,  0.0578,  1.1458,  0.1058, -0.0777,  0.0241,  0.3960,  0.1932,\n",
      "         0.3418,  0.0678,  0.0997], device='cuda:0', grad_fn=<DivBackward0>)\n"
     ]
    },
    {
     "name": "stderr",
     "output_type": "stream",
     "text": [
      "Epoch 171: 100%|██████████| 3/3 [00:02<00:00,  1.07it/s, loss=20.2, acc=0.666, AUC=0.724, val_acc=0.698, val_AUC=0.77]\n"
     ]
    },
    {
     "name": "stdout",
     "output_type": "stream",
     "text": [
      "tensor([-0.4071,  0.0696,  1.1372,  0.0953, -0.0813,  0.0340,  0.3944,  0.1944,\n",
      "         0.3339,  0.0654,  0.1112], device='cuda:0', grad_fn=<DivBackward0>)\n"
     ]
    },
    {
     "name": "stderr",
     "output_type": "stream",
     "text": [
      "Epoch 172: 100%|██████████| 3/3 [00:02<00:00,  1.08it/s, loss=20.2, acc=0.673, AUC=0.724, val_acc=0.701, val_AUC=0.776]\n"
     ]
    },
    {
     "name": "stdout",
     "output_type": "stream",
     "text": [
      "tensor([-0.3997,  0.0667,  1.1082,  0.1015, -0.0884,  0.0194,  0.3854,  0.1914,\n",
      "         0.3302,  0.0534,  0.1086], device='cuda:0', grad_fn=<DivBackward0>)\n"
     ]
    },
    {
     "name": "stderr",
     "output_type": "stream",
     "text": [
      "Epoch 173: 100%|██████████| 3/3 [00:02<00:00,  1.07it/s, loss=20.2, acc=0.663, AUC=0.725, val_acc=0.716, val_AUC=0.773]\n"
     ]
    },
    {
     "name": "stdout",
     "output_type": "stream",
     "text": [
      "tensor([-0.3936,  0.0737,  1.1060,  0.1047, -0.1015,  0.0215,  0.3833,  0.1837,\n",
      "         0.3192,  0.0533,  0.0883], device='cuda:0', grad_fn=<DivBackward0>)\n"
     ]
    },
    {
     "name": "stderr",
     "output_type": "stream",
     "text": [
      "Epoch 174: 100%|██████████| 3/3 [00:02<00:00,  1.05it/s, loss=20.1, acc=0.663, AUC=0.726, val_acc=0.725, val_AUC=0.779]\n"
     ]
    },
    {
     "name": "stdout",
     "output_type": "stream",
     "text": [
      "tensor([-0.3999,  0.0739,  1.1271,  0.1105, -0.0899,  0.0243,  0.3985,  0.1812,\n",
      "         0.3262,  0.0484,  0.0974], device='cuda:0', grad_fn=<DivBackward0>)\n"
     ]
    },
    {
     "name": "stderr",
     "output_type": "stream",
     "text": [
      "Epoch 175: 100%|██████████| 3/3 [00:02<00:00,  1.08it/s, loss=20.1, acc=0.665, AUC=0.726, val_acc=0.707, val_AUC=0.778]\n"
     ]
    },
    {
     "name": "stdout",
     "output_type": "stream",
     "text": [
      "tensor([-0.4026,  0.0753,  1.0933,  0.1227, -0.0958,  0.0214,  0.3890,  0.1766,\n",
      "         0.3277,  0.0395,  0.0926], device='cuda:0', grad_fn=<DivBackward0>)\n"
     ]
    },
    {
     "name": "stderr",
     "output_type": "stream",
     "text": [
      "Epoch 176: 100%|██████████| 3/3 [00:02<00:00,  1.07it/s, loss=20.1, acc=0.666, AUC=0.727, val_acc=0.719, val_AUC=0.781]\n"
     ]
    },
    {
     "name": "stdout",
     "output_type": "stream",
     "text": [
      "tensor([-0.3729,  0.0757,  1.0427,  0.1240, -0.1015,  0.0315,  0.3642,  0.1590,\n",
      "         0.3160,  0.0242,  0.0848], device='cuda:0', grad_fn=<DivBackward0>)\n"
     ]
    },
    {
     "name": "stderr",
     "output_type": "stream",
     "text": [
      "Epoch 177: 100%|██████████| 3/3 [00:02<00:00,  1.08it/s, loss=20.1, acc=0.67, AUC=0.725, val_acc=0.689, val_AUC=0.776]\n"
     ]
    },
    {
     "name": "stdout",
     "output_type": "stream",
     "text": [
      "tensor([-0.3577,  0.0624,  1.0266,  0.1483, -0.1099,  0.0237,  0.3459,  0.1476,\n",
      "         0.3133,  0.0166,  0.0815], device='cuda:0', grad_fn=<DivBackward0>)\n"
     ]
    },
    {
     "name": "stderr",
     "output_type": "stream",
     "text": [
      "Epoch 178: 100%|██████████| 3/3 [00:02<00:00,  1.08it/s, loss=20.3, acc=0.663, AUC=0.721, val_acc=0.689, val_AUC=0.768]\n"
     ]
    },
    {
     "name": "stdout",
     "output_type": "stream",
     "text": [
      "tensor([-0.3530,  0.0653,  1.0473,  0.1420, -0.1009,  0.0171,  0.3598,  0.1473,\n",
      "         0.3177,  0.0310,  0.0734], device='cuda:0', grad_fn=<DivBackward0>)\n"
     ]
    },
    {
     "name": "stderr",
     "output_type": "stream",
     "text": [
      "Epoch 179: 100%|██████████| 3/3 [00:02<00:00,  1.06it/s, loss=20.1, acc=0.672, AUC=0.727, val_acc=0.704, val_AUC=0.78]\n"
     ]
    },
    {
     "name": "stdout",
     "output_type": "stream",
     "text": [
      "tensor([-0.3730,  0.0697,  1.0783,  0.1237, -0.0971,  0.0255,  0.3849,  0.1689,\n",
      "         0.3430,  0.0358,  0.0887], device='cuda:0', grad_fn=<DivBackward0>)\n"
     ]
    },
    {
     "name": "stderr",
     "output_type": "stream",
     "text": [
      "Epoch 180: 100%|██████████| 3/3 [00:02<00:00,  1.07it/s, loss=20.1, acc=0.666, AUC=0.728, val_acc=0.713, val_AUC=0.777]\n"
     ]
    },
    {
     "name": "stdout",
     "output_type": "stream",
     "text": [
      "tensor([-0.3725,  0.0720,  1.0586,  0.1398, -0.0867,  0.0304,  0.3737,  0.1536,\n",
      "         0.3340,  0.0368,  0.0771], device='cuda:0', grad_fn=<DivBackward0>)\n"
     ]
    },
    {
     "name": "stderr",
     "output_type": "stream",
     "text": [
      "Epoch 181: 100%|██████████| 3/3 [00:02<00:00,  1.07it/s, loss=20.1, acc=0.665, AUC=0.727, val_acc=0.713, val_AUC=0.775]\n"
     ]
    },
    {
     "name": "stdout",
     "output_type": "stream",
     "text": [
      "tensor([-0.3656,  0.0578,  1.0431,  0.1431, -0.1036,  0.0200,  0.3538,  0.1462,\n",
      "         0.3234,  0.0194,  0.0817], device='cuda:0', grad_fn=<DivBackward0>)\n"
     ]
    },
    {
     "name": "stderr",
     "output_type": "stream",
     "text": [
      "Epoch 182: 100%|██████████| 3/3 [00:02<00:00,  1.08it/s, loss=20.2, acc=0.666, AUC=0.724, val_acc=0.701, val_AUC=0.773]\n"
     ]
    },
    {
     "name": "stdout",
     "output_type": "stream",
     "text": [
      "tensor([-0.3457,  0.0674,  1.0184,  0.1502, -0.1074,  0.0282,  0.3403,  0.1427,\n",
      "         0.3059,  0.0092,  0.0824], device='cuda:0', grad_fn=<DivBackward0>)\n"
     ]
    },
    {
     "name": "stderr",
     "output_type": "stream",
     "text": [
      "Epoch 183: 100%|██████████| 3/3 [00:02<00:00,  1.08it/s, loss=20.2, acc=0.665, AUC=0.725, val_acc=0.695, val_AUC=0.767]\n"
     ]
    },
    {
     "name": "stdout",
     "output_type": "stream",
     "text": [
      "tensor([-0.3564,  0.0673,  1.0115,  0.1505, -0.1162,  0.0222,  0.3384,  0.1398,\n",
      "         0.3076,  0.0210,  0.0615], device='cuda:0', grad_fn=<DivBackward0>)\n"
     ]
    },
    {
     "name": "stderr",
     "output_type": "stream",
     "text": [
      "Epoch 184: 100%|██████████| 3/3 [00:02<00:00,  1.06it/s, loss=20.1, acc=0.666, AUC=0.726, val_acc=0.689, val_AUC=0.77]\n"
     ]
    },
    {
     "name": "stdout",
     "output_type": "stream",
     "text": [
      "tensor([-0.3518,  0.0678,  1.0039,  0.1465, -0.1081,  0.0251,  0.3442,  0.1471,\n",
      "         0.3113,  0.0242,  0.0736], device='cuda:0', grad_fn=<DivBackward0>)\n"
     ]
    },
    {
     "name": "stderr",
     "output_type": "stream",
     "text": [
      "Epoch 185: 100%|██████████| 3/3 [00:02<00:00,  1.07it/s, loss=20.1, acc=0.668, AUC=0.728, val_acc=0.719, val_AUC=0.777]\n"
     ]
    },
    {
     "name": "stdout",
     "output_type": "stream",
     "text": [
      "tensor([-0.3365,  0.0619,  0.9955,  0.1518, -0.1224,  0.0325,  0.3294,  0.1404,\n",
      "         0.3078,  0.0470,  0.0634], device='cuda:0', grad_fn=<DivBackward0>)\n"
     ]
    },
    {
     "name": "stderr",
     "output_type": "stream",
     "text": [
      "Epoch 186: 100%|██████████| 3/3 [00:02<00:00,  1.08it/s, loss=20.2, acc=0.666, AUC=0.724, val_acc=0.728, val_AUC=0.785]\n"
     ]
    },
    {
     "name": "stdout",
     "output_type": "stream",
     "text": [
      "tensor([-0.3505,  0.0636,  1.0177,  0.1407, -0.1238,  0.0267,  0.3361,  0.1499,\n",
      "         0.3040,  0.0510,  0.0722], device='cuda:0', grad_fn=<DivBackward0>)\n"
     ]
    },
    {
     "name": "stderr",
     "output_type": "stream",
     "text": [
      "Epoch 187: 100%|██████████| 3/3 [00:02<00:00,  1.07it/s, loss=20.1, acc=0.667, AUC=0.725, val_acc=0.725, val_AUC=0.772]\n"
     ]
    },
    {
     "name": "stdout",
     "output_type": "stream",
     "text": [
      "tensor([-0.3520,  0.0669,  1.0376,  0.1346, -0.1110,  0.0264,  0.3463,  0.1535,\n",
      "         0.3177,  0.0336,  0.0676], device='cuda:0', grad_fn=<DivBackward0>)\n"
     ]
    },
    {
     "name": "stderr",
     "output_type": "stream",
     "text": [
      "Epoch 188: 100%|██████████| 3/3 [00:02<00:00,  1.08it/s, loss=20.1, acc=0.667, AUC=0.726, val_acc=0.698, val_AUC=0.778]\n"
     ]
    },
    {
     "name": "stdout",
     "output_type": "stream",
     "text": [
      "tensor([-0.3683,  0.0769,  1.0416,  0.1282, -0.1184,  0.0321,  0.3540,  0.1603,\n",
      "         0.3179,  0.0548,  0.0735], device='cuda:0', grad_fn=<DivBackward0>)\n"
     ]
    },
    {
     "name": "stderr",
     "output_type": "stream",
     "text": [
      "Epoch 189: 100%|██████████| 3/3 [00:02<00:00,  1.05it/s, loss=20.2, acc=0.667, AUC=0.724, val_acc=0.71, val_AUC=0.776]\n"
     ]
    },
    {
     "name": "stdout",
     "output_type": "stream",
     "text": [
      "tensor([-0.3562,  0.0760,  1.0179,  0.1323, -0.1236,  0.0254,  0.3374,  0.1487,\n",
      "         0.3071,  0.0610,  0.0579], device='cuda:0', grad_fn=<DivBackward0>)\n"
     ]
    },
    {
     "name": "stderr",
     "output_type": "stream",
     "text": [
      "Epoch 190: 100%|██████████| 3/3 [00:02<00:00,  1.08it/s, loss=20.1, acc=0.667, AUC=0.726, val_acc=0.701, val_AUC=0.77]\n"
     ]
    },
    {
     "name": "stdout",
     "output_type": "stream",
     "text": [
      "tensor([-0.3311,  0.0713,  0.9880,  0.1451, -0.1372,  0.0211,  0.3220,  0.1416,\n",
      "         0.3058,  0.0504,  0.0542], device='cuda:0', grad_fn=<DivBackward0>)\n"
     ]
    },
    {
     "name": "stderr",
     "output_type": "stream",
     "text": [
      "Epoch 191: 100%|██████████| 3/3 [00:02<00:00,  1.07it/s, loss=20.2, acc=0.665, AUC=0.723, val_acc=0.692, val_AUC=0.774]\n"
     ]
    },
    {
     "name": "stdout",
     "output_type": "stream",
     "text": [
      "tensor([-0.3511,  0.0808,  1.0111,  0.1426, -0.1233,  0.0299,  0.3402,  0.1522,\n",
      "         0.3082,  0.0527,  0.0586], device='cuda:0', grad_fn=<DivBackward0>)\n"
     ]
    },
    {
     "name": "stderr",
     "output_type": "stream",
     "text": [
      "Epoch 192: 100%|██████████| 3/3 [00:02<00:00,  1.07it/s, loss=20, acc=0.669, AUC=0.729, val_acc=0.731, val_AUC=0.782]\n"
     ]
    },
    {
     "name": "stdout",
     "output_type": "stream",
     "text": [
      "tensor([-0.3531,  0.0715,  1.0182,  0.1371, -0.1233,  0.0201,  0.3366,  0.1498,\n",
      "         0.3155,  0.0456,  0.0539], device='cuda:0', grad_fn=<DivBackward0>)\n"
     ]
    },
    {
     "name": "stderr",
     "output_type": "stream",
     "text": [
      "Epoch 193: 100%|██████████| 3/3 [00:02<00:00,  1.07it/s, loss=20.1, acc=0.665, AUC=0.725, val_acc=0.719, val_AUC=0.785]\n"
     ]
    },
    {
     "name": "stdout",
     "output_type": "stream",
     "text": [
      "tensor([-0.3648,  0.0672,  1.0199,  0.1308, -0.1320,  0.0241,  0.3370,  0.1619,\n",
      "         0.3148,  0.0379,  0.0670], device='cuda:0', grad_fn=<DivBackward0>)\n"
     ]
    },
    {
     "name": "stderr",
     "output_type": "stream",
     "text": [
      "Epoch 194: 100%|██████████| 3/3 [00:02<00:00,  1.05it/s, loss=20, acc=0.67, AUC=0.73, val_acc=0.698, val_AUC=0.771]\n"
     ]
    },
    {
     "name": "stdout",
     "output_type": "stream",
     "text": [
      "tensor([-0.3544,  0.0722,  1.0039,  0.1335, -0.1267,  0.0163,  0.3490,  0.1480,\n",
      "         0.3141,  0.0435,  0.0613], device='cuda:0', grad_fn=<DivBackward0>)\n"
     ]
    },
    {
     "name": "stderr",
     "output_type": "stream",
     "text": [
      "Epoch 195: 100%|██████████| 3/3 [00:02<00:00,  1.07it/s, loss=20.1, acc=0.665, AUC=0.725, val_acc=0.698, val_AUC=0.77]\n"
     ]
    },
    {
     "name": "stdout",
     "output_type": "stream",
     "text": [
      "tensor([-0.3681,  0.0711,  1.0172,  0.1462, -0.1270,  0.0283,  0.3421,  0.1483,\n",
      "         0.3260,  0.0459,  0.0742], device='cuda:0', grad_fn=<DivBackward0>)\n"
     ]
    },
    {
     "name": "stderr",
     "output_type": "stream",
     "text": [
      "Epoch 196: 100%|██████████| 3/3 [00:02<00:00,  1.07it/s, loss=20, acc=0.672, AUC=0.73, val_acc=0.725, val_AUC=0.775]\n"
     ]
    },
    {
     "name": "stdout",
     "output_type": "stream",
     "text": [
      "tensor([-0.3555,  0.0686,  1.0379,  0.1405, -0.1161,  0.0275,  0.3606,  0.1628,\n",
      "         0.3260,  0.0542,  0.0656], device='cuda:0', grad_fn=<DivBackward0>)\n"
     ]
    },
    {
     "name": "stderr",
     "output_type": "stream",
     "text": [
      "Epoch 197: 100%|██████████| 3/3 [00:02<00:00,  1.07it/s, loss=20.2, acc=0.666, AUC=0.724, val_acc=0.713, val_AUC=0.775]\n"
     ]
    },
    {
     "name": "stdout",
     "output_type": "stream",
     "text": [
      "tensor([-0.3849,  0.0688,  1.0543,  0.1333, -0.1097,  0.0180,  0.3674,  0.1604,\n",
      "         0.3346,  0.0602,  0.0667], device='cuda:0', grad_fn=<DivBackward0>)\n"
     ]
    },
    {
     "name": "stderr",
     "output_type": "stream",
     "text": [
      "Epoch 198: 100%|██████████| 3/3 [00:02<00:00,  1.07it/s, loss=20, acc=0.675, AUC=0.731, val_acc=0.701, val_AUC=0.774]\n"
     ]
    },
    {
     "name": "stdout",
     "output_type": "stream",
     "text": [
      "tensor([-0.3864,  0.0771,  1.0283,  0.1360, -0.1229,  0.0303,  0.3587,  0.1621,\n",
      "         0.3285,  0.0547,  0.0679], device='cuda:0', grad_fn=<DivBackward0>)\n"
     ]
    },
    {
     "name": "stderr",
     "output_type": "stream",
     "text": [
      "Epoch 199: 100%|██████████| 3/3 [00:02<00:00,  1.05it/s, loss=20.1, acc=0.668, AUC=0.728, val_acc=0.716, val_AUC=0.774]\n"
     ]
    },
    {
     "name": "stdout",
     "output_type": "stream",
     "text": [
      "tensor([-0.3710,  0.0769,  1.0114,  0.1524, -0.1268,  0.0273,  0.3641,  0.1538,\n",
      "         0.3242,  0.0544,  0.0721], device='cuda:0', grad_fn=<DivBackward0>)\n"
     ]
    },
    {
     "name": "stderr",
     "output_type": "stream",
     "text": [
      "Epoch 200: 100%|██████████| 3/3 [00:02<00:00,  1.07it/s, loss=20.1, acc=0.668, AUC=0.727, val_acc=0.707, val_AUC=0.778]\n"
     ]
    },
    {
     "name": "stdout",
     "output_type": "stream",
     "text": [
      "tensor([-0.3617,  0.0664,  0.9908,  0.1519, -0.1361,  0.0282,  0.3433,  0.1508,\n",
      "         0.3182,  0.0519,  0.0536], device='cuda:0', grad_fn=<DivBackward0>)\n"
     ]
    },
    {
     "name": "stderr",
     "output_type": "stream",
     "text": [
      "Epoch 201: 100%|██████████| 3/3 [00:02<00:00,  1.07it/s, loss=20.1, acc=0.666, AUC=0.727, val_acc=0.704, val_AUC=0.771]\n"
     ]
    },
    {
     "name": "stdout",
     "output_type": "stream",
     "text": [
      "tensor([-0.3478,  0.0743,  0.9966,  0.1476, -0.1266,  0.0253,  0.3490,  0.1482,\n",
      "         0.3239,  0.0464,  0.0584], device='cuda:0', grad_fn=<DivBackward0>)\n"
     ]
    },
    {
     "name": "stderr",
     "output_type": "stream",
     "text": [
      "Epoch 202: 100%|██████████| 3/3 [00:02<00:00,  1.07it/s, loss=20.2, acc=0.669, AUC=0.724, val_acc=0.689, val_AUC=0.772]\n"
     ]
    },
    {
     "name": "stdout",
     "output_type": "stream",
     "text": [
      "tensor([-0.3470,  0.0568,  0.9924,  0.1416, -0.1368,  0.0228,  0.3285,  0.1428,\n",
      "         0.3170,  0.0355,  0.0622], device='cuda:0', grad_fn=<DivBackward0>)\n"
     ]
    },
    {
     "name": "stderr",
     "output_type": "stream",
     "text": [
      "Epoch 203: 100%|██████████| 3/3 [00:02<00:00,  1.07it/s, loss=20, acc=0.672, AUC=0.73, val_acc=0.713, val_AUC=0.771]\n"
     ]
    },
    {
     "name": "stdout",
     "output_type": "stream",
     "text": [
      "tensor([-0.3717,  0.0580,  1.0169,  0.1250, -0.1317,  0.0225,  0.3632,  0.1605,\n",
      "         0.3240,  0.0473,  0.0632], device='cuda:0', grad_fn=<DivBackward0>)\n"
     ]
    },
    {
     "name": "stderr",
     "output_type": "stream",
     "text": [
      "Epoch 204: 100%|██████████| 3/3 [00:02<00:00,  1.05it/s, loss=20.2, acc=0.669, AUC=0.725, val_acc=0.704, val_AUC=0.776]\n"
     ]
    },
    {
     "name": "stdout",
     "output_type": "stream",
     "text": [
      "tensor([-0.3844,  0.0613,  1.0384,  0.1192, -0.1216,  0.0311,  0.3641,  0.1653,\n",
      "         0.3339,  0.0439,  0.0701], device='cuda:0', grad_fn=<DivBackward0>)\n"
     ]
    },
    {
     "name": "stderr",
     "output_type": "stream",
     "text": [
      "Epoch 205: 100%|██████████| 3/3 [00:02<00:00,  1.07it/s, loss=20, acc=0.669, AUC=0.731, val_acc=0.725, val_AUC=0.782]\n"
     ]
    },
    {
     "name": "stdout",
     "output_type": "stream",
     "text": [
      "tensor([-0.3774,  0.0590,  1.0407,  0.1247, -0.1185,  0.0229,  0.3507,  0.1639,\n",
      "         0.3330,  0.0526,  0.0716], device='cuda:0', grad_fn=<DivBackward0>)\n"
     ]
    },
    {
     "name": "stderr",
     "output_type": "stream",
     "text": [
      "Epoch 206: 100%|██████████| 3/3 [00:02<00:00,  1.07it/s, loss=20.2, acc=0.66, AUC=0.724, val_acc=0.707, val_AUC=0.78]\n"
     ]
    },
    {
     "name": "stdout",
     "output_type": "stream",
     "text": [
      "tensor([-0.3787,  0.0588,  1.0414,  0.1330, -0.1165,  0.0332,  0.3588,  0.1614,\n",
      "         0.3285,  0.0401,  0.0792], device='cuda:0', grad_fn=<DivBackward0>)\n"
     ]
    },
    {
     "name": "stderr",
     "output_type": "stream",
     "text": [
      "Epoch 207: 100%|██████████| 3/3 [00:02<00:00,  1.07it/s, loss=20.1, acc=0.669, AUC=0.728, val_acc=0.701, val_AUC=0.77]\n"
     ]
    },
    {
     "name": "stdout",
     "output_type": "stream",
     "text": [
      "tensor([-0.3812,  0.0509,  1.0426,  0.1319, -0.1271,  0.0207,  0.3697,  0.1649,\n",
      "         0.3372,  0.0415,  0.0736], device='cuda:0', grad_fn=<DivBackward0>)\n"
     ]
    },
    {
     "name": "stderr",
     "output_type": "stream",
     "text": [
      "Epoch 208: 100%|██████████| 3/3 [00:02<00:00,  1.07it/s, loss=20.1, acc=0.664, AUC=0.726, val_acc=0.695, val_AUC=0.776]\n"
     ]
    },
    {
     "name": "stdout",
     "output_type": "stream",
     "text": [
      "tensor([-0.3705,  0.0595,  1.0385,  0.1282, -0.1292,  0.0178,  0.3585,  0.1562,\n",
      "         0.3312,  0.0317,  0.0814], device='cuda:0', grad_fn=<DivBackward0>)\n"
     ]
    },
    {
     "name": "stderr",
     "output_type": "stream",
     "text": [
      "Epoch 209: 100%|██████████| 3/3 [00:02<00:00,  1.05it/s, loss=20.2, acc=0.66, AUC=0.723, val_acc=0.725, val_AUC=0.777]\n"
     ]
    },
    {
     "name": "stdout",
     "output_type": "stream",
     "text": [
      "tensor([-0.3786,  0.0632,  1.0454,  0.1362, -0.1187,  0.0240,  0.3591,  0.1545,\n",
      "         0.3346,  0.0429,  0.0735], device='cuda:0', grad_fn=<DivBackward0>)\n"
     ]
    },
    {
     "name": "stderr",
     "output_type": "stream",
     "text": [
      "Epoch 210: 100%|██████████| 3/3 [00:02<00:00,  1.07it/s, loss=20.1, acc=0.668, AUC=0.729, val_acc=0.698, val_AUC=0.784]\n"
     ]
    },
    {
     "name": "stdout",
     "output_type": "stream",
     "text": [
      "tensor([-0.3665,  0.0668,  1.0517,  0.1407, -0.1194,  0.0224,  0.3525,  0.1537,\n",
      "         0.3414,  0.0503,  0.0862], device='cuda:0', grad_fn=<DivBackward0>)\n"
     ]
    },
    {
     "name": "stderr",
     "output_type": "stream",
     "text": [
      "Epoch 211: 100%|██████████| 3/3 [00:02<00:00,  1.07it/s, loss=20.1, acc=0.665, AUC=0.728, val_acc=0.704, val_AUC=0.78]\n"
     ]
    },
    {
     "name": "stdout",
     "output_type": "stream",
     "text": [
      "tensor([-0.3672,  0.0602,  1.0425,  0.1343, -0.1270,  0.0149,  0.3473,  0.1488,\n",
      "         0.3351,  0.0292,  0.0772], device='cuda:0', grad_fn=<DivBackward0>)\n"
     ]
    },
    {
     "name": "stderr",
     "output_type": "stream",
     "text": [
      "Epoch 212: 100%|██████████| 3/3 [00:02<00:00,  1.07it/s, loss=20.1, acc=0.668, AUC=0.728, val_acc=0.704, val_AUC=0.774]\n"
     ]
    },
    {
     "name": "stdout",
     "output_type": "stream",
     "text": [
      "tensor([-0.3648,  0.0670,  1.0404,  0.1383, -0.1291,  0.0132,  0.3377,  0.1559,\n",
      "         0.3438,  0.0231,  0.0762], device='cuda:0', grad_fn=<DivBackward0>)\n"
     ]
    },
    {
     "name": "stderr",
     "output_type": "stream",
     "text": [
      "Epoch 213: 100%|██████████| 3/3 [00:02<00:00,  1.07it/s, loss=20, acc=0.668, AUC=0.731, val_acc=0.704, val_AUC=0.78]\n"
     ]
    },
    {
     "name": "stdout",
     "output_type": "stream",
     "text": [
      "tensor([-0.3573,  0.0654,  1.0492,  0.1448, -0.1207,  0.0175,  0.3537,  0.1578,\n",
      "         0.3392,  0.0353,  0.0856], device='cuda:0', grad_fn=<DivBackward0>)\n"
     ]
    },
    {
     "name": "stderr",
     "output_type": "stream",
     "text": [
      "Epoch 214: 100%|██████████| 3/3 [00:02<00:00,  1.05it/s, loss=20, acc=0.669, AUC=0.73, val_acc=0.707, val_AUC=0.773]\n"
     ]
    },
    {
     "name": "stdout",
     "output_type": "stream",
     "text": [
      "tensor([-0.3679,  0.0657,  1.0689,  0.1273, -0.1157,  0.0288,  0.3683,  0.1515,\n",
      "         0.3526,  0.0271,  0.0843], device='cuda:0', grad_fn=<DivBackward0>)\n"
     ]
    },
    {
     "name": "stderr",
     "output_type": "stream",
     "text": [
      "Epoch 215: 100%|██████████| 3/3 [00:02<00:00,  1.07it/s, loss=20.1, acc=0.666, AUC=0.729, val_acc=0.695, val_AUC=0.773]\n"
     ]
    },
    {
     "name": "stdout",
     "output_type": "stream",
     "text": [
      "tensor([-0.3492,  0.0651,  1.0627,  0.1353, -0.1062,  0.0200,  0.3687,  0.1530,\n",
      "         0.3505,  0.0262,  0.0835], device='cuda:0', grad_fn=<DivBackward0>)\n"
     ]
    },
    {
     "name": "stderr",
     "output_type": "stream",
     "text": [
      "Epoch 216: 100%|██████████| 3/3 [00:02<00:00,  1.07it/s, loss=20.1, acc=0.668, AUC=0.728, val_acc=0.713, val_AUC=0.78]\n"
     ]
    },
    {
     "name": "stdout",
     "output_type": "stream",
     "text": [
      "tensor([-0.3645,  0.0701,  1.0891,  0.1394, -0.1097,  0.0101,  0.3833,  0.1538,\n",
      "         0.3450,  0.0358,  0.0765], device='cuda:0', grad_fn=<DivBackward0>)\n"
     ]
    },
    {
     "name": "stderr",
     "output_type": "stream",
     "text": [
      "Epoch 217: 100%|██████████| 3/3 [00:02<00:00,  1.07it/s, loss=20.1, acc=0.664, AUC=0.727, val_acc=0.704, val_AUC=0.778]\n"
     ]
    },
    {
     "name": "stdout",
     "output_type": "stream",
     "text": [
      "tensor([-0.3626,  0.0680,  1.0982,  0.1358, -0.1113,  0.0094,  0.3821,  0.1612,\n",
      "         0.3598,  0.0445,  0.0848], device='cuda:0', grad_fn=<DivBackward0>)\n"
     ]
    },
    {
     "name": "stderr",
     "output_type": "stream",
     "text": [
      "Epoch 218: 100%|██████████| 3/3 [00:02<00:00,  1.07it/s, loss=20.2, acc=0.667, AUC=0.724, val_acc=0.713, val_AUC=0.781]\n"
     ]
    },
    {
     "name": "stdout",
     "output_type": "stream",
     "text": [
      "tensor([-0.3838,  0.0711,  1.1292,  0.1452, -0.1009,  0.0152,  0.3890,  0.1668,\n",
      "         0.3689,  0.0499,  0.0930], device='cuda:0', grad_fn=<DivBackward0>)\n"
     ]
    },
    {
     "name": "stderr",
     "output_type": "stream",
     "text": [
      "Epoch 219: 100%|██████████| 3/3 [00:02<00:00,  1.05it/s, loss=20.1, acc=0.673, AUC=0.727, val_acc=0.704, val_AUC=0.77]\n"
     ]
    },
    {
     "name": "stdout",
     "output_type": "stream",
     "text": [
      "tensor([-0.3817,  0.0661,  1.1297,  0.1360, -0.1045,  0.0060,  0.3857,  0.1808,\n",
      "         0.3690,  0.0515,  0.0820], device='cuda:0', grad_fn=<DivBackward0>)\n"
     ]
    },
    {
     "name": "stderr",
     "output_type": "stream",
     "text": [
      "Epoch 220: 100%|██████████| 3/3 [00:02<00:00,  1.07it/s, loss=20, acc=0.676, AUC=0.733, val_acc=0.716, val_AUC=0.774]\n"
     ]
    },
    {
     "name": "stdout",
     "output_type": "stream",
     "text": [
      "tensor([-0.3781,  0.0762,  1.1107,  0.1475, -0.1241,  0.0148,  0.3896,  0.1784,\n",
      "         0.3655,  0.0601,  0.0920], device='cuda:0', grad_fn=<DivBackward0>)\n"
     ]
    },
    {
     "name": "stderr",
     "output_type": "stream",
     "text": [
      "Epoch 221: 100%|██████████| 3/3 [00:02<00:00,  1.07it/s, loss=20.1, acc=0.664, AUC=0.727, val_acc=0.71, val_AUC=0.78]\n"
     ]
    },
    {
     "name": "stdout",
     "output_type": "stream",
     "text": [
      "tensor([-0.3777,  0.0650,  1.1077,  0.1385, -0.1130,  0.0116,  0.3922,  0.1735,\n",
      "         0.3611,  0.0456,  0.0878], device='cuda:0', grad_fn=<DivBackward0>)\n"
     ]
    },
    {
     "name": "stderr",
     "output_type": "stream",
     "text": [
      "Epoch 222: 100%|██████████| 3/3 [00:02<00:00,  1.07it/s, loss=20.1, acc=0.668, AUC=0.726, val_acc=0.707, val_AUC=0.776]\n"
     ]
    },
    {
     "name": "stdout",
     "output_type": "stream",
     "text": [
      "tensor([-0.3692,  0.0721,  1.1228,  0.1388, -0.1187,  0.0064,  0.3846,  0.1784,\n",
      "         0.3693,  0.0464,  0.0929], device='cuda:0', grad_fn=<DivBackward0>)\n"
     ]
    },
    {
     "name": "stderr",
     "output_type": "stream",
     "text": [
      "Epoch 223: 100%|██████████| 3/3 [00:02<00:00,  1.07it/s, loss=20.1, acc=0.67, AUC=0.727, val_acc=0.707, val_AUC=0.769]\n"
     ]
    },
    {
     "name": "stdout",
     "output_type": "stream",
     "text": [
      "tensor([-0.3902,  0.0679,  1.1146,  0.1388, -0.1216,  0.0179,  0.3944,  0.1779,\n",
      "         0.3696,  0.0499,  0.0818], device='cuda:0', grad_fn=<DivBackward0>)\n"
     ]
    },
    {
     "name": "stderr",
     "output_type": "stream",
     "text": [
      "Epoch 224: 100%|██████████| 3/3 [00:02<00:00,  1.05it/s, loss=20.1, acc=0.668, AUC=0.728, val_acc=0.689, val_AUC=0.781]\n"
     ]
    },
    {
     "name": "stdout",
     "output_type": "stream",
     "text": [
      "tensor([-0.3614,  0.0669,  1.0998,  0.1397, -0.1195,  0.0130,  0.3722,  0.1747,\n",
      "         0.3606,  0.0456,  0.0846], device='cuda:0', grad_fn=<DivBackward0>)\n"
     ]
    },
    {
     "name": "stderr",
     "output_type": "stream",
     "text": [
      "Epoch 225: 100%|██████████| 3/3 [00:02<00:00,  1.07it/s, loss=20, acc=0.671, AUC=0.729, val_acc=0.713, val_AUC=0.775]\n"
     ]
    },
    {
     "name": "stdout",
     "output_type": "stream",
     "text": [
      "tensor([-0.3726,  0.0684,  1.0873,  0.1383, -0.1299,  0.0164,  0.3749,  0.1740,\n",
      "         0.3548,  0.0475,  0.0795], device='cuda:0', grad_fn=<DivBackward0>)\n"
     ]
    },
    {
     "name": "stderr",
     "output_type": "stream",
     "text": [
      "Epoch 226: 100%|██████████| 3/3 [00:02<00:00,  1.07it/s, loss=20.1, acc=0.665, AUC=0.727, val_acc=0.695, val_AUC=0.777]\n"
     ]
    },
    {
     "name": "stdout",
     "output_type": "stream",
     "text": [
      "tensor([-0.3635,  0.0799,  1.0651,  0.1403, -0.1267,  0.0087,  0.3668,  0.1641,\n",
      "         0.3575,  0.0474,  0.0909], device='cuda:0', grad_fn=<DivBackward0>)\n"
     ]
    },
    {
     "name": "stderr",
     "output_type": "stream",
     "text": [
      "Epoch 227: 100%|██████████| 3/3 [00:02<00:00,  1.07it/s, loss=20, acc=0.67, AUC=0.732, val_acc=0.701, val_AUC=0.778]\n"
     ]
    },
    {
     "name": "stdout",
     "output_type": "stream",
     "text": [
      "tensor([-0.3498,  0.0705,  1.0627,  0.1436, -0.1405,  0.0065,  0.3630,  0.1558,\n",
      "         0.3486,  0.0397,  0.0819], device='cuda:0', grad_fn=<DivBackward0>)\n"
     ]
    },
    {
     "name": "stderr",
     "output_type": "stream",
     "text": [
      "Epoch 228: 100%|██████████| 3/3 [00:02<00:00,  1.07it/s, loss=20, acc=0.67, AUC=0.731, val_acc=0.71, val_AUC=0.779]\n"
     ]
    },
    {
     "name": "stdout",
     "output_type": "stream",
     "text": [
      "tensor([-0.3602,  0.0648,  1.0665,  0.1312, -0.1276,  0.0072,  0.3589,  0.1658,\n",
      "         0.3471,  0.0374,  0.0732], device='cuda:0', grad_fn=<DivBackward0>)\n"
     ]
    },
    {
     "name": "stderr",
     "output_type": "stream",
     "text": [
      "Epoch 229: 100%|██████████| 3/3 [00:02<00:00,  1.05it/s, loss=20.1, acc=0.67, AUC=0.726, val_acc=0.716, val_AUC=0.78]\n"
     ]
    },
    {
     "name": "stdout",
     "output_type": "stream",
     "text": [
      "tensor([-0.3771,  0.0776,  1.0925,  0.1276, -0.1421,  0.0135,  0.3762,  0.1689,\n",
      "         0.3679,  0.0461,  0.0910], device='cuda:0', grad_fn=<DivBackward0>)\n"
     ]
    },
    {
     "name": "stderr",
     "output_type": "stream",
     "text": [
      "Epoch 230: 100%|██████████| 3/3 [00:02<00:00,  1.07it/s, loss=20, acc=0.671, AUC=0.73, val_acc=0.725, val_AUC=0.78]\n"
     ]
    },
    {
     "name": "stdout",
     "output_type": "stream",
     "text": [
      "tensor([-0.3753,  0.0722,  1.0898,  0.1315, -0.1444,  0.0178,  0.3712,  0.1753,\n",
      "         0.3469,  0.0611,  0.0731], device='cuda:0', grad_fn=<DivBackward0>)\n"
     ]
    },
    {
     "name": "stderr",
     "output_type": "stream",
     "text": [
      "Epoch 231: 100%|██████████| 3/3 [00:02<00:00,  1.07it/s, loss=20.1, acc=0.673, AUC=0.729, val_acc=0.704, val_AUC=0.767]\n"
     ]
    },
    {
     "name": "stdout",
     "output_type": "stream",
     "text": [
      "tensor([-0.3755,  0.0688,  1.1023,  0.1266, -0.1286, -0.0074,  0.3812,  0.1795,\n",
      "         0.3615,  0.0591,  0.0893], device='cuda:0', grad_fn=<DivBackward0>)\n"
     ]
    },
    {
     "name": "stderr",
     "output_type": "stream",
     "text": [
      "Epoch 232: 100%|██████████| 3/3 [00:02<00:00,  1.07it/s, loss=19.9, acc=0.673, AUC=0.732, val_acc=0.707, val_AUC=0.774]\n"
     ]
    },
    {
     "name": "stdout",
     "output_type": "stream",
     "text": [
      "tensor([-0.3804,  0.0730,  1.1156,  0.1339, -0.1271,  0.0133,  0.4016,  0.1719,\n",
      "         0.3650,  0.0570,  0.0796], device='cuda:0', grad_fn=<DivBackward0>)\n"
     ]
    },
    {
     "name": "stderr",
     "output_type": "stream",
     "text": [
      "Epoch 233: 100%|██████████| 3/3 [00:02<00:00,  1.07it/s, loss=20.1, acc=0.671, AUC=0.728, val_acc=0.704, val_AUC=0.766]\n"
     ]
    },
    {
     "name": "stdout",
     "output_type": "stream",
     "text": [
      "tensor([-3.9816e-01,  8.3847e-02,  1.1402e+00,  1.2263e-01, -1.0959e-01,\n",
      "         3.2877e-04,  4.1426e-01,  1.9348e-01,  3.7558e-01,  6.0492e-02,\n",
      "         9.6106e-02], device='cuda:0', grad_fn=<DivBackward0>)\n"
     ]
    },
    {
     "name": "stderr",
     "output_type": "stream",
     "text": [
      "Epoch 234: 100%|██████████| 3/3 [00:02<00:00,  1.05it/s, loss=20.1, acc=0.668, AUC=0.729, val_acc=0.719, val_AUC=0.779]\n"
     ]
    },
    {
     "name": "stdout",
     "output_type": "stream",
     "text": [
      "tensor([-0.3999,  0.0734,  1.1546,  0.1144, -0.1107,  0.0145,  0.4199,  0.2145,\n",
      "         0.3843,  0.0654,  0.0907], device='cuda:0', grad_fn=<DivBackward0>)\n"
     ]
    },
    {
     "name": "stderr",
     "output_type": "stream",
     "text": [
      "Epoch 235: 100%|██████████| 3/3 [00:02<00:00,  1.07it/s, loss=20.1, acc=0.668, AUC=0.728, val_acc=0.704, val_AUC=0.774]\n"
     ]
    },
    {
     "name": "stdout",
     "output_type": "stream",
     "text": [
      "tensor([-0.3885,  0.0774,  1.1396,  0.1078, -0.1154,  0.0124,  0.4199,  0.2099,\n",
      "         0.3818,  0.0486,  0.1005], device='cuda:0', grad_fn=<DivBackward0>)\n"
     ]
    },
    {
     "name": "stderr",
     "output_type": "stream",
     "text": [
      "Epoch 236: 100%|██████████| 3/3 [00:02<00:00,  1.07it/s, loss=20.1, acc=0.667, AUC=0.727, val_acc=0.692, val_AUC=0.776]\n"
     ]
    },
    {
     "name": "stdout",
     "output_type": "stream",
     "text": [
      "tensor([-0.3700,  0.0830,  1.1054,  0.1165, -0.1129,  0.0172,  0.4005,  0.1935,\n",
      "         0.3631,  0.0412,  0.0917], device='cuda:0', grad_fn=<DivBackward0>)\n"
     ]
    },
    {
     "name": "stderr",
     "output_type": "stream",
     "text": [
      "Epoch 237: 100%|██████████| 3/3 [00:02<00:00,  1.08it/s, loss=20.1, acc=0.672, AUC=0.727, val_acc=0.716, val_AUC=0.771]\n"
     ]
    },
    {
     "name": "stdout",
     "output_type": "stream",
     "text": [
      "tensor([-0.3597,  0.0808,  1.0798,  0.1361, -0.1311,  0.0261,  0.3747,  0.1826,\n",
      "         0.3679,  0.0438,  0.0732], device='cuda:0', grad_fn=<DivBackward0>)\n"
     ]
    },
    {
     "name": "stderr",
     "output_type": "stream",
     "text": [
      "Epoch 238: 100%|██████████| 3/3 [00:02<00:00,  1.07it/s, loss=20.1, acc=0.667, AUC=0.728, val_acc=0.701, val_AUC=0.78]\n"
     ]
    },
    {
     "name": "stdout",
     "output_type": "stream",
     "text": [
      "tensor([-0.3620,  0.0732,  1.0761,  0.1247, -0.1362,  0.0169,  0.3811,  0.1824,\n",
      "         0.3612,  0.0432,  0.0840], device='cuda:0', grad_fn=<DivBackward0>)\n"
     ]
    },
    {
     "name": "stderr",
     "output_type": "stream",
     "text": [
      "Epoch 239: 100%|██████████| 3/3 [00:02<00:00,  1.06it/s, loss=20, acc=0.669, AUC=0.73, val_acc=0.713, val_AUC=0.773]\n"
     ]
    },
    {
     "name": "stdout",
     "output_type": "stream",
     "text": [
      "tensor([-0.3575,  0.0801,  1.0504,  0.1286, -0.1331,  0.0254,  0.3561,  0.1776,\n",
      "         0.3547,  0.0378,  0.0805], device='cuda:0', grad_fn=<DivBackward0>)\n"
     ]
    },
    {
     "name": "stderr",
     "output_type": "stream",
     "text": [
      "Epoch 240: 100%|██████████| 3/3 [00:02<00:00,  1.07it/s, loss=20, acc=0.672, AUC=0.731, val_acc=0.704, val_AUC=0.769]\n"
     ]
    },
    {
     "name": "stdout",
     "output_type": "stream",
     "text": [
      "tensor([-0.3748,  0.0731,  1.0981,  0.1354, -0.1114,  0.0210,  0.3931,  0.2006,\n",
      "         0.3744,  0.0452,  0.0920], device='cuda:0', grad_fn=<DivBackward0>)\n"
     ]
    },
    {
     "name": "stderr",
     "output_type": "stream",
     "text": [
      "Epoch 241: 100%|██████████| 3/3 [00:02<00:00,  1.07it/s, loss=20.1, acc=0.669, AUC=0.729, val_acc=0.713, val_AUC=0.778]\n"
     ]
    },
    {
     "name": "stdout",
     "output_type": "stream",
     "text": [
      "tensor([-0.3771,  0.0772,  1.1082,  0.1253, -0.1057,  0.0279,  0.3915,  0.2026,\n",
      "         0.3762,  0.0266,  0.0908], device='cuda:0', grad_fn=<DivBackward0>)\n"
     ]
    },
    {
     "name": "stderr",
     "output_type": "stream",
     "text": [
      "Epoch 242: 100%|██████████| 3/3 [00:02<00:00,  1.07it/s, loss=20, acc=0.673, AUC=0.729, val_acc=0.725, val_AUC=0.773]\n"
     ]
    },
    {
     "name": "stdout",
     "output_type": "stream",
     "text": [
      "tensor([-0.3595,  0.0689,  1.0700,  0.1443, -0.1328,  0.0260,  0.3756,  0.1837,\n",
      "         0.3669,  0.0375,  0.0764], device='cuda:0', grad_fn=<DivBackward0>)\n"
     ]
    },
    {
     "name": "stderr",
     "output_type": "stream",
     "text": [
      "Epoch 243: 100%|██████████| 3/3 [00:02<00:00,  1.07it/s, loss=20.1, acc=0.671, AUC=0.726, val_acc=0.686, val_AUC=0.772]\n"
     ]
    },
    {
     "name": "stdout",
     "output_type": "stream",
     "text": [
      "tensor([-0.3674,  0.0791,  1.0781,  0.1481, -0.1241,  0.0289,  0.3718,  0.1836,\n",
      "         0.3718,  0.0429,  0.0664], device='cuda:0', grad_fn=<DivBackward0>)\n"
     ]
    },
    {
     "name": "stderr",
     "output_type": "stream",
     "text": [
      "Epoch 244: 100%|██████████| 3/3 [00:02<00:00,  1.05it/s, loss=20.1, acc=0.673, AUC=0.728, val_acc=0.704, val_AUC=0.788]\n"
     ]
    },
    {
     "name": "stdout",
     "output_type": "stream",
     "text": [
      "tensor([-0.3844,  0.0801,  1.0906,  0.1471, -0.1250,  0.0221,  0.3755,  0.1946,\n",
      "         0.3765,  0.0477,  0.0804], device='cuda:0', grad_fn=<DivBackward0>)\n"
     ]
    },
    {
     "name": "stderr",
     "output_type": "stream",
     "text": [
      "Epoch 245: 100%|██████████| 3/3 [00:02<00:00,  1.07it/s, loss=20, acc=0.675, AUC=0.73, val_acc=0.725, val_AUC=0.776]\n"
     ]
    },
    {
     "name": "stdout",
     "output_type": "stream",
     "text": [
      "tensor([-0.3753,  0.0791,  1.0857,  0.1363, -0.1357,  0.0184,  0.3808,  0.1830,\n",
      "         0.3676,  0.0513,  0.0774], device='cuda:0', grad_fn=<DivBackward0>)\n"
     ]
    },
    {
     "name": "stderr",
     "output_type": "stream",
     "text": [
      "Epoch 246: 100%|██████████| 3/3 [00:02<00:00,  1.08it/s, loss=20, acc=0.672, AUC=0.728, val_acc=0.704, val_AUC=0.78]\n"
     ]
    },
    {
     "name": "stdout",
     "output_type": "stream",
     "text": [
      "tensor([-0.3752,  0.0821,  1.0979,  0.1414, -0.1351,  0.0194,  0.3826,  0.1947,\n",
      "         0.3528,  0.0537,  0.0770], device='cuda:0', grad_fn=<DivBackward0>)\n"
     ]
    },
    {
     "name": "stderr",
     "output_type": "stream",
     "text": [
      "Epoch 247: 100%|██████████| 3/3 [00:02<00:00,  1.08it/s, loss=20, acc=0.667, AUC=0.729, val_acc=0.695, val_AUC=0.773]\n"
     ]
    },
    {
     "name": "stdout",
     "output_type": "stream",
     "text": [
      "tensor([-0.3895,  0.0775,  1.1066,  0.1293, -0.1375,  0.0264,  0.3722,  0.1860,\n",
      "         0.3703,  0.0437,  0.0718], device='cuda:0', grad_fn=<DivBackward0>)\n"
     ]
    },
    {
     "name": "stderr",
     "output_type": "stream",
     "text": [
      "Epoch 248: 100%|██████████| 3/3 [00:02<00:00,  1.07it/s, loss=20, acc=0.666, AUC=0.73, val_acc=0.707, val_AUC=0.772]\n"
     ]
    },
    {
     "name": "stdout",
     "output_type": "stream",
     "text": [
      "tensor([-0.3733,  0.0814,  1.1099,  0.1327, -0.1371,  0.0197,  0.3802,  0.1875,\n",
      "         0.3572,  0.0321,  0.0806], device='cuda:0', grad_fn=<DivBackward0>)\n"
     ]
    },
    {
     "name": "stderr",
     "output_type": "stream",
     "text": [
      "Epoch 249: 100%|██████████| 3/3 [00:02<00:00,  1.05it/s, loss=19.9, acc=0.667, AUC=0.733, val_acc=0.71, val_AUC=0.78]\n"
     ]
    },
    {
     "name": "stdout",
     "output_type": "stream",
     "text": [
      "tensor([-0.4019,  0.0798,  1.1142,  0.1272, -0.1429,  0.0355,  0.3831,  0.1935,\n",
      "         0.3588,  0.0376,  0.0813], device='cuda:0', grad_fn=<DivBackward0>)\n"
     ]
    },
    {
     "name": "stderr",
     "output_type": "stream",
     "text": [
      "Epoch 250: 100%|██████████| 3/3 [00:02<00:00,  1.07it/s, loss=20, acc=0.669, AUC=0.73, val_acc=0.707, val_AUC=0.774]\n"
     ]
    },
    {
     "name": "stdout",
     "output_type": "stream",
     "text": [
      "tensor([-0.3802,  0.0813,  1.1093,  0.1307, -0.1278,  0.0180,  0.3851,  0.1882,\n",
      "         0.3675,  0.0331,  0.0900], device='cuda:0', grad_fn=<DivBackward0>)\n"
     ]
    },
    {
     "name": "stderr",
     "output_type": "stream",
     "text": [
      "Epoch 251: 100%|██████████| 3/3 [00:02<00:00,  1.07it/s, loss=20.1, acc=0.672, AUC=0.729, val_acc=0.71, val_AUC=0.777]\n"
     ]
    },
    {
     "name": "stdout",
     "output_type": "stream",
     "text": [
      "tensor([-0.3705,  0.0779,  1.0941,  0.1400, -0.1548,  0.0233,  0.3687,  0.1810,\n",
      "         0.3617,  0.0345,  0.0709], device='cuda:0', grad_fn=<DivBackward0>)\n"
     ]
    },
    {
     "name": "stderr",
     "output_type": "stream",
     "text": [
      "Epoch 252: 100%|██████████| 3/3 [00:02<00:00,  1.07it/s, loss=20, acc=0.67, AUC=0.731, val_acc=0.731, val_AUC=0.777]\n"
     ]
    },
    {
     "name": "stdout",
     "output_type": "stream",
     "text": [
      "tensor([-0.3473,  0.0908,  1.0592,  0.1603, -0.1439,  0.0202,  0.3665,  0.1647,\n",
      "         0.3535,  0.0374,  0.0660], device='cuda:0', grad_fn=<DivBackward0>)\n"
     ]
    },
    {
     "name": "stderr",
     "output_type": "stream",
     "text": [
      "Epoch 253: 100%|██████████| 3/3 [00:02<00:00,  1.07it/s, loss=20.1, acc=0.669, AUC=0.726, val_acc=0.707, val_AUC=0.772]\n"
     ]
    },
    {
     "name": "stdout",
     "output_type": "stream",
     "text": [
      "tensor([-0.3513,  0.0875,  1.0411,  0.1592, -0.1500,  0.0136,  0.3590,  0.1652,\n",
      "         0.3509,  0.0432,  0.0517], device='cuda:0', grad_fn=<DivBackward0>)\n"
     ]
    },
    {
     "name": "stderr",
     "output_type": "stream",
     "text": [
      "Epoch 254: 100%|██████████| 3/3 [00:02<00:00,  1.05it/s, loss=20, acc=0.67, AUC=0.729, val_acc=0.698, val_AUC=0.778]\n"
     ]
    },
    {
     "name": "stdout",
     "output_type": "stream",
     "text": [
      "tensor([-0.3661,  0.0929,  1.0710,  0.1597, -0.1403,  0.0242,  0.3703,  0.1625,\n",
      "         0.3600,  0.0454,  0.0605], device='cuda:0', grad_fn=<DivBackward0>)\n"
     ]
    },
    {
     "name": "stderr",
     "output_type": "stream",
     "text": [
      "Epoch 255: 100%|██████████| 3/3 [00:02<00:00,  1.07it/s, loss=20, acc=0.675, AUC=0.732, val_acc=0.719, val_AUC=0.78]\n"
     ]
    },
    {
     "name": "stdout",
     "output_type": "stream",
     "text": [
      "tensor([-0.3506,  0.0829,  1.0527,  0.1744, -0.1451,  0.0186,  0.3577,  0.1672,\n",
      "         0.3451,  0.0464,  0.0641], device='cuda:0', grad_fn=<DivBackward0>)\n"
     ]
    },
    {
     "name": "stderr",
     "output_type": "stream",
     "text": [
      "Epoch 256: 100%|██████████| 3/3 [00:02<00:00,  1.07it/s, loss=20, acc=0.669, AUC=0.728, val_acc=0.704, val_AUC=0.78]\n"
     ]
    },
    {
     "name": "stdout",
     "output_type": "stream",
     "text": [
      "tensor([-0.3562,  0.0883,  1.0489,  0.1826, -0.1388,  0.0140,  0.3580,  0.1581,\n",
      "         0.3592,  0.0397,  0.0511], device='cuda:0', grad_fn=<DivBackward0>)\n"
     ]
    },
    {
     "name": "stderr",
     "output_type": "stream",
     "text": [
      "Epoch 257: 100%|██████████| 3/3 [00:02<00:00,  1.07it/s, loss=20, acc=0.665, AUC=0.732, val_acc=0.71, val_AUC=0.784]\n"
     ]
    },
    {
     "name": "stdout",
     "output_type": "stream",
     "text": [
      "tensor([-0.3385,  0.0857,  1.0452,  0.1740, -0.1449,  0.0187,  0.3588,  0.1566,\n",
      "         0.3525,  0.0476,  0.0536], device='cuda:0', grad_fn=<DivBackward0>)\n"
     ]
    },
    {
     "name": "stderr",
     "output_type": "stream",
     "text": [
      "Epoch 258: 100%|██████████| 3/3 [00:02<00:00,  1.07it/s, loss=20, acc=0.672, AUC=0.73, val_acc=0.704, val_AUC=0.773]\n"
     ]
    },
    {
     "name": "stdout",
     "output_type": "stream",
     "text": [
      "tensor([-0.3419,  0.0797,  1.0356,  0.1878, -0.1363,  0.0090,  0.3656,  0.1558,\n",
      "         0.3634,  0.0447,  0.0431], device='cuda:0', grad_fn=<DivBackward0>)\n"
     ]
    },
    {
     "name": "stderr",
     "output_type": "stream",
     "text": [
      "Epoch 259: 100%|██████████| 3/3 [00:02<00:00,  1.05it/s, loss=20, acc=0.672, AUC=0.73, val_acc=0.695, val_AUC=0.764]\n"
     ]
    },
    {
     "name": "stdout",
     "output_type": "stream",
     "text": [
      "tensor([-0.3462,  0.0830,  1.0275,  0.1866, -0.1446,  0.0178,  0.3620,  0.1573,\n",
      "         0.3590,  0.0465,  0.0543], device='cuda:0', grad_fn=<DivBackward0>)\n"
     ]
    },
    {
     "name": "stderr",
     "output_type": "stream",
     "text": [
      "Epoch 260: 100%|██████████| 3/3 [00:02<00:00,  1.07it/s, loss=20, acc=0.678, AUC=0.731, val_acc=0.707, val_AUC=0.774]\n"
     ]
    },
    {
     "name": "stdout",
     "output_type": "stream",
     "text": [
      "tensor([-0.3411,  0.0867,  1.0410,  0.1768, -0.1409,  0.0156,  0.3690,  0.1707,\n",
      "         0.3628,  0.0306,  0.0596], device='cuda:0', grad_fn=<DivBackward0>)\n"
     ]
    },
    {
     "name": "stderr",
     "output_type": "stream",
     "text": [
      "Epoch 261: 100%|██████████| 3/3 [00:02<00:00,  1.07it/s, loss=20, acc=0.675, AUC=0.732, val_acc=0.71, val_AUC=0.779]\n"
     ]
    },
    {
     "name": "stdout",
     "output_type": "stream",
     "text": [
      "tensor([-0.3292,  0.0774,  1.0118,  0.1925, -0.1487,  0.0146,  0.3515,  0.1480,\n",
      "         0.3580,  0.0224,  0.0577], device='cuda:0', grad_fn=<DivBackward0>)\n"
     ]
    },
    {
     "name": "stderr",
     "output_type": "stream",
     "text": [
      "Epoch 262: 100%|██████████| 3/3 [00:02<00:00,  1.07it/s, loss=20, acc=0.669, AUC=0.73, val_acc=0.704, val_AUC=0.775]\n"
     ]
    },
    {
     "name": "stdout",
     "output_type": "stream",
     "text": [
      "tensor([-0.3254,  0.0828,  0.9985,  0.1890, -0.1568,  0.0253,  0.3378,  0.1546,\n",
      "         0.3513,  0.0197,  0.0596], device='cuda:0', grad_fn=<DivBackward0>)\n"
     ]
    },
    {
     "name": "stderr",
     "output_type": "stream",
     "text": [
      "Epoch 263: 100%|██████████| 3/3 [00:02<00:00,  1.07it/s, loss=20.1, acc=0.671, AUC=0.727, val_acc=0.716, val_AUC=0.771]\n"
     ]
    },
    {
     "name": "stdout",
     "output_type": "stream",
     "text": [
      "tensor([-0.3541,  0.0833,  1.0330,  0.1767, -0.1498,  0.0265,  0.3561,  0.1723,\n",
      "         0.3645,  0.0315,  0.0631], device='cuda:0', grad_fn=<DivBackward0>)\n"
     ]
    },
    {
     "name": "stderr",
     "output_type": "stream",
     "text": [
      "Epoch 264: 100%|██████████| 3/3 [00:02<00:00,  1.05it/s, loss=20, acc=0.673, AUC=0.73, val_acc=0.692, val_AUC=0.771]\n"
     ]
    },
    {
     "name": "stdout",
     "output_type": "stream",
     "text": [
      "tensor([-0.3370,  0.0741,  1.0317,  0.1766, -0.1462,  0.0338,  0.3547,  0.1734,\n",
      "         0.3690,  0.0430,  0.0649], device='cuda:0', grad_fn=<DivBackward0>)\n"
     ]
    },
    {
     "name": "stderr",
     "output_type": "stream",
     "text": [
      "Epoch 265: 100%|██████████| 3/3 [00:02<00:00,  1.07it/s, loss=20, acc=0.67, AUC=0.731, val_acc=0.701, val_AUC=0.764]\n"
     ]
    },
    {
     "name": "stdout",
     "output_type": "stream",
     "text": [
      "tensor([-0.3299,  0.0753,  1.0391,  0.1640, -0.1552,  0.0268,  0.3522,  0.1744,\n",
      "         0.3596,  0.0303,  0.0707], device='cuda:0', grad_fn=<DivBackward0>)\n"
     ]
    },
    {
     "name": "stderr",
     "output_type": "stream",
     "text": [
      "Epoch 266: 100%|██████████| 3/3 [00:02<00:00,  1.07it/s, loss=20, acc=0.669, AUC=0.731, val_acc=0.707, val_AUC=0.781]\n"
     ]
    },
    {
     "name": "stdout",
     "output_type": "stream",
     "text": [
      "tensor([-0.3305,  0.0783,  1.0238,  0.1652, -0.1751,  0.0399,  0.3434,  0.1758,\n",
      "         0.3678,  0.0440,  0.0692], device='cuda:0', grad_fn=<DivBackward0>)\n"
     ]
    },
    {
     "name": "stderr",
     "output_type": "stream",
     "text": [
      "Epoch 267: 100%|██████████| 3/3 [00:02<00:00,  1.07it/s, loss=19.9, acc=0.671, AUC=0.733, val_acc=0.701, val_AUC=0.773]\n"
     ]
    },
    {
     "name": "stdout",
     "output_type": "stream",
     "text": [
      "tensor([-0.3271,  0.0839,  1.0232,  0.1741, -0.1721,  0.0310,  0.3354,  0.1724,\n",
      "         0.3556,  0.0425,  0.0639], device='cuda:0', grad_fn=<DivBackward0>)\n"
     ]
    },
    {
     "name": "stderr",
     "output_type": "stream",
     "text": [
      "Epoch 268: 100%|██████████| 3/3 [00:02<00:00,  1.07it/s, loss=20, acc=0.668, AUC=0.731, val_acc=0.698, val_AUC=0.764]\n"
     ]
    },
    {
     "name": "stdout",
     "output_type": "stream",
     "text": [
      "tensor([-0.3355,  0.0814,  1.0427,  0.1709, -0.1660,  0.0304,  0.3453,  0.1916,\n",
      "         0.3650,  0.0412,  0.0659], device='cuda:0', grad_fn=<DivBackward0>)\n"
     ]
    },
    {
     "name": "stderr",
     "output_type": "stream",
     "text": [
      "Epoch 269: 100%|██████████| 3/3 [00:02<00:00,  1.05it/s, loss=20, acc=0.676, AUC=0.732, val_acc=0.713, val_AUC=0.772]\n"
     ]
    },
    {
     "name": "stdout",
     "output_type": "stream",
     "text": [
      "tensor([-0.3437,  0.0687,  1.0544,  0.1758, -0.1582,  0.0401,  0.3513,  0.1953,\n",
      "         0.3624,  0.0500,  0.0665], device='cuda:0', grad_fn=<DivBackward0>)\n"
     ]
    },
    {
     "name": "stderr",
     "output_type": "stream",
     "text": [
      "Epoch 270: 100%|██████████| 3/3 [00:02<00:00,  1.07it/s, loss=19.9, acc=0.67, AUC=0.734, val_acc=0.707, val_AUC=0.775]\n"
     ]
    },
    {
     "name": "stdout",
     "output_type": "stream",
     "text": [
      "tensor([-0.3441,  0.0840,  1.0630,  0.1768, -0.1634,  0.0253,  0.3543,  0.1864,\n",
      "         0.3679,  0.0600,  0.0565], device='cuda:0', grad_fn=<DivBackward0>)\n"
     ]
    },
    {
     "name": "stderr",
     "output_type": "stream",
     "text": [
      "Epoch 271: 100%|██████████| 3/3 [00:02<00:00,  1.07it/s, loss=20, acc=0.669, AUC=0.731, val_acc=0.71, val_AUC=0.779]\n"
     ]
    },
    {
     "name": "stdout",
     "output_type": "stream",
     "text": [
      "tensor([-0.3486,  0.0749,  1.0827,  0.1689, -0.1542,  0.0018,  0.3761,  0.1828,\n",
      "         0.3768,  0.0565,  0.0618], device='cuda:0', grad_fn=<DivBackward0>)\n"
     ]
    },
    {
     "name": "stderr",
     "output_type": "stream",
     "text": [
      "Epoch 272: 100%|██████████| 3/3 [00:02<00:00,  1.07it/s, loss=20, acc=0.669, AUC=0.732, val_acc=0.719, val_AUC=0.78]\n"
     ]
    },
    {
     "name": "stdout",
     "output_type": "stream",
     "text": [
      "tensor([-0.3690,  0.0887,  1.1092,  0.1687, -0.1439,  0.0113,  0.3788,  0.2010,\n",
      "         0.3791,  0.0429,  0.0666], device='cuda:0', grad_fn=<DivBackward0>)\n"
     ]
    },
    {
     "name": "stderr",
     "output_type": "stream",
     "text": [
      "Epoch 273: 100%|██████████| 3/3 [00:02<00:00,  1.07it/s, loss=19.9, acc=0.676, AUC=0.732, val_acc=0.698, val_AUC=0.773]\n"
     ]
    },
    {
     "name": "stdout",
     "output_type": "stream",
     "text": [
      "tensor([-0.3461,  0.0766,  1.0770,  0.1797, -0.1665,  0.0060,  0.3656,  0.1890,\n",
      "         0.3681,  0.0514,  0.0456], device='cuda:0', grad_fn=<DivBackward0>)\n"
     ]
    },
    {
     "name": "stderr",
     "output_type": "stream",
     "text": [
      "Epoch 274: 100%|██████████| 3/3 [00:02<00:00,  1.05it/s, loss=20.1, acc=0.669, AUC=0.728, val_acc=0.707, val_AUC=0.772]\n"
     ]
    },
    {
     "name": "stdout",
     "output_type": "stream",
     "text": [
      "tensor([-0.3564,  0.0794,  1.0887,  0.1686, -0.1632,  0.0078,  0.3545,  0.1953,\n",
      "         0.3846,  0.0540,  0.0560], device='cuda:0', grad_fn=<DivBackward0>)\n"
     ]
    },
    {
     "name": "stderr",
     "output_type": "stream",
     "text": [
      "Epoch 275: 100%|██████████| 3/3 [00:02<00:00,  1.07it/s, loss=19.9, acc=0.681, AUC=0.734, val_acc=0.722, val_AUC=0.774]\n"
     ]
    },
    {
     "name": "stdout",
     "output_type": "stream",
     "text": [
      "tensor([-0.3549,  0.0825,  1.0855,  0.1676, -0.1629,  0.0041,  0.3557,  0.1927,\n",
      "         0.3630,  0.0548,  0.0576], device='cuda:0', grad_fn=<DivBackward0>)\n"
     ]
    },
    {
     "name": "stderr",
     "output_type": "stream",
     "text": [
      "Epoch 276: 100%|██████████| 3/3 [00:02<00:00,  1.07it/s, loss=20, acc=0.673, AUC=0.73, val_acc=0.71, val_AUC=0.774]\n"
     ]
    },
    {
     "name": "stdout",
     "output_type": "stream",
     "text": [
      "tensor([-0.3308,  0.0836,  1.0591,  0.1824, -0.1776,  0.0028,  0.3453,  0.1759,\n",
      "         0.3621,  0.0496,  0.0472], device='cuda:0', grad_fn=<DivBackward0>)\n"
     ]
    },
    {
     "name": "stderr",
     "output_type": "stream",
     "text": [
      "Epoch 277: 100%|██████████| 3/3 [00:02<00:00,  1.07it/s, loss=20, acc=0.669, AUC=0.731, val_acc=0.707, val_AUC=0.769]\n"
     ]
    },
    {
     "name": "stdout",
     "output_type": "stream",
     "text": [
      "tensor([-0.3369,  0.0824,  1.0602,  0.1846, -0.1840,  0.0046,  0.3338,  0.1777,\n",
      "         0.3636,  0.0417,  0.0524], device='cuda:0', grad_fn=<DivBackward0>)\n"
     ]
    },
    {
     "name": "stderr",
     "output_type": "stream",
     "text": [
      "Epoch 278: 100%|██████████| 3/3 [00:02<00:00,  1.07it/s, loss=19.9, acc=0.674, AUC=0.734, val_acc=0.701, val_AUC=0.777]\n"
     ]
    },
    {
     "name": "stdout",
     "output_type": "stream",
     "text": [
      "tensor([-0.3280,  0.0890,  1.0472,  0.1911, -0.1741,  0.0022,  0.3342,  0.1790,\n",
      "         0.3614,  0.0336,  0.0470], device='cuda:0', grad_fn=<DivBackward0>)\n"
     ]
    },
    {
     "name": "stderr",
     "output_type": "stream",
     "text": [
      "Epoch 279: 100%|██████████| 3/3 [00:02<00:00,  1.05it/s, loss=20, acc=0.674, AUC=0.731, val_acc=0.719, val_AUC=0.775]\n"
     ]
    },
    {
     "name": "stdout",
     "output_type": "stream",
     "text": [
      "tensor([-0.3420,  0.0882,  1.0589,  0.1976, -0.1678, -0.0015,  0.3362,  0.1719,\n",
      "         0.3670,  0.0341,  0.0604], device='cuda:0', grad_fn=<DivBackward0>)\n"
     ]
    },
    {
     "name": "stderr",
     "output_type": "stream",
     "text": [
      "Epoch 280: 100%|██████████| 3/3 [00:02<00:00,  1.07it/s, loss=20, acc=0.673, AUC=0.732, val_acc=0.707, val_AUC=0.773]\n"
     ]
    },
    {
     "name": "stdout",
     "output_type": "stream",
     "text": [
      "tensor([-0.3507,  0.0893,  1.0666,  0.1751, -0.1810, -0.0057,  0.3404,  0.1832,\n",
      "         0.3789,  0.0250,  0.0577], device='cuda:0', grad_fn=<DivBackward0>)\n"
     ]
    },
    {
     "name": "stderr",
     "output_type": "stream",
     "text": [
      "Epoch 281: 100%|██████████| 3/3 [00:02<00:00,  1.07it/s, loss=20, acc=0.673, AUC=0.731, val_acc=0.71, val_AUC=0.774]\n"
     ]
    },
    {
     "name": "stdout",
     "output_type": "stream",
     "text": [
      "tensor([-0.3687,  0.0914,  1.0784,  0.1779, -0.1698, -0.0027,  0.3462,  0.1960,\n",
      "         0.3925,  0.0293,  0.0553], device='cuda:0', grad_fn=<DivBackward0>)\n"
     ]
    },
    {
     "name": "stderr",
     "output_type": "stream",
     "text": [
      "Epoch 282: 100%|██████████| 3/3 [00:02<00:00,  1.07it/s, loss=20, acc=0.676, AUC=0.732, val_acc=0.701, val_AUC=0.777]\n"
     ]
    },
    {
     "name": "stdout",
     "output_type": "stream",
     "text": [
      "tensor([-3.5591e-01,  9.1568e-02,  1.0758e+00,  1.8627e-01, -1.6928e-01,\n",
      "         4.1069e-04,  3.4291e-01,  1.7727e-01,  3.7293e-01,  3.3871e-02,\n",
      "         6.5570e-02], device='cuda:0', grad_fn=<DivBackward0>)\n"
     ]
    },
    {
     "name": "stderr",
     "output_type": "stream",
     "text": [
      "Epoch 283: 100%|██████████| 3/3 [00:02<00:00,  1.07it/s, loss=20, acc=0.67, AUC=0.732, val_acc=0.695, val_AUC=0.766]\n"
     ]
    },
    {
     "name": "stdout",
     "output_type": "stream",
     "text": [
      "tensor([-0.3603,  0.0881,  1.0870,  0.1779, -0.1546, -0.0112,  0.3652,  0.2001,\n",
      "         0.3908,  0.0395,  0.0605], device='cuda:0', grad_fn=<DivBackward0>)\n"
     ]
    },
    {
     "name": "stderr",
     "output_type": "stream",
     "text": [
      "Epoch 284: 100%|██████████| 3/3 [00:02<00:00,  1.06it/s, loss=19.9, acc=0.681, AUC=0.734, val_acc=0.704, val_AUC=0.776]\n"
     ]
    },
    {
     "name": "stdout",
     "output_type": "stream",
     "text": [
      "tensor([-0.3479,  0.0862,  1.0727,  0.1873, -0.1618, -0.0046,  0.3450,  0.1868,\n",
      "         0.3779,  0.0307,  0.0734], device='cuda:0', grad_fn=<DivBackward0>)\n"
     ]
    },
    {
     "name": "stderr",
     "output_type": "stream",
     "text": [
      "Epoch 285: 100%|██████████| 3/3 [00:02<00:00,  1.07it/s, loss=19.9, acc=0.679, AUC=0.734, val_acc=0.695, val_AUC=0.768]\n"
     ]
    },
    {
     "name": "stdout",
     "output_type": "stream",
     "text": [
      "tensor([-0.3444,  0.0860,  1.0499,  0.1983, -0.1720, -0.0061,  0.3412,  0.1704,\n",
      "         0.3770,  0.0365,  0.0620], device='cuda:0', grad_fn=<DivBackward0>)\n"
     ]
    },
    {
     "name": "stderr",
     "output_type": "stream",
     "text": [
      "Epoch 286: 100%|██████████| 3/3 [00:02<00:00,  1.07it/s, loss=20, acc=0.669, AUC=0.733, val_acc=0.695, val_AUC=0.773]\n"
     ]
    },
    {
     "name": "stdout",
     "output_type": "stream",
     "text": [
      "tensor([-0.3495,  0.0859,  1.0538,  0.1967, -0.1636, -0.0059,  0.3453,  0.1801,\n",
      "         0.3803,  0.0351,  0.0536], device='cuda:0', grad_fn=<DivBackward0>)\n"
     ]
    },
    {
     "name": "stderr",
     "output_type": "stream",
     "text": [
      "Epoch 287: 100%|██████████| 3/3 [00:02<00:00,  1.07it/s, loss=20, acc=0.669, AUC=0.73, val_acc=0.701, val_AUC=0.776]\n"
     ]
    },
    {
     "name": "stdout",
     "output_type": "stream",
     "text": [
      "tensor([-0.3518,  0.0900,  1.0687,  0.1981, -0.1623, -0.0163,  0.3549,  0.1750,\n",
      "         0.3829,  0.0395,  0.0573], device='cuda:0', grad_fn=<DivBackward0>)\n"
     ]
    },
    {
     "name": "stderr",
     "output_type": "stream",
     "text": [
      "Epoch 288: 100%|██████████| 3/3 [00:02<00:00,  1.07it/s, loss=20, acc=0.67, AUC=0.732, val_acc=0.698, val_AUC=0.77]\n"
     ]
    },
    {
     "name": "stdout",
     "output_type": "stream",
     "text": [
      "tensor([-0.3406,  0.0902,  1.0570,  0.1917, -0.1532, -0.0180,  0.3555,  0.1660,\n",
      "         0.3875,  0.0302,  0.0658], device='cuda:0', grad_fn=<DivBackward0>)\n"
     ]
    },
    {
     "name": "stderr",
     "output_type": "stream",
     "text": [
      "Epoch 289: 100%|██████████| 3/3 [00:02<00:00,  1.07it/s, loss=20, acc=0.677, AUC=0.732, val_acc=0.695, val_AUC=0.776]\n"
     ]
    },
    {
     "name": "stdout",
     "output_type": "stream",
     "text": [
      "tensor([-0.3479,  0.0912,  1.0583,  0.1857, -0.1696, -0.0115,  0.3445,  0.1784,\n",
      "         0.3773,  0.0340,  0.0587], device='cuda:0', grad_fn=<DivBackward0>)\n"
     ]
    },
    {
     "name": "stderr",
     "output_type": "stream",
     "text": [
      "Epoch 290: 100%|██████████| 3/3 [00:02<00:00,  1.05it/s, loss=20, acc=0.672, AUC=0.731, val_acc=0.704, val_AUC=0.777]\n"
     ]
    },
    {
     "name": "stdout",
     "output_type": "stream",
     "text": [
      "tensor([-0.3357,  0.0900,  1.0480,  0.1958, -0.1622, -0.0055,  0.3492,  0.1694,\n",
      "         0.3818,  0.0341,  0.0594], device='cuda:0', grad_fn=<DivBackward0>)\n"
     ]
    },
    {
     "name": "stderr",
     "output_type": "stream",
     "text": [
      "Epoch 291: 100%|██████████| 3/3 [00:02<00:00,  1.07it/s, loss=20, acc=0.676, AUC=0.732, val_acc=0.698, val_AUC=0.769]\n"
     ]
    },
    {
     "name": "stdout",
     "output_type": "stream",
     "text": [
      "tensor([-0.3351,  0.0856,  1.0257,  0.1918, -0.1668, -0.0028,  0.3388,  0.1650,\n",
      "         0.3667,  0.0235,  0.0582], device='cuda:0', grad_fn=<DivBackward0>)\n"
     ]
    },
    {
     "name": "stderr",
     "output_type": "stream",
     "text": [
      "Epoch 292: 100%|██████████| 3/3 [00:02<00:00,  1.07it/s, loss=19.9, acc=0.676, AUC=0.732, val_acc=0.71, val_AUC=0.777]\n"
     ]
    },
    {
     "name": "stdout",
     "output_type": "stream",
     "text": [
      "tensor([-0.3295,  0.0929,  1.0362,  0.1984, -0.1718, -0.0099,  0.3387,  0.1659,\n",
      "         0.3703,  0.0292,  0.0609], device='cuda:0', grad_fn=<DivBackward0>)\n"
     ]
    },
    {
     "name": "stderr",
     "output_type": "stream",
     "text": [
      "Epoch 293: 100%|██████████| 3/3 [00:02<00:00,  1.07it/s, loss=19.9, acc=0.675, AUC=0.734, val_acc=0.716, val_AUC=0.778]\n"
     ]
    },
    {
     "name": "stdout",
     "output_type": "stream",
     "text": [
      "tensor([-0.3297,  0.1006,  1.0550,  0.1760, -0.1670, -0.0027,  0.3315,  0.1849,\n",
      "         0.3739,  0.0196,  0.0715], device='cuda:0', grad_fn=<DivBackward0>)\n"
     ]
    },
    {
     "name": "stderr",
     "output_type": "stream",
     "text": [
      "Epoch 294: 100%|██████████| 3/3 [00:02<00:00,  1.07it/s, loss=20, acc=0.672, AUC=0.73, val_acc=0.704, val_AUC=0.781]\n"
     ]
    },
    {
     "name": "stdout",
     "output_type": "stream",
     "text": [
      "tensor([-0.3364,  0.0930,  1.0557,  0.1819, -0.1629, -0.0080,  0.3399,  0.1796,\n",
      "         0.3716,  0.0249,  0.0760], device='cuda:0', grad_fn=<DivBackward0>)\n"
     ]
    },
    {
     "name": "stderr",
     "output_type": "stream",
     "text": [
      "Epoch 295: 100%|██████████| 3/3 [00:02<00:00,  1.07it/s, loss=19.9, acc=0.68, AUC=0.733, val_acc=0.707, val_AUC=0.777]\n"
     ]
    },
    {
     "name": "stdout",
     "output_type": "stream",
     "text": [
      "tensor([-0.3502,  0.0903,  1.0798,  0.1716, -0.1519,  0.0031,  0.3501,  0.1936,\n",
      "         0.3950,  0.0301,  0.0761], device='cuda:0', grad_fn=<DivBackward0>)\n"
     ]
    },
    {
     "name": "stderr",
     "output_type": "stream",
     "text": [
      "Epoch 296: 100%|██████████| 3/3 [00:02<00:00,  1.05it/s, loss=20, acc=0.674, AUC=0.731, val_acc=0.707, val_AUC=0.773]\n"
     ]
    },
    {
     "name": "stdout",
     "output_type": "stream",
     "text": [
      "tensor([-0.3543,  0.0851,  1.1068,  0.1642, -0.1428, -0.0058,  0.3732,  0.2131,\n",
      "         0.3942,  0.0360,  0.0893], device='cuda:0', grad_fn=<DivBackward0>)\n"
     ]
    },
    {
     "name": "stderr",
     "output_type": "stream",
     "text": [
      "Epoch 297: 100%|██████████| 3/3 [00:02<00:00,  1.07it/s, loss=19.9, acc=0.67, AUC=0.733, val_acc=0.701, val_AUC=0.779]\n"
     ]
    },
    {
     "name": "stdout",
     "output_type": "stream",
     "text": [
      "tensor([-0.3578,  0.0893,  1.1130,  0.1684, -0.1329, -0.0051,  0.3786,  0.2057,\n",
      "         0.3986,  0.0420,  0.0798], device='cuda:0', grad_fn=<DivBackward0>)\n"
     ]
    },
    {
     "name": "stderr",
     "output_type": "stream",
     "text": [
      "Epoch 298: 100%|██████████| 3/3 [00:02<00:00,  1.07it/s, loss=20, acc=0.671, AUC=0.731, val_acc=0.734, val_AUC=0.787]\n"
     ]
    },
    {
     "name": "stdout",
     "output_type": "stream",
     "text": [
      "tensor([-0.3646,  0.0979,  1.1216,  0.1592, -0.1308, -0.0069,  0.3790,  0.2202,\n",
      "         0.4009,  0.0300,  0.0912], device='cuda:0', grad_fn=<DivBackward0>)\n"
     ]
    },
    {
     "name": "stderr",
     "output_type": "stream",
     "text": [
      "Epoch 299: 100%|██████████| 3/3 [00:02<00:00,  1.07it/s, loss=20.1, acc=0.673, AUC=0.73, val_acc=0.713, val_AUC=0.776]\n"
     ]
    },
    {
     "name": "stdout",
     "output_type": "stream",
     "text": [
      "tensor([-0.3673,  0.0922,  1.1178,  0.1583, -0.1271, -0.0085,  0.3802,  0.2142,\n",
      "         0.4055,  0.0246,  0.0874], device='cuda:0', grad_fn=<DivBackward0>)\n"
     ]
    },
    {
     "name": "stderr",
     "output_type": "stream",
     "text": [
      "Epoch 300: 100%|██████████| 3/3 [00:02<00:00,  1.07it/s, loss=19.9, acc=0.674, AUC=0.734, val_acc=0.701, val_AUC=0.772]\n"
     ]
    },
    {
     "name": "stdout",
     "output_type": "stream",
     "text": [
      "tensor([-0.3435,  0.0899,  1.0921,  0.1777, -0.1421, -0.0067,  0.3666,  0.1936,\n",
      "         0.3940,  0.0275,  0.0826], device='cuda:0', grad_fn=<DivBackward0>)\n"
     ]
    },
    {
     "name": "stderr",
     "output_type": "stream",
     "text": [
      "Epoch 301: 100%|██████████| 3/3 [00:02<00:00,  1.05it/s, loss=20, acc=0.673, AUC=0.73, val_acc=0.716, val_AUC=0.778]\n"
     ]
    },
    {
     "name": "stdout",
     "output_type": "stream",
     "text": [
      "tensor([-0.3247,  0.0981,  1.0764,  0.1825, -0.1508, -0.0172,  0.3514,  0.1863,\n",
      "         0.3840,  0.0289,  0.0609], device='cuda:0', grad_fn=<DivBackward0>)\n"
     ]
    },
    {
     "name": "stderr",
     "output_type": "stream",
     "text": [
      "Epoch 302: 100%|██████████| 3/3 [00:02<00:00,  1.07it/s, loss=19.9, acc=0.673, AUC=0.734, val_acc=0.71, val_AUC=0.775]\n"
     ]
    },
    {
     "name": "stdout",
     "output_type": "stream",
     "text": [
      "tensor([-0.3359,  0.1012,  1.0756,  0.1918, -0.1509, -0.0087,  0.3584,  0.1920,\n",
      "         0.3925,  0.0297,  0.0682], device='cuda:0', grad_fn=<DivBackward0>)\n"
     ]
    },
    {
     "name": "stderr",
     "output_type": "stream",
     "text": [
      "Epoch 303: 100%|██████████| 3/3 [00:02<00:00,  1.07it/s, loss=20, acc=0.67, AUC=0.73, val_acc=0.701, val_AUC=0.766]\n"
     ]
    },
    {
     "name": "stdout",
     "output_type": "stream",
     "text": [
      "tensor([-0.3452,  0.0985,  1.0915,  0.1678, -0.1399, -0.0198,  0.3685,  0.2093,\n",
      "         0.4015,  0.0073,  0.0816], device='cuda:0', grad_fn=<DivBackward0>)\n"
     ]
    },
    {
     "name": "stderr",
     "output_type": "stream",
     "text": [
      "Epoch 304: 100%|██████████| 3/3 [00:02<00:00,  1.07it/s, loss=19.8, acc=0.673, AUC=0.737, val_acc=0.701, val_AUC=0.78]\n"
     ]
    },
    {
     "name": "stdout",
     "output_type": "stream",
     "text": [
      "tensor([-0.3447,  0.0957,  1.1077,  0.1723, -0.1304, -0.0144,  0.3752,  0.2035,\n",
      "         0.3979,  0.0230,  0.0779], device='cuda:0', grad_fn=<DivBackward0>)\n"
     ]
    },
    {
     "name": "stderr",
     "output_type": "stream",
     "text": [
      "Epoch 305: 100%|██████████| 3/3 [00:02<00:00,  1.07it/s, loss=19.9, acc=0.672, AUC=0.733, val_acc=0.707, val_AUC=0.779]\n"
     ]
    },
    {
     "name": "stdout",
     "output_type": "stream",
     "text": [
      "tensor([-0.3472,  0.1002,  1.1261,  0.1771, -0.1329, -0.0102,  0.3741,  0.2141,\n",
      "         0.4006,  0.0248,  0.0817], device='cuda:0', grad_fn=<DivBackward0>)\n"
     ]
    },
    {
     "name": "stderr",
     "output_type": "stream",
     "text": [
      "Epoch 306: 100%|██████████| 3/3 [00:02<00:00,  1.05it/s, loss=19.9, acc=0.681, AUC=0.735, val_acc=0.692, val_AUC=0.777]\n"
     ]
    },
    {
     "name": "stdout",
     "output_type": "stream",
     "text": [
      "tensor([-0.3463,  0.1124,  1.1242,  0.1835, -0.1352, -0.0120,  0.3760,  0.2107,\n",
      "         0.4118,  0.0296,  0.0725], device='cuda:0', grad_fn=<DivBackward0>)\n"
     ]
    },
    {
     "name": "stderr",
     "output_type": "stream",
     "text": [
      "Epoch 307: 100%|██████████| 3/3 [00:02<00:00,  1.07it/s, loss=20, acc=0.678, AUC=0.733, val_acc=0.713, val_AUC=0.772]\n"
     ]
    },
    {
     "name": "stdout",
     "output_type": "stream",
     "text": [
      "tensor([-0.3311,  0.1027,  1.1080,  0.1848, -0.1393, -0.0174,  0.3769,  0.2026,\n",
      "         0.3948,  0.0184,  0.0715], device='cuda:0', grad_fn=<DivBackward0>)\n"
     ]
    },
    {
     "name": "stderr",
     "output_type": "stream",
     "text": [
      "Epoch 308: 100%|██████████| 3/3 [00:02<00:00,  1.07it/s, loss=19.9, acc=0.674, AUC=0.734, val_acc=0.716, val_AUC=0.779]\n"
     ]
    },
    {
     "name": "stdout",
     "output_type": "stream",
     "text": [
      "tensor([-0.3341,  0.1056,  1.0916,  0.1894, -0.1389, -0.0177,  0.3615,  0.1918,\n",
      "         0.3811,  0.0305,  0.0652], device='cuda:0', grad_fn=<DivBackward0>)\n"
     ]
    },
    {
     "name": "stderr",
     "output_type": "stream",
     "text": [
      "Epoch 309: 100%|██████████| 3/3 [00:02<00:00,  1.07it/s, loss=19.9, acc=0.67, AUC=0.732, val_acc=0.701, val_AUC=0.777]\n"
     ]
    },
    {
     "name": "stdout",
     "output_type": "stream",
     "text": [
      "tensor([-0.3254,  0.0973,  1.0759,  0.1916, -0.1436, -0.0140,  0.3486,  0.1869,\n",
      "         0.3748,  0.0448,  0.0555], device='cuda:0', grad_fn=<DivBackward0>)\n"
     ]
    },
    {
     "name": "stderr",
     "output_type": "stream",
     "text": [
      "Epoch 310: 100%|██████████| 3/3 [00:02<00:00,  1.07it/s, loss=19.9, acc=0.671, AUC=0.732, val_acc=0.707, val_AUC=0.774]\n"
     ]
    },
    {
     "name": "stdout",
     "output_type": "stream",
     "text": [
      "tensor([-0.3367,  0.0957,  1.0846,  0.1939, -0.1426, -0.0068,  0.3647,  0.1948,\n",
      "         0.3910,  0.0411,  0.0680], device='cuda:0', grad_fn=<DivBackward0>)\n"
     ]
    },
    {
     "name": "stderr",
     "output_type": "stream",
     "text": [
      "Epoch 311: 100%|██████████| 3/3 [00:02<00:00,  1.05it/s, loss=19.9, acc=0.675, AUC=0.733, val_acc=0.692, val_AUC=0.773]\n"
     ]
    },
    {
     "name": "stdout",
     "output_type": "stream",
     "text": [
      "tensor([-0.3370,  0.0935,  1.0850,  0.1748, -0.1471, -0.0071,  0.3604,  0.1989,\n",
      "         0.3977,  0.0389,  0.0625], device='cuda:0', grad_fn=<DivBackward0>)\n"
     ]
    },
    {
     "name": "stderr",
     "output_type": "stream",
     "text": [
      "Epoch 312: 100%|██████████| 3/3 [00:02<00:00,  1.08it/s, loss=19.9, acc=0.675, AUC=0.734, val_acc=0.71, val_AUC=0.777]\n"
     ]
    },
    {
     "name": "stdout",
     "output_type": "stream",
     "text": [
      "tensor([-0.3324,  0.0834,  1.0667,  0.1842, -0.1519, -0.0028,  0.3476,  0.1899,\n",
      "         0.3882,  0.0437,  0.0693], device='cuda:0', grad_fn=<DivBackward0>)\n"
     ]
    },
    {
     "name": "stderr",
     "output_type": "stream",
     "text": [
      "Epoch 313: 100%|██████████| 3/3 [00:02<00:00,  1.07it/s, loss=20, acc=0.68, AUC=0.73, val_acc=0.719, val_AUC=0.78]\n"
     ]
    },
    {
     "name": "stdout",
     "output_type": "stream",
     "text": [
      "tensor([-0.3338,  0.0916,  1.0820,  0.1784, -0.1501, -0.0059,  0.3525,  0.2058,\n",
      "         0.3816,  0.0410,  0.0568], device='cuda:0', grad_fn=<DivBackward0>)\n"
     ]
    },
    {
     "name": "stderr",
     "output_type": "stream",
     "text": [
      "Epoch 314: 100%|██████████| 3/3 [00:02<00:00,  1.07it/s, loss=19.8, acc=0.676, AUC=0.736, val_acc=0.716, val_AUC=0.781]\n"
     ]
    },
    {
     "name": "stdout",
     "output_type": "stream",
     "text": [
      "tensor([-3.3328e-01,  9.3258e-02,  1.0643e+00,  1.7594e-01, -1.5578e-01,\n",
      "        -8.8776e-04,  3.4040e-01,  1.9792e-01,  3.8432e-01,  3.7296e-02,\n",
      "         6.2812e-02], device='cuda:0', grad_fn=<DivBackward0>)\n"
     ]
    },
    {
     "name": "stderr",
     "output_type": "stream",
     "text": [
      "Epoch 315: 100%|██████████| 3/3 [00:02<00:00,  1.07it/s, loss=19.8, acc=0.67, AUC=0.737, val_acc=0.695, val_AUC=0.774]\n"
     ]
    },
    {
     "name": "stdout",
     "output_type": "stream",
     "text": [
      "tensor([-0.3245,  0.0831,  1.0525,  0.1723, -0.1456,  0.0096,  0.3369,  0.2023,\n",
      "         0.3848,  0.0419,  0.0607], device='cuda:0', grad_fn=<DivBackward0>)\n"
     ]
    },
    {
     "name": "stderr",
     "output_type": "stream",
     "text": [
      "Epoch 316: 100%|██████████| 3/3 [00:02<00:00,  1.05it/s, loss=19.9, acc=0.677, AUC=0.733, val_acc=0.701, val_AUC=0.776]\n"
     ]
    },
    {
     "name": "stdout",
     "output_type": "stream",
     "text": [
      "tensor([-0.3408,  0.0870,  1.0867,  0.1743, -0.1536, -0.0058,  0.3541,  0.2097,\n",
      "         0.4010,  0.0376,  0.0658], device='cuda:0', grad_fn=<DivBackward0>)\n"
     ]
    },
    {
     "name": "stderr",
     "output_type": "stream",
     "text": [
      "Epoch 317: 100%|██████████| 3/3 [00:02<00:00,  1.07it/s, loss=19.9, acc=0.678, AUC=0.737, val_acc=0.722, val_AUC=0.779]\n"
     ]
    },
    {
     "name": "stdout",
     "output_type": "stream",
     "text": [
      "tensor([-0.3458,  0.0816,  1.1100,  0.1605, -0.1373,  0.0026,  0.3493,  0.2103,\n",
      "         0.4058,  0.0416,  0.0835], device='cuda:0', grad_fn=<DivBackward0>)\n"
     ]
    },
    {
     "name": "stderr",
     "output_type": "stream",
     "text": [
      "Epoch 318: 100%|██████████| 3/3 [00:02<00:00,  1.07it/s, loss=19.9, acc=0.673, AUC=0.734, val_acc=0.704, val_AUC=0.778]\n"
     ]
    },
    {
     "name": "stdout",
     "output_type": "stream",
     "text": [
      "tensor([-0.3384,  0.0869,  1.1057,  0.1618, -0.1555,  0.0067,  0.3463,  0.2161,\n",
      "         0.4048,  0.0291,  0.0776], device='cuda:0', grad_fn=<DivBackward0>)\n"
     ]
    },
    {
     "name": "stderr",
     "output_type": "stream",
     "text": [
      "Epoch 319: 100%|██████████| 3/3 [00:02<00:00,  1.07it/s, loss=20, acc=0.678, AUC=0.731, val_acc=0.713, val_AUC=0.771]\n"
     ]
    },
    {
     "name": "stdout",
     "output_type": "stream",
     "text": [
      "tensor([-0.3316,  0.0843,  1.0716,  0.1588, -0.1526,  0.0050,  0.3419,  0.1998,\n",
      "         0.3888,  0.0335,  0.0664], device='cuda:0', grad_fn=<DivBackward0>)\n"
     ]
    },
    {
     "name": "stderr",
     "output_type": "stream",
     "text": [
      "Epoch 320: 100%|██████████| 3/3 [00:02<00:00,  1.07it/s, loss=19.9, acc=0.674, AUC=0.733, val_acc=0.707, val_AUC=0.775]\n"
     ]
    },
    {
     "name": "stdout",
     "output_type": "stream",
     "text": [
      "tensor([-0.3341,  0.0813,  1.0838,  0.1677, -0.1506, -0.0100,  0.3436,  0.2141,\n",
      "         0.4029,  0.0270,  0.0730], device='cuda:0', grad_fn=<DivBackward0>)\n"
     ]
    },
    {
     "name": "stderr",
     "output_type": "stream",
     "text": [
      "Epoch 321: 100%|██████████| 3/3 [00:02<00:00,  1.05it/s, loss=19.9, acc=0.68, AUC=0.735, val_acc=0.701, val_AUC=0.775]\n"
     ]
    },
    {
     "name": "stdout",
     "output_type": "stream",
     "text": [
      "tensor([-0.3269,  0.0878,  1.0771,  0.1672, -0.1507, -0.0057,  0.3445,  0.2064,\n",
      "         0.3872,  0.0421,  0.0719], device='cuda:0', grad_fn=<DivBackward0>)\n"
     ]
    },
    {
     "name": "stderr",
     "output_type": "stream",
     "text": [
      "Epoch 322: 100%|██████████| 3/3 [00:02<00:00,  1.07it/s, loss=19.9, acc=0.672, AUC=0.733, val_acc=0.701, val_AUC=0.769]\n"
     ]
    },
    {
     "name": "stdout",
     "output_type": "stream",
     "text": [
      "tensor([-0.3336,  0.0807,  1.0752,  0.1719, -0.1570, -0.0018,  0.3518,  0.2000,\n",
      "         0.4005,  0.0279,  0.0703], device='cuda:0', grad_fn=<DivBackward0>)\n"
     ]
    },
    {
     "name": "stderr",
     "output_type": "stream",
     "text": [
      "Epoch 323: 100%|██████████| 3/3 [00:02<00:00,  1.07it/s, loss=19.9, acc=0.673, AUC=0.736, val_acc=0.707, val_AUC=0.773]\n"
     ]
    },
    {
     "name": "stdout",
     "output_type": "stream",
     "text": [
      "tensor([-0.3238,  0.0895,  1.0779,  0.1733, -0.1471, -0.0036,  0.3512,  0.1989,\n",
      "         0.4008,  0.0288,  0.0649], device='cuda:0', grad_fn=<DivBackward0>)\n"
     ]
    },
    {
     "name": "stderr",
     "output_type": "stream",
     "text": [
      "Epoch 324: 100%|██████████| 3/3 [00:02<00:00,  1.07it/s, loss=19.9, acc=0.674, AUC=0.732, val_acc=0.707, val_AUC=0.77]\n"
     ]
    },
    {
     "name": "stdout",
     "output_type": "stream",
     "text": [
      "tensor([-0.3250,  0.0837,  1.0796,  0.1833, -0.1517, -0.0014,  0.3452,  0.2067,\n",
      "         0.3931,  0.0218,  0.0708], device='cuda:0', grad_fn=<DivBackward0>)\n"
     ]
    },
    {
     "name": "stderr",
     "output_type": "stream",
     "text": [
      "Epoch 325: 100%|██████████| 3/3 [00:02<00:00,  1.07it/s, loss=19.9, acc=0.674, AUC=0.733, val_acc=0.704, val_AUC=0.772]\n"
     ]
    },
    {
     "name": "stdout",
     "output_type": "stream",
     "text": [
      "tensor([-0.3290,  0.0893,  1.0743,  0.1689, -0.1678, -0.0029,  0.3517,  0.2061,\n",
      "         0.4049,  0.0313,  0.0655], device='cuda:0', grad_fn=<DivBackward0>)\n"
     ]
    },
    {
     "name": "stderr",
     "output_type": "stream",
     "text": [
      "Epoch 326: 100%|██████████| 3/3 [00:02<00:00,  1.05it/s, loss=19.9, acc=0.667, AUC=0.735, val_acc=0.707, val_AUC=0.769]\n"
     ]
    },
    {
     "name": "stdout",
     "output_type": "stream",
     "text": [
      "tensor([-3.3617e-01,  9.0786e-02,  1.0854e+00,  1.7287e-01, -1.5501e-01,\n",
      "         8.7968e-04,  3.5361e-01,  2.1176e-01,  4.1219e-01,  2.8134e-02,\n",
      "         8.1144e-02], device='cuda:0', grad_fn=<DivBackward0>)\n"
     ]
    },
    {
     "name": "stderr",
     "output_type": "stream",
     "text": [
      "Epoch 327: 100%|██████████| 3/3 [00:02<00:00,  1.07it/s, loss=19.8, acc=0.679, AUC=0.737, val_acc=0.707, val_AUC=0.775]\n"
     ]
    },
    {
     "name": "stdout",
     "output_type": "stream",
     "text": [
      "tensor([-0.3108,  0.0849,  1.0708,  0.1732, -0.1629, -0.0039,  0.3378,  0.1949,\n",
      "         0.3947,  0.0224,  0.0784], device='cuda:0', grad_fn=<DivBackward0>)\n"
     ]
    },
    {
     "name": "stderr",
     "output_type": "stream",
     "text": [
      "Epoch 328: 100%|██████████| 3/3 [00:02<00:00,  1.07it/s, loss=19.8, acc=0.68, AUC=0.738, val_acc=0.707, val_AUC=0.779]\n"
     ]
    },
    {
     "name": "stdout",
     "output_type": "stream",
     "text": [
      "tensor([-3.2306e-01,  9.3635e-02,  1.0795e+00,  1.8242e-01, -1.6628e-01,\n",
      "         1.6841e-04,  3.4154e-01,  1.9613e-01,  4.0205e-01,  3.0948e-02,\n",
      "         7.5829e-02], device='cuda:0', grad_fn=<DivBackward0>)\n"
     ]
    },
    {
     "name": "stderr",
     "output_type": "stream",
     "text": [
      "Epoch 329: 100%|██████████| 3/3 [00:02<00:00,  1.07it/s, loss=20, acc=0.673, AUC=0.732, val_acc=0.707, val_AUC=0.774]\n"
     ]
    },
    {
     "name": "stdout",
     "output_type": "stream",
     "text": [
      "tensor([-0.3268,  0.0922,  1.0876,  0.1814, -0.1554, -0.0024,  0.3530,  0.2008,\n",
      "         0.3989,  0.0251,  0.0804], device='cuda:0', grad_fn=<DivBackward0>)\n"
     ]
    },
    {
     "name": "stderr",
     "output_type": "stream",
     "text": [
      "Epoch 330: 100%|██████████| 3/3 [00:02<00:00,  1.07it/s, loss=19.9, acc=0.679, AUC=0.736, val_acc=0.698, val_AUC=0.776]\n"
     ]
    },
    {
     "name": "stdout",
     "output_type": "stream",
     "text": [
      "tensor([-0.3257,  0.0970,  1.1003,  0.1778, -0.1552, -0.0043,  0.3544,  0.2187,\n",
      "         0.4068,  0.0275,  0.0739], device='cuda:0', grad_fn=<DivBackward0>)\n"
     ]
    },
    {
     "name": "stderr",
     "output_type": "stream",
     "text": [
      "Epoch 331: 100%|██████████| 3/3 [00:02<00:00,  1.06it/s, loss=19.9, acc=0.674, AUC=0.735, val_acc=0.707, val_AUC=0.773]\n"
     ]
    },
    {
     "name": "stdout",
     "output_type": "stream",
     "text": [
      "tensor([-0.3128,  0.0855,  1.0769,  0.1849, -0.1668,  0.0012,  0.3452,  0.2057,\n",
      "         0.4003,  0.0385,  0.0686], device='cuda:0', grad_fn=<DivBackward0>)\n"
     ]
    },
    {
     "name": "stderr",
     "output_type": "stream",
     "text": [
      "Epoch 332: 100%|██████████| 3/3 [00:02<00:00,  1.08it/s, loss=19.9, acc=0.677, AUC=0.735, val_acc=0.71, val_AUC=0.774]\n"
     ]
    },
    {
     "name": "stdout",
     "output_type": "stream",
     "text": [
      "tensor([-0.3129,  0.0823,  1.0654,  0.1998, -0.1706,  0.0060,  0.3391,  0.1942,\n",
      "         0.3876,  0.0435,  0.0686], device='cuda:0', grad_fn=<DivBackward0>)\n"
     ]
    },
    {
     "name": "stderr",
     "output_type": "stream",
     "text": [
      "Epoch 333: 100%|██████████| 3/3 [00:02<00:00,  1.07it/s, loss=19.9, acc=0.676, AUC=0.733, val_acc=0.71, val_AUC=0.777]\n"
     ]
    },
    {
     "name": "stdout",
     "output_type": "stream",
     "text": [
      "tensor([-0.3097,  0.0887,  1.0525,  0.1957, -0.1756, -0.0011,  0.3426,  0.1951,\n",
      "         0.3958,  0.0200,  0.0603], device='cuda:0', grad_fn=<DivBackward0>)\n"
     ]
    },
    {
     "name": "stderr",
     "output_type": "stream",
     "text": [
      "Epoch 334: 100%|██████████| 3/3 [00:02<00:00,  1.07it/s, loss=19.9, acc=0.672, AUC=0.732, val_acc=0.713, val_AUC=0.778]\n"
     ]
    },
    {
     "name": "stdout",
     "output_type": "stream",
     "text": [
      "tensor([-0.3238,  0.0945,  1.0705,  0.1952, -0.1583, -0.0065,  0.3465,  0.2003,\n",
      "         0.3997,  0.0293,  0.0637], device='cuda:0', grad_fn=<DivBackward0>)\n"
     ]
    },
    {
     "name": "stderr",
     "output_type": "stream",
     "text": [
      "Epoch 335: 100%|██████████| 3/3 [00:02<00:00,  1.07it/s, loss=19.9, acc=0.67, AUC=0.732, val_acc=0.713, val_AUC=0.775]\n"
     ]
    },
    {
     "name": "stdout",
     "output_type": "stream",
     "text": [
      "tensor([-0.3176,  0.0941,  1.0683,  0.1996, -0.1567, -0.0093,  0.3387,  0.1890,\n",
      "         0.3942,  0.0362,  0.0732], device='cuda:0', grad_fn=<DivBackward0>)\n"
     ]
    },
    {
     "name": "stderr",
     "output_type": "stream",
     "text": [
      "Epoch 336: 100%|██████████| 3/3 [00:02<00:00,  1.05it/s, loss=19.9, acc=0.673, AUC=0.734, val_acc=0.728, val_AUC=0.783]\n"
     ]
    },
    {
     "name": "stdout",
     "output_type": "stream",
     "text": [
      "tensor([-0.3172,  0.0999,  1.0747,  0.2012, -0.1596, -0.0121,  0.3410,  0.1872,\n",
      "         0.3944,  0.0242,  0.0648], device='cuda:0', grad_fn=<DivBackward0>)\n"
     ]
    },
    {
     "name": "stderr",
     "output_type": "stream",
     "text": [
      "Epoch 337: 100%|██████████| 3/3 [00:02<00:00,  1.07it/s, loss=19.9, acc=0.674, AUC=0.732, val_acc=0.698, val_AUC=0.771]\n"
     ]
    },
    {
     "name": "stdout",
     "output_type": "stream",
     "text": [
      "tensor([-0.3116,  0.0931,  1.0772,  0.1947, -0.1477, -0.0138,  0.3511,  0.1913,\n",
      "         0.4030,  0.0157,  0.0776], device='cuda:0', grad_fn=<DivBackward0>)\n"
     ]
    },
    {
     "name": "stderr",
     "output_type": "stream",
     "text": [
      "Epoch 338: 100%|██████████| 3/3 [00:02<00:00,  1.07it/s, loss=19.9, acc=0.676, AUC=0.734, val_acc=0.71, val_AUC=0.775]\n"
     ]
    },
    {
     "name": "stdout",
     "output_type": "stream",
     "text": [
      "tensor([-0.3250,  0.0975,  1.0882,  0.1888, -0.1555, -0.0085,  0.3434,  0.1965,\n",
      "         0.4088,  0.0071,  0.0804], device='cuda:0', grad_fn=<DivBackward0>)\n"
     ]
    },
    {
     "name": "stderr",
     "output_type": "stream",
     "text": [
      "Epoch 339: 100%|██████████| 3/3 [00:02<00:00,  1.07it/s, loss=19.9, acc=0.677, AUC=0.733, val_acc=0.71, val_AUC=0.775]\n"
     ]
    },
    {
     "name": "stdout",
     "output_type": "stream",
     "text": [
      "tensor([-0.3172,  0.0942,  1.0766,  0.1998, -0.1605, -0.0039,  0.3394,  0.1895,\n",
      "         0.4014,  0.0067,  0.0745], device='cuda:0', grad_fn=<DivBackward0>)\n"
     ]
    },
    {
     "name": "stderr",
     "output_type": "stream",
     "text": [
      "Epoch 340: 100%|██████████| 3/3 [00:02<00:00,  1.07it/s, loss=19.9, acc=0.675, AUC=0.735, val_acc=0.71, val_AUC=0.771]\n"
     ]
    },
    {
     "name": "stdout",
     "output_type": "stream",
     "text": [
      "tensor([-0.3029,  0.0917,  1.0476,  0.2057, -0.1574, -0.0057,  0.3428,  0.1870,\n",
      "         0.3940,  0.0102,  0.0696], device='cuda:0', grad_fn=<DivBackward0>)\n"
     ]
    },
    {
     "name": "stderr",
     "output_type": "stream",
     "text": [
      "Epoch 341: 100%|██████████| 3/3 [00:02<00:00,  1.05it/s, loss=19.9, acc=0.675, AUC=0.734, val_acc=0.695, val_AUC=0.773]\n"
     ]
    },
    {
     "name": "stdout",
     "output_type": "stream",
     "text": [
      "tensor([-0.3115,  0.0978,  1.0604,  0.1964, -0.1604, -0.0017,  0.3361,  0.1803,\n",
      "         0.4003,  0.0044,  0.0732], device='cuda:0', grad_fn=<DivBackward0>)\n"
     ]
    },
    {
     "name": "stderr",
     "output_type": "stream",
     "text": [
      "Epoch 342: 100%|██████████| 3/3 [00:02<00:00,  1.07it/s, loss=19.8, acc=0.682, AUC=0.737, val_acc=0.701, val_AUC=0.77]\n"
     ]
    },
    {
     "name": "stdout",
     "output_type": "stream",
     "text": [
      "tensor([-0.3128,  0.0921,  1.0668,  0.1893, -0.1636,  0.0062,  0.3333,  0.1846,\n",
      "         0.4046, -0.0067,  0.0667], device='cuda:0', grad_fn=<DivBackward0>)\n"
     ]
    },
    {
     "name": "stderr",
     "output_type": "stream",
     "text": [
      "Epoch 343: 100%|██████████| 3/3 [00:02<00:00,  1.08it/s, loss=19.8, acc=0.679, AUC=0.736, val_acc=0.731, val_AUC=0.777]\n"
     ]
    },
    {
     "name": "stdout",
     "output_type": "stream",
     "text": [
      "tensor([-3.1898e-01,  9.7093e-02,  1.0926e+00,  1.9274e-01, -1.5804e-01,\n",
      "        -3.3950e-04,  3.4301e-01,  2.0410e-01,  4.1102e-01,  9.4380e-03,\n",
      "         8.3879e-02], device='cuda:0', grad_fn=<DivBackward0>)\n"
     ]
    },
    {
     "name": "stderr",
     "output_type": "stream",
     "text": [
      "Epoch 344: 100%|██████████| 3/3 [00:02<00:00,  1.07it/s, loss=19.9, acc=0.677, AUC=0.735, val_acc=0.701, val_AUC=0.779]\n"
     ]
    },
    {
     "name": "stdout",
     "output_type": "stream",
     "text": [
      "tensor([-0.3223,  0.0961,  1.0815,  0.1871, -0.1575,  0.0057,  0.3416,  0.1899,\n",
      "         0.4006, -0.0043,  0.0786], device='cuda:0', grad_fn=<DivBackward0>)\n"
     ]
    },
    {
     "name": "stderr",
     "output_type": "stream",
     "text": [
      "Epoch 345: 100%|██████████| 3/3 [00:02<00:00,  1.07it/s, loss=19.9, acc=0.679, AUC=0.734, val_acc=0.71, val_AUC=0.779]\n"
     ]
    },
    {
     "name": "stdout",
     "output_type": "stream",
     "text": [
      "tensor([-0.3266,  0.0913,  1.0962,  0.1833, -0.1725, -0.0050,  0.3485,  0.1941,\n",
      "         0.4022,  0.0070,  0.0786], device='cuda:0', grad_fn=<DivBackward0>)\n"
     ]
    },
    {
     "name": "stderr",
     "output_type": "stream",
     "text": [
      "Epoch 346: 100%|██████████| 3/3 [00:02<00:00,  1.06it/s, loss=19.8, acc=0.674, AUC=0.737, val_acc=0.698, val_AUC=0.767]\n"
     ]
    },
    {
     "name": "stdout",
     "output_type": "stream",
     "text": [
      "tensor([-0.3229,  0.0956,  1.0874,  0.1787, -0.1608,  0.0031,  0.3318,  0.1945,\n",
      "         0.4068,  0.0030,  0.0787], device='cuda:0', grad_fn=<DivBackward0>)\n"
     ]
    },
    {
     "name": "stderr",
     "output_type": "stream",
     "text": [
      "Epoch 347: 100%|██████████| 3/3 [00:02<00:00,  1.07it/s, loss=19.8, acc=0.678, AUC=0.736, val_acc=0.704, val_AUC=0.771]\n"
     ]
    },
    {
     "name": "stdout",
     "output_type": "stream",
     "text": [
      "tensor([-3.0896e-01,  9.1163e-02,  1.0962e+00,  1.7480e-01, -1.5748e-01,\n",
      "         2.6700e-04,  3.4000e-01,  2.0134e-01,  3.9775e-01,  4.4278e-03,\n",
      "         7.2216e-02], device='cuda:0', grad_fn=<DivBackward0>)\n"
     ]
    },
    {
     "name": "stderr",
     "output_type": "stream",
     "text": [
      "Epoch 348: 100%|██████████| 3/3 [00:02<00:00,  1.08it/s, loss=19.9, acc=0.668, AUC=0.734, val_acc=0.707, val_AUC=0.769]\n"
     ]
    },
    {
     "name": "stdout",
     "output_type": "stream",
     "text": [
      "tensor([-0.3117,  0.0928,  1.0909,  0.1885, -0.1493, -0.0034,  0.3380,  0.1917,\n",
      "         0.3982,  0.0105,  0.0665], device='cuda:0', grad_fn=<DivBackward0>)\n"
     ]
    },
    {
     "name": "stderr",
     "output_type": "stream",
     "text": [
      "Epoch 349: 100%|██████████| 3/3 [00:02<00:00,  1.08it/s, loss=19.8, acc=0.681, AUC=0.736, val_acc=0.695, val_AUC=0.769]\n"
     ]
    },
    {
     "name": "stdout",
     "output_type": "stream",
     "text": [
      "tensor([-0.3114,  0.0973,  1.0922,  0.1886, -0.1510, -0.0014,  0.3438,  0.1956,\n",
      "         0.4054,  0.0063,  0.0619], device='cuda:0', grad_fn=<DivBackward0>)\n"
     ]
    },
    {
     "name": "stderr",
     "output_type": "stream",
     "text": [
      "Epoch 350: 100%|██████████| 3/3 [00:02<00:00,  1.07it/s, loss=19.9, acc=0.673, AUC=0.737, val_acc=0.719, val_AUC=0.779]\n"
     ]
    },
    {
     "name": "stdout",
     "output_type": "stream",
     "text": [
      "tensor([-0.3078,  0.0892,  1.1002,  0.1848, -0.1485,  0.0032,  0.3518,  0.1999,\n",
      "         0.4089,  0.0143,  0.0673], device='cuda:0', grad_fn=<DivBackward0>)\n"
     ]
    },
    {
     "name": "stderr",
     "output_type": "stream",
     "text": [
      "Epoch 351: 100%|██████████| 3/3 [00:02<00:00,  1.05it/s, loss=19.8, acc=0.675, AUC=0.737, val_acc=0.71, val_AUC=0.771]\n"
     ]
    },
    {
     "name": "stdout",
     "output_type": "stream",
     "text": [
      "tensor([-0.3282,  0.0968,  1.1106,  0.1832, -0.1446,  0.0097,  0.3527,  0.1952,\n",
      "         0.4110,  0.0071,  0.0754], device='cuda:0', grad_fn=<DivBackward0>)\n"
     ]
    },
    {
     "name": "stderr",
     "output_type": "stream",
     "text": [
      "Epoch 352: 100%|██████████| 3/3 [00:02<00:00,  1.07it/s, loss=19.9, acc=0.678, AUC=0.734, val_acc=0.71, val_AUC=0.772]\n"
     ]
    },
    {
     "name": "stdout",
     "output_type": "stream",
     "text": [
      "tensor([-3.1134e-01,  9.0276e-02,  1.0769e+00,  2.0322e-01, -1.6391e-01,\n",
      "        -7.6291e-04,  3.4316e-01,  1.8733e-01,  3.9898e-01,  7.4441e-03,\n",
      "         6.1164e-02], device='cuda:0', grad_fn=<DivBackward0>)\n"
     ]
    },
    {
     "name": "stderr",
     "output_type": "stream",
     "text": [
      "Epoch 353: 100%|██████████| 3/3 [00:02<00:00,  1.07it/s, loss=19.8, acc=0.682, AUC=0.737, val_acc=0.692, val_AUC=0.769]\n"
     ]
    },
    {
     "name": "stdout",
     "output_type": "stream",
     "text": [
      "tensor([-0.2879,  0.0917,  1.0431,  0.1985, -0.1690,  0.0041,  0.3151,  0.1787,\n",
      "         0.3865,  0.0016,  0.0546], device='cuda:0', grad_fn=<DivBackward0>)\n"
     ]
    },
    {
     "name": "stderr",
     "output_type": "stream",
     "text": [
      "Epoch 354: 100%|██████████| 3/3 [00:02<00:00,  1.07it/s, loss=19.9, acc=0.677, AUC=0.735, val_acc=0.695, val_AUC=0.763]\n"
     ]
    },
    {
     "name": "stdout",
     "output_type": "stream",
     "text": [
      "tensor([-0.2954,  0.0837,  1.0577,  0.1950, -0.1613,  0.0095,  0.3310,  0.1856,\n",
      "         0.3942,  0.0136,  0.0559], device='cuda:0', grad_fn=<DivBackward0>)\n"
     ]
    },
    {
     "name": "stderr",
     "output_type": "stream",
     "text": [
      "Epoch 355: 100%|██████████| 3/3 [00:02<00:00,  1.07it/s, loss=19.8, acc=0.676, AUC=0.736, val_acc=0.716, val_AUC=0.777]\n"
     ]
    },
    {
     "name": "stdout",
     "output_type": "stream",
     "text": [
      "tensor([-0.3052,  0.0851,  1.0566,  0.1972, -0.1575,  0.0036,  0.3197,  0.1839,\n",
      "         0.3927,  0.0235,  0.0564], device='cuda:0', grad_fn=<DivBackward0>)\n"
     ]
    },
    {
     "name": "stderr",
     "output_type": "stream",
     "text": [
      "Epoch 356: 100%|██████████| 3/3 [00:02<00:00,  1.05it/s, loss=19.9, acc=0.67, AUC=0.732, val_acc=0.704, val_AUC=0.778]\n"
     ]
    },
    {
     "name": "stdout",
     "output_type": "stream",
     "text": [
      "tensor([-0.3099,  0.0808,  1.0745,  0.1879, -0.1515,  0.0088,  0.3500,  0.1982,\n",
      "         0.4080,  0.0304,  0.0597], device='cuda:0', grad_fn=<DivBackward0>)\n"
     ]
    },
    {
     "name": "stderr",
     "output_type": "stream",
     "text": [
      "Epoch 357: 100%|██████████| 3/3 [00:02<00:00,  1.07it/s, loss=19.8, acc=0.676, AUC=0.739, val_acc=0.713, val_AUC=0.776]\n"
     ]
    },
    {
     "name": "stdout",
     "output_type": "stream",
     "text": [
      "tensor([-0.3027,  0.0872,  1.0664,  0.1901, -0.1442,  0.0028,  0.3373,  0.1931,\n",
      "         0.3975,  0.0343,  0.0597], device='cuda:0', grad_fn=<DivBackward0>)\n"
     ]
    },
    {
     "name": "stderr",
     "output_type": "stream",
     "text": [
      "Epoch 358: 100%|██████████| 3/3 [00:02<00:00,  1.07it/s, loss=19.8, acc=0.674, AUC=0.738, val_acc=0.71, val_AUC=0.774]\n"
     ]
    },
    {
     "name": "stdout",
     "output_type": "stream",
     "text": [
      "tensor([-0.3047,  0.0905,  1.0892,  0.1904, -0.1342,  0.0017,  0.3614,  0.2043,\n",
      "         0.4187,  0.0288,  0.0679], device='cuda:0', grad_fn=<DivBackward0>)\n"
     ]
    },
    {
     "name": "stderr",
     "output_type": "stream",
     "text": [
      "Epoch 359: 100%|██████████| 3/3 [00:02<00:00,  1.07it/s, loss=19.8, acc=0.676, AUC=0.736, val_acc=0.716, val_AUC=0.774]\n"
     ]
    },
    {
     "name": "stdout",
     "output_type": "stream",
     "text": [
      "tensor([-0.3169,  0.0875,  1.1083,  0.1877, -0.1288, -0.0064,  0.3726,  0.2147,\n",
      "         0.4197,  0.0142,  0.0753], device='cuda:0', grad_fn=<DivBackward0>)\n"
     ]
    },
    {
     "name": "stderr",
     "output_type": "stream",
     "text": [
      "Epoch 360: 100%|██████████| 3/3 [00:02<00:00,  1.08it/s, loss=19.9, acc=0.679, AUC=0.736, val_acc=0.698, val_AUC=0.762]\n"
     ]
    },
    {
     "name": "stdout",
     "output_type": "stream",
     "text": [
      "tensor([-0.3284,  0.0871,  1.1381,  0.1896, -0.1270, -0.0062,  0.3833,  0.2176,\n",
      "         0.4276,  0.0307,  0.0794], device='cuda:0', grad_fn=<DivBackward0>)\n"
     ]
    },
    {
     "name": "stderr",
     "output_type": "stream",
     "text": [
      "Epoch 361: 100%|██████████| 3/3 [00:02<00:00,  1.05it/s, loss=19.8, acc=0.676, AUC=0.736, val_acc=0.707, val_AUC=0.774]\n"
     ]
    },
    {
     "name": "stdout",
     "output_type": "stream",
     "text": [
      "tensor([-0.3314,  0.0881,  1.1482,  0.1713, -0.1186, -0.0019,  0.3957,  0.2140,\n",
      "         0.4286,  0.0294,  0.0845], device='cuda:0', grad_fn=<DivBackward0>)\n"
     ]
    },
    {
     "name": "stderr",
     "output_type": "stream",
     "text": [
      "Epoch 362: 100%|██████████| 3/3 [00:02<00:00,  1.07it/s, loss=19.9, acc=0.673, AUC=0.733, val_acc=0.704, val_AUC=0.776]\n"
     ]
    },
    {
     "name": "stdout",
     "output_type": "stream",
     "text": [
      "tensor([-0.3227,  0.0805,  1.1264,  0.1850, -0.1225, -0.0057,  0.3801,  0.2185,\n",
      "         0.4281,  0.0284,  0.0739], device='cuda:0', grad_fn=<DivBackward0>)\n"
     ]
    },
    {
     "name": "stderr",
     "output_type": "stream",
     "text": [
      "Epoch 363: 100%|██████████| 3/3 [00:02<00:00,  1.07it/s, loss=19.9, acc=0.671, AUC=0.734, val_acc=0.707, val_AUC=0.774]\n"
     ]
    },
    {
     "name": "stdout",
     "output_type": "stream",
     "text": [
      "tensor([-3.1096e-01,  8.8126e-02,  1.1006e+00,  1.8860e-01, -1.2470e-01,\n",
      "         3.8551e-04,  3.6716e-01,  2.0840e-01,  4.2060e-01,  2.7563e-02,\n",
      "         6.8066e-02], device='cuda:0', grad_fn=<DivBackward0>)\n"
     ]
    },
    {
     "name": "stderr",
     "output_type": "stream",
     "text": [
      "Epoch 364: 100%|██████████| 3/3 [00:02<00:00,  1.07it/s, loss=19.8, acc=0.673, AUC=0.736, val_acc=0.707, val_AUC=0.77]\n"
     ]
    },
    {
     "name": "stdout",
     "output_type": "stream",
     "text": [
      "tensor([-0.3120,  0.0800,  1.0933,  0.1902, -0.1387, -0.0063,  0.3597,  0.2123,\n",
      "         0.4110,  0.0383,  0.0488], device='cuda:0', grad_fn=<DivBackward0>)\n"
     ]
    },
    {
     "name": "stderr",
     "output_type": "stream",
     "text": [
      "Epoch 365: 100%|██████████| 3/3 [00:02<00:00,  1.07it/s, loss=19.8, acc=0.676, AUC=0.737, val_acc=0.698, val_AUC=0.77]\n"
     ]
    },
    {
     "name": "stdout",
     "output_type": "stream",
     "text": [
      "tensor([-0.3147,  0.0899,  1.0990,  0.1906, -0.1306, -0.0021,  0.3606,  0.2015,\n",
      "         0.4026,  0.0323,  0.0569], device='cuda:0', grad_fn=<DivBackward0>)\n"
     ]
    },
    {
     "name": "stderr",
     "output_type": "stream",
     "text": [
      "Epoch 366: 100%|██████████| 3/3 [00:02<00:00,  1.05it/s, loss=19.8, acc=0.677, AUC=0.736, val_acc=0.716, val_AUC=0.776]\n"
     ]
    },
    {
     "name": "stdout",
     "output_type": "stream",
     "text": [
      "tensor([-3.1856e-01,  8.1525e-02,  1.1023e+00,  1.9551e-01, -1.4481e-01,\n",
      "        -3.3809e-06,  3.7371e-01,  2.0870e-01,  4.1441e-01,  4.1552e-02,\n",
      "         6.6622e-02], device='cuda:0', grad_fn=<DivBackward0>)\n"
     ]
    },
    {
     "name": "stderr",
     "output_type": "stream",
     "text": [
      "Epoch 367: 100%|██████████| 3/3 [00:02<00:00,  1.08it/s, loss=19.8, acc=0.681, AUC=0.74, val_acc=0.704, val_AUC=0.771]\n"
     ]
    },
    {
     "name": "stdout",
     "output_type": "stream",
     "text": [
      "tensor([-0.3157,  0.0909,  1.1147,  0.1916, -0.1368,  0.0017,  0.3671,  0.2108,\n",
      "         0.4157,  0.0342,  0.0691], device='cuda:0', grad_fn=<DivBackward0>)\n"
     ]
    },
    {
     "name": "stderr",
     "output_type": "stream",
     "text": [
      "Epoch 368: 100%|██████████| 3/3 [00:02<00:00,  1.07it/s, loss=19.8, acc=0.676, AUC=0.737, val_acc=0.713, val_AUC=0.774]\n"
     ]
    },
    {
     "name": "stdout",
     "output_type": "stream",
     "text": [
      "tensor([-0.3057,  0.0827,  1.0708,  0.1975, -0.1555,  0.0019,  0.3408,  0.1932,\n",
      "         0.3990,  0.0298,  0.0552], device='cuda:0', grad_fn=<DivBackward0>)\n"
     ]
    },
    {
     "name": "stderr",
     "output_type": "stream",
     "text": [
      "Epoch 369: 100%|██████████| 3/3 [00:02<00:00,  1.07it/s, loss=19.9, acc=0.674, AUC=0.734, val_acc=0.689, val_AUC=0.775]\n"
     ]
    },
    {
     "name": "stdout",
     "output_type": "stream",
     "text": [
      "tensor([-0.3062,  0.0810,  1.0750,  0.1962, -0.1575,  0.0045,  0.3428,  0.2075,\n",
      "         0.3911,  0.0286,  0.0663], device='cuda:0', grad_fn=<DivBackward0>)\n"
     ]
    },
    {
     "name": "stderr",
     "output_type": "stream",
     "text": [
      "Epoch 370: 100%|██████████| 3/3 [00:02<00:00,  1.06it/s, loss=19.9, acc=0.673, AUC=0.736, val_acc=0.704, val_AUC=0.768]\n"
     ]
    },
    {
     "name": "stdout",
     "output_type": "stream",
     "text": [
      "tensor([-0.3056,  0.0859,  1.0690,  0.1864, -0.1510,  0.0049,  0.3448,  0.2010,\n",
      "         0.3958,  0.0075,  0.0698], device='cuda:0', grad_fn=<DivBackward0>)\n"
     ]
    },
    {
     "name": "stderr",
     "output_type": "stream",
     "text": [
      "Epoch 371: 100%|██████████| 3/3 [00:02<00:00,  1.07it/s, loss=19.8, acc=0.681, AUC=0.739, val_acc=0.698, val_AUC=0.767]\n"
     ]
    },
    {
     "name": "stdout",
     "output_type": "stream",
     "text": [
      "tensor([-0.2989,  0.0781,  1.0651,  0.1935, -0.1435, -0.0019,  0.3468,  0.1921,\n",
      "         0.3979,  0.0135,  0.0710], device='cuda:0', grad_fn=<DivBackward0>)\n"
     ]
    },
    {
     "name": "stderr",
     "output_type": "stream",
     "text": [
      "Epoch 372: 100%|██████████| 3/3 [00:02<00:00,  1.07it/s, loss=19.8, acc=0.677, AUC=0.737, val_acc=0.707, val_AUC=0.775]\n"
     ]
    },
    {
     "name": "stdout",
     "output_type": "stream",
     "text": [
      "tensor([-0.3041,  0.0758,  1.0676,  0.1914, -0.1468,  0.0087,  0.3431,  0.1966,\n",
      "         0.4021,  0.0205,  0.0657], device='cuda:0', grad_fn=<DivBackward0>)\n"
     ]
    },
    {
     "name": "stderr",
     "output_type": "stream",
     "text": [
      "Epoch 373: 100%|██████████| 3/3 [00:02<00:00,  1.07it/s, loss=19.8, acc=0.674, AUC=0.736, val_acc=0.707, val_AUC=0.774]\n"
     ]
    },
    {
     "name": "stdout",
     "output_type": "stream",
     "text": [
      "tensor([-0.3017,  0.0775,  1.0795,  0.1984, -0.1478,  0.0050,  0.3546,  0.1879,\n",
      "         0.3995,  0.0137,  0.0598], device='cuda:0', grad_fn=<DivBackward0>)\n"
     ]
    },
    {
     "name": "stderr",
     "output_type": "stream",
     "text": [
      "Epoch 374: 100%|██████████| 3/3 [00:02<00:00,  1.07it/s, loss=19.7, acc=0.679, AUC=0.74, val_acc=0.701, val_AUC=0.767]\n"
     ]
    },
    {
     "name": "stdout",
     "output_type": "stream",
     "text": [
      "tensor([-0.2974,  0.0834,  1.0681,  0.1975, -0.1422, -0.0023,  0.3445,  0.1922,\n",
      "         0.3990,  0.0185,  0.0620], device='cuda:0', grad_fn=<DivBackward0>)\n"
     ]
    },
    {
     "name": "stderr",
     "output_type": "stream",
     "text": [
      "Epoch 375: 100%|██████████| 3/3 [00:02<00:00,  1.05it/s, loss=19.8, acc=0.689, AUC=0.737, val_acc=0.704, val_AUC=0.772]\n"
     ]
    },
    {
     "name": "stdout",
     "output_type": "stream",
     "text": [
      "tensor([-2.9837e-01,  7.9772e-02,  1.0544e+00,  1.9511e-01, -1.3778e-01,\n",
      "        -6.2318e-04,  3.4347e-01,  1.8320e-01,  3.9673e-01,  5.7035e-03,\n",
      "         5.6725e-02], device='cuda:0', grad_fn=<DivBackward0>)\n"
     ]
    },
    {
     "name": "stderr",
     "output_type": "stream",
     "text": [
      "Epoch 376: 100%|██████████| 3/3 [00:02<00:00,  1.07it/s, loss=19.7, acc=0.676, AUC=0.74, val_acc=0.704, val_AUC=0.771]\n"
     ]
    },
    {
     "name": "stdout",
     "output_type": "stream",
     "text": [
      "tensor([-0.2944,  0.0858,  1.0668,  0.2071, -0.1491, -0.0043,  0.3364,  0.1888,\n",
      "         0.3932,  0.0090,  0.0623], device='cuda:0', grad_fn=<DivBackward0>)\n"
     ]
    },
    {
     "name": "stderr",
     "output_type": "stream",
     "text": [
      "Epoch 377: 100%|██████████| 3/3 [00:02<00:00,  1.07it/s, loss=19.8, acc=0.685, AUC=0.736, val_acc=0.704, val_AUC=0.771]\n"
     ]
    },
    {
     "name": "stdout",
     "output_type": "stream",
     "text": [
      "tensor([-0.2943,  0.0790,  1.0613,  0.1964, -0.1480, -0.0022,  0.3422,  0.1871,\n",
      "         0.3999,  0.0099,  0.0704], device='cuda:0', grad_fn=<DivBackward0>)\n"
     ]
    },
    {
     "name": "stderr",
     "output_type": "stream",
     "text": [
      "Epoch 378: 100%|██████████| 3/3 [00:02<00:00,  1.07it/s, loss=19.8, acc=0.681, AUC=0.738, val_acc=0.707, val_AUC=0.769]\n"
     ]
    },
    {
     "name": "stdout",
     "output_type": "stream",
     "text": [
      "tensor([-0.3133,  0.0883,  1.0756,  0.1873, -0.1428, -0.0021,  0.3431,  0.1906,\n",
      "         0.3964,  0.0172,  0.0616], device='cuda:0', grad_fn=<DivBackward0>)\n"
     ]
    },
    {
     "name": "stderr",
     "output_type": "stream",
     "text": [
      "Epoch 379: 100%|██████████| 3/3 [00:02<00:00,  1.07it/s, loss=19.9, acc=0.673, AUC=0.736, val_acc=0.701, val_AUC=0.771]\n"
     ]
    },
    {
     "name": "stdout",
     "output_type": "stream",
     "text": [
      "tensor([-0.3148,  0.0780,  1.0801,  0.1821, -0.1375,  0.0028,  0.3495,  0.1902,\n",
      "         0.4051,  0.0178,  0.0653], device='cuda:0', grad_fn=<DivBackward0>)\n"
     ]
    },
    {
     "name": "stderr",
     "output_type": "stream",
     "text": [
      "Epoch 380: 100%|██████████| 3/3 [00:02<00:00,  1.05it/s, loss=19.7, acc=0.677, AUC=0.741, val_acc=0.716, val_AUC=0.784]\n"
     ]
    },
    {
     "name": "stdout",
     "output_type": "stream",
     "text": [
      "tensor([-0.3095,  0.0799,  1.0608,  0.1967, -0.1410,  0.0031,  0.3435,  0.1867,\n",
      "         0.3989,  0.0173,  0.0596], device='cuda:0', grad_fn=<DivBackward0>)\n"
     ]
    },
    {
     "name": "stderr",
     "output_type": "stream",
     "text": [
      "Epoch 381: 100%|██████████| 3/3 [00:02<00:00,  1.07it/s, loss=19.8, acc=0.67, AUC=0.736, val_acc=0.71, val_AUC=0.778]\n"
     ]
    },
    {
     "name": "stdout",
     "output_type": "stream",
     "text": [
      "tensor([-0.3046,  0.0803,  1.0500,  0.2007, -0.1458, -0.0084,  0.3382,  0.1758,\n",
      "         0.3960,  0.0213,  0.0514], device='cuda:0', grad_fn=<DivBackward0>)\n"
     ]
    },
    {
     "name": "stderr",
     "output_type": "stream",
     "text": [
      "Epoch 382: 100%|██████████| 3/3 [00:02<00:00,  1.07it/s, loss=19.8, acc=0.679, AUC=0.739, val_acc=0.707, val_AUC=0.781]\n"
     ]
    },
    {
     "name": "stdout",
     "output_type": "stream",
     "text": [
      "tensor([-0.3116,  0.0820,  1.0868,  0.1906, -0.1439,  0.0035,  0.3417,  0.1884,\n",
      "         0.4148,  0.0086,  0.0631], device='cuda:0', grad_fn=<DivBackward0>)\n"
     ]
    },
    {
     "name": "stderr",
     "output_type": "stream",
     "text": [
      "Epoch 383: 100%|██████████| 3/3 [00:02<00:00,  1.07it/s, loss=19.8, acc=0.68, AUC=0.737, val_acc=0.713, val_AUC=0.769]\n"
     ]
    },
    {
     "name": "stdout",
     "output_type": "stream",
     "text": [
      "tensor([-0.3007,  0.0828,  1.0588,  0.1899, -0.1493, -0.0018,  0.3323,  0.1805,\n",
      "         0.4019,  0.0118,  0.0599], device='cuda:0', grad_fn=<DivBackward0>)\n"
     ]
    },
    {
     "name": "stderr",
     "output_type": "stream",
     "text": [
      "Epoch 384: 100%|██████████| 3/3 [00:02<00:00,  1.07it/s, loss=19.7, acc=0.68, AUC=0.741, val_acc=0.704, val_AUC=0.772]\n"
     ]
    },
    {
     "name": "stdout",
     "output_type": "stream",
     "text": [
      "tensor([-0.2901,  0.0913,  1.0508,  0.1917, -0.1542, -0.0015,  0.3299,  0.1691,\n",
      "         0.3969,  0.0153,  0.0579], device='cuda:0', grad_fn=<DivBackward0>)\n"
     ]
    },
    {
     "name": "stderr",
     "output_type": "stream",
     "text": [
      "Epoch 385: 100%|██████████| 3/3 [00:02<00:00,  1.05it/s, loss=19.8, acc=0.672, AUC=0.737, val_acc=0.701, val_AUC=0.769]\n"
     ]
    },
    {
     "name": "stdout",
     "output_type": "stream",
     "text": [
      "tensor([-0.2895,  0.0873,  1.0452,  0.1985, -0.1487, -0.0015,  0.3346,  0.1682,\n",
      "         0.3875,  0.0140,  0.0533], device='cuda:0', grad_fn=<DivBackward0>)\n"
     ]
    },
    {
     "name": "stderr",
     "output_type": "stream",
     "text": [
      "Epoch 386: 100%|██████████| 3/3 [00:02<00:00,  1.07it/s, loss=19.7, acc=0.673, AUC=0.741, val_acc=0.701, val_AUC=0.772]\n"
     ]
    },
    {
     "name": "stdout",
     "output_type": "stream",
     "text": [
      "tensor([-0.3029,  0.0888,  1.0542,  0.1937, -0.1538,  0.0049,  0.3261,  0.1737,\n",
      "         0.3934,  0.0154,  0.0502], device='cuda:0', grad_fn=<DivBackward0>)\n"
     ]
    },
    {
     "name": "stderr",
     "output_type": "stream",
     "text": [
      "Epoch 387: 100%|██████████| 3/3 [00:02<00:00,  1.08it/s, loss=19.8, acc=0.676, AUC=0.739, val_acc=0.692, val_AUC=0.765]\n"
     ]
    },
    {
     "name": "stdout",
     "output_type": "stream",
     "text": [
      "tensor([-0.3065,  0.0872,  1.0735,  0.1905, -0.1454, -0.0026,  0.3403,  0.1824,\n",
      "         0.3984,  0.0236,  0.0508], device='cuda:0', grad_fn=<DivBackward0>)\n"
     ]
    },
    {
     "name": "stderr",
     "output_type": "stream",
     "text": [
      "Epoch 388: 100%|██████████| 3/3 [00:02<00:00,  1.07it/s, loss=19.9, acc=0.677, AUC=0.734, val_acc=0.707, val_AUC=0.773]\n"
     ]
    },
    {
     "name": "stdout",
     "output_type": "stream",
     "text": [
      "tensor([-0.3000,  0.0866,  1.0713,  0.1962, -0.1520, -0.0084,  0.3320,  0.1754,\n",
      "         0.4030,  0.0261,  0.0542], device='cuda:0', grad_fn=<DivBackward0>)\n"
     ]
    },
    {
     "name": "stderr",
     "output_type": "stream",
     "text": [
      "Epoch 389: 100%|██████████| 3/3 [00:02<00:00,  1.07it/s, loss=19.7, acc=0.677, AUC=0.74, val_acc=0.692, val_AUC=0.766]\n"
     ]
    },
    {
     "name": "stdout",
     "output_type": "stream",
     "text": [
      "tensor([-0.2987,  0.0944,  1.0675,  0.1888, -0.1545, -0.0011,  0.3321,  0.1730,\n",
      "         0.4060,  0.0292,  0.0525], device='cuda:0', grad_fn=<DivBackward0>)\n"
     ]
    },
    {
     "name": "stderr",
     "output_type": "stream",
     "text": [
      "Epoch 390: 100%|██████████| 3/3 [00:02<00:00,  1.05it/s, loss=19.7, acc=0.682, AUC=0.74, val_acc=0.701, val_AUC=0.785]\n"
     ]
    },
    {
     "name": "stdout",
     "output_type": "stream",
     "text": [
      "tensor([-0.2938,  0.0805,  1.0510,  0.1935, -0.1524, -0.0098,  0.3283,  0.1821,\n",
      "         0.3956,  0.0238,  0.0516], device='cuda:0', grad_fn=<DivBackward0>)\n"
     ]
    },
    {
     "name": "stderr",
     "output_type": "stream",
     "text": [
      "Epoch 391: 100%|██████████| 3/3 [00:02<00:00,  1.07it/s, loss=19.8, acc=0.683, AUC=0.739, val_acc=0.689, val_AUC=0.771]\n"
     ]
    },
    {
     "name": "stdout",
     "output_type": "stream",
     "text": [
      "tensor([-2.9122e-01,  8.8792e-02,  1.0478e+00,  1.8527e-01, -1.4923e-01,\n",
      "        -6.4377e-05,  3.4006e-01,  1.7839e-01,  3.9420e-01,  3.0321e-02,\n",
      "         4.4183e-02], device='cuda:0', grad_fn=<DivBackward0>)\n"
     ]
    },
    {
     "name": "stderr",
     "output_type": "stream",
     "text": [
      "Epoch 392: 100%|██████████| 3/3 [00:02<00:00,  1.07it/s, loss=19.7, acc=0.684, AUC=0.742, val_acc=0.701, val_AUC=0.775]\n"
     ]
    },
    {
     "name": "stdout",
     "output_type": "stream",
     "text": [
      "tensor([-0.2973,  0.0861,  1.0679,  0.1880, -0.1577, -0.0019,  0.3371,  0.1926,\n",
      "         0.3955,  0.0267,  0.0602], device='cuda:0', grad_fn=<DivBackward0>)\n"
     ]
    },
    {
     "name": "stderr",
     "output_type": "stream",
     "text": [
      "Epoch 393: 100%|██████████| 3/3 [00:02<00:00,  1.07it/s, loss=19.8, acc=0.681, AUC=0.737, val_acc=0.71, val_AUC=0.771]\n"
     ]
    },
    {
     "name": "stdout",
     "output_type": "stream",
     "text": [
      "tensor([-0.2950,  0.0813,  1.0475,  0.1993, -0.1522,  0.0061,  0.3305,  0.1837,\n",
      "         0.3957,  0.0259,  0.0505], device='cuda:0', grad_fn=<DivBackward0>)\n"
     ]
    },
    {
     "name": "stderr",
     "output_type": "stream",
     "text": [
      "Epoch 394: 100%|██████████| 3/3 [00:02<00:00,  1.07it/s, loss=19.8, acc=0.676, AUC=0.739, val_acc=0.695, val_AUC=0.777]\n"
     ]
    },
    {
     "name": "stdout",
     "output_type": "stream",
     "text": [
      "tensor([-0.2859,  0.0803,  1.0519,  0.1869, -0.1479,  0.0112,  0.3345,  0.1856,\n",
      "         0.3964,  0.0205,  0.0575], device='cuda:0', grad_fn=<DivBackward0>)\n"
     ]
    },
    {
     "name": "stderr",
     "output_type": "stream",
     "text": [
      "Epoch 395: 100%|██████████| 3/3 [00:02<00:00,  1.06it/s, loss=19.7, acc=0.68, AUC=0.741, val_acc=0.695, val_AUC=0.772]\n"
     ]
    },
    {
     "name": "stdout",
     "output_type": "stream",
     "text": [
      "tensor([-0.2847,  0.0801,  1.0506,  0.1982, -0.1532,  0.0086,  0.3375,  0.1844,\n",
      "         0.3888,  0.0243,  0.0550], device='cuda:0', grad_fn=<DivBackward0>)\n"
     ]
    },
    {
     "name": "stderr",
     "output_type": "stream",
     "text": [
      "Epoch 396: 100%|██████████| 3/3 [00:02<00:00,  1.07it/s, loss=19.6, acc=0.679, AUC=0.744, val_acc=0.704, val_AUC=0.78]\n"
     ]
    },
    {
     "name": "stdout",
     "output_type": "stream",
     "text": [
      "tensor([-0.2740,  0.0795,  1.0247,  0.2003, -0.1525,  0.0035,  0.3336,  0.1734,\n",
      "         0.3933,  0.0180,  0.0497], device='cuda:0', grad_fn=<DivBackward0>)\n"
     ]
    },
    {
     "name": "stderr",
     "output_type": "stream",
     "text": [
      "Epoch 397: 100%|██████████| 3/3 [00:02<00:00,  1.07it/s, loss=19.7, acc=0.676, AUC=0.74, val_acc=0.722, val_AUC=0.774]\n"
     ]
    },
    {
     "name": "stdout",
     "output_type": "stream",
     "text": [
      "tensor([-0.2695,  0.0764,  1.0084,  0.2029, -0.1528,  0.0111,  0.3183,  0.1658,\n",
      "         0.3743,  0.0292,  0.0490], device='cuda:0', grad_fn=<DivBackward0>)\n"
     ]
    },
    {
     "name": "stderr",
     "output_type": "stream",
     "text": [
      "Epoch 398: 100%|██████████| 3/3 [00:02<00:00,  1.07it/s, loss=19.7, acc=0.684, AUC=0.741, val_acc=0.707, val_AUC=0.77]\n"
     ]
    },
    {
     "name": "stdout",
     "output_type": "stream",
     "text": [
      "tensor([-0.2645,  0.0776,  0.9987,  0.1970, -0.1567,  0.0123,  0.3186,  0.1620,\n",
      "         0.3706,  0.0241,  0.0462], device='cuda:0', grad_fn=<DivBackward0>)\n"
     ]
    },
    {
     "name": "stderr",
     "output_type": "stream",
     "text": [
      "Epoch 399: 100%|██████████| 3/3 [00:02<00:00,  1.07it/s, loss=19.9, acc=0.676, AUC=0.736, val_acc=0.701, val_AUC=0.773]\n"
     ]
    },
    {
     "name": "stdout",
     "output_type": "stream",
     "text": [
      "tensor([-0.2766,  0.0749,  1.0345,  0.1853, -0.1530,  0.0125,  0.3318,  0.1835,\n",
      "         0.3872,  0.0250,  0.0563], device='cuda:0', grad_fn=<DivBackward0>)\n"
     ]
    },
    {
     "name": "stderr",
     "output_type": "stream",
     "text": [
      "Epoch 400: 100%|██████████| 3/3 [00:02<00:00,  1.05it/s, loss=19.7, acc=0.684, AUC=0.742, val_acc=0.71, val_AUC=0.77]\n"
     ]
    },
    {
     "name": "stdout",
     "output_type": "stream",
     "text": [
      "tensor([-0.2835,  0.0792,  1.0553,  0.1777, -0.1470, -0.0033,  0.3359,  0.1808,\n",
      "         0.4013,  0.0202,  0.0636], device='cuda:0', grad_fn=<DivBackward0>)\n"
     ]
    },
    {
     "name": "stderr",
     "output_type": "stream",
     "text": [
      "Epoch 401: 100%|██████████| 3/3 [00:02<00:00,  1.07it/s, loss=19.8, acc=0.675, AUC=0.737, val_acc=0.701, val_AUC=0.768]\n"
     ]
    },
    {
     "name": "stdout",
     "output_type": "stream",
     "text": [
      "tensor([-0.2899,  0.0805,  1.0602,  0.1788, -0.1491,  0.0029,  0.3417,  0.1961,\n",
      "         0.4034,  0.0179,  0.0629], device='cuda:0', grad_fn=<DivBackward0>)\n"
     ]
    },
    {
     "name": "stderr",
     "output_type": "stream",
     "text": [
      "Epoch 402: 100%|██████████| 3/3 [00:02<00:00,  1.07it/s, loss=19.8, acc=0.678, AUC=0.739, val_acc=0.701, val_AUC=0.776]\n"
     ]
    },
    {
     "name": "stdout",
     "output_type": "stream",
     "text": [
      "tensor([-0.3008,  0.0836,  1.0641,  0.1833, -0.1464,  0.0062,  0.3356,  0.1955,\n",
      "         0.4034,  0.0281,  0.0649], device='cuda:0', grad_fn=<DivBackward0>)\n"
     ]
    },
    {
     "name": "stderr",
     "output_type": "stream",
     "text": [
      "Epoch 403: 100%|██████████| 3/3 [00:02<00:00,  1.07it/s, loss=19.7, acc=0.68, AUC=0.741, val_acc=0.722, val_AUC=0.776]\n"
     ]
    },
    {
     "name": "stdout",
     "output_type": "stream",
     "text": [
      "tensor([-0.2970,  0.0819,  1.0572,  0.1797, -0.1570,  0.0099,  0.3398,  0.1973,\n",
      "         0.4040,  0.0332,  0.0596], device='cuda:0', grad_fn=<DivBackward0>)\n"
     ]
    },
    {
     "name": "stderr",
     "output_type": "stream",
     "text": [
      "Epoch 404: 100%|██████████| 3/3 [00:02<00:00,  1.07it/s, loss=19.7, acc=0.679, AUC=0.74, val_acc=0.713, val_AUC=0.772]\n"
     ]
    },
    {
     "name": "stdout",
     "output_type": "stream",
     "text": [
      "tensor([-0.2940,  0.0819,  1.0624,  0.1827, -0.1406, -0.0044,  0.3395,  0.1997,\n",
      "         0.4102,  0.0230,  0.0634], device='cuda:0', grad_fn=<DivBackward0>)\n"
     ]
    },
    {
     "name": "stderr",
     "output_type": "stream",
     "text": [
      "Epoch 405: 100%|██████████| 3/3 [00:02<00:00,  1.05it/s, loss=19.7, acc=0.676, AUC=0.74, val_acc=0.719, val_AUC=0.769]\n"
     ]
    },
    {
     "name": "stdout",
     "output_type": "stream",
     "text": [
      "tensor([-0.2803,  0.0828,  1.0430,  0.1960, -0.1386,  0.0014,  0.3334,  0.1850,\n",
      "         0.4041,  0.0253,  0.0600], device='cuda:0', grad_fn=<DivBackward0>)\n"
     ]
    },
    {
     "name": "stderr",
     "output_type": "stream",
     "text": [
      "Epoch 406: 100%|██████████| 3/3 [00:02<00:00,  1.07it/s, loss=19.7, acc=0.68, AUC=0.742, val_acc=0.701, val_AUC=0.776]\n"
     ]
    },
    {
     "name": "stdout",
     "output_type": "stream",
     "text": [
      "tensor([-0.2901,  0.0833,  1.0434,  0.1868, -0.1382,  0.0039,  0.3399,  0.1783,\n",
      "         0.3997,  0.0250,  0.0554], device='cuda:0', grad_fn=<DivBackward0>)\n"
     ]
    },
    {
     "name": "stderr",
     "output_type": "stream",
     "text": [
      "Epoch 407: 100%|██████████| 3/3 [00:02<00:00,  1.07it/s, loss=19.7, acc=0.679, AUC=0.739, val_acc=0.707, val_AUC=0.766]\n"
     ]
    },
    {
     "name": "stdout",
     "output_type": "stream",
     "text": [
      "tensor([-0.2806,  0.0851,  1.0567,  0.1833, -0.1341, -0.0049,  0.3456,  0.1879,\n",
      "         0.4028,  0.0204,  0.0619], device='cuda:0', grad_fn=<DivBackward0>)\n"
     ]
    },
    {
     "name": "stderr",
     "output_type": "stream",
     "text": [
      "Epoch 408: 100%|██████████| 3/3 [00:02<00:00,  1.07it/s, loss=19.8, acc=0.684, AUC=0.739, val_acc=0.716, val_AUC=0.768]\n"
     ]
    },
    {
     "name": "stdout",
     "output_type": "stream",
     "text": [
      "tensor([-2.8729e-01,  9.0034e-02,  1.0503e+00,  1.9390e-01, -1.2746e-01,\n",
      "        -3.0877e-04,  3.5008e-01,  1.7809e-01,  4.1017e-01,  2.4506e-02,\n",
      "         5.9973e-02], device='cuda:0', grad_fn=<DivBackward0>)\n"
     ]
    },
    {
     "name": "stderr",
     "output_type": "stream",
     "text": [
      "Epoch 409: 100%|██████████| 3/3 [00:02<00:00,  1.07it/s, loss=19.7, acc=0.679, AUC=0.74, val_acc=0.692, val_AUC=0.764]\n"
     ]
    },
    {
     "name": "stdout",
     "output_type": "stream",
     "text": [
      "tensor([-0.2909,  0.0903,  1.0604,  0.1905, -0.1264, -0.0066,  0.3510,  0.1804,\n",
      "         0.4128,  0.0149,  0.0633], device='cuda:0', grad_fn=<DivBackward0>)\n"
     ]
    },
    {
     "name": "stderr",
     "output_type": "stream",
     "text": [
      "Epoch 410: 100%|██████████| 3/3 [00:02<00:00,  1.05it/s, loss=19.7, acc=0.682, AUC=0.743, val_acc=0.71, val_AUC=0.775]\n"
     ]
    },
    {
     "name": "stdout",
     "output_type": "stream",
     "text": [
      "tensor([-0.2937,  0.0908,  1.0710,  0.1898, -0.1134, -0.0037,  0.3514,  0.1853,\n",
      "         0.4148,  0.0256,  0.0701], device='cuda:0', grad_fn=<DivBackward0>)\n"
     ]
    },
    {
     "name": "stderr",
     "output_type": "stream",
     "text": [
      "Epoch 411: 100%|██████████| 3/3 [00:02<00:00,  1.07it/s, loss=19.7, acc=0.683, AUC=0.74, val_acc=0.722, val_AUC=0.78]\n"
     ]
    },
    {
     "name": "stdout",
     "output_type": "stream",
     "text": [
      "tensor([-0.2852,  0.0940,  1.0544,  0.1975, -0.1193, -0.0053,  0.3448,  0.1736,\n",
      "         0.4124,  0.0160,  0.0681], device='cuda:0', grad_fn=<DivBackward0>)\n"
     ]
    },
    {
     "name": "stderr",
     "output_type": "stream",
     "text": [
      "Epoch 412: 100%|██████████| 3/3 [00:02<00:00,  1.07it/s, loss=19.8, acc=0.678, AUC=0.737, val_acc=0.692, val_AUC=0.765]\n"
     ]
    },
    {
     "name": "stdout",
     "output_type": "stream",
     "text": [
      "tensor([-0.2852,  0.0932,  1.0598,  0.1951, -0.1148, -0.0034,  0.3482,  0.1905,\n",
      "         0.4152,  0.0156,  0.0573], device='cuda:0', grad_fn=<DivBackward0>)\n"
     ]
    },
    {
     "name": "stderr",
     "output_type": "stream",
     "text": [
      "Epoch 413: 100%|██████████| 3/3 [00:02<00:00,  1.07it/s, loss=19.7, acc=0.681, AUC=0.74, val_acc=0.719, val_AUC=0.781]\n"
     ]
    },
    {
     "name": "stdout",
     "output_type": "stream",
     "text": [
      "tensor([-2.8206e-01,  9.6904e-02,  1.0678e+00,  1.9765e-01, -1.1608e-01,\n",
      "        -2.7952e-04,  3.4849e-01,  1.8701e-01,  4.2332e-01,  1.6805e-02,\n",
      "         6.4655e-02], device='cuda:0', grad_fn=<DivBackward0>)\n"
     ]
    },
    {
     "name": "stderr",
     "output_type": "stream",
     "text": [
      "Epoch 414: 100%|██████████| 3/3 [00:02<00:00,  1.07it/s, loss=19.7, acc=0.681, AUC=0.741, val_acc=0.704, val_AUC=0.773]\n"
     ]
    },
    {
     "name": "stdout",
     "output_type": "stream",
     "text": [
      "tensor([-0.2833,  0.0930,  1.0748,  0.1923, -0.1172, -0.0070,  0.3528,  0.1987,\n",
      "         0.4261,  0.0191,  0.0667], device='cuda:0', grad_fn=<DivBackward0>)\n"
     ]
    },
    {
     "name": "stderr",
     "output_type": "stream",
     "text": [
      "Epoch 415: 100%|██████████| 3/3 [00:02<00:00,  1.07it/s, loss=19.8, acc=0.676, AUC=0.739, val_acc=0.71, val_AUC=0.772]\n"
     ]
    },
    {
     "name": "stdout",
     "output_type": "stream",
     "text": [
      "tensor([-0.2895,  0.0884,  1.0649,  0.1868, -0.1248, -0.0024,  0.3546,  0.1853,\n",
      "         0.4138,  0.0235,  0.0595], device='cuda:0', grad_fn=<DivBackward0>)\n"
     ]
    },
    {
     "name": "stderr",
     "output_type": "stream",
     "text": [
      "Epoch 416: 100%|██████████| 3/3 [00:02<00:00,  1.05it/s, loss=19.7, acc=0.681, AUC=0.74, val_acc=0.716, val_AUC=0.771]\n"
     ]
    },
    {
     "name": "stdout",
     "output_type": "stream",
     "text": [
      "tensor([-0.2779,  0.0954,  1.0414,  0.1974, -0.1311, -0.0032,  0.3427,  0.1770,\n",
      "         0.4131,  0.0280,  0.0520], device='cuda:0', grad_fn=<DivBackward0>)\n"
     ]
    },
    {
     "name": "stderr",
     "output_type": "stream",
     "text": [
      "Epoch 417: 100%|██████████| 3/3 [00:02<00:00,  1.07it/s, loss=19.7, acc=0.683, AUC=0.741, val_acc=0.689, val_AUC=0.774]\n"
     ]
    },
    {
     "name": "stdout",
     "output_type": "stream",
     "text": [
      "tensor([-0.2721,  0.0959,  1.0276,  0.2087, -0.1350,  0.0027,  0.3390,  0.1715,\n",
      "         0.4011,  0.0246,  0.0419], device='cuda:0', grad_fn=<DivBackward0>)\n"
     ]
    },
    {
     "name": "stderr",
     "output_type": "stream",
     "text": [
      "Epoch 418: 100%|██████████| 3/3 [00:02<00:00,  1.07it/s, loss=19.7, acc=0.68, AUC=0.739, val_acc=0.698, val_AUC=0.765]\n"
     ]
    },
    {
     "name": "stdout",
     "output_type": "stream",
     "text": [
      "tensor([-0.2796,  0.0973,  1.0337,  0.2137, -0.1321, -0.0016,  0.3482,  0.1836,\n",
      "         0.4088,  0.0248,  0.0433], device='cuda:0', grad_fn=<DivBackward0>)\n"
     ]
    },
    {
     "name": "stderr",
     "output_type": "stream",
     "text": [
      "Epoch 419: 100%|██████████| 3/3 [00:02<00:00,  1.07it/s, loss=19.8, acc=0.678, AUC=0.74, val_acc=0.689, val_AUC=0.771]\n"
     ]
    },
    {
     "name": "stdout",
     "output_type": "stream",
     "text": [
      "tensor([-0.2836,  0.1062,  1.0320,  0.2136, -0.1227, -0.0051,  0.3498,  0.1723,\n",
      "         0.4092,  0.0303,  0.0435], device='cuda:0', grad_fn=<DivBackward0>)\n"
     ]
    },
    {
     "name": "stderr",
     "output_type": "stream",
     "text": [
      "Epoch 420: 100%|██████████| 3/3 [00:02<00:00,  1.07it/s, loss=19.7, acc=0.678, AUC=0.739, val_acc=0.701, val_AUC=0.775]\n"
     ]
    },
    {
     "name": "stdout",
     "output_type": "stream",
     "text": [
      "tensor([-0.2784,  0.0949,  1.0398,  0.2016, -0.1315, -0.0060,  0.3521,  0.1836,\n",
      "         0.4104,  0.0370,  0.0432], device='cuda:0', grad_fn=<DivBackward0>)\n"
     ]
    },
    {
     "name": "stderr",
     "output_type": "stream",
     "text": [
      "Epoch 421: 100%|██████████| 3/3 [00:02<00:00,  1.05it/s, loss=19.8, acc=0.676, AUC=0.738, val_acc=0.698, val_AUC=0.772]\n"
     ]
    },
    {
     "name": "stdout",
     "output_type": "stream",
     "text": [
      "tensor([-0.2804,  0.0944,  1.0377,  0.2006, -0.1347, -0.0039,  0.3443,  0.1814,\n",
      "         0.4103,  0.0277,  0.0445], device='cuda:0', grad_fn=<DivBackward0>)\n"
     ]
    },
    {
     "name": "stderr",
     "output_type": "stream",
     "text": [
      "Epoch 422: 100%|██████████| 3/3 [00:02<00:00,  1.07it/s, loss=19.7, acc=0.676, AUC=0.739, val_acc=0.707, val_AUC=0.769]\n"
     ]
    },
    {
     "name": "stdout",
     "output_type": "stream",
     "text": [
      "tensor([-0.2754,  0.1023,  1.0254,  0.2095, -0.1332, -0.0073,  0.3448,  0.1788,\n",
      "         0.4095,  0.0372,  0.0385], device='cuda:0', grad_fn=<DivBackward0>)\n"
     ]
    },
    {
     "name": "stderr",
     "output_type": "stream",
     "text": [
      "Epoch 423: 100%|██████████| 3/3 [00:02<00:00,  1.07it/s, loss=19.8, acc=0.682, AUC=0.737, val_acc=0.701, val_AUC=0.767]\n"
     ]
    },
    {
     "name": "stdout",
     "output_type": "stream",
     "text": [
      "tensor([-0.2742,  0.0937,  1.0343,  0.2068, -0.1341, -0.0076,  0.3464,  0.1810,\n",
      "         0.4059,  0.0375,  0.0360], device='cuda:0', grad_fn=<DivBackward0>)\n"
     ]
    },
    {
     "name": "stderr",
     "output_type": "stream",
     "text": [
      "Epoch 424: 100%|██████████| 3/3 [00:02<00:00,  1.07it/s, loss=19.8, acc=0.681, AUC=0.737, val_acc=0.725, val_AUC=0.779]\n"
     ]
    },
    {
     "name": "stdout",
     "output_type": "stream",
     "text": [
      "tensor([-0.2775,  0.0979,  1.0545,  0.1977, -0.1334, -0.0074,  0.3506,  0.1892,\n",
      "         0.4177,  0.0376,  0.0402], device='cuda:0', grad_fn=<DivBackward0>)\n"
     ]
    },
    {
     "name": "stderr",
     "output_type": "stream",
     "text": [
      "Epoch 425: 100%|██████████| 3/3 [00:02<00:00,  1.07it/s, loss=19.7, acc=0.681, AUC=0.742, val_acc=0.698, val_AUC=0.77]\n"
     ]
    },
    {
     "name": "stdout",
     "output_type": "stream",
     "text": [
      "tensor([-0.2769,  0.0940,  1.0680,  0.2014, -0.1243, -0.0027,  0.3472,  0.1886,\n",
      "         0.4257,  0.0378,  0.0409], device='cuda:0', grad_fn=<DivBackward0>)\n"
     ]
    },
    {
     "name": "stderr",
     "output_type": "stream",
     "text": [
      "Epoch 426: 100%|██████████| 3/3 [00:02<00:00,  1.05it/s, loss=19.7, acc=0.682, AUC=0.742, val_acc=0.707, val_AUC=0.771]\n"
     ]
    },
    {
     "name": "stdout",
     "output_type": "stream",
     "text": [
      "tensor([-0.2872,  0.0945,  1.0941,  0.1870, -0.1299, -0.0089,  0.3555,  0.1980,\n",
      "         0.4268,  0.0341,  0.0510], device='cuda:0', grad_fn=<DivBackward0>)\n"
     ]
    },
    {
     "name": "stderr",
     "output_type": "stream",
     "text": [
      "Epoch 427: 100%|██████████| 3/3 [00:02<00:00,  1.07it/s, loss=19.7, acc=0.679, AUC=0.742, val_acc=0.71, val_AUC=0.78]\n"
     ]
    },
    {
     "name": "stdout",
     "output_type": "stream",
     "text": [
      "tensor([-0.2873,  0.0890,  1.0913,  0.1903, -0.1217, -0.0129,  0.3572,  0.1958,\n",
      "         0.4415,  0.0380,  0.0551], device='cuda:0', grad_fn=<DivBackward0>)\n"
     ]
    },
    {
     "name": "stderr",
     "output_type": "stream",
     "text": [
      "Epoch 428: 100%|██████████| 3/3 [00:02<00:00,  1.07it/s, loss=19.7, acc=0.676, AUC=0.74, val_acc=0.713, val_AUC=0.778]\n"
     ]
    },
    {
     "name": "stdout",
     "output_type": "stream",
     "text": [
      "tensor([-0.2795,  0.0952,  1.0902,  0.2010, -0.1201, -0.0122,  0.3569,  0.1928,\n",
      "         0.4287,  0.0174,  0.0467], device='cuda:0', grad_fn=<DivBackward0>)\n"
     ]
    },
    {
     "name": "stderr",
     "output_type": "stream",
     "text": [
      "Epoch 429: 100%|██████████| 3/3 [00:02<00:00,  1.07it/s, loss=19.7, acc=0.683, AUC=0.739, val_acc=0.695, val_AUC=0.767]\n"
     ]
    },
    {
     "name": "stdout",
     "output_type": "stream",
     "text": [
      "tensor([-0.2824,  0.0939,  1.0844,  0.2074, -0.1226, -0.0091,  0.3501,  0.1923,\n",
      "         0.4188,  0.0354,  0.0456], device='cuda:0', grad_fn=<DivBackward0>)\n"
     ]
    },
    {
     "name": "stderr",
     "output_type": "stream",
     "text": [
      "Epoch 430: 100%|██████████| 3/3 [00:02<00:00,  1.07it/s, loss=19.7, acc=0.681, AUC=0.741, val_acc=0.71, val_AUC=0.772]\n"
     ]
    },
    {
     "name": "stdout",
     "output_type": "stream",
     "text": [
      "tensor([-0.2886,  0.0897,  1.1040,  0.1950, -0.1146, -0.0170,  0.3642,  0.2028,\n",
      "         0.4278,  0.0338,  0.0536], device='cuda:0', grad_fn=<DivBackward0>)\n"
     ]
    },
    {
     "name": "stderr",
     "output_type": "stream",
     "text": [
      "Epoch 431: 100%|██████████| 3/3 [00:02<00:00,  1.07it/s, loss=19.7, acc=0.678, AUC=0.74, val_acc=0.719, val_AUC=0.771]\n"
     ]
    },
    {
     "name": "stdout",
     "output_type": "stream",
     "text": [
      "tensor([-0.2758,  0.0889,  1.0944,  0.2006, -0.1212, -0.0160,  0.3509,  0.1963,\n",
      "         0.4223,  0.0386,  0.0504], device='cuda:0', grad_fn=<DivBackward0>)\n"
     ]
    },
    {
     "name": "stderr",
     "output_type": "stream",
     "text": [
      "Epoch 432: 100%|██████████| 3/3 [00:02<00:00,  1.05it/s, loss=19.8, acc=0.68, AUC=0.738, val_acc=0.692, val_AUC=0.771]\n"
     ]
    },
    {
     "name": "stdout",
     "output_type": "stream",
     "text": [
      "tensor([-0.2809,  0.0925,  1.0913,  0.1943, -0.1299, -0.0130,  0.3540,  0.1929,\n",
      "         0.4287,  0.0271,  0.0405], device='cuda:0', grad_fn=<DivBackward0>)\n"
     ]
    },
    {
     "name": "stderr",
     "output_type": "stream",
     "text": [
      "Epoch 433: 100%|██████████| 3/3 [00:02<00:00,  1.07it/s, loss=19.7, acc=0.681, AUC=0.74, val_acc=0.701, val_AUC=0.771]\n"
     ]
    },
    {
     "name": "stdout",
     "output_type": "stream",
     "text": [
      "tensor([-0.2793,  0.0972,  1.1189,  0.1948, -0.1156, -0.0148,  0.3634,  0.2001,\n",
      "         0.4416,  0.0323,  0.0467], device='cuda:0', grad_fn=<DivBackward0>)\n"
     ]
    },
    {
     "name": "stderr",
     "output_type": "stream",
     "text": [
      "Epoch 434: 100%|██████████| 3/3 [00:02<00:00,  1.07it/s, loss=19.7, acc=0.683, AUC=0.74, val_acc=0.704, val_AUC=0.772]\n"
     ]
    },
    {
     "name": "stdout",
     "output_type": "stream",
     "text": [
      "tensor([-0.2987,  0.0846,  1.1236,  0.1897, -0.1185, -0.0193,  0.3621,  0.2025,\n",
      "         0.4364,  0.0318,  0.0552], device='cuda:0', grad_fn=<DivBackward0>)\n"
     ]
    },
    {
     "name": "stderr",
     "output_type": "stream",
     "text": [
      "Epoch 435: 100%|██████████| 3/3 [00:02<00:00,  1.07it/s, loss=19.6, acc=0.684, AUC=0.744, val_acc=0.707, val_AUC=0.776]\n"
     ]
    },
    {
     "name": "stdout",
     "output_type": "stream",
     "text": [
      "tensor([-0.2935,  0.0967,  1.1068,  0.1890, -0.1182, -0.0128,  0.3620,  0.1987,\n",
      "         0.4338,  0.0402,  0.0550], device='cuda:0', grad_fn=<DivBackward0>)\n"
     ]
    },
    {
     "name": "stderr",
     "output_type": "stream",
     "text": [
      "Epoch 436: 100%|██████████| 3/3 [00:02<00:00,  1.07it/s, loss=19.6, acc=0.683, AUC=0.744, val_acc=0.719, val_AUC=0.771]\n"
     ]
    },
    {
     "name": "stdout",
     "output_type": "stream",
     "text": [
      "tensor([-0.2832,  0.0956,  1.0757,  0.1894, -0.1308, -0.0127,  0.3373,  0.1879,\n",
      "         0.4295,  0.0331,  0.0392], device='cuda:0', grad_fn=<DivBackward0>)\n"
     ]
    },
    {
     "name": "stderr",
     "output_type": "stream",
     "text": [
      "Epoch 437: 100%|██████████| 3/3 [00:02<00:00,  1.07it/s, loss=19.7, acc=0.684, AUC=0.742, val_acc=0.713, val_AUC=0.773]\n"
     ]
    },
    {
     "name": "stdout",
     "output_type": "stream",
     "text": [
      "tensor([-0.2864,  0.0979,  1.0808,  0.1916, -0.1253, -0.0119,  0.3399,  0.1964,\n",
      "         0.4175,  0.0381,  0.0465], device='cuda:0', grad_fn=<DivBackward0>)\n"
     ]
    },
    {
     "name": "stderr",
     "output_type": "stream",
     "text": [
      "Epoch 438: 100%|██████████| 3/3 [00:02<00:00,  1.05it/s, loss=19.7, acc=0.676, AUC=0.74, val_acc=0.713, val_AUC=0.779]\n"
     ]
    },
    {
     "name": "stdout",
     "output_type": "stream",
     "text": [
      "tensor([-0.2913,  0.0949,  1.0977,  0.1959, -0.1192, -0.0092,  0.3464,  0.1971,\n",
      "         0.4337,  0.0262,  0.0409], device='cuda:0', grad_fn=<DivBackward0>)\n"
     ]
    },
    {
     "name": "stderr",
     "output_type": "stream",
     "text": [
      "Epoch 439: 100%|██████████| 3/3 [00:02<00:00,  1.07it/s, loss=19.7, acc=0.683, AUC=0.742, val_acc=0.689, val_AUC=0.768]\n"
     ]
    },
    {
     "name": "stdout",
     "output_type": "stream",
     "text": [
      "tensor([-0.2870,  0.0949,  1.0851,  0.1897, -0.1249, -0.0088,  0.3448,  0.1954,\n",
      "         0.4234,  0.0364,  0.0464], device='cuda:0', grad_fn=<DivBackward0>)\n"
     ]
    },
    {
     "name": "stderr",
     "output_type": "stream",
     "text": [
      "Epoch 440: 100%|██████████| 3/3 [00:02<00:00,  1.07it/s, loss=19.7, acc=0.684, AUC=0.741, val_acc=0.71, val_AUC=0.777]\n"
     ]
    },
    {
     "name": "stdout",
     "output_type": "stream",
     "text": [
      "tensor([-0.2761,  0.1021,  1.0839,  0.1946, -0.1248, -0.0126,  0.3441,  0.1960,\n",
      "         0.4272,  0.0330,  0.0399], device='cuda:0', grad_fn=<DivBackward0>)\n"
     ]
    },
    {
     "name": "stderr",
     "output_type": "stream",
     "text": [
      "Epoch 441: 100%|██████████| 3/3 [00:02<00:00,  1.07it/s, loss=19.7, acc=0.678, AUC=0.742, val_acc=0.707, val_AUC=0.775]\n"
     ]
    },
    {
     "name": "stdout",
     "output_type": "stream",
     "text": [
      "tensor([-0.2886,  0.1067,  1.1074,  0.1967, -0.1092, -0.0148,  0.3532,  0.2031,\n",
      "         0.4346,  0.0282,  0.0453], device='cuda:0', grad_fn=<DivBackward0>)\n"
     ]
    },
    {
     "name": "stderr",
     "output_type": "stream",
     "text": [
      "Epoch 442: 100%|██████████| 3/3 [00:02<00:00,  1.07it/s, loss=19.7, acc=0.678, AUC=0.74, val_acc=0.692, val_AUC=0.771]\n"
     ]
    },
    {
     "name": "stdout",
     "output_type": "stream",
     "text": [
      "tensor([-0.2927,  0.1014,  1.1087,  0.1971, -0.1104, -0.0186,  0.3603,  0.2048,\n",
      "         0.4327,  0.0330,  0.0502], device='cuda:0', grad_fn=<DivBackward0>)\n"
     ]
    },
    {
     "name": "stderr",
     "output_type": "stream",
     "text": [
      "Epoch 443: 100%|██████████| 3/3 [00:02<00:00,  1.05it/s, loss=19.7, acc=0.676, AUC=0.741, val_acc=0.695, val_AUC=0.769]\n"
     ]
    },
    {
     "name": "stdout",
     "output_type": "stream",
     "text": [
      "tensor([-0.2872,  0.0994,  1.1011,  0.1955, -0.1125, -0.0043,  0.3625,  0.2046,\n",
      "         0.4352,  0.0234,  0.0436], device='cuda:0', grad_fn=<DivBackward0>)\n"
     ]
    },
    {
     "name": "stderr",
     "output_type": "stream",
     "text": [
      "Epoch 444: 100%|██████████| 3/3 [00:02<00:00,  1.07it/s, loss=19.7, acc=0.686, AUC=0.743, val_acc=0.695, val_AUC=0.761]\n"
     ]
    },
    {
     "name": "stdout",
     "output_type": "stream",
     "text": [
      "tensor([-0.2903,  0.1049,  1.1129,  0.1884, -0.1028, -0.0098,  0.3572,  0.2084,\n",
      "         0.4387,  0.0217,  0.0485], device='cuda:0', grad_fn=<DivBackward0>)\n"
     ]
    },
    {
     "name": "stderr",
     "output_type": "stream",
     "text": [
      "Epoch 445: 100%|██████████| 3/3 [00:02<00:00,  1.07it/s, loss=19.6, acc=0.68, AUC=0.744, val_acc=0.722, val_AUC=0.771]\n"
     ]
    },
    {
     "name": "stdout",
     "output_type": "stream",
     "text": [
      "tensor([-0.2963,  0.0952,  1.1259,  0.1865, -0.1068, -0.0028,  0.3573,  0.2149,\n",
      "         0.4443,  0.0325,  0.0564], device='cuda:0', grad_fn=<DivBackward0>)\n"
     ]
    },
    {
     "name": "stderr",
     "output_type": "stream",
     "text": [
      "Epoch 446: 100%|██████████| 3/3 [00:02<00:00,  1.07it/s, loss=19.7, acc=0.678, AUC=0.741, val_acc=0.701, val_AUC=0.768]\n"
     ]
    },
    {
     "name": "stdout",
     "output_type": "stream",
     "text": [
      "tensor([-0.2904,  0.0996,  1.1132,  0.1901, -0.1167, -0.0178,  0.3555,  0.2105,\n",
      "         0.4540,  0.0305,  0.0489], device='cuda:0', grad_fn=<DivBackward0>)\n"
     ]
    },
    {
     "name": "stderr",
     "output_type": "stream",
     "text": [
      "Epoch 447: 100%|██████████| 3/3 [00:02<00:00,  1.07it/s, loss=19.7, acc=0.678, AUC=0.739, val_acc=0.71, val_AUC=0.77]\n"
     ]
    },
    {
     "name": "stdout",
     "output_type": "stream",
     "text": [
      "tensor([-0.2801,  0.1068,  1.1282,  0.1967, -0.1230, -0.0172,  0.3451,  0.2116,\n",
      "         0.4500,  0.0187,  0.0529], device='cuda:0', grad_fn=<DivBackward0>)\n"
     ]
    },
    {
     "name": "stderr",
     "output_type": "stream",
     "text": [
      "Epoch 448: 100%|██████████| 3/3 [00:02<00:00,  1.05it/s, loss=19.6, acc=0.676, AUC=0.743, val_acc=0.701, val_AUC=0.767]\n"
     ]
    },
    {
     "name": "stdout",
     "output_type": "stream",
     "text": [
      "tensor([-0.2817,  0.1015,  1.1097,  0.2033, -0.1098, -0.0144,  0.3508,  0.2029,\n",
      "         0.4482,  0.0229,  0.0484], device='cuda:0', grad_fn=<DivBackward0>)\n"
     ]
    },
    {
     "name": "stderr",
     "output_type": "stream",
     "text": [
      "Epoch 449: 100%|██████████| 3/3 [00:02<00:00,  1.07it/s, loss=19.7, acc=0.678, AUC=0.742, val_acc=0.686, val_AUC=0.772]\n"
     ]
    },
    {
     "name": "stdout",
     "output_type": "stream",
     "text": [
      "tensor([-0.2725,  0.1030,  1.0745,  0.2066, -0.1216, -0.0097,  0.3328,  0.1938,\n",
      "         0.4292,  0.0309,  0.0404], device='cuda:0', grad_fn=<DivBackward0>)\n"
     ]
    },
    {
     "name": "stderr",
     "output_type": "stream",
     "text": [
      "Epoch 450: 100%|██████████| 3/3 [00:02<00:00,  1.08it/s, loss=19.7, acc=0.682, AUC=0.74, val_acc=0.707, val_AUC=0.764]\n"
     ]
    },
    {
     "name": "stdout",
     "output_type": "stream",
     "text": [
      "tensor([-0.2659,  0.1003,  1.0647,  0.2033, -0.1193, -0.0126,  0.3313,  0.1882,\n",
      "         0.4181,  0.0324,  0.0374], device='cuda:0', grad_fn=<DivBackward0>)\n"
     ]
    },
    {
     "name": "stderr",
     "output_type": "stream",
     "text": [
      "Epoch 451: 100%|██████████| 3/3 [00:02<00:00,  1.07it/s, loss=19.7, acc=0.68, AUC=0.738, val_acc=0.692, val_AUC=0.763]\n"
     ]
    },
    {
     "name": "stdout",
     "output_type": "stream",
     "text": [
      "tensor([-0.2542,  0.0935,  1.0439,  0.2032, -0.1357, -0.0099,  0.3205,  0.1905,\n",
      "         0.4105,  0.0376,  0.0300], device='cuda:0', grad_fn=<DivBackward0>)\n"
     ]
    },
    {
     "name": "stderr",
     "output_type": "stream",
     "text": [
      "Epoch 452: 100%|██████████| 3/3 [00:02<00:00,  1.07it/s, loss=19.7, acc=0.682, AUC=0.741, val_acc=0.707, val_AUC=0.761]\n"
     ]
    },
    {
     "name": "stdout",
     "output_type": "stream",
     "text": [
      "tensor([-0.2588,  0.0936,  1.0576,  0.2094, -0.1242, -0.0085,  0.3199,  0.1883,\n",
      "         0.4087,  0.0373,  0.0380], device='cuda:0', grad_fn=<DivBackward0>)\n"
     ]
    },
    {
     "name": "stderr",
     "output_type": "stream",
     "text": [
      "Epoch 453: 100%|██████████| 3/3 [00:02<00:00,  1.05it/s, loss=19.7, acc=0.688, AUC=0.743, val_acc=0.683, val_AUC=0.768]\n"
     ]
    },
    {
     "name": "stdout",
     "output_type": "stream",
     "text": [
      "tensor([-0.2554,  0.0941,  1.0536,  0.2129, -0.1352, -0.0090,  0.3110,  0.1857,\n",
      "         0.4048,  0.0320,  0.0290], device='cuda:0', grad_fn=<DivBackward0>)\n"
     ]
    },
    {
     "name": "stderr",
     "output_type": "stream",
     "text": [
      "Epoch 454: 100%|██████████| 3/3 [00:02<00:00,  1.07it/s, loss=19.7, acc=0.675, AUC=0.742, val_acc=0.71, val_AUC=0.772]\n"
     ]
    },
    {
     "name": "stdout",
     "output_type": "stream",
     "text": [
      "tensor([-0.2626,  0.0965,  1.0500,  0.2155, -0.1410, -0.0034,  0.3145,  0.1839,\n",
      "         0.4018,  0.0346,  0.0285], device='cuda:0', grad_fn=<DivBackward0>)\n"
     ]
    },
    {
     "name": "stderr",
     "output_type": "stream",
     "text": [
      "Epoch 455: 100%|██████████| 3/3 [00:02<00:00,  1.08it/s, loss=19.7, acc=0.683, AUC=0.742, val_acc=0.707, val_AUC=0.765]\n"
     ]
    },
    {
     "name": "stdout",
     "output_type": "stream",
     "text": [
      "tensor([-0.2487,  0.0971,  1.0434,  0.2185, -0.1427, -0.0081,  0.3205,  0.1831,\n",
      "         0.4064,  0.0460,  0.0272], device='cuda:0', grad_fn=<DivBackward0>)\n"
     ]
    },
    {
     "name": "stderr",
     "output_type": "stream",
     "text": [
      "Epoch 456: 100%|██████████| 3/3 [00:02<00:00,  1.07it/s, loss=19.6, acc=0.682, AUC=0.745, val_acc=0.71, val_AUC=0.766]\n"
     ]
    },
    {
     "name": "stdout",
     "output_type": "stream",
     "text": [
      "tensor([-0.2452,  0.0969,  1.0285,  0.2169, -0.1424, -0.0055,  0.3083,  0.1774,\n",
      "         0.3980,  0.0315,  0.0190], device='cuda:0', grad_fn=<DivBackward0>)\n"
     ]
    },
    {
     "name": "stderr",
     "output_type": "stream",
     "text": [
      "Epoch 457: 100%|██████████| 3/3 [00:02<00:00,  1.07it/s, loss=19.6, acc=0.683, AUC=0.745, val_acc=0.704, val_AUC=0.769]\n"
     ]
    },
    {
     "name": "stdout",
     "output_type": "stream",
     "text": [
      "tensor([-0.2557,  0.0972,  1.0403,  0.2139, -0.1374, -0.0035,  0.3118,  0.1852,\n",
      "         0.3968,  0.0322,  0.0254], device='cuda:0', grad_fn=<DivBackward0>)\n"
     ]
    },
    {
     "name": "stderr",
     "output_type": "stream",
     "text": [
      "Epoch 458: 100%|██████████| 3/3 [00:02<00:00,  1.05it/s, loss=19.7, acc=0.678, AUC=0.739, val_acc=0.707, val_AUC=0.771]\n"
     ]
    },
    {
     "name": "stdout",
     "output_type": "stream",
     "text": [
      "tensor([-0.2477,  0.1002,  1.0292,  0.2184, -0.1369, -0.0021,  0.3174,  0.1803,\n",
      "         0.3909,  0.0351,  0.0276], device='cuda:0', grad_fn=<DivBackward0>)\n"
     ]
    },
    {
     "name": "stderr",
     "output_type": "stream",
     "text": [
      "Epoch 459: 100%|██████████| 3/3 [00:02<00:00,  1.07it/s, loss=19.7, acc=0.679, AUC=0.74, val_acc=0.704, val_AUC=0.772]\n"
     ]
    },
    {
     "name": "stdout",
     "output_type": "stream",
     "text": [
      "tensor([-2.5416e-01,  9.3150e-02,  1.0263e+00,  2.1344e-01, -1.5113e-01,\n",
      "        -8.2016e-04,  3.0829e-01,  1.7916e-01,  3.9526e-01,  3.3104e-02,\n",
      "         2.4616e-02], device='cuda:0', grad_fn=<DivBackward0>)\n"
     ]
    },
    {
     "name": "stderr",
     "output_type": "stream",
     "text": [
      "Epoch 460: 100%|██████████| 3/3 [00:02<00:00,  1.07it/s, loss=19.6, acc=0.684, AUC=0.744, val_acc=0.698, val_AUC=0.77]\n"
     ]
    },
    {
     "name": "stdout",
     "output_type": "stream",
     "text": [
      "tensor([-0.2516,  0.0973,  1.0123,  0.2094, -0.1542, -0.0014,  0.2994,  0.1732,\n",
      "         0.3922,  0.0386,  0.0260], device='cuda:0', grad_fn=<DivBackward0>)\n"
     ]
    },
    {
     "name": "stderr",
     "output_type": "stream",
     "text": [
      "Epoch 461: 100%|██████████| 3/3 [00:02<00:00,  1.07it/s, loss=19.6, acc=0.681, AUC=0.743, val_acc=0.713, val_AUC=0.77]\n"
     ]
    },
    {
     "name": "stdout",
     "output_type": "stream",
     "text": [
      "tensor([-0.2433,  0.0965,  1.0272,  0.2042, -0.1477,  0.0025,  0.3092,  0.1831,\n",
      "         0.3995,  0.0341,  0.0240], device='cuda:0', grad_fn=<DivBackward0>)\n"
     ]
    },
    {
     "name": "stderr",
     "output_type": "stream",
     "text": [
      "Epoch 462: 100%|██████████| 3/3 [00:02<00:00,  1.07it/s, loss=19.5, acc=0.688, AUC=0.747, val_acc=0.707, val_AUC=0.771]\n"
     ]
    },
    {
     "name": "stdout",
     "output_type": "stream",
     "text": [
      "tensor([-0.2599,  0.0936,  1.0361,  0.2060, -0.1452,  0.0022,  0.3073,  0.1797,\n",
      "         0.4074,  0.0284,  0.0273], device='cuda:0', grad_fn=<DivBackward0>)\n"
     ]
    },
    {
     "name": "stderr",
     "output_type": "stream",
     "text": [
      "Epoch 463: 100%|██████████| 3/3 [00:02<00:00,  1.05it/s, loss=19.7, acc=0.681, AUC=0.738, val_acc=0.719, val_AUC=0.78]\n"
     ]
    },
    {
     "name": "stdout",
     "output_type": "stream",
     "text": [
      "tensor([-0.2527,  0.0977,  1.0465,  0.2001, -0.1413, -0.0095,  0.3175,  0.1841,\n",
      "         0.4039,  0.0245,  0.0275], device='cuda:0', grad_fn=<DivBackward0>)\n"
     ]
    },
    {
     "name": "stderr",
     "output_type": "stream",
     "text": [
      "Epoch 464: 100%|██████████| 3/3 [00:02<00:00,  1.07it/s, loss=19.6, acc=0.682, AUC=0.745, val_acc=0.689, val_AUC=0.763]\n"
     ]
    },
    {
     "name": "stdout",
     "output_type": "stream",
     "text": [
      "tensor([-0.2553,  0.0975,  1.0633,  0.2020, -0.1441, -0.0068,  0.3225,  0.1959,\n",
      "         0.4179,  0.0250,  0.0309], device='cuda:0', grad_fn=<DivBackward0>)\n"
     ]
    },
    {
     "name": "stderr",
     "output_type": "stream",
     "text": [
      "Epoch 465: 100%|██████████| 3/3 [00:02<00:00,  1.07it/s, loss=19.7, acc=0.676, AUC=0.742, val_acc=0.704, val_AUC=0.761]\n"
     ]
    },
    {
     "name": "stdout",
     "output_type": "stream",
     "text": [
      "tensor([-0.2581,  0.1020,  1.0489,  0.2056, -0.1453, -0.0020,  0.3165,  0.1920,\n",
      "         0.4173,  0.0379,  0.0288], device='cuda:0', grad_fn=<DivBackward0>)\n"
     ]
    },
    {
     "name": "stderr",
     "output_type": "stream",
     "text": [
      "Epoch 466: 100%|██████████| 3/3 [00:02<00:00,  1.07it/s, loss=19.7, acc=0.679, AUC=0.742, val_acc=0.704, val_AUC=0.763]\n"
     ]
    },
    {
     "name": "stdout",
     "output_type": "stream",
     "text": [
      "tensor([-0.2532,  0.0937,  1.0450,  0.2022, -0.1426, -0.0098,  0.3071,  0.1865,\n",
      "         0.4159,  0.0268,  0.0310], device='cuda:0', grad_fn=<DivBackward0>)\n"
     ]
    },
    {
     "name": "stderr",
     "output_type": "stream",
     "text": [
      "Epoch 467: 100%|██████████| 3/3 [00:02<00:00,  1.07it/s, loss=19.8, acc=0.672, AUC=0.737, val_acc=0.725, val_AUC=0.774]\n"
     ]
    },
    {
     "name": "stdout",
     "output_type": "stream",
     "text": [
      "tensor([-0.2563,  0.0992,  1.0501,  0.2036, -0.1461, -0.0033,  0.3054,  0.1861,\n",
      "         0.4138,  0.0272,  0.0244], device='cuda:0', grad_fn=<DivBackward0>)\n"
     ]
    },
    {
     "name": "stderr",
     "output_type": "stream",
     "text": [
      "Epoch 468: 100%|██████████| 3/3 [00:02<00:00,  1.05it/s, loss=19.6, acc=0.688, AUC=0.746, val_acc=0.701, val_AUC=0.771]\n"
     ]
    },
    {
     "name": "stdout",
     "output_type": "stream",
     "text": [
      "tensor([-2.5707e-01,  1.0301e-01,  1.0613e+00,  2.0243e-01, -1.5476e-01,\n",
      "         1.6921e-04,  3.1830e-01,  1.9423e-01,  4.1740e-01,  3.3951e-02,\n",
      "         3.3556e-02], device='cuda:0', grad_fn=<DivBackward0>)\n"
     ]
    },
    {
     "name": "stderr",
     "output_type": "stream",
     "text": [
      "Epoch 469: 100%|██████████| 3/3 [00:02<00:00,  1.07it/s, loss=19.7, acc=0.677, AUC=0.74, val_acc=0.701, val_AUC=0.777]\n"
     ]
    },
    {
     "name": "stdout",
     "output_type": "stream",
     "text": [
      "tensor([-2.5817e-01,  9.9753e-02,  1.0662e+00,  1.9532e-01, -1.4292e-01,\n",
      "         5.2294e-04,  3.1364e-01,  1.9163e-01,  4.1599e-01,  2.4952e-02,\n",
      "         2.8806e-02], device='cuda:0', grad_fn=<DivBackward0>)\n"
     ]
    },
    {
     "name": "stderr",
     "output_type": "stream",
     "text": [
      "Epoch 470: 100%|██████████| 3/3 [00:02<00:00,  1.07it/s, loss=19.6, acc=0.681, AUC=0.745, val_acc=0.698, val_AUC=0.758]\n"
     ]
    },
    {
     "name": "stdout",
     "output_type": "stream",
     "text": [
      "tensor([-0.2543,  0.1005,  1.0432,  0.2112, -0.1504,  0.0028,  0.3100,  0.1797,\n",
      "         0.4071,  0.0159,  0.0216], device='cuda:0', grad_fn=<DivBackward0>)\n"
     ]
    },
    {
     "name": "stderr",
     "output_type": "stream",
     "text": [
      "Epoch 471: 100%|██████████| 3/3 [00:02<00:00,  1.07it/s, loss=19.7, acc=0.675, AUC=0.742, val_acc=0.701, val_AUC=0.765]\n"
     ]
    },
    {
     "name": "stdout",
     "output_type": "stream",
     "text": [
      "tensor([-2.4635e-01,  9.6772e-02,  1.0543e+00,  2.0739e-01, -1.4144e-01,\n",
      "         3.3453e-05,  3.1498e-01,  1.8459e-01,  4.1329e-01,  2.3029e-02,\n",
      "         1.9057e-02], device='cuda:0', grad_fn=<DivBackward0>)\n"
     ]
    },
    {
     "name": "stderr",
     "output_type": "stream",
     "text": [
      "Epoch 472: 100%|██████████| 3/3 [00:02<00:00,  1.07it/s, loss=19.6, acc=0.681, AUC=0.743, val_acc=0.689, val_AUC=0.767]\n"
     ]
    },
    {
     "name": "stdout",
     "output_type": "stream",
     "text": [
      "tensor([-0.2453,  0.1041,  1.0699,  0.2086, -0.1335, -0.0071,  0.3163,  0.1935,\n",
      "         0.4215,  0.0166,  0.0356], device='cuda:0', grad_fn=<DivBackward0>)\n"
     ]
    },
    {
     "name": "stderr",
     "output_type": "stream",
     "text": [
      "Epoch 473: 100%|██████████| 3/3 [00:02<00:00,  1.05it/s, loss=19.7, acc=0.674, AUC=0.74, val_acc=0.692, val_AUC=0.768]\n"
     ]
    },
    {
     "name": "stdout",
     "output_type": "stream",
     "text": [
      "tensor([-0.2517,  0.1018,  1.0774,  0.2028, -0.1286, -0.0038,  0.3194,  0.1930,\n",
      "         0.4283,  0.0193,  0.0283], device='cuda:0', grad_fn=<DivBackward0>)\n"
     ]
    },
    {
     "name": "stderr",
     "output_type": "stream",
     "text": [
      "Epoch 474: 100%|██████████| 3/3 [00:02<00:00,  1.07it/s, loss=19.6, acc=0.676, AUC=0.746, val_acc=0.704, val_AUC=0.775]\n"
     ]
    },
    {
     "name": "stdout",
     "output_type": "stream",
     "text": [
      "tensor([-0.2596,  0.1061,  1.0908,  0.2088, -0.1366, -0.0075,  0.3198,  0.2007,\n",
      "         0.4280,  0.0219,  0.0330], device='cuda:0', grad_fn=<DivBackward0>)\n"
     ]
    },
    {
     "name": "stderr",
     "output_type": "stream",
     "text": [
      "Epoch 475: 100%|██████████| 3/3 [00:02<00:00,  1.07it/s, loss=19.6, acc=0.679, AUC=0.744, val_acc=0.704, val_AUC=0.758]\n"
     ]
    },
    {
     "name": "stdout",
     "output_type": "stream",
     "text": [
      "tensor([-0.2664,  0.1011,  1.0951,  0.1981, -0.1305, -0.0016,  0.3244,  0.2050,\n",
      "         0.4352,  0.0143,  0.0411], device='cuda:0', grad_fn=<DivBackward0>)\n"
     ]
    },
    {
     "name": "stderr",
     "output_type": "stream",
     "text": [
      "Epoch 476: 100%|██████████| 3/3 [00:02<00:00,  1.07it/s, loss=19.6, acc=0.679, AUC=0.743, val_acc=0.692, val_AUC=0.774]\n"
     ]
    },
    {
     "name": "stdout",
     "output_type": "stream",
     "text": [
      "tensor([-0.2544,  0.1026,  1.0885,  0.2101, -0.1265, -0.0055,  0.3323,  0.1963,\n",
      "         0.4294,  0.0139,  0.0350], device='cuda:0', grad_fn=<DivBackward0>)\n"
     ]
    },
    {
     "name": "stderr",
     "output_type": "stream",
     "text": [
      "Epoch 477: 100%|██████████| 3/3 [00:02<00:00,  1.07it/s, loss=19.6, acc=0.688, AUC=0.742, val_acc=0.689, val_AUC=0.773]\n"
     ]
    },
    {
     "name": "stdout",
     "output_type": "stream",
     "text": [
      "tensor([-0.2612,  0.1080,  1.0827,  0.2030, -0.1201, -0.0089,  0.3298,  0.1976,\n",
      "         0.4253,  0.0129,  0.0303], device='cuda:0', grad_fn=<DivBackward0>)\n"
     ]
    },
    {
     "name": "stderr",
     "output_type": "stream",
     "text": [
      "Epoch 478: 100%|██████████| 3/3 [00:02<00:00,  1.05it/s, loss=19.5, acc=0.68, AUC=0.749, val_acc=0.698, val_AUC=0.767]\n"
     ]
    },
    {
     "name": "stdout",
     "output_type": "stream",
     "text": [
      "tensor([-0.2648,  0.1019,  1.0723,  0.2016, -0.1220, -0.0078,  0.3204,  0.1966,\n",
      "         0.4275,  0.0197,  0.0358], device='cuda:0', grad_fn=<DivBackward0>)\n"
     ]
    },
    {
     "name": "stderr",
     "output_type": "stream",
     "text": [
      "Epoch 479: 100%|██████████| 3/3 [00:02<00:00,  1.07it/s, loss=19.7, acc=0.686, AUC=0.743, val_acc=0.722, val_AUC=0.772]\n"
     ]
    },
    {
     "name": "stdout",
     "output_type": "stream",
     "text": [
      "tensor([-0.2644,  0.1014,  1.0847,  0.2008, -0.1384, -0.0089,  0.3197,  0.2045,\n",
      "         0.4346,  0.0171,  0.0329], device='cuda:0', grad_fn=<DivBackward0>)\n"
     ]
    },
    {
     "name": "stderr",
     "output_type": "stream",
     "text": [
      "Epoch 480: 100%|██████████| 3/3 [00:02<00:00,  1.07it/s, loss=19.7, acc=0.679, AUC=0.741, val_acc=0.695, val_AUC=0.772]\n"
     ]
    },
    {
     "name": "stdout",
     "output_type": "stream",
     "text": [
      "tensor([-0.2561,  0.1032,  1.0872,  0.2112, -0.1232, -0.0098,  0.3286,  0.2011,\n",
      "         0.4272,  0.0248,  0.0430], device='cuda:0', grad_fn=<DivBackward0>)\n"
     ]
    },
    {
     "name": "stderr",
     "output_type": "stream",
     "text": [
      "Epoch 481: 100%|██████████| 3/3 [00:02<00:00,  1.07it/s, loss=19.7, acc=0.686, AUC=0.742, val_acc=0.698, val_AUC=0.767]\n"
     ]
    },
    {
     "name": "stdout",
     "output_type": "stream",
     "text": [
      "tensor([-0.2529,  0.0973,  1.0735,  0.2062, -0.1316, -0.0019,  0.3249,  0.1962,\n",
      "         0.4233,  0.0278,  0.0272], device='cuda:0', grad_fn=<DivBackward0>)\n"
     ]
    },
    {
     "name": "stderr",
     "output_type": "stream",
     "text": [
      "Epoch 482: 100%|██████████| 3/3 [00:02<00:00,  1.07it/s, loss=19.5, acc=0.681, AUC=0.746, val_acc=0.698, val_AUC=0.776]\n"
     ]
    },
    {
     "name": "stdout",
     "output_type": "stream",
     "text": [
      "tensor([-0.2636,  0.1050,  1.0882,  0.2067, -0.1326, -0.0070,  0.3286,  0.2074,\n",
      "         0.4328,  0.0229,  0.0240], device='cuda:0', grad_fn=<DivBackward0>)\n"
     ]
    },
    {
     "name": "stderr",
     "output_type": "stream",
     "text": [
      "Epoch 483: 100%|██████████| 3/3 [00:02<00:00,  1.05it/s, loss=19.6, acc=0.682, AUC=0.745, val_acc=0.695, val_AUC=0.77]\n"
     ]
    },
    {
     "name": "stdout",
     "output_type": "stream",
     "text": [
      "tensor([-0.2627,  0.0981,  1.0821,  0.2042, -0.1355, -0.0015,  0.3237,  0.2044,\n",
      "         0.4361,  0.0250,  0.0360], device='cuda:0', grad_fn=<DivBackward0>)\n"
     ]
    },
    {
     "name": "stderr",
     "output_type": "stream",
     "text": [
      "Epoch 484: 100%|██████████| 3/3 [00:02<00:00,  1.07it/s, loss=19.6, acc=0.679, AUC=0.743, val_acc=0.713, val_AUC=0.776]\n"
     ]
    },
    {
     "name": "stdout",
     "output_type": "stream",
     "text": [
      "tensor([-0.2566,  0.1015,  1.0787,  0.2001, -0.1365, -0.0038,  0.3204,  0.2050,\n",
      "         0.4270,  0.0247,  0.0346], device='cuda:0', grad_fn=<DivBackward0>)\n"
     ]
    },
    {
     "name": "stderr",
     "output_type": "stream",
     "text": [
      "Epoch 485: 100%|██████████| 3/3 [00:02<00:00,  1.07it/s, loss=19.7, acc=0.679, AUC=0.742, val_acc=0.698, val_AUC=0.77]\n"
     ]
    },
    {
     "name": "stdout",
     "output_type": "stream",
     "text": [
      "tensor([-0.2637,  0.0976,  1.0753,  0.1991, -0.1422, -0.0023,  0.3271,  0.2021,\n",
      "         0.4270,  0.0234,  0.0310], device='cuda:0', grad_fn=<DivBackward0>)\n"
     ]
    },
    {
     "name": "stderr",
     "output_type": "stream",
     "text": [
      "Epoch 486: 100%|██████████| 3/3 [00:02<00:00,  1.07it/s, loss=19.6, acc=0.679, AUC=0.745, val_acc=0.698, val_AUC=0.765]\n"
     ]
    },
    {
     "name": "stdout",
     "output_type": "stream",
     "text": [
      "tensor([-0.2584,  0.1017,  1.0710,  0.2037, -0.1398,  0.0039,  0.3269,  0.2036,\n",
      "         0.4229,  0.0270,  0.0338], device='cuda:0', grad_fn=<DivBackward0>)\n"
     ]
    },
    {
     "name": "stderr",
     "output_type": "stream",
     "text": [
      "Epoch 487: 100%|██████████| 3/3 [00:02<00:00,  1.07it/s, loss=19.6, acc=0.683, AUC=0.746, val_acc=0.701, val_AUC=0.768]\n"
     ]
    },
    {
     "name": "stdout",
     "output_type": "stream",
     "text": [
      "tensor([-0.2532,  0.0913,  1.0527,  0.2013, -0.1358, -0.0041,  0.3172,  0.1950,\n",
      "         0.4198,  0.0351,  0.0301], device='cuda:0', grad_fn=<DivBackward0>)\n"
     ]
    },
    {
     "name": "stderr",
     "output_type": "stream",
     "text": [
      "Epoch 488: 100%|██████████| 3/3 [00:02<00:00,  1.05it/s, loss=19.7, acc=0.679, AUC=0.742, val_acc=0.689, val_AUC=0.755]\n"
     ]
    },
    {
     "name": "stdout",
     "output_type": "stream",
     "text": [
      "tensor([-0.2386,  0.0980,  1.0550,  0.2198, -0.1414,  0.0019,  0.3168,  0.1818,\n",
      "         0.4224,  0.0323,  0.0265], device='cuda:0', grad_fn=<DivBackward0>)\n"
     ]
    },
    {
     "name": "stderr",
     "output_type": "stream",
     "text": [
      "Epoch 489: 100%|██████████| 3/3 [00:02<00:00,  1.07it/s, loss=19.6, acc=0.684, AUC=0.747, val_acc=0.689, val_AUC=0.756]\n"
     ]
    },
    {
     "name": "stdout",
     "output_type": "stream",
     "text": [
      "tensor([-0.2474,  0.0922,  1.0553,  0.2093, -0.1446, -0.0064,  0.3139,  0.1860,\n",
      "         0.4185,  0.0337,  0.0208], device='cuda:0', grad_fn=<DivBackward0>)\n"
     ]
    },
    {
     "name": "stderr",
     "output_type": "stream",
     "text": [
      "Epoch 490: 100%|██████████| 3/3 [00:02<00:00,  1.07it/s, loss=19.6, acc=0.683, AUC=0.746, val_acc=0.71, val_AUC=0.778]\n"
     ]
    },
    {
     "name": "stdout",
     "output_type": "stream",
     "text": [
      "tensor([-2.3777e-01,  9.0878e-02,  1.0520e+00,  2.1186e-01, -1.3623e-01,\n",
      "         9.1678e-04,  3.1283e-01,  1.8303e-01,  4.2399e-01,  2.6136e-02,\n",
      "         1.9469e-02], device='cuda:0', grad_fn=<DivBackward0>)\n"
     ]
    },
    {
     "name": "stderr",
     "output_type": "stream",
     "text": [
      "Epoch 491: 100%|██████████| 3/3 [00:02<00:00,  1.07it/s, loss=19.6, acc=0.68, AUC=0.745, val_acc=0.698, val_AUC=0.775]\n"
     ]
    },
    {
     "name": "stdout",
     "output_type": "stream",
     "text": [
      "tensor([-0.2410,  0.0955,  1.0394,  0.2160, -0.1389, -0.0066,  0.3134,  0.1742,\n",
      "         0.4195,  0.0235,  0.0122], device='cuda:0', grad_fn=<DivBackward0>)\n"
     ]
    },
    {
     "name": "stderr",
     "output_type": "stream",
     "text": [
      "Epoch 492: 100%|██████████| 3/3 [00:02<00:00,  1.07it/s, loss=19.5, acc=0.683, AUC=0.747, val_acc=0.695, val_AUC=0.765]\n"
     ]
    },
    {
     "name": "stdout",
     "output_type": "stream",
     "text": [
      "tensor([-0.2341,  0.0979,  1.0537,  0.2248, -0.1388, -0.0046,  0.3116,  0.1805,\n",
      "         0.4190,  0.0309,  0.0195], device='cuda:0', grad_fn=<DivBackward0>)\n"
     ]
    },
    {
     "name": "stderr",
     "output_type": "stream",
     "text": [
      "Epoch 493: 100%|██████████| 3/3 [00:02<00:00,  1.05it/s, loss=19.5, acc=0.682, AUC=0.747, val_acc=0.68, val_AUC=0.754]\n"
     ]
    },
    {
     "name": "stdout",
     "output_type": "stream",
     "text": [
      "tensor([-0.2491,  0.0978,  1.0688,  0.2073, -0.1364, -0.0025,  0.3169,  0.1941,\n",
      "         0.4247,  0.0316,  0.0251], device='cuda:0', grad_fn=<DivBackward0>)\n"
     ]
    },
    {
     "name": "stderr",
     "output_type": "stream",
     "text": [
      "Epoch 494: 100%|██████████| 3/3 [00:02<00:00,  1.07it/s, loss=19.6, acc=0.679, AUC=0.743, val_acc=0.71, val_AUC=0.763]\n"
     ]
    },
    {
     "name": "stdout",
     "output_type": "stream",
     "text": [
      "tensor([-0.2386,  0.0977,  1.0727,  0.2046, -0.1391, -0.0110,  0.3119,  0.1861,\n",
      "         0.4348,  0.0196,  0.0299], device='cuda:0', grad_fn=<DivBackward0>)\n"
     ]
    },
    {
     "name": "stderr",
     "output_type": "stream",
     "text": [
      "Epoch 495: 100%|██████████| 3/3 [00:02<00:00,  1.07it/s, loss=19.5, acc=0.677, AUC=0.745, val_acc=0.698, val_AUC=0.762]\n"
     ]
    },
    {
     "name": "stdout",
     "output_type": "stream",
     "text": [
      "tensor([-2.4943e-01,  9.6441e-02,  1.0824e+00,  2.0561e-01, -1.4457e-01,\n",
      "         8.5351e-04,  3.1305e-01,  1.8895e-01,  4.3752e-01,  2.5059e-02,\n",
      "         3.3683e-02], device='cuda:0', grad_fn=<DivBackward0>)\n"
     ]
    },
    {
     "name": "stderr",
     "output_type": "stream",
     "text": [
      "Epoch 496: 100%|██████████| 3/3 [00:02<00:00,  1.07it/s, loss=19.6, acc=0.676, AUC=0.742, val_acc=0.713, val_AUC=0.766]\n"
     ]
    },
    {
     "name": "stdout",
     "output_type": "stream",
     "text": [
      "tensor([-0.2473,  0.0933,  1.0734,  0.2129, -0.1414, -0.0059,  0.3136,  0.1913,\n",
      "         0.4280,  0.0235,  0.0309], device='cuda:0', grad_fn=<DivBackward0>)\n"
     ]
    },
    {
     "name": "stderr",
     "output_type": "stream",
     "text": [
      "Epoch 497: 100%|██████████| 3/3 [00:02<00:00,  1.07it/s, loss=19.5, acc=0.682, AUC=0.747, val_acc=0.692, val_AUC=0.764]\n"
     ]
    },
    {
     "name": "stdout",
     "output_type": "stream",
     "text": [
      "tensor([-0.2453,  0.0959,  1.0897,  0.2113, -0.1409, -0.0094,  0.3217,  0.1918,\n",
      "         0.4323,  0.0208,  0.0257], device='cuda:0', grad_fn=<DivBackward0>)\n"
     ]
    },
    {
     "name": "stderr",
     "output_type": "stream",
     "text": [
      "Epoch 498: 100%|██████████| 3/3 [00:02<00:00,  1.05it/s, loss=19.6, acc=0.679, AUC=0.743, val_acc=0.713, val_AUC=0.773]\n"
     ]
    },
    {
     "name": "stdout",
     "output_type": "stream",
     "text": [
      "tensor([-0.2568,  0.1007,  1.1115,  0.2135, -0.1352, -0.0051,  0.3290,  0.2044,\n",
      "         0.4423,  0.0201,  0.0286], device='cuda:0', grad_fn=<DivBackward0>)\n"
     ]
    },
    {
     "name": "stderr",
     "output_type": "stream",
     "text": [
      "Epoch 499: 100%|██████████| 3/3 [00:02<00:00,  1.07it/s, loss=19.6, acc=0.686, AUC=0.745, val_acc=0.689, val_AUC=0.772]\n"
     ]
    },
    {
     "name": "stdout",
     "output_type": "stream",
     "text": [
      "tensor([-0.2583,  0.1048,  1.1013,  0.2111, -0.1360, -0.0080,  0.3236,  0.1997,\n",
      "         0.4378,  0.0237,  0.0330], device='cuda:0', grad_fn=<DivBackward0>)\n"
     ]
    },
    {
     "name": "stderr",
     "output_type": "stream",
     "text": [
      "Epoch 500: 100%|██████████| 3/3 [00:02<00:00,  1.07it/s, loss=19.6, acc=0.679, AUC=0.744, val_acc=0.698, val_AUC=0.766]\n"
     ]
    },
    {
     "name": "stdout",
     "output_type": "stream",
     "text": [
      "tensor([-2.4817e-01,  9.9815e-02,  1.0713e+00,  2.1352e-01, -1.3951e-01,\n",
      "         1.6382e-04,  3.0825e-01,  1.8092e-01,  4.2002e-01,  3.0740e-02,\n",
      "         1.6053e-02], device='cuda:0', grad_fn=<DivBackward0>)\n",
      "test_acc: 0.6624405980110168\n",
      "test_auc: 0.7300741427247451\n",
      "-----------------------------------------\n"
     ]
    },
    {
     "name": "stderr",
     "output_type": "stream",
     "text": [
      "wandb: WARNING Source type is set to 'repo' but some required information is missing from the environment. A job will not be created from this run. See https://docs.wandb.ai/guides/launch/create-job\n"
     ]
    },
    {
     "name": "stdout",
     "output_type": "stream",
     "text": [
      "==================[done]==================\n"
     ]
    }
   ],
   "source": [
    "train_K_fold(get_run_config())"
   ]
  },
  {
   "cell_type": "markdown",
   "metadata": {},
   "source": []
  },
  {
   "cell_type": "markdown",
   "metadata": {},
   "source": []
  },
  {
   "cell_type": "code",
   "execution_count": 6,
   "metadata": {},
   "outputs": [
    {
     "name": "stdout",
     "output_type": "stream",
     "text": [
      "tensor([-0.2180,  0.1111,  1.0623,  0.2223, -0.1421, -0.0055,  0.3259,  0.1871,\n",
      "         0.4160,  0.0243,  0.0188])\n"
     ]
    },
    {
     "data": {
      "image/png": "[encoded data removed]",
      "text/plain": [
       "<Figure size 800x600 with 1 Axes>"
      ]
     },
     "metadata": {},
     "output_type": "display_data"
    }
   ],
   "source": [
    "\n",
    "importance = get_feature_importance_extractor().get().cpu()\n",
    "print(importance)\n",
    "importance = importance.softmax(dim=0).detach().numpy()\n",
    "import matplotlib.pyplot as plt\n",
    "# 可视化特征重要性\n",
    "plt.figure(figsize=(8, 6))\n",
    "plt.barh(range(len(importance)), importance, align='center')\n",
    "plt.yticks(range(len(importance)))\n",
    "plt.xlabel('Feature Importance')\n",
    "plt.ylabel('Features')\n",
    "plt.show()"
   ]
  }
 ],
 "metadata": {
  "kernelspec": {
   "display_name": "GNN",
   "language": "python",
   "name": "python3"
  },
  "language_info": {
   "codemirror_mode": {
    "name": "ipython",
    "version": 3
   },
   "file_extension": ".py",
   "mimetype": "text/x-python",
   "name": "python",
   "nbconvert_exporter": "python",
   "pygments_lexer": "ipython3",
   "version": "3.10.12"
  },
  "orig_nbformat": 4
 },
 "nbformat": 4,
 "nbformat_minor": 2
}
